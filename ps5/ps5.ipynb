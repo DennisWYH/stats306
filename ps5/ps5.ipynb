{
 "cells": [
  {
   "cell_type": "markdown",
   "metadata": {},
   "source": [
    "Before you turn this problem set in, make sure everything runs as expected. First, **restart the kernel** (in the menubar, select Kernel$\\rightarrow$Restart) and then **run all cells** (in the menubar, select Cell$\\rightarrow$Run All). Your code should run from top to bottom with no errors. Failure to do this will result in loss of points.\n",
    "\n",
    "You should not use `install.packages()` anywhere. You may assume that we have already installed all the packages needed to run your code.\n",
    "\n",
    "Make sure you fill in any place that says `YOUR CODE HERE` or \"YOUR ANSWER HERE\" and delete the `stop()` functions, as well as your name and collaborators below:"
   ]
  },
  {
   "cell_type": "code",
   "execution_count": null,
   "metadata": {},
   "outputs": [],
   "source": [
    "NAME = \"\"  # your uniqname \n",
    "COLLABORATORS = c()  # vector of uniqnames of your collaborators, if any\n",
    "## IMPORTANT: you must also have set your group on Canvas. This is only used as a backup."
   ]
  },
  {
   "cell_type": "markdown",
   "metadata": {},
   "source": [
    "---"
   ]
  },
  {
   "cell_type": "code",
   "execution_count": null,
   "metadata": {
    "deletable": false,
    "editable": false,
    "nbgrader": {
     "checksum": "394419aeff14224d9096e343ad578cd9",
     "grade": false,
     "grade_id": "cell-0db47e46f3f3b906",
     "locked": true,
     "schema_version": 1,
     "solution": false
    }
   },
   "outputs": [],
   "source": [
    "library(tidyverse)"
   ]
  },
  {
   "cell_type": "markdown",
   "metadata": {
    "deletable": false,
    "editable": false,
    "nbgrader": {
     "checksum": "b1e5c80ed5008eaa6cc6209be757f210",
     "grade": false,
     "grade_id": "cell-64b4d6326575c98f",
     "locked": true,
     "schema_version": 1,
     "solution": false
    }
   },
   "source": [
    "# STATS 306\n",
    "## Problem Set 5: Tidy Data\n",
    "Each question is worth two points, for a total of 10.\n",
    "\n",
    "(This problem set is half as long as usual. So as not to cut into your study break, it is due one day earlier than normal, on **Sunday night at 11:59pm**.)"
   ]
  },
  {
   "cell_type": "markdown",
   "metadata": {
    "deletable": false,
    "editable": false,
    "nbgrader": {
     "checksum": "cd74a2f34d74ea50d30b756503ab1f2b",
     "grade": false,
     "grade_id": "cell-8f19680a4df323f6",
     "locked": true,
     "schema_version": 1,
     "solution": false
    }
   },
   "source": [
    "Problems 1-4 look at a dataset called `UCBAdmissions`. This contains graduate school admissions data from 1973 for six departments at UC Berkeley:"
   ]
  },
  {
   "cell_type": "code",
   "execution_count": null,
   "metadata": {
    "deletable": false,
    "editable": false,
    "nbgrader": {
     "checksum": "f859a5d68539761488b1df4a18b71322",
     "grade": false,
     "grade_id": "cell-b0c4e3f76e4e3c28",
     "locked": true,
     "schema_version": 1,
     "solution": false
    }
   },
   "outputs": [],
   "source": [
    "data(UCBAdmissions)\n",
    "ucb <- tbl_df(UCBAdmissions) %>% print"
   ]
  },
  {
   "cell_type": "markdown",
   "metadata": {
    "deletable": false,
    "editable": false,
    "nbgrader": {
     "checksum": "e2552f310343e89bcbc3f71b761ae4e1",
     "grade": false,
     "grade_id": "cell-87cba8e8d750cc97",
     "locked": true,
     "schema_version": 1,
     "solution": false
    }
   },
   "source": [
    "(For privacy reasons the names of the departments have been changed to `A`, `B`, ... , `F`.)"
   ]
  },
  {
   "cell_type": "markdown",
   "metadata": {
    "deletable": false,
    "editable": false,
    "nbgrader": {
     "checksum": "881ce6bde277c8b7b4b239e324d53b72",
     "grade": false,
     "grade_id": "cell-b77855b64eeeba94",
     "locked": true,
     "schema_version": 1,
     "solution": false
    }
   },
   "source": [
    "### Problem 1 (2 pts.)\n",
    "Using the tool(s) we learned for summarizing and manipulating tidy data, create a summary table from `ucb` which shows the acceptance rate by gender. Your table should have four columns: `Gender`, `Admitted`, `Rejected`, and `Acceptance Proportion` (the fraction of accepted applicants within each gender) and should look like this:"
   ]
  },
  {
   "cell_type": "markdown",
   "metadata": {
    "deletable": false,
    "editable": false,
    "nbgrader": {
     "checksum": "67966537721b40eceb7688af969b8d23",
     "grade": false,
     "grade_id": "cell-65e2e78d3caf4239",
     "locked": true,
     "schema_version": 1,
     "solution": false
    }
   },
   "source": [
    "<table>\n",
    "<thead><tr><th scope=\"col\">Gender</th><th scope=\"col\">Admitted</th><th scope=\"col\">Rejected</th><th scope=\"col\">Acceptance Proportion</th></tr></thead>\n",
    "<tbody>\n",
    "\t<tr><td>Female   </td><td> 557     </td><td>&dash;     </td><td>&dash;</td></tr>\n",
    "\t<tr><td>Male     </td><td> &dash;     </td><td>&dash;     </td><td>0.4451877</td></tr>\n",
    "</tbody>\n",
    "</table>"
   ]
  },
  {
   "cell_type": "markdown",
   "metadata": {
    "deletable": false,
    "editable": false,
    "nbgrader": {
     "checksum": "579885aed35f8b586d9486a85ba10f23",
     "grade": false,
     "grade_id": "cell-2a25890b512d22b1",
     "locked": true,
     "schema_version": 1,
     "solution": false
    }
   },
   "source": [
    "(A few entries have been provided for you; your job is to write code that will produce the complete table with no blanks.)\n",
    "\n",
    "Store the resulting tibble in a variable called `table1`."
   ]
  },
  {
   "cell_type": "code",
   "execution_count": null,
   "metadata": {
    "deletable": false,
    "nbgrader": {
     "checksum": "8b696f3d947f98c332b66e60515d9f86",
     "grade": false,
     "grade_id": "cell-85124b532f6aa64a",
     "locked": false,
     "schema_version": 1,
     "solution": true
    }
   },
   "outputs": [],
   "source": [
    "table1 <- NA\n",
    "# YOUR CODE HERE\n",
    "stop()"
   ]
  },
  {
   "cell_type": "code",
   "execution_count": null,
   "metadata": {
    "deletable": false,
    "editable": false,
    "nbgrader": {
     "checksum": "627127970130251486ad90742676cbbe",
     "grade": true,
     "grade_id": "cell-468633dd5cb397be",
     "locked": true,
     "points": 2,
     "schema_version": 1,
     "solution": false
    }
   },
   "outputs": [],
   "source": [
    "stopifnot(exists(\"table1\"))\n",
    "stopifnot(table1[1,\"Admitted\"] == 557L)\n",
    "stopifnot(near(table1[[2,\"Acceptance Proportion\"]], .4451877, tol = 1e-3))"
   ]
  },
  {
   "cell_type": "markdown",
   "metadata": {
    "deletable": false,
    "editable": false,
    "nbgrader": {
     "checksum": "f3b1a9999646ec7b06a16b7900e21a6d",
     "grade": false,
     "grade_id": "cell-75f771c5301f461f",
     "locked": true,
     "schema_version": 1,
     "solution": false
    }
   },
   "source": [
    "### Problem 2 (2 pts.)\n",
    "In STATS 250 you [learned](https://www.youtube.com/watch?v=6gfMhsWmnwk) how to test for differences in proportions between two populations. Apply this to Problem 1. Was the overall acceptance proportion for men statistically different from that of women? Perform an appropriate test and interpret your findings. What do these result suggest about admissions practices at UC Berkeley in the early 1970s?"
   ]
  },
  {
   "cell_type": "markdown",
   "metadata": {
    "deletable": false,
    "nbgrader": {
     "checksum": "6c35fd8d401c0c75bbb5cc263b6b9f75",
     "grade": true,
     "grade_id": "cell-fde0f762d6badb20",
     "locked": false,
     "points": 2,
     "schema_version": 1,
     "solution": true
    }
   },
   "source": [
    "YOUR ANSWER HERE"
   ]
  },
  {
   "cell_type": "markdown",
   "metadata": {
    "deletable": false,
    "editable": false,
    "nbgrader": {
     "checksum": "1988e693271efbd3e2eb559995f65f9c",
     "grade": false,
     "grade_id": "cell-07515221ed1f2c60",
     "locked": true,
     "schema_version": 1,
     "solution": false
    }
   },
   "source": [
    "### Problem 3 (2 pts.)\n",
    "Reproduce the table from Problem 1, but now stratify by department. \n",
    "Compute the male and female acceptance proportion for each department separately.\n",
    "Your resulting table should look like:"
   ]
  },
  {
   "cell_type": "markdown",
   "metadata": {
    "deletable": false,
    "editable": false,
    "nbgrader": {
     "checksum": "a9d3d864ab145abc98b5c10819809f51",
     "grade": false,
     "grade_id": "cell-9efe9c3df54d99a3",
     "locked": true,
     "schema_version": 1,
     "solution": false
    }
   },
   "source": [
    "\n",
    "<table>\n",
    "<thead><tr><th scope=\"col\">Dept</th><th scope=\"col\">Female_Admitted</th><th scope=\"col\">Female_Rejected</th><th scope=\"col\">Male_Admitted</th><th scope=\"col\">Male_Rejected</th><th scope=\"col\">Male_Accept_Proportion</th><th scope=\"col\">Female_Accept_Proportion</th></tr></thead>\n",
    "<tbody>\n",
    "\t<tr><td>A         </td><td> 89      </td><td> &dash;       </td><td>&dash;       </td><td>&dash;       </td><td>&dash;</td><td>&dash;</td></tr>\n",
    "\t<tr><td>B         </td><td> &dash;       </td><td>  &dash;       </td><td>353</td><td>&dash;       </td><td>&dash;</td><td>&dash;</td></tr>\n",
    "\t<tr><td>C         </td><td> &dash;       </td><td>  391\t     </td><td>&dash;</td><td>&dash;       </td><td>&dash;</td><td>&dash;</td></tr>\n",
    "\t<tr><td>D         </td><td> &dash;       </td><td>  &dash;       </td><td>&dash;</td><td>&dash;       </td><td>0.33093525\t</td><td>&dash;</td></tr>\n",
    "\t<tr><td>E         </td><td> &dash;       </td><td>  &dash;       </td><td>&dash;</td><td>138       </td><td>&dash;</td><td>&dash;</td></tr>\n",
    " \t<tr><td>F         </td><td> &dash;       </td><td>  &dash;       </td><td>&dash;</td><td>&dash;       </td><td>&dash;</td><td>0.07038123</td></tr>\n",
    "\n",
    "</tbody>\n",
    "</table>"
   ]
  },
  {
   "cell_type": "markdown",
   "metadata": {
    "deletable": false,
    "editable": false,
    "nbgrader": {
     "checksum": "d6fcc318fea423fab7564b987bff66e1",
     "grade": false,
     "grade_id": "cell-e78ce330ce7ddef2",
     "locked": true,
     "schema_version": 1,
     "solution": false
    }
   },
   "source": [
    "(Again, a few table entries have been provided to help you check your work, and it is your job to provide code that computes the entire table automatically.)\n",
    "\n",
    "Store your resulting table in a variable called `table3`."
   ]
  },
  {
   "cell_type": "code",
   "execution_count": null,
   "metadata": {
    "deletable": false,
    "nbgrader": {
     "checksum": "d81721da64ca2f72c0a2b1cda814e468",
     "grade": false,
     "grade_id": "cell-9e179508f192cdf1",
     "locked": false,
     "schema_version": 1,
     "solution": true
    }
   },
   "outputs": [],
   "source": [
    "table3 <- NA\n",
    "# YOUR CODE HERE\n",
    "stop()"
   ]
  },
  {
   "cell_type": "code",
   "execution_count": null,
   "metadata": {
    "deletable": false,
    "editable": false,
    "nbgrader": {
     "checksum": "e1e7fba8348ce33fddd1aa1c72fe9fad",
     "grade": true,
     "grade_id": "cell-aeef2c139ffc8832",
     "locked": true,
     "points": 2,
     "schema_version": 1,
     "solution": false
    }
   },
   "outputs": [],
   "source": [
    "stopifnot(table3[[1, \"Female_Admitted\"]] == 89L)\n",
    "stopifnot(table3[[2, \"Male_Admitted\"]] == 353L)\n",
    "stopifnot(table3[[3, \"Female_Rejected\"]] == 391L)\n",
    "stopifnot(near(table3[[4, \"Male_Accept_Proportion\"]], 0.33093525, tol=1e-6))\n",
    "stopifnot(table3[[5, \"Male_Rejected\"]] == 138L)\n",
    "stopifnot(near(table3[[6, \"Female_Accept_Proportion\"]], 0.07038123, tol=1e-6))"
   ]
  },
  {
   "cell_type": "markdown",
   "metadata": {
    "deletable": false,
    "editable": false,
    "nbgrader": {
     "checksum": "57cd1d655b8f23f464ce530c600bf0e2",
     "grade": false,
     "grade_id": "cell-0d99feee732b4273",
     "locked": true,
     "schema_version": 1,
     "solution": false
    }
   },
   "source": [
    "### Problem 4 (2 pts.)\n",
    "Do the department-level findings in Problem 3 agree or disagree with what you concluded in Problem 2? Explain your reasoning."
   ]
  },
  {
   "cell_type": "markdown",
   "metadata": {
    "deletable": false,
    "nbgrader": {
     "checksum": "091bea41f10cb1743d9f54069230b661",
     "grade": true,
     "grade_id": "cell-ba1496ddc8091043",
     "locked": false,
     "points": 2,
     "schema_version": 1,
     "solution": true
    }
   },
   "source": [
    "YOUR ANSWER HERE"
   ]
  },
  {
   "cell_type": "markdown",
   "metadata": {
    "deletable": false,
    "editable": false,
    "nbgrader": {
     "checksum": "cb901344ca8ac4ddd3b6ab87034e8f26",
     "grade": false,
     "grade_id": "cell-ba26bd441d588ed9",
     "locked": true,
     "schema_version": 1,
     "solution": false
    }
   },
   "source": [
    "### Problem 5 (2 pts.)\n",
    "The file `nottem.csv` contains monthly average air temperatures measured at Nottingham Castle for 20 years:"
   ]
  },
  {
   "cell_type": "code",
   "execution_count": null,
   "metadata": {
    "deletable": false,
    "editable": false,
    "nbgrader": {
     "checksum": "348cd30ee7bfcd4c34f0fa9b0cf30cf5",
     "grade": false,
     "grade_id": "cell-982d56bc545325c2",
     "locked": true,
     "schema_version": 1,
     "solution": false
    }
   },
   "outputs": [],
   "source": [
    "nottem <- read_csv(\"nottem.csv\")\n",
    "print(nottem)"
   ]
  },
  {
   "attachments": {
    "image.png": {
     "image/png": "[encoded data removed]"
    }
   },
   "cell_type": "markdown",
   "metadata": {
    "deletable": false,
    "editable": false,
    "nbgrader": {
     "checksum": "d2cd1d0a4ab4d7296ec575781a92b72d",
     "grade": false,
     "grade_id": "cell-c694421136ede6a3",
     "locked": true,
     "schema_version": 1,
     "solution": false
    }
   },
   "source": [
    "Convert these data to tidy format, and use them to create the following plot of the temperature over this time period:\n",
    "![image.png](attachment:image.png)"
   ]
  },
  {
   "cell_type": "code",
   "execution_count": null,
   "metadata": {
    "deletable": false,
    "nbgrader": {
     "checksum": "8ba110a5a73aca978da47ca9ddf9a753",
     "grade": true,
     "grade_id": "cell-f3922c11031ec47e",
     "locked": false,
     "points": 2,
     "schema_version": 1,
     "solution": true
    }
   },
   "outputs": [],
   "source": [
    "# YOUR CODE HERE\n",
    "stop()"
   ]
  }
 ],
 "metadata": {
  "kernelspec": {
   "display_name": "R",
   "language": "R",
   "name": "ir"
  },
  "language_info": {
   "codemirror_mode": "r",
   "file_extension": ".r",
   "mimetype": "text/x-r-source",
   "name": "R",
   "pygments_lexer": "r",
   "version": "3.4.3"
  }
 },
 "nbformat": 4,
 "nbformat_minor": 2
}
