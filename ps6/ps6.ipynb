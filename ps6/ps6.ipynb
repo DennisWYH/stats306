{
 "cells": [
  {
   "cell_type": "markdown",
   "metadata": {},
   "source": [
    "Before you turn this problem in, make sure everything runs as expected. First, **restart the kernel** (in the menubar, select Kernel$\\rightarrow$Restart) and then **run all cells** (in the menubar, select Cell$\\rightarrow$Run All). Your code should run from top to bottom with no errors. Failure to do this will result in loss of points.\n",
    "\n",
    "Make sure you fill in any place that says `YOUR CODE HERE` or \"YOUR ANSWER HERE\" and delete the `stop()` functions, as well as your name and collaborators below:"
   ]
  },
  {
   "cell_type": "code",
   "execution_count": null,
   "metadata": {},
   "outputs": [],
   "source": [
    "NAME = \"\"  # your uniqname \n",
    "COLLABORATORS = c()  # vector of uniqnames of your collaborators, if any\n",
    "## IMPORTANT: also enter your group information in Canvas when you upload the assignment"
   ]
  },
  {
   "cell_type": "markdown",
   "metadata": {},
   "source": [
    "---"
   ]
  },
  {
   "cell_type": "code",
   "execution_count": null,
   "metadata": {
    "deletable": false,
    "editable": false,
    "nbgrader": {
     "checksum": "872c259754b0af4fb7cbb004cd4247af",
     "grade": false,
     "grade_id": "cell-d1761bfdb43c7ec3",
     "locked": true,
     "schema_version": 1,
     "solution": false
    }
   },
   "outputs": [],
   "source": [
    "library(tidyverse)\n",
    "library(stringr)\n",
    "stopif = function(x, ...) { stopifnot(! x, ...)}"
   ]
  },
  {
   "cell_type": "markdown",
   "metadata": {
    "deletable": false,
    "editable": false,
    "nbgrader": {
     "checksum": "8465b0509c0dd543173a11c383a0d152",
     "grade": false,
     "grade_id": "cell-a2b64305f95add5c",
     "locked": true,
     "schema_version": 1,
     "solution": false
    }
   },
   "source": [
    "# STATS 306\n",
    "## Problem set 6: strings and regular expressions\n",
    "Each problem is worth two to four points, depending on difficulty, for a total of 20.\n",
    "\n",
    "*Note*: you do not need to use `install.packages()` in this notebook. You may assume that we have already installed all of the necessary packages when we run your code."
   ]
  },
  {
   "cell_type": "markdown",
   "metadata": {
    "deletable": false,
    "editable": false,
    "nbgrader": {
     "checksum": "b30ad786cccdc44001e9b54a04123382",
     "grade": false,
     "grade_id": "cell-38b79f91d7075473",
     "locked": true,
     "schema_version": 1,
     "solution": false
    }
   },
   "source": [
    "#### Problem 1\n",
    "Write a regular expression which matches words of the form `DcccccD`, where `D` is any digit and `c` is any lower case letter. The first and last digits do not have to be the same. Store your regular expression in a variable called `re1`."
   ]
  },
  {
   "cell_type": "code",
   "execution_count": null,
   "metadata": {
    "deletable": false,
    "nbgrader": {
     "checksum": "7463b1ee8498dc84df5a2781a0ddfbac",
     "grade": false,
     "grade_id": "cell-0d9b916810e2774f",
     "locked": false,
     "schema_version": 1,
     "solution": true
    }
   },
   "outputs": [],
   "source": [
    "re1 = NA\n",
    "# YOUR CODE HERE\n",
    "stop()"
   ]
  },
  {
   "cell_type": "code",
   "execution_count": null,
   "metadata": {
    "deletable": false,
    "editable": false,
    "nbgrader": {
     "checksum": "1119e5107009fc863fe82ac454b7fc08",
     "grade": true,
     "grade_id": "cell-85d34fe9eb2dfe61",
     "locked": true,
     "points": 2,
     "schema_version": 1,
     "solution": false
    }
   },
   "outputs": [],
   "source": [
    "matches = c(\"1abcde2\", \"1abcde1\", \"0fooof0\")  # these should match\n",
    "antimatches = c(\"f12300f\", \"any old words\", \"1a1\", \"2111112\", \"1234567890\")  # these should not match\n",
    "stopifnot(all(str_detect(matches, re1)))\n",
    "stopif(any(str_detect(antimatches, re1)))"
   ]
  },
  {
   "cell_type": "markdown",
   "metadata": {
    "deletable": false,
    "editable": false,
    "nbgrader": {
     "checksum": "0e89ebeb95c94d33c2df77f241e199e3",
     "grade": false,
     "grade_id": "cell-81cd47b44f8c370a",
     "locked": true,
     "schema_version": 1,
     "solution": false
    }
   },
   "source": [
    "#### Problem 2\n",
    "The *word-boundary* character class `\\b` matches the beginning and end of a word:"
   ]
  },
  {
   "cell_type": "code",
   "execution_count": null,
   "metadata": {
    "deletable": false,
    "editable": false,
    "nbgrader": {
     "checksum": "db6c4161ab8f3496724a0e75dd35dad8",
     "grade": false,
     "grade_id": "cell-73e3f9c1c7adc035",
     "locked": true,
     "schema_version": 1,
     "solution": false
    }
   },
   "outputs": [],
   "source": [
    "str_view_all(\"These are some words.\", \"\\\\b\")"
   ]
  },
  {
   "cell_type": "markdown",
   "metadata": {
    "deletable": false,
    "editable": false,
    "nbgrader": {
     "checksum": "5283dc60bc7bd134177e375d503d1617",
     "grade": false,
     "grade_id": "cell-e91ff6f2b9164e7d",
     "locked": true,
     "schema_version": 1,
     "solution": false
    }
   },
   "source": [
    "Use this character class to write a regular expression `re2` such that `str_count(s, re2)` counts the number of words in the string `s`. Here a word is defined a consecutive string of letters, numbers or underscores."
   ]
  },
  {
   "cell_type": "code",
   "execution_count": null,
   "metadata": {
    "deletable": false,
    "nbgrader": {
     "checksum": "469ebcd405a636e1cda34996a0f51f11",
     "grade": false,
     "grade_id": "cell-6c45be4ca1a4c459",
     "locked": false,
     "schema_version": 1,
     "solution": true
    }
   },
   "outputs": [],
   "source": [
    "# YOUR CODE HERE\n",
    "stop()"
   ]
  },
  {
   "cell_type": "code",
   "execution_count": null,
   "metadata": {
    "deletable": false,
    "editable": false,
    "nbgrader": {
     "checksum": "d41142e21645d29e3abc9715000a3784",
     "grade": true,
     "grade_id": "cell-baacec6c449245c2",
     "locked": true,
     "points": 3,
     "schema_version": 1,
     "solution": false
    }
   },
   "outputs": [],
   "source": [
    "stopifnot(all(\n",
    "    str_count(\n",
    "        c(\n",
    "            \"This sentence has five words.\",\n",
    "            \"   three words here!\",\n",
    "            \"\\tfour words found here...\",\n",
    "            \"hypenated-words count as two,\",\n",
    "            \"but under_scores do not\",\n",
    "            \"but isn't it true that contractions do? -- yes!\"\n",
    "         ),\n",
    "        re2) == \n",
    "    c(5, 3, 4, 5, 4, 9)\n",
    "))"
   ]
  },
  {
   "cell_type": "markdown",
   "metadata": {
    "deletable": false,
    "editable": false,
    "nbgrader": {
     "checksum": "23b85466807ba7a6422bf13b99381384",
     "grade": false,
     "grade_id": "cell-af3a689f4cd0142b",
     "locked": true,
     "schema_version": 1,
     "solution": false
    }
   },
   "source": [
    "#### Problem 3\n",
    "Write a regular expression which matches any word containing exactly two vowels, regardless of case. Store this regular expression in a variable named `re3`.\n",
    "\n",
    "*Hint*: See `?stringr::regex` for documentation on how to produce a case-insensitive regexp."
   ]
  },
  {
   "cell_type": "code",
   "execution_count": null,
   "metadata": {
    "deletable": false,
    "nbgrader": {
     "checksum": "9c49c22671828c28c0c01a6cf8fce730",
     "grade": false,
     "grade_id": "cell-eeac87ac199bca7e",
     "locked": false,
     "schema_version": 1,
     "solution": true
    }
   },
   "outputs": [],
   "source": [
    "# YOUR CODE HERE\n",
    "stop()"
   ]
  },
  {
   "cell_type": "code",
   "execution_count": null,
   "metadata": {
    "deletable": false,
    "editable": false,
    "nbgrader": {
     "checksum": "451738d3d37d0324894dd371c1e7d668",
     "grade": true,
     "grade_id": "cell-e4b6d4dc5a7f8f87",
     "locked": true,
     "points": 3,
     "schema_version": 1,
     "solution": false
    }
   },
   "outputs": [],
   "source": [
    "stopifnot(all(\n",
    "    str_detect(\n",
    "        c(\"one\", \"thrEe\", \"FOur\", \"FIVE\", \"seVen\", \"Eight\", \"nine\"),\n",
    "        re3\n",
    "        )\n",
    "    )\n",
    ")\n",
    "\n",
    "stopif(any(\n",
    "    str_detect(\n",
    "        c(\"two\", \"SIX\", \"TEN\", \"THirteeN\"),\n",
    "        re3\n",
    "    )\n",
    "))\n"
   ]
  },
  {
   "cell_type": "markdown",
   "metadata": {
    "deletable": false,
    "editable": false,
    "nbgrader": {
     "checksum": "ecbf2c7d970831d51452048c4be9a9ee",
     "grade": false,
     "grade_id": "cell-fcf7e9fd52c5e954",
     "locked": true,
     "schema_version": 1,
     "solution": false
    }
   },
   "source": [
    "#### Problem 4\n",
    "Write a regular expression which matches proper nouns. A proper noun is defined as one or more capitalized words, optionally separated by the word(s) \"and\", \"of\", \"the\", and/or \"by\".  Store your expression in a variable called `re4`. (If a capitalized word occurs at the beginning of a sentence, you may assume it is part of a proper noun.)"
   ]
  },
  {
   "cell_type": "code",
   "execution_count": null,
   "metadata": {
    "deletable": false,
    "nbgrader": {
     "checksum": "b978dc9b94c043370b00c44ef8bfcc47",
     "grade": false,
     "grade_id": "cell-b1af768b41430720",
     "locked": false,
     "schema_version": 1,
     "solution": true
    }
   },
   "outputs": [],
   "source": [
    "re4 = NA\n",
    "# YOUR CODE HERE\n",
    "stop()"
   ]
  },
  {
   "cell_type": "code",
   "execution_count": null,
   "metadata": {
    "deletable": false,
    "editable": false,
    "nbgrader": {
     "checksum": "f976595c0ed36a050499eaad7f9af67b",
     "grade": true,
     "grade_id": "cell-7e7d78dbde150d56",
     "locked": true,
     "points": 4,
     "schema_version": 1,
     "solution": false
    }
   },
   "outputs": [],
   "source": [
    "proper_nouns = c(\"Jabba the Hut\", \"Pizza Hut\", \n",
    "                 \"Pizza the Hut\", \"Chicken of the Sea\",\n",
    "                 \"Dolce and Gabbana\", \"Roger Federer\",\n",
    "                 \"A Streetcar Named Desire\")\n",
    "not_proper_nouns = c(\"no proper nouns here.\",\n",
    "                     \"tennis is the best\",\n",
    "                     \"i heart burritos!\",\n",
    "                     \"\")\n",
    "stopifnot(all(identical(proper_nouns,\n",
    "                        str_extract(str_c(\"intro \", proper_nouns, \" outro.\"), re4)\n",
    "                        )))\n",
    "stopifnot(all(identical(str_c(\"Proper \", proper_nouns),\n",
    "                        str_extract(str_c(\"Proper \", proper_nouns, \" outro.\"), re4)\n",
    "                        )))\n",
    "stopifnot(identical(\n",
    "    str_extract_all(\"I heart Huckabees\", re4),\n",
    "    list(c(\"I\", \"Huckabees\"))))\n",
    "\n",
    "stopifnot(! any(str_detect(not_proper_nouns, re4)))"
   ]
  },
  {
   "cell_type": "markdown",
   "metadata": {
    "deletable": false,
    "editable": false,
    "nbgrader": {
     "checksum": "760c3326cbb2316de1f7438fa0d0deba",
     "grade": false,
     "grade_id": "cell-88cc4a18e1b9dba3",
     "locked": true,
     "schema_version": 1,
     "solution": false
    }
   },
   "source": [
    "#### Problem 5\n",
    "Write a regular expression to match phone numbers. A phone number can be in any one of the following forms:\n",
    "```\n",
    "(123) 456-7890\n",
    "(123)456-7890\n",
    "1234567890\n",
    "123 456 7890\n",
    "123-456-7890\n",
    "123.456.7890\n",
    "```\n",
    "Store your regular expression in a variable called `re5`."
   ]
  },
  {
   "cell_type": "code",
   "execution_count": null,
   "metadata": {
    "deletable": false,
    "nbgrader": {
     "checksum": "e55a84d10f422191cf4a0516e7a1d8db",
     "grade": false,
     "grade_id": "cell-a13353a08d61254f",
     "locked": false,
     "schema_version": 1,
     "solution": true
    }
   },
   "outputs": [],
   "source": [
    "# YOUR CODE HERE\n",
    "stop()"
   ]
  },
  {
   "cell_type": "code",
   "execution_count": null,
   "metadata": {
    "deletable": false,
    "editable": false,
    "nbgrader": {
     "checksum": "8686efd48008aed2e009b08fb59c1b94",
     "grade": true,
     "grade_id": "cell-7c9cc92313f4d826",
     "locked": true,
     "points": 4,
     "schema_version": 1,
     "solution": false
    }
   },
   "outputs": [],
   "source": [
    "phone_nums = c(\n",
    "    \"(123) 456-7890\", \"(123)456-7890\", \"1234567890\",\n",
    "    \"123 456 7890\", \"123-456-7890\", \"123.456.7890\")\n",
    "not_phone_nums = c(\"123.456 7890\", \"123-456.7890\", \n",
    "                   \"(123 456 7890\", \"a23.b123.c1234\",\n",
    "                   \"cleveland rocks\"\n",
    "                  )\n",
    "stopifnot(all(str_detect(phone_nums, re5)))\n",
    "stopifnot(! any(str_detect(not_phone_nums, re5)))"
   ]
  },
  {
   "cell_type": "markdown",
   "metadata": {
    "deletable": false,
    "editable": false,
    "nbgrader": {
     "checksum": "d2eb28c1f62cf53d7215b3f55f0f9e1a",
     "grade": false,
     "grade_id": "cell-5bc6a841f10de3fa",
     "locked": true,
     "schema_version": 1,
     "solution": false
    }
   },
   "source": [
    "#### Problem 6\n",
    "In lecture we learned about the `str_trim` function, which trims leading and trailing whitespace from a string:"
   ]
  },
  {
   "cell_type": "code",
   "execution_count": null,
   "metadata": {
    "deletable": false,
    "editable": false,
    "nbgrader": {
     "checksum": "199ed77a299a77bd756f934229ea947e",
     "grade": false,
     "grade_id": "cell-fef96d3a5cd70731",
     "locked": true,
     "schema_version": 1,
     "solution": false
    }
   },
   "outputs": [],
   "source": [
    "str_trim(\"   This will be trimmed \")"
   ]
  },
  {
   "cell_type": "markdown",
   "metadata": {
    "deletable": false,
    "editable": false,
    "nbgrader": {
     "checksum": "666f19827e66f221957449ed78473d1c",
     "grade": false,
     "grade_id": "cell-397d9901f049e37a",
     "locked": true,
     "schema_version": 1,
     "solution": false
    }
   },
   "source": [
    "Create a regular expression which, for a given string `s`, captures the trimmed version of `s` into group 1. That is, for any string `s`, calling `str_replace(s, re1, \"\\\\1\")` should produce the same output as `str_trim(s)`.\n",
    "Store your expression in a variable called `re6`. \n",
    "\n"
   ]
  },
  {
   "cell_type": "code",
   "execution_count": null,
   "metadata": {
    "deletable": false,
    "nbgrader": {
     "checksum": "678df5df1b06db4c9c12df547c34ad32",
     "grade": false,
     "grade_id": "cell-9e5ea1fcb4c72184",
     "locked": false,
     "schema_version": 1,
     "solution": true
    }
   },
   "outputs": [],
   "source": [
    "# YOUR CODE HERE\n",
    "stop()"
   ]
  },
  {
   "cell_type": "code",
   "execution_count": null,
   "metadata": {
    "deletable": false,
    "editable": false,
    "nbgrader": {
     "checksum": "8024331e7b0f361fe8fc91a2685708a3",
     "grade": true,
     "grade_id": "cell-fc1d8647fce477a5",
     "locked": true,
     "points": 4,
     "schema_version": 1,
     "solution": false
    }
   },
   "outputs": [],
   "source": [
    "for (s in c(\n",
    "    \"   this will  be trimmed   \",\n",
    "    \"\\t\\nso will this\\n\\t  \",\n",
    "    \"and this too    \"\n",
    "    )) {\n",
    "    stopifnot(identical(\n",
    "        str_replace(s, re6, \"\\\\1\"),\n",
    "        str_trim(s)))\n",
    "    }"
   ]
  }
 ],
 "metadata": {
  "kernelspec": {
   "display_name": "R",
   "language": "R",
   "name": "ir"
  },
  "language_info": {
   "codemirror_mode": "r",
   "file_extension": ".r",
   "mimetype": "text/x-r-source",
   "name": "R",
   "pygments_lexer": "r",
   "version": "3.4.2"
  }
 },
 "nbformat": 4,
 "nbformat_minor": 2
}
