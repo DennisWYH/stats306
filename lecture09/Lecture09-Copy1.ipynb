{
 "cells": [
  {
   "cell_type": "code",
   "execution_count": 1,
   "metadata": {
    "slideshow": {
     "slide_type": "notes"
    }
   },
   "outputs": [
    {
     "name": "stderr",
     "output_type": "stream",
     "text": [
      "── Attaching packages ─────────────────────────────────────── tidyverse 1.2.1 ──\n",
      "✔ ggplot2 3.1.0     ✔ purrr   0.2.5\n",
      "✔ tibble  1.4.2     ✔ dplyr   0.7.8\n",
      "✔ tidyr   0.8.2     ✔ stringr 1.3.1\n",
      "✔ readr   1.3.0     ✔ forcats 0.3.0\n",
      "── Conflicts ────────────────────────────────────────── tidyverse_conflicts() ──\n",
      "✖ dplyr::filter() masks stats::filter()\n",
      "✖ dplyr::lag()    masks stats::lag()\n"
     ]
    }
   ],
   "source": [
    "library(tidyverse)\n",
    "library(nycflights13)"
   ]
  },
  {
   "cell_type": "markdown",
   "metadata": {
    "slideshow": {
     "slide_type": "slide"
    }
   },
   "source": [
    "### Review"
   ]
  },
  {
   "cell_type": "code",
   "execution_count": 28,
   "metadata": {
    "slideshow": {
     "slide_type": "-"
    }
   },
   "outputs": [
    {
     "data": {
      "text/html": [
       "<table>\n",
       "<thead><tr><th scope=col>county</th><th scope=col>stat</th><th scope=col>year</th><th scope=col>val</th></tr></thead>\n",
       "<tbody>\n",
       "\t<tr><td>wayne    </td><td>income   </td><td>2000     </td><td>  40776  </td></tr>\n",
       "\t<tr><td>washtenaw</td><td>income   </td><td>2000     </td><td>  51990  </td></tr>\n",
       "\t<tr><td>wayne    </td><td>pop      </td><td>2000     </td><td>2059000  </td></tr>\n",
       "\t<tr><td>washtenaw</td><td>pop      </td><td>2000     </td><td> 324491  </td></tr>\n",
       "\t<tr><td>wayne    </td><td>income   </td><td>2010     </td><td>  38380  </td></tr>\n",
       "\t<tr><td>washtenaw</td><td>income   </td><td>2010     </td><td>  65500  </td></tr>\n",
       "\t<tr><td>wayne    </td><td>pop      </td><td>2010     </td><td>1815000  </td></tr>\n",
       "\t<tr><td>washtenaw</td><td>pop      </td><td>2010     </td><td> 345515  </td></tr>\n",
       "</tbody>\n",
       "</table>\n"
      ],
      "text/latex": [
       "\\begin{tabular}{r|llll}\n",
       " county & stat & year & val\\\\\n",
       "\\hline\n",
       "\t wayne     & income    & 2000      &   40776  \\\\\n",
       "\t washtenaw & income    & 2000      &   51990  \\\\\n",
       "\t wayne     & pop       & 2000      & 2059000  \\\\\n",
       "\t washtenaw & pop       & 2000      &  324491  \\\\\n",
       "\t wayne     & income    & 2010      &   38380  \\\\\n",
       "\t washtenaw & income    & 2010      &   65500  \\\\\n",
       "\t wayne     & pop       & 2010      & 1815000  \\\\\n",
       "\t washtenaw & pop       & 2010      &  345515  \\\\\n",
       "\\end{tabular}\n"
      ],
      "text/markdown": [
       "\n",
       "county | stat | year | val | \n",
       "|---|---|---|---|---|---|---|---|\n",
       "| wayne     | income    | 2000      |   40776   | \n",
       "| washtenaw | income    | 2000      |   51990   | \n",
       "| wayne     | pop       | 2000      | 2059000   | \n",
       "| washtenaw | pop       | 2000      |  324491   | \n",
       "| wayne     | income    | 2010      |   38380   | \n",
       "| washtenaw | income    | 2010      |   65500   | \n",
       "| wayne     | pop       | 2010      | 1815000   | \n",
       "| washtenaw | pop       | 2010      |  345515   | \n",
       "\n",
       "\n"
      ],
      "text/plain": [
       "  county    stat   year val    \n",
       "1 wayne     income 2000   40776\n",
       "2 washtenaw income 2000   51990\n",
       "3 wayne     pop    2000 2059000\n",
       "4 washtenaw pop    2000  324491\n",
       "5 wayne     income 2010   38380\n",
       "6 washtenaw income 2010   65500\n",
       "7 wayne     pop    2010 1815000\n",
       "8 washtenaw pop    2010  345515"
      ]
     },
     "metadata": {},
     "output_type": "display_data"
    }
   ],
   "source": [
    "load(\"mi_census.RData\"); mi_census"
   ]
  },
  {
   "cell_type": "markdown",
   "metadata": {
    "slideshow": {
     "slide_type": "slide"
    }
   },
   "source": [
    "Reshape the table to obtain:\n",
    "<table>\n",
    "    <tr><th>Beginner</th><th>Advanced</th></tr>\n",
    "    <td>\n",
    "       <table>\n",
    "<thead><tr><th scope=\"col\">county</th><th scope=\"col\">stat</th><th scope=\"col\">2000</th><th scope=\"col\">2010</th></tr></thead>\n",
    "<tbody>\n",
    "\t<tr><td>washtenaw</td><td>income   </td><td>  51990  </td><td>  65500  </td></tr>\n",
    "\t<tr><td>washtenaw</td><td>pop      </td><td> 324491  </td><td> 345515  </td></tr>\n",
    "\t<tr><td>wayne    </td><td>income   </td><td>  40776  </td><td>  38380  </td></tr>\n",
    "\t<tr><td>wayne    </td><td>pop      </td><td>2059000  </td><td>1815000  </td></tr>\n",
    "</tbody>\n",
    "</table>\n",
    "    </td>\n",
    "    <td>\n",
    "    <table>\n",
    "<thead><tr><th scope=\"col\">county</th><th scope=\"col\">income_2000</th><th scope=\"col\">population_2000</th><th scope=\"col\">income_2010</th><th scope=\"col\">population_2010</th></tr></thead>\n",
    "<tbody>\n",
    "\t<tr><td>wayne    </td><td>40776    </td><td>2059000  </td><td>38380    </td><td>1815000  </td></tr>\n",
    "\t<tr><td>washtenaw</td><td>51990    </td><td> 324491  </td><td>65500    </td><td> 345515  </td></tr>\n",
    "</tbody>\n",
    "</table>\n",
    "    </td>\n",
    "    </tr>\n",
    "    </table>"
   ]
  },
  {
   "cell_type": "markdown",
   "metadata": {
    "slideshow": {
     "slide_type": "slide"
    }
   },
   "source": [
    "# Lecture 09: Relational Data\n",
    "<div style=\"border: 1px double black; padding: 10px; margin: 10px\">\n",
    "\n",
    "**After today's lecture you will:**\n",
    "* Understand what makes [tidy data](#Tidy-data) and why we care\n",
    "* [Gather](#Gather) multiple columns into one\n",
    "* [Spread](#Spread) one column into several\n",
    "* [Separate](#Separate) and [unite](#Unite) columns\n",
    "* Impute [missing values](#Missing-values)\n",
    "</div>\n"
   ]
  },
  {
   "cell_type": "markdown",
   "metadata": {
    "slideshow": {
     "slide_type": "slide"
    }
   },
   "source": [
    "We have already spent a lot of time analyzing the `flights` table. In fact, there are four other tables in `nycflights13` that contain related information about these flights:"
   ]
  },
  {
   "cell_type": "code",
   "execution_count": 120,
   "metadata": {
    "slideshow": {
     "slide_type": "slide"
    }
   },
   "outputs": [
    {
     "name": "stdout",
     "output_type": "stream",
     "text": [
      "# A tibble: 16 x 2\n",
      "   carrier                        name\n",
      "     <chr>                       <chr>\n",
      " 1      9E           Endeavor Air Inc.\n",
      " 2      AA      American Airlines Inc.\n",
      " 3      AS        Alaska Airlines Inc.\n",
      " 4      B6             JetBlue Airways\n",
      " 5      DL        Delta Air Lines Inc.\n",
      " 6      EV    ExpressJet Airlines Inc.\n",
      " 7      F9      Frontier Airlines Inc.\n",
      " 8      FL AirTran Airways Corporation\n",
      " 9      HA      Hawaiian Airlines Inc.\n",
      "10      MQ                   Envoy Air\n",
      "11      OO       SkyWest Airlines Inc.\n",
      "12      UA       United Air Lines Inc.\n",
      "13      US             US Airways Inc.\n",
      "14      VX              Virgin America\n",
      "15      WN      Southwest Airlines Co.\n",
      "16      YV          Mesa Airlines Inc.\n"
     ]
    }
   ],
   "source": [
    "print(airlines)"
   ]
  },
  {
   "cell_type": "code",
   "execution_count": 121,
   "metadata": {
    "slideshow": {
     "slide_type": "slide"
    }
   },
   "outputs": [
    {
     "name": "stdout",
     "output_type": "stream",
     "text": [
      "# A tibble: 1,458 x 8\n",
      "     faa                           name      lat        lon   alt    tz   dst\n",
      "   <chr>                          <chr>    <dbl>      <dbl> <int> <dbl> <chr>\n",
      " 1   04G              Lansdowne Airport 41.13047  -80.61958  1044    -5     A\n",
      " 2   06A  Moton Field Municipal Airport 32.46057  -85.68003   264    -6     A\n",
      " 3   06C            Schaumburg Regional 41.98934  -88.10124   801    -6     A\n",
      " 4   06N                Randall Airport 41.43191  -74.39156   523    -5     A\n",
      " 5   09J          Jekyll Island Airport 31.07447  -81.42778    11    -5     A\n",
      " 6   0A9 Elizabethton Municipal Airport 36.37122  -82.17342  1593    -5     A\n",
      " 7   0G6        Williams County Airport 41.46731  -84.50678   730    -5     A\n",
      " 8   0G7  Finger Lakes Regional Airport 42.88356  -76.78123   492    -5     A\n",
      " 9   0P2   Shoestring Aviation Airfield 39.79482  -76.64719  1000    -5     U\n",
      "10   0S9          Jefferson County Intl 48.05381 -122.81064   108    -8     A\n",
      "# ... with 1,448 more rows, and 1 more variables: tzone <chr>\n"
     ]
    }
   ],
   "source": [
    "print(airports)"
   ]
  },
  {
   "cell_type": "code",
   "execution_count": 122,
   "metadata": {
    "slideshow": {
     "slide_type": "slide"
    }
   },
   "outputs": [
    {
     "name": "stdout",
     "output_type": "stream",
     "text": [
      "# A tibble: 3,322 x 9\n",
      "   tailnum  year                    type     manufacturer     model engines\n",
      "     <chr> <int>                   <chr>            <chr>     <chr>   <int>\n",
      " 1  N10156  2004 Fixed wing multi engine          EMBRAER EMB-145XR       2\n",
      " 2  N102UW  1998 Fixed wing multi engine AIRBUS INDUSTRIE  A320-214       2\n",
      " 3  N103US  1999 Fixed wing multi engine AIRBUS INDUSTRIE  A320-214       2\n",
      " 4  N104UW  1999 Fixed wing multi engine AIRBUS INDUSTRIE  A320-214       2\n",
      " 5  N10575  2002 Fixed wing multi engine          EMBRAER EMB-145LR       2\n",
      " 6  N105UW  1999 Fixed wing multi engine AIRBUS INDUSTRIE  A320-214       2\n",
      " 7  N107US  1999 Fixed wing multi engine AIRBUS INDUSTRIE  A320-214       2\n",
      " 8  N108UW  1999 Fixed wing multi engine AIRBUS INDUSTRIE  A320-214       2\n",
      " 9  N109UW  1999 Fixed wing multi engine AIRBUS INDUSTRIE  A320-214       2\n",
      "10  N110UW  1999 Fixed wing multi engine AIRBUS INDUSTRIE  A320-214       2\n",
      "# ... with 3,312 more rows, and 3 more variables: seats <int>, speed <int>,\n",
      "#   engine <chr>\n"
     ]
    }
   ],
   "source": [
    "print(planes)"
   ]
  },
  {
   "cell_type": "code",
   "execution_count": 123,
   "metadata": {
    "slideshow": {
     "slide_type": "slide"
    }
   },
   "outputs": [
    {
     "name": "stdout",
     "output_type": "stream",
     "text": [
      "# A tibble: 26,130 x 15\n",
      "   origin  year month   day  hour  temp  dewp humid wind_dir wind_speed\n",
      "    <chr> <dbl> <dbl> <int> <int> <dbl> <dbl> <dbl>    <dbl>      <dbl>\n",
      " 1    EWR  2013     1     1     0 37.04 21.92 53.97      230   10.35702\n",
      " 2    EWR  2013     1     1     1 37.04 21.92 53.97      230   13.80936\n",
      " 3    EWR  2013     1     1     2 37.94 21.92 52.09      230   12.65858\n",
      " 4    EWR  2013     1     1     3 37.94 23.00 54.51      230   13.80936\n",
      " 5    EWR  2013     1     1     4 37.94 24.08 57.04      240   14.96014\n",
      " 6    EWR  2013     1     1     6 39.02 26.06 59.37      270   10.35702\n",
      " 7    EWR  2013     1     1     7 39.02 26.96 61.63      250    8.05546\n",
      " 8    EWR  2013     1     1     8 39.02 28.04 64.43      240   11.50780\n",
      " 9    EWR  2013     1     1     9 39.92 28.04 62.21      250   12.65858\n",
      "10    EWR  2013     1     1    10 39.02 28.04 64.43      260   12.65858\n",
      "# ... with 26,120 more rows, and 5 more variables: wind_gust <dbl>,\n",
      "#   precip <dbl>, pressure <dbl>, visib <dbl>, time_hour <dttm>\n"
     ]
    }
   ],
   "source": [
    "print(weather)"
   ]
  },
  {
   "cell_type": "markdown",
   "metadata": {
    "slideshow": {
     "slide_type": "slide"
    }
   },
   "source": [
    "Together these four tables form a *relational database*. The relationships can be graphed like so:\n",
    "![table relationships](http://r4ds.had.co.nz/diagrams/relational-nycflights.png)"
   ]
  },
  {
   "cell_type": "markdown",
   "metadata": {
    "slideshow": {
     "slide_type": "notes"
    }
   },
   "source": [
    "The particular relationships in this database are:\n",
    "- `flights` connects to `planes` via `tailnum`.\n",
    "- `flights` connects to `airlines` via `carrier`.\n",
    "- `flights` connects to `airports` twice: via `origin` and `dest`.\n",
    "- `flights` connects to `weather` via `origin` (the location), and `year`, `month`, `day` and `hour`."
   ]
  },
  {
   "cell_type": "markdown",
   "metadata": {
    "slideshow": {
     "slide_type": "notes"
    }
   },
   "source": [
    "## Keys\n",
    "The \"key\" to understanding relational databases is... keys. \n",
    "\n"
   ]
  },
  {
   "cell_type": "markdown",
   "metadata": {
    "slideshow": {
     "slide_type": "slide"
    }
   },
   "source": [
    "### Primary Key\n",
    "A *primary key* is a variable (or set of variables) that uniquely identifies an observation in its own table: there is **at most** one row in the table that corresponds to any setting of the columns which comprise the key."
   ]
  },
  {
   "cell_type": "markdown",
   "metadata": {
    "slideshow": {
     "slide_type": "slide"
    }
   },
   "source": [
    "In the `planes` table, each airplane is identified by its `tailnum`:"
   ]
  },
  {
   "cell_type": "code",
   "execution_count": 39,
   "metadata": {},
   "outputs": [
    {
     "name": "stdout",
     "output_type": "stream",
     "text": [
      "# A tibble: 3,322 x 9\n",
      "   tailnum  year type          manufacturer   model  engines seats speed engine \n",
      "   <chr>   <int> <chr>         <chr>          <chr>    <int> <int> <int> <chr>  \n",
      " 1 N10156   2004 Fixed wing m… EMBRAER        EMB-1…       2    55    NA Turbo-…\n",
      " 2 N102UW   1998 Fixed wing m… AIRBUS INDUST… A320-…       2   182    NA Turbo-…\n",
      " 3 N103US   1999 Fixed wing m… AIRBUS INDUST… A320-…       2   182    NA Turbo-…\n",
      " 4 N104UW   1999 Fixed wing m… AIRBUS INDUST… A320-…       2   182    NA Turbo-…\n",
      " 5 N10575   2002 Fixed wing m… EMBRAER        EMB-1…       2    55    NA Turbo-…\n",
      " 6 N105UW   1999 Fixed wing m… AIRBUS INDUST… A320-…       2   182    NA Turbo-…\n",
      " 7 N107US   1999 Fixed wing m… AIRBUS INDUST… A320-…       2   182    NA Turbo-…\n",
      " 8 N108UW   1999 Fixed wing m… AIRBUS INDUST… A320-…       2   182    NA Turbo-…\n",
      " 9 N109UW   1999 Fixed wing m… AIRBUS INDUST… A320-…       2   182    NA Turbo-…\n",
      "10 N110UW   1999 Fixed wing m… AIRBUS INDUST… A320-…       2   182    NA Turbo-…\n",
      "# ... with 3,312 more rows\n"
     ]
    }
   ],
   "source": [
    "print(planes)"
   ]
  },
  {
   "cell_type": "markdown",
   "metadata": {
    "slideshow": {
     "slide_type": "slide"
    }
   },
   "source": [
    "The tail number of an airplane is assigned by a government agency and is unique: no two planes can have the same tail number. Thus, `tailnum` should be a primary key in this table. \n",
    "\n",
    "To check that one or more variables constitutes a primary key, we can group by those variables and then check that the number of distinct values equals the number of rows in the data set:"
   ]
  },
  {
   "cell_type": "code",
   "execution_count": 40,
   "metadata": {},
   "outputs": [
    {
     "data": {
      "text/html": [
       "3322"
      ],
      "text/latex": [
       "3322"
      ],
      "text/markdown": [
       "3322"
      ],
      "text/plain": [
       "[1] 3322"
      ]
     },
     "metadata": {},
     "output_type": "display_data"
    },
    {
     "data": {
      "text/html": [
       "3322"
      ],
      "text/latex": [
       "3322"
      ],
      "text/markdown": [
       "3322"
      ],
      "text/plain": [
       "[1] 3322"
      ]
     },
     "metadata": {},
     "output_type": "display_data"
    }
   ],
   "source": [
    "planes %>% nrow\n",
    "planes %>% distinct(tailnum) %>% nrow"
   ]
  },
  {
   "cell_type": "markdown",
   "metadata": {
    "slideshow": {
     "slide_type": "slide"
    }
   },
   "source": [
    "Compare with `flights`, where tailnum does *not* uniquely identify each row. (There are many flights present for the same airplane.)"
   ]
  },
  {
   "cell_type": "code",
   "execution_count": 42,
   "metadata": {},
   "outputs": [
    {
     "data": {
      "text/html": [
       "4044"
      ],
      "text/latex": [
       "4044"
      ],
      "text/markdown": [
       "4044"
      ],
      "text/plain": [
       "[1] 4044"
      ]
     },
     "metadata": {},
     "output_type": "display_data"
    }
   ],
   "source": [
    "flights %>% distinct(tailnum) %>% nrow"
   ]
  },
  {
   "cell_type": "markdown",
   "metadata": {
    "slideshow": {
     "slide_type": "slide"
    }
   },
   "source": [
    "What is the primary key for the `flights` table?"
   ]
  },
  {
   "cell_type": "code",
   "execution_count": 127,
   "metadata": {},
   "outputs": [
    {
     "name": "stdout",
     "output_type": "stream",
     "text": [
      "# A tibble: 336,776 x 19\n",
      "    year month   day dep_time sched_dep_time dep_delay arr_time sched_arr_time\n",
      "   <int> <int> <int>    <int>          <int>     <dbl>    <int>          <int>\n",
      " 1  2013     1     1      517            515         2      830            819\n",
      " 2  2013     1     1      533            529         4      850            830\n",
      " 3  2013     1     1      542            540         2      923            850\n",
      " 4  2013     1     1      544            545        -1     1004           1022\n",
      " 5  2013     1     1      554            600        -6      812            837\n",
      " 6  2013     1     1      554            558        -4      740            728\n",
      " 7  2013     1     1      555            600        -5      913            854\n",
      " 8  2013     1     1      557            600        -3      709            723\n",
      " 9  2013     1     1      557            600        -3      838            846\n",
      "10  2013     1     1      558            600        -2      753            745\n",
      "# ... with 336,766 more rows, and 11 more variables: arr_delay <dbl>,\n",
      "#   carrier <chr>, flight <int>, tailnum <chr>, origin <chr>, dest <chr>,\n",
      "#   air_time <dbl>, distance <dbl>, hour <dbl>, minute <dbl>, time_hour <dttm>\n"
     ]
    }
   ],
   "source": [
    "print(flights)"
   ]
  },
  {
   "cell_type": "markdown",
   "metadata": {
    "slideshow": {
     "slide_type": "slide"
    }
   },
   "source": [
    "We might guess that `year`, `month`, `day`, and `tailnum` are sufficient to identify each row in `flights`, but this is not true:"
   ]
  },
  {
   "cell_type": "code",
   "execution_count": 128,
   "metadata": {
    "slideshow": {
     "slide_type": "-"
    }
   },
   "outputs": [
    {
     "data": {
      "text/plain": [
       "  n      nd    \n",
       "1 336776 251727"
      ]
     },
     "metadata": {},
     "output_type": "display_data"
    }
   ],
   "source": [
    "flights %>% summarize(n=n(), nd=n_distinct(year, month, day, tailnum))"
   ]
  },
  {
   "cell_type": "markdown",
   "metadata": {
    "slideshow": {
     "slide_type": "slide"
    }
   },
   "source": [
    "In fact, even restricting to the exact *minute* that an airplane departed is not sufficient:"
   ]
  },
  {
   "cell_type": "code",
   "execution_count": 129,
   "metadata": {
    "slideshow": {
     "slide_type": "-"
    }
   },
   "outputs": [
    {
     "data": {
      "text/plain": [
       "  n      nd    \n",
       "1 336776 336367"
      ]
     },
     "metadata": {},
     "output_type": "display_data"
    }
   ],
   "source": [
    "flights %>% summarize(n=n(), nd=n_distinct(tailnum, time_hour, minute))"
   ]
  },
  {
   "cell_type": "markdown",
   "metadata": {
    "slideshow": {
     "slide_type": "slide"
    }
   },
   "source": [
    "This says that there are certain airplanes that are marked as having departed more than once in the same year, month, day, hour and minute. We can inspect these rows as follows:"
   ]
  },
  {
   "cell_type": "code",
   "execution_count": 6,
   "metadata": {
    "slideshow": {
     "slide_type": "-"
    }
   },
   "outputs": [
    {
     "name": "stdout",
     "output_type": "stream",
     "text": [
      "# A tibble: 298 x 4\n",
      "# Groups:   tailnum, time_hour, minute [298]\n",
      "   tailnum time_hour           minute     n\n",
      "   <chr>   <dttm>               <dbl> <int>\n",
      " 1 N11119  2013-06-10 16:00:00     55     2\n",
      " 2 N11192  2013-08-26 08:00:00     30     2\n",
      " 3 N12563  2013-02-04 16:00:00     19     2\n",
      " 4 N12564  2013-01-13 20:00:00      0     2\n",
      " 5 N12900  2013-07-10 21:00:00     29     2\n",
      " 6 N13969  2013-01-28 07:00:00     59     2\n",
      " 7 N14148  2013-03-12 06:00:00     30     2\n",
      " 8 N14558  2013-04-19 13:00:00     29     2\n",
      " 9 N14916  2013-02-11 13:00:00     15     2\n",
      "10 N14974  2013-07-26 06:00:00     30     2\n",
      "# ... with 288 more rows\n"
     ]
    }
   ],
   "source": [
    "group_by(flights, tailnum, time_hour, minute) %>% count %>% filter(n>1) %>% arrange(tailnum, time_hour) %>% print"
   ]
  },
  {
   "cell_type": "markdown",
   "metadata": {
    "slideshow": {
     "slide_type": "notes"
    }
   },
   "source": [
    "These likely indicate rounding or data entry errors."
   ]
  },
  {
   "cell_type": "markdown",
   "metadata": {
    "slideshow": {
     "slide_type": "slide"
    }
   },
   "source": [
    "### Exercise\n",
    "What constitutes a primary key in the `mpg` table?"
   ]
  },
  {
   "cell_type": "code",
   "execution_count": 47,
   "metadata": {
    "slideshow": {
     "slide_type": "slide"
    }
   },
   "outputs": [],
   "source": [
    "# Your code here"
   ]
  },
  {
   "cell_type": "markdown",
   "metadata": {
    "slideshow": {
     "slide_type": "slide"
    }
   },
   "source": [
    "### Foreign Key\n",
    "A *foreign key* uniquely identifies an observation in another table."
   ]
  },
  {
   "cell_type": "markdown",
   "metadata": {
    "slideshow": {
     "slide_type": "slide"
    }
   },
   "source": [
    "If you are working in the `planes` table, `flights$tailnum` is a foreign key because it appears in the `flights` table and matches each flight to a unique plane. "
   ]
  },
  {
   "cell_type": "code",
   "execution_count": 132,
   "metadata": {},
   "outputs": [
    {
     "name": "stdout",
     "output_type": "stream",
     "text": [
      "# A tibble: 1 x 19\n",
      "  tailnum  year month   day dep_time sched_dep_time dep_delay arr_time\n",
      "    <chr> <int> <int> <int>    <int>          <int>     <dbl>    <int>\n",
      "1  N14228  2013     1     1      517            515         2      830\n",
      "# ... with 11 more variables: sched_arr_time <int>, arr_delay <dbl>,\n",
      "#   carrier <chr>, flight <int>, origin <chr>, dest <chr>, air_time <dbl>,\n",
      "#   distance <dbl>, hour <dbl>, minute <dbl>, time_hour <dttm>\n"
     ]
    },
    {
     "data": {
      "text/plain": [
       "  tailnum year type                    manufacturer model   engines seats speed\n",
       "1 N14228  1999 Fixed wing multi engine BOEING       737-824 2       149   NA   \n",
       "  engine   \n",
       "1 Turbo-fan"
      ]
     },
     "metadata": {},
     "output_type": "display_data"
    }
   ],
   "source": [
    "flights %>% slice(1) %>% select(tailnum, everything()) %>% print\n",
    "planes %>% filter(tailnum == flights$tailnum[1])"
   ]
  },
  {
   "cell_type": "markdown",
   "metadata": {
    "slideshow": {
     "slide_type": "slide"
    }
   },
   "source": [
    "If you are working in the `weather` table, `airports$faa` is a foreign key for `origin`."
   ]
  },
  {
   "cell_type": "code",
   "execution_count": 133,
   "metadata": {
    "scrolled": true
   },
   "outputs": [
    {
     "name": "stdout",
     "output_type": "stream",
     "text": [
      "# A tibble: 1 x 15\n",
      "  origin  year month   day  hour  temp  dewp humid wind_dir wind_speed\n",
      "   <chr> <dbl> <dbl> <int> <int> <dbl> <dbl> <dbl>    <dbl>      <dbl>\n",
      "1    EWR  2013     1     1     0 37.04 21.92 53.97      230   10.35702\n",
      "# ... with 5 more variables: wind_gust <dbl>, precip <dbl>, pressure <dbl>,\n",
      "#   visib <dbl>, time_hour <dttm>\n"
     ]
    },
    {
     "data": {
      "text/plain": [
       "  faa name                lat     lon       alt tz dst tzone           \n",
       "1 EWR Newark Liberty Intl 40.6925 -74.16867 18  -5 A   America/New_York"
      ]
     },
     "metadata": {},
     "output_type": "display_data"
    }
   ],
   "source": [
    "weather %>% slice(1) %>% print\n",
    "airports %>% filter(faa==weather$origin[1])"
   ]
  },
  {
   "cell_type": "markdown",
   "metadata": {
    "slideshow": {
     "slide_type": "notes"
    }
   },
   "source": [
    "A variable can be both a primary key and a foreign key. For example, `origin` is part of the `weather` primary key, and is also a foreign key for the `airports` table."
   ]
  },
  {
   "cell_type": "markdown",
   "metadata": {
    "slideshow": {
     "slide_type": "slide"
    }
   },
   "source": [
    "### Relations\n",
    "A primary key and the corresponding foreign key in another table form a *relation*. Relations come in several forms:\n",
    "- *One-to-many*. (Most common). For example, each flight has one plane, but each plane has many flights. \n",
    "- *Many-to-many*: For example, each airline flies to many airports; each airport hosts many airlines.\n",
    "- *One-to-one*. Each row in one table corresponds uniquely to a row in a second table. This is relatively uncommon because you could just as easily combine the two tables into one."
   ]
  },
  {
   "cell_type": "code",
   "execution_count": 135,
   "metadata": {
    "slideshow": {
     "slide_type": "notes"
    }
   },
   "outputs": [],
   "source": [
    "x = tribble(\n",
    "  ~key, ~val_x,\n",
    "     1, \"x1\",\n",
    "     2, \"x2\",\n",
    "     3, \"x3\"\n",
    ")\n",
    "y = tribble(\n",
    "  ~key, ~val_y,\n",
    "     1, \"y1\",\n",
    "     2, \"y2\",\n",
    "     4, \"y3\"\n",
    ")"
   ]
  },
  {
   "cell_type": "markdown",
   "metadata": {
    "slideshow": {
     "slide_type": "slide"
    }
   },
   "source": []
  },
  {
   "cell_type": "markdown",
   "metadata": {
    "slideshow": {
     "slide_type": "slide"
    }
   },
   "source": [
    "## Joins\n",
    "Joins are the way the we combine or \"merge\" two data tables based on keys.\n",
    "To understand how joins work we'll study these two simple tables:\n",
    "![simple tables](http://r4ds.had.co.nz/diagrams/join-setup.png)"
   ]
  },
  {
   "cell_type": "code",
   "execution_count": 136,
   "metadata": {},
   "outputs": [
    {
     "data": {
      "text/plain": [
       "  key val_x\n",
       "1 1   x1   \n",
       "2 2   x2   \n",
       "3 3   x3   "
      ]
     },
     "metadata": {},
     "output_type": "display_data"
    },
    {
     "data": {
      "text/plain": [
       "  key val_y\n",
       "1 1   y1   \n",
       "2 2   y2   \n",
       "3 4   y3   "
      ]
     },
     "metadata": {},
     "output_type": "display_data"
    }
   ],
   "source": [
    "x\n",
    "y"
   ]
  },
  {
   "cell_type": "markdown",
   "metadata": {
    "slideshow": {
     "slide_type": "slide"
    }
   },
   "source": [
    "The first column of each table is called `key` and serves as the primary key: each row has a different value of `key`. \n",
    "\n",
    "Let's image all the possible ways we could join together these two tables. Each intersecting line represents a potential match; there are 3 observations in each table for a total of $3^2=9$ intersections.\n",
    "![possible joins](http://r4ds.had.co.nz/diagrams/join-setup2.png)"
   ]
  },
  {
   "cell_type": "markdown",
   "metadata": {
    "slideshow": {
     "slide_type": "slide"
    }
   },
   "source": [
    "Matches will be indicated with dots:\n",
    "![match example](http://r4ds.had.co.nz/diagrams/join-inner.png)"
   ]
  },
  {
   "cell_type": "markdown",
   "metadata": {
    "slideshow": {
     "slide_type": "slide"
    }
   },
   "source": [
    "### Inner joins\n",
    "Inner joins match a pair of observations whenever their keys are equal:\n",
    "![match example](http://r4ds.had.co.nz/diagrams/join-inner.png)"
   ]
  },
  {
   "cell_type": "code",
   "execution_count": 137,
   "metadata": {
    "slideshow": {
     "slide_type": "-"
    }
   },
   "outputs": [
    {
     "data": {
      "text/plain": [
       "  key val_x val_y\n",
       "1 1   x1    y1   \n",
       "2 2   x2    y2   "
      ]
     },
     "metadata": {},
     "output_type": "display_data"
    }
   ],
   "source": [
    "x %>% inner_join(y, by = \"key\")"
   ]
  },
  {
   "cell_type": "markdown",
   "metadata": {
    "slideshow": {
     "slide_type": "notes"
    }
   },
   "source": [
    "Note that there is no row for `key=3` or `key=4`: with an inner join, unmatched rows are not included in the result. For this reason, we do not as often use inner joins for data analysis since you can easily lose observations."
   ]
  },
  {
   "cell_type": "markdown",
   "metadata": {
    "slideshow": {
     "slide_type": "slide"
    }
   },
   "source": [
    "### Outer joins\n",
    "An outer join keeps observations that appear in at least one of the tables. There are three types of outer joins:\n",
    "- A left join keeps all observations in x.\n",
    "- A right join keeps all observations in y.\n",
    "- A full join keeps all observations in x and y."
   ]
  },
  {
   "cell_type": "markdown",
   "metadata": {
    "slideshow": {
     "slide_type": "slide"
    }
   },
   "source": [
    "![outer join](http://r4ds.had.co.nz/diagrams/join-outer.png)"
   ]
  },
  {
   "cell_type": "markdown",
   "metadata": {
    "slideshow": {
     "slide_type": "slide"
    }
   },
   "source": [
    "Left joins are the most common. Use them to look up data in another table, but preserve your original observations when there in cases where the other table does not have a match."
   ]
  },
  {
   "cell_type": "markdown",
   "metadata": {
    "slideshow": {
     "slide_type": "slide"
    }
   },
   "source": [
    "### Example\n",
    "The `flights` table has a `carrier` column which is a two-letter code for the airline. The `airlines` table maps these code to recognizable airline names. You can combine the `airlines` and `flights` data frames with `left_join()`:"
   ]
  },
  {
   "cell_type": "code",
   "execution_count": 1,
   "metadata": {
    "slideshow": {
     "slide_type": "slide"
    }
   },
   "outputs": [
    {
     "ename": "ERROR",
     "evalue": "Error in left_join(flights, airlines) %>% select(year, month, day, tailnum, : could not find function \"%>%\"\n",
     "output_type": "error",
     "traceback": [
      "Error in left_join(flights, airlines) %>% select(year, month, day, tailnum, : could not find function \"%>%\"\nTraceback:\n"
     ]
    }
   ],
   "source": [
    "left_join(flights, airlines) %>% \n",
    "    select(year, month, day, tailnum, carrier, name) %>% count(name)"
   ]
  },
  {
   "cell_type": "markdown",
   "metadata": {
    "slideshow": {
     "slide_type": "slide"
    }
   },
   "source": [
    "### Exercise\n",
    "Use `left_join()` to determine:\n",
    "<table>\n",
    "    <tr><th>Beginner</th><th>Advanced</th></tr>\n",
    "    <tr>\n",
    "        <td>The number of flights operated by Envoy Air.</td>\n",
    "        <td>The number of flights that departed in sub-zero conditions (<code>temp < 0</code>) in 2013.</td>\n",
    "    </tr>\n",
    "    </table>"
   ]
  },
  {
   "cell_type": "code",
   "execution_count": null,
   "metadata": {
    "slideshow": {
     "slide_type": "slide"
    }
   },
   "outputs": [],
   "source": [
    "# Your code here"
   ]
  },
  {
   "cell_type": "markdown",
   "metadata": {
    "slideshow": {
     "slide_type": "slide"
    }
   },
   "source": [
    "### Defining the key columns\n",
    "When we do a join using `left_join()`, R take as the key whatever column names the two tables have in common:\n"
   ]
  },
  {
   "cell_type": "code",
   "execution_count": 2,
   "metadata": {
    "scrolled": true
   },
   "outputs": [
    {
     "ename": "ERROR",
     "evalue": "Error in left_join(flights, airlines): could not find function \"left_join\"\n",
     "output_type": "error",
     "traceback": [
      "Error in left_join(flights, airlines): could not find function \"left_join\"\nTraceback:\n"
     ]
    }
   ],
   "source": [
    "left_join(flights, airlines);"
   ]
  },
  {
   "cell_type": "markdown",
   "metadata": {
    "slideshow": {
     "slide_type": "slide"
    }
   },
   "source": [
    "We can also specify the join column as we did above:"
   ]
  },
  {
   "cell_type": "code",
   "execution_count": 140,
   "metadata": {},
   "outputs": [
    {
     "name": "stdout",
     "output_type": "stream",
     "text": [
      "# A tibble: 336,776 x 20\n",
      "    year month   day dep_time sched_dep_time dep_delay arr_time sched_arr_time\n",
      "   <int> <int> <int>    <int>          <int>     <dbl>    <int>          <int>\n",
      " 1  2013     1     1      517            515         2      830            819\n",
      " 2  2013     1     1      533            529         4      850            830\n",
      " 3  2013     1     1      542            540         2      923            850\n",
      " 4  2013     1     1      544            545        -1     1004           1022\n",
      " 5  2013     1     1      554            600        -6      812            837\n",
      " 6  2013     1     1      554            558        -4      740            728\n",
      " 7  2013     1     1      555            600        -5      913            854\n",
      " 8  2013     1     1      557            600        -3      709            723\n",
      " 9  2013     1     1      557            600        -3      838            846\n",
      "10  2013     1     1      558            600        -2      753            745\n",
      "# ... with 336,766 more rows, and 12 more variables: arr_delay <dbl>,\n",
      "#   carrier <chr>, flight <int>, tailnum <chr>, origin <chr>, dest <chr>,\n",
      "#   air_time <dbl>, distance <dbl>, hour <dbl>, minute <dbl>, time_hour <dttm>,\n",
      "#   name <chr>\n"
     ]
    }
   ],
   "source": [
    "left_join(flights, airlines, by=\"carrier\") %>% print"
   ]
  },
  {
   "cell_type": "markdown",
   "metadata": {
    "slideshow": {
     "slide_type": "slide"
    }
   },
   "source": [
    "Note that we have to quote the join columns. Otherwise we will get an error:\n",
    "```{r}\n",
    "> left_join(flights, airlines, by=carrier)\n",
    "Error in common_by(by, x, y): object 'carrier' not found\n",
    "Traceback:\n",
    "\n",
    "1. left_join(flights, airlines, by = carrier) %>% print\n",
    "2. eval(lhs, parent, parent)\n",
    "3. eval(lhs, parent, parent)\n",
    "4. left_join(flights, airlines, by = carrier)\n",
    "5. left_join.tbl_df(flights, airlines, by = carrier)\n",
    "6. common_by(by, x, y)\n",
    "```"
   ]
  },
  {
   "cell_type": "markdown",
   "metadata": {
    "slideshow": {
     "slide_type": "slide"
    }
   },
   "source": [
    "Finally, we can be explicit about the column names. This is necessary in situations where the key has a different name in each table. For example, to join the `airports` table to `flights`, we need to match the `origin`/`dest` column in flights to the `faa` column in `airports`:"
   ]
  },
  {
   "cell_type": "code",
   "execution_count": 141,
   "metadata": {},
   "outputs": [
    {
     "name": "stdout",
     "output_type": "stream",
     "text": [
      "# A tibble: 336,776 x 6\n",
      "   origin  dest                            name      lat       lon   alt\n",
      "    <chr> <chr>                           <chr>    <dbl>     <dbl> <int>\n",
      " 1    EWR   IAH    George Bush Intercontinental 29.98443 -95.34144    97\n",
      " 2    LGA   IAH    George Bush Intercontinental 29.98443 -95.34144    97\n",
      " 3    JFK   MIA                      Miami Intl 25.79325 -80.29056     8\n",
      " 4    JFK   BQN                            <NA>       NA        NA    NA\n",
      " 5    LGA   ATL Hartsfield Jackson Atlanta Intl 33.63672 -84.42807  1026\n",
      " 6    EWR   ORD              Chicago Ohare Intl 41.97860 -87.90484   668\n",
      " 7    EWR   FLL  Fort Lauderdale Hollywood Intl 26.07258 -80.15275     9\n",
      " 8    LGA   IAD          Washington Dulles Intl 38.94453 -77.45581   313\n",
      " 9    JFK   MCO                    Orlando Intl 28.42939 -81.30899    96\n",
      "10    LGA   ORD              Chicago Ohare Intl 41.97860 -87.90484   668\n",
      "# ... with 336,766 more rows\n"
     ]
    }
   ],
   "source": [
    "flights %>% left_join(airports, c(\"dest\" = \"faa\")) %>% select(\"origin\", \"dest\", 20:23) %>% print"
   ]
  },
  {
   "cell_type": "markdown",
   "metadata": {
    "slideshow": {
     "slide_type": "notes"
    }
   },
   "source": [
    "(The rest of the material is optional)"
   ]
  },
  {
   "cell_type": "markdown",
   "metadata": {
    "slideshow": {
     "slide_type": "slide"
    }
   },
   "source": [
    "## SQL queries\n",
    "\n",
    "SQL stands for \"Structured Query Language\". Many large databases are stored in SQL format, and you will probably encounter one if you work on big data and/or at a large company. "
   ]
  },
  {
   "cell_type": "markdown",
   "metadata": {
    "slideshow": {
     "slide_type": "notes"
    }
   },
   "source": [
    "To introduce SQL we're going to use the `sqldf` package, which lets us run SQL queries on R tibbles/data frames. Also, to make things go faster, we'll operate on a subsetted version of flights which takes 1% of randomly sampled rows."
   ]
  },
  {
   "cell_type": "code",
   "execution_count": 39,
   "metadata": {
    "slideshow": {
     "slide_type": "notes"
    }
   },
   "outputs": [],
   "source": [
    "# install.packages(\"sqldf\") if necessary\n",
    "library(sqldf)\n",
    "flights_sub <- filter(flights, runif(n=nrow(flights)) < .01)\n",
    "# This function takes the data.frame outputted from sqldf and converts it to a tibble\n",
    "sqltbl <- function(...) sqldf(...) %>% tbl_df"
   ]
  },
  {
   "cell_type": "markdown",
   "metadata": {
    "slideshow": {
     "slide_type": "slide"
    }
   },
   "source": [
    "## Selecting data\n",
    "The most basic SQL query you will encounter selects data from a table. "
   ]
  },
  {
   "cell_type": "code",
   "execution_count": 23,
   "metadata": {
    "slideshow": {
     "slide_type": "-"
    }
   },
   "outputs": [
    {
     "name": "stdout",
     "output_type": "stream",
     "text": [
      "# A tibble: 3,240 x 19\n",
      "    year month   day dep_time sched_dep_time dep_delay arr_time sched_arr_time\n",
      "   <int> <int> <int>    <int>          <int>     <dbl>    <int>          <int>\n",
      " 1  2013     1     1     1713           1700        13     2006           2014\n",
      " 2  2013     1     1     1842           1422       260     1958           1535\n",
      " 3  2013     1     1     1952           1930        22     2257           2251\n",
      " 4  2013     1     1     2008           1855        73     2223           2100\n",
      " 5  2013     1     2      634            630         4      806            810\n",
      " 6  2013     1     2      637            631         6      821            815\n",
      " 7  2013     1     2      732            732         0     1047           1040\n",
      " 8  2013     1     2      817            820        -3     1015           1007\n",
      " 9  2013     1     2      820            827        -7     1117           1105\n",
      "10  2013     1     2      904            910        -6     1026           1027\n",
      "# ... with 3,230 more rows, and 11 more variables: arr_delay <dbl>,\n",
      "#   carrier <chr>, flight <int>, tailnum <chr>, origin <chr>, dest <chr>,\n",
      "#   air_time <dbl>, distance <dbl>, hour <dbl>, minute <dbl>, time_hour <dttm>\n",
      "# A tibble: 3,240 x 19\n",
      "    year month   day dep_time sched_dep_time dep_delay arr_time sched_arr_time\n",
      "   <int> <int> <int>    <int>          <int>     <dbl>    <int>          <int>\n",
      " 1  2013     1     1     1713           1700        13     2006           2014\n",
      " 2  2013     1     1     1842           1422       260     1958           1535\n",
      " 3  2013     1     1     1952           1930        22     2257           2251\n",
      " 4  2013     1     1     2008           1855        73     2223           2100\n",
      " 5  2013     1     2      634            630         4      806            810\n",
      " 6  2013     1     2      637            631         6      821            815\n",
      " 7  2013     1     2      732            732         0     1047           1040\n",
      " 8  2013     1     2      817            820        -3     1015           1007\n",
      " 9  2013     1     2      820            827        -7     1117           1105\n",
      "10  2013     1     2      904            910        -6     1026           1027\n",
      "# ... with 3,230 more rows, and 11 more variables: arr_delay <dbl>,\n",
      "#   carrier <chr>, flight <int>, tailnum <chr>, origin <chr>, dest <chr>,\n",
      "#   air_time <dbl>, distance <dbl>, hour <dbl>, minute <dbl>, time_hour <dttm>\n"
     ]
    }
   ],
   "source": [
    "sqltbl(\"SELECT * from flights_sub\") %>% print\n",
    "flights_sub %>% print"
   ]
  },
  {
   "cell_type": "markdown",
   "metadata": {
    "slideshow": {
     "slide_type": "slide"
    }
   },
   "source": [
    "#### Selecting data from a table\n",
    "The SQL syntax for selecting column(s) from a table is\n",
    "```{sql}\n",
    "SELECT <col1>, <col2>, ..., <coln> FROM <table>\n",
    "```\n",
    "Note the similarity to the corresponding `tidyverse` command:\n",
    "```{r}\n",
    "select(<table>, <col1>, <col2>, ..., <coln>)\n",
    "```"
   ]
  },
  {
   "cell_type": "code",
   "execution_count": 25,
   "metadata": {
    "slideshow": {
     "slide_type": "slide"
    }
   },
   "outputs": [
    {
     "name": "stdout",
     "output_type": "stream",
     "text": [
      "# A tibble: 3,240 x 1\n",
      "   tailnum\n",
      "   <chr>  \n",
      " 1 N346JB \n",
      " 2 N18120 \n",
      " 3 N76523 \n",
      " 4 N527MQ \n",
      " 5 N3DYAA \n",
      " 6 N39297 \n",
      " 7 N73291 \n",
      " 8 N931XJ \n",
      " 9 N279JB \n",
      "10 N178JB \n",
      "# ... with 3,230 more rows\n",
      "# A tibble: 3,240 x 1\n",
      "   tailnum\n",
      "   <chr>  \n",
      " 1 N346JB \n",
      " 2 N18120 \n",
      " 3 N76523 \n",
      " 4 N527MQ \n",
      " 5 N3DYAA \n",
      " 6 N39297 \n",
      " 7 N73291 \n",
      " 8 N931XJ \n",
      " 9 N279JB \n",
      "10 N178JB \n",
      "# ... with 3,230 more rows\n"
     ]
    }
   ],
   "source": [
    "sqltbl(\"SELECT tailnum FROM flights_sub\") %>% print\n",
    "flights_sub %>% select(tailnum) %>% print"
   ]
  },
  {
   "cell_type": "markdown",
   "metadata": {
    "slideshow": {
     "slide_type": "slide"
    }
   },
   "source": [
    "The special character `*` in SQL will match all columns:"
   ]
  },
  {
   "cell_type": "code",
   "execution_count": 31,
   "metadata": {},
   "outputs": [
    {
     "name": "stdout",
     "output_type": "stream",
     "text": [
      "# A tibble: 3,240 x 19\n",
      "    year month   day dep_time sched_dep_time dep_delay arr_time sched_arr_time\n",
      "   <int> <int> <int>    <int>          <int>     <dbl>    <int>          <int>\n",
      " 1  2013     1     1     1713           1700        13     2006           2014\n",
      " 2  2013     1     1     1842           1422       260     1958           1535\n",
      " 3  2013     1     1     1952           1930        22     2257           2251\n",
      " 4  2013     1     1     2008           1855        73     2223           2100\n",
      " 5  2013     1     2      634            630         4      806            810\n",
      " 6  2013     1     2      637            631         6      821            815\n",
      " 7  2013     1     2      732            732         0     1047           1040\n",
      " 8  2013     1     2      817            820        -3     1015           1007\n",
      " 9  2013     1     2      820            827        -7     1117           1105\n",
      "10  2013     1     2      904            910        -6     1026           1027\n",
      "# ... with 3,230 more rows, and 11 more variables: arr_delay <dbl>,\n",
      "#   carrier <chr>, flight <int>, tailnum <chr>, origin <chr>, dest <chr>,\n",
      "#   air_time <dbl>, distance <dbl>, hour <dbl>, minute <dbl>, time_hour <dttm>\n"
     ]
    }
   ],
   "source": [
    "sqltbl(\"SELECT * FROM flights_sub\") %>% print"
   ]
  },
  {
   "cell_type": "markdown",
   "metadata": {
    "slideshow": {
     "slide_type": "slide"
    }
   },
   "source": [
    "#### Filtering\n",
    "\n",
    "The SQL syntax for filtering rows in a table uses the `WHERE` clause:\n",
    "```{sql}\n",
    "SELECT * FROM <table> WHERE dest=\"IAH\"\n",
    "```\n",
    "This is the same as:\n",
    "```{r}\n",
    "filter(<table>, dest==\"IAH\")\n",
    "```\n",
    "Note that SQL uses a single `=` to check equality!"
   ]
  },
  {
   "cell_type": "code",
   "execution_count": 33,
   "metadata": {
    "slideshow": {
     "slide_type": "slide"
    }
   },
   "outputs": [
    {
     "name": "stdout",
     "output_type": "stream",
     "text": [
      "# A tibble: 84 x 19\n",
      "    year month   day dep_time sched_dep_time dep_delay arr_time sched_arr_time\n",
      "   <int> <int> <int>    <int>          <int>     <dbl>    <int>          <int>\n",
      " 1  2013     1     2      732            732         0     1047           1040\n",
      " 2  2013     1    28     1035           1015        20     1332           1334\n",
      " 3  2013     1    30      746            752        -6     1111           1058\n",
      " 4  2013    10     2      855            855         0     1121           1156\n",
      " 5  2013    10     5     1023           1030        -7     1312           1326\n",
      " 6  2013    10     5     1634           1629         5     1915           1919\n",
      " 7  2013    10     7     1429           1415        14     1718           1704\n",
      " 8  2013    10    20     1653           1700        -7     1927           1953\n",
      " 9  2013    10    21      903            902         1     1211           1148\n",
      "10  2013    11     3     1020           1029        -9     1305           1325\n",
      "# ... with 74 more rows, and 11 more variables: arr_delay <dbl>, carrier <chr>,\n",
      "#   flight <int>, tailnum <chr>, origin <chr>, dest <chr>, air_time <dbl>,\n",
      "#   distance <dbl>, hour <dbl>, minute <dbl>, time_hour <dttm>\n",
      "# A tibble: 84 x 19\n",
      "    year month   day dep_time sched_dep_time dep_delay arr_time sched_arr_time\n",
      "   <int> <int> <int>    <int>          <int>     <dbl>    <int>          <int>\n",
      " 1  2013     1     2      732            732         0     1047           1040\n",
      " 2  2013     1    28     1035           1015        20     1332           1334\n",
      " 3  2013     1    30      746            752        -6     1111           1058\n",
      " 4  2013    10     2      855            855         0     1121           1156\n",
      " 5  2013    10     5     1023           1030        -7     1312           1326\n",
      " 6  2013    10     5     1634           1629         5     1915           1919\n",
      " 7  2013    10     7     1429           1415        14     1718           1704\n",
      " 8  2013    10    20     1653           1700        -7     1927           1953\n",
      " 9  2013    10    21      903            902         1     1211           1148\n",
      "10  2013    11     3     1020           1029        -9     1305           1325\n",
      "# ... with 74 more rows, and 11 more variables: arr_delay <dbl>, carrier <chr>,\n",
      "#   flight <int>, tailnum <chr>, origin <chr>, dest <chr>, air_time <dbl>,\n",
      "#   distance <dbl>, hour <dbl>, minute <dbl>, time_hour <dttm>\n"
     ]
    }
   ],
   "source": [
    "sqltbl('SELECT * FROM flights_sub WHERE dest=\"IAH\"') %>% print\n",
    "filter(flights_sub, dest==\"IAH\") %>% print"
   ]
  },
  {
   "cell_type": "markdown",
   "metadata": {
    "slideshow": {
     "slide_type": "slide"
    }
   },
   "source": [
    "#### Summarizing\n",
    "\n",
    "The SQL syntax for summarizing is using the `GROUP BY` clause:\n",
    "```{sql}\n",
    "SELECT summary_func(<col>) AS new_col FROM <table> GROUP_BY(dest)\n",
    "```\n",
    "This is the same as:\n",
    "```{r}\n",
    "group_by(<table>) %>% summarize(new_col=summary_func(<col>))\n",
    "```"
   ]
  },
  {
   "cell_type": "code",
   "execution_count": 35,
   "metadata": {},
   "outputs": [
    {
     "data": {
      "text/plain": [
       "  origin n   \n",
       "1 EWR    1142\n",
       "2 JFK    1062\n",
       "3 LGA    1036"
      ]
     },
     "metadata": {},
     "output_type": "display_data"
    },
    {
     "data": {
      "text/plain": [
       "  origin n   \n",
       "1 EWR    1142\n",
       "2 JFK    1062\n",
       "3 LGA    1036"
      ]
     },
     "metadata": {},
     "output_type": "display_data"
    }
   ],
   "source": [
    "sqltbl(\"SELECT origin, COUNT() as n FROM flights_sub GROUP BY origin\")\n",
    "flights_sub %>% group_by(origin) %>% summarize(n=n())"
   ]
  },
  {
   "cell_type": "markdown",
   "metadata": {
    "slideshow": {
     "slide_type": "slide"
    }
   },
   "source": [
    "#### Joins\n",
    "\n",
    "The SQL syntax for joins:\n",
    "```{sql}\n",
    "SELECT * FROM <table> (LEFT|RIGHT|'') (INNER|OUTER) JOIN <other_table> ON <condition>\n",
    "```\n",
    "This is the same as:\n",
    "```{r}\n",
    "left_join(<table>, <other_table>, key=<key>)\n",
    "```\n",
    "SQL is more general in specifying the join condition. Whereas in tidyverse it must be a key, in\n",
    "SQL it can be a general logical condition."
   ]
  },
  {
   "cell_type": "code",
   "execution_count": 38,
   "metadata": {
    "slideshow": {
     "slide_type": "slide"
    }
   },
   "outputs": [
    {
     "name": "stdout",
     "output_type": "stream",
     "text": [
      "# A tibble: 3,240 x 5\n",
      "    year month   day tailnum manufacturer  \n",
      "   <int> <int> <int> <chr>   <chr>         \n",
      " 1  2013     1     1 N346JB  EMBRAER       \n",
      " 2  2013     1     1 N18120  EMBRAER       \n",
      " 3  2013     1     1 N76523  BOEING        \n",
      " 4  2013     1     1 <NA>    <NA>          \n",
      " 5  2013     1     2 <NA>    <NA>          \n",
      " 6  2013     1     2 N39297  BOEING        \n",
      " 7  2013     1     2 N73291  BOEING        \n",
      " 8  2013     1     2 N931XJ  BOMBARDIER INC\n",
      " 9  2013     1     2 N279JB  EMBRAER       \n",
      "10  2013     1     2 N178JB  EMBRAER       \n",
      "# ... with 3,230 more rows\n"
     ]
    }
   ],
   "source": [
    "sqltbl('SELECT flights_sub.year, flights_sub.month, flights_sub.day, \n",
    "               planes.tailnum, planes.manufacturer FROM flights_sub \n",
    "        LEFT OUTER JOIN planes ON flights_sub.tailnum=planes.tailnum') %>% print"
   ]
  },
  {
   "cell_type": "markdown",
   "metadata": {
    "slideshow": {
     "slide_type": "notes"
    }
   },
   "source": [
    "Note here that SQL requires us to be explicit about which columns we are `SELECT`ing when joining multiple tables. Each column name must be prefixed with the name of the table in which it resides."
   ]
  }
 ],
 "metadata": {
  "celltoolbar": "Slideshow",
  "kernelspec": {
   "display_name": "R",
   "language": "R",
   "name": "ir"
  },
  "language_info": {
   "codemirror_mode": "r",
   "file_extension": ".r",
   "mimetype": "text/x-r-source",
   "name": "R",
   "pygments_lexer": "r",
   "version": "3.4.4"
  }
 },
 "nbformat": 4,
 "nbformat_minor": 2
}
