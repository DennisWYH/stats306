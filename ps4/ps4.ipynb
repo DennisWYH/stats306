{
 "cells": [
  {
   "cell_type": "markdown",
   "metadata": {},
   "source": [
    "Before you turn this problem set in, make sure everything runs as expected. First, **restart the kernel** (in the menubar, select Kernel$\\rightarrow$Restart) and then **run all cells** (in the menubar, select Cell$\\rightarrow$Run All). Your code should run from top to bottom with no errors. Failure to do this will result in loss of points.\n",
    "\n",
    "You should not use `install.packages()` anywhere. You may assume that we have already installed all the packages needed to run your code.\n",
    "\n",
    "Make sure you fill in any place that says `YOUR CODE HERE` or \"YOUR ANSWER HERE\" and delete the `stop()` functions, as well as your name and collaborators below:"
   ]
  },
  {
   "cell_type": "code",
   "execution_count": null,
   "metadata": {},
   "outputs": [],
   "source": [
    "NAME = \"\"  # your uniqname \n",
    "COLLABORATORS = c()  # vector of uniqnames of your collaborators, if any\n",
    "## IMPORTANT: you must also have set your group on Canvas. This is only used as a backup."
   ]
  },
  {
   "cell_type": "markdown",
   "metadata": {},
   "source": [
    "---"
   ]
  },
  {
   "cell_type": "code",
   "execution_count": null,
   "metadata": {
    "deletable": false,
    "editable": false,
    "nbgrader": {
     "checksum": "1920e712118a4cbf689bb19dec2473ed",
     "grade": false,
     "grade_id": "cell-fff94ad42b051e7f",
     "locked": true,
     "schema_version": 1,
     "solution": false
    }
   },
   "outputs": [],
   "source": [
    "library(tidyverse)\n",
    "library(nycflights13)"
   ]
  },
  {
   "cell_type": "markdown",
   "metadata": {
    "deletable": false,
    "editable": false,
    "nbgrader": {
     "checksum": "192b015545cac1f90c1c09e1115fbbb4",
     "grade": false,
     "grade_id": "cell-64b4d6326575c98f",
     "locked": true,
     "schema_version": 1,
     "solution": false
    }
   },
   "source": [
    "# STATS 306\n",
    "## Problem Set 4: EDA & Table Joins\n",
    "Each question is worth two points, for a total of 20."
   ]
  },
  {
   "attachments": {
    "image.png": {
     "image/png": "[encoded data removed]"
    }
   },
   "cell_type": "markdown",
   "metadata": {
    "deletable": false,
    "editable": false,
    "nbgrader": {
     "checksum": "9fd7900f447bd8e32c9d329f4914836e",
     "grade": false,
     "grade_id": "cell-34e7e20460bfe052",
     "locked": true,
     "schema_version": 1,
     "solution": false
    }
   },
   "source": [
    "#### Problem 1\n",
    "Suppose you are given the following whisker plot for $n=200$ samples of a random variable $x$:\n",
    "![image.png](attachment:image.png)\n",
    "1. About how many samples were between .1 and .2?\n",
    "2. The upper whisker extends to about $x=0.5$. Explain how this is calculated."
   ]
  },
  {
   "cell_type": "markdown",
   "metadata": {
    "deletable": false,
    "nbgrader": {
     "checksum": "de3419fcc6a36cc7aeb773f4f84657da",
     "grade": true,
     "grade_id": "cell-235d19ff257422e9",
     "locked": false,
     "points": 2,
     "schema_version": 1,
     "solution": true
    }
   },
   "source": [
    "YOUR ANSWER HERE"
   ]
  },
  {
   "cell_type": "markdown",
   "metadata": {
    "deletable": false,
    "editable": false,
    "nbgrader": {
     "checksum": "991e3706850fd1e715cab25c948432d1",
     "grade": false,
     "grade_id": "cell-4987eacd7efa1853",
     "locked": true,
     "schema_version": 1,
     "solution": false
    }
   },
   "source": [
    "#### Problem 2\n",
    "The most common model of airplane flown by United Airlines is the 737-824; there are 122 instances of this type of aircraft in the data. What is the most common airplane model flown by Delta airlines? Store your answer in a variable called `model2`."
   ]
  },
  {
   "cell_type": "code",
   "execution_count": null,
   "metadata": {
    "deletable": false,
    "nbgrader": {
     "checksum": "3034ebe76a8e952f2041dac4afb4c442",
     "grade": false,
     "grade_id": "cell-d63147495625cfe4",
     "locked": false,
     "schema_version": 1,
     "solution": true
    }
   },
   "outputs": [],
   "source": [
    "model2 <- NA\n",
    "# YOUR CODE HERE\n",
    "stop()"
   ]
  },
  {
   "cell_type": "code",
   "execution_count": null,
   "metadata": {
    "deletable": false,
    "editable": false,
    "nbgrader": {
     "checksum": "c88305bf8577ff3ed628ac9282ac2d97",
     "grade": true,
     "grade_id": "cell-2569a1446450520c",
     "locked": true,
     "points": 2,
     "schema_version": 1,
     "solution": false
    }
   },
   "outputs": [],
   "source": [
    "stopifnot(exists(\"model2\"))"
   ]
  },
  {
   "cell_type": "markdown",
   "metadata": {
    "deletable": false,
    "editable": false,
    "nbgrader": {
     "checksum": "bb18f2510169279ae831de2df892f4e7",
     "grade": false,
     "grade_id": "cell-b25607e21647e504",
     "locked": true,
     "schema_version": 1,
     "solution": false
    }
   },
   "source": [
    "#### Problem 3\n",
    "In July there were 31 departures from JFK destined for somewhere tropical. How many were there in December? Store your answer in a variable called `lga3`."
   ]
  },
  {
   "cell_type": "code",
   "execution_count": null,
   "metadata": {
    "deletable": false,
    "nbgrader": {
     "checksum": "f3727947e25e08461a980b721f0eb00a",
     "grade": false,
     "grade_id": "cell-a50e7d0ff1f42bf6",
     "locked": false,
     "schema_version": 1,
     "solution": true
    }
   },
   "outputs": [],
   "source": [
    "lga3 = NA\n",
    "# YOUR CODE HERE\n",
    "stop()"
   ]
  },
  {
   "cell_type": "code",
   "execution_count": null,
   "metadata": {
    "deletable": false,
    "editable": false,
    "nbgrader": {
     "checksum": "4661e621faad203670adf949698f6bc3",
     "grade": true,
     "grade_id": "cell-495211c26592238b",
     "locked": true,
     "points": 2,
     "schema_version": 1,
     "solution": false
    }
   },
   "outputs": [],
   "source": [
    "stopifnot(exists('lga3'))"
   ]
  },
  {
   "cell_type": "markdown",
   "metadata": {
    "deletable": false,
    "editable": false,
    "nbgrader": {
     "checksum": "01337bb79fc07b7852bd2c6613c19b89",
     "grade": false,
     "grade_id": "cell-208359d1f67d6564",
     "locked": true,
     "schema_version": 1,
     "solution": false
    }
   },
   "source": [
    "#### Problem 4\n",
    "The *odds* of a binary event equals the probability of occurrence divided by the probability of non-occurrence.\n",
    "- The odds of flipping a fair coin and seeing heads are $1:1$, i.e. one.\n",
    "- The odds that a randomly chosen day of the week is a Saturday are $\\frac{1/7}{6/7}=1:6 = .167$.\n",
    "\n",
    "There were 27261 United Airlines flights which experienced a departure delay:\n"
   ]
  },
  {
   "cell_type": "code",
   "execution_count": null,
   "metadata": {
    "deletable": false,
    "editable": false,
    "nbgrader": {
     "checksum": "17480d450ea8dde5452e788ed5ee7762",
     "grade": false,
     "grade_id": "cell-01c33aea5ee6d55b",
     "locked": true,
     "schema_version": 1,
     "solution": false
    }
   },
   "outputs": [],
   "source": [
    "flights %>% filter(carrier == \"UA\") %>% count(dep_delay > 0)"
   ]
  },
  {
   "cell_type": "markdown",
   "metadata": {
    "deletable": false,
    "editable": false,
    "nbgrader": {
     "checksum": "55f05f293b2bf052841beda0b38de6ad",
     "grade": false,
     "grade_id": "cell-330bbb48fd151ec0",
     "locked": true,
     "schema_version": 1,
     "solution": false
    }
   },
   "source": [
    "Of the 27261 flights that experienced a departure delay, and after dropping flights with missing `dep_delay`, it was also the case that the *immediately preceding* (in chronological order, with ties broken by tail number) United Airlines flight was also delayed. Hence, the odds of experiencing a delay given that the previous flight was also delayed are $15246/(27261 - 15246)=1.27$.\n",
    "\n",
    "Using the same criteria, what are the odds that a Delta Airlines flight is delayed given that the previous Delta flight was also delayed? Store your answer in a random variable called `odds4`. (We will check your to two decimal places.)"
   ]
  },
  {
   "cell_type": "code",
   "execution_count": null,
   "metadata": {
    "deletable": false,
    "nbgrader": {
     "checksum": "f72ed2cd531b8c78aed6437ebb661863",
     "grade": false,
     "grade_id": "cell-81b7f6c5bc9eb4ad",
     "locked": false,
     "schema_version": 1,
     "solution": true
    }
   },
   "outputs": [],
   "source": [
    "odds4 <- NA\n",
    "# YOUR CODE HERE\n",
    "stop()"
   ]
  },
  {
   "cell_type": "code",
   "execution_count": null,
   "metadata": {
    "deletable": false,
    "editable": false,
    "nbgrader": {
     "checksum": "6bf88ff8dde0937e0608e7fb2709877b",
     "grade": true,
     "grade_id": "cell-f07654b7d665ad92",
     "locked": true,
     "points": 2,
     "schema_version": 1,
     "solution": false
    }
   },
   "outputs": [],
   "source": [
    "stopifnot(exists(\"odds4\"))"
   ]
  },
  {
   "cell_type": "markdown",
   "metadata": {
    "deletable": false,
    "editable": false,
    "nbgrader": {
     "checksum": "458429d4cf91bf41242b25df4e574c17",
     "grade": false,
     "grade_id": "cell-f851d8e8eb063b90",
     "locked": true,
     "schema_version": 1,
     "solution": false
    }
   },
   "source": [
    "#### Problem 5\n",
    "How many flights were destined for airports with a one-word name? Store your integer answer in a variable called `oneword5`. (*Hint*: consider `str_detect`.)"
   ]
  },
  {
   "cell_type": "code",
   "execution_count": null,
   "metadata": {
    "deletable": false,
    "nbgrader": {
     "checksum": "b50e0aa24098741844cf2b0a2e19cfa2",
     "grade": false,
     "grade_id": "cell-7d04f3dc2511af86",
     "locked": false,
     "schema_version": 1,
     "solution": true
    }
   },
   "outputs": [],
   "source": [
    "oneword5 <- NA\n",
    "# YOUR CODE HERE\n",
    "stop()"
   ]
  },
  {
   "cell_type": "code",
   "execution_count": null,
   "metadata": {
    "deletable": false,
    "editable": false,
    "nbgrader": {
     "checksum": "335afd493af4e9e4cb59de614d6f7fd6",
     "grade": true,
     "grade_id": "cell-8bf23cdb5f7fe556",
     "locked": true,
     "points": 2,
     "schema_version": 1,
     "solution": false
    }
   },
   "outputs": [],
   "source": [
    "stopifnot(exists(\"oneword5\"))"
   ]
  },
  {
   "cell_type": "markdown",
   "metadata": {
    "deletable": false,
    "editable": false,
    "nbgrader": {
     "checksum": "4f5ea1bcd042a51d08fb04ccf103016f",
     "grade": false,
     "grade_id": "cell-377778e350882fbc",
     "locked": true,
     "schema_version": 1,
     "solution": false
    }
   },
   "source": [
    "#### Problem 6\n",
    "The average city gas mileage of the Audi A4 (across all different model options) in 1999 and 2008 was:"
   ]
  },
  {
   "cell_type": "code",
   "execution_count": null,
   "metadata": {
    "deletable": false,
    "editable": false,
    "nbgrader": {
     "checksum": "eaa2eaaa5c333c6a8b8a82b79fc27dc8",
     "grade": false,
     "grade_id": "cell-9dac36f6459d2c7c",
     "locked": true,
     "schema_version": 1,
     "solution": false
    }
   },
   "outputs": [],
   "source": [
    "mpg %>% filter(manufacturer == \"audi\", model == \"a4\") %>% group_by(year) %>% \n",
    "        summarize(avg_cty = mean(cty)) %>% print"
   ]
  },
  {
   "cell_type": "markdown",
   "metadata": {
    "deletable": false,
    "editable": false,
    "nbgrader": {
     "checksum": "97885f6f998ab076ad463176a9f220c1",
     "grade": false,
     "grade_id": "cell-f06e15b5c46f8d1e",
     "locked": true,
     "schema_version": 1,
     "solution": false
    }
   },
   "source": [
    "Hence, average city gas mileage for this vehicle *improved* between 1999 and 2008.\n",
    "\n",
    "For how many models was average city gas mileage *lower* in 1999 than in 2008? Store your answer as an integer in a variable called `decreased6`."
   ]
  },
  {
   "cell_type": "code",
   "execution_count": null,
   "metadata": {
    "deletable": false,
    "nbgrader": {
     "checksum": "ee87d28fac22dd9850ce73cad729c30a",
     "grade": false,
     "grade_id": "cell-22c11d994659edc1",
     "locked": false,
     "schema_version": 1,
     "solution": true
    }
   },
   "outputs": [],
   "source": [
    "decreased6 <- NA\n",
    "# YOUR CODE HERE\n",
    "stop()"
   ]
  },
  {
   "cell_type": "code",
   "execution_count": null,
   "metadata": {
    "deletable": false,
    "editable": false,
    "nbgrader": {
     "checksum": "9b660ba8ca61c07791e211e2731d2963",
     "grade": true,
     "grade_id": "cell-a123b1b12b088afb",
     "locked": true,
     "points": 2,
     "schema_version": 1,
     "solution": false
    }
   },
   "outputs": [],
   "source": [
    "stopifnot(exists(\"decreased6\"))"
   ]
  },
  {
   "cell_type": "markdown",
   "metadata": {
    "deletable": false,
    "editable": false,
    "nbgrader": {
     "checksum": "95f5aa38285d48a52c4513726adee9fe",
     "grade": false,
     "grade_id": "cell-8309ab0528847cdb",
     "locked": true,
     "schema_version": 1,
     "solution": false
    }
   },
   "source": [
    "### Football data\n",
    "The next few questions use a new data set. The file `cfb.RData` contains a table called `cfb` with information on 5353 college football games played since 2011. (More information about this data can be found [here](http://www.seldomusedreserve.com/?page_id=8805).)"
   ]
  },
  {
   "cell_type": "code",
   "execution_count": null,
   "metadata": {
    "deletable": false,
    "editable": false,
    "nbgrader": {
     "checksum": "8d620698789200da639afa119addbf86",
     "grade": false,
     "grade_id": "cell-7ce8eab47f8c645d",
     "locked": true,
     "schema_version": 1,
     "solution": false
    }
   },
   "outputs": [],
   "source": [
    "load('cfb.RData')\n",
    "print(cfb)"
   ]
  },
  {
   "cell_type": "markdown",
   "metadata": {
    "deletable": false,
    "editable": false,
    "nbgrader": {
     "checksum": "9772ef90e05027d62cdc2d03dd81d93f",
     "grade": false,
     "grade_id": "cell-57a1cb3fa2d6f0a9",
     "locked": true,
     "schema_version": 1,
     "solution": false
    }
   },
   "source": [
    "#### Problem 7\n",
    "Certain conferences have a reputation for being higher scoring. Investigate this by restricting to conference games and producing a box-and-whisker plot that shows the distribution of the winning point spreads by conference. The plot should be rotated 90 degrees so that the conference names are legible, and the conferences should be in descending order of the median point spread (i.e. conference with the highest median point spread is at the top of the plot.) \n",
    "\n",
    "(Note: Your plot may reveal a data entry error in this dataset. If so, correct it before producing the final plot.)"
   ]
  },
  {
   "cell_type": "code",
   "execution_count": null,
   "metadata": {
    "deletable": false,
    "nbgrader": {
     "checksum": "979d027e02beedade0a160d95bf2b962",
     "grade": true,
     "grade_id": "cell-a25d2529b04774f2",
     "locked": false,
     "points": 2,
     "schema_version": 1,
     "solution": true
    }
   },
   "outputs": [],
   "source": [
    "# YOUR CODE HERE\n",
    "stop()"
   ]
  },
  {
   "cell_type": "markdown",
   "metadata": {
    "deletable": false,
    "editable": false,
    "nbgrader": {
     "checksum": "4f4eb3c55348c710de1ac2c19e49dd28",
     "grade": false,
     "grade_id": "cell-c6549befa1846d55",
     "locked": true,
     "schema_version": 1,
     "solution": false
    }
   },
   "source": [
    "#### Problem 8\n",
    "Filter `cfb` by again restricting to conference games, and then to the four largest conferences in terms of total games played. For each conference, plot a frequency polygon of the winning team's total yardage. \n",
    "- Each conference should have a different colored line. \n",
    "- To facilitate comparison between the different conferences, each frequency polygon should be normalized to have unit area. \n",
    "- Experiment with a few values of the bin size to find a setting that provides an acceptable tradeoff between smoothness and detail."
   ]
  },
  {
   "cell_type": "code",
   "execution_count": null,
   "metadata": {
    "deletable": false,
    "nbgrader": {
     "checksum": "6e3b8d31e4e492c2a257ecf77c191cc9",
     "grade": true,
     "grade_id": "cell-b07f821f27f4dc26",
     "locked": false,
     "points": 2,
     "schema_version": 1,
     "solution": true
    }
   },
   "outputs": [],
   "source": [
    "# YOUR CODE HERE\n",
    "stop()"
   ]
  },
  {
   "cell_type": "markdown",
   "metadata": {
    "deletable": false,
    "editable": false,
    "nbgrader": {
     "checksum": "c8c0732c8c9db20831e246aa6723c608",
     "grade": false,
     "grade_id": "cell-88dd10da292b201b",
     "locked": true,
     "schema_version": 1,
     "solution": false
    }
   },
   "source": [
    "#### Problem 9\n",
    "Compute a 2D density estimate (contour plot) of the joint distribution of Michigan's passing and rushing yardage across every  University of Michigan game in `cfb`. Give your plot appropirate axis labels and a title."
   ]
  },
  {
   "cell_type": "code",
   "execution_count": null,
   "metadata": {
    "deletable": false,
    "nbgrader": {
     "checksum": "3685940605e37a68dc0900f72e08b28a",
     "grade": true,
     "grade_id": "cell-ac6a31f64beb59e2",
     "locked": false,
     "points": 2,
     "schema_version": 1,
     "solution": true
    }
   },
   "outputs": [],
   "source": [
    "# YOUR CODE HERE\n",
    "stop()"
   ]
  },
  {
   "attachments": {
    "image.png": {
     "image/png": "[encoded data removed]"
    }
   },
   "cell_type": "markdown",
   "metadata": {
    "deletable": false,
    "editable": false,
    "nbgrader": {
     "checksum": "7645402cc390a3931a63808d563cdb81",
     "grade": false,
     "grade_id": "cell-8b2f645e44511927",
     "locked": true,
     "schema_version": 1,
     "solution": false
    }
   },
   "source": [
    "#### Problem 10\n",
    "Compute the yearly winning percentage for Michigan and Ohio State and use it to generate the following line plot:\n",
    "\n",
    "![image.png](attachment:image.png)\n",
    "\n",
    "The plot should have a <span style=\"color:blue\">blue</span> line for Michigan and a <span style=\"color:red\">red</span> line for Ohio, and as many $x$ values as there are years in the data. (Note: I have been told this sort of graphic causes Michigan fans deep anguish. Feel free to `annotate()` your plot accordingly if so.)"
   ]
  },
  {
   "cell_type": "code",
   "execution_count": null,
   "metadata": {
    "deletable": false,
    "nbgrader": {
     "checksum": "421a0fe4db063093f8323d221fc6259f",
     "grade": true,
     "grade_id": "cell-13c137bd534e5f6c",
     "locked": false,
     "points": 2,
     "schema_version": 1,
     "solution": true
    }
   },
   "outputs": [],
   "source": [
    "# YOUR CODE HERE\n",
    "stop()"
   ]
  },
  {
   "cell_type": "markdown",
   "metadata": {
    "deletable": false,
    "editable": false,
    "nbgrader": {
     "checksum": "c012eda80a344a41d1b0beb5fa30e34d",
     "grade": false,
     "grade_id": "cell-20ad09af1b37c604",
     "locked": true,
     "schema_version": 1,
     "solution": false
    }
   },
   "source": [
    "#### Problem 11 (challenge problem)\n",
    "<small>Worth two points extra credit. No hints given!</small>\n",
    "\n",
    "Let's say a flight departed under \"rainy conditions\" if, at the departure airport in the 24 hours leading up to (and including) the flight's departure time,\n",
    "1. there was at least a quarter of an inch of (cumulative) precipitation, and \n",
    "2. the average temperature during that period was above 40 degrees Fahrenheit. \n",
    "\n",
    "How many flights departed under rainy conditions on of the ten Federal holidays in 2013? (Drop any flights for which this cannot be computed due to missing data.) Store your answer in a variable called `rainy_holiday_departures`."
   ]
  },
  {
   "cell_type": "code",
   "execution_count": null,
   "metadata": {
    "deletable": false,
    "nbgrader": {
     "checksum": "2d9c8ae1e5d97e2e55f361412e8bb3f8",
     "grade": false,
     "grade_id": "cell-f01b0f263c3c9bb6",
     "locked": false,
     "schema_version": 1,
     "solution": true
    }
   },
   "outputs": [],
   "source": [
    "rainy_holiday_departures <- NA\n",
    "# YOUR CODE HERE\n",
    "stop()"
   ]
  },
  {
   "cell_type": "code",
   "execution_count": null,
   "metadata": {
    "deletable": false,
    "editable": false,
    "nbgrader": {
     "checksum": "928238c75215866ba2935c0f0bf0d683",
     "grade": true,
     "grade_id": "cell-76b3d02af3e5344c",
     "locked": true,
     "points": 2,
     "schema_version": 1,
     "solution": false
    }
   },
   "outputs": [],
   "source": []
  }
 ],
 "metadata": {
  "kernelspec": {
   "display_name": "R",
   "language": "R",
   "name": "ir"
  },
  "language_info": {
   "codemirror_mode": "r",
   "file_extension": ".r",
   "mimetype": "text/x-r-source",
   "name": "R",
   "pygments_lexer": "r",
   "version": "3.4.3"
  }
 },
 "nbformat": 4,
 "nbformat_minor": 2
}
