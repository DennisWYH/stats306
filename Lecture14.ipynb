{
 "cells": [
  {
   "cell_type": "markdown",
   "metadata": {},
   "source": [
    "In this notebook, we will cover:\n",
    "\n",
    "* [String length](#String-length)\n",
    "* [Combining strings](#Combining-strings)\n",
    "* [Subsetting strings](#Subsetting-strings)\n",
    "* [Locales](#Locales)"
   ]
  },
  {
   "cell_type": "code",
   "execution_count": 4,
   "metadata": {},
   "outputs": [
    {
     "name": "stderr",
     "output_type": "stream",
     "text": [
      "Loading tidyverse: ggplot2\n",
      "Loading tidyverse: tibble\n",
      "Loading tidyverse: tidyr\n",
      "Loading tidyverse: readr\n",
      "Loading tidyverse: purrr\n",
      "Loading tidyverse: dplyr\n",
      "Conflicts with tidy packages ---------------------------------------------------\n",
      "filter(): dplyr, stats\n",
      "lag():    dplyr, stats\n"
     ]
    }
   ],
   "source": [
    "library(tidyverse)\n",
    "library(stringr)"
   ]
  },
  {
   "cell_type": "markdown",
   "metadata": {},
   "source": [
    "# String length"
   ]
  },
  {
   "cell_type": "code",
   "execution_count": 5,
   "metadata": {},
   "outputs": [
    {
     "data": {
      "text/html": [
       "'STATS 306'"
      ],
      "text/latex": [
       "'STATS 306'"
      ],
      "text/markdown": [
       "'STATS 306'"
      ],
      "text/plain": [
       "[1] \"STATS 306\""
      ]
     },
     "metadata": {},
     "output_type": "display_data"
    }
   ],
   "source": [
    "(mystring <- \"STATS 306\")"
   ]
  },
  {
   "cell_type": "code",
   "execution_count": 6,
   "metadata": {},
   "outputs": [
    {
     "data": {
      "text/html": [
       "'STATS 306'"
      ],
      "text/latex": [
       "'STATS 306'"
      ],
      "text/markdown": [
       "'STATS 306'"
      ],
      "text/plain": [
       "[1] \"STATS 306\""
      ]
     },
     "metadata": {},
     "output_type": "display_data"
    }
   ],
   "source": [
    "(mystring2 <- 'STATS 306')"
   ]
  },
  {
   "cell_type": "markdown",
   "metadata": {},
   "source": [
    "You can create strings using double quotes or single quotes -- there's no difference. However, for consisteny, you might want to stick to double quotes except in cases when your strong itself has double quotes."
   ]
  },
  {
   "cell_type": "code",
   "execution_count": 9,
   "metadata": {},
   "outputs": [
    {
     "data": {
      "text/html": [
       "'\"MLE\" stands for \"Maximum Likelihood Estimate\"'"
      ],
      "text/latex": [
       "'\"MLE\" stands for \"Maximum Likelihood Estimate\"'"
      ],
      "text/markdown": [
       "'\"MLE\" stands for \"Maximum Likelihood Estimate\"'"
      ],
      "text/plain": [
       "[1] \"\\\"MLE\\\" stands for \\\"Maximum Likelihood Estimate\\\"\""
      ]
     },
     "metadata": {},
     "output_type": "display_data"
    }
   ],
   "source": [
    "(mystring3 <- '\"MLE\" stands for \"Maximum Likelihood Estimate\"')"
   ]
  },
  {
   "cell_type": "markdown",
   "metadata": {},
   "source": [
    "You can create a string with double quotes in it while using double quotes to create it but you will have to use a lot of *escape* all the double quotes!"
   ]
  },
  {
   "cell_type": "code",
   "execution_count": 11,
   "metadata": {},
   "outputs": [
    {
     "data": {
      "text/html": [
       "'\"MLE\" stands for \"Maximum Likelihood Estimate\"'"
      ],
      "text/latex": [
       "'\"MLE\" stands for \"Maximum Likelihood Estimate\"'"
      ],
      "text/markdown": [
       "'\"MLE\" stands for \"Maximum Likelihood Estimate\"'"
      ],
      "text/plain": [
       "[1] \"\\\"MLE\\\" stands for \\\"Maximum Likelihood Estimate\\\"\""
      ]
     },
     "metadata": {},
     "output_type": "display_data"
    }
   ],
   "source": [
    "(mystring3 <- \"\\\"MLE\\\" stands for \\\"Maximum Likelihood Estimate\\\"\")"
   ]
  },
  {
   "cell_type": "markdown",
   "metadata": {},
   "source": [
    "This is also means that if you actually want a backslash in your string, you need to escape it as well."
   ]
  },
  {
   "cell_type": "code",
   "execution_count": 12,
   "metadata": {},
   "outputs": [
    {
     "data": {
      "text/html": [
       "'\\ is the backslash character'"
      ],
      "text/latex": [
       "'\\textbackslash{} is the backslash character'"
      ],
      "text/markdown": [
       "'\\ is the backslash character'"
      ],
      "text/plain": [
       "[1] \"\\\\ is the backslash character\""
      ]
     },
     "metadata": {},
     "output_type": "display_data"
    }
   ],
   "source": [
    "(mystring4 <- \"\\\\ is the backslash character\")"
   ]
  },
  {
   "cell_type": "code",
   "execution_count": 13,
   "metadata": {},
   "outputs": [
    {
     "data": {
      "text/html": [
       "<ol class=list-inline>\n",
       "\t<li>'\"'</li>\n",
       "\t<li>'\"'</li>\n",
       "\t<li>'\\''</li>\n",
       "\t<li>'\\''</li>\n",
       "\t<li>'\\'</li>\n",
       "\t<li>'\\/'</li>\n",
       "</ol>\n"
      ],
      "text/latex": [
       "\\begin{enumerate*}\n",
       "\\item '\"'\n",
       "\\item '\"'\n",
       "\\item '\\textbackslash{}''\n",
       "\\item '\\textbackslash{}''\n",
       "\\item '\\textbackslash{}'\n",
       "\\item '\\textbackslash{}/'\n",
       "\\end{enumerate*}\n"
      ],
      "text/markdown": [
       "1. '\"'\n",
       "2. '\"'\n",
       "3. '\\''\n",
       "4. '\\''\n",
       "5. '\\'\n",
       "6. '\\/'\n",
       "\n",
       "\n"
      ],
      "text/plain": [
       "[1] \"\\\"\"  \"\\\"\"  \"'\"   \"'\"   \"\\\\\"  \"\\\\/\""
      ]
     },
     "metadata": {},
     "output_type": "display_data"
    }
   ],
   "source": [
    "(mystrings <- c(\"\\\"\", '\"', '\\'', \"'\", \"\\\\\", \"\\\\/\"))"
   ]
  },
  {
   "cell_type": "markdown",
   "metadata": {},
   "source": [
    "The printed representation of strings shows the escapes."
   ]
  },
  {
   "cell_type": "code",
   "execution_count": 14,
   "metadata": {},
   "outputs": [
    {
     "name": "stdout",
     "output_type": "stream",
     "text": [
      "[1] \"\\\"\"  \"\\\"\"  \"'\"   \"'\"   \"\\\\\"  \"\\\\/\"\n"
     ]
    }
   ],
   "source": [
    "print(mystrings)"
   ]
  },
  {
   "cell_type": "markdown",
   "metadata": {},
   "source": [
    "Use `writeLines()` to see the raw contents of the string. "
   ]
  },
  {
   "cell_type": "code",
   "execution_count": 15,
   "metadata": {},
   "outputs": [
    {
     "name": "stdout",
     "output_type": "stream",
     "text": [
      "\"\n",
      "\"\n",
      "'\n",
      "'\n",
      "\\\n",
      "\\/\n"
     ]
    }
   ],
   "source": [
    "writeLines(mystrings)"
   ]
  },
  {
   "cell_type": "code",
   "execution_count": null,
   "metadata": {
    "collapsed": true
   },
   "outputs": [],
   "source": []
  },
  {
   "cell_type": "markdown",
   "metadata": {},
   "source": [
    "# Combining strings"
   ]
  },
  {
   "cell_type": "code",
   "execution_count": null,
   "metadata": {
    "collapsed": true
   },
   "outputs": [],
   "source": []
  },
  {
   "cell_type": "markdown",
   "metadata": {},
   "source": [
    "# Subsetting strings"
   ]
  },
  {
   "cell_type": "code",
   "execution_count": null,
   "metadata": {
    "collapsed": true
   },
   "outputs": [],
   "source": []
  },
  {
   "cell_type": "markdown",
   "metadata": {},
   "source": [
    "# Locales"
   ]
  },
  {
   "cell_type": "code",
   "execution_count": null,
   "metadata": {
    "collapsed": true
   },
   "outputs": [],
   "source": []
  }
 ],
 "metadata": {
  "kernelspec": {
   "display_name": "R",
   "language": "R",
   "name": "ir"
  },
  "language_info": {
   "codemirror_mode": "r",
   "file_extension": ".r",
   "mimetype": "text/x-r-source",
   "name": "R",
   "pygments_lexer": "r",
   "version": "3.3.2"
  }
 },
 "nbformat": 4,
 "nbformat_minor": 1
}
