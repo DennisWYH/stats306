{
 "cells": [
  {
   "cell_type": "code",
   "execution_count": null,
   "metadata": {},
   "outputs": [],
   "source": [
    "library(tidyverse)"
   ]
  },
  {
   "cell_type": "markdown",
   "metadata": {},
   "source": [
    "### All subsets regression demo\n",
    "Here is a short demonstration of how all subsets regression works on a synthetic data set:"
   ]
  },
  {
   "cell_type": "code",
   "execution_count": null,
   "metadata": {},
   "outputs": [],
   "source": [
    "set.seed(1)\n",
    "x1 = rnorm(n = 100, mean = .5, sd = 2)\n",
    "x2 = rnorm(n = 100, mean = 5, sd = 1)\n",
    "x3 = rnorm(n = 100, mean = 3, sd = 5)\n",
    "epsilon = rnorm(n = 100, sd = .5)  # noise\n",
    "y = x1 + x2 / 2 + epsilon\n",
    "df = tibble(y, x1, x2, x3)"
   ]
  },
  {
   "cell_type": "markdown",
   "metadata": {},
   "source": [
    "Our response variable $y$ is related to the predictors by the equation \n",
    "\n",
    "$$y = x_1 + \\frac{x_2}{2} + \\varepsilon.$$\n",
    "\n",
    "Hence, we hope that all subsets selection will choose $x_1$ and $x_2$ but not $x_3$.\n",
    "\n",
    "We will use AIC as the quality measure. We begin by calculating the AIC in an intercept-only model with no predictors:"
   ]
  },
  {
   "cell_type": "code",
   "execution_count": null,
   "metadata": {},
   "outputs": [],
   "source": [
    "AIC(lm(y ~ 1, df))"
   ]
  },
  {
   "cell_type": "markdown",
   "metadata": {},
   "source": [
    "Next we consider models which have a single predictor $x_1$, $x_2$, or $x_3$:"
   ]
  },
  {
   "cell_type": "code",
   "execution_count": null,
   "metadata": {},
   "outputs": [],
   "source": [
    "map_dbl(2:4, function(i) AIC(lm(y ~ ., df[, c(1, i)])))"
   ]
  },
  {
   "cell_type": "markdown",
   "metadata": {},
   "source": [
    "There are three possible models that use two of the predictors:"
   ]
  },
  {
   "cell_type": "code",
   "execution_count": null,
   "metadata": {},
   "outputs": [],
   "source": [
    "map_dbl(list(c(2, 3), c(2, 4), c(3, 4)), function(cols) AIC(lm(y ~ ., df[c(1, cols)])))"
   ]
  },
  {
   "cell_type": "markdown",
   "metadata": {},
   "source": [
    "Finally, we consider the saturated model containing all of the predictors:"
   ]
  },
  {
   "cell_type": "code",
   "execution_count": null,
   "metadata": {},
   "outputs": [],
   "source": [
    "AIC(lm(y ~ ., df))"
   ]
  },
  {
   "cell_type": "markdown",
   "metadata": {},
   "source": [
    "The best fitting model has AIC $149.9$ and corresponds to selecting columns 2 and 3 from `df`. Since these represent $x_1$ and $x_2$, this is what we hoped would happen."
   ]
  }
 ],
 "metadata": {
  "kernelspec": {
   "display_name": "R",
   "language": "R",
   "name": "ir"
  },
  "language_info": {
   "codemirror_mode": "r",
   "file_extension": ".r",
   "mimetype": "text/x-r-source",
   "name": "R",
   "pygments_lexer": "r",
   "version": "3.4.2"
  }
 },
 "nbformat": 4,
 "nbformat_minor": 2
}
