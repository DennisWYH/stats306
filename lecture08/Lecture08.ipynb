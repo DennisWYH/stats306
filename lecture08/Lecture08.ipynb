{
 "cells": [
  {
   "cell_type": "code",
   "execution_count": 38,
   "metadata": {
    "slideshow": {
     "slide_type": "notes"
    }
   },
   "outputs": [
    {
     "name": "stderr",
     "output_type": "stream",
     "text": [
      "── Attaching packages ─────────────────────────────────────── tidyverse 1.2.1 ──\n",
      "✔ ggplot2 2.2.1     ✔ purrr   0.2.4\n",
      "✔ tibble  1.3.4     ✔ dplyr   0.7.4\n",
      "✔ tidyr   0.7.2     ✔ stringr 1.2.0\n",
      "✔ readr   1.1.1     ✔ forcats 0.2.0\n",
      "── Conflicts ────────────────────────────────────────── tidyverse_conflicts() ──\n",
      "✖ dplyr::filter()  masks stats::filter()\n",
      "✖ purrr::flatten() masks jsonlite::flatten()\n",
      "✖ dplyr::lag()     masks stats::lag()\n"
     ]
    }
   ],
   "source": [
    "library(tidyverse)"
   ]
  },
  {
   "cell_type": "markdown",
   "metadata": {
    "slideshow": {
     "slide_type": "slide"
    }
   },
   "source": [
    "# Lecture 08: tibbles & importing data\n",
    "In this notebook, we will learn about:\n",
    "\n",
    "* [Tibbles](#Tibbles), a modern take on R data frames.\n",
    "* [Importing data](#Data-import)"
   ]
  },
  {
   "cell_type": "code",
   "execution_count": 89,
   "metadata": {
    "slideshow": {
     "slide_type": "slide"
    }
   },
   "outputs": [
    {
     "data": {
      "text/plain": [
       "  Sepal.Length Sepal.Width\n",
       "1 5.1          3.5        \n",
       "2 4.9          3.0        "
      ]
     },
     "metadata": {},
     "output_type": "display_data"
    }
   ],
   "source": [
    "iris[1:2,1:2]"
   ]
  },
  {
   "cell_type": "markdown",
   "metadata": {
    "slideshow": {
     "slide_type": "slide"
    }
   },
   "source": [
    "## Tibbles\n",
    "A `tibble` is the `tidyverse` way of storing a table full of data. We've already used them extensively when working with the `dplyr` data manipulation commands. \n",
    "\n",
    "`tibble`s are not thet \"traditional\" way of representing data in R. That is called a `data.frame`. If you consult the R help functions, or read R tutorials online, you will most likely encounter `data.frames`."
   ]
  },
  {
   "cell_type": "markdown",
   "metadata": {
    "slideshow": {
     "slide_type": "notes"
    }
   },
   "source": [
    "Compared to `data.frame`s, `tibble`s have some nice features:\n",
    "- They print nicely.\n",
    "- They behave in expected ways.\n",
    "- The work better with `tidyverse`."
   ]
  },
  {
   "cell_type": "code",
   "execution_count": 182,
   "metadata": {
    "slideshow": {
     "slide_type": "slide"
    }
   },
   "outputs": [
    {
     "data": {
      "text/plain": [
       "  Sepal.Length Sepal.Width Petal.Length Petal.Width Species\n",
       "1 5.1          3.5         1.4          0.2         setosa \n",
       "2 4.9          3.0         1.4          0.2         setosa \n",
       "3 4.7          3.2         1.3          0.2         setosa \n",
       "4 4.6          3.1         1.5          0.2         setosa \n",
       "5 5.0          3.6         1.4          0.2         setosa \n",
       "6 5.4          3.9         1.7          0.4         setosa "
      ]
     },
     "metadata": {},
     "output_type": "display_data"
    },
    {
     "data": {
      "text/plain": [
       "[1] \"data.frame\""
      ]
     },
     "metadata": {},
     "output_type": "display_data"
    }
   ],
   "source": [
    "head(iris) # the famous iris data set used by Sir Ronald Fisher\n",
    "class(iris)"
   ]
  },
  {
   "cell_type": "code",
   "execution_count": 90,
   "metadata": {
    "slideshow": {
     "slide_type": "slide"
    }
   },
   "outputs": [
    {
     "name": "stdout",
     "output_type": "stream",
     "text": [
      "# A tibble: 150 x 5\n",
      "   Sepal.Length Sepal.Width Petal.Length Petal.Width Species\n",
      "          <dbl>       <dbl>        <dbl>       <dbl>  <fctr>\n",
      " 1          5.1         3.5          1.4         0.2  setosa\n",
      " 2          4.9         3.0          1.4         0.2  setosa\n",
      " 3          4.7         3.2          1.3         0.2  setosa\n",
      " 4          4.6         3.1          1.5         0.2  setosa\n",
      " 5          5.0         3.6          1.4         0.2  setosa\n",
      " 6          5.4         3.9          1.7         0.4  setosa\n",
      " 7          4.6         3.4          1.4         0.3  setosa\n",
      " 8          5.0         3.4          1.5         0.2  setosa\n",
      " 9          4.4         2.9          1.4         0.2  setosa\n",
      "10          4.9         3.1          1.5         0.1  setosa\n",
      "# ... with 140 more rows\n"
     ]
    },
    {
     "data": {
      "text/plain": [
       "  Sepal.Length Sepal.Width\n",
       "1 5.1          3.5        \n",
       "2 4.9          3.0        "
      ]
     },
     "metadata": {},
     "output_type": "display_data"
    }
   ],
   "source": [
    "iris_tibble = as_tibble(iris) # convert to a tibble\n",
    "print(iris_tibble)"
   ]
  },
  {
   "cell_type": "markdown",
   "metadata": {
    "slideshow": {
     "slide_type": "notes"
    }
   },
   "source": [
    "Note that `tibble`s *are* a special type of data frame, so all the commands that work on data frames will work on tibbles as well. However, `tibble`s have some nice added functionality that data frames do not possess."
   ]
  },
  {
   "cell_type": "markdown",
   "metadata": {
    "slideshow": {
     "slide_type": "notes"
    }
   },
   "source": [
    "### Differences between tibble and data frame\n",
    "Data frames are known for doing some unexpected things in R, for example:\n",
    "- Converting strings to factors.\n",
    "- Renaming variables automatically.\n",
    "- Adding 'row names' that look like row numbers, but are not.\n",
    "- Returning different data types depending on how you index."
   ]
  },
  {
   "cell_type": "markdown",
   "metadata": {
    "slideshow": {
     "slide_type": "slide"
    }
   },
   "source": [
    "#### Strings to factors"
   ]
  },
  {
   "cell_type": "code",
   "execution_count": 95,
   "metadata": {
    "slideshow": {
     "slide_type": "-"
    }
   },
   "outputs": [
    {
     "data": {
      "text/plain": [
       "[1] \"character\""
      ]
     },
     "metadata": {},
     "output_type": "display_data"
    },
    {
     "name": "stdout",
     "output_type": "stream",
     "text": [
      "# A tibble: 3 x 1\n",
      "  string.to.factor\n",
      "             <chr>\n",
      "1                a\n",
      "2                b\n",
      "3                c\n"
     ]
    }
   ],
   "source": [
    "df = tibble(string.to.factor=c('a','b','c'))\n",
    "class(df$string.to.factor)\n",
    "print(df)"
   ]
  },
  {
   "cell_type": "markdown",
   "metadata": {
    "slideshow": {
     "slide_type": "slide"
    }
   },
   "source": [
    "#### Auto-renaming"
   ]
  },
  {
   "cell_type": "code",
   "execution_count": 99,
   "metadata": {
    "slideshow": {
     "slide_type": "-"
    }
   },
   "outputs": [
    {
     "data": {
      "text/plain": [
       "[1] 1 2 3"
      ]
     },
     "metadata": {},
     "output_type": "display_data"
    }
   ],
   "source": [
    "tbl = tibble(\"var with spaces\"=c(1,2,3))\n",
    "tbl$`var with spaces`"
   ]
  },
  {
   "cell_type": "markdown",
   "metadata": {
    "slideshow": {
     "slide_type": "slide"
    }
   },
   "source": [
    "#### Row names"
   ]
  },
  {
   "cell_type": "code",
   "execution_count": 116,
   "metadata": {},
   "outputs": [
    {
     "data": {
      "text/plain": [
       "  x \n",
       "1 16"
      ]
     },
     "metadata": {},
     "output_type": "display_data"
    }
   ],
   "source": [
    "df = tibble(x=1:100)\n",
    "# df  # note row-number looking things\n",
    "subset = df[10:100,]\n",
    "subset[7,]"
   ]
  },
  {
   "cell_type": "markdown",
   "metadata": {
    "slideshow": {
     "slide_type": "slide"
    }
   },
   "source": [
    "#### Differing return types"
   ]
  },
  {
   "cell_type": "code",
   "execution_count": 117,
   "metadata": {
    "slideshow": {
     "slide_type": "-"
    }
   },
   "outputs": [
    {
     "data": {
      "text/plain": [
       "[1] \"data.frame\""
      ]
     },
     "metadata": {},
     "output_type": "display_data"
    },
    {
     "data": {
      "text/plain": [
       "[1] \"integer\""
      ]
     },
     "metadata": {},
     "output_type": "display_data"
    }
   ],
   "source": [
    "df = data.frame(x=1:10)\n",
    "df1 = df[1:5,]  # select first five rows\n",
    "class(df)\n",
    "class(df1)\n",
    "#df = data.frame(x=1:10, y=1)\n",
    "#class(df[1:5,])"
   ]
  },
  {
   "cell_type": "markdown",
   "metadata": {
    "slideshow": {
     "slide_type": "slide"
    }
   },
   "source": [
    "Tibbles handle these cases nicely:"
   ]
  },
  {
   "cell_type": "code",
   "execution_count": 123,
   "metadata": {
    "slideshow": {
     "slide_type": "-"
    }
   },
   "outputs": [
    {
     "name": "stdout",
     "output_type": "stream",
     "text": [
      "# A tibble: 234 x 11\n",
      "   manufacturer      model displ  year   cyl      trans   drv   cty   hwy    fl\n",
      "          <chr>      <chr> <dbl> <int> <int>      <chr> <chr> <int> <int> <chr>\n",
      " 1         audi         a4   1.8  1999     4   auto(l5)     f    18    29     p\n",
      " 2         audi         a4   1.8  1999     4 manual(m5)     f    21    29     p\n",
      " 3         audi         a4   2.0  2008     4 manual(m6)     f    20    31     p\n",
      " 4         audi         a4   2.0  2008     4   auto(av)     f    21    30     p\n",
      " 5         audi         a4   2.8  1999     6   auto(l5)     f    16    26     p\n",
      " 6         audi         a4   2.8  1999     6 manual(m5)     f    18    26     p\n",
      " 7         audi         a4   3.1  2008     6   auto(av)     f    18    27     p\n",
      " 8         audi a4 quattro   1.8  1999     4 manual(m5)     4    18    26     p\n",
      " 9         audi a4 quattro   1.8  1999     4   auto(l5)     4    16    25     p\n",
      "10         audi a4 quattro   2.0  2008     4 manual(m6)     4    20    28     p\n",
      "# ... with 224 more rows, and 1 more variables: class <chr>\n",
      "# A tibble: 3 x 11\n",
      "  manufacturer model displ  year   cyl      trans   drv   cty   hwy    fl\n",
      "         <chr> <chr> <dbl> <int> <int>      <chr> <chr> <int> <int> <chr>\n",
      "1         audi    a4   1.8  1999     4   auto(l5)     f    18    29     p\n",
      "2         audi    a4   1.8  1999     4 manual(m5)     f    21    29     p\n",
      "3         audi    a4   2.0  2008     4 manual(m6)     f    20    31     p\n",
      "# ... with 1 more variables: class <chr>\n"
     ]
    }
   ],
   "source": [
    "mpg %>% print\n",
    "mpg %>% slice(c(1,2,3)) %>% print"
   ]
  },
  {
   "cell_type": "markdown",
   "metadata": {
    "slideshow": {
     "slide_type": "notes"
    }
   },
   "source": [
    "### Non-features\n",
    "There are a couple of data.frame features that tibbles intentionally lack. This is because they can lead to unintended behavior, a.k.a. bugs.\n",
    "\n"
   ]
  },
  {
   "cell_type": "markdown",
   "metadata": {
    "slideshow": {
     "slide_type": "slide"
    }
   },
   "source": [
    "#### Argument expansion\n",
    "Data frames will automatically expand column vectors to have matching length. tibble only does this for scalars (vectors of length 1)."
   ]
  },
  {
   "cell_type": "code",
   "execution_count": 128,
   "metadata": {
    "slideshow": {
     "slide_type": "-"
    }
   },
   "outputs": [
    {
     "data": {
      "text/plain": [
       "  x y\n",
       "1 1 1\n",
       "2 2 1\n",
       "3 3 1\n",
       "4 4 1"
      ]
     },
     "metadata": {},
     "output_type": "display_data"
    }
   ],
   "source": [
    "#data.frame(x=1:4, y=1)\n",
    "#tibble(x=1:4, y=1) # ok\n",
    "#data.frame(x=1:4, y=1:2)\n",
    "tibble(x=1:4, y=1) # error"
   ]
  },
  {
   "cell_type": "markdown",
   "metadata": {
    "slideshow": {
     "slide_type": "slide"
    }
   },
   "source": [
    "#### Name abbreviation\n",
    "Data frames allow you to abbreviate column names. Avoid this."
   ]
  },
  {
   "cell_type": "code",
   "execution_count": 131,
   "metadata": {
    "slideshow": {
     "slide_type": "-"
    }
   },
   "outputs": [
    {
     "data": {
      "text/plain": [
       "  xyz\n",
       "1 1  \n",
       "2 2  \n",
       "3 3  \n",
       "4 4  "
      ]
     },
     "metadata": {},
     "output_type": "display_data"
    },
    {
     "name": "stderr",
     "output_type": "stream",
     "text": [
      "Warning message:\n",
      "“Unknown or uninitialised column: 'x'.”"
     ]
    },
    {
     "data": {
      "text/plain": [
       "NULL"
      ]
     },
     "metadata": {},
     "output_type": "display_data"
    }
   ],
   "source": [
    "data.frame(xyz=1:4)\n",
    "tibble(xyz=1:4)$x"
   ]
  },
  {
   "cell_type": "markdown",
   "metadata": {
    "slideshow": {
     "slide_type": "slide"
    }
   },
   "source": [
    "## Creating tibbles\n",
    "tibbles can be created using either row or column form. Column form mimics the interface of `data.frame`. You pass key-value pairs. The keys represent column names and the values are vectors of the column entries."
   ]
  },
  {
   "cell_type": "code",
   "execution_count": 134,
   "metadata": {
    "slideshow": {
     "slide_type": "-"
    }
   },
   "outputs": [
    {
     "name": "stdout",
     "output_type": "stream",
     "text": [
      "# A tibble: 10 x 3\n",
      "       x     y     z\n",
      "   <dbl> <dbl> <dbl>\n",
      " 1   100    50   150\n",
      " 2   200    50   250\n",
      " 3   300    50   350\n",
      " 4   400    50   450\n",
      " 5   500    50   550\n",
      " 6   600    50   650\n",
      " 7   700    50   750\n",
      " 8   800    50   850\n",
      " 9   900    50   950\n",
      "10  1000    50  1050\n"
     ]
    }
   ],
   "source": [
    "tibble(\n",
    "    x = seq(100, 1000, 100),\n",
    "    y = 50,     # scalars are automatically expanded\n",
    "    z = x + 50  # variables are created sequentially so can refer to a variable already created\n",
    ") %>% print"
   ]
  },
  {
   "cell_type": "markdown",
   "metadata": {
    "slideshow": {
     "slide_type": "slide"
    }
   },
   "source": [
    "You can also use a different notation to create tibbles row-wise. This is more natural for hand-entered data. To create tibbles by specifiying rows, use `tribble` (for **tr**ansposed t**ibble**)"
   ]
  },
  {
   "cell_type": "code",
   "execution_count": 42,
   "metadata": {},
   "outputs": [
    {
     "name": "stdout",
     "output_type": "stream",
     "text": [
      "# A tibble: 6 x 3\n",
      "  letter Letter number\n",
      "   <chr>  <chr>  <dbl>\n",
      "1      a      A      1\n",
      "2      f      F      6\n",
      "3      k      K     11\n",
      "4      p      P     16\n",
      "5      u      U     21\n",
      "6      z      Z     26\n"
     ]
    }
   ],
   "source": [
    "tribble(\n",
    "    ~letter, ~Letter, ~number, # note use of R formulas in specifying variables names in tribble()\n",
    "    #--|---|---\n",
    "    \"a\", \"A\", 1,\n",
    "    \"f\", \"F\", 6,\n",
    "    \"k\", \"K\", 11,\n",
    "    \"p\", \"P\", 16,\n",
    "    \"u\", \"U\", 21,\n",
    "    \"z\", \"Z\", 26\n",
    ") %>% print"
   ]
  },
  {
   "cell_type": "markdown",
   "metadata": {
    "slideshow": {
     "slide_type": "slide"
    }
   },
   "source": [
    "You can control the default printing behavior of tribbles by adding options to `print()`:"
   ]
  },
  {
   "cell_type": "code",
   "execution_count": 143,
   "metadata": {},
   "outputs": [
    {
     "name": "stdout",
     "output_type": "stream",
     "text": [
      "# A tibble: 234 x 11\n",
      "   manufacturer              model displ  year   cyl      trans   drv   cty   hwy    fl   class\n",
      "          <chr>              <chr> <dbl> <int> <int>      <chr> <chr> <int> <int> <chr>   <chr>\n",
      " 1         audi                 a4   1.8  1999     4   auto(l5)     f    18    29     p compact\n",
      " 2         audi                 a4   1.8  1999     4 manual(m5)     f    21    29     p compact\n",
      " 3         audi                 a4   2.0  2008     4 manual(m6)     f    20    31     p compact\n",
      " 4         audi                 a4   2.0  2008     4   auto(av)     f    21    30     p compact\n",
      " 5         audi                 a4   2.8  1999     6   auto(l5)     f    16    26     p compact\n",
      " 6         audi                 a4   2.8  1999     6 manual(m5)     f    18    26     p compact\n",
      " 7         audi                 a4   3.1  2008     6   auto(av)     f    18    27     p compact\n",
      " 8         audi         a4 quattro   1.8  1999     4 manual(m5)     4    18    26     p compact\n",
      " 9         audi         a4 quattro   1.8  1999     4   auto(l5)     4    16    25     p compact\n",
      "10         audi         a4 quattro   2.0  2008     4 manual(m6)     4    20    28     p compact\n",
      "11         audi         a4 quattro   2.0  2008     4   auto(s6)     4    19    27     p compact\n",
      "12         audi         a4 quattro   2.8  1999     6   auto(l5)     4    15    25     p compact\n",
      "13         audi         a4 quattro   2.8  1999     6 manual(m5)     4    17    25     p compact\n",
      "14         audi         a4 quattro   3.1  2008     6   auto(s6)     4    17    25     p compact\n",
      "15         audi         a4 quattro   3.1  2008     6 manual(m6)     4    15    25     p compact\n",
      "16         audi         a6 quattro   2.8  1999     6   auto(l5)     4    15    24     p midsize\n",
      "17         audi         a6 quattro   3.1  2008     6   auto(s6)     4    17    25     p midsize\n",
      "18         audi         a6 quattro   4.2  2008     8   auto(s6)     4    16    23     p midsize\n",
      "19    chevrolet c1500 suburban 2wd   5.3  2008     8   auto(l4)     r    14    20     r     suv\n",
      "20    chevrolet c1500 suburban 2wd   5.3  2008     8   auto(l4)     r    11    15     e     suv\n",
      "# ... with 214 more rows\n"
     ]
    }
   ],
   "source": [
    "mpg %>% print(n=20, width=100)"
   ]
  },
  {
   "cell_type": "markdown",
   "metadata": {
    "slideshow": {
     "slide_type": "slide"
    }
   },
   "source": [
    "If you want to alter these for printed tibbles, use the `options()` function:"
   ]
  },
  {
   "cell_type": "code",
   "execution_count": 145,
   "metadata": {
    "slideshow": {
     "slide_type": "-"
    }
   },
   "outputs": [
    {
     "name": "stdout",
     "output_type": "stream",
     "text": [
      "# A tibble: 234 x 11\n",
      "   manufacturer      model displ  year   cyl      trans   drv   cty   hwy    fl   class\n",
      "          <chr>      <chr> <dbl> <int> <int>      <chr> <chr> <int> <int> <chr>   <chr>\n",
      " 1         audi         a4   1.8  1999     4   auto(l5)     f    18    29     p compact\n",
      " 2         audi         a4   1.8  1999     4 manual(m5)     f    21    29     p compact\n",
      " 3         audi         a4   2.0  2008     4 manual(m6)     f    20    31     p compact\n",
      " 4         audi         a4   2.0  2008     4   auto(av)     f    21    30     p compact\n",
      " 5         audi         a4   2.8  1999     6   auto(l5)     f    16    26     p compact\n",
      " 6         audi         a4   2.8  1999     6 manual(m5)     f    18    26     p compact\n",
      " 7         audi         a4   3.1  2008     6   auto(av)     f    18    27     p compact\n",
      " 8         audi a4 quattro   1.8  1999     4 manual(m5)     4    18    26     p compact\n",
      " 9         audi a4 quattro   1.8  1999     4   auto(l5)     4    16    25     p compact\n",
      "10         audi a4 quattro   2.0  2008     4 manual(m6)     4    20    28     p compact\n",
      "# ... with 224 more rows\n"
     ]
    }
   ],
   "source": [
    "options(tibble.print_min = 10, tibble.print_max = 30, tibble.width = Inf)\n",
    "print(mpg)"
   ]
  },
  {
   "cell_type": "markdown",
   "metadata": {
    "slideshow": {
     "slide_type": "slide"
    }
   },
   "source": [
    "### Selecting columns"
   ]
  },
  {
   "cell_type": "code",
   "execution_count": 158,
   "metadata": {
    "slideshow": {
     "slide_type": "-"
    }
   },
   "outputs": [
    {
     "name": "stdout",
     "output_type": "stream",
     "text": [
      "# A tibble: 10 x 2\n",
      "       x     y\n",
      "   <int> <int>\n",
      " 1     1     1\n",
      " 2     2     2\n",
      " 3     3     3\n",
      " 4     4     4\n",
      " 5     5     5\n",
      " 6     6     6\n",
      " 7     7     7\n",
      " 8     8     8\n",
      " 9     9     9\n",
      "10    10    10\n"
     ]
    }
   ],
   "source": [
    "tbl <- tibble(\n",
    "    x = 1:10,\n",
    "    y = 1:10,\n",
    ")\n",
    "print(tbl)"
   ]
  },
  {
   "cell_type": "markdown",
   "metadata": {
    "slideshow": {
     "slide_type": "slide"
    }
   },
   "source": [
    "The syntax for extracting a column from a tibble is\n",
    "```{r}\n",
    "tbl$<column name>\n",
    "```"
   ]
  },
  {
   "cell_type": "code",
   "execution_count": 152,
   "metadata": {
    "slideshow": {
     "slide_type": "-"
    }
   },
   "outputs": [
    {
     "name": "stderr",
     "output_type": "stream",
     "text": [
      "Warning message in mean.default(select(tbl, x)):\n",
      "“argument is not numeric or logical: returning NA”"
     ]
    },
    {
     "data": {
      "text/plain": [
       "[1] NA"
      ]
     },
     "metadata": {},
     "output_type": "display_data"
    }
   ],
   "source": [
    "mean(select(tbl, x)) # extracts a variable, name only"
   ]
  },
  {
   "cell_type": "markdown",
   "metadata": {
    "slideshow": {
     "slide_type": "slide"
    }
   },
   "source": [
    "Remember: `tbl$x` is a vector of numbers. It is different than `select(tbl, x)`, which is a tibble with one numeric column named `x`:"
   ]
  },
  {
   "cell_type": "code",
   "execution_count": 51,
   "metadata": {},
   "outputs": [
    {
     "data": {
      "text/plain": [
       "   x        \n",
       "1  0.4820801\n",
       "2  0.5995658\n",
       "3  0.4935413\n",
       "4  0.1862176\n",
       "5  0.8273733\n",
       "6  0.6684667\n",
       "7  0.7942399\n",
       "8  0.1079436\n",
       "9  0.7237109\n",
       "10 0.4112744"
      ]
     },
     "metadata": {},
     "output_type": "display_data"
    },
    {
     "data": {
      "text/plain": [
       " [1] 0.4820801 0.5995658 0.4935413 0.1862176 0.8273733 0.6684667 0.7942399\n",
       " [8] 0.1079436 0.7237109 0.4112744"
      ]
     },
     "metadata": {},
     "output_type": "display_data"
    }
   ],
   "source": [
    "select(tbl, x)  # tibble\n",
    "tbl$x  # vector "
   ]
  },
  {
   "cell_type": "markdown",
   "metadata": {
    "slideshow": {
     "slide_type": "slide"
    }
   },
   "source": [
    "Another way to extract columns is with the `[[]]` operator. This is useful because you can also access columns by their number, or via another variable:"
   ]
  },
  {
   "cell_type": "code",
   "execution_count": 162,
   "metadata": {},
   "outputs": [
    {
     "ename": "ERROR",
     "evalue": "Error in parse(text = x, srcfile = src): <text>:4:5: unexpected numeric constant\n3: tbl[[1]] # or using positions\n4: tbl$1\n       ^\n",
     "output_type": "error",
     "traceback": [
      "Error in parse(text = x, srcfile = src): <text>:4:5: unexpected numeric constant\n3: tbl[[1]] # or using positions\n4: tbl$1\n       ^\nTraceback:\n"
     ]
    }
   ],
   "source": [
    "# v = \"x\"\n",
    "# tbl[[v]] # double brackets can extract variables using names\n",
    "tbl[[1]] # or using positions\n",
    "tbl$1  # error"
   ]
  },
  {
   "cell_type": "markdown",
   "metadata": {
    "slideshow": {
     "slide_type": "slide"
    }
   },
   "source": [
    "To use `$` or `[[` in a pipe, have to use special placeholder: `.`. Recall that the `.` in a pipe stands for the LHS of the pipe:"
   ]
  },
  {
   "cell_type": "code",
   "execution_count": 163,
   "metadata": {},
   "outputs": [
    {
     "data": {
      "text/plain": [
       " [1]  1  2  3  4  5  6  7  8  9 10"
      ]
     },
     "metadata": {},
     "output_type": "display_data"
    },
    {
     "data": {
      "text/plain": [
       " [1]  1  2  3  4  5  6  7  8  9 10"
      ]
     },
     "metadata": {},
     "output_type": "display_data"
    },
    {
     "data": {
      "text/plain": [
       " [1]  1  2  3  4  5  6  7  8  9 10"
      ]
     },
     "metadata": {},
     "output_type": "display_data"
    }
   ],
   "source": [
    "tbl %>% .$x  # same as tbl$x\n",
    "tbl$x\n",
    "tbl %>% .[[1]]  # same as tbl[[1]] "
   ]
  },
  {
   "cell_type": "code",
   "execution_count": 56,
   "metadata": {
    "slideshow": {
     "slide_type": "slide"
    }
   },
   "outputs": [],
   "source": [
    "var_name = \"x\" # store variable name in a variable"
   ]
  },
  {
   "cell_type": "code",
   "execution_count": 53,
   "metadata": {},
   "outputs": [
    {
     "name": "stderr",
     "output_type": "stream",
     "text": [
      "Warning message:\n",
      "“Unknown or uninitialised column: 'var_name'.”"
     ]
    },
    {
     "data": {
      "text/plain": [
       "NULL"
      ]
     },
     "metadata": {},
     "output_type": "display_data"
    },
    {
     "ename": "ERROR",
     "evalue": "Error in `[[.tbl_df`(tbl, var_name): object 'var_name' not found\n",
     "output_type": "error",
     "traceback": [
      "Error in `[[.tbl_df`(tbl, var_name): object 'var_name' not found\nTraceback:\n",
      "1. tbl[[var_name]]",
      "2. `[[.tbl_df`(tbl, var_name)"
     ]
    }
   ],
   "source": [
    "tbl$var_name # doesn't work\n",
    "tbl[[var_name]]"
   ]
  },
  {
   "cell_type": "markdown",
   "metadata": {
    "slideshow": {
     "slide_type": "slide"
    }
   },
   "source": [
    "We can use backticks to create variable names that are not valid R variable names. e.g., numbers"
   ]
  },
  {
   "cell_type": "code",
   "execution_count": 166,
   "metadata": {},
   "outputs": [
    {
     "data": {
      "text/plain": [
       "  1  2   3 space 4\n",
       "1  6  36  216     \n",
       "2  7  49  343     \n",
       "3  8  64  512     \n",
       "4  9  81  729     \n",
       "5 10 100 1000     "
      ]
     },
     "metadata": {},
     "output_type": "display_data"
    }
   ],
   "source": [
    "(cubes <- tibble(\n",
    "    `1` = 1:10,\n",
    "    `2` = `1`^2,\n",
    "    `3 space 4` = `1`^3\n",
    ")) %>% filter(`1` > 5)"
   ]
  },
  {
   "cell_type": "markdown",
   "metadata": {
    "slideshow": {
     "slide_type": "slide"
    }
   },
   "source": [
    "However, it's best to make life easy and avoid this. Using these variables requires you to always quote them, for example:"
   ]
  },
  {
   "cell_type": "code",
   "execution_count": 1,
   "metadata": {},
   "outputs": [
    {
     "ename": "ERROR",
     "evalue": "Error in rename(cubes, x = `1`, squares = `2`, cubes = `3`): could not find function \"rename\"\n",
     "output_type": "error",
     "traceback": [
      "Error in rename(cubes, x = `1`, squares = `2`, cubes = `3`): could not find function \"rename\"\nTraceback:\n"
     ]
    }
   ],
   "source": [
    "rename(cubes, x = `1`, squares = `2`, cubes = `3`)"
   ]
  },
  {
   "cell_type": "markdown",
   "metadata": {
    "slideshow": {
     "slide_type": "slide"
    }
   },
   "source": [
    "### Selecting rows\n",
    "Above we saw how to access columns in tibbles. Now let's see how to access rows. The way we access rows in tibble is by using the `filter()` command, for logical conditions, or the `slice()` command, for numerical ranges."
   ]
  },
  {
   "cell_type": "code",
   "execution_count": 68,
   "metadata": {},
   "outputs": [
    {
     "data": {
      "text/plain": [
       "  x          y       \n",
       "1 0.06178627 1.124931"
      ]
     },
     "metadata": {},
     "output_type": "display_data"
    },
    {
     "data": {
      "text/plain": [
       "  x         y         \n",
       "1 0.2655087 -0.8204684\n",
       "2 0.3721239  0.4874291\n",
       "3 0.5728534  0.7383247"
      ]
     },
     "metadata": {},
     "output_type": "display_data"
    }
   ],
   "source": [
    "filter(tbl, x < .2)  # All rows with x < .2\n",
    "slice(tbl, 1:3)  # First 3 rows"
   ]
  },
  {
   "cell_type": "markdown",
   "metadata": {
    "slideshow": {
     "slide_type": "slide"
    }
   },
   "source": [
    "The traditional syntax for selecting rows in a data frame is to pass in a numerical or boolean vector:"
   ]
  },
  {
   "cell_type": "code",
   "execution_count": 56,
   "metadata": {},
   "outputs": [
    {
     "data": {
      "text/plain": [
       "  x         y        \n",
       "1 0.1862176 -1.989352\n",
       "2 0.1079436 -1.470752"
      ]
     },
     "metadata": {},
     "output_type": "display_data"
    },
    {
     "data": {
      "text/plain": [
       "  x         y         \n",
       "1 0.4820801 0.91897737\n",
       "2 0.5995658 0.78213630\n",
       "3 0.4935413 0.07456498"
      ]
     },
     "metadata": {},
     "output_type": "display_data"
    }
   ],
   "source": [
    "tbl[tbl$x < .2, ]\n",
    "tbl[c(1,2,3), ]"
   ]
  },
  {
   "cell_type": "markdown",
   "metadata": {
    "slideshow": {
     "slide_type": "notes"
    }
   },
   "source": [
    "Notice that accessing rows is fundamentally different in the sense that it does not make sense to access the vector corresponding to a particular row. There is no such thing since the entries of a row can be heterogeneous (have different data types). So when we say \"accessing rows\", we mean selecting a subset of the rows in a data table, and returning a new data table containing only those rows."
   ]
  },
  {
   "cell_type": "markdown",
   "metadata": {
    "slideshow": {
     "slide_type": "slide"
    }
   },
   "source": [
    "### Selecting specific entries\n",
    "Finally, it's possible to select specific entries of a tibble or data frame. The most basic way is to treat the data table as a 2D matrix and select by row and column coordinates:"
   ]
  },
  {
   "cell_type": "code",
   "execution_count": 175,
   "metadata": {},
   "outputs": [
    {
     "data": {
      "text/plain": [
       "   x  y \n",
       "1   1  1\n",
       "2   2  2\n",
       "3   3  3\n",
       "4   4  4\n",
       "5   5  5\n",
       "6   6  6\n",
       "7   7  7\n",
       "8   8  8\n",
       "9   9  9\n",
       "10 10 10"
      ]
     },
     "metadata": {},
     "output_type": "display_data"
    },
    {
     "data": {
      "text/plain": [
       "[1] 1"
      ]
     },
     "metadata": {},
     "output_type": "display_data"
    },
    {
     "name": "stderr",
     "output_type": "stream",
     "text": [
      "Warning message in mean.default(tbl[1, 2]):\n",
      "“argument is not numeric or logical: returning NA”"
     ]
    },
    {
     "data": {
      "text/plain": [
       "[1] NA"
      ]
     },
     "metadata": {},
     "output_type": "display_data"
    }
   ],
   "source": [
    "tbl\n",
    "mean(tbl[[1, 2]])  # returns scalar.\n",
    "mean(tbl[1, 2])  # select entry in row 1, column 2 (returns data.frame)\n",
    "# class(tbl)\n",
    "# "
   ]
  },
  {
   "cell_type": "markdown",
   "metadata": {
    "slideshow": {
     "slide_type": "slide"
    }
   },
   "source": [
    "Alternatively, we could first select the column we are interested in, and then select the value."
   ]
  },
  {
   "cell_type": "code",
   "execution_count": 177,
   "metadata": {},
   "outputs": [
    {
     "data": {
      "text/plain": [
       "[1] 1"
      ]
     },
     "metadata": {},
     "output_type": "display_data"
    },
    {
     "data": {
      "text/plain": [
       "[1] 1"
      ]
     },
     "metadata": {},
     "output_type": "display_data"
    }
   ],
   "source": [
    "tbl[[\"y\"]][1]\n",
    "tbl$y[1]"
   ]
  },
  {
   "cell_type": "markdown",
   "metadata": {},
   "source": [
    "## Data import\n",
    "Next we will cover tools for taking existing data sets and importing them into R."
   ]
  },
  {
   "cell_type": "markdown",
   "metadata": {
    "collapsed": true,
    "slideshow": {
     "slide_type": "notes"
    }
   },
   "source": [
    "We will focus on the `read_csv()` function but there are other ones available:\n",
    "\n",
    "* `read_csv2()`: uses semicolon as delimiter\n",
    "* `read_tsv()`: uses tab as delimiter\n",
    "* `read_delim()`: can use any delimiter\n",
    "* `read_fwf()`: to read fix width files\n",
    "* `read_table()`: to read fixed wdith files where columns are separated by white space"
   ]
  },
  {
   "cell_type": "markdown",
   "metadata": {
    "slideshow": {
     "slide_type": "slide"
    }
   },
   "source": [
    "### Comma-separated value data\n",
    "Comma-separated value (csv) is one of the most common formats for sharing data. It has the advantage of being human-readable. The disadvantage is that there is no actual standard for reading or writing these files!"
   ]
  },
  {
   "cell_type": "markdown",
   "metadata": {
    "slideshow": {
     "slide_type": "slide"
    }
   },
   "source": [
    "Here's an example of CSV data on heights:\n",
    "    \n",
    "    \"earn\",\"height\",\"sex\",\"ed\",\"age\",\"race\"\n",
    "    50000,74.4244387818035,\"male\",16,45,\"white\"\n",
    "    60000,65.5375428255647,\"female\",16,58,\"white\"\n",
    "    30000,63.6291977374349,\"female\",16,29,\"white\"\n",
    "    50000,63.1085616752971,\"female\",16,91,\"other\"\n",
    "    51000,63.4024835710879,\"female\",17,39,\"white\"\n",
    "    9000,64.3995075440034,\"female\",15,26,\"white\"\n",
    "    \n",
    "The first row (usually) has a *header* giving the column names. Subsequent rows give the actual data. Strings are (usually) quoted."
   ]
  },
  {
   "cell_type": "markdown",
   "metadata": {
    "slideshow": {
     "slide_type": "slide"
    }
   },
   "source": [
    "To read in csv data we will use the `read_csv` command. Note that this command is part of `tidyverse` and is different from `read.csv` in R! You generally want to use `read_csv` over `read.csv` since:\n",
    "- It is much faster.\n",
    "- It outputs nicely formatted `tibble`s which you can pass into other tidyverse functions."
   ]
  },
  {
   "cell_type": "code",
   "execution_count": 178,
   "metadata": {},
   "outputs": [
    {
     "name": "stderr",
     "output_type": "stream",
     "text": [
      "Parsed with column specification:\n",
      "cols(\n",
      "  earn = col_double(),\n",
      "  height = col_double(),\n",
      "  sex = col_character(),\n",
      "  ed = col_integer(),\n",
      "  age = col_integer(),\n",
      "  race = col_character()\n",
      ")\n"
     ]
    }
   ],
   "source": [
    "heights <- read_csv(\"heights.csv\")"
   ]
  },
  {
   "cell_type": "markdown",
   "metadata": {
    "slideshow": {
     "slide_type": "notes"
    }
   },
   "source": [
    "Here `read_csv` has told us what columns it found, and also what the data types it found for them are. Generally these will be correct but we will see examples later where it guesses wrongly and we have to manually override them."
   ]
  },
  {
   "cell_type": "markdown",
   "metadata": {
    "slideshow": {
     "slide_type": "slide"
    }
   },
   "source": [
    "To create short examples illustrating `read_csv`'s behavior, we can specify the contents of a csv file inline."
   ]
  },
  {
   "cell_type": "code",
   "execution_count": 91,
   "metadata": {},
   "outputs": [
    {
     "data": {
      "text/plain": [
       "  a b c\n",
       "1 1 2 3\n",
       "2 4 5 6"
      ]
     },
     "metadata": {},
     "output_type": "display_data"
    }
   ],
   "source": [
    "read_csv(\n",
    "    \"a, b, c\n",
    "     1, 2, 3\n",
    "     4, 5, 6\n",
    "\")"
   ]
  },
  {
   "cell_type": "markdown",
   "metadata": {
    "slideshow": {
     "slide_type": "slide"
    }
   },
   "source": [
    "You might want to skip a few rows in the beginning that have metadata."
   ]
  },
  {
   "cell_type": "code",
   "execution_count": 181,
   "metadata": {},
   "outputs": [
    {
     "name": "stderr",
     "output_type": "stream",
     "text": [
      "Warning message in rbind(names(probs), probs_f):\n",
      "“number of columns of result is not a multiple of vector length (arg 1)”Warning message:\n",
      "“3 parsing failures.\n",
      "row # A tibble: 3 x 5 col     row   col  expected    actual         file expected   <int> <chr>     <chr>     <chr>        <chr> actual 1     1  <NA> 1 columns 3 columns literal data file 2     2  <NA> 1 columns 3 columns literal data row 3     3  <NA> 1 columns 3 columns literal data\n",
      "”"
     ]
    },
    {
     "data": {
      "text/plain": [
       "  Third row to skip\n",
       "1 a                \n",
       "2 1                \n",
       "3 4                "
      ]
     },
     "metadata": {},
     "output_type": "display_data"
    }
   ],
   "source": [
    "read_csv(\n",
    "\"First row to skip\n",
    "Second row to skip\n",
    "Third row to skip\n",
    "a, b, c\n",
    "1, 2, 3\n",
    "4, 5, 6\n",
    "\", skip = 2)"
   ]
  },
  {
   "cell_type": "markdown",
   "metadata": {
    "slideshow": {
     "slide_type": "slide"
    }
   },
   "source": [
    "You can also skip comments line by specifying a comment character."
   ]
  },
  {
   "cell_type": "code",
   "execution_count": 184,
   "metadata": {},
   "outputs": [
    {
     "data": {
      "text/plain": [
       "  a b c\n",
       "1 a b c\n",
       "2 1 2 3\n",
       "3 4 5 6"
      ]
     },
     "metadata": {},
     "output_type": "display_data"
    }
   ],
   "source": [
    "read_csv(\"\n",
    "- First comment line\n",
    "a, b, c\n",
    "- This separate the header from the data\n",
    "1, 2, 3\n",
    "4, 5, 6\n",
    "- Another comment line\n",
    "\", comment = '-')"
   ]
  },
  {
   "cell_type": "markdown",
   "metadata": {
    "slideshow": {
     "slide_type": "slide"
    }
   },
   "source": [
    "Set `col_names = FALSE` when you don't have column names in the file. The column names are then set to X1, X2, ..."
   ]
  },
  {
   "cell_type": "code",
   "execution_count": 186,
   "metadata": {},
   "outputs": [
    {
     "data": {
      "text/plain": [
       "  X1 X2 X3\n",
       "1 1  2  3 \n",
       "2 4  5  6 "
      ]
     },
     "metadata": {},
     "output_type": "display_data"
    }
   ],
   "source": [
    "read_csv(\"\n",
    "1, 2, 3\n",
    "4, 5, 6\n",
    "\", col_names = FALSE)"
   ]
  },
  {
   "cell_type": "markdown",
   "metadata": {
    "slideshow": {
     "slide_type": "slide"
    }
   },
   "source": [
    "You can specify your own column names."
   ]
  },
  {
   "cell_type": "code",
   "execution_count": 101,
   "metadata": {},
   "outputs": [
    {
     "data": {
      "text/plain": [
       "  a b c\n",
       "1 1 2 3\n",
       "2 4 5 6"
      ]
     },
     "metadata": {},
     "output_type": "display_data"
    }
   ],
   "source": [
    "read_csv(\"\n",
    "1, 2, 3\n",
    "4, 5, 6\n",
    "\", col_names = c(\"a\", \"b\", \"c\"))"
   ]
  },
  {
   "cell_type": "markdown",
   "metadata": {
    "slideshow": {
     "slide_type": "slide"
    }
   },
   "source": [
    "You can specify how missing values are represented in the file."
   ]
  },
  {
   "cell_type": "code",
   "execution_count": 189,
   "metadata": {},
   "outputs": [
    {
     "name": "stdout",
     "output_type": "stream",
     "text": [
      "# A tibble: 2 x 3\n",
      "      a     b     c\n",
      "  <int> <int> <int>\n",
      "1     1     2     3\n",
      "2     4    NA     6\n"
     ]
    }
   ],
   "source": [
    "read_csv(\n",
    "    \"a, b, c\n",
    "     1, 2, 3\n",
    "     4,,6\n",
    "\") %>% print"
   ]
  },
  {
   "cell_type": "code",
   "execution_count": 191,
   "metadata": {},
   "outputs": [
    {
     "name": "stdout",
     "output_type": "stream",
     "text": [
      "# A tibble: 2 x 3\n",
      "      a     b     c\n",
      "  <int> <int> <int>\n",
      "1     1     2     3\n",
      "2     4    NA     6\n"
     ]
    }
   ],
   "source": [
    "read_csv(\n",
    "    \"a, b, c\n",
    "     1, 2, 3\n",
    "     4, ., 6\n",
    "\", na = \".\") %>% print"
   ]
  },
  {
   "cell_type": "markdown",
   "metadata": {
    "slideshow": {
     "slide_type": "slide"
    }
   },
   "source": [
    "You can write a tibble to a csv file using `write_csv()`."
   ]
  },
  {
   "cell_type": "code",
   "execution_count": 193,
   "metadata": {},
   "outputs": [
    {
     "name": "stdout",
     "output_type": "stream",
     "text": [
      "# A tibble: 10 x 3\n",
      "     `1`   `2` `3 space 4`\n",
      "   <int> <dbl>       <dbl>\n",
      " 1     1     1           1\n",
      " 2     2     4           8\n",
      " 3     3     9          27\n",
      " 4     4    16          64\n",
      " 5     5    25         125\n",
      " 6     6    36         216\n",
      " 7     7    49         343\n",
      " 8     8    64         512\n",
      " 9     9    81         729\n",
      "10    10   100        1000\n"
     ]
    }
   ],
   "source": [
    "cubes %>% print\n",
    "write_csv(cubes, \"cubes.csv\")"
   ]
  },
  {
   "cell_type": "code",
   "execution_count": 194,
   "metadata": {
    "slideshow": {
     "slide_type": "slide"
    }
   },
   "outputs": [
    {
     "name": "stdout",
     "output_type": "stream",
     "text": [
      "1,2,3 space 4\n",
      "1,1,1\n",
      "2,4,8\n",
      "3,9,27\n",
      "4,16,64\n",
      "5,25,125\n",
      "6,36,216\n",
      "7,49,343\n",
      "8,64,512\n",
      "9,81,729\n",
      "10,100,1e3\n"
     ]
    }
   ],
   "source": [
    "cat(read_file('cubes.csv'))"
   ]
  },
  {
   "cell_type": "code",
   "execution_count": 196,
   "metadata": {
    "slideshow": {
     "slide_type": "slide"
    }
   },
   "outputs": [
    {
     "name": "stderr",
     "output_type": "stream",
     "text": [
      "Parsed with column specification:\n",
      "cols(\n",
      "  `1` = col_integer(),\n",
      "  `2` = col_integer(),\n",
      "  `3 space 4` = col_double()\n",
      ")\n"
     ]
    },
    {
     "name": "stdout",
     "output_type": "stream",
     "text": [
      "# A tibble: 10 x 3\n",
      "     `1`   `2` `3 space 4`\n",
      "   <int> <int>       <dbl>\n",
      " 1     1     1           1\n",
      " 2     2     4           8\n",
      " 3     3     9          27\n",
      " 4     4    16          64\n",
      " 5     5    25         125\n",
      " 6     6    36         216\n",
      " 7     7    49         343\n",
      " 8     8    64         512\n",
      " 9     9    81         729\n",
      "10    10   100        1000\n"
     ]
    }
   ],
   "source": [
    "cubes2 <- read_csv(\"cubes.csv\")\n",
    "print(cubes2)"
   ]
  },
  {
   "cell_type": "markdown",
   "metadata": {
    "slideshow": {
     "slide_type": "slide"
    }
   },
   "source": [
    "### Fixed-width files\n",
    "Another common data format is called a *fixed-width file*. Each data column gets its own fixed width, in this case five spaces:\n",
    "\n",
    "    a     b     c\n",
    "    10    2     3\n",
    "    4     1.5   3\n",
    "\n",
    "To read this type of data we use the `read_table()` function:"
   ]
  },
  {
   "cell_type": "code",
   "execution_count": 207,
   "metadata": {},
   "outputs": [
    {
     "data": {
      "text/plain": [
       "  a  b   c\n",
       "1 10 2.0 3\n",
       "2  4 1.5 3"
      ]
     },
     "metadata": {},
     "output_type": "display_data"
    }
   ],
   "source": [
    "read_table(\"a     b    c\n",
    "10    2     3\n",
    "4     1.5   3\")"
   ]
  },
  {
   "cell_type": "markdown",
   "metadata": {
    "slideshow": {
     "slide_type": "slide"
    }
   },
   "source": [
    "### How parsing works\n",
    "Sometimes the automatic parsers will fail. To understand why, it's helpful to look at how these functions actually parse data."
   ]
  },
  {
   "cell_type": "markdown",
   "metadata": {
    "slideshow": {
     "slide_type": "slide"
    }
   },
   "source": [
    "The first step is to guess each column type. The parser functions will look at the first few entries of each column and use that to try and guess the column type. The default is 1000 entries and can be controlled with the `guess_max=` option."
   ]
  },
  {
   "cell_type": "code",
   "execution_count": 211,
   "metadata": {
    "slideshow": {
     "slide_type": "-"
    }
   },
   "outputs": [
    {
     "name": "stderr",
     "output_type": "stream",
     "text": [
      "Warning message:\n",
      "“2 parsing failures.\n",
      "row # A tibble: 2 x 5 col     row   col   expected actual         file expected   <int> <chr>      <chr>  <chr>        <chr> actual 1     3     a an integer    's' literal data file 2     3     b an integer    't' literal data\n",
      "”"
     ]
    },
    {
     "data": {
      "text/plain": [
       "  row col expected   actual file        \n",
       "1 3   a   an integer 's'    literal data\n",
       "2 3   b   an integer 't'    literal data"
      ]
     },
     "metadata": {},
     "output_type": "display_data"
    }
   ],
   "source": [
    "tbl = read_csv(\n",
    "\"a, b\n",
    "1, 3\n",
    "2, 4\n",
    "'s', 't'\n",
    "\", guess_max=2\n",
    ")\n",
    "problems(tbl)"
   ]
  },
  {
   "cell_type": "markdown",
   "metadata": {
    "slideshow": {
     "slide_type": "slide"
    }
   },
   "source": [
    "The reason this fails for `guess_max=2` is that it looks at the first two entries, sees integers, and assumes the rest of the column will be integers. Then it calls the `parse_integer()` function on the vector of strings `c(\"1\", \"2\", \"'b'\")`:"
   ]
  },
  {
   "cell_type": "code",
   "execution_count": 221,
   "metadata": {},
   "outputs": [
    {
     "name": "stderr",
     "output_type": "stream",
     "text": [
      "Warning message:\n",
      "“1 parsing failure.\n",
      "row # A tibble: 1 x 4 col     row   col   expected actual expected   <int> <int>      <chr>  <chr> actual 1     3    NA an integer      b\n",
      "”"
     ]
    },
    {
     "data": {
      "text/plain": [
       "[1]  1  2 NA\n",
       "attr(,\"problems\")\n",
       "# A tibble: 1 x 4\n",
       "    row   col   expected actual\n",
       "  <int> <int>      <chr>  <chr>\n",
       "1     3    NA an integer      b"
      ]
     },
     "metadata": {},
     "output_type": "display_data"
    }
   ],
   "source": [
    "# guess_parser(c(\"1.1\", \"2\"))\n",
    "# guess_parser(c(\"1\", \"2\", \"c\"))\n",
    "parse_integer(c(\"1\", \"2\", \"b\"))"
   ]
  },
  {
   "cell_type": "markdown",
   "metadata": {
    "slideshow": {
     "slide_type": "slide"
    }
   },
   "source": [
    "A useful function for figuring out why parsing went wrong is `problems()`:"
   ]
  },
  {
   "cell_type": "code",
   "execution_count": 178,
   "metadata": {},
   "outputs": [
    {
     "name": "stderr",
     "output_type": "stream",
     "text": [
      "Warning message:\n",
      "“2 parsing failures.\n",
      "row # A tibble: 2 x 5 col     row   col   expected actual         file expected   <int> <chr>      <chr>  <chr>        <chr> actual 1     3     a an integer    'b' literal data file 2     3     b an integer    'c' literal data\n",
      "”"
     ]
    },
    {
     "data": {
      "text/plain": [
       "  row col expected   actual file        \n",
       "1 3   a   an integer 'b'    literal data\n",
       "2 3   b   an integer 'c'    literal data"
      ]
     },
     "metadata": {},
     "output_type": "display_data"
    }
   ],
   "source": [
    "tbl = read_csv(\n",
    "\"a, b\n",
    "1, 3\n",
    "2, 4\n",
    "'b', 'c'\n",
    "\", guess_max=2\n",
    ")\n",
    "problems(tbl)"
   ]
  },
  {
   "cell_type": "markdown",
   "metadata": {
    "slideshow": {
     "slide_type": "slide"
    }
   },
   "source": [
    "If you already know what format each column has, rather than hoping it guesses correctly you can simply tell that to R:"
   ]
  },
  {
   "cell_type": "code",
   "execution_count": 214,
   "metadata": {},
   "outputs": [
    {
     "name": "stdout",
     "output_type": "stream",
     "text": [
      "# A tibble: 3 x 2\n",
      "      a     b\n",
      "  <chr> <chr>\n",
      "1     1     3\n",
      "2     2     4\n",
      "3     1     2\n"
     ]
    }
   ],
   "source": [
    "read_csv(\n",
    "\"a, b\n",
    "1, 3\n",
    "2, 4\n",
    "1, 2\n",
    "\",\n",
    "   col_types=list(\n",
    "       a=col_character(),\n",
    "       b=col_character()\n",
    "   )\n",
    ") %>% print"
   ]
  }
 ],
 "metadata": {
  "celltoolbar": "Slideshow",
  "kernelspec": {
   "display_name": "R",
   "language": "R",
   "name": "ir"
  },
  "language_info": {
   "codemirror_mode": "r",
   "file_extension": ".r",
   "mimetype": "text/x-r-source",
   "name": "R",
   "pygments_lexer": "r",
   "version": "3.4.3"
  }
 },
 "nbformat": 4,
 "nbformat_minor": 1
}
