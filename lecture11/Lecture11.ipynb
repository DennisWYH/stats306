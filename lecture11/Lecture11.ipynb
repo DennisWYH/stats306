{
 "cells": [
  {
   "cell_type": "code",
   "execution_count": 314,
   "metadata": {
    "slideshow": {
     "slide_type": "notes"
    }
   },
   "outputs": [],
   "source": [
    "library(tidyverse)\n",
    "library(nycflights13)\n",
    "library(lubridate)"
   ]
  },
  {
   "cell_type": "markdown",
   "metadata": {
    "slideshow": {
     "slide_type": "slide"
    }
   },
   "source": [
    "# Lecture 11: relational data II"
   ]
  },
  {
   "cell_type": "markdown",
   "metadata": {
    "slideshow": {
     "slide_type": "slide"
    }
   },
   "source": [
    "## Filtering joins\n",
    "\n",
    "Filtering joins allow use to filter rows on one table based on their presence or absence in another table. We've already seen some examples of this on the problem sets:"
   ]
  },
  {
   "cell_type": "code",
   "execution_count": 15,
   "metadata": {
    "slideshow": {
     "slide_type": "slide"
    }
   },
   "outputs": [
    {
     "name": "stderr",
     "output_type": "stream",
     "text": [
      "Selecting by n\n"
     ]
    },
    {
     "name": "stdout",
     "output_type": "stream",
     "text": [
      "# A tibble: 274,709 x 19\n",
      "    year month   day dep_t… sched… dep_d… arr_… sched… arr_d… carr… flig… tail…\n",
      "   <int> <int> <int>  <int>  <int>  <dbl> <int>  <int>  <dbl> <chr> <int> <chr>\n",
      " 1  2013     1     1    517    515   2.00   830    819  11.0  UA     1545 N142…\n",
      " 2  2013     1     1    533    529   4.00   850    830  20.0  UA     1714 N242…\n",
      " 3  2013     1     1    542    540   2.00   923    850  33.0  AA     1141 N619…\n",
      " 4  2013     1     1    544    545  -1.00  1004   1022 -18.0  B6      725 N804…\n",
      " 5  2013     1     1    554    600  -6.00   812    837 -25.0  DL      461 N668…\n",
      " 6  2013     1     1    554    558  -4.00   740    728  12.0  UA     1696 N394…\n",
      " 7  2013     1     1    555    600  -5.00   913    854  19.0  B6      507 N516…\n",
      " 8  2013     1     1    557    600  -3.00   709    723 -14.0  EV     5708 N829…\n",
      " 9  2013     1     1    557    600  -3.00   838    846 - 8.00 B6       79 N593…\n",
      "10  2013     1     1    558    600  -2.00   753    745   8.00 AA      301 N3AL…\n",
      "# ... with 274,699 more rows, and 7 more variables: origin <chr>, dest <chr>,\n",
      "#   air_time <dbl>, distance <dbl>, hour <dbl>, minute <dbl>, time_hour <dttm>\n"
     ]
    }
   ],
   "source": [
    "top6 = count(flights, carrier) %>% top_n(6)\n",
    "flights_top6 = filter(flights, carrier %in% top6$carrier) %>% print"
   ]
  },
  {
   "cell_type": "markdown",
   "metadata": {
    "slideshow": {
     "slide_type": "slide"
    }
   },
   "source": [
    "What if we wanted to filter based on more than one variable? For example, based on busiest days of the year:"
   ]
  },
  {
   "cell_type": "code",
   "execution_count": 27,
   "metadata": {},
   "outputs": [
    {
     "name": "stderr",
     "output_type": "stream",
     "text": [
      "Selecting by n\n"
     ]
    },
    {
     "name": "stdout",
     "output_type": "stream",
     "text": [
      "# A tibble: 7 x 4\n",
      "   year month   day     n\n",
      "  <int> <int> <int> <int>\n",
      "1  2013     7     8  1004\n",
      "2  2013     7    10  1004\n",
      "3  2013     7    11  1006\n",
      "4  2013     7    18  1003\n",
      "5  2013     7    25  1003\n",
      "6  2013    11    27  1014\n",
      "7  2013    12     2  1004\n"
     ]
    }
   ],
   "source": [
    "top6_days = count(flights, year, month, day) %>% top_n(6) %>% print"
   ]
  },
  {
   "cell_type": "markdown",
   "metadata": {
    "slideshow": {
     "slide_type": "slide"
    }
   },
   "source": [
    "One option would be to construct a new string variable which we could then match using the same technique:"
   ]
  },
  {
   "cell_type": "code",
   "execution_count": 47,
   "metadata": {
    "slideshow": {
     "slide_type": "-"
    }
   },
   "outputs": [
    {
     "name": "stdout",
     "output_type": "stream",
     "text": [
      "# A tibble: 7,038 x 17\n",
      "   ymd    dep_t… sche… dep_de… arr_… sche… arr_d… carr… flig… tail… orig… dest \n",
      "   <chr>   <int> <int>   <dbl> <int> <int>  <dbl> <chr> <int> <chr> <chr> <chr>\n",
      " 1 2013-…     28  1930  298      129  2049  280   EV     5769 N833… LGA   IAD  \n",
      " 2 2013-…    505   500    5.00   703   651   12.0 US     1895 N198… EWR   CLT  \n",
      " 3 2013-…    514   515 -  1.00   743   808 - 25.0 UA     1096 N668… EWR   IAH  \n",
      " 4 2013-…    535   540 -  5.00   907   850   17.0 AA     2243 N5CK… JFK   MIA  \n",
      " 5 2013-…    540   545 -  5.00   815   835 - 20.0 UA     1014 N372… LGA   IAH  \n",
      " 6 2013-…    551   600 -  9.00   920   854   26.0 B6      605 N589… EWR   FLL  \n",
      " 7 2013-…    551   600 -  9.00   918   849   29.0 B6      353 N655… JFK   PBI  \n",
      " 8 2013-…    554   600 -  6.00   719   719    0   EV     5747 N820… LGA   IAD  \n",
      " 9 2013-…    554   600 -  6.00   707   717 - 10.0 EV     5716 N832… JFK   IAD  \n",
      "10 2013-…    554   600 -  6.00   907   846   21.0 B6      583 N507… JFK   MCO  \n",
      "# ... with 7,028 more rows, and 5 more variables: air_time <dbl>,\n",
      "#   distance <dbl>, hour <dbl>, minute <dbl>, time_hour <dttm>\n"
     ]
    }
   ],
   "source": [
    "top6_days_ymd = unite(top6_days, ymd, year:day, sep=\"-\") %>% .$ymd\n",
    "flights_ymd = unite(flights, ymd, year:day, sep=\"-\")\n",
    "filter(flights_ymd, ymd %in% top6_days_ymd) %>% print"
   ]
  },
  {
   "cell_type": "markdown",
   "metadata": {
    "slideshow": {
     "slide_type": "-"
    }
   },
   "source": [
    "But this is cumbersome and will also be slow if you are matching to a large list of choices."
   ]
  },
  {
   "cell_type": "markdown",
   "metadata": {
    "slideshow": {
     "slide_type": "slide"
    }
   },
   "source": [
    " A better option is to use the built-in command `semi_join`. `semi_join(x, y)` keeps all the observations in `x` that are also in `y`.\n",
    "![semi join](http://r4ds.had.co.nz/diagrams/join-semi.png)"
   ]
  },
  {
   "cell_type": "markdown",
   "metadata": {
    "slideshow": {
     "slide_type": "slide"
    }
   },
   "source": [
    "`semi_join()` takes the same `key=` options as the other join commands."
   ]
  },
  {
   "cell_type": "code",
   "execution_count": 31,
   "metadata": {
    "slideshow": {
     "slide_type": "-"
    }
   },
   "outputs": [
    {
     "name": "stderr",
     "output_type": "stream",
     "text": [
      "Joining, by = c(\"year\", \"month\", \"day\")\n"
     ]
    },
    {
     "name": "stdout",
     "output_type": "stream",
     "text": [
      "# A tibble: 7,038 x 19\n",
      "    year month   day dep_t… sched… dep_de… arr_… sche… arr_d… carr… flig… tail…\n",
      "   <int> <int> <int>  <int>  <int>   <dbl> <int> <int>  <dbl> <chr> <int> <chr>\n",
      " 1  2013    11    27     28   1930  298      129  2049  280   EV     5769 N833…\n",
      " 2  2013    11    27    505    500    5.00   703   651   12.0 US     1895 N198…\n",
      " 3  2013    11    27    514    515 -  1.00   743   808 - 25.0 UA     1096 N668…\n",
      " 4  2013    11    27    535    540 -  5.00   907   850   17.0 AA     2243 N5CK…\n",
      " 5  2013    11    27    540    545 -  5.00   815   835 - 20.0 UA     1014 N372…\n",
      " 6  2013    11    27    551    600 -  9.00   920   854   26.0 B6      605 N589…\n",
      " 7  2013    11    27    551    600 -  9.00   918   849   29.0 B6      353 N655…\n",
      " 8  2013    11    27    554    600 -  6.00   719   719    0   EV     5747 N820…\n",
      " 9  2013    11    27    554    600 -  6.00   707   717 - 10.0 EV     5716 N832…\n",
      "10  2013    11    27    554    600 -  6.00   907   846   21.0 B6      583 N507…\n",
      "# ... with 7,028 more rows, and 7 more variables: origin <chr>, dest <chr>,\n",
      "#   air_time <dbl>, distance <dbl>, hour <dbl>, minute <dbl>, time_hour <dttm>\n"
     ]
    }
   ],
   "source": [
    "semi_join(flights, top6_days) %>% print"
   ]
  },
  {
   "cell_type": "markdown",
   "metadata": {
    "slideshow": {
     "slide_type": "slide"
    }
   },
   "source": [
    "The opposite of a semi-join is an anti-join:\n",
    "![anti-join](http://r4ds.had.co.nz/diagrams/join-anti.png)"
   ]
  },
  {
   "cell_type": "markdown",
   "metadata": {
    "slideshow": {
     "slide_type": "slide"
    }
   },
   "source": [
    "Anti-joins are useful for finding mismatches in joins. Yesterday we saw that some entries in `flights` have `tailnum`s that do not exist in the `planes` table. To find out more about these flights we could use an anti-join to select only those rows:"
   ]
  },
  {
   "cell_type": "code",
   "execution_count": 63,
   "metadata": {},
   "outputs": [
    {
     "name": "stdout",
     "output_type": "stream",
     "text": [
      "# A tibble: 50,094 x 19\n",
      "    year month   day dep_t… sched… dep_de… arr_… sche… arr_d… carr… flig… tail…\n",
      "   <int> <int> <int>  <int>  <int>   <dbl> <int> <int>  <dbl> <chr> <int> <chr>\n",
      " 1  2013     1     1    558    600  - 2.00   753   745   8.00 AA      301 N3AL…\n",
      " 2  2013     1     1    559    600  - 1.00   941   910  31.0  AA      707 N3DU…\n",
      " 3  2013     1     1    600    600    0      837   825  12.0  MQ     4650 N542…\n",
      " 4  2013     1     1    602    605  - 3.00   821   805  16.0  MQ     4401 N730…\n",
      " 5  2013     1     1    608    600    8.00   807   735  32.0  MQ     3768 N9EA…\n",
      " 6  2013     1     1    611    600   11.0    945   931  14.0  UA      303 N532…\n",
      " 7  2013     1     1    623    610   13.0    920   915   5.00 AA     1837 N3EM…\n",
      " 8  2013     1     1    624    630  - 6.00   840   830  10.0  MQ     4599 N518…\n",
      " 9  2013     1     1    628    630  - 2.00  1137  1140 - 3.00 AA      413 N3BA…\n",
      "10  2013     1     1    629    630  - 1.00   824   810  14.0  AA      303 N3CY…\n",
      "# ... with 50,084 more rows, and 7 more variables: origin <chr>, dest <chr>,\n",
      "#   air_time <dbl>, distance <dbl>, hour <dbl>, minute <dbl>, time_hour <dttm>\n"
     ]
    }
   ],
   "source": [
    "missing_planes = anti_join(flights, planes, by=\"tailnum\") %>% filter(!is.na(tailnum)) %>% print"
   ]
  },
  {
   "cell_type": "markdown",
   "metadata": {
    "slideshow": {
     "slide_type": "slide"
    }
   },
   "source": [
    "Do we see any pattern in this table that could explain the missing tail numbers?"
   ]
  },
  {
   "cell_type": "code",
   "execution_count": 64,
   "metadata": {},
   "outputs": [
    {
     "name": "stdout",
     "output_type": "stream",
     "text": [
      "# A tibble: 100 x 19\n",
      "    year month   day dep_time sched_dep_time dep_delay arr_time sched_arr_time\n",
      "   <int> <int> <int>    <int>          <int>     <dbl>    <int>          <int>\n",
      " 1  2013     6     5      552            600   -  8.00      801            810\n",
      " 2  2013    10     4      620            625   -  5.00      830            850\n",
      " 3  2013     3    31      811            810      1.00      939            955\n",
      " 4  2013     3    20      825            835   - 10.0      1056           1105\n",
      " 5  2013     2    17     1443           1450   -  7.00     1618           1640\n",
      " 6  2013     9    27     1450           1455   -  5.00     1804           1750\n",
      " 7  2013    11     3     2022           2025   -  3.00     2136           2140\n",
      " 8  2013     7    25      250           2245    245         530            135\n",
      " 9  2013     1    25     1533           1535   -  2.00     1832           1850\n",
      "10  2013     2    26     1054           1100   -  6.00     1203           1215\n",
      "   arr_delay carrier flight tailnum origin dest  air_time distance  hour minute\n",
      "       <dbl> <chr>    <int> <chr>   <chr>  <chr>    <dbl>    <dbl> <dbl>  <dbl>\n",
      " 1   -  9.00 MQ        4650 N506MQ  LGA    ATL      114        762  6.00    0  \n",
      " 2   - 20.0  MQ        3550 N530MQ  LGA    ATL      111        762  6.00   25.0\n",
      " 3   - 16.0  MQ        4406 N845MQ  JFK    RDU       70.0      427  8.00   10.0\n",
      " 4   -  9.00 MQ        4610 N520MQ  LGA    ATL      128        762  8.00   35.0\n",
      " 5   - 22.0  MQ        4403 N848MQ  JFK    RDU       70.0      427 14.0    50.0\n",
      " 6     14.0  MQ        3070 N518MQ  JFK    TPA      127       1005 14.0    55.0\n",
      " 7   -  4.00 AA        2314 N3AMAA  JFK    BOS       36.0      187 20.0    25.0\n",
      " 8    235    B6         623 N527JB  JFK    LAX      318       2475 22.0    45.0\n",
      " 9   - 18.0  AA         763 N3BUAA  LGA    DFW      216       1389 15.0    35.0\n",
      "10   - 12.0  MQ        3792 N526MQ  JFK    DCA       47.0      213 11.0     0  \n",
      "   time_hour          \n",
      "   <dttm>             \n",
      " 1 2013-06-05 06:00:00\n",
      " 2 2013-10-04 06:00:00\n",
      " 3 2013-03-31 08:00:00\n",
      " 4 2013-03-20 08:00:00\n",
      " 5 2013-02-17 14:00:00\n",
      " 6 2013-09-27 14:00:00\n",
      " 7 2013-11-03 20:00:00\n",
      " 8 2013-07-25 22:00:00\n",
      " 9 2013-01-25 15:00:00\n",
      "10 2013-02-26 11:00:00\n",
      "# ... with 90 more rows\n"
     ]
    }
   ],
   "source": [
    "print(missing_planes %>% sample_n(100), width=Inf)"
   ]
  },
  {
   "cell_type": "markdown",
   "metadata": {
    "slideshow": {
     "slide_type": "slide"
    }
   },
   "source": [
    "Interestingly, the top 5 most frequent `tailnum`s in the overall data are almost the same:"
   ]
  },
  {
   "cell_type": "code",
   "execution_count": 65,
   "metadata": {},
   "outputs": [
    {
     "name": "stderr",
     "output_type": "stream",
     "text": [
      "Selecting by n\n"
     ]
    },
    {
     "data": {
      "text/plain": [
       "  tailnum n   \n",
       "1 N711MQ   486\n",
       "2 N722MQ   513\n",
       "3 N723MQ   507\n",
       "4 N725MQ   575\n",
       "5 NA      2512"
      ]
     },
     "metadata": {},
     "output_type": "display_data"
    }
   ],
   "source": [
    "count(flights, tailnum) %>% top_n(5)"
   ]
  },
  {
   "cell_type": "markdown",
   "metadata": {
    "slideshow": {
     "slide_type": "slide"
    }
   },
   "source": [
    "Let's examine whatever planes in the top 10 *are* present in `planes`:"
   ]
  },
  {
   "cell_type": "code",
   "execution_count": 66,
   "metadata": {},
   "outputs": [
    {
     "name": "stderr",
     "output_type": "stream",
     "text": [
      "Selecting by n\n",
      "Joining, by = \"tailnum\"\n"
     ]
    },
    {
     "name": "stdout",
     "output_type": "stream",
     "text": [
      "# A tibble: 5 x 9\n",
      "  tailnum  year type                    manufa… model   engi… seats speed engi…\n",
      "  <chr>   <int> <chr>                   <chr>   <chr>   <int> <int> <int> <chr>\n",
      "1 N258JB   2006 Fixed wing multi engine EMBRAER ERJ 19…     2    20    NA Turb…\n",
      "2 N298JB   2009 Fixed wing multi engine EMBRAER ERJ 19…     2    20    NA Turb…\n",
      "3 N351JB   2012 Fixed wing multi engine EMBRAER ERJ 19…     2    20    NA Turb…\n",
      "4 N353JB   2012 Fixed wing multi engine EMBRAER ERJ 19…     2    20    NA Turb…\n",
      "5 N711MQ   1976 Fixed wing multi engine GULFST… G1159B      2    22    NA Turb…\n"
     ]
    }
   ],
   "source": [
    "semi_join(planes, count(flights, tailnum) %>% top_n(10)) %>% print"
   ]
  },
  {
   "cell_type": "markdown",
   "metadata": {
    "slideshow": {
     "slide_type": "slide"
    }
   },
   "source": [
    "They are all small regional jets. Does this give us any clue as to why `tailnum` is missing?"
   ]
  },
  {
   "cell_type": "code",
   "execution_count": 79,
   "metadata": {},
   "outputs": [
    {
     "name": "stdout",
     "output_type": "stream",
     "text": [
      "# A tibble: 10 x 19\n",
      "    year month   day dep_time sched_dep_time dep_delay arr_time sched_arr_time\n",
      "   <int> <int> <int>    <int>          <int>     <dbl>    <int>          <int>\n",
      " 1  2013     4    22      855            855      0        1204           1120\n",
      " 2  2013    11    29      851            830     21.0      1102           1100\n",
      " 3  2013     7    12     1450           1429     21.0      1907           1659\n",
      " 4  2013     5    28      658            700    - 2.00      935            950\n",
      " 5  2013     7    31      659            710    -11.0       910            915\n",
      " 6  2013     5    26     2101           2105    - 4.00     2246           2305\n",
      " 7  2013     3    26     1454           1500    - 6.00     1827           1825\n",
      " 8  2013     4     1      555            600    - 5.00      834            825\n",
      " 9  2013     2    19      609            610    - 1.00      902            910\n",
      "10  2013     3    16      727            730    - 3.00     1018           1040\n",
      "   arr_delay carrier flight tailnum origin dest  air_time distance  hour minute\n",
      "       <dbl> <chr>    <int> <chr>   <chr>  <chr>    <dbl>    <dbl> <dbl>  <dbl>\n",
      " 1     44.0  MQ        4619 N0EGMQ  LGA    ATL      110        762  8.00  55.0 \n",
      " 2      2.00 F9         509 N263AV  LGA    DEN      230       1620  8.00  30.0 \n",
      " 3    128    MQ        3669 N502MQ  LGA    ATL      152        762 14.0   29.0 \n",
      " 4   - 15.0  AA        2083 N4WJAA  EWR    DFW      182       1372  7.00   0   \n",
      " 5   -  5.00 MQ        3547 N713MQ  LGA    XNA      164       1147  7.00  10.0 \n",
      " 6   - 19.0  MQ        4573 N722MQ  LGA    DTW       83.0      502 21.0    5.00\n",
      " 7      2.00 AA        1925 N3KAAA  LGA    MIA      167       1096 15.0    0   \n",
      " 8      9.00 MQ        4650 N537MQ  LGA    ATL      117        762  6.00   0   \n",
      " 9   -  8.00 AA        1895 N5EJAA  EWR    MIA      150       1085  6.00  10.0 \n",
      "10   - 22.0  AA         715 N542AA  LGA    DFW      209       1389  7.00  30.0 \n",
      "   time_hour          \n",
      "   <dttm>             \n",
      " 1 2013-04-22 08:00:00\n",
      " 2 2013-11-29 08:00:00\n",
      " 3 2013-07-12 14:00:00\n",
      " 4 2013-05-28 07:00:00\n",
      " 5 2013-07-31 07:00:00\n",
      " 6 2013-05-26 21:00:00\n",
      " 7 2013-03-26 15:00:00\n",
      " 8 2013-04-01 06:00:00\n",
      " 9 2013-02-19 06:00:00\n",
      "10 2013-03-16 07:00:00\n"
     ]
    }
   ],
   "source": [
    "print(missing_planes %>% sample_n(10), width=Inf)"
   ]
  },
  {
   "cell_type": "code",
   "execution_count": 98,
   "metadata": {
    "slideshow": {
     "slide_type": "slide"
    }
   },
   "outputs": [
    {
     "data": {
      "text/plain": [
       "  carrier n    \n",
       "1 AA      22474\n",
       "2 B6        830\n",
       "3 DL        110\n",
       "4 F9         47\n",
       "5 FL        187\n",
       "6 MQ      25395\n",
       "7 UA       1007\n",
       "8 US         36\n",
       "9 WN          8"
      ]
     },
     "metadata": {},
     "output_type": "display_data"
    },
    {
     "name": "stdout",
     "output_type": "stream",
     "text": [
      "       \n",
      "         FALSE   TRUE\n",
      "  FALSE 267885   7339\n",
      "  TRUE   10979  48061\n"
     ]
    },
    {
     "data": {
      "text/plain": [
       "       \n",
       "             FALSE       TRUE\n",
       "  FALSE 0.96062955 0.13247292\n",
       "  TRUE  0.03937045 0.86752708"
      ]
     },
     "metadata": {},
     "output_type": "display_data"
    }
   ],
   "source": [
    "count(missing_planes, carrier)\n",
    "flights_planes = filter(flights, !is.na(tailnum)) %>% \n",
    "    left_join(planes, by=\"tailnum\", suffix=c(\"_fl\", \"_pl\"))\n",
    "tab = table(flights_planes$carrier %in% c(\"MQ\", \"AA\"), is.na(flights_planes$year_pl)) %>% print\n",
    "prop.table(tab, 2)"
   ]
  },
  {
   "cell_type": "markdown",
   "metadata": {
    "slideshow": {
     "slide_type": "slide"
    }
   },
   "source": [
    "## Set functions\n",
    "Finally we will study set functions. These take two tables `x` and `y` and treat their rows as elements of a set. Then, we can take the intersection, union, etc. In order for this to make sense, the `x` and `y` inputs must have the same variables."
   ]
  },
  {
   "cell_type": "code",
   "execution_count": 296,
   "metadata": {
    "slideshow": {
     "slide_type": "-"
    }
   },
   "outputs": [
    {
     "data": {
      "text/plain": [
       "  x y\n",
       "1 1 1\n",
       "2 2 1"
      ]
     },
     "metadata": {},
     "output_type": "display_data"
    },
    {
     "data": {
      "text/plain": [
       "  x y\n",
       "1 1 1\n",
       "2 1 2"
      ]
     },
     "metadata": {},
     "output_type": "display_data"
    }
   ],
   "source": [
    "df1 <- tribble(\n",
    "  ~x, ~y,\n",
    "   1,  1,\n",
    "   2,  1\n",
    ")\n",
    "df2 <- tribble(\n",
    "  ~x, ~y,\n",
    "   1,  1,\n",
    "   1,  2\n",
    ")\n",
    "df1\n",
    "df2"
   ]
  },
  {
   "cell_type": "markdown",
   "metadata": {
    "slideshow": {
     "slide_type": "slide"
    }
   },
   "source": [
    "The intersection of `df1` and `df2` will give me all the rows that are found in both tables:"
   ]
  },
  {
   "cell_type": "code",
   "execution_count": 302,
   "metadata": {},
   "outputs": [
    {
     "data": {
      "text/plain": [
       "  x y\n",
       "1 1 1"
      ]
     },
     "metadata": {},
     "output_type": "display_data"
    }
   ],
   "source": [
    "dplyr::intersect(df1, df2)"
   ]
  },
  {
   "cell_type": "markdown",
   "metadata": {
    "slideshow": {
     "slide_type": "slide"
    }
   },
   "source": [
    "The union will contain (one copy of) each row that is found in either table."
   ]
  },
  {
   "cell_type": "code",
   "execution_count": 308,
   "metadata": {},
   "outputs": [
    {
     "data": {
      "text/plain": [
       "  x y\n",
       "1 1 1\n",
       "2 2 1\n",
       "3 1 1\n",
       "4 1 2"
      ]
     },
     "metadata": {},
     "output_type": "display_data"
    }
   ],
   "source": [
    "dplyr::union(df1, df2)  # note 3 rows not 4"
   ]
  },
  {
   "cell_type": "markdown",
   "metadata": {
    "slideshow": {
     "slide_type": "slide"
    }
   },
   "source": [
    "If you really want all rows (including multiplicity), use `union_all()` or `row_bind()`:"
   ]
  },
  {
   "cell_type": "code",
   "execution_count": 312,
   "metadata": {},
   "outputs": [
    {
     "data": {
      "text/plain": [
       "  x y\n",
       "1 1 1\n",
       "2 2 1\n",
       "3 1 1\n",
       "4 1 2"
      ]
     },
     "metadata": {},
     "output_type": "display_data"
    },
    {
     "data": {
      "text/plain": [
       "  x y\n",
       "1 1 1\n",
       "2 2 1\n",
       "3 1 1\n",
       "4 1 2"
      ]
     },
     "metadata": {},
     "output_type": "display_data"
    }
   ],
   "source": [
    "dplyr::union_all(df1, df2)\n",
    "bind_rows(df1, df2)"
   ]
  },
  {
   "cell_type": "markdown",
   "metadata": {
    "slideshow": {
     "slide_type": "slide"
    }
   },
   "source": [
    "Finally, the set difference is all rows that are found in exactly one of the two tables. (Like xor for sets.)"
   ]
  },
  {
   "cell_type": "code",
   "execution_count": 313,
   "metadata": {},
   "outputs": [
    {
     "data": {
      "text/plain": [
       "  x y\n",
       "1 2 1"
      ]
     },
     "metadata": {},
     "output_type": "display_data"
    }
   ],
   "source": [
    "dplyr::setdiff(df1, df2)"
   ]
  }
 ],
 "metadata": {
  "celltoolbar": "Slideshow",
  "kernelspec": {
   "display_name": "R",
   "language": "R",
   "name": "ir"
  },
  "language_info": {
   "codemirror_mode": "r",
   "file_extension": ".r",
   "mimetype": "text/x-r-source",
   "name": "R",
   "pygments_lexer": "r",
   "version": "3.4.2"
  }
 },
 "nbformat": 4,
 "nbformat_minor": 2
}
