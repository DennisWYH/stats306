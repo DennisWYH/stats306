{
 "cells": [
  {
   "cell_type": "markdown",
   "metadata": {},
   "source": [
    "# Read these instructions completely in order to receive full credit\n",
    "\n",
    "- Before you submit the problem set, make sure everything runs as expected. Go to the menu bar at the top of Jupyter Notebook and click `Kernel > Restart & Run All`. Your code should run from top to bottom with no errors. Failure to do this will result in loss of points.\n",
    "\n",
    "- You should not use `install.packages()` anywhere. You may assume that we have already installed all the packages needed to run your code.\n",
    "\n",
    "- Make sure you fill in any place that says `YOUR CODE HERE` or \"YOUR ANSWER HERE\" and delete the `stop()` functions. The `stop()` functions produce an error and are there to remind you of cells that need an answer.\n",
    "\n",
    "- If you are working in a group, make sure you and your collaborators have been [added to a group on Canvas](https://umich.instructure.com/courses/270337/discussion_topics/658777). You should also specify your group members when submitting to Gradescope.\n",
    "- As a backup, *also* fill in your uniqid as well as those of your collaborators below:"
   ]
  },
  {
   "cell_type": "markdown",
   "metadata": {},
   "source": [
    "Your uniqid: `<replace with your uniqid>`\n",
    "\n",
    "Uniqids of your collaborator(s): `<replace with their uniqids>`"
   ]
  },
  {
   "cell_type": "markdown",
   "metadata": {},
   "source": [
    "- This assignment should be submitted to both Canvas and Gradescope using the [instructions](https://piazza.com/class/jqh1wx3xw9amg?cid=55) posted on Piazza. **You must upload the problem set to __both__ Canvas and Gradescope in order to recieve full credit.** \n",
    "- **Carefully proofread the PDF that you upload to Canvas. PDFs that have missing or truncated code cannot be graded and will not receive credit.**"
   ]
  },
  {
   "cell_type": "markdown",
   "metadata": {},
   "source": [
    "---"
   ]
  },
  {
   "cell_type": "code",
   "execution_count": null,
   "metadata": {
    "deletable": false,
    "editable": false,
    "nbgrader": {
     "checksum": "a09f74e27609579bd954f12d0ad2206e",
     "grade": false,
     "grade_id": "cell-d1761bfdb43c7ec3",
     "locked": true,
     "schema_version": 1,
     "solution": false
    }
   },
   "outputs": [],
   "source": [
    "library(tidyverse)\n",
    "library(stringr)\n",
    "library(lubridate)"
   ]
  },
  {
   "cell_type": "markdown",
   "metadata": {
    "deletable": false,
    "editable": false,
    "nbgrader": {
     "checksum": "6551e2dd466c60d2de4b456175cf609d",
     "grade": false,
     "grade_id": "cell-193dcce7ad6d5a10",
     "locked": true,
     "schema_version": 1,
     "solution": false
    }
   },
   "source": [
    "# STATS 306\n",
    "## Problem Set 8: Functions & Functional Programming"
   ]
  },
  {
   "cell_type": "markdown",
   "metadata": {
    "deletable": false,
    "editable": false,
    "nbgrader": {
     "checksum": "b26bb42820a70cad19ed298a36ee7b15",
     "grade": false,
     "grade_id": "cell-d180ae6973dcba42",
     "locked": true,
     "schema_version": 1,
     "solution": false
    }
   },
   "source": [
    "#### Problem 1\n",
    "Create a function `n_entries(v, x)` which, given a vector `v` and a scalar `x`, returns the number of times that `x` occurs in `v`."
   ]
  },
  {
   "cell_type": "code",
   "execution_count": null,
   "metadata": {
    "deletable": false,
    "nbgrader": {
     "checksum": "e32f3bccbb8f09346d5ef3079bd69d68",
     "grade": false,
     "grade_id": "problem1",
     "locked": false,
     "schema_version": 1,
     "solution": true
    }
   },
   "outputs": [],
   "source": [
    "n_entries = function(v, x) {\n",
    "    # YOUR CODE HERE\n",
    "    stop()\n",
    "}"
   ]
  },
  {
   "cell_type": "code",
   "execution_count": null,
   "metadata": {
    "deletable": false,
    "editable": false,
    "nbgrader": {
     "checksum": "b3443c86107ce2cb547f3216f1e5bef0",
     "grade": true,
     "grade_id": "problem1-test",
     "locked": true,
     "points": 2,
     "schema_version": 1,
     "solution": false
    }
   },
   "outputs": [],
   "source": [
    "n_entries(1, 1)"
   ]
  },
  {
   "cell_type": "markdown",
   "metadata": {
    "deletable": false,
    "editable": false,
    "nbgrader": {
     "checksum": "d3a18a6221cdd5bc1865a30476beb119",
     "grade": false,
     "grade_id": "cell-f06795d0d1d82112",
     "locked": true,
     "schema_version": 1,
     "solution": false
    }
   },
   "source": [
    "#### Problem 2\n",
    "Create a function `days_between(v)` which, given a vector `v` of $n$ dates, sorts `v` in ascending order and then returns a new vector of length $n-1$ of the number of days which elapsed between each successive date. Additionally, each entry in the returned vector should have a name of the form `mm/dd/yyyy to mm/dd/yyyy` indicating the corresponding date span.\n",
    "For example:\n",
    "```{r}\n",
    "> days_between(c(\"Jan. 20, 2009\", \"July 20, 1969\", \"June 28, 1914\", \"July 14, 1789\", \"Oct. 14, 1066\"))\n",
    "Time differences in days\n",
    "10/14/1066 to 07/14/1789 07/14/1789 to 06/28/1914 06/28/1914 to 07/20/1969 \n",
    "                  263979                    45638                    20111 \n",
    "07/20/1969 to 01/20/2009 01/20/2009 to 01/01/2011 \n",
    "                   14429                      711\n",
    "```\n",
    "(You may assume that all dates that will be inputted to `days_between(v)` are in the format given in the example, and between January 1, 1000 and December 31, 9999)."
   ]
  },
  {
   "cell_type": "code",
   "execution_count": null,
   "metadata": {
    "deletable": false,
    "nbgrader": {
     "checksum": "8ab052ec72e9914021b715362c3c79b1",
     "grade": false,
     "grade_id": "problem2",
     "locked": false,
     "schema_version": 1,
     "solution": true
    }
   },
   "outputs": [],
   "source": [
    "days_between = function(v) {\n",
    "    # YOUR CODE HERE\n",
    "    stop()\n",
    "}"
   ]
  },
  {
   "cell_type": "code",
   "execution_count": null,
   "metadata": {
    "deletable": false,
    "editable": false,
    "nbgrader": {
     "checksum": "715e4f203bb4751ff6493e2aa5b32438",
     "grade": true,
     "grade_id": "problem2-test",
     "locked": true,
     "points": 2,
     "schema_version": 1,
     "solution": false
    }
   },
   "outputs": [],
   "source": [
    "days_between(c(\"March 27, 2019\", \"April 3, 2019\"))"
   ]
  },
  {
   "cell_type": "markdown",
   "metadata": {
    "deletable": false,
    "editable": false,
    "nbgrader": {
     "checksum": "bfd067ae9a6f6bac347ef88fc8e4281a",
     "grade": false,
     "grade_id": "cell-6ce6122682e6e086",
     "locked": true,
     "schema_version": 1,
     "solution": false
    }
   },
   "source": [
    "#### Problem 3\n",
    "Create a function `standardize(df)` which, given a tibble `df`, returns a new data frame where each *numerical* column is standardized (has mean zero and variance one, accomplished by subtracting the column mean and dividing by its standard deviation). For example:\n",
    "```{r}\n",
    "> df <- tibble(x=1:3, y=4:6, z=c(0, 0, pi), a=c(\"a\", \"b\", \"c\")) %>% print\n",
    "# A tibble: 3 x 4\n",
    "      x     y     z a    \n",
    "  <int> <int> <dbl> <chr>\n",
    "1     1     4  0    a    \n",
    "2     2     5  0    b    \n",
    "3     3     6  3.14 c  \n",
    "\n",
    "> standardize(df)\n",
    "# A tibble: 3 x 4\n",
    "      x     y      z a    \n",
    "  <dbl> <dbl>  <dbl> <chr>\n",
    "1    -1    -1 -0.577 a    \n",
    "2     0     0 -0.577 b    \n",
    "3     1     1  1.15  c    \n",
    "```"
   ]
  },
  {
   "cell_type": "code",
   "execution_count": null,
   "metadata": {
    "deletable": false,
    "nbgrader": {
     "checksum": "ab130bb0225306a31f84622bc2d8cb09",
     "grade": false,
     "grade_id": "problem3",
     "locked": false,
     "schema_version": 1,
     "solution": true
    }
   },
   "outputs": [],
   "source": [
    "standardize = function(df) {\n",
    "    # YOUR CODE HERE\n",
    "    stop()\n",
    "}"
   ]
  },
  {
   "cell_type": "code",
   "execution_count": null,
   "metadata": {
    "deletable": false,
    "editable": false,
    "nbgrader": {
     "checksum": "0c85a47ea68209b149dbc99307a2fb68",
     "grade": true,
     "grade_id": "problem3-test",
     "locked": true,
     "points": 2,
     "schema_version": 1,
     "solution": false
    }
   },
   "outputs": [],
   "source": [
    "standardize(iris)"
   ]
  },
  {
   "cell_type": "markdown",
   "metadata": {
    "deletable": false,
    "editable": false,
    "nbgrader": {
     "checksum": "38e18f8a5b0a881ec10be2cfdc33d0f3",
     "grade": false,
     "grade_id": "cell-474df2b6c8514040",
     "locked": true,
     "schema_version": 1,
     "solution": false
    }
   },
   "source": [
    "#### Problem 4\n",
    "Create a function `str_rev(s)` which, given a string `s`, returns the reversed string. For example, \n",
    "```{r}\n",
    "> str_rev(\"Hello my name is Jonathan\")\n",
    "[1] \"!nahtanoJ si eman ym olleH\"\n",
    "```"
   ]
  },
  {
   "cell_type": "code",
   "execution_count": null,
   "metadata": {
    "deletable": false,
    "nbgrader": {
     "checksum": "1b487f802bf5bf165b163d0cfdaf082b",
     "grade": false,
     "grade_id": "problem4",
     "locked": false,
     "schema_version": 1,
     "solution": true
    }
   },
   "outputs": [],
   "source": [
    "str_rev = function(s) {\n",
    "    # YOUR CODE HERE\n",
    "    stop()\n",
    "}"
   ]
  },
  {
   "cell_type": "code",
   "execution_count": null,
   "metadata": {
    "deletable": false,
    "editable": false,
    "nbgrader": {
     "checksum": "2a2bdc64020096d3c19553a3f59eaeec",
     "grade": true,
     "grade_id": "problem4-test",
     "locked": true,
     "points": 2,
     "schema_version": 1,
     "solution": false
    }
   },
   "outputs": [],
   "source": [
    "str_rev(\"wasitacaroracatisaw\")"
   ]
  },
  {
   "cell_type": "markdown",
   "metadata": {
    "deletable": false,
    "editable": false,
    "nbgrader": {
     "checksum": "fe7d7f56a92c3cda409e55fa3c1258e2",
     "grade": false,
     "grade_id": "cell-e1d2c1d95995b234",
     "locked": true,
     "schema_version": 1,
     "solution": false
    }
   },
   "source": [
    "#### Problem 5\n",
    "Thanksgiving occurs on the fourth Thursday in November. Write a function `thanksgiving_day(year)` which, given a year, returns the date of Thanksgiving for that year:"
   ]
  },
  {
   "cell_type": "code",
   "execution_count": null,
   "metadata": {
    "deletable": false,
    "nbgrader": {
     "checksum": "4d4eeb2f8a18e4d2f2e0c67f3b607433",
     "grade": false,
     "grade_id": "problem5",
     "locked": false,
     "schema_version": 1,
     "solution": true
    }
   },
   "outputs": [],
   "source": [
    "thanksgiving_day <- function(year) {\n",
    "    # YOUR CODE HERE\n",
    "    stop()\n",
    "}"
   ]
  },
  {
   "cell_type": "code",
   "execution_count": null,
   "metadata": {
    "deletable": false,
    "editable": false,
    "nbgrader": {
     "checksum": "51bb5b8fedff3c005d78a02642708f95",
     "grade": true,
     "grade_id": "problem5-test",
     "locked": true,
     "points": 2,
     "schema_version": 1,
     "solution": false
    }
   },
   "outputs": [],
   "source": [
    "thanksgiving_day(2018)"
   ]
  },
  {
   "cell_type": "markdown",
   "metadata": {
    "deletable": false,
    "editable": false,
    "nbgrader": {
     "checksum": "ae84bc96c8ffa2082a8aded8b5c9d5d5",
     "grade": false,
     "grade_id": "cell-978628dab17c58e2",
     "locked": true,
     "schema_version": 1,
     "solution": false
    }
   },
   "source": [
    "#### Problem 6\n",
    "A *recursive* function is a function that calls itself. For example, the following recursive function computes the $k$th factorial number, $$k! := \\prod_{i=1}^k i,\\quad k \\ge 0.$$"
   ]
  },
  {
   "cell_type": "code",
   "execution_count": null,
   "metadata": {
    "deletable": false,
    "editable": false,
    "nbgrader": {
     "checksum": "95c74bbe50ca9bb5a5d9d2e8dda3c952",
     "grade": false,
     "grade_id": "cell-13093053036566c6",
     "locked": true,
     "schema_version": 1,
     "solution": false
    }
   },
   "outputs": [],
   "source": [
    "factorial = function(k) {\n",
    "    if (k <= 0) {\n",
    "        return(1)\n",
    "    }\n",
    "    k * factorial(k - 1)\n",
    "}\n",
    "factorial(5)"
   ]
  },
  {
   "cell_type": "markdown",
   "metadata": {
    "deletable": false,
    "editable": false,
    "nbgrader": {
     "checksum": "77b532f292d3b0af825a2b33fbd805f0",
     "grade": false,
     "grade_id": "cell-8ccc246305bff42e",
     "locked": true,
     "schema_version": 1,
     "solution": false
    }
   },
   "source": [
    "Write a recursive function `fib(k)` that computes $F_k$, the $k$th Fibonacci number. (The Fibonacci sequence is defined by the recurrence $F_{k+2} = F_{k+1} + F_{k}$ for $k\\ge 2$, with $F_1 = F_2 = 1$.)"
   ]
  },
  {
   "cell_type": "code",
   "execution_count": null,
   "metadata": {
    "deletable": false,
    "nbgrader": {
     "checksum": "e3856b958ce552e5401ae17634174290",
     "grade": false,
     "grade_id": "problem6",
     "locked": false,
     "schema_version": 1,
     "solution": true
    }
   },
   "outputs": [],
   "source": [
    "fib = function(k) {\n",
    "    # YOUR CODE HERE\n",
    "    stop()\n",
    "}"
   ]
  },
  {
   "cell_type": "code",
   "execution_count": null,
   "metadata": {
    "deletable": false,
    "editable": false,
    "nbgrader": {
     "checksum": "1f58737936b22c87a15d328fafbc57e1",
     "grade": true,
     "grade_id": "problem6-test",
     "locked": true,
     "points": 2,
     "schema_version": 1,
     "solution": false
    }
   },
   "outputs": [],
   "source": [
    "fib(1)"
   ]
  },
  {
   "cell_type": "markdown",
   "metadata": {
    "deletable": false,
    "editable": false,
    "nbgrader": {
     "checksum": "5bde8055ab5381a2eb26c1a4e54447bb",
     "grade": false,
     "grade_id": "cell-427aefc2db90655f",
     "locked": true,
     "schema_version": 1,
     "solution": false
    }
   },
   "source": [
    "#### Problem 7\n",
    "In Calculus II you learned / are learning that $$\\int_0^1 f(x)\\,\\mathrm{d} x = \\lim_{n\\to\\infty} \\frac{1}{n} \\sum_{i=1}^n f(i/n).$$ The summation on the right-hand side is called a *Riemann sum*. Setting $n$ to a large (but finite) number gives an algorithm for numerically computing the definite integral on the left-hand side.\n",
    "\n",
    "Write a function `int01(f)` that takes a single argument `f`, itself a function, and uses this formula to approximate the integral of `f` over the interval $[0,1]$. (Choose $n=1000$ subdivisions in order to compute the sum.)"
   ]
  },
  {
   "cell_type": "code",
   "execution_count": null,
   "metadata": {
    "deletable": false,
    "nbgrader": {
     "checksum": "5a01338f7e725f5efe3cafb3b0259334",
     "grade": false,
     "grade_id": "problem7",
     "locked": false,
     "schema_version": 1,
     "solution": true
    }
   },
   "outputs": [],
   "source": [
    "int01 = function(f) {\n",
    "    # YOUR CODE HERE\n",
    "    stop()\n",
    "}"
   ]
  },
  {
   "cell_type": "code",
   "execution_count": null,
   "metadata": {
    "deletable": false,
    "editable": false,
    "nbgrader": {
     "checksum": "52e863220a91628eb1b14143b425f7c5",
     "grade": true,
     "grade_id": "problem7-test",
     "locked": true,
     "points": 2,
     "schema_version": 1,
     "solution": false
    }
   },
   "outputs": [],
   "source": [
    "int01(sin)"
   ]
  },
  {
   "cell_type": "markdown",
   "metadata": {
    "deletable": false,
    "editable": false,
    "nbgrader": {
     "checksum": "9f1485e57291794de810790ec6a23a19",
     "grade": false,
     "grade_id": "cell-6494c58db3a89c41",
     "locked": true,
     "schema_version": 1,
     "solution": false
    }
   },
   "source": [
    "#### Problem 8\n",
    "You may have noticed that `int01` is fairly inaccurate. For example, while $\\int_0^1 x^2\\,\\mathrm{d}x = 1/3$, we see that \n",
    "```{r}\n",
    "> int01(function(x) x^2)\n",
    "[1] 0.3338335\n",
    "```\n",
    "is only correct to three decimal places. This is because `int01` does not take the shape of the function `f` into account. To obtain more accuracy, we can use [Simpson's rule](https://en.wikipedia.org/wiki/Simpson%27s_rule):\n",
    "$$\\int_0^1 f(x)\\,\\mathrm{d}x \\approx \\frac{1}{6n} \\sum_{i=1}^n f\\left(\\frac{i-1}{n}\\right) + 4f\\left(\\frac{i - 1/2}{n}\\right)\n",
    "+ f\\left(\\frac{i}{n}\\right),$$ for large $n$.\n",
    "\n",
    "Implement Simpson's rule (again using $n=1000$) in a function called `simps01(f)`, and use it to define a function `rel_acc(f, truth)` which compares the relative accuracy of the Simpson's rule against `int01`. The function should take two arguments, the function to be integrated `f` and $$\\texttt{truth} = \\int_0^1 f(x)\\,\\mathrm{d}x,$$\n",
    "the true value of the integral. It should return the relative accuracy, defined as $$\\texttt{relacc(f, truth)} = \\frac{|\\texttt{simps01(f)} - \\texttt{truth}|}{|\\texttt{int01(f)}-\\texttt{truth}|}.$$ (Hence, small values of `rel_acc` indicate that Simpson's rule is more accurate.)"
   ]
  },
  {
   "cell_type": "code",
   "execution_count": null,
   "metadata": {
    "deletable": false,
    "nbgrader": {
     "checksum": "eb0791c0329e88665f56bcefa4601534",
     "grade": false,
     "grade_id": "problem8",
     "locked": false,
     "schema_version": 1,
     "solution": true
    }
   },
   "outputs": [],
   "source": [
    "simps01 = function(f) {\n",
    "    # YOUR CODE HERE\n",
    "    stop()\n",
    "}\n",
    "\n",
    "rel_acc = function(f, truth) {\n",
    "    # YOUR CODE HERE\n",
    "    stop()\n",
    "}"
   ]
  },
  {
   "cell_type": "code",
   "execution_count": null,
   "metadata": {
    "deletable": false,
    "editable": false,
    "nbgrader": {
     "checksum": "187c8eee2575dcf9079ddfa6ac63a220",
     "grade": true,
     "grade_id": "problem8-test",
     "locked": true,
     "points": 2,
     "schema_version": 1,
     "solution": false
    }
   },
   "outputs": [],
   "source": [
    "stopifnot(rel_acc(function(x) x^2, 1/3) == 0)"
   ]
  },
  {
   "cell_type": "markdown",
   "metadata": {
    "deletable": false,
    "editable": false,
    "nbgrader": {
     "checksum": "92b7e3a3f636209c76c1360ff57d9efb",
     "grade": false,
     "grade_id": "cell-45cc9a11025e1c79",
     "locked": true,
     "schema_version": 1,
     "solution": false
    }
   },
   "source": [
    "## Functional programming\n",
    "For problems 9-12, you are shown a `for` loop. Write a function `f` which can be used with the indicated functional programming construct to \"replace\" this for loop. For example, if you are given:\n",
    "\n",
    "```\n",
    "n <- length(input)\n",
    "output <- vector(\"double\", n)\n",
    "for (i in 1:n) {\n",
    "    output[[i]] <- (input[[i]] - mean(input[[i]])) / sd(input[[i]])\n",
    "}\n",
    "# replace with: output <- map(input, f)\n",
    "```\n",
    "\n",
    "then a solution could be:\n",
    "\n",
    "```\n",
    "f <- function(x) (x - mean(x)) / sd(x)\n",
    "```"
   ]
  },
  {
   "cell_type": "markdown",
   "metadata": {
    "deletable": false,
    "editable": false,
    "nbgrader": {
     "checksum": "47ee0bb424979f60071eb92a212f1193",
     "grade": false,
     "grade_id": "cell-p9",
     "locked": true,
     "schema_version": 1,
     "solution": false
    }
   },
   "source": [
    "#### Problem 9\n",
    "```\n",
    "n <- length(input)\n",
    "output <- vector(\"double\", n)\n",
    "for (i in 1:n) {\n",
    "    output[[i]] <- max(input[[i]]) - min(input[[i]])\n",
    "}\n",
    "# replace with: output <- map_dbl(input, f9)\n",
    "```"
   ]
  },
  {
   "cell_type": "code",
   "execution_count": null,
   "metadata": {
    "deletable": false,
    "nbgrader": {
     "checksum": "df37352b61ed9ab1b6d3edb32e60714e",
     "grade": false,
     "grade_id": "problem9",
     "locked": false,
     "schema_version": 1,
     "solution": true
    }
   },
   "outputs": [],
   "source": [
    "# YOUR CODE HERE\n",
    "stop()"
   ]
  },
  {
   "cell_type": "code",
   "execution_count": null,
   "metadata": {
    "deletable": false,
    "editable": false,
    "nbgrader": {
     "checksum": "92f4fea268d920e5c6b7ffdd6aa51577",
     "grade": true,
     "grade_id": "problem9-test",
     "locked": true,
     "points": 1,
     "schema_version": 1,
     "solution": false
    }
   },
   "outputs": [],
   "source": [
    "stopifnot(exists(\"f9\"))"
   ]
  },
  {
   "cell_type": "markdown",
   "metadata": {
    "deletable": false,
    "editable": false,
    "nbgrader": {
     "checksum": "37216b1dc0dd1c1b5a48d5872431fda4",
     "grade": false,
     "grade_id": "p10",
     "locked": true,
     "schema_version": 1,
     "solution": false
    }
   },
   "source": [
    "#### Problem 10\n",
    "```\n",
    "n <- length(input)\n",
    "output <- vector(\"double\", n)\n",
    "output[[1]] <- input[[1]]\n",
    "for (i in 2:n) {\n",
    "    output[[i]] <- input[[i]] + output[[i - 1]]\n",
    "}\n",
    "# replace with: output <- accumulate(input, f10)\n",
    "```"
   ]
  },
  {
   "cell_type": "code",
   "execution_count": null,
   "metadata": {
    "deletable": false,
    "nbgrader": {
     "checksum": "b4df71b33afe0d3f5f1f45105945d1c2",
     "grade": false,
     "grade_id": "problem10",
     "locked": false,
     "schema_version": 1,
     "solution": true
    }
   },
   "outputs": [],
   "source": [
    "# YOUR CODE HERE\n",
    "stop()"
   ]
  },
  {
   "cell_type": "code",
   "execution_count": null,
   "metadata": {
    "deletable": false,
    "editable": false,
    "nbgrader": {
     "checksum": "a8d7a56eef5f4f0d4f98578e0d27e414",
     "grade": true,
     "grade_id": "problem10-test",
     "locked": true,
     "points": 1,
     "schema_version": 1,
     "solution": false
    }
   },
   "outputs": [],
   "source": [
    "stopifnot(exists(\"f10\"))"
   ]
  },
  {
   "cell_type": "markdown",
   "metadata": {
    "deletable": false,
    "editable": false,
    "nbgrader": {
     "checksum": "9cf35a2bd6b9b8d2dcffc5226339b4f7",
     "grade": false,
     "grade_id": "p11",
     "locked": true,
     "schema_version": 1,
     "solution": false
    }
   },
   "source": [
    "#### Problem 11\n",
    "```\n",
    "n <- length(input)\n",
    "output <- -Inf\n",
    "for (i in 1:n) {\n",
    "    output <- max(f(input[[i]]), output)\n",
    "}\n",
    "# replace with: output <- reduce(input, f11, f, .init=-Inf)\n",
    "```"
   ]
  },
  {
   "cell_type": "code",
   "execution_count": null,
   "metadata": {
    "deletable": false,
    "nbgrader": {
     "checksum": "f2b8f0890a8e2bfb28ee299d43d5ec40",
     "grade": false,
     "grade_id": "problem11",
     "locked": false,
     "schema_version": 1,
     "solution": true
    }
   },
   "outputs": [],
   "source": [
    "# YOUR CODE HERE\n",
    "stop()"
   ]
  },
  {
   "cell_type": "code",
   "execution_count": null,
   "metadata": {
    "deletable": false,
    "editable": false,
    "nbgrader": {
     "checksum": "db5ac8330b244e0b87650a5f0ade0e05",
     "grade": true,
     "grade_id": "problem11-test",
     "locked": true,
     "points": 1,
     "schema_version": 1,
     "solution": false
    }
   },
   "outputs": [],
   "source": [
    "stopifnot(exists(\"f11\"))"
   ]
  },
  {
   "cell_type": "markdown",
   "metadata": {
    "deletable": false,
    "editable": false,
    "nbgrader": {
     "checksum": "02ce83daa229711fbddd6964803f1cf4",
     "grade": false,
     "grade_id": "cell-3032ace9140cf482",
     "locked": true,
     "schema_version": 1,
     "solution": false
    }
   },
   "source": [
    "#### Problem 12\n",
    "```\n",
    "n <- length(input)\n",
    "output <- vector(\"double\", n - 1)\n",
    "for (i in 2:n) {\n",
    "    output[[i - 1]] <- input[[i]] - input[[i - 1]]\n",
    "}\n",
    "# replace with: output <- map2_dbl(input[2:n], input[1:(n-1)], f12)\n",
    "```"
   ]
  },
  {
   "cell_type": "code",
   "execution_count": null,
   "metadata": {
    "deletable": false,
    "nbgrader": {
     "checksum": "23b889f5febd7818eb1aa393694b2602",
     "grade": false,
     "grade_id": "problem12",
     "locked": false,
     "schema_version": 1,
     "solution": true
    }
   },
   "outputs": [],
   "source": [
    "# YOUR CODE HERE\n",
    "stop()"
   ]
  },
  {
   "cell_type": "code",
   "execution_count": null,
   "metadata": {
    "deletable": false,
    "editable": false,
    "nbgrader": {
     "checksum": "2428dba851decb553a04adb99f5f6b64",
     "grade": true,
     "grade_id": "problem12-test",
     "locked": true,
     "points": 1,
     "schema_version": 1,
     "solution": false
    }
   },
   "outputs": [],
   "source": [
    "stopifnot(exists(\"f12\"))"
   ]
  }
 ],
 "metadata": {
  "kernelspec": {
   "display_name": "R",
   "language": "R",
   "name": "ir"
  },
  "language_info": {
   "codemirror_mode": "r",
   "file_extension": ".r",
   "mimetype": "text/x-r-source",
   "name": "R",
   "pygments_lexer": "r",
   "version": "3.5.2"
  }
 },
 "nbformat": 4,
 "nbformat_minor": 2
}
