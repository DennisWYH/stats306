{
 "cells": [
  {
   "cell_type": "code",
   "execution_count": 2,
   "metadata": {
    "slideshow": {
     "slide_type": "notes"
    }
   },
   "outputs": [
    {
     "name": "stderr",
     "output_type": "stream",
     "text": [
      "── Attaching packages ─────────────────────────────────────── tidyverse 1.2.1 ──\n",
      "✔ ggplot2 2.2.1     ✔ purrr   0.2.4\n",
      "✔ tibble  1.3.4     ✔ dplyr   0.7.4\n",
      "✔ tidyr   0.7.2     ✔ stringr 1.2.0\n",
      "✔ readr   1.1.1     ✔ forcats 0.2.0\n",
      "── Conflicts ────────────────────────────────────────── tidyverse_conflicts() ──\n",
      "✖ dplyr::filter()  masks stats::filter()\n",
      "✖ purrr::flatten() masks jsonlite::flatten()\n",
      "✖ dplyr::lag()     masks stats::lag()\n"
     ]
    }
   ],
   "source": [
    "library(tidyverse)"
   ]
  },
  {
   "cell_type": "markdown",
   "metadata": {
    "slideshow": {
     "slide_type": "slide"
    }
   },
   "source": [
    "# Lecture 10: Tidy data\n",
    "In this notebook, we cover:\n",
    "\n",
    "* [Tidy data](#Tidy-data)\n",
    "* [Gather](#Gather)\n",
    "* [Spread](#Spread)\n",
    "* [Separating and uniting data](#Separating-and-uniting-data)\n",
    "* [Missing values](#Missing-values)"
   ]
  },
  {
   "cell_type": "markdown",
   "metadata": {
    "slideshow": {
     "slide_type": "slide"
    }
   },
   "source": [
    "## Tidy data\n",
    "There are many different ways to represent data in a table, but some are better than others.\n",
    "We say that a data table is \"[tidy](http://vita.had.co.nz/papers/tidy-data.pdf)\" if:\n",
    "- Each row represents an observation.\n",
    "- Each column represents a variable.\n",
    "- Each value gets its own cell.\n",
    "- Each different type of data set gets its own table.\n",
    "\n",
    "Data tables which are not tidy are called messy!\n",
    "![http://r4ds.had.co.nz/images/tidy-1.png](http://r4ds.had.co.nz/images/tidy-1.png)"
   ]
  },
  {
   "cell_type": "markdown",
   "metadata": {
    "slideshow": {
     "slide_type": "slide"
    }
   },
   "source": [
    "Every column is a variable: tidy."
   ]
  },
  {
   "cell_type": "code",
   "execution_count": 8,
   "metadata": {
    "slideshow": {
     "slide_type": "-"
    }
   },
   "outputs": [
    {
     "name": "stdout",
     "output_type": "stream",
     "text": [
      "# A tibble: 6 x 4\n",
      "      country  year  cases population\n",
      "        <chr> <int>  <int>      <int>\n",
      "1 Afghanistan  1999    745   19987071\n",
      "2 Afghanistan  2000   2666   20595360\n",
      "3      Brazil  1999  37737  172006362\n",
      "4      Brazil  2000  80488  174504898\n",
      "5       China  1999 212258 1272915272\n",
      "6       China  2000 213766 1280428583\n"
     ]
    }
   ],
   "source": [
    "print(table1)"
   ]
  },
  {
   "cell_type": "markdown",
   "metadata": {
    "slideshow": {
     "slide_type": "slide"
    }
   },
   "source": [
    "Variables are entries in the type column: messy."
   ]
  },
  {
   "cell_type": "code",
   "execution_count": 9,
   "metadata": {
    "slideshow": {
     "slide_type": "-"
    }
   },
   "outputs": [
    {
     "name": "stdout",
     "output_type": "stream",
     "text": [
      "# A tibble: 12 x 4\n",
      "       country  year       type      count\n",
      "         <chr> <int>      <chr>      <int>\n",
      " 1 Afghanistan  1999      cases        745\n",
      " 2 Afghanistan  1999 population   19987071\n",
      " 3 Afghanistan  2000      cases       2666\n",
      " 4 Afghanistan  2000 population   20595360\n",
      " 5      Brazil  1999      cases      37737\n",
      " 6      Brazil  1999 population  172006362\n",
      " 7      Brazil  2000      cases      80488\n",
      " 8      Brazil  2000 population  174504898\n",
      " 9       China  1999      cases     212258\n",
      "10       China  1999 population 1272915272\n",
      "11       China  2000      cases     213766\n",
      "12       China  2000 population 1280428583\n"
     ]
    }
   ],
   "source": [
    "print(table2) # "
   ]
  },
  {
   "cell_type": "markdown",
   "metadata": {
    "slideshow": {
     "slide_type": "slide"
    }
   },
   "source": [
    "The cases and population variables are combined in the rate column: (sort of) messy."
   ]
  },
  {
   "cell_type": "code",
   "execution_count": 10,
   "metadata": {
    "slideshow": {
     "slide_type": "-"
    }
   },
   "outputs": [
    {
     "name": "stdout",
     "output_type": "stream",
     "text": [
      "# A tibble: 6 x 3\n",
      "      country  year              rate\n",
      "*       <chr> <int>             <chr>\n",
      "1 Afghanistan  1999      745/19987071\n",
      "2 Afghanistan  2000     2666/20595360\n",
      "3      Brazil  1999   37737/172006362\n",
      "4      Brazil  2000   80488/174504898\n",
      "5       China  1999 212258/1272915272\n",
      "6       China  2000 213766/1280428583\n"
     ]
    }
   ],
   "source": [
    "print(table3)"
   ]
  },
  {
   "cell_type": "markdown",
   "metadata": {
    "slideshow": {
     "slide_type": "slide"
    }
   },
   "source": [
    "The cases and population variables are in two separate tables. "
   ]
  },
  {
   "cell_type": "code",
   "execution_count": 11,
   "metadata": {
    "slideshow": {
     "slide_type": "-"
    }
   },
   "outputs": [
    {
     "name": "stdout",
     "output_type": "stream",
     "text": [
      "# A tibble: 3 x 3\n",
      "      country `1999` `2000`\n",
      "*       <chr>  <int>  <int>\n",
      "1 Afghanistan    745   2666\n",
      "2      Brazil  37737  80488\n",
      "3       China 212258 213766\n",
      "\n",
      "\n",
      "# A tibble: 3 x 3\n",
      "      country     `1999`     `2000`\n",
      "*       <chr>      <int>      <int>\n",
      "1 Afghanistan   19987071   20595360\n",
      "2      Brazil  172006362  174504898\n",
      "3       China 1272915272 1280428583\n"
     ]
    }
   ],
   "source": [
    "print(table4a) # cases in one tibble\n",
    "writeLines(\"\\n\")\n",
    "print(table4b) # population in another one"
   ]
  },
  {
   "cell_type": "markdown",
   "metadata": {
    "slideshow": {
     "slide_type": "slide"
    }
   },
   "source": [
    "Recapping: tidy data means\n",
    "\n",
    "* each observation has its own row\n",
    "* each variable has its own column\n",
    "* each value has its own cell"
   ]
  },
  {
   "cell_type": "markdown",
   "metadata": {
    "slideshow": {
     "slide_type": "slide"
    }
   },
   "source": [
    "## Why we care about tidy data\n",
    "The tools we have learned so far all live in the `tidyverse`. This means that each tool expect to recieve tidy data as input, and, where necessary, returns tidy data as output. You can think of tidy data as a sort of contract that everything in `tidyverse` respects. This makes it possible to string many tidyverse commands together using `%>%`  (without having to worry too much about whether it will work.)"
   ]
  },
  {
   "cell_type": "markdown",
   "metadata": {
    "slideshow": {
     "slide_type": "slide"
    }
   },
   "source": [
    "The mutate command expects tidy data and returns tidy data."
   ]
  },
  {
   "cell_type": "code",
   "execution_count": 6,
   "metadata": {
    "slideshow": {
     "slide_type": "-"
    }
   },
   "outputs": [
    {
     "data": {
      "text/html": [
       "<table>\n",
       "<thead><tr><th scope=col>country</th><th scope=col>year</th><th scope=col>cases</th><th scope=col>population</th><th scope=col>rate</th></tr></thead>\n",
       "<tbody>\n",
       "\t<tr><td>Afghanistan</td><td>1999       </td><td>   745     </td><td>  19987071 </td><td>0.372741   </td></tr>\n",
       "\t<tr><td>Afghanistan</td><td>2000       </td><td>  2666     </td><td>  20595360 </td><td>1.294466   </td></tr>\n",
       "\t<tr><td>Brazil     </td><td>1999       </td><td> 37737     </td><td> 172006362 </td><td>2.193930   </td></tr>\n",
       "\t<tr><td>Brazil     </td><td>2000       </td><td> 80488     </td><td> 174504898 </td><td>4.612363   </td></tr>\n",
       "\t<tr><td>China      </td><td>1999       </td><td>212258     </td><td>1272915272 </td><td>1.667495   </td></tr>\n",
       "\t<tr><td>China      </td><td>2000       </td><td>213766     </td><td>1280428583 </td><td>1.669488   </td></tr>\n",
       "</tbody>\n",
       "</table>\n"
      ],
      "text/latex": [
       "\\begin{tabular}{r|lllll}\n",
       " country & year & cases & population & rate\\\\\n",
       "\\hline\n",
       "\t Afghanistan & 1999        &    745      &   19987071  & 0.372741   \\\\\n",
       "\t Afghanistan & 2000        &   2666      &   20595360  & 1.294466   \\\\\n",
       "\t Brazil      & 1999        &  37737      &  172006362  & 2.193930   \\\\\n",
       "\t Brazil      & 2000        &  80488      &  174504898  & 4.612363   \\\\\n",
       "\t China       & 1999        & 212258      & 1272915272  & 1.667495   \\\\\n",
       "\t China       & 2000        & 213766      & 1280428583  & 1.669488   \\\\\n",
       "\\end{tabular}\n"
      ],
      "text/markdown": [
       "\n",
       "country | year | cases | population | rate | \n",
       "|---|---|---|---|---|---|\n",
       "| Afghanistan | 1999        |    745      |   19987071  | 0.372741    | \n",
       "| Afghanistan | 2000        |   2666      |   20595360  | 1.294466    | \n",
       "| Brazil      | 1999        |  37737      |  172006362  | 2.193930    | \n",
       "| Brazil      | 2000        |  80488      |  174504898  | 4.612363    | \n",
       "| China       | 1999        | 212258      | 1272915272  | 1.667495    | \n",
       "| China       | 2000        | 213766      | 1280428583  | 1.669488    | \n",
       "\n",
       "\n"
      ],
      "text/plain": [
       "  country     year cases  population rate    \n",
       "1 Afghanistan 1999    745   19987071 0.372741\n",
       "2 Afghanistan 2000   2666   20595360 1.294466\n",
       "3 Brazil      1999  37737  172006362 2.193930\n",
       "4 Brazil      2000  80488  174504898 4.612363\n",
       "5 China       1999 212258 1272915272 1.667495\n",
       "6 China       2000 213766 1280428583 1.669488"
      ]
     },
     "metadata": {},
     "output_type": "display_data"
    }
   ],
   "source": [
    "mutate(table1, rate = cases / population * 10000) # rate of cases per 10000 people"
   ]
  },
  {
   "cell_type": "markdown",
   "metadata": {
    "slideshow": {
     "slide_type": "slide"
    }
   },
   "source": [
    "How would we calculate the `rate` variable using `table2`?"
   ]
  },
  {
   "cell_type": "code",
   "execution_count": 14,
   "metadata": {
    "slideshow": {
     "slide_type": "-"
    }
   },
   "outputs": [
    {
     "name": "stdout",
     "output_type": "stream",
     "text": [
      "# A tibble: 12 x 4\n",
      "       country  year       type      count\n",
      "         <chr> <int>      <chr>      <int>\n",
      " 1 Afghanistan  1999      cases        745\n",
      " 2 Afghanistan  1999 population   19987071\n",
      " 3 Afghanistan  2000      cases       2666\n",
      " 4 Afghanistan  2000 population   20595360\n",
      " 5      Brazil  1999      cases      37737\n",
      " 6      Brazil  1999 population  172006362\n",
      " 7      Brazil  2000      cases      80488\n",
      " 8      Brazil  2000 population  174504898\n",
      " 9       China  1999      cases     212258\n",
      "10       China  1999 population 1272915272\n",
      "11       China  2000      cases     213766\n",
      "12       China  2000 population 1280428583\n"
     ]
    }
   ],
   "source": [
    "print(table2)\n",
    "# mutate(table2, rate=???)"
   ]
  },
  {
   "cell_type": "markdown",
   "metadata": {
    "slideshow": {
     "slide_type": "slide"
    }
   },
   "source": [
    "Summary commands like `summarize` and `count` also preserve tidy data:"
   ]
  },
  {
   "cell_type": "code",
   "execution_count": 15,
   "metadata": {
    "slideshow": {
     "slide_type": "-"
    }
   },
   "outputs": [
    {
     "data": {
      "text/plain": [
       "  year n     \n",
       "1 1999 250740\n",
       "2 2000 296920"
      ]
     },
     "metadata": {},
     "output_type": "display_data"
    }
   ],
   "source": [
    "count(table1, year, wt = cases) # compute no. of cases for each year"
   ]
  },
  {
   "cell_type": "markdown",
   "metadata": {
    "slideshow": {
     "slide_type": "slide"
    }
   },
   "source": [
    "`ggplot` also expects tidy data:"
   ]
  },
  {
   "cell_type": "code",
   "execution_count": 9,
   "metadata": {
    "slideshow": {
     "slide_type": "-"
    }
   },
   "outputs": [
    {
     "data": {},
     "metadata": {},
     "output_type": "display_data"
    },
    {
     "data": {
      "image/png": "[encoded data removed]",
      "text/plain": [
       "plot without title"
      ]
     },
     "metadata": {},
     "output_type": "display_data"
    }
   ],
   "source": [
    "ggplot(table1, aes(year, cases)) +\n",
    "    geom_line(aes(group = country)) +\n",
    "    geom_point(aes(color = country)) +\n",
    "    scale_x_continuous(breaks=c(1999, 2000))"
   ]
  },
  {
   "cell_type": "markdown",
   "metadata": {
    "slideshow": {
     "slide_type": "slide"
    }
   },
   "source": [
    "## Creating tidy data\n",
    "If the data is not already tidy, then we might need to some work before we can use the tools in `dplyr`. The package `tidyr` inside `tidyverse` allows one to convert data into the tidy data."
   ]
  },
  {
   "cell_type": "markdown",
   "metadata": {
    "slideshow": {
     "slide_type": "slide"
    }
   },
   "source": [
    "### Gather\n",
    "One common problem in when a variable is spread across multiple columns and we need to gather those columns to create a new pair of variables. For example, consider `table4a` from above:"
   ]
  },
  {
   "cell_type": "code",
   "execution_count": 17,
   "metadata": {},
   "outputs": [
    {
     "name": "stdout",
     "output_type": "stream",
     "text": [
      "# A tibble: 3 x 3\n",
      "      country `1999` `2000`\n",
      "*       <chr>  <int>  <int>\n",
      "1 Afghanistan    745   2666\n",
      "2      Brazil  37737  80488\n",
      "3       China 212258 213766\n"
     ]
    }
   ],
   "source": [
    "print(table4a)"
   ]
  },
  {
   "cell_type": "markdown",
   "metadata": {
    "slideshow": {
     "slide_type": "slide"
    }
   },
   "source": [
    "Here there is a year variable which is spread across two columns. To become tidy, it should get its own `year` column. We want to *gather* the columns of year into a single column.\n",
    "![gather illustration](http://r4ds.had.co.nz/images/tidy-9.png)"
   ]
  },
  {
   "cell_type": "markdown",
   "metadata": {
    "slideshow": {
     "slide_type": "slide"
    }
   },
   "source": [
    "The command to do this is called `gather()`. To use `gather()` we need to specify three things:\n",
    "\n",
    "* which existing columns correspond to values of a variable\n",
    "* what is the name of the variable (the **key**) whose values currently appear as column names\n",
    "* what is the name of the variable (the **value**) whose values are currently spread over the cells "
   ]
  },
  {
   "cell_type": "code",
   "execution_count": 18,
   "metadata": {
    "slideshow": {
     "slide_type": "slide"
    }
   },
   "outputs": [
    {
     "name": "stdout",
     "output_type": "stream",
     "text": [
      "# A tibble: 3 x 3\n",
      "      country `1999` `2000`\n",
      "*       <chr>  <int>  <int>\n",
      "1 Afghanistan    745   2666\n",
      "2      Brazil  37737  80488\n",
      "3       China 212258 213766\n"
     ]
    }
   ],
   "source": [
    "print(table4a)"
   ]
  },
  {
   "cell_type": "markdown",
   "metadata": {},
   "source": [
    "Above, the **key** is the variable **year** and the **value** is the variable **cases**."
   ]
  },
  {
   "cell_type": "code",
   "execution_count": 19,
   "metadata": {
    "slideshow": {
     "slide_type": "slide"
    }
   },
   "outputs": [
    {
     "data": {
      "text/plain": [
       "  country     year cases \n",
       "1 Afghanistan 1999    745\n",
       "2 Brazil      1999  37737\n",
       "3 China       1999 212258\n",
       "4 Afghanistan 2000   2666\n",
       "5 Brazil      2000  80488\n",
       "6 China       2000 213766"
      ]
     },
     "metadata": {},
     "output_type": "display_data"
    }
   ],
   "source": [
    "(tidy4a = table4a %>% gather(`1999`, `2000`, key = \"year\", value = \"cases\"))"
   ]
  },
  {
   "cell_type": "markdown",
   "metadata": {
    "slideshow": {
     "slide_type": "slide"
    }
   },
   "source": [
    "A similar `gather` command will work to create the **year** and **population** variables from `table4b`. "
   ]
  },
  {
   "cell_type": "code",
   "execution_count": 20,
   "metadata": {},
   "outputs": [
    {
     "data": {
      "text/plain": [
       "  country     year population\n",
       "1 Afghanistan 1999   19987071\n",
       "2 Brazil      1999  172006362\n",
       "3 China       1999 1272915272\n",
       "4 Afghanistan 2000   20595360\n",
       "5 Brazil      2000  174504898\n",
       "6 China       2000 1280428583"
      ]
     },
     "metadata": {},
     "output_type": "display_data"
    }
   ],
   "source": [
    "(tidy4b = table4b %>% gather(`1999`, `2000`, key = \"year\", value = \"population\"))"
   ]
  },
  {
   "cell_type": "markdown",
   "metadata": {
    "slideshow": {
     "slide_type": "slide"
    }
   },
   "source": [
    "To recreate `table1` we need to join these table:"
   ]
  },
  {
   "cell_type": "code",
   "execution_count": 1,
   "metadata": {
    "slideshow": {
     "slide_type": "-"
    }
   },
   "outputs": [
    {
     "ename": "ERROR",
     "evalue": "Error in left_join(tidy4a, tidy4b): could not find function \"left_join\"\n",
     "output_type": "error",
     "traceback": [
      "Error in left_join(tidy4a, tidy4b): could not find function \"left_join\"\nTraceback:\n"
     ]
    }
   ],
   "source": [
    "left_join(tidy4a, tidy4b)"
   ]
  },
  {
   "cell_type": "markdown",
   "metadata": {
    "slideshow": {
     "slide_type": "slide"
    }
   },
   "source": [
    "### Spread\n",
    "Another type of problem in when an observation is scattered across multiple rows."
   ]
  },
  {
   "cell_type": "code",
   "execution_count": 14,
   "metadata": {},
   "outputs": [
    {
     "name": "stdout",
     "output_type": "stream",
     "text": [
      "# A tibble: 12 x 4\n",
      "       country  year       type      count\n",
      "         <chr> <int>      <chr>      <int>\n",
      " 1 Afghanistan  1999      cases        745\n",
      " 2 Afghanistan  1999 population   19987071\n",
      " 3 Afghanistan  2000      cases       2666\n",
      " 4 Afghanistan  2000 population   20595360\n",
      " 5      Brazil  1999      cases      37737\n",
      " 6      Brazil  1999 population  172006362\n",
      " 7      Brazil  2000      cases      80488\n",
      " 8      Brazil  2000 population  174504898\n",
      " 9       China  1999      cases     212258\n",
      "10       China  1999 population 1272915272\n",
      "11       China  2000      cases     213766\n",
      "12       China  2000 population 1280428583\n"
     ]
    }
   ],
   "source": [
    "print(table2)"
   ]
  },
  {
   "cell_type": "markdown",
   "metadata": {
    "slideshow": {
     "slide_type": "slide"
    }
   },
   "source": [
    "Here we want to do the opposite of gather: we want to *spread* these rows out into new columns.\n",
    "![spread data](http://r4ds.had.co.nz/images/tidy-8.png)"
   ]
  },
  {
   "cell_type": "markdown",
   "metadata": {
    "slideshow": {
     "slide_type": "slide"
    }
   },
   "source": [
    "We need to specify two things:\n",
    "\n",
    "* which existing column (the **key**) has the variable names as values\n",
    "* which existing column (the **value**) has the values for those variables"
   ]
  },
  {
   "cell_type": "code",
   "execution_count": 15,
   "metadata": {},
   "outputs": [
    {
     "data": {
      "text/html": [
       "<table>\n",
       "<thead><tr><th scope=col>country</th><th scope=col>year</th><th scope=col>cases</th><th scope=col>population</th></tr></thead>\n",
       "<tbody>\n",
       "\t<tr><td>Afghanistan</td><td>1999       </td><td>   745     </td><td>  19987071 </td></tr>\n",
       "\t<tr><td>Afghanistan</td><td>2000       </td><td>  2666     </td><td>  20595360 </td></tr>\n",
       "\t<tr><td>Brazil     </td><td>1999       </td><td> 37737     </td><td> 172006362 </td></tr>\n",
       "\t<tr><td>Brazil     </td><td>2000       </td><td> 80488     </td><td> 174504898 </td></tr>\n",
       "\t<tr><td>China      </td><td>1999       </td><td>212258     </td><td>1272915272 </td></tr>\n",
       "\t<tr><td>China      </td><td>2000       </td><td>213766     </td><td>1280428583 </td></tr>\n",
       "</tbody>\n",
       "</table>\n"
      ],
      "text/latex": [
       "\\begin{tabular}{r|llll}\n",
       " country & year & cases & population\\\\\n",
       "\\hline\n",
       "\t Afghanistan & 1999        &    745      &   19987071 \\\\\n",
       "\t Afghanistan & 2000        &   2666      &   20595360 \\\\\n",
       "\t Brazil      & 1999        &  37737      &  172006362 \\\\\n",
       "\t Brazil      & 2000        &  80488      &  174504898 \\\\\n",
       "\t China       & 1999        & 212258      & 1272915272 \\\\\n",
       "\t China       & 2000        & 213766      & 1280428583 \\\\\n",
       "\\end{tabular}\n"
      ],
      "text/markdown": [
       "\n",
       "country | year | cases | population | \n",
       "|---|---|---|---|---|---|\n",
       "| Afghanistan | 1999        |    745      |   19987071  | \n",
       "| Afghanistan | 2000        |   2666      |   20595360  | \n",
       "| Brazil      | 1999        |  37737      |  172006362  | \n",
       "| Brazil      | 2000        |  80488      |  174504898  | \n",
       "| China       | 1999        | 212258      | 1272915272  | \n",
       "| China       | 2000        | 213766      | 1280428583  | \n",
       "\n",
       "\n"
      ],
      "text/plain": [
       "  country     year cases  population\n",
       "1 Afghanistan 1999    745   19987071\n",
       "2 Afghanistan 2000   2666   20595360\n",
       "3 Brazil      1999  37737  172006362\n",
       "4 Brazil      2000  80488  174504898\n",
       "5 China       1999 212258 1272915272\n",
       "6 China       2000 213766 1280428583"
      ]
     },
     "metadata": {},
     "output_type": "display_data"
    }
   ],
   "source": [
    "spread(table2, key = type, value = count)"
   ]
  },
  {
   "cell_type": "markdown",
   "metadata": {
    "slideshow": {
     "slide_type": "slide"
    }
   },
   "source": [
    "Remember that:\n",
    "\n",
    "* `gather` tends to make wide tables narrower and longer\n",
    "* `spread` tends to make long tables shorter and wider"
   ]
  },
  {
   "cell_type": "code",
   "execution_count": 23,
   "metadata": {},
   "outputs": [
    {
     "data": {
      "text/plain": [
       "  year half return\n",
       "1 2015 1    1.88  \n",
       "2 2015 2    0.59  \n",
       "3 2016 1    0.92  \n",
       "4 2016 2    0.17  "
      ]
     },
     "metadata": {},
     "output_type": "display_data"
    }
   ],
   "source": [
    "(stocks <- tibble(\n",
    "  year   = c(2015, 2015, 2016, 2016),\n",
    "  half   = c(   1,    2,    1,    2),\n",
    "  return = c(1.88, 0.59, 0.92, 0.17)\n",
    "))"
   ]
  },
  {
   "cell_type": "markdown",
   "metadata": {
    "slideshow": {
     "slide_type": "slide"
    }
   },
   "source": [
    "Let us now spread this tibble with **year** as key and **return** as value."
   ]
  },
  {
   "cell_type": "code",
   "execution_count": 24,
   "metadata": {},
   "outputs": [
    {
     "data": {
      "text/plain": [
       "  half 2015 2016\n",
       "1 1    1.88 0.92\n",
       "2 2    0.59 0.17"
      ]
     },
     "metadata": {},
     "output_type": "display_data"
    }
   ],
   "source": [
    "(spread_stocks = spread(stocks, key = year, value = return))"
   ]
  },
  {
   "cell_type": "markdown",
   "metadata": {
    "slideshow": {
     "slide_type": "slide"
    }
   },
   "source": [
    "Let us now gather the columns to get back tidy data."
   ]
  },
  {
   "cell_type": "code",
   "execution_count": 26,
   "metadata": {},
   "outputs": [
    {
     "data": {
      "text/plain": [
       "  half year return\n",
       "1 1    2015 1.88  \n",
       "2 2    2015 0.59  \n",
       "3 1    2016 0.92  \n",
       "4 2    2016 0.17  "
      ]
     },
     "metadata": {},
     "output_type": "display_data"
    }
   ],
   "source": [
    "(stocks_new = gather(spread_stocks, `2015`, `2016`, key = year, value = return))"
   ]
  },
  {
   "cell_type": "markdown",
   "metadata": {
    "slideshow": {
     "slide_type": "slide"
    }
   },
   "source": [
    "Looks the same as **stocks**, doesn't it? The columns are ordered differently, but we can fix that."
   ]
  },
  {
   "cell_type": "code",
   "execution_count": 29,
   "metadata": {
    "slideshow": {
     "slide_type": "-"
    }
   },
   "outputs": [
    {
     "data": {
      "text/plain": [
       "  year half return\n",
       "1 2015 1    1.88  \n",
       "2 2015 2    0.59  \n",
       "3 2016 1    0.92  \n",
       "4 2016 2    0.17  "
      ]
     },
     "metadata": {},
     "output_type": "display_data"
    },
    {
     "data": {
      "text/plain": [
       "  year half return\n",
       "1 2015 1    1.88  \n",
       "2 2015 2    0.59  \n",
       "3 2016 1    0.92  \n",
       "4 2016 2    0.17  "
      ]
     },
     "metadata": {},
     "output_type": "display_data"
    }
   ],
   "source": [
    "(stocks_new <- select(stocks_new, year, half, return))\n",
    "stocks"
   ]
  },
  {
   "cell_type": "markdown",
   "metadata": {
    "slideshow": {
     "slide_type": "slide"
    }
   },
   "source": [
    "They look pretty much the same but let us examine the **types** of the variables."
   ]
  },
  {
   "cell_type": "code",
   "execution_count": 30,
   "metadata": {},
   "outputs": [
    {
     "name": "stdout",
     "output_type": "stream",
     "text": [
      "# A tibble: 4 x 3\n",
      "   year  half return\n",
      "  <dbl> <dbl>  <dbl>\n",
      "1  2015     1   1.88\n",
      "2  2015     2   0.59\n",
      "3  2016     1   0.92\n",
      "4  2016     2   0.17\n"
     ]
    }
   ],
   "source": [
    "print(stocks)"
   ]
  },
  {
   "cell_type": "code",
   "execution_count": 22,
   "metadata": {},
   "outputs": [
    {
     "name": "stdout",
     "output_type": "stream",
     "text": [
      "# A tibble: 4 x 3\n",
      "   year  half return\n",
      "  <chr> <dbl>  <dbl>\n",
      "1  2015     1   1.88\n",
      "2  2015     2   0.59\n",
      "3  2016     1   0.92\n",
      "4  2016     2   0.17\n"
     ]
    }
   ],
   "source": [
    "print(stocks_new)"
   ]
  },
  {
   "cell_type": "markdown",
   "metadata": {
    "slideshow": {
     "slide_type": "slide"
    }
   },
   "source": [
    "The **year** variable used to be of type **dbl** but is now **chr**. We can fix this too."
   ]
  },
  {
   "cell_type": "code",
   "execution_count": 31,
   "metadata": {},
   "outputs": [
    {
     "name": "stdout",
     "output_type": "stream",
     "text": [
      "# A tibble: 4 x 3\n",
      "   year  half return\n",
      "  <dbl> <dbl>  <dbl>\n",
      "1  2015     1   1.88\n",
      "2  2015     2   0.59\n",
      "3  2016     1   0.92\n",
      "4  2016     2   0.17\n"
     ]
    }
   ],
   "source": [
    "stocks_new <- mutate(stocks_new, year = as.double(year))\n",
    "print(stocks_new)"
   ]
  },
  {
   "cell_type": "markdown",
   "metadata": {
    "slideshow": {
     "slide_type": "slide"
    }
   },
   "source": [
    "### Challenge Problem\n",
    "Is the table below tidy? If not, how should we tidy it?"
   ]
  },
  {
   "cell_type": "code",
   "execution_count": 36,
   "metadata": {},
   "outputs": [
    {
     "data": {
      "text/plain": [
       "  pregnant male female\n",
       "1 yes      NA   10    \n",
       "2 no       20   12    "
      ]
     },
     "metadata": {},
     "output_type": "display_data"
    }
   ],
   "source": [
    "(preg = tribble(\n",
    "  ~pregnant, ~male, ~female,\n",
    "  \"yes\",     NA,    10,\n",
    "  \"no\",      20,    12\n",
    "))"
   ]
  },
  {
   "cell_type": "markdown",
   "metadata": {
    "slideshow": {
     "slide_type": "slide"
    }
   },
   "source": [
    "## Separating and uniting data\n",
    "Above we saw `table3` which had a different type of messiness: two variables were combined into one `rate` column:"
   ]
  },
  {
   "cell_type": "code",
   "execution_count": 40,
   "metadata": {},
   "outputs": [
    {
     "name": "stdout",
     "output_type": "stream",
     "text": [
      "# A tibble: 6 x 3\n",
      "      country  year              rate\n",
      "*       <chr> <int>             <chr>\n",
      "1 Afghanistan  1999      745/19987071\n",
      "2 Afghanistan  2000     2666/20595360\n",
      "3      Brazil  1999   37737/172006362\n",
      "4      Brazil  2000   80488/174504898\n",
      "5       China  1999 212258/1272915272\n",
      "6       China  2000 213766/1280428583\n"
     ]
    }
   ],
   "source": [
    "print(table3)"
   ]
  },
  {
   "cell_type": "markdown",
   "metadata": {
    "slideshow": {
     "slide_type": "slide"
    }
   },
   "source": [
    "To pull apart these two variables we have the `separate()` function. `separate()` takes the name of the column to separate, a separator (in this case `'/'`), and the names of the columns to separate into."
   ]
  },
  {
   "cell_type": "code",
   "execution_count": 45,
   "metadata": {},
   "outputs": [
    {
     "name": "stdout",
     "output_type": "stream",
     "text": [
      "# A tibble: 6 x 4\n",
      "      country  year  cases population\n",
      "*       <chr> <int>  <chr>      <chr>\n",
      "1 Afghanistan  1999    745   19987071\n",
      "2 Afghanistan  2000   2666   20595360\n",
      "3      Brazil  1999  37737  172006362\n",
      "4      Brazil  2000  80488  174504898\n",
      "5       China  1999 212258 1272915272\n",
      "6       China  2000 213766 1280428583\n"
     ]
    }
   ],
   "source": [
    "print(separated_table3 <- separate(table3, rate, into = c(\"cases\", \"population\"), sep = \"/\"))"
   ]
  },
  {
   "cell_type": "markdown",
   "metadata": {
    "slideshow": {
     "slide_type": "slide"
    }
   },
   "source": [
    "By default, `separate()` has coded `cases` and `population` as strings. To do further analysis we should convert them to integers:"
   ]
  },
  {
   "cell_type": "code",
   "execution_count": 46,
   "metadata": {},
   "outputs": [
    {
     "name": "stdout",
     "output_type": "stream",
     "text": [
      "# A tibble: 6 x 4\n",
      "      country  year  cases population\n",
      "        <chr> <int>  <int>      <int>\n",
      "1 Afghanistan  1999    745   19987071\n",
      "2 Afghanistan  2000   2666   20595360\n",
      "3      Brazil  1999  37737  172006362\n",
      "4      Brazil  2000  80488  174504898\n",
      "5       China  1999 212258 1272915272\n",
      "6       China  2000 213766 1280428583\n"
     ]
    }
   ],
   "source": [
    "print(mutate(separated_table3, cases = as.integer(cases), population = as.integer(population)))"
   ]
  },
  {
   "cell_type": "markdown",
   "metadata": {
    "slideshow": {
     "slide_type": "slide"
    }
   },
   "source": [
    "`separate()` will do this for us if we ask:"
   ]
  },
  {
   "cell_type": "code",
   "execution_count": 47,
   "metadata": {
    "slideshow": {
     "slide_type": "-"
    }
   },
   "outputs": [
    {
     "data": {
      "text/plain": [
       "  country     year cases  population\n",
       "1 Afghanistan 1999    745   19987071\n",
       "2 Afghanistan 2000   2666   20595360\n",
       "3 Brazil      1999  37737  172006362\n",
       "4 Brazil      2000  80488  174504898\n",
       "5 China       1999 212258 1272915272\n",
       "6 China       2000 213766 1280428583"
      ]
     },
     "metadata": {},
     "output_type": "display_data"
    }
   ],
   "source": [
    "(separated_table3 <- separate(table3, rate, into = c(\"cases\", \"population\"), sep = \"/\", convert = TRUE))"
   ]
  },
  {
   "cell_type": "markdown",
   "metadata": {
    "slideshow": {
     "slide_type": "slide"
    }
   },
   "source": [
    "### Uniting\n",
    "In some cases we need to do the opposite of `separate()`: stick two variables together to form a new variable. The tool for this is called `unite()`."
   ]
  },
  {
   "cell_type": "code",
   "execution_count": 48,
   "metadata": {
    "slideshow": {
     "slide_type": "notes"
    }
   },
   "outputs": [
    {
     "data": {
      "text/plain": [
       "  country     century year rate             \n",
       "1 Afghanistan 19      99   745/19987071     \n",
       "2 Afghanistan 20      00   2666/20595360    \n",
       "3 Brazil      19      99   37737/172006362  \n",
       "4 Brazil      20      00   80488/174504898  \n",
       "5 China       19      99   212258/1272915272\n",
       "6 China       20      00   213766/1280428583"
      ]
     },
     "metadata": {},
     "output_type": "display_data"
    }
   ],
   "source": [
    "(separated_year <- separate(table3, year, into = c(\"century\", \"year\"), sep = 2))"
   ]
  },
  {
   "cell_type": "code",
   "execution_count": 49,
   "metadata": {},
   "outputs": [
    {
     "name": "stdout",
     "output_type": "stream",
     "text": [
      "# A tibble: 6 x 4\n",
      "      country century  year              rate\n",
      "*       <chr>   <chr> <chr>             <chr>\n",
      "1 Afghanistan      19    99      745/19987071\n",
      "2 Afghanistan      20    00     2666/20595360\n",
      "3      Brazil      19    99   37737/172006362\n",
      "4      Brazil      20    00   80488/174504898\n",
      "5       China      19    99 212258/1272915272\n",
      "6       China      20    00 213766/1280428583\n"
     ]
    }
   ],
   "source": [
    "print(separated_year)"
   ]
  },
  {
   "cell_type": "markdown",
   "metadata": {
    "slideshow": {
     "slide_type": "slide"
    }
   },
   "source": [
    "In this table the century and year have been split apart. To combine them we can use `unite()`:"
   ]
  },
  {
   "cell_type": "code",
   "execution_count": 50,
   "metadata": {},
   "outputs": [
    {
     "data": {
      "text/plain": [
       "  country     new   rate             \n",
       "1 Afghanistan 19_99 745/19987071     \n",
       "2 Afghanistan 20_00 2666/20595360    \n",
       "3 Brazil      19_99 37737/172006362  \n",
       "4 Brazil      20_00 80488/174504898  \n",
       "5 China       19_99 212258/1272915272\n",
       "6 China       20_00 213766/1280428583"
      ]
     },
     "metadata": {},
     "output_type": "display_data"
    }
   ],
   "source": [
    "unite(separated_year, new, century, year)"
   ]
  },
  {
   "cell_type": "markdown",
   "metadata": {
    "slideshow": {
     "slide_type": "slide"
    }
   },
   "source": [
    "By default, `unite()` adds a `_` between the united variables. In this case, we want there to be no separator so that we can treat the resulting `year` variable as an integer:"
   ]
  },
  {
   "cell_type": "code",
   "execution_count": 52,
   "metadata": {},
   "outputs": [
    {
     "data": {
      "text/plain": [
       "  country     new  rate             \n",
       "1 Afghanistan 1999 745/19987071     \n",
       "2 Afghanistan 2000 2666/20595360    \n",
       "3 Brazil      1999 37737/172006362  \n",
       "4 Brazil      2000 80488/174504898  \n",
       "5 China       1999 212258/1272915272\n",
       "6 China       2000 213766/1280428583"
      ]
     },
     "metadata": {},
     "output_type": "display_data"
    }
   ],
   "source": [
    "unite(separated_year, new, century, year, sep = \"\")"
   ]
  },
  {
   "cell_type": "markdown",
   "metadata": {
    "slideshow": {
     "slide_type": "slide"
    }
   },
   "source": [
    "## Missing Values\n",
    "Missing values can be:\n",
    "\n",
    "* **Explicit** (marked as `NA` in our data); or\n",
    "* **Implicit** (not present in the data)."
   ]
  },
  {
   "cell_type": "code",
   "execution_count": 55,
   "metadata": {
    "slideshow": {
     "slide_type": "slide"
    }
   },
   "outputs": [
    {
     "data": {
      "text/plain": [
       "  year qtr return\n",
       "1 2015 1   1.88  \n",
       "2 2015 2   0.59  \n",
       "3 2015 3   0.35  \n",
       "4 2015 4     NA  \n",
       "5 2016 2   0.92  \n",
       "6 2016 3   0.17  \n",
       "7 2016 4   2.66  "
      ]
     },
     "metadata": {},
     "output_type": "display_data"
    }
   ],
   "source": [
    "(stocks <- tibble(\n",
    "  year   = c(2015, 2015, 2015, 2015, 2016, 2016, 2016),\n",
    "  qtr    = c(   1,    2,    3,    4,    2,    3,    4),\n",
    "  return = c(1.88, 0.59, 0.35,   NA, 0.92, 0.17, 2.66)\n",
    "))"
   ]
  },
  {
   "cell_type": "markdown",
   "metadata": {
    "slideshow": {
     "slide_type": "-"
    }
   },
   "source": [
    "In this example we have one explicitly missing value for the 4th quarter of 2015. Are there any other missing values? Yes, because we do not have an observation for the first quarter of 2016."
   ]
  },
  {
   "cell_type": "markdown",
   "metadata": {
    "slideshow": {
     "slide_type": "slide"
    }
   },
   "source": [
    "The **complete** command makes implicit missing value explicit by considering all combinations of unique values of specified variables."
   ]
  },
  {
   "cell_type": "code",
   "execution_count": 56,
   "metadata": {},
   "outputs": [
    {
     "data": {
      "text/plain": [
       "  year qtr return\n",
       "1 2015 1   1.88  \n",
       "2 2015 2   0.59  \n",
       "3 2015 3   0.35  \n",
       "4 2015 4     NA  \n",
       "5 2016 1     NA  \n",
       "6 2016 2   0.92  \n",
       "7 2016 3   0.17  \n",
       "8 2016 4   2.66  "
      ]
     },
     "metadata": {},
     "output_type": "display_data"
    }
   ],
   "source": [
    "complete(stocks, year, qtr) "
   ]
  },
  {
   "cell_type": "markdown",
   "metadata": {
    "slideshow": {
     "slide_type": "slide"
    }
   },
   "source": [
    "The missing values also become explicit if we **spread** the tibble."
   ]
  },
  {
   "cell_type": "code",
   "execution_count": 57,
   "metadata": {},
   "outputs": [
    {
     "data": {
      "text/plain": [
       "  qtr 2015 2016\n",
       "1 1   1.88   NA\n",
       "2 2   0.59 0.92\n",
       "3 3   0.35 0.17\n",
       "4 4     NA 2.66"
      ]
     },
     "metadata": {},
     "output_type": "display_data"
    }
   ],
   "source": [
    "spread(stocks, key = year, value = return)"
   ]
  },
  {
   "cell_type": "markdown",
   "metadata": {
    "slideshow": {
     "slide_type": "slide"
    }
   },
   "source": [
    "**gather** will keep all these explicitly missing values by default."
   ]
  },
  {
   "cell_type": "code",
   "execution_count": 58,
   "metadata": {},
   "outputs": [
    {
     "data": {
      "text/plain": [
       "  qtr year return\n",
       "1 1   2015 1.88  \n",
       "2 2   2015 0.59  \n",
       "3 3   2015 0.35  \n",
       "4 4   2015   NA  \n",
       "5 1   2016   NA  \n",
       "6 2   2016 0.92  \n",
       "7 3   2016 0.17  \n",
       "8 4   2016 2.66  "
      ]
     },
     "metadata": {},
     "output_type": "display_data"
    }
   ],
   "source": [
    "stocks %>%\n",
    "    spread(key = year, value = return) %>%\n",
    "    gather(`2015`, `2016`, key = year, value = return)"
   ]
  },
  {
   "cell_type": "markdown",
   "metadata": {
    "slideshow": {
     "slide_type": "slide"
    }
   },
   "source": [
    "If you don't like the default behavior of **gather**, you can turn off explicit missing values using the `na.rm` argument."
   ]
  },
  {
   "cell_type": "code",
   "execution_count": 59,
   "metadata": {},
   "outputs": [
    {
     "data": {
      "text/plain": [
       "  qtr year return\n",
       "1 1   2015 1.88  \n",
       "2 2   2015 0.59  \n",
       "3 3   2015 0.35  \n",
       "6 2   2016 0.92  \n",
       "7 3   2016 0.17  \n",
       "8 4   2016 2.66  "
      ]
     },
     "metadata": {},
     "output_type": "display_data"
    }
   ],
   "source": [
    "stocks %>%\n",
    "    spread(key = year, value = return) %>%\n",
    "    gather(`2015`, `2016`, key = year, value = return, na.rm = TRUE)"
   ]
  },
  {
   "cell_type": "markdown",
   "metadata": {
    "slideshow": {
     "slide_type": "slide"
    }
   },
   "source": [
    "**Imputation** refers to process of filling in missing values. There are many imputation methods. One of the simplest ones is *last observation carry forward*. You can do that using the **fill** command."
   ]
  },
  {
   "cell_type": "code",
   "execution_count": 68,
   "metadata": {},
   "outputs": [
    {
     "data": {
      "text/plain": [
       "  year qtr return\n",
       "1 2015 1   1.88  \n",
       "2 2015 2   0.59  \n",
       "3 2015 3   0.35  \n",
       "4 2015 4   0.35  \n",
       "5 2016 2   0.92  \n",
       "6 2016 3   0.17  \n",
       "7 2016 4   2.66  "
      ]
     },
     "metadata": {},
     "output_type": "display_data"
    }
   ],
   "source": [
    "stocks %>% fill(return)"
   ]
  }
 ],
 "metadata": {
  "celltoolbar": "Slideshow",
  "kernelspec": {
   "display_name": "R",
   "language": "R",
   "name": "ir"
  },
  "language_info": {
   "codemirror_mode": "r",
   "file_extension": ".r",
   "mimetype": "text/x-r-source",
   "name": "R",
   "pygments_lexer": "r",
   "version": "3.4.3"
  }
 },
 "nbformat": 4,
 "nbformat_minor": 1
}
