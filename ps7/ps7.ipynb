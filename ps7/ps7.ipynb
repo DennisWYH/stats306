{
 "cells": [
  {
   "cell_type": "markdown",
   "metadata": {},
   "source": [
    "Before you turn this problem in, make sure everything runs as expected. First, **restart the kernel** (in the menubar, select Kernel$\\rightarrow$Restart) and then **run all cells** (in the menubar, select Cell$\\rightarrow$Run All). Your code should run from top to bottom with no errors. Failure to do this will result in loss of points.\n",
    "\n",
    "Make sure you fill in any place that says `YOUR CODE HERE` or \"YOUR ANSWER HERE\" and delete the `stop()` functions, as well as your name and collaborators below:"
   ]
  },
  {
   "cell_type": "code",
   "execution_count": null,
   "metadata": {},
   "outputs": [],
   "source": [
    "NAME = \"\"  # your uniqname \n",
    "COLLABORATORS = c()  # vector of uniqnames of your collaborators, if any\n",
    "## IMPORTANT: also enter your group information in Canvas when you upload the assignment"
   ]
  },
  {
   "cell_type": "markdown",
   "metadata": {},
   "source": [
    "---"
   ]
  },
  {
   "cell_type": "code",
   "execution_count": null,
   "metadata": {
    "deletable": false,
    "editable": false,
    "nbgrader": {
     "checksum": "a09f74e27609579bd954f12d0ad2206e",
     "grade": false,
     "grade_id": "cell-d1761bfdb43c7ec3",
     "locked": true,
     "schema_version": 1,
     "solution": false
    }
   },
   "outputs": [],
   "source": [
    "library(tidyverse)\n",
    "library(stringr)\n",
    "library(lubridate)"
   ]
  },
  {
   "cell_type": "markdown",
   "metadata": {
    "deletable": false,
    "editable": false,
    "nbgrader": {
     "checksum": "f1908edf6a91f0c38c716bc8058342c0",
     "grade": false,
     "grade_id": "cell-193dcce7ad6d5a10",
     "locked": true,
     "schema_version": 1,
     "solution": false
    }
   },
   "source": [
    "# STATS 306\n",
    "## Problem set 7: dates, functions & conditionals\n",
    "Each problem is worth two to four points, depending on difficulty, for a total of 20.\n",
    "\n",
    "*Note*: you do not need to use `install.packages()` in this notebook. You may assume that we have already installed all of the necessary packages when we run your code."
   ]
  },
  {
   "cell_type": "markdown",
   "metadata": {
    "deletable": false,
    "editable": false,
    "nbgrader": {
     "checksum": "3c15368d23a15f2d22db540888296787",
     "grade": false,
     "grade_id": "cell-d180ae6973dcba42",
     "locked": true,
     "schema_version": 1,
     "solution": false
    }
   },
   "source": [
    "#### Problem 1 (2 pts.)\n",
    "Create a function `n_entries(v, x)` which, given a vector `v` and a scalar `x`, returns the number of times that `x` occurs in `v`."
   ]
  },
  {
   "cell_type": "code",
   "execution_count": null,
   "metadata": {
    "deletable": false,
    "nbgrader": {
     "checksum": "7d0efb33c5f9f767973a297ab6e60aef",
     "grade": false,
     "grade_id": "cell-dfa2ebf79b9b66a0",
     "locked": false,
     "schema_version": 1,
     "solution": true
    }
   },
   "outputs": [],
   "source": [
    "# YOUR CODE HERE\n",
    "stop()"
   ]
  },
  {
   "cell_type": "code",
   "execution_count": null,
   "metadata": {
    "deletable": false,
    "editable": false,
    "nbgrader": {
     "checksum": "050f3af144b7667abe9f1404e59d91a6",
     "grade": true,
     "grade_id": "cell-313f745da250c8a9",
     "locked": true,
     "points": 2,
     "schema_version": 1,
     "solution": false
    }
   },
   "outputs": [],
   "source": [
    "stopifnot(n_entries(1:10, 1) == 1)\n",
    "stopifnot(n_entries(c(\"a\", \"a\", \"b\", \"c\"), \"a\") == 2)"
   ]
  },
  {
   "cell_type": "markdown",
   "metadata": {
    "deletable": false,
    "editable": false,
    "nbgrader": {
     "checksum": "072d76281eba4fa509f226fa3d80e7e1",
     "grade": false,
     "grade_id": "cell-f06795d0d1d82112",
     "locked": true,
     "schema_version": 1,
     "solution": false
    }
   },
   "source": [
    "#### Problem 2 (2 pts.)\n",
    "Create a function `days_between(v)` which, given a vector `v` of $n$ dates, sorts `v` in ascending order and then returns a new vector of length $n-1$ of the number of days which elapsed between each successive date. Additionally, each entry in the returned vector should have a name of the form `mm/dd/yyyy-mm/dd/yyyy` indicating the corresponding date span.\n",
    "For example:\n",
    "```{r}\n",
    "> c(\"Jan. 20, 2009\", \"July 20, 1969\", \"June 28, 1914\", \"July 14, 1789\", \"Oct. 14, 1066\"))\n",
    "Time differences in days\n",
    "10/14/1066-7/14/1789  7/14/1789-6/28/1914  6/28/1914-7/20/1969 \n",
    "              263979                45638                20111 \n",
    " 7/20/1969-1/20/2009 \n",
    "               14429 \n",
    "```\n",
    "(You may assume that all dates that will be inputted to `days_between(v)` are in the format given in the example.)"
   ]
  },
  {
   "cell_type": "code",
   "execution_count": null,
   "metadata": {
    "deletable": false,
    "nbgrader": {
     "checksum": "f662186ebea982e7e01dacae282358ae",
     "grade": false,
     "grade_id": "cell-3109d5a23aaa8816",
     "locked": false,
     "schema_version": 1,
     "solution": true
    }
   },
   "outputs": [],
   "source": [
    "days_between = function(v) {\n",
    "    # YOUR CODE HERE\n",
    "    stop()\n",
    "}"
   ]
  },
  {
   "cell_type": "code",
   "execution_count": null,
   "metadata": {
    "deletable": false,
    "editable": false,
    "nbgrader": {
     "checksum": "6d1545001b5655f66ee15e8db773668b",
     "grade": true,
     "grade_id": "cell-a7da2b85d762c318",
     "locked": true,
     "points": 2,
     "schema_version": 1,
     "solution": false
    }
   },
   "outputs": [],
   "source": [
    "db = days_between(c(\"Jan. 20, 2009\", \"July 20, 1969\", \"June 28, 1914\", \"July 14, 1789\", \"Oct. 14, 1066\"))\n",
    "stopifnot(all(db == c(263979, 45638,  20111, 14429)))\n",
    "stopifnot(all(names(db) == c(\"10/14/1066-7/14/1789\", \"7/14/1789-6/28/1914\", \n",
    "                             \"6/28/1914-7/20/1969\", \"7/20/1969-1/20/2009\")))"
   ]
  },
  {
   "cell_type": "markdown",
   "metadata": {
    "deletable": false,
    "editable": false,
    "nbgrader": {
     "checksum": "912c2499f8b9747dbb49e57d805b7e73",
     "grade": false,
     "grade_id": "cell-6ce6122682e6e086",
     "locked": true,
     "schema_version": 1,
     "solution": false
    }
   },
   "source": [
    "#### Problem 3 (2 pts.)\n",
    "Create a function `double_halve(m)` which, given a matrix of integers `m`, returns a copy of `m` in which every odd entry has been doubled, and every even entry has been halved. For example:\n",
    "```{r}\n",
    "> (m = matrix(c(1:9), nrow=3))\n",
    "     [,1] [,2] [,3]\n",
    "[1,] 1    4    7   \n",
    "[2,] 2    5    8   \n",
    "[3,] 3    6    9 \n",
    "> double_halve(m)\n",
    "     [,1] [,2] [,3]\n",
    "[1,] 2     2   14  \n",
    "[2,] 1    10    4  \n",
    "[3,] 6     3   18  \n",
    "```"
   ]
  },
  {
   "cell_type": "code",
   "execution_count": null,
   "metadata": {
    "deletable": false,
    "nbgrader": {
     "checksum": "f51baf68d1d8072e56add7ba40f8e550",
     "grade": false,
     "grade_id": "cell-4b0af7fb6f032871",
     "locked": false,
     "schema_version": 1,
     "solution": true
    }
   },
   "outputs": [],
   "source": [
    "double_halve = function(m) {\n",
    "    # YOUR CODE HERE\n",
    "    stop()\n",
    "}"
   ]
  },
  {
   "cell_type": "code",
   "execution_count": null,
   "metadata": {
    "deletable": false,
    "editable": false,
    "nbgrader": {
     "checksum": "573d4df2b67b848f566a4544ca6ce4af",
     "grade": true,
     "grade_id": "cell-005f766edb12cc13",
     "locked": true,
     "points": 2,
     "schema_version": 1,
     "solution": false
    }
   },
   "outputs": [],
   "source": [
    "stopifnot(all(\n",
    "    double_halve(matrix(1:9, nrow = 3)) ==\n",
    "    matrix(c(2, 1, 6, 2, 10, 3, 14, 4, 18), nrow = 3)))"
   ]
  },
  {
   "cell_type": "markdown",
   "metadata": {
    "deletable": false,
    "editable": false,
    "nbgrader": {
     "checksum": "e6401a907c16a07abbf2e331fdfe8b1b",
     "grade": false,
     "grade_id": "cell-474df2b6c8514040",
     "locked": true,
     "schema_version": 1,
     "solution": false
    }
   },
   "source": [
    "#### Problem 4 (2 pts.)\n",
    "Create a function `str_rev(s)` which, given a string `s`, returns the reversed string. For example, \n",
    "```{r}\n",
    "> str_rev(\"Hello my name is Jonathan\")\n",
    "[1] \"!nahtanoJ si eman ym olleH\"\n",
    "```"
   ]
  },
  {
   "cell_type": "code",
   "execution_count": null,
   "metadata": {
    "deletable": false,
    "nbgrader": {
     "checksum": "507f2d6c59ce0039bf7b3e0b1c1ad69c",
     "grade": false,
     "grade_id": "cell-8db6ef26acb35d7c",
     "locked": false,
     "schema_version": 1,
     "solution": true
    }
   },
   "outputs": [],
   "source": [
    "str_rev = function(s) {\n",
    "    # YOUR CODE HERE\n",
    "    stop()\n",
    "}"
   ]
  },
  {
   "cell_type": "code",
   "execution_count": null,
   "metadata": {
    "deletable": false,
    "editable": false,
    "nbgrader": {
     "checksum": "ac0ef6158ca7465965c29e138941bd94",
     "grade": true,
     "grade_id": "cell-bd64e346fa488c45",
     "locked": true,
     "points": 2,
     "schema_version": 1,
     "solution": false
    }
   },
   "outputs": [],
   "source": [
    "stopifnot(str_rev(\"Hello my name is Jonathan!\") == \"!nahtanoJ si eman ym olleH\")\n",
    "stopifnot(str_rev(str_rev(\"anything\")) == \"anything\")"
   ]
  },
  {
   "cell_type": "markdown",
   "metadata": {
    "deletable": false,
    "editable": false,
    "nbgrader": {
     "checksum": "10b2cbfa4e9a18ef3df4e4c5761a1fe0",
     "grade": false,
     "grade_id": "cell-0d553b1045e6a928",
     "locked": true,
     "schema_version": 1,
     "solution": false
    }
   },
   "source": [
    "#### Problem 5 (2 pts.)\n",
    "Create a pipeable function `make_square(df)`, which, given a data frame with $n$ rows and $p$ columns, returns the following:\n",
    "- If $p<n$, `make_square(df)` will drop all but the first $p$ rows.\n",
    "- If $p>n$, `make_square(df)` will drop all but the first $p$ columns.\n",
    "- If $p=n$, `make_square(df)` returns the original, unmodified data frame."
   ]
  },
  {
   "cell_type": "code",
   "execution_count": null,
   "metadata": {
    "deletable": false,
    "nbgrader": {
     "checksum": "763700a161da15993825a221328802db",
     "grade": false,
     "grade_id": "cell-342d5c9591849bdd",
     "locked": false,
     "schema_version": 1,
     "solution": true
    }
   },
   "outputs": [],
   "source": [
    "make_square = function(df) {\n",
    "    # YOUR CODE HERE\n",
    "    stop()\n",
    "}"
   ]
  },
  {
   "cell_type": "code",
   "execution_count": null,
   "metadata": {
    "deletable": false,
    "editable": false,
    "nbgrader": {
     "checksum": "17f461b9748955a9cb49af9ad83fe993",
     "grade": true,
     "grade_id": "cell-9a7d9c78dda712ec",
     "locked": true,
     "points": 2,
     "schema_version": 1,
     "solution": false
    }
   },
   "outputs": [],
   "source": [
    "s = mpg %>% make_square\n",
    "stopifnot(ncol(s) == nrow(s))\n",
    "stopifnot(ncol(s) == 11)"
   ]
  },
  {
   "cell_type": "markdown",
   "metadata": {
    "deletable": false,
    "editable": false,
    "nbgrader": {
     "checksum": "47980d2f99d19f1ab336a2e69c4f5b97",
     "grade": false,
     "grade_id": "cell-13fd9022902d6b2f",
     "locked": true,
     "schema_version": 1,
     "solution": false
    }
   },
   "source": [
    "#### Problem 6 (3 pts.)\n",
    "Create a function `ncol_type(df, ty)` which returns the number of columns in `df` of type `ty`. For example, if"
   ]
  },
  {
   "cell_type": "code",
   "execution_count": null,
   "metadata": {
    "deletable": false,
    "editable": false,
    "nbgrader": {
     "checksum": "212cd14630dddbf47376988b1ae82db5",
     "grade": false,
     "grade_id": "cell-6e54299b16cc4b1a",
     "locked": true,
     "schema_version": 1,
     "solution": false
    }
   },
   "outputs": [],
   "source": [
    "(df = tibble(a=c('a', 'b', 'c'), b=1:3, c=c(TRUE, TRUE, FALSE)))"
   ]
  },
  {
   "cell_type": "markdown",
   "metadata": {
    "deletable": false,
    "editable": false,
    "nbgrader": {
     "checksum": "e467d2df07ba44a24f11a4d2dc05dd9f",
     "grade": false,
     "grade_id": "cell-2a7f1315d309cc49",
     "locked": true,
     "schema_version": 1,
     "solution": false
    }
   },
   "source": [
    "then `ncol_type(df, \"integer\")`, `ncol_type(df, \"character\")` and `ncol_type(df, \"logical\")` should each return `1`."
   ]
  },
  {
   "cell_type": "code",
   "execution_count": null,
   "metadata": {
    "deletable": false,
    "nbgrader": {
     "checksum": "1e24297489dbe40045870990661510d1",
     "grade": false,
     "grade_id": "cell-6a3b232f3a90ac3b",
     "locked": false,
     "schema_version": 1,
     "solution": true
    }
   },
   "outputs": [],
   "source": [
    "ncol_type = function(df, ty) {\n",
    "    # YOUR CODE HERE\n",
    "    stop()\n",
    "}"
   ]
  },
  {
   "cell_type": "code",
   "execution_count": null,
   "metadata": {
    "deletable": false,
    "editable": false,
    "nbgrader": {
     "checksum": "3f1d43ac9e52f22f8f2a6cf52f6af4f0",
     "grade": true,
     "grade_id": "cell-23f030c54ce2c295",
     "locked": true,
     "points": 3,
     "schema_version": 1,
     "solution": false
    }
   },
   "outputs": [],
   "source": [
    "for (l in list(c('character', 6), c('numeric', 1), c('integer', 4))) {\n",
    "    stopifnot(ncol_type(mpg, l[1]) == l[2])\n",
    "}"
   ]
  },
  {
   "cell_type": "markdown",
   "metadata": {
    "deletable": false,
    "editable": false,
    "nbgrader": {
     "checksum": "43e329c8c31b8f41fae51c68197b5da7",
     "grade": false,
     "grade_id": "cell-978628dab17c58e2",
     "locked": true,
     "schema_version": 1,
     "solution": false
    }
   },
   "source": [
    "#### Problem 7 (3 pts.)\n",
    "A *recursive* function is a function that calls itself. For example, the following recursive function computes the $k$th factorial number, $$k! := \\prod_{i=1}^k i,\\quad k \\ge 0.$$"
   ]
  },
  {
   "cell_type": "code",
   "execution_count": null,
   "metadata": {
    "deletable": false,
    "editable": false,
    "nbgrader": {
     "checksum": "95c74bbe50ca9bb5a5d9d2e8dda3c952",
     "grade": false,
     "grade_id": "cell-13093053036566c6",
     "locked": true,
     "schema_version": 1,
     "solution": false
    }
   },
   "outputs": [],
   "source": [
    "factorial = function(k) {\n",
    "    if (k <= 0) {\n",
    "        return(1)\n",
    "    }\n",
    "    k * factorial(k - 1)\n",
    "}\n",
    "factorial(5)"
   ]
  },
  {
   "cell_type": "markdown",
   "metadata": {
    "deletable": false,
    "editable": false,
    "nbgrader": {
     "checksum": "c085527e34340a570fc56961f65a657b",
     "grade": false,
     "grade_id": "cell-8ccc246305bff42e",
     "locked": true,
     "schema_version": 1,
     "solution": false
    }
   },
   "source": [
    "Write a recursive function `fib(k)` that computes $F_k$, the $k$th Fibonacci number. (The Fibonacci sequence is defined by the recurrence $F_{k+2} = F_{k+1} + F_{k}$ with $F_1 = F_2 = 1$.)"
   ]
  },
  {
   "cell_type": "code",
   "execution_count": null,
   "metadata": {
    "deletable": false,
    "nbgrader": {
     "checksum": "9e24459c200035bd553319c2fe71b7b4",
     "grade": false,
     "grade_id": "cell-35b43f7fbbd15a2a",
     "locked": false,
     "schema_version": 1,
     "solution": true
    }
   },
   "outputs": [],
   "source": [
    "fib = function(k) {\n",
    "    # YOUR CODE HERE\n",
    "    stop()\n",
    "}"
   ]
  },
  {
   "cell_type": "code",
   "execution_count": null,
   "metadata": {
    "deletable": false,
    "editable": false,
    "nbgrader": {
     "checksum": "8c7c54b4aba3e4c5a8510b02c358a609",
     "grade": true,
     "grade_id": "cell-bc22d2de2afba804",
     "locked": true,
     "points": 3,
     "schema_version": 1,
     "solution": false
    }
   },
   "outputs": [],
   "source": [
    "stopifnot(all(sapply(1:10, fib) == c(1,1,2,3,5,8,13,21,34,55)))"
   ]
  },
  {
   "cell_type": "markdown",
   "metadata": {
    "deletable": false,
    "editable": false,
    "nbgrader": {
     "checksum": "d60a6696a8d85ead73b96e2c9a407660",
     "grade": false,
     "grade_id": "cell-427aefc2db90655f",
     "locked": true,
     "schema_version": 1,
     "solution": false
    }
   },
   "source": [
    "#### Problem 8 (4 pts.)\n",
    "In Calculus II you learned that $$\\int_0^1 f(x)\\,\\mathrm{d} x = \\lim_{n\\to\\infty} \\frac{1}{n} \\sum_{i=1}^n f(i/n).$$ The summation on the right-hand side is called a *Riemann sum*. Setting $n$ to a large (but finite) number gives an algorithm for numerically computing the definite integral on the left-hand side.\n",
    "\n",
    "Write a function `int01(f)` that takes a single argument `f`, itself a function, and uses this formula to approximate the integral of `f` over the interval $[0,1]$. (Choose $n=1000$ subdivisions in order to compute the sum.)"
   ]
  },
  {
   "cell_type": "code",
   "execution_count": null,
   "metadata": {
    "deletable": false,
    "nbgrader": {
     "checksum": "3497a64ea8af3c864fa35e4268c671e3",
     "grade": false,
     "grade_id": "cell-c52101831c5231f0",
     "locked": false,
     "schema_version": 1,
     "solution": true
    }
   },
   "outputs": [],
   "source": [
    "int01 = function(f) {\n",
    "    # YOUR CODE HERE\n",
    "    stop()\n",
    "}"
   ]
  },
  {
   "cell_type": "code",
   "execution_count": null,
   "metadata": {
    "deletable": false,
    "editable": false,
    "nbgrader": {
     "checksum": "80f0ba9c9eadceff12d2f0559103559a",
     "grade": true,
     "grade_id": "cell-df54fc2e75fe854f",
     "locked": true,
     "points": 2,
     "schema_version": 1,
     "solution": false
    }
   },
   "outputs": [],
   "source": [
    "stopifnot(near(int01(function(x) 1), 1))\n",
    "stopifnot(near(int01(function(x) x), 1/2, tol = 1e-3))                     \n",
    "stopifnot(near(int01(function(x) sin(2 * pi * x)), 0))"
   ]
  },
  {
   "cell_type": "markdown",
   "metadata": {
    "deletable": false,
    "editable": false,
    "nbgrader": {
     "checksum": "31f5e63723e153b3e69eebcee0468295",
     "grade": false,
     "grade_id": "cell-6494c58db3a89c41",
     "locked": true,
     "schema_version": 1,
     "solution": false
    }
   },
   "source": [
    "You may have noticed that `int01` is fairly inaccurate. For example, while $\\int_0^1 x^2\\,\\mathrm{d}x = 1/3$, we see that \n",
    "```{r}\n",
    "> int01(function(x) x^2)\n",
    "[1] 0.3338335\n",
    "```\n",
    "is only correct to three decimal places. This is because `int01` does not take the shape of the function `f` into account. To obtain more accuracy, we can use [Simpson's rule](https://en.wikipedia.org/wiki/Simpson%27s_rule):\n",
    "$$\\int_0^1 f(x)\\,\\mathrm{d}x \\approx \\frac{1}{6n} \\sum_{i=1}^n f\\left(\\frac{i-1}{n}\\right) + 4f\\left(\\frac{i - 1/2}{n}\\right)\n",
    "+ f\\left(\\frac{i}{n}\\right),$$ for large $n$.\n",
    "\n",
    "Implement Simpson's rule (again using $n=1000$) in a function called `simps01(f)`, and use it to define a function `rel_acc(f, truth)` which compares the relative accuracy of the Simpson's rule against `int01`. The function should take two arguments, the function to be integrated `f` and $$\\texttt{truth} = \\int_0^1 f(x)\\,\\mathrm{d}x,$$\n",
    "the true value of the integral. It should return the relative accuracy, defined as $$\\texttt{rel_acc(f, truth)} = \\frac{|\\texttt{simps01(f)} - \\texttt{truth}|}{|\\texttt{int01(f)}-\\texttt{truth}|}.$$ (Hence, small values of `rel_acc` indicate that Simpson's rule is more accurate.)"
   ]
  },
  {
   "cell_type": "code",
   "execution_count": null,
   "metadata": {
    "deletable": false,
    "nbgrader": {
     "checksum": "7e7d9b95b879d2ff61d87fe234320b93",
     "grade": false,
     "grade_id": "cell-eb49dfd8117a95cd",
     "locked": false,
     "schema_version": 1,
     "solution": true
    }
   },
   "outputs": [],
   "source": [
    "simps01 = function(f) {\n",
    "    # YOUR CODE HERE\n",
    "    stop()\n",
    "}\n",
    "\n",
    "rel_acc = function(f, truth) {\n",
    "    # YOUR CODE HERE\n",
    "    stop()\n",
    "}"
   ]
  },
  {
   "cell_type": "code",
   "execution_count": null,
   "metadata": {
    "deletable": false,
    "editable": false,
    "nbgrader": {
     "checksum": "456d4bc3b96fc7819b0cf1eedb573c92",
     "grade": true,
     "grade_id": "cell-ff2b0ae1d18173ec",
     "locked": true,
     "points": 2,
     "schema_version": 1,
     "solution": false
    }
   },
   "outputs": [],
   "source": [
    "stopifnot(rel_acc(function(x) x^2, 1/3) == 0)\n",
    "stopifnot(rel_acc(function(x) x^3, 1/4) == 0)\n",
    "stopifnot(near(rel_acc(sin, 1 - cos(1)), 5.7e-12))"
   ]
  }
 ],
 "metadata": {
  "kernelspec": {
   "display_name": "R",
   "language": "R",
   "name": "ir"
  },
  "language_info": {
   "codemirror_mode": "r",
   "file_extension": ".r",
   "mimetype": "text/x-r-source",
   "name": "R",
   "pygments_lexer": "r",
   "version": "3.4.2"
  }
 },
 "nbformat": 4,
 "nbformat_minor": 2
}
