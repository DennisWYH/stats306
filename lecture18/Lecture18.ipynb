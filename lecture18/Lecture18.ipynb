{
 "cells": [
  {
   "cell_type": "code",
   "execution_count": 2,
   "metadata": {
    "slideshow": {
     "slide_type": "notes"
    }
   },
   "outputs": [
    {
     "name": "stderr",
     "output_type": "stream",
     "text": [
      "── Attaching packages ─────────────────────────────────────── tidyverse 1.2.1 ──\n",
      "✔ ggplot2 3.1.0     ✔ purrr   0.2.5\n",
      "✔ tibble  1.4.2     ✔ dplyr   0.7.8\n",
      "✔ tidyr   0.8.2     ✔ stringr 1.3.1\n",
      "✔ readr   1.3.0     ✔ forcats 0.3.0\n",
      "── Conflicts ────────────────────────────────────────── tidyverse_conflicts() ──\n",
      "✖ dplyr::filter()  masks stats::filter()\n",
      "✖ purrr::flatten() masks jsonlite::flatten()\n",
      "✖ dplyr::lag()     masks stats::lag()\n"
     ]
    }
   ],
   "source": [
    "library(tidyverse)\n",
    "library(nycflights13)"
   ]
  },
  {
   "cell_type": "markdown",
   "metadata": {
    "slideshow": {
     "slide_type": "slide"
    }
   },
   "source": [
    "# Lecture 18: More on functional programming"
   ]
  },
  {
   "cell_type": "markdown",
   "metadata": {
    "slideshow": {
     "slide_type": "slide"
    }
   },
   "source": [
    "## Review questions\n",
    "A couple of things that came up in OH and on Canvas:"
   ]
  },
  {
   "cell_type": "markdown",
   "metadata": {
    "slideshow": {
     "slide_type": "slide"
    }
   },
   "source": [
    "### `while` vs. `for`\n",
    "There were some questions in OH about `while` versus `for`. We generally use `for`. They are somewhat equivalent:\n",
    "```{r}\n",
    "for (i in 1:n) {\n",
    "    <body>\n",
    "}\n",
    "```\n",
    "is the same as \n",
    "```{r}\n",
    "i = 1\n",
    "while (i <= n) {\n",
    "    <body>\n",
    "    i = i + 1\n",
    "}\n",
    "```"
   ]
  },
  {
   "cell_type": "markdown",
   "metadata": {
    "slideshow": {
     "slide_type": "slide"
    }
   },
   "source": [
    "### Anonymous functions\n",
    "An anonymous function is, literally, a function with no name. Some of the problems on PS8 use this, e.g.:\n",
    "```{r}\n",
    "int01(function(x) x))\n",
    "#     ^^^^^^^^^^^^^^\n",
    "#   anonymous function\n",
    "```\n",
    "You should generally only use these for small, simple functions (max 1 line, no `{}` braces)."
   ]
  },
  {
   "cell_type": "markdown",
   "metadata": {
    "slideshow": {
     "slide_type": "slide"
    }
   },
   "source": [
    "## Iterating over multiple sequences at once\n",
    "Sometimes we want to iterate over multiple sequences. For example, suppose we had a vector `mu` of means and an equal length vector `sigma` of standard deviations. For each pair `mu[[i]],sigma[[i]]` we would like to generate a five standard normal random variable using `rnorm`."
   ]
  },
  {
   "cell_type": "markdown",
   "metadata": {
    "slideshow": {
     "slide_type": "slide"
    }
   },
   "source": [
    "Using `map`, we could accomplish this by"
   ]
  },
  {
   "cell_type": "code",
   "execution_count": 3,
   "metadata": {
    "slideshow": {
     "slide_type": "-"
    }
   },
   "outputs": [
    {
     "name": "stdout",
     "output_type": "stream",
     "text": [
      "List of 3\n",
      " $ : num [1:5] 4.96 4.98 5.94 5.82 5.59\n",
      " $ : num [1:5] 14.5949 13.9107 10.3728 0.0532 13.0991\n",
      " $ : num [1:5] -3.56 -4.56 -17.71 -7.78 1.18\n"
     ]
    }
   ],
   "source": [
    "mu = list(5, 10, -3)\n",
    "sigma = list(1, 5, 10)\n",
    "seq_along(mu) %>% \n",
    "  map(~ rnorm(5, mu[[.]], sigma[[.]])) %>% \n",
    "  str()"
   ]
  },
  {
   "cell_type": "markdown",
   "metadata": {
    "slideshow": {
     "slide_type": "notes"
    }
   },
   "source": [
    "Because we don't yet know how to `map` over more than one sequence at a time, we are forced to \"hack it\" by iterating over `seq_along(mu)`. This hides the true intent of what we set out to accomplish, which is to perform a map over *pairs* of `(mu[i], sigma[i])`."
   ]
  },
  {
   "cell_type": "markdown",
   "metadata": {
    "slideshow": {
     "slide_type": "slide"
    }
   },
   "source": [
    "To iterate over two sequences at once we have the `map2` command:\n",
    "```{r}\n",
    "map2(seq1, seq2, f, ...)\n",
    "```\n",
    "will call `f(seq1[[i]], seq2[[i]], ...)` for each value of `i`. Indeed, `map2` is equivalent to:\n",
    "```{r}\n",
    "map2 <- function(x, y, f, ...) {\n",
    "  out <- vector(\"list\", length(x))\n",
    "  for (i in seq_along(x)) {\n",
    "    out[[i]] <- f(x[[i]], y[[i]], ...)\n",
    "  }\n",
    "  out\n",
    "}\n",
    "```"
   ]
  },
  {
   "cell_type": "markdown",
   "metadata": {
    "slideshow": {
     "slide_type": "slide"
    }
   },
   "source": [
    "`map2` lets us succinctly rewrite the sampling code given above:"
   ]
  },
  {
   "cell_type": "code",
   "execution_count": 196,
   "metadata": {},
   "outputs": [
    {
     "data": {
      "text/plain": [
       "[[1]]\n",
       "[1] 5.447983 5.446291 5.066780 5.075793 4.059494\n",
       "\n",
       "[[2]]\n",
       "[1]  3.518528 19.366107  7.197257  5.081700 20.487066\n",
       "\n",
       "[[3]]\n",
       "[1] -9.655409  8.922227  4.592133  4.237675 -1.451280\n"
      ]
     },
     "metadata": {},
     "output_type": "display_data"
    }
   ],
   "source": [
    "map2(mu, sigma, rnorm, n = 5)"
   ]
  },
  {
   "cell_type": "markdown",
   "metadata": {
    "slideshow": {
     "slide_type": "slide"
    }
   },
   "source": [
    "## Predicates\n",
    "Predicates are functions that allow you to filter out elements of sequences based on a condition. The `keep(f)` command will return a new sequence consisting of each element where `f` evaluates to `TRUE`:"
   ]
  },
  {
   "cell_type": "code",
   "execution_count": 3,
   "metadata": {},
   "outputs": [
    {
     "name": "stdout",
     "output_type": "stream",
     "text": [
      "# A tibble: 234 x 4\n",
      "    year   cyl   cty   hwy\n",
      "   <int> <int> <int> <int>\n",
      " 1  1999     4    18    29\n",
      " 2  1999     4    21    29\n",
      " 3  2008     4    20    31\n",
      " 4  2008     4    21    30\n",
      " 5  1999     6    16    26\n",
      " 6  1999     6    18    26\n",
      " 7  2008     6    18    27\n",
      " 8  1999     4    18    26\n",
      " 9  1999     4    16    25\n",
      "10  2008     4    20    28\n",
      "# ... with 224 more rows\n"
     ]
    }
   ],
   "source": [
    "mpg %>% keep(is_integer) %>% print"
   ]
  },
  {
   "cell_type": "markdown",
   "metadata": {
    "slideshow": {
     "slide_type": "slide"
    }
   },
   "source": [
    "`discard()` does the opposite of `keep()`:"
   ]
  },
  {
   "cell_type": "code",
   "execution_count": 4,
   "metadata": {},
   "outputs": [
    {
     "name": "stdout",
     "output_type": "stream",
     "text": [
      "# A tibble: 234 x 7\n",
      "   manufacturer model      displ trans      drv   fl    class  \n",
      "   <chr>        <chr>      <dbl> <chr>      <chr> <chr> <chr>  \n",
      " 1 audi         a4           1.8 auto(l5)   f     p     compact\n",
      " 2 audi         a4           1.8 manual(m5) f     p     compact\n",
      " 3 audi         a4           2   manual(m6) f     p     compact\n",
      " 4 audi         a4           2   auto(av)   f     p     compact\n",
      " 5 audi         a4           2.8 auto(l5)   f     p     compact\n",
      " 6 audi         a4           2.8 manual(m5) f     p     compact\n",
      " 7 audi         a4           3.1 auto(av)   f     p     compact\n",
      " 8 audi         a4 quattro   1.8 manual(m5) 4     p     compact\n",
      " 9 audi         a4 quattro   1.8 auto(l5)   4     p     compact\n",
      "10 audi         a4 quattro   2   manual(m6) 4     p     compact\n",
      "# ... with 224 more rows\n"
     ]
    }
   ],
   "source": [
    "mpg %>% discard(is_integer) %>% print"
   ]
  },
  {
   "cell_type": "markdown",
   "metadata": {
    "slideshow": {
     "slide_type": "notes"
    }
   },
   "source": [
    "Again, these examples work because *data frames/tibble are lists*."
   ]
  },
  {
   "cell_type": "markdown",
   "metadata": {
    "slideshow": {
     "slide_type": "slide"
    }
   },
   "source": [
    "`detect(f)` and `detect_index(f)` return the first element (or its index) where `f` evaluates to `TRUE`:"
   ]
  },
  {
   "cell_type": "code",
   "execution_count": 54,
   "metadata": {},
   "outputs": [
    {
     "data": {
      "text/plain": [
       "[1] 2.329436"
      ]
     },
     "metadata": {},
     "output_type": "display_data"
    }
   ],
   "source": [
    "rnorm(1000) %>% detect(~ . > 2)"
   ]
  },
  {
   "cell_type": "code",
   "execution_count": 8,
   "metadata": {},
   "outputs": [
    {
     "data": {
      "text/plain": [
       "[1] 0"
      ]
     },
     "metadata": {},
     "output_type": "display_data"
    }
   ],
   "source": [
    "rnorm(1000) %>% detect_index(~ abs(.) > 10)"
   ]
  },
  {
   "cell_type": "markdown",
   "metadata": {
    "slideshow": {
     "slide_type": "slide"
    }
   },
   "source": [
    "## The `reduce` function\n",
    "The last bit of functional programming we will study is `reduce()`. The reduce function takes a “binary” function (i.e. a function with two primary inputs), and applies it repeatedly to a list until there is only a single element left. This takes a little bit of getting used to, but ends up being very powerful."
   ]
  },
  {
   "cell_type": "markdown",
   "metadata": {
    "slideshow": {
     "slide_type": "slide"
    }
   },
   "source": [
    "Let's take a simple example: summing up numbers. If I wanted to add the numbers 1 through 4 I could of course type `sum(1:4)` and get `10`. Suppose I did not know about sum. I could also write:\n",
    "\n",
    "```{r}\n",
    "> 1 + 2 + 3 + 4\n",
    "[1] 10\n",
    "```"
   ]
  },
  {
   "cell_type": "markdown",
   "metadata": {
    "slideshow": {
     "slide_type": "slide"
    }
   },
   "source": [
    "We can rewrite this sum as \n",
    "```{r}\n",
    "> (((1 + 2) + 3) + 4)\n",
    "[1] 10\n",
    "```\n",
    "If $f(x,y) = x + y$ then we can rewrite this as \n",
    "$$f(\n",
    "f(\n",
    "f(1,2),\n",
    "3),\n",
    "4).\n",
    "$$"
   ]
  },
  {
   "cell_type": "markdown",
   "metadata": {
    "slideshow": {
     "slide_type": "notes"
    }
   },
   "source": [
    "Obviously this is a silly thing to do for computing a simple sum, but the pattern of repeatedly applying a binary function $f(x,y)$, where $y$ is the output from a previous application of the function, actually turns up a lot in programming. The `reduce` function accomplishes this for us:"
   ]
  },
  {
   "cell_type": "code",
   "execution_count": 5,
   "metadata": {
    "slideshow": {
     "slide_type": "slide"
    }
   },
   "outputs": [
    {
     "data": {
      "text/plain": [
       "[1] 10"
      ]
     },
     "metadata": {},
     "output_type": "display_data"
    }
   ],
   "source": [
    "reduce(1:4, `+`)"
   ]
  },
  {
   "cell_type": "markdown",
   "metadata": {},
   "source": [
    "## `accumulate`\n",
    "A closely related variant of `reduce` is `accumulate`. In the above example, instead of returning \n",
    "\n",
    "$$f(1, f(2, f(3, 4)))$$\n",
    "\n",
    "accumulate would return a *vector* containing\n",
    "all of the partially evaluated sums:\n",
    "\n",
    "$$\\texttt{accumulate(f, 1:44)} = (f(1, 2), f(f(1, 2), 3), f(f(f(1, 2), 3), 4))$$"
   ]
  },
  {
   "cell_type": "code",
   "execution_count": 8,
   "metadata": {
    "scrolled": true
   },
   "outputs": [
    {
     "data": {
      "text/plain": [
       "[1]  1  3  6 10"
      ]
     },
     "metadata": {},
     "output_type": "display_data"
    }
   ],
   "source": [
    "1:4 %>% accumulate(`+`)"
   ]
  },
  {
   "cell_type": "markdown",
   "metadata": {
    "slideshow": {
     "slide_type": "slide"
    }
   },
   "source": [
    "### Example\n",
    "Suppose we have a list of vectors $(v_1,\\dots,v_n)$ and we want to find their intersection. Mathematically this equals $$I_n:=\\bigcap_{i=1}^n v_n=v_n\\cap I_{n-1},$$ so we can use reduce to compute it:"
   ]
  },
  {
   "cell_type": "code",
   "execution_count": 11,
   "metadata": {},
   "outputs": [
    {
     "data": {
      "text/plain": [
       "[1]  1  3 10"
      ]
     },
     "metadata": {},
     "output_type": "display_data"
    }
   ],
   "source": [
    "vs = list(\n",
    "  c(1, 3, 5, 6, 10),\n",
    "  c(1, 2, 3, 7, 8, 10),\n",
    "  c(1, 2, 3, 4, 8, 9, 10)\n",
    ")\n",
    "vs %>% reduce(intersect)"
   ]
  },
  {
   "cell_type": "markdown",
   "metadata": {
    "slideshow": {
     "slide_type": "slide"
    }
   },
   "source": [
    "### Exercise\n",
    "Let's say we want to concatenate together a bunch of strings, and because we haven't been coming to lecture we don't know about `str_c`. In fact, we only know about the following function which concatenates just two strings at a time:"
   ]
  },
  {
   "cell_type": "code",
   "execution_count": 14,
   "metadata": {},
   "outputs": [],
   "source": [
    "cat2 = function(x, y, ...) {\n",
    "    paste0(x, y, ...)\n",
    "}"
   ]
  },
  {
   "cell_type": "markdown",
   "metadata": {},
   "source": [
    "Use `cat2` and `reduce` to build a function which will concatenate whole vectors of strings together."
   ]
  },
  {
   "cell_type": "markdown",
   "metadata": {
    "slideshow": {
     "slide_type": "slide"
    }
   },
   "source": [
    "Let's think about what our new function will do. If we pass it the vector `c('a','b','c','d')` we should get back the string `'abcd'`. We could accomplish this using `cat2`:"
   ]
  },
  {
   "cell_type": "code",
   "execution_count": 15,
   "metadata": {},
   "outputs": [
    {
     "data": {
      "text/plain": [
       "[1] \"abcd\""
      ]
     },
     "metadata": {},
     "output_type": "display_data"
    }
   ],
   "source": [
    "v = c('a', 'b', 'c', 'd')\n",
    "cat2(cat2(cat2(v[1], v[2]), v[3]), v[4])"
   ]
  },
  {
   "cell_type": "markdown",
   "metadata": {
    "slideshow": {
     "slide_type": "slide"
    }
   },
   "source": [
    "This pattern suggests how we might use `reduce`:"
   ]
  },
  {
   "cell_type": "code",
   "execution_count": 18,
   "metadata": {},
   "outputs": [
    {
     "data": {
      "text/plain": [
       "[1] \"abcd\""
      ]
     },
     "metadata": {},
     "output_type": "display_data"
    }
   ],
   "source": [
    "v %>% reduce(cat2)"
   ]
  },
  {
   "cell_type": "markdown",
   "metadata": {
    "slideshow": {
     "slide_type": "slide"
    }
   },
   "source": [
    "### Exercise\n",
    "Given a vector $v$, the *cumulative product* of $v$ is a vector $p$ such that $$p_j = \\prod_{i=1}^j v_i.$$\n",
    "For example, the cumulative product of $(1,2,3,4)$ is $(1,2,6,24)$ (i.e. the factorials). \n",
    "\n",
    "Use `accumulate` to write a function `cumprod(v)` that computes the cumulative product."
   ]
  },
  {
   "cell_type": "code",
   "execution_count": 20,
   "metadata": {},
   "outputs": [
    {
     "data": {
      "text/plain": [
       " [1]       1       2       6      24     120     720    5040   40320  362880\n",
       "[10] 3628800"
      ]
     },
     "metadata": {},
     "output_type": "display_data"
    }
   ],
   "source": [
    "1:10 %>% accumulate(~ .x * .y)"
   ]
  },
  {
   "cell_type": "markdown",
   "metadata": {
    "slideshow": {
     "slide_type": "slide"
    }
   },
   "source": [
    "## Closures\n",
    "When we create a function\n",
    "```{r}\n",
    "f = function(x) {\n",
    "    <do somethings with x>\n",
    "}\n",
    "```\n",
    "that function has access to:\n",
    "- all of the variables defined inside the function (its arguments plus whatever other variables we create in the body of the function), *as well as*\n",
    "- all of the variables defined \"outside\" the function."
   ]
  },
  {
   "cell_type": "markdown",
   "metadata": {
    "slideshow": {
     "slide_type": "slide"
    }
   },
   "source": [
    "Example:"
   ]
  },
  {
   "cell_type": "code",
   "execution_count": 29,
   "metadata": {},
   "outputs": [],
   "source": [
    "y = 1\n",
    "f = function(x) {\n",
    "    x + y\n",
    "}"
   ]
  },
  {
   "cell_type": "markdown",
   "metadata": {
    "slideshow": {
     "slide_type": "slide"
    }
   },
   "source": [
    "Now `f` is a function that will add one to its argument:"
   ]
  },
  {
   "cell_type": "code",
   "execution_count": 30,
   "metadata": {},
   "outputs": [
    {
     "data": {
      "text/plain": [
       "[1] 2"
      ]
     },
     "metadata": {},
     "output_type": "display_data"
    }
   ],
   "source": [
    "f(1)"
   ]
  },
  {
   "cell_type": "markdown",
   "metadata": {
    "slideshow": {
     "slide_type": "slide"
    }
   },
   "source": [
    "In fact, we can change the behavior of `f` by changing `y`. Observe:"
   ]
  },
  {
   "cell_type": "code",
   "execution_count": 34,
   "metadata": {},
   "outputs": [
    {
     "data": {
      "text/plain": [
       "[1] 3"
      ]
     },
     "metadata": {},
     "output_type": "display_data"
    }
   ],
   "source": [
    "y = 2\n",
    "f(1)  # now f adds 2 to x"
   ]
  },
  {
   "cell_type": "code",
   "execution_count": 35,
   "metadata": {},
   "outputs": [
    {
     "data": {
      "text/plain": [
       "[1] NA"
      ]
     },
     "metadata": {},
     "output_type": "display_data"
    }
   ],
   "source": [
    "y = NA\n",
    "f(1) "
   ]
  },
  {
   "cell_type": "markdown",
   "metadata": {
    "slideshow": {
     "slide_type": "notes"
    }
   },
   "source": [
    "In this example `f` is what's called a *closure*, because it *encloses* all the variables defined outside of `f`, as well as those defined inside of it."
   ]
  },
  {
   "cell_type": "markdown",
   "metadata": {
    "slideshow": {
     "slide_type": "slide"
    }
   },
   "source": [
    "Closures become useful when we think about creating functions inside of other functions:"
   ]
  },
  {
   "cell_type": "code",
   "execution_count": 47,
   "metadata": {},
   "outputs": [],
   "source": [
    "power = function(exponent) {\n",
    "  function(x) {\n",
    "    x ^ exponent\n",
    "  }\n",
    "}\n",
    "square = power(2)\n",
    "cube = power(3)"
   ]
  },
  {
   "cell_type": "markdown",
   "metadata": {
    "slideshow": {
     "slide_type": "slide"
    }
   },
   "source": [
    "What is `square` now? It's a function:"
   ]
  },
  {
   "cell_type": "code",
   "execution_count": 49,
   "metadata": {},
   "outputs": [
    {
     "data": {
      "text/plain": [
       "[1] 9"
      ]
     },
     "metadata": {},
     "output_type": "display_data"
    },
    {
     "data": {
      "text/plain": [
       "[1] 64"
      ]
     },
     "metadata": {},
     "output_type": "display_data"
    }
   ],
   "source": [
    "square(3)\n",
    "cube(4)"
   ]
  },
  {
   "cell_type": "markdown",
   "metadata": {
    "slideshow": {
     "slide_type": "slide"
    }
   },
   "source": [
    "As we said, `square` is a closure. The list of variables it encloses is called its *environment*. You can look at this list by using the command of that name:"
   ]
  },
  {
   "cell_type": "code",
   "execution_count": 50,
   "metadata": {},
   "outputs": [
    {
     "data": {
      "text/plain": [
       "function(x) {\n",
       "    x ^ exponent\n",
       "  }\n",
       "<environment: 0x7fe8b18b6958>"
      ]
     },
     "metadata": {},
     "output_type": "display_data"
    },
    {
     "data": {
      "text/plain": [
       "$exponent\n",
       "[1] 2\n"
      ]
     },
     "metadata": {},
     "output_type": "display_data"
    }
   ],
   "source": [
    "square\n",
    "as.list(environment(square))"
   ]
  },
  {
   "cell_type": "code",
   "execution_count": 53,
   "metadata": {},
   "outputs": [
    {
     "data": {
      "text/plain": [
       "$exponent\n",
       "[1] 3\n"
      ]
     },
     "metadata": {},
     "output_type": "display_data"
    }
   ],
   "source": [
    "as.list(environment(cube))"
   ]
  },
  {
   "cell_type": "markdown",
   "metadata": {
    "slideshow": {
     "slide_type": "slide"
    }
   },
   "source": [
    "### Memoization\n",
    "A good use for closures is something called *memoization*. Memoization lets you save the results of a function call for future use. This is very useful in combination with recursion."
   ]
  },
  {
   "cell_type": "markdown",
   "metadata": {
    "slideshow": {
     "slide_type": "notes"
    }
   },
   "source": [
    "To implement memoization, we define a list in the enclosing enviroment of the function we wish to memoize. Then, each time we call the function, we check to see if the value is already saved in the list. If so, we return it; otherwise, we do the computation and store it for future use."
   ]
  },
  {
   "cell_type": "markdown",
   "metadata": {
    "slideshow": {
     "slide_type": "slide"
    }
   },
   "source": [
    "Consider the following recursive function:"
   ]
  },
  {
   "cell_type": "code",
   "execution_count": 21,
   "metadata": {
    "slideshow": {
     "slide_type": "slide"
    }
   },
   "outputs": [],
   "source": [
    "f = function(k) {\n",
    "    if (k <= 2) {\n",
    "        1\n",
    "    } else {\n",
    "        k^2 * f(k - 1) - k * f(k - 2)\n",
    "    }\n",
    "}"
   ]
  },
  {
   "cell_type": "markdown",
   "metadata": {
    "slideshow": {
     "slide_type": "slide"
    }
   },
   "source": [
    "This function is slow to compute for large $k$:"
   ]
  },
  {
   "cell_type": "code",
   "execution_count": 22,
   "metadata": {},
   "outputs": [
    {
     "name": "stdout",
     "output_type": "stream",
     "text": [
      "Unit: microseconds\n",
      "  expr      min        lq       mean    median       uq       max neval\n",
      " f(10)   40.181   42.0465   48.16137   43.6645   49.842    78.452   100\n",
      " f(20) 5014.103 5284.8700 6153.56760 5596.9620 6907.247 13576.366   100\n"
     ]
    }
   ],
   "source": [
    "library(microbenchmark)\n",
    "microbenchmark(\n",
    "    f(10),\n",
    "    f(20)\n",
    ") %>% print"
   ]
  },
  {
   "cell_type": "markdown",
   "metadata": {
    "slideshow": {
     "slide_type": "slide"
    }
   },
   "source": [
    "To speed up `f` we will memoize it:"
   ]
  },
  {
   "cell_type": "code",
   "execution_count": 24,
   "metadata": {},
   "outputs": [],
   "source": [
    "memo = rep(NA_real_, 100)\n",
    "fmemo = function(k) {\n",
    "    if (is.na(memo[[k]])) {\n",
    "        ret = NA\n",
    "        if (k <= 2) {\n",
    "            ret = 1\n",
    "        } else {\n",
    "            ret = k^2 * fmemo(k - 1) - k * fmemo(k - 2)\n",
    "        }\n",
    "        memo[[k]] <<- ret\n",
    "    }\n",
    "    memo[[k]]\n",
    "}"
   ]
  },
  {
   "cell_type": "markdown",
   "metadata": {
    "slideshow": {
     "slide_type": "notes"
    }
   },
   "source": [
    "Note the use of the `<<-` operator. This is required in order to make assignments to the enclosed variable `memo`."
   ]
  },
  {
   "cell_type": "code",
   "execution_count": 25,
   "metadata": {
    "slideshow": {
     "slide_type": "slide"
    }
   },
   "outputs": [
    {
     "name": "stdout",
     "output_type": "stream",
     "text": [
      "Unit: nanoseconds\n",
      "      expr     min        lq       mean  median        uq     max neval\n",
      "     f(10)   40626   41916.0   45247.92   42941   46218.5   68022   100\n",
      "     f(20) 5050269 5237409.0 5659128.15 5334692 5606398.5 9841770   100\n",
      " fmemo(10)     542     703.5   85840.19     841    2830.5 8390247   100\n",
      " fmemo(20)     566     699.5    2150.37     905    3075.5   20581   100\n"
     ]
    }
   ],
   "source": [
    "library(microbenchmark)\n",
    "microbenchmark(\n",
    "    f(10),\n",
    "    f(20),\n",
    "    fmemo(10),\n",
    "    fmemo(20)\n",
    ") %>% print"
   ]
  },
  {
   "cell_type": "markdown",
   "metadata": {
    "slideshow": {
     "slide_type": "slide"
    }
   },
   "source": [
    "## Application: analyzing cancer expression data\n",
    "Why do we care about functional programming? Here is a real-life example."
   ]
  },
  {
   "cell_type": "code",
   "execution_count": 9,
   "metadata": {
    "slideshow": {
     "slide_type": "notes"
    }
   },
   "outputs": [],
   "source": [
    "# ### training data\n",
    "# filename <- paste(\"http://pubs.broadinstitute.org/mpr/projects/\",\n",
    "# \"Global_Cancer_Map/GCM_Training.res\", sep=\"\")\n",
    "# dat0 <- read.delim(filename, sep=\"\\t\", header=FALSE, skip=3, quote=\"\")\n",
    "# tmp <- dat0[,1:290]\n",
    "# tmp <- tmp[, -seq(4, 290, by=2)]\n",
    "# tmp <- tmp[, -(1:2)]\n",
    "# train <- t(tmp)\n",
    "# filename <- paste(\"http://pubs.broadinstitute.org/mpr/projects/\",\n",
    "# \"Global_Cancer_Map/GCM_Training.cls\", sep=\"\")\n",
    "# train.classes <- read.table(filename, skip=2)+1\n",
    "# train.classes <- unlist(train.classes)\n",
    "# ### test data\n",
    "# filename <- paste(\"http://pubs.broadinstitute.org/mpr/projects/\",\n",
    "# \"Global_Cancer_Map/GCM_Test.res\", sep=\"\")\n",
    "# dat0 <- read.delim(filename, sep=\"\\t\", header=FALSE, skip=3, quote=\"\")\n",
    "# tmp <- dat0[,1:110]\n",
    "# tmp <- tmp[, -seq(4, 110, by=2)]\n",
    "# tmp <- tmp[, -(1:2)]\n",
    "# test <- t(tmp)[1:46,]\n",
    "# filename <- paste(\"http://pubs.broadinstitute.org/mpr/projects/\",\n",
    "# \"Global_Cancer_Map/GCM_Test.cls\", sep=\"\")\n",
    "# test.classes <- read.table(filename, skip=2)+1\n",
    "# test.classes <- test.classes[test.classes!=15]\n",
    "# test.classes <- unlist(test.classes)\n",
    "# tr <- as_tibble(train) %>% mutate(class = train.classes, split=\"train\")\n",
    "# ts <- as_tibble(test) %>% mutate(class = test.classes, split=\"test\")\n",
    "# gcm14 <- bind_rows(tr, ts)"
   ]
  }
 ],
 "metadata": {
  "celltoolbar": "Slideshow",
  "kernelspec": {
   "display_name": "R",
   "language": "R",
   "name": "ir"
  },
  "language_info": {
   "codemirror_mode": "r",
   "file_extension": ".r",
   "mimetype": "text/x-r-source",
   "name": "R",
   "pygments_lexer": "r",
   "version": "3.5.2"
  }
 },
 "nbformat": 4,
 "nbformat_minor": 2
}
