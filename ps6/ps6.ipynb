{
 "cells": [
  {
   "cell_type": "markdown",
   "metadata": {},
   "source": [
    "Before you turn this problem set in, make sure everything runs as expected. First, **restart the kernel** (in the menubar, select Kernel$\\rightarrow$Restart) and then **run all cells** (in the menubar, select Cell$\\rightarrow$Run All). Your code should run from top to bottom with no errors. Failure to do this will result in loss of points.\n",
    "\n",
    "You should not use `install.packages()` anywhere. You may assume that we have already installed all the packages needed to run your code.\n",
    "\n",
    "Make sure you fill in any place that says `YOUR CODE HERE` or \"YOUR ANSWER HERE\" and delete the `stop()` functions, as well as your name and collaborators below:"
   ]
  },
  {
   "cell_type": "code",
   "execution_count": null,
   "metadata": {},
   "outputs": [],
   "source": [
    "NAME = \"\"  # your uniqname \n",
    "COLLABORATORS = c()  # vector of uniqnames of your collaborators, if any\n",
    "## IMPORTANT: you must also have set your group on Canvas. This is only used as a backup."
   ]
  },
  {
   "cell_type": "markdown",
   "metadata": {},
   "source": [
    "---"
   ]
  },
  {
   "cell_type": "code",
   "execution_count": null,
   "metadata": {
    "deletable": false,
    "editable": false,
    "nbgrader": {
     "checksum": "872c259754b0af4fb7cbb004cd4247af",
     "grade": false,
     "grade_id": "cell-d1761bfdb43c7ec3",
     "locked": true,
     "schema_version": 1,
     "solution": false
    }
   },
   "outputs": [],
   "source": [
    "library(tidyverse)\n",
    "library(stringr)\n",
    "stopif = function(x, ...) { stopifnot(! x, ...)}"
   ]
  },
  {
   "cell_type": "markdown",
   "metadata": {
    "deletable": false,
    "editable": false,
    "nbgrader": {
     "checksum": "639d99a47c4ff1d9bf8db82da77e8136",
     "grade": false,
     "grade_id": "cell-a2b64305f95add5c",
     "locked": true,
     "schema_version": 1,
     "solution": false
    }
   },
   "source": [
    "# STATS 306\n",
    "## Problem set 6: Strings and regular expressions\n",
    "Each problem is worth two to four points, depending on difficulty, for a total of 20.\n",
    "\n",
    "*Note*: you do not need to use `install.packages()` in this notebook. You may assume that we have already installed all of the necessary packages when we run your code."
   ]
  },
  {
   "cell_type": "markdown",
   "metadata": {
    "deletable": false,
    "editable": false,
    "nbgrader": {
     "checksum": "b30ad786cccdc44001e9b54a04123382",
     "grade": false,
     "grade_id": "cell-38b79f91d7075473",
     "locked": true,
     "schema_version": 1,
     "solution": false
    }
   },
   "source": [
    "#### Problem 1\n",
    "Write a regular expression which matches words of the form `DcccccD`, where `D` is any digit and `c` is any lower case letter. The first and last digits do not have to be the same. Store your regular expression in a variable called `re1`."
   ]
  },
  {
   "cell_type": "code",
   "execution_count": null,
   "metadata": {
    "deletable": false,
    "nbgrader": {
     "checksum": "7463b1ee8498dc84df5a2781a0ddfbac",
     "grade": false,
     "grade_id": "cell-0d9b916810e2774f",
     "locked": false,
     "schema_version": 1,
     "solution": true
    }
   },
   "outputs": [],
   "source": [
    "re1 = NA\n",
    "# YOUR CODE HERE\n",
    "stop()"
   ]
  },
  {
   "cell_type": "code",
   "execution_count": null,
   "metadata": {
    "deletable": false,
    "editable": false,
    "nbgrader": {
     "checksum": "1119e5107009fc863fe82ac454b7fc08",
     "grade": true,
     "grade_id": "cell-85d34fe9eb2dfe61",
     "locked": true,
     "points": 2,
     "schema_version": 1,
     "solution": false
    }
   },
   "outputs": [],
   "source": [
    "matches = c(\"1abcde2\", \"1abcde1\", \"0fooof0\")  # these should match\n",
    "antimatches = c(\"f12300f\", \"any old words\", \"1a1\", \"2111112\", \"1234567890\")  # these should not match\n",
    "stopifnot(all(str_detect(matches, re1)))\n",
    "stopif(any(str_detect(antimatches, re1)))"
   ]
  },
  {
   "cell_type": "markdown",
   "metadata": {
    "deletable": false,
    "editable": false,
    "nbgrader": {
     "checksum": "0e89ebeb95c94d33c2df77f241e199e3",
     "grade": false,
     "grade_id": "cell-81cd47b44f8c370a",
     "locked": true,
     "schema_version": 1,
     "solution": false
    }
   },
   "source": [
    "#### Problem 2\n",
    "The *word-boundary* character class `\\b` matches the beginning and end of a word:"
   ]
  },
  {
   "cell_type": "code",
   "execution_count": null,
   "metadata": {
    "deletable": false,
    "editable": false,
    "nbgrader": {
     "checksum": "db6c4161ab8f3496724a0e75dd35dad8",
     "grade": false,
     "grade_id": "cell-73e3f9c1c7adc035",
     "locked": true,
     "schema_version": 1,
     "solution": false
    }
   },
   "outputs": [],
   "source": [
    "str_view_all(\"These are some words.\", \"\\\\b\")"
   ]
  },
  {
   "cell_type": "markdown",
   "metadata": {
    "deletable": false,
    "editable": false,
    "nbgrader": {
     "checksum": "5283dc60bc7bd134177e375d503d1617",
     "grade": false,
     "grade_id": "cell-e91ff6f2b9164e7d",
     "locked": true,
     "schema_version": 1,
     "solution": false
    }
   },
   "source": [
    "Use this character class to write a regular expression `re2` such that `str_count(s, re2)` counts the number of words in the string `s`. Here a word is defined a consecutive string of letters, numbers or underscores."
   ]
  },
  {
   "cell_type": "code",
   "execution_count": null,
   "metadata": {
    "deletable": false,
    "nbgrader": {
     "checksum": "469ebcd405a636e1cda34996a0f51f11",
     "grade": false,
     "grade_id": "cell-6c45be4ca1a4c459",
     "locked": false,
     "schema_version": 1,
     "solution": true
    }
   },
   "outputs": [],
   "source": [
    "# YOUR CODE HERE\n",
    "stop()"
   ]
  },
  {
   "cell_type": "code",
   "execution_count": null,
   "metadata": {
    "deletable": false,
    "editable": false,
    "nbgrader": {
     "checksum": "02eed7db6735f27889b4e2f1e7f4766a",
     "grade": true,
     "grade_id": "cell-baacec6c449245c2",
     "locked": true,
     "points": 2,
     "schema_version": 1,
     "solution": false
    }
   },
   "outputs": [],
   "source": [
    "stopifnot(all(\n",
    "    str_count(\n",
    "        c(\n",
    "            \"This sentence has five words.\",\n",
    "            \"   three words here!\",\n",
    "            \"\\tfour words found here...\",\n",
    "            \"hypenated-words count as two,\",\n",
    "            \"but under_scores do not\",\n",
    "            \"but isn't it true that contractions do? -- yes!\"\n",
    "         ),\n",
    "        re2) == \n",
    "    c(5, 3, 4, 5, 4, 9)\n",
    "))"
   ]
  },
  {
   "cell_type": "markdown",
   "metadata": {
    "deletable": false,
    "editable": false,
    "nbgrader": {
     "checksum": "23b85466807ba7a6422bf13b99381384",
     "grade": false,
     "grade_id": "cell-af3a689f4cd0142b",
     "locked": true,
     "schema_version": 1,
     "solution": false
    }
   },
   "source": [
    "#### Problem 3\n",
    "Write a regular expression which matches any word containing exactly two vowels, regardless of case. Store this regular expression in a variable named `re3`.\n",
    "\n",
    "*Hint*: See `?stringr::regex` for documentation on how to produce a case-insensitive regexp."
   ]
  },
  {
   "cell_type": "code",
   "execution_count": null,
   "metadata": {
    "deletable": false,
    "nbgrader": {
     "checksum": "9c49c22671828c28c0c01a6cf8fce730",
     "grade": false,
     "grade_id": "cell-eeac87ac199bca7e",
     "locked": false,
     "schema_version": 1,
     "solution": true
    }
   },
   "outputs": [],
   "source": [
    "# YOUR CODE HERE\n",
    "stop()"
   ]
  },
  {
   "cell_type": "code",
   "execution_count": null,
   "metadata": {
    "deletable": false,
    "editable": false,
    "nbgrader": {
     "checksum": "9ca91e294557ff9359c286c99777e11f",
     "grade": true,
     "grade_id": "cell-e4b6d4dc5a7f8f87",
     "locked": true,
     "points": 2,
     "schema_version": 1,
     "solution": false
    }
   },
   "outputs": [],
   "source": [
    "stopifnot(all(\n",
    "    str_detect(\n",
    "        c(\"one\", \"thrEe\", \"FOur\", \"FIVE\", \"seVen\", \"Eight\", \"nine\"),\n",
    "        re3\n",
    "        )\n",
    "    )\n",
    ")\n",
    "\n",
    "stopif(any(\n",
    "    str_detect(\n",
    "        c(\"two\", \"SIX\", \"TEN\", \"THirteeN\"),\n",
    "        re3\n",
    "    )\n",
    "))\n"
   ]
  },
  {
   "cell_type": "markdown",
   "metadata": {
    "deletable": false,
    "editable": false,
    "nbgrader": {
     "checksum": "ecbf2c7d970831d51452048c4be9a9ee",
     "grade": false,
     "grade_id": "cell-fcf7e9fd52c5e954",
     "locked": true,
     "schema_version": 1,
     "solution": false
    }
   },
   "source": [
    "#### Problem 4\n",
    "Write a regular expression which matches proper nouns. A proper noun is defined as one or more capitalized words, optionally separated by the word(s) \"and\", \"of\", \"the\", and/or \"by\".  Store your expression in a variable called `re4`. (If a capitalized word occurs at the beginning of a sentence, you may assume it is part of a proper noun.)"
   ]
  },
  {
   "cell_type": "code",
   "execution_count": null,
   "metadata": {
    "deletable": false,
    "nbgrader": {
     "checksum": "b978dc9b94c043370b00c44ef8bfcc47",
     "grade": false,
     "grade_id": "cell-b1af768b41430720",
     "locked": false,
     "schema_version": 1,
     "solution": true
    }
   },
   "outputs": [],
   "source": [
    "re4 = NA\n",
    "# YOUR CODE HERE\n",
    "stop()"
   ]
  },
  {
   "cell_type": "code",
   "execution_count": null,
   "metadata": {
    "deletable": false,
    "editable": false,
    "nbgrader": {
     "checksum": "55ad39d521f405857b35715c58b17978",
     "grade": true,
     "grade_id": "cell-7e7d78dbde150d56",
     "locked": true,
     "points": 2,
     "schema_version": 1,
     "solution": false
    }
   },
   "outputs": [],
   "source": [
    "proper_nouns = c(\"Jabba the Hut\", \"Pizza Hut\", \n",
    "                 \"Pizza the Hut\", \"Chicken of the Sea\",\n",
    "                 \"Dolce and Gabbana\", \"Roger Federer\",\n",
    "                 \"A Streetcar Named Desire\", \"Twitter\")\n",
    "not_proper_nouns = c(\"no proper nouns here.\",\n",
    "                     \"tennis is the best\",\n",
    "                     \"i heart burritos!\")\n",
    "stopifnot(all(identical(proper_nouns,\n",
    "                        str_extract(str_c(\"intro \", proper_nouns, \" outro.\"), re4)\n",
    "                        )))\n",
    "stopifnot(all(identical(str_c(\"Proper \", proper_nouns),\n",
    "                        str_extract(str_c(\"Proper \", proper_nouns, \" outro.\"), re4)\n",
    "                        )))\n",
    "stopifnot(identical(\n",
    "    str_extract_all(\"I heart Huckabees\", re4),\n",
    "    list(c(\"I\", \"Huckabees\"))))\n",
    "\n",
    "stopifnot(! any(str_detect(not_proper_nouns, re4)))"
   ]
  },
  {
   "cell_type": "markdown",
   "metadata": {
    "deletable": false,
    "editable": false,
    "nbgrader": {
     "checksum": "760c3326cbb2316de1f7438fa0d0deba",
     "grade": false,
     "grade_id": "cell-88cc4a18e1b9dba3",
     "locked": true,
     "schema_version": 1,
     "solution": false
    }
   },
   "source": [
    "#### Problem 5\n",
    "Write a regular expression to match phone numbers. A phone number can be in any one of the following forms:\n",
    "```\n",
    "(123) 456-7890\n",
    "(123)456-7890\n",
    "1234567890\n",
    "123 456 7890\n",
    "123-456-7890\n",
    "123.456.7890\n",
    "```\n",
    "Store your regular expression in a variable called `re5`."
   ]
  },
  {
   "cell_type": "code",
   "execution_count": null,
   "metadata": {
    "deletable": false,
    "nbgrader": {
     "checksum": "e55a84d10f422191cf4a0516e7a1d8db",
     "grade": false,
     "grade_id": "cell-a13353a08d61254f",
     "locked": false,
     "schema_version": 1,
     "solution": true
    }
   },
   "outputs": [],
   "source": [
    "# YOUR CODE HERE\n",
    "stop()"
   ]
  },
  {
   "cell_type": "code",
   "execution_count": null,
   "metadata": {
    "deletable": false,
    "editable": false,
    "nbgrader": {
     "checksum": "968de849cd6948bd92e1d41b9076eb8c",
     "grade": true,
     "grade_id": "cell-7c9cc92313f4d826",
     "locked": true,
     "points": 2,
     "schema_version": 1,
     "solution": false
    }
   },
   "outputs": [],
   "source": [
    "phone_nums = c(\n",
    "    \"(123) 456-7890\", \"(123)456-7890\", \"1234567890\",\n",
    "    \"123 456 7890\", \"123-456-7890\", \"123.456.7890\")\n",
    "not_phone_nums = c(\"123.456 7890\", \"123-456.7890\", \n",
    "                   \"(123 456 7890\", \"a23.b123.c1234\",\n",
    "                   \"cleveland rocks\"\n",
    "                  )\n",
    "stopifnot(all(str_detect(phone_nums, re5)))\n",
    "stopifnot(! any(str_detect(not_phone_nums, re5)))"
   ]
  },
  {
   "cell_type": "markdown",
   "metadata": {
    "deletable": false,
    "editable": false,
    "nbgrader": {
     "checksum": "d2eb28c1f62cf53d7215b3f55f0f9e1a",
     "grade": false,
     "grade_id": "cell-5bc6a841f10de3fa",
     "locked": true,
     "schema_version": 1,
     "solution": false
    }
   },
   "source": [
    "#### Problem 6\n",
    "In lecture we learned about the `str_trim` function, which trims leading and trailing whitespace from a string:"
   ]
  },
  {
   "cell_type": "code",
   "execution_count": null,
   "metadata": {
    "deletable": false,
    "editable": false,
    "nbgrader": {
     "checksum": "199ed77a299a77bd756f934229ea947e",
     "grade": false,
     "grade_id": "cell-fef96d3a5cd70731",
     "locked": true,
     "schema_version": 1,
     "solution": false
    }
   },
   "outputs": [],
   "source": [
    "str_trim(\"   This will be trimmed \")"
   ]
  },
  {
   "cell_type": "markdown",
   "metadata": {
    "deletable": false,
    "editable": false,
    "nbgrader": {
     "checksum": "666f19827e66f221957449ed78473d1c",
     "grade": false,
     "grade_id": "cell-397d9901f049e37a",
     "locked": true,
     "schema_version": 1,
     "solution": false
    }
   },
   "source": [
    "Create a regular expression which, for a given string `s`, captures the trimmed version of `s` into group 1. That is, for any string `s`, calling `str_replace(s, re1, \"\\\\1\")` should produce the same output as `str_trim(s)`.\n",
    "Store your expression in a variable called `re6`. \n",
    "\n"
   ]
  },
  {
   "cell_type": "code",
   "execution_count": null,
   "metadata": {
    "deletable": false,
    "nbgrader": {
     "checksum": "678df5df1b06db4c9c12df547c34ad32",
     "grade": false,
     "grade_id": "cell-9e5ea1fcb4c72184",
     "locked": false,
     "schema_version": 1,
     "solution": true
    }
   },
   "outputs": [],
   "source": [
    "# YOUR CODE HERE\n",
    "stop()"
   ]
  },
  {
   "cell_type": "code",
   "execution_count": null,
   "metadata": {
    "deletable": false,
    "editable": false,
    "nbgrader": {
     "checksum": "0ce5cbd400110e5245bbec427f40a26f",
     "grade": true,
     "grade_id": "cell-fc1d8647fce477a5",
     "locked": true,
     "points": 2,
     "schema_version": 1,
     "solution": false
    }
   },
   "outputs": [],
   "source": [
    "for (s in c(\n",
    "    \"   this will  be trimmed   \",\n",
    "    \"\\t\\nso will this\\n\\t  \",\n",
    "    \"and this too    \"\n",
    "    )) {\n",
    "    stopifnot(identical(\n",
    "        str_replace(s, re6, \"\\\\1\"),\n",
    "        str_trim(s)))\n",
    "    }"
   ]
  },
  {
   "cell_type": "markdown",
   "metadata": {
    "deletable": false,
    "editable": false,
    "nbgrader": {
     "checksum": "4eb7b04cc78d5b1d018e7be28be9724c",
     "grade": false,
     "grade_id": "cell-718c986a9bef0aca",
     "locked": true,
     "schema_version": 1,
     "solution": false
    }
   },
   "source": [
    "### Reddit dataset\n",
    "The file `reddit_xmas_2017.RData` contains 100,000 comments posted to Reddit on Christmas Day, 2017."
   ]
  },
  {
   "cell_type": "code",
   "execution_count": null,
   "metadata": {
    "deletable": false,
    "editable": false,
    "nbgrader": {
     "checksum": "7ec34324a7611755ee8ad76dc145369b",
     "grade": false,
     "grade_id": "cell-1fa7cd0e5989af42",
     "locked": true,
     "schema_version": 1,
     "solution": false
    }
   },
   "outputs": [],
   "source": [
    "load('reddit_xmas_2017.RData')\n",
    "reddit %>% print"
   ]
  },
  {
   "cell_type": "markdown",
   "metadata": {
    "deletable": false,
    "editable": false,
    "nbgrader": {
     "checksum": "3b49793f5c18aed2b358dfad4cfa8738",
     "grade": false,
     "grade_id": "cell-849387f1fbc6d3aa",
     "locked": true,
     "schema_version": 1,
     "solution": false
    }
   },
   "source": [
    "Problems 7-9 ask you questions about this data set. Unless specified otherwise, all matches are case insensitive.\n",
    "\n",
    "(*Disclaimer*: as we are all aware, the internet is filled with terrible people saying awful things. I filtered out objectionable comments as best I could, but you will certainly find more if you dig around this data for long enough.)"
   ]
  },
  {
   "cell_type": "markdown",
   "metadata": {
    "deletable": false,
    "editable": false,
    "nbgrader": {
     "checksum": "da88fa67c34a20167ad42b847daa946c",
     "grade": false,
     "grade_id": "cell-d055c5ffc0dc61ba",
     "locked": true,
     "schema_version": 1,
     "solution": false
    }
   },
   "source": [
    "### Problem 7\n",
    "Comment 174 wishes everyone a happy holidays:"
   ]
  },
  {
   "cell_type": "code",
   "execution_count": null,
   "metadata": {
    "deletable": false,
    "editable": false,
    "nbgrader": {
     "checksum": "8b62769948ddd6b757ecfd015652bdb6",
     "grade": false,
     "grade_id": "cell-ddc6b4bbd07aed37",
     "locked": true,
     "schema_version": 1,
     "solution": false
    }
   },
   "outputs": [],
   "source": [
    "reddit %>% slice(174)"
   ]
  },
  {
   "cell_type": "markdown",
   "metadata": {
    "deletable": false,
    "editable": false,
    "nbgrader": {
     "checksum": "7a8ddd899d4d22bbe747dcb7ef4bdc66",
     "grade": false,
     "grade_id": "cell-ce3d459d5d49dde1",
     "locked": true,
     "schema_version": 1,
     "solution": false
    }
   },
   "source": [
    "What are other people wishing? Count the first occurrence of the string \"Happy `<word>`\" or \"Merry `<word>`\" in the comment body, if any, summarize the matches in a table called `table7`:\n",
    "\n",
    "<table>\n",
    "<thead><tr><th scope=\"col\">greeting</th><th scope=\"col\">n</th></tr></thead>\n",
    "<tbody>\n",
    "\t<tr><td>Merry Christmas</td><td>2040           </td></tr>\n",
    "\t<tr><td>Happy Holidays </td><td> &mdash;           </td></tr>\n",
    "\t<tr><td>Happy To       </td><td>  &mdash;           </td></tr>\n",
    "\t<tr><td>Merry Xmas     </td><td>  &mdash;      </td></tr>\n",
    "\t<tr><td>Happy With     </td><td>   &mdash;           </td></tr>\n",
    "\t<tr><td>Happy Christmas</td><td>   &mdash;           </td></tr>\n",
    "\t<tr><td>Happy For      </td><td>   &mdash;           </td></tr>\n",
    "\t<tr><td>Happy Cake     </td><td>   &mdash;           </td></tr>\n",
    "\t<tr><td>Happy About    </td><td>   &mdash;           </td></tr>\n",
    "\t<tr><td>Happy And      </td><td>   &mdash;           </td></tr>\n",
    "</tbody>\n",
    "</table>"
   ]
  },
  {
   "cell_type": "code",
   "execution_count": null,
   "metadata": {
    "deletable": false,
    "nbgrader": {
     "checksum": "cfaf57ee4502863abe4a79f34bde2505",
     "grade": false,
     "grade_id": "cell-598790f9071f7c7c",
     "locked": false,
     "schema_version": 1,
     "solution": true
    }
   },
   "outputs": [],
   "source": [
    "table7 <- NA\n",
    "# YOUR CODE HERE\n",
    "stop()"
   ]
  },
  {
   "cell_type": "code",
   "execution_count": null,
   "metadata": {
    "deletable": false,
    "editable": false,
    "nbgrader": {
     "checksum": "cf829bd8f62474da80c3ef6118c21f3d",
     "grade": true,
     "grade_id": "cell-0296cf29c8cadbb6",
     "locked": true,
     "points": 2,
     "schema_version": 1,
     "solution": false
    }
   },
   "outputs": [],
   "source": [
    "stopif(is.na(table7))"
   ]
  },
  {
   "attachments": {
    "image.png": {
     "image/png": "[encoded data removed]"
    }
   },
   "cell_type": "markdown",
   "metadata": {
    "deletable": false,
    "editable": false,
    "nbgrader": {
     "checksum": "13f7e526952a663629aa224d09713c69",
     "grade": false,
     "grade_id": "cell-0868e4922137bd0e",
     "locked": true,
     "schema_version": 1,
     "solution": false
    }
   },
   "source": [
    "### Problem 8\n",
    "The number of hourly mentions of the word `christmas`or `xmas` is:\n",
    "![image.png](attachment:image.png)\n",
    "\n",
    "Make a similar plot for hourly mentions of \"snow\"."
   ]
  },
  {
   "cell_type": "code",
   "execution_count": null,
   "metadata": {
    "deletable": false,
    "nbgrader": {
     "checksum": "70f5e51000504ce5f2d5953c6bed1ca6",
     "grade": true,
     "grade_id": "cell-2eb072f24d1e2cad",
     "locked": false,
     "points": 2,
     "schema_version": 1,
     "solution": true
    }
   },
   "outputs": [],
   "source": [
    "# YOUR CODE HERE\n",
    "stop()"
   ]
  },
  {
   "cell_type": "markdown",
   "metadata": {
    "deletable": false,
    "editable": false,
    "nbgrader": {
     "checksum": "e84045d30e62cc6d1f878d0e4fa4012a",
     "grade": false,
     "grade_id": "cell-20558470b3ffcd4b",
     "locked": true,
     "schema_version": 1,
     "solution": false
    }
   },
   "source": [
    "### Problem 9\n",
    "For this problem define a word to be alphanumeric characters surrounded by word boundaries, i.e. anything that matches the regular expression `re2` that you defined in problem 2. The most common word in the comments is \"the\", which occurs 81,104 times."
   ]
  },
  {
   "cell_type": "code",
   "execution_count": null,
   "metadata": {
    "deletable": false,
    "editable": false,
    "nbgrader": {
     "checksum": "c1366a2f38c9bc99399aeee34418f64e",
     "grade": false,
     "grade_id": "cell-038ba13df5005cbe",
     "locked": true,
     "schema_version": 1,
     "solution": false
    }
   },
   "outputs": [],
   "source": [
    "reddit %>% mutate(c=str_count(body, regex('\\\\bthe\\\\b', ignore_case = T))) %>% summarize(sum(c))"
   ]
  },
  {
   "cell_type": "markdown",
   "metadata": {
    "deletable": false,
    "editable": false,
    "nbgrader": {
     "checksum": "3001bd13f86e0e3b807c59a26f4b27ea",
     "grade": false,
     "grade_id": "cell-b5cf9187093adffe",
     "locked": true,
     "schema_version": 1,
     "solution": false
    }
   },
   "source": [
    "The word `christmas` occurs 4265 times:"
   ]
  },
  {
   "cell_type": "code",
   "execution_count": null,
   "metadata": {
    "deletable": false,
    "editable": false,
    "nbgrader": {
     "checksum": "0bb5196398ae2eadc85827a8f4909e11",
     "grade": false,
     "grade_id": "cell-599b50837d7553b6",
     "locked": true,
     "schema_version": 1,
     "solution": false
    }
   },
   "outputs": [],
   "source": [
    "xmas_re <- regex('\\\\bchristmas\\\\b', ignore_case = T)\n",
    "reddit %>% mutate(c=str_count(body, xmas_re)) %>% summarize(sum(c))"
   ]
  },
  {
   "cell_type": "markdown",
   "metadata": {
    "deletable": false,
    "editable": false,
    "nbgrader": {
     "checksum": "6573af4e74601401700e804a0d0e7b4e",
     "grade": false,
     "grade_id": "cell-7674a04533f8934b",
     "locked": true,
     "schema_version": 1,
     "solution": false
    }
   },
   "source": [
    "The next most common word after \"christmas\" occurs 4151 times. What word is it? Store your answer in the variable `most_common_10`."
   ]
  },
  {
   "cell_type": "code",
   "execution_count": null,
   "metadata": {
    "deletable": false,
    "nbgrader": {
     "checksum": "28545e26b8f67aa86f0b5d4f1228d17e",
     "grade": false,
     "grade_id": "cell-6937d84dd35dccf0",
     "locked": false,
     "schema_version": 1,
     "solution": true
    }
   },
   "outputs": [],
   "source": [
    "most_common_10 <- NA\n",
    "# YOUR CODE HERE\n",
    "stop()"
   ]
  },
  {
   "cell_type": "code",
   "execution_count": null,
   "metadata": {
    "deletable": false,
    "editable": false,
    "nbgrader": {
     "checksum": "cd3d57a0f30e69a7d15a487ede25697c",
     "grade": true,
     "grade_id": "cell-d66f5e9c855b287f",
     "locked": true,
     "points": 4,
     "schema_version": 1,
     "solution": false
    }
   },
   "outputs": [],
   "source": [
    "stopif(is.na(most_common_10))"
   ]
  }
 ],
 "metadata": {
  "kernelspec": {
   "display_name": "R",
   "language": "R",
   "name": "ir"
  },
  "language_info": {
   "codemirror_mode": "r",
   "file_extension": ".r",
   "mimetype": "text/x-r-source",
   "name": "R",
   "pygments_lexer": "r",
   "version": "3.4.4"
  }
 },
 "nbformat": 4,
 "nbformat_minor": 2
}
