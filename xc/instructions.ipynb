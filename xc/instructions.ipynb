{
 "cells": [
  {
   "cell_type": "code",
   "execution_count": 37,
   "metadata": {
    "deletable": false,
    "editable": false,
    "nbgrader": {
     "checksum": "f5f5dd9ce69e5a643326b97f294297d1",
     "grade": false,
     "grade_id": "cell-689a9d2907555534",
     "locked": true,
     "schema_version": 1,
     "solution": false
    }
   },
   "outputs": [
    {
     "data": {
      "text/html": [
       "<link rel='stylesheet' type='text/css' href='css/rb.css' />"
      ]
     },
     "metadata": {},
     "output_type": "display_data"
    }
   ],
   "source": [
    "library(tidyverse)\n",
    "source(\"d_football.R\")\n",
    "IRdisplay::display_html(\"<link rel='stylesheet' type='text/css' href='css/rb.css' />\")"
   ]
  },
  {
   "cell_type": "markdown",
   "metadata": {
    "deletable": false,
    "editable": false,
    "nbgrader": {
     "checksum": "07a28ecbf066040cf06eed03b15b9690",
     "grade": false,
     "grade_id": "cell-e6051a873041dea7",
     "locked": true,
     "schema_version": 1,
     "solution": false
    }
   },
   "source": [
    "(be sure to run the above commands to display everything properly)\n",
    "# STATS 306: Extra credit contest\n",
    "## 🏈 D-Football (\"One-d football\") 🏈\n",
    "The University of Michigan, having failed to beat Ohio State in (three-dimensional) football for some time now, has decided to simplify the problem by focusing on the $d=1$ case: one-dimensional football. The athletics program did not seem excited about the challenge of developing an effective D-football strategy, so the University has turned to the students in STATS 306 for help!\n",
    "\n",
    "## Your assignment\n",
    "You will write a program that plays D-football. The rules and scoring are shown below. The better your program is at playing this game, the more extra credit you will receive. "
   ]
  },
  {
   "cell_type": "markdown",
   "metadata": {
    "deletable": false,
    "editable": false,
    "nbgrader": {
     "checksum": "1b7127083337b5f7f51a643214a9bc6b",
     "grade": false,
     "grade_id": "cell-62cf62f5018ad13e",
     "locked": true,
     "schema_version": 1,
     "solution": false
    }
   },
   "source": [
    "## Rules of the game\n",
    "\n",
    "A D-football board looks like this:\n",
    "\n",
    "<div class=\"output_subarea output_html rendered_html\">\n",
    "<!--?xml version=\"1.0\" encoding=\"UTF-8\"?-->\n",
    "<table class=\"board\">\n",
    "  <tbody><tr class=\"players\">\n",
    "    <td class=\"michigan\"></td>\n",
    "    <td class=\"michigan\"></td>\n",
    "    <td class=\"empty\"></td>\n",
    "    <td class=\"ohio\"></td>\n",
    "    <td class=\"ohio\"></td>\n",
    "  </tr>\n",
    "  <tr class=\"numbers\">\n",
    "    <td>1</td>\n",
    "    <td class=\"valid\">2</td>\n",
    "    <td>3</td>\n",
    "    <td>4</td>\n",
    "    <td>5</td>\n",
    "  </tr>\n",
    "</tbody></table>\n",
    "</div>\n",
    "\n",
    "- Each team starts with $n$ players ($n=2$ above). There are a total of $2n + 1$ squares, with a blank square in the middle.\n",
    "- Michigan starts on the left and moves first.\n",
    "- Ohio starts on the right and moves second.\n",
    "- The teams alternate turns.\n",
    "- During each team's turn, one of their players must move.\n",
    "- Michigan players move from left to right. A Michigan player can move if either:\n",
    "    1. The square immediately to her right in vacant; or\n",
    "    2. The square immediately to her right is occupied by an Ohio player, and the square two to her right is vacant.\n",
    "  \n",
    "  In the first case, the Michigan player moves one square to the right, while in the second case, the Michigan player \"jumps\" the Ohio player, moving two squares to the right, and removing the Ohio player from the board.\n",
    "- The same rules apply to Ohio, except that Ohio pieces move from right to left and jump Michigan pieces.\n",
    "- Pieces cannot move beyond the edge of the board.\n",
    "- **The first team that cannot move loses**."
   ]
  },
  {
   "cell_type": "markdown",
   "metadata": {
    "deletable": false,
    "editable": false,
    "nbgrader": {
     "checksum": "804ce5c1a0084bef448b6a685ef9e794",
     "grade": false,
     "grade_id": "cell-f6cc829627d3a080",
     "locked": true,
     "schema_version": 1,
     "solution": false
    }
   },
   "source": [
    "## Example game\n",
    "It's easiest to understand how the game works with an example.\n",
    "\n",
    "The `new_game(n)` functions initializes a game with $n$ players on each side. A `game` is simply a list with two elements. `game$board` shows the pieces occupying each square, and `game$turn` tells whose turn it is to move. Michigan players are coded as `1` and Ohio as `-1`. Empty squares are coded as `0`."
   ]
  },
  {
   "cell_type": "code",
   "execution_count": 38,
   "metadata": {
    "deletable": false,
    "editable": false,
    "nbgrader": {
     "checksum": "bfe881c6c401ef985fb4c562bc91175d",
     "grade": false,
     "grade_id": "cell-34e8f8f9d9579893",
     "locked": true,
     "schema_version": 1,
     "solution": false
    }
   },
   "outputs": [
    {
     "data": {
      "text/html": [
       "<dl>\n",
       "\t<dt>$board</dt>\n",
       "\t\t<dd><ol class=list-inline>\n",
       "\t<li>1</li>\n",
       "\t<li>1</li>\n",
       "\t<li>0</li>\n",
       "\t<li>-1</li>\n",
       "\t<li>-1</li>\n",
       "</ol>\n",
       "</dd>\n",
       "\t<dt>$turn</dt>\n",
       "\t\t<dd>1</dd>\n",
       "</dl>\n"
      ],
      "text/latex": [
       "\\begin{description}\n",
       "\\item[\\$board] \\begin{enumerate*}\n",
       "\\item 1\n",
       "\\item 1\n",
       "\\item 0\n",
       "\\item -1\n",
       "\\item -1\n",
       "\\end{enumerate*}\n",
       "\n",
       "\\item[\\$turn] 1\n",
       "\\end{description}\n"
      ],
      "text/markdown": [
       "$board\n",
       ":   1. 1\n",
       "2. 1\n",
       "3. 0\n",
       "4. -1\n",
       "5. -1\n",
       "\n",
       "\n",
       "\n",
       "$turn\n",
       ":   1\n",
       "\n",
       "\n"
      ],
      "text/plain": [
       "$board\n",
       "[1]  1  1  0 -1 -1\n",
       "\n",
       "$turn\n",
       "[1] 1\n"
      ]
     },
     "metadata": {},
     "output_type": "display_data"
    }
   ],
   "source": [
    "game <- new_game(2)\n",
    "game"
   ]
  },
  {
   "cell_type": "markdown",
   "metadata": {
    "deletable": false,
    "editable": false,
    "nbgrader": {
     "checksum": "fea2593bdaf71c9fd7d2b85c9f89ac71",
     "grade": false,
     "grade_id": "cell-5a4de5bedcf4a6bf",
     "locked": true,
     "schema_version": 1,
     "solution": false
    }
   },
   "source": [
    "The `print_game(game)` function prints a representation of the game to the notebook. (You must be using Jupyter notebook in order for `print_game()` to work.)"
   ]
  },
  {
   "cell_type": "code",
   "execution_count": 39,
   "metadata": {
    "deletable": false,
    "editable": false,
    "nbgrader": {
     "checksum": "966c5db9506d2274c226465417d47848",
     "grade": false,
     "grade_id": "cell-d4f08a66ffbc3b65",
     "locked": true,
     "schema_version": 1,
     "solution": false
    }
   },
   "outputs": [
    {
     "data": {
      "text/html": [
       "<?xml version=\"1.0\" encoding=\"UTF-8\"?>\n",
       "<style type=\"text/css\">@import url(css/rb.css);</style>\n",
       "<h3 class=\"turn\">\n",
       "  <span class=\"michigan\">Michigan</span>\n",
       "  <span> to move</span>\n",
       "</h3>\n",
       "<table class=\"board\">\n",
       "  <tr class=\"players\">\n",
       "    <td class=\"michigan\"/>\n",
       "    <td class=\"michigan\"/>\n",
       "    <td class=\"empty\"/>\n",
       "    <td class=\"ohio\"/>\n",
       "    <td class=\"ohio\"/>\n",
       "  </tr>\n",
       "  <tr class=\"numbers\">\n",
       "    <td>1</td>\n",
       "    <td class=\"valid\">2</td>\n",
       "    <td>3</td>\n",
       "    <td>4</td>\n",
       "    <td>5</td>\n",
       "  </tr>\n",
       "</table>\n"
      ]
     },
     "metadata": {},
     "output_type": "display_data"
    }
   ],
   "source": [
    "print_game(game)"
   ]
  },
  {
   "cell_type": "markdown",
   "metadata": {
    "deletable": false,
    "editable": false,
    "nbgrader": {
     "checksum": "db2cd86697bb7154de2e04126645d411",
     "grade": false,
     "grade_id": "cell-4a1355762eacc40c",
     "locked": true,
     "schema_version": 1,
     "solution": false
    }
   },
   "source": [
    "It's Michigan's turn to move. The command `whose_turn(game)` prints out the team who must move next, and the `valid_moves(game)` command returns all of the valid moves (squares) for that team. The valid moves are shown in <span style=\"color: #4d4\">green</span> numbers beneath each square. \n",
    "\n",
    "Only the Michigan player in square 2 has a valid move, because square 3 is vacant:"
   ]
  },
  {
   "cell_type": "code",
   "execution_count": 40,
   "metadata": {
    "deletable": false,
    "editable": false,
    "nbgrader": {
     "checksum": "467d656dcf1ec4c53ac030270dbcbdde",
     "grade": false,
     "grade_id": "cell-370d98865aed24a3",
     "locked": true,
     "schema_version": 1,
     "solution": false
    }
   },
   "outputs": [
    {
     "data": {
      "text/html": [
       "'michigan'"
      ],
      "text/latex": [
       "'michigan'"
      ],
      "text/markdown": [
       "'michigan'"
      ],
      "text/plain": [
       "[1] \"michigan\""
      ]
     },
     "metadata": {},
     "output_type": "display_data"
    },
    {
     "data": {
      "text/html": [
       "2"
      ],
      "text/latex": [
       "2"
      ],
      "text/markdown": [
       "2"
      ],
      "text/plain": [
       "[1] 2"
      ]
     },
     "metadata": {},
     "output_type": "display_data"
    }
   ],
   "source": [
    "whose_turn(game)\n",
    "valid_moves(game)"
   ]
  },
  {
   "cell_type": "markdown",
   "metadata": {
    "deletable": false,
    "editable": false,
    "nbgrader": {
     "checksum": "7a941eaba74dd5910df486845e9fd3e3",
     "grade": false,
     "grade_id": "cell-83bf003c52d57a7a",
     "locked": true,
     "schema_version": 1,
     "solution": false
    }
   },
   "source": [
    "The command `make_move(game, square)` moves the player in `square` and returns the updated game. "
   ]
  },
  {
   "cell_type": "code",
   "execution_count": 41,
   "metadata": {
    "deletable": false,
    "editable": false,
    "nbgrader": {
     "checksum": "c42829f14618fc6ca03a888484cb2b4e",
     "grade": false,
     "grade_id": "cell-e09074abd5bb9017",
     "locked": true,
     "schema_version": 1,
     "solution": false
    }
   },
   "outputs": [
    {
     "data": {
      "text/html": [
       "'ohio'"
      ],
      "text/latex": [
       "'ohio'"
      ],
      "text/markdown": [
       "'ohio'"
      ],
      "text/plain": [
       "[1] \"ohio\""
      ]
     },
     "metadata": {},
     "output_type": "display_data"
    },
    {
     "data": {
      "text/html": [
       "4"
      ],
      "text/latex": [
       "4"
      ],
      "text/markdown": [
       "4"
      ],
      "text/plain": [
       "[1] 4"
      ]
     },
     "metadata": {},
     "output_type": "display_data"
    },
    {
     "data": {
      "text/html": [
       "<?xml version=\"1.0\" encoding=\"UTF-8\"?>\n",
       "<style type=\"text/css\">@import url(css/rb.css);</style>\n",
       "<h3 class=\"turn\">\n",
       "  <span class=\"ohio\">Ohio</span>\n",
       "  <span> to move</span>\n",
       "</h3>\n",
       "<table class=\"board\">\n",
       "  <tr class=\"players\">\n",
       "    <td class=\"michigan\"/>\n",
       "    <td class=\"empty last\"/>\n",
       "    <td class=\"michigan last\"/>\n",
       "    <td class=\"ohio\"/>\n",
       "    <td class=\"ohio\"/>\n",
       "  </tr>\n",
       "  <tr class=\"numbers\">\n",
       "    <td>1</td>\n",
       "    <td>2</td>\n",
       "    <td>3</td>\n",
       "    <td class=\"valid\">4</td>\n",
       "    <td>5</td>\n",
       "  </tr>\n",
       "</table>\n"
      ]
     },
     "metadata": {},
     "output_type": "display_data"
    }
   ],
   "source": [
    "game <- make_move(game, 2)\n",
    "whose_turn(game)\n",
    "valid_moves(game)\n",
    "print_game(game)"
   ]
  },
  {
   "cell_type": "markdown",
   "metadata": {
    "deletable": false,
    "editable": false,
    "nbgrader": {
     "checksum": "5d697770dd69f5766ae72c30ff45f9bc",
     "grade": false,
     "grade_id": "cell-f878ee23d378a2ee",
     "locked": true,
     "schema_version": 1,
     "solution": false
    }
   },
   "source": [
    "Michigan's last move (from $2\\to 3$) is highlighted in <span style=\"color: #87CEEB\">blue</span>. Now it is Ohio's turn to move. The only valid move is the Ohio player in square 4, jumping the Michigan player in square 3 and landing in square 2:"
   ]
  },
  {
   "cell_type": "code",
   "execution_count": 42,
   "metadata": {
    "deletable": false,
    "editable": false,
    "nbgrader": {
     "checksum": "6f32c015a19bfad1383fb2666411ed02",
     "grade": false,
     "grade_id": "cell-ecdd786313cb7bb3",
     "locked": true,
     "schema_version": 1,
     "solution": false
    }
   },
   "outputs": [
    {
     "data": {
      "text/html": [
       "<?xml version=\"1.0\" encoding=\"UTF-8\"?>\n",
       "<style type=\"text/css\">@import url(css/rb.css);</style>\n",
       "<h3 class=\"turn\">\n",
       "  <span class=\"michigan\">Michigan</span>\n",
       "  <span> to move</span>\n",
       "</h3>\n",
       "<table class=\"board\">\n",
       "  <tr class=\"players\">\n",
       "    <td class=\"michigan\"/>\n",
       "    <td class=\"ohio last\"/>\n",
       "    <td class=\"empty last michigan-faint\"/>\n",
       "    <td class=\"empty last\"/>\n",
       "    <td class=\"ohio\"/>\n",
       "  </tr>\n",
       "  <tr class=\"numbers\">\n",
       "    <td class=\"valid\">1</td>\n",
       "    <td>2</td>\n",
       "    <td>3</td>\n",
       "    <td>4</td>\n",
       "    <td>5</td>\n",
       "  </tr>\n",
       "</table>\n"
      ]
     },
     "metadata": {},
     "output_type": "display_data"
    }
   ],
   "source": [
    "game <- make_move(game, 4)\n",
    "print_game(game)"
   ]
  },
  {
   "cell_type": "markdown",
   "metadata": {
    "deletable": false,
    "editable": false,
    "nbgrader": {
     "checksum": "f7a0a3d3b8db55fd74c4311237ea8c9c",
     "grade": false,
     "grade_id": "cell-6584f7792744c277",
     "locked": true,
     "schema_version": 1,
     "solution": false
    }
   },
   "source": [
    "Again, Ohio's last move is shown in blue. There is a faint ghost of a Michigan M in square 3, indicating that that player got jumped on the last turn. This is for illustration purposes only, to help you understand how the game works."
   ]
  },
  {
   "cell_type": "markdown",
   "metadata": {
    "deletable": false,
    "editable": false,
    "nbgrader": {
     "checksum": "c3e5b54c6c46abe52cc063055f95d9e4",
     "grade": false,
     "grade_id": "cell-76d6997710740e31",
     "locked": true,
     "schema_version": 1,
     "solution": false
    }
   },
   "source": [
    "We proceed like this for a few more turns:"
   ]
  },
  {
   "cell_type": "code",
   "execution_count": 43,
   "metadata": {
    "deletable": false,
    "editable": false,
    "nbgrader": {
     "checksum": "4b8efcf2a7373d92616e21ff481282b8",
     "grade": false,
     "grade_id": "cell-d9c453999af5d928",
     "locked": true,
     "schema_version": 1,
     "solution": false
    }
   },
   "outputs": [
    {
     "data": {
      "text/html": [
       "<?xml version=\"1.0\" encoding=\"UTF-8\"?>\n",
       "<style type=\"text/css\">@import url(css/rb.css);</style>\n",
       "<h3 class=\"turn\">\n",
       "  <span class=\"ohio\">Ohio</span>\n",
       "  <span> to move</span>\n",
       "</h3>\n",
       "<table class=\"board\">\n",
       "  <tr class=\"players\">\n",
       "    <td class=\"empty last\"/>\n",
       "    <td class=\"empty last ohio-faint\"/>\n",
       "    <td class=\"michigan last\"/>\n",
       "    <td class=\"empty\"/>\n",
       "    <td class=\"ohio\"/>\n",
       "  </tr>\n",
       "  <tr class=\"numbers\">\n",
       "    <td>1</td>\n",
       "    <td>2</td>\n",
       "    <td>3</td>\n",
       "    <td>4</td>\n",
       "    <td class=\"valid\">5</td>\n",
       "  </tr>\n",
       "</table>\n"
      ]
     },
     "metadata": {},
     "output_type": "display_data"
    },
    {
     "data": {
      "text/html": [
       "<?xml version=\"1.0\" encoding=\"UTF-8\"?>\n",
       "<style type=\"text/css\">@import url(css/rb.css);</style>\n",
       "<h3 class=\"turn\">\n",
       "  <span class=\"michigan\">Michigan</span>\n",
       "  <span> to move</span>\n",
       "</h3>\n",
       "<table class=\"board\">\n",
       "  <tr class=\"players\">\n",
       "    <td class=\"empty\"/>\n",
       "    <td class=\"empty\"/>\n",
       "    <td class=\"michigan\"/>\n",
       "    <td class=\"ohio last\"/>\n",
       "    <td class=\"empty last\"/>\n",
       "  </tr>\n",
       "  <tr class=\"numbers\">\n",
       "    <td>1</td>\n",
       "    <td>2</td>\n",
       "    <td class=\"valid\">3</td>\n",
       "    <td>4</td>\n",
       "    <td>5</td>\n",
       "  </tr>\n",
       "</table>\n"
      ]
     },
     "metadata": {},
     "output_type": "display_data"
    }
   ],
   "source": [
    "game <- make_move(game, 1)\n",
    "print_game(game)\n",
    "game <- make_move(game, 5)\n",
    "print_game(game)"
   ]
  },
  {
   "cell_type": "markdown",
   "metadata": {
    "deletable": false,
    "editable": false,
    "nbgrader": {
     "checksum": "9edbeb91faf6993acd50a52db29c8dbe",
     "grade": false,
     "grade_id": "cell-344494fd27aef525",
     "locked": true,
     "schema_version": 1,
     "solution": false
    }
   },
   "source": [
    "Now there is only one valid move remaining: Michigan moves from $3\\to 5$, jumping Ohio's last remaining player. Because Ohio has no remaining pieces, it has no moves remaining, and therefore loses:"
   ]
  },
  {
   "cell_type": "code",
   "execution_count": 44,
   "metadata": {
    "deletable": false,
    "editable": false,
    "nbgrader": {
     "checksum": "ae99b6803adbe2d616edc2ba12dea9cc",
     "grade": false,
     "grade_id": "cell-2f49459df0093be3",
     "locked": true,
     "schema_version": 1,
     "solution": false
    }
   },
   "outputs": [
    {
     "data": {
      "text/html": [
       "<?xml version=\"1.0\" encoding=\"UTF-8\"?>\n",
       "<style type=\"text/css\">@import url(css/rb.css);</style>\n",
       "<h3 class=\"turn\">\n",
       "  <span class=\"ohio\">Ohio</span>\n",
       "  <span> loses!</span>\n",
       "</h3>\n",
       "<table class=\"board\">\n",
       "  <tr class=\"players\">\n",
       "    <td class=\"empty\"/>\n",
       "    <td class=\"empty\"/>\n",
       "    <td class=\"empty last\"/>\n",
       "    <td class=\"empty last ohio-faint\"/>\n",
       "    <td class=\"michigan last\"/>\n",
       "  </tr>\n",
       "  <tr class=\"numbers\">\n",
       "    <td>1</td>\n",
       "    <td>2</td>\n",
       "    <td>3</td>\n",
       "    <td>4</td>\n",
       "    <td>5</td>\n",
       "  </tr>\n",
       "</table>\n"
      ]
     },
     "metadata": {},
     "output_type": "display_data"
    }
   ],
   "source": [
    "game <- make_move(game, 3)\n",
    "print_game(game)"
   ]
  },
  {
   "cell_type": "markdown",
   "metadata": {
    "deletable": false,
    "editable": false,
    "nbgrader": {
     "checksum": "65a01fb14ed45ae604a649bf057909e3",
     "grade": false,
     "grade_id": "cell-216ff1471bd1ad85",
     "locked": true,
     "schema_version": 1,
     "solution": false
    }
   },
   "source": [
    "Calling `valid_moves(game)` returns an empty vector, indicating that there are no moves remaining:"
   ]
  },
  {
   "cell_type": "code",
   "execution_count": 45,
   "metadata": {
    "deletable": false,
    "editable": false,
    "nbgrader": {
     "checksum": "b5323f3884e1e3f4a23029e6ce042596",
     "grade": false,
     "grade_id": "cell-752027ec37d58c6d",
     "locked": true,
     "schema_version": 1,
     "solution": false
    }
   },
   "outputs": [
    {
     "data": {
      "text/html": [],
      "text/latex": [],
      "text/markdown": [],
      "text/plain": [
       "integer(0)"
      ]
     },
     "metadata": {},
     "output_type": "display_data"
    }
   ],
   "source": [
    "valid_moves(game)"
   ]
  },
  {
   "cell_type": "markdown",
   "metadata": {
    "deletable": false,
    "editable": false,
    "nbgrader": {
     "checksum": "24044efc18fbbf0793229f71bc9b535d",
     "grade": false,
     "grade_id": "cell-50f562ac912f821a",
     "locked": true,
     "schema_version": 1,
     "solution": false
    }
   },
   "source": [
    "### Other examples of losing positions\n",
    "It's Michigan's turn to move. But Michigan's only remaining player is at square 5 and cannot move:"
   ]
  },
  {
   "cell_type": "code",
   "execution_count": 46,
   "metadata": {
    "deletable": false,
    "editable": false,
    "nbgrader": {
     "checksum": "bdd063c2a9fba391cb916b22ab6d1dfe",
     "grade": false,
     "grade_id": "cell-9b0571a4289830eb",
     "locked": true,
     "schema_version": 1,
     "solution": false
    }
   },
   "outputs": [
    {
     "data": {
      "text/html": [
       "<?xml version=\"1.0\" encoding=\"UTF-8\"?>\n",
       "<style type=\"text/css\">@import url(css/rb.css);</style>\n",
       "<h3 class=\"turn\">\n",
       "  <span class=\"michigan\">Michigan</span>\n",
       "  <span> loses!</span>\n",
       "</h3>\n",
       "<table class=\"board\">\n",
       "  <tr class=\"players\">\n",
       "    <td class=\"empty\"/>\n",
       "    <td class=\"empty\"/>\n",
       "    <td class=\"empty\"/>\n",
       "    <td class=\"ohio\"/>\n",
       "    <td class=\"michigan\"/>\n",
       "  </tr>\n",
       "  <tr class=\"numbers\">\n",
       "    <td>1</td>\n",
       "    <td>2</td>\n",
       "    <td>3</td>\n",
       "    <td>4</td>\n",
       "    <td>5</td>\n",
       "  </tr>\n",
       "</table>\n"
      ]
     },
     "metadata": {},
     "output_type": "display_data"
    },
    {
     "data": {
      "text/html": [],
      "text/latex": [],
      "text/markdown": [],
      "text/plain": [
       "integer(0)"
      ]
     },
     "metadata": {},
     "output_type": "display_data"
    }
   ],
   "source": [
    "game <- list(board = c(0, 0, 0, -1, 1), turn = 1)\n",
    "print_game(game)\n",
    "valid_moves(game)"
   ]
  },
  {
   "cell_type": "markdown",
   "metadata": {
    "deletable": false,
    "editable": false,
    "nbgrader": {
     "checksum": "8a14c0f736d9edcc115513e1504d8619",
     "grade": false,
     "grade_id": "cell-0b55c8240efd7629",
     "locked": true,
     "schema_version": 1,
     "solution": false
    }
   },
   "source": [
    "---\n",
    "\n",
    "Ohio does not have any valid remaining moves, because it can only jump one Michigan player at a time:"
   ]
  },
  {
   "cell_type": "code",
   "execution_count": 47,
   "metadata": {
    "deletable": false,
    "editable": false,
    "nbgrader": {
     "checksum": "1d3727905e38ccf521885464ab0c760c",
     "grade": false,
     "grade_id": "cell-c8903a5c35a898c4",
     "locked": true,
     "schema_version": 1,
     "solution": false
    }
   },
   "outputs": [
    {
     "data": {
      "text/html": [
       "<?xml version=\"1.0\" encoding=\"UTF-8\"?>\n",
       "<style type=\"text/css\">@import url(css/rb.css);</style>\n",
       "<h3 class=\"turn\">\n",
       "  <span class=\"ohio\">Ohio</span>\n",
       "  <span> loses!</span>\n",
       "</h3>\n",
       "<table class=\"board\">\n",
       "  <tr class=\"players\">\n",
       "    <td class=\"empty\"/>\n",
       "    <td class=\"michigan\"/>\n",
       "    <td class=\"michigan\"/>\n",
       "    <td class=\"ohio\"/>\n",
       "    <td class=\"empty\"/>\n",
       "  </tr>\n",
       "  <tr class=\"numbers\">\n",
       "    <td>1</td>\n",
       "    <td>2</td>\n",
       "    <td>3</td>\n",
       "    <td>4</td>\n",
       "    <td>5</td>\n",
       "  </tr>\n",
       "</table>\n"
      ]
     },
     "metadata": {},
     "output_type": "display_data"
    },
    {
     "data": {
      "text/html": [],
      "text/latex": [],
      "text/markdown": [],
      "text/plain": [
       "integer(0)"
      ]
     },
     "metadata": {},
     "output_type": "display_data"
    }
   ],
   "source": [
    "game <- list(board = c(0, 1, 1, -1, 0), turn = -1)\n",
    "print_game(game)\n",
    "valid_moves(game)"
   ]
  },
  {
   "cell_type": "markdown",
   "metadata": {
    "deletable": false,
    "editable": false,
    "nbgrader": {
     "checksum": "44a707b28e1928725bc4d4b0350027c6",
     "grade": false,
     "grade_id": "cell-6cd84daffa54e6ca",
     "locked": true,
     "schema_version": 1,
     "solution": false
    }
   },
   "source": [
    "## Strategies\n",
    "\n",
    "A *strategy* is a defined to be function that takes as input a game in which it is Michigan's turn to move, and returns as output a move for Michigan to play:\n",
    "```{r}\n",
    "strategy <- function(game) {\n",
    "    <decide which move Michigan should make>\n",
    "    return(move_for_michigan)\n",
    "}\n",
    "```\n",
    "\n",
    "(We can always assume that it is Michigan's turn because any strategy that works for Michigan can be turned into an Ohio strategy by simply interchanging the roles of Michigan and Ohio.)"
   ]
  },
  {
   "cell_type": "markdown",
   "metadata": {
    "deletable": false,
    "editable": false,
    "nbgrader": {
     "checksum": "eaf22a1f2690bcd6ae844d7b3df0adda",
     "grade": false,
     "grade_id": "cell-e4bc2e9e4380fc12",
     "locked": true,
     "schema_version": 1,
     "solution": false
    }
   },
   "source": [
    "### Random move strategy\n",
    "Here is a simple example of a strategy: randomly select one of the valid moves."
   ]
  },
  {
   "cell_type": "code",
   "execution_count": 48,
   "metadata": {
    "deletable": false,
    "editable": false,
    "nbgrader": {
     "checksum": "04de32d9cfc56452959eb9211a933451",
     "grade": false,
     "grade_id": "cell-4ca955c864d7c9b7",
     "locked": true,
     "schema_version": 1,
     "solution": false
    }
   },
   "outputs": [],
   "source": [
    "random_move <- function(game) { \n",
    "    v <- valid_moves(game)\n",
    "    v[[sample(length(v), 1)]]\n",
    "}"
   ]
  },
  {
   "cell_type": "markdown",
   "metadata": {
    "deletable": false,
    "editable": false,
    "nbgrader": {
     "checksum": "8ed993c5db633243c541d241b038e142",
     "grade": false,
     "grade_id": "cell-3f6d4ccfa9d3d3c0",
     "locked": true,
     "schema_version": 1,
     "solution": false
    }
   },
   "source": [
    "### Prefer jumps strategy\n",
    "A slightly smarter strategy is to pick a move that jumps one of the Ohio players whenever possible:"
   ]
  },
  {
   "cell_type": "code",
   "execution_count": 49,
   "metadata": {
    "deletable": false,
    "editable": false,
    "nbgrader": {
     "checksum": "229c2dde4b565d537bee4b4cab5ac479",
     "grade": false,
     "grade_id": "cell-65c7df9872f0e2c1",
     "locked": true,
     "schema_version": 1,
     "solution": false
    }
   },
   "outputs": [],
   "source": [
    "prefer_jumps <- function(game) {\n",
    "    b <- game$board\n",
    "    m <- which((b == 1) &  # michigan occupies square\n",
    "               (dplyr::lead(b) == -1) &  # ohio occupies square to right\n",
    "               (dplyr::lead(b, 2) == 0))  # square two to right is empty\n",
    "    if (length(m) == 0)\n",
    "        return(valid_moves(game)[[1]])\n",
    "    m[[1]]\n",
    "}"
   ]
  },
  {
   "cell_type": "markdown",
   "metadata": {
    "deletable": false,
    "editable": false,
    "nbgrader": {
     "checksum": "51d7008a4a500132d9fb5b15bcb84ccf",
     "grade": false,
     "grade_id": "cell-5e2aa577128076e0",
     "locked": true,
     "schema_version": 1,
     "solution": false
    }
   },
   "source": [
    "Let's see how these two strategies compare by playing them against one another. \n",
    "\n",
    "The `play_game(strategy1, strategy2, n)` function will play a complete game with $n$ players, with Michigan controlled by `strategy1` and Ohio controlled by `strategy2`. The return value is the name of the winning team:"
   ]
  },
  {
   "cell_type": "code",
   "execution_count": 50,
   "metadata": {
    "deletable": false,
    "editable": false,
    "nbgrader": {
     "checksum": "bdfcc14146b86545dc873f93c3c3d781",
     "grade": false,
     "grade_id": "cell-b152443cd6d6de09",
     "locked": true,
     "schema_version": 1,
     "solution": false
    }
   },
   "outputs": [
    {
     "data": {
      "text/html": [
       "'ohio'"
      ],
      "text/latex": [
       "'ohio'"
      ],
      "text/markdown": [
       "'ohio'"
      ],
      "text/plain": [
       "[1] \"ohio\""
      ]
     },
     "metadata": {},
     "output_type": "display_data"
    }
   ],
   "source": [
    "play_game(mi_strategy = random_move, oh_strategy = prefer_jumps, n = 11)"
   ]
  },
  {
   "cell_type": "markdown",
   "metadata": {
    "deletable": false,
    "editable": false,
    "nbgrader": {
     "checksum": "94293c8d2cdb850958a707c01935652f",
     "grade": false,
     "grade_id": "cell-7613ecad334058a5",
     "locked": true,
     "schema_version": 1,
     "solution": false
    }
   },
   "source": [
    "Passing the `disp=True` option to `play_game` will print out the game after each move and can be useful for debugging. Warning: if $n$ is large, this will print a lot of output!"
   ]
  },
  {
   "cell_type": "code",
   "execution_count": 51,
   "metadata": {
    "deletable": false,
    "editable": false,
    "nbgrader": {
     "checksum": "bb58604f1a3164f419085b17e268faf1",
     "grade": false,
     "grade_id": "cell-fa394a7628898291",
     "locked": true,
     "schema_version": 1,
     "solution": false
    }
   },
   "outputs": [
    {
     "data": {
      "text/html": [
       "<?xml version=\"1.0\" encoding=\"UTF-8\"?>\n",
       "<style type=\"text/css\">@import url(css/rb.css);</style>\n",
       "<h3 class=\"turn\">\n",
       "  <span class=\"michigan\">Michigan</span>\n",
       "  <span> to move</span>\n",
       "</h3>\n",
       "<table class=\"board\">\n",
       "  <tr class=\"players\">\n",
       "    <td class=\"michigan\"/>\n",
       "    <td class=\"michigan\"/>\n",
       "    <td class=\"michigan\"/>\n",
       "    <td class=\"empty\"/>\n",
       "    <td class=\"ohio\"/>\n",
       "    <td class=\"ohio\"/>\n",
       "    <td class=\"ohio\"/>\n",
       "  </tr>\n",
       "  <tr class=\"numbers\">\n",
       "    <td>1</td>\n",
       "    <td>2</td>\n",
       "    <td class=\"valid\">3</td>\n",
       "    <td>4</td>\n",
       "    <td>5</td>\n",
       "    <td>6</td>\n",
       "    <td>7</td>\n",
       "  </tr>\n",
       "</table>\n"
      ]
     },
     "metadata": {},
     "output_type": "display_data"
    },
    {
     "data": {
      "text/html": [
       "<?xml version=\"1.0\" encoding=\"UTF-8\"?>\n",
       "<style type=\"text/css\">@import url(css/rb.css);</style>\n",
       "<h3 class=\"turn\">\n",
       "  <span class=\"ohio\">Ohio</span>\n",
       "  <span> to move</span>\n",
       "</h3>\n",
       "<table class=\"board\">\n",
       "  <tr class=\"players\">\n",
       "    <td class=\"michigan\"/>\n",
       "    <td class=\"michigan\"/>\n",
       "    <td class=\"empty last\"/>\n",
       "    <td class=\"michigan last\"/>\n",
       "    <td class=\"ohio\"/>\n",
       "    <td class=\"ohio\"/>\n",
       "    <td class=\"ohio\"/>\n",
       "  </tr>\n",
       "  <tr class=\"numbers\">\n",
       "    <td>1</td>\n",
       "    <td>2</td>\n",
       "    <td>3</td>\n",
       "    <td>4</td>\n",
       "    <td class=\"valid\">5</td>\n",
       "    <td>6</td>\n",
       "    <td>7</td>\n",
       "  </tr>\n",
       "</table>\n"
      ]
     },
     "metadata": {},
     "output_type": "display_data"
    },
    {
     "data": {
      "text/html": [
       "<?xml version=\"1.0\" encoding=\"UTF-8\"?>\n",
       "<style type=\"text/css\">@import url(css/rb.css);</style>\n",
       "<h3 class=\"turn\">\n",
       "  <span class=\"michigan\">Michigan</span>\n",
       "  <span> to move</span>\n",
       "</h3>\n",
       "<table class=\"board\">\n",
       "  <tr class=\"players\">\n",
       "    <td class=\"michigan\"/>\n",
       "    <td class=\"michigan\"/>\n",
       "    <td class=\"ohio last\"/>\n",
       "    <td class=\"empty last michigan-faint\"/>\n",
       "    <td class=\"empty last\"/>\n",
       "    <td class=\"ohio\"/>\n",
       "    <td class=\"ohio\"/>\n",
       "  </tr>\n",
       "  <tr class=\"numbers\">\n",
       "    <td>1</td>\n",
       "    <td class=\"valid\">2</td>\n",
       "    <td>3</td>\n",
       "    <td>4</td>\n",
       "    <td>5</td>\n",
       "    <td>6</td>\n",
       "    <td>7</td>\n",
       "  </tr>\n",
       "</table>\n"
      ]
     },
     "metadata": {},
     "output_type": "display_data"
    },
    {
     "data": {
      "text/html": [
       "<?xml version=\"1.0\" encoding=\"UTF-8\"?>\n",
       "<style type=\"text/css\">@import url(css/rb.css);</style>\n",
       "<h3 class=\"turn\">\n",
       "  <span class=\"ohio\">Ohio</span>\n",
       "  <span> to move</span>\n",
       "</h3>\n",
       "<table class=\"board\">\n",
       "  <tr class=\"players\">\n",
       "    <td class=\"michigan\"/>\n",
       "    <td class=\"empty last\"/>\n",
       "    <td class=\"empty last ohio-faint\"/>\n",
       "    <td class=\"michigan last\"/>\n",
       "    <td class=\"empty\"/>\n",
       "    <td class=\"ohio\"/>\n",
       "    <td class=\"ohio\"/>\n",
       "  </tr>\n",
       "  <tr class=\"numbers\">\n",
       "    <td>1</td>\n",
       "    <td>2</td>\n",
       "    <td>3</td>\n",
       "    <td>4</td>\n",
       "    <td>5</td>\n",
       "    <td class=\"valid\">6</td>\n",
       "    <td>7</td>\n",
       "  </tr>\n",
       "</table>\n"
      ]
     },
     "metadata": {},
     "output_type": "display_data"
    },
    {
     "data": {
      "text/html": [
       "<?xml version=\"1.0\" encoding=\"UTF-8\"?>\n",
       "<style type=\"text/css\">@import url(css/rb.css);</style>\n",
       "<h3 class=\"turn\">\n",
       "  <span class=\"michigan\">Michigan</span>\n",
       "  <span> to move</span>\n",
       "</h3>\n",
       "<table class=\"board\">\n",
       "  <tr class=\"players\">\n",
       "    <td class=\"michigan\"/>\n",
       "    <td class=\"empty\"/>\n",
       "    <td class=\"empty\"/>\n",
       "    <td class=\"michigan\"/>\n",
       "    <td class=\"ohio last\"/>\n",
       "    <td class=\"empty last\"/>\n",
       "    <td class=\"ohio\"/>\n",
       "  </tr>\n",
       "  <tr class=\"numbers\">\n",
       "    <td class=\"valid\">1</td>\n",
       "    <td>2</td>\n",
       "    <td>3</td>\n",
       "    <td class=\"valid\">4</td>\n",
       "    <td>5</td>\n",
       "    <td>6</td>\n",
       "    <td>7</td>\n",
       "  </tr>\n",
       "</table>\n"
      ]
     },
     "metadata": {},
     "output_type": "display_data"
    },
    {
     "data": {
      "text/html": [
       "<?xml version=\"1.0\" encoding=\"UTF-8\"?>\n",
       "<style type=\"text/css\">@import url(css/rb.css);</style>\n",
       "<h3 class=\"turn\">\n",
       "  <span class=\"ohio\">Ohio</span>\n",
       "  <span> to move</span>\n",
       "</h3>\n",
       "<table class=\"board\">\n",
       "  <tr class=\"players\">\n",
       "    <td class=\"empty last\"/>\n",
       "    <td class=\"michigan last\"/>\n",
       "    <td class=\"empty\"/>\n",
       "    <td class=\"michigan\"/>\n",
       "    <td class=\"ohio\"/>\n",
       "    <td class=\"empty\"/>\n",
       "    <td class=\"ohio\"/>\n",
       "  </tr>\n",
       "  <tr class=\"numbers\">\n",
       "    <td>1</td>\n",
       "    <td>2</td>\n",
       "    <td>3</td>\n",
       "    <td>4</td>\n",
       "    <td class=\"valid\">5</td>\n",
       "    <td>6</td>\n",
       "    <td class=\"valid\">7</td>\n",
       "  </tr>\n",
       "</table>\n"
      ]
     },
     "metadata": {},
     "output_type": "display_data"
    },
    {
     "data": {
      "text/html": [
       "<?xml version=\"1.0\" encoding=\"UTF-8\"?>\n",
       "<style type=\"text/css\">@import url(css/rb.css);</style>\n",
       "<h3 class=\"turn\">\n",
       "  <span class=\"michigan\">Michigan</span>\n",
       "  <span> to move</span>\n",
       "</h3>\n",
       "<table class=\"board\">\n",
       "  <tr class=\"players\">\n",
       "    <td class=\"empty\"/>\n",
       "    <td class=\"michigan\"/>\n",
       "    <td class=\"ohio last\"/>\n",
       "    <td class=\"empty last michigan-faint\"/>\n",
       "    <td class=\"empty last\"/>\n",
       "    <td class=\"empty\"/>\n",
       "    <td class=\"ohio\"/>\n",
       "  </tr>\n",
       "  <tr class=\"numbers\">\n",
       "    <td>1</td>\n",
       "    <td class=\"valid\">2</td>\n",
       "    <td>3</td>\n",
       "    <td>4</td>\n",
       "    <td>5</td>\n",
       "    <td>6</td>\n",
       "    <td>7</td>\n",
       "  </tr>\n",
       "</table>\n"
      ]
     },
     "metadata": {},
     "output_type": "display_data"
    },
    {
     "data": {
      "text/html": [
       "<?xml version=\"1.0\" encoding=\"UTF-8\"?>\n",
       "<style type=\"text/css\">@import url(css/rb.css);</style>\n",
       "<h3 class=\"turn\">\n",
       "  <span class=\"ohio\">Ohio</span>\n",
       "  <span> to move</span>\n",
       "</h3>\n",
       "<table class=\"board\">\n",
       "  <tr class=\"players\">\n",
       "    <td class=\"empty\"/>\n",
       "    <td class=\"empty last\"/>\n",
       "    <td class=\"empty last ohio-faint\"/>\n",
       "    <td class=\"michigan last\"/>\n",
       "    <td class=\"empty\"/>\n",
       "    <td class=\"empty\"/>\n",
       "    <td class=\"ohio\"/>\n",
       "  </tr>\n",
       "  <tr class=\"numbers\">\n",
       "    <td>1</td>\n",
       "    <td>2</td>\n",
       "    <td>3</td>\n",
       "    <td>4</td>\n",
       "    <td>5</td>\n",
       "    <td>6</td>\n",
       "    <td class=\"valid\">7</td>\n",
       "  </tr>\n",
       "</table>\n"
      ]
     },
     "metadata": {},
     "output_type": "display_data"
    },
    {
     "data": {
      "text/html": [
       "<?xml version=\"1.0\" encoding=\"UTF-8\"?>\n",
       "<style type=\"text/css\">@import url(css/rb.css);</style>\n",
       "<h3 class=\"turn\">\n",
       "  <span class=\"michigan\">Michigan</span>\n",
       "  <span> to move</span>\n",
       "</h3>\n",
       "<table class=\"board\">\n",
       "  <tr class=\"players\">\n",
       "    <td class=\"empty\"/>\n",
       "    <td class=\"empty\"/>\n",
       "    <td class=\"empty\"/>\n",
       "    <td class=\"michigan\"/>\n",
       "    <td class=\"empty\"/>\n",
       "    <td class=\"ohio last\"/>\n",
       "    <td class=\"empty last\"/>\n",
       "  </tr>\n",
       "  <tr class=\"numbers\">\n",
       "    <td>1</td>\n",
       "    <td>2</td>\n",
       "    <td>3</td>\n",
       "    <td class=\"valid\">4</td>\n",
       "    <td>5</td>\n",
       "    <td>6</td>\n",
       "    <td>7</td>\n",
       "  </tr>\n",
       "</table>\n"
      ]
     },
     "metadata": {},
     "output_type": "display_data"
    },
    {
     "data": {
      "text/html": [
       "<?xml version=\"1.0\" encoding=\"UTF-8\"?>\n",
       "<style type=\"text/css\">@import url(css/rb.css);</style>\n",
       "<h3 class=\"turn\">\n",
       "  <span class=\"ohio\">Ohio</span>\n",
       "  <span> to move</span>\n",
       "</h3>\n",
       "<table class=\"board\">\n",
       "  <tr class=\"players\">\n",
       "    <td class=\"empty\"/>\n",
       "    <td class=\"empty\"/>\n",
       "    <td class=\"empty\"/>\n",
       "    <td class=\"empty last\"/>\n",
       "    <td class=\"michigan last\"/>\n",
       "    <td class=\"ohio\"/>\n",
       "    <td class=\"empty\"/>\n",
       "  </tr>\n",
       "  <tr class=\"numbers\">\n",
       "    <td>1</td>\n",
       "    <td>2</td>\n",
       "    <td>3</td>\n",
       "    <td>4</td>\n",
       "    <td>5</td>\n",
       "    <td class=\"valid\">6</td>\n",
       "    <td>7</td>\n",
       "  </tr>\n",
       "</table>\n"
      ]
     },
     "metadata": {},
     "output_type": "display_data"
    },
    {
     "data": {
      "text/html": [
       "<?xml version=\"1.0\" encoding=\"UTF-8\"?>\n",
       "<style type=\"text/css\">@import url(css/rb.css);</style>\n",
       "<h3 class=\"turn\">\n",
       "  <span class=\"michigan\">Michigan</span>\n",
       "  <span> loses!</span>\n",
       "</h3>\n",
       "<table class=\"board\">\n",
       "  <tr class=\"players\">\n",
       "    <td class=\"empty\"/>\n",
       "    <td class=\"empty\"/>\n",
       "    <td class=\"empty\"/>\n",
       "    <td class=\"ohio last\"/>\n",
       "    <td class=\"empty last michigan-faint\"/>\n",
       "    <td class=\"empty last\"/>\n",
       "    <td class=\"empty\"/>\n",
       "  </tr>\n",
       "  <tr class=\"numbers\">\n",
       "    <td>1</td>\n",
       "    <td>2</td>\n",
       "    <td>3</td>\n",
       "    <td>4</td>\n",
       "    <td>5</td>\n",
       "    <td>6</td>\n",
       "    <td>7</td>\n",
       "  </tr>\n",
       "</table>\n"
      ]
     },
     "metadata": {},
     "output_type": "display_data"
    },
    {
     "data": {
      "text/html": [
       "'ohio'"
      ],
      "text/latex": [
       "'ohio'"
      ],
      "text/markdown": [
       "'ohio'"
      ],
      "text/plain": [
       "[1] \"ohio\""
      ]
     },
     "metadata": {},
     "output_type": "display_data"
    }
   ],
   "source": [
    "play_game(mi_strategy = random_move, oh_strategy = prefer_jumps, n = 3, disp = T)"
   ]
  },
  {
   "cell_type": "markdown",
   "metadata": {
    "deletable": false,
    "editable": false,
    "nbgrader": {
     "checksum": "66b1460c252ffeabef4f6e8cc1637214",
     "grade": false,
     "grade_id": "cell-d49f0a0fedbf5f1e",
     "locked": true,
     "schema_version": 1,
     "solution": false
    }
   },
   "source": [
    "Let's try doing this 100 times using the same strategy for both teams:"
   ]
  },
  {
   "cell_type": "code",
   "execution_count": 52,
   "metadata": {
    "deletable": false,
    "editable": false,
    "nbgrader": {
     "checksum": "a7140e09f502a67d9f92ae8ea9da75c5",
     "grade": false,
     "grade_id": "cell-dfcd60f3f3ab8094",
     "locked": true,
     "schema_version": 1,
     "solution": false
    }
   },
   "outputs": [
    {
     "data": {
      "text/plain": [
       "results\n",
       "michigan     ohio \n",
       "      53       47 "
      ]
     },
     "metadata": {},
     "output_type": "display_data"
    }
   ],
   "source": [
    "set.seed(1)\n",
    "results <- vector(\"character\", 100)\n",
    "for (i in 1:100) {\n",
    "    results[[i]] <- play_game(mi_strategy = random_move, \n",
    "                              oh_strategy = random_move, \n",
    "                              n = 11)\n",
    "}\n",
    "table(results)"
   ]
  },
  {
   "cell_type": "markdown",
   "metadata": {
    "deletable": false,
    "editable": false,
    "nbgrader": {
     "checksum": "1991ca27f5c26fac7e7849c8ff91d9a1",
     "grade": false,
     "grade_id": "cell-b0b01f06183dcfde",
     "locked": true,
     "schema_version": 1,
     "solution": false
    }
   },
   "source": [
    "Not surprisingly, Michigan and Ohio win about an equal number of times, with Michigan winning a few more because it has the advantage of getting to move first."
   ]
  },
  {
   "cell_type": "markdown",
   "metadata": {
    "deletable": false,
    "editable": false,
    "nbgrader": {
     "checksum": "46a113e343fd7820d7ffe46dcd93442e",
     "grade": false,
     "grade_id": "cell-2554ec168d72dde1",
     "locked": true,
     "schema_version": 1,
     "solution": false
    }
   },
   "source": [
    "To eliminate the first-mover advantage, the function `play_repeatedly(strategy1, strategy2, k, n)` will repeatedly play `strategy1` against `strategy2` and record the winner. It will do this a total of $2k$ times, with each strategy getting to go first for a total of $k$ times. (The number $n$ controls how many players are in each game and defaults to 11.) The return value is a vector with two named entries `1` and `2` showing how many times the respective strategies won.\n",
    "\n",
    "If we play any strategy against itself a large number of times, the results should be almost tied:"
   ]
  },
  {
   "cell_type": "code",
   "execution_count": 53,
   "metadata": {
    "deletable": false,
    "editable": false,
    "nbgrader": {
     "checksum": "774ba3386d527f4f197a593640d32579",
     "grade": false,
     "grade_id": "cell-507af1643fa5d18f",
     "locked": true,
     "schema_version": 1,
     "solution": false
    }
   },
   "outputs": [
    {
     "name": "stdout",
     "output_type": "stream",
     "text": [
      "strategy1 strategy2 \n",
      "       19        21 \n",
      "strategy1 strategy2 \n",
      "       20        20 \n"
     ]
    }
   ],
   "source": [
    "for (s in list(random_move, prefer_jumps))\n",
    "    print(play_repeatedly(s, s, k = 20, n = 5))"
   ]
  },
  {
   "cell_type": "markdown",
   "metadata": {
    "deletable": false,
    "editable": false,
    "nbgrader": {
     "checksum": "e7755553579f0b7982e69a270d3993eb",
     "grade": false,
     "grade_id": "cell-23f8544746f32e13",
     "locked": true,
     "schema_version": 1,
     "solution": false
    }
   },
   "source": [
    "On the other hand, the `prefer_jumps()` strategy is smarter, and beats `random_move()` almost always:"
   ]
  },
  {
   "cell_type": "code",
   "execution_count": 54,
   "metadata": {
    "deletable": false,
    "editable": false,
    "nbgrader": {
     "checksum": "d1fd57b57af178e15c39ee4af71cf580",
     "grade": false,
     "grade_id": "cell-272585eebaecda00",
     "locked": true,
     "schema_version": 1,
     "solution": false
    }
   },
   "outputs": [
    {
     "data": {
      "text/html": [
       "<dl class=dl-horizontal>\n",
       "\t<dt>strategy1</dt>\n",
       "\t\t<dd>36</dd>\n",
       "\t<dt>strategy2</dt>\n",
       "\t\t<dd>4</dd>\n",
       "</dl>\n"
      ],
      "text/latex": [
       "\\begin{description*}\n",
       "\\item[strategy1] 36\n",
       "\\item[strategy2] 4\n",
       "\\end{description*}\n"
      ],
      "text/markdown": [
       "strategy1\n",
       ":   36strategy2\n",
       ":   4\n",
       "\n"
      ],
      "text/plain": [
       "strategy1 strategy2 \n",
       "       36         4 "
      ]
     },
     "metadata": {},
     "output_type": "display_data"
    }
   ],
   "source": [
    "play_repeatedly(strategy1 = prefer_jumps, strategy2 = random_move, k = 20, n = 5)"
   ]
  },
  {
   "cell_type": "markdown",
   "metadata": {
    "deletable": false,
    "editable": false,
    "nbgrader": {
     "checksum": "7735a55494f5db9fbb75e900797ad2b8",
     "grade": false,
     "grade_id": "cell-e9b041e9d2f44b34",
     "locked": true,
     "schema_version": 1,
     "solution": false
    }
   },
   "source": [
    "## Your assignment\n",
    "\n",
    "You job is to create a winning strategy for D-football by filling in the following function:"
   ]
  },
  {
   "cell_type": "code",
   "execution_count": 55,
   "metadata": {
    "deletable": false,
    "nbgrader": {
     "checksum": "1db272c93ecd943f6915478267d37310",
     "grade": false,
     "grade_id": "strategy-cell",
     "locked": false,
     "schema_version": 1,
     "solution": true
    }
   },
   "outputs": [],
   "source": [
    "my_strategy <- function(game) {\n",
    "    # YOUR CODE HERE\n",
    "    stop()\n",
    "}"
   ]
  },
  {
   "cell_type": "markdown",
   "metadata": {
    "deletable": false,
    "editable": false,
    "nbgrader": {
     "checksum": "8556e9594472546cb109cafe75e631bd",
     "grade": false,
     "grade_id": "cell-1c6797ce7b186878",
     "locked": true,
     "schema_version": 1,
     "solution": false
    }
   },
   "source": [
    "The following cell runs a few preliminary tests on your strategy:"
   ]
  },
  {
   "cell_type": "code",
   "execution_count": 56,
   "metadata": {
    "deletable": false,
    "editable": false,
    "nbgrader": {
     "checksum": "e2c00a63712eac3c494658b282d244a0",
     "grade": false,
     "grade_id": "cell-172ab17ae33c8301",
     "locked": true,
     "schema_version": 1,
     "solution": false
    }
   },
   "outputs": [
    {
     "ename": "ERROR",
     "evalue": "Error in my_strategy(g): \n",
     "output_type": "error",
     "traceback": [
      "Error in my_strategy(g): \nTraceback:\n",
      "1. stopifnot(my_strategy(g) %in% valid_moves(g))",
      "2. my_strategy(g) %in% valid_moves(g)",
      "3. my_strategy(g)",
      "4. stop()   # at line 3 of file <text>"
     ]
    }
   ],
   "source": [
    "# A few preliminary tests\n",
    "g <- new_game(5)\n",
    "\n",
    "stopifnot(\n",
    "    my_strategy(g) %in% valid_moves(g)\n",
    ") # Function should return a valid move"
   ]
  },
  {
   "cell_type": "markdown",
   "metadata": {
    "deletable": false,
    "editable": false,
    "nbgrader": {
     "checksum": "8dec171ce0136e5012144fe3ee3be684",
     "grade": false,
     "grade_id": "cell-f87df0b68abf0bef",
     "locked": true,
     "schema_version": 1,
     "solution": false
    }
   },
   "source": [
    "## Team name\n",
    "We will score your submission by running it against other submitted strategies (see [below](#Rules-and-scoring) for the rules). Results will be live-streamed to the [leaderboard](https://terhorst.github.io/stats306_contest). To keep your submission anonymous, please enter a team name that we can display on the leaderboard. It should be a single word, all lower case, optionally including underscores (i.e. it should match `\"/^[a-z_]+$/\"`):"
   ]
  },
  {
   "cell_type": "markdown",
   "metadata": {
    "deletable": false,
    "nbgrader": {
     "checksum": "6db437e4470620821c150feebb237a0c",
     "grade": true,
     "grade_id": "team-name-cell",
     "locked": false,
     "points": 0,
     "schema_version": 1,
     "solution": true
    }
   },
   "source": [
    "YOUR ANSWER HERE"
   ]
  },
  {
   "cell_type": "markdown",
   "metadata": {
    "deletable": false,
    "editable": false,
    "nbgrader": {
     "checksum": "c405f57fcd23cf8d248c46fac64a09e8",
     "grade": false,
     "grade_id": "cell-e7ff9966a9c8bd6c",
     "locked": true,
     "schema_version": 1,
     "solution": false
    }
   },
   "source": [
    "### Developing your strategy\n",
    "To develop your strategy, you can use the following functions, which plays `my_strategy()` against the two strategies defined above:"
   ]
  },
  {
   "cell_type": "code",
   "execution_count": 57,
   "metadata": {
    "deletable": false,
    "editable": false,
    "nbgrader": {
     "checksum": "1593de8422873e76b057cebec693c6e9",
     "grade": false,
     "grade_id": "cell-f30f375b94e38d68",
     "locked": true,
     "schema_version": 1,
     "solution": false
    }
   },
   "outputs": [
    {
     "name": "stderr",
     "output_type": "stream",
     "text": [
      "Warning message in .play_game(strategy1, strategy2, n):\n",
      "“michigan strategy produced an error”Warning message in .play_game(strategy1, strategy2, n):\n",
      "“michigan strategy produced an error”Warning message in .play_game(strategy1, strategy2, n):\n",
      "“michigan strategy produced an error”Warning message in .play_game(strategy1, strategy2, n):\n",
      "“michigan strategy produced an error”Warning message in .play_game(strategy1, strategy2, n):\n",
      "“michigan strategy produced an error”Warning message in .play_game(strategy1, strategy2, n):\n",
      "“michigan strategy produced an error”Warning message in .play_game(strategy1, strategy2, n):\n",
      "“michigan strategy produced an error”Warning message in .play_game(strategy1, strategy2, n):\n",
      "“michigan strategy produced an error”Warning message in .play_game(strategy1, strategy2, n):\n",
      "“michigan strategy produced an error”Warning message in .play_game(strategy1, strategy2, n):\n",
      "“michigan strategy produced an error”Warning message in .play_game(strategy1, strategy2, n):\n",
      "“michigan strategy produced an error”Warning message in .play_game(strategy1, strategy2, n):\n",
      "“michigan strategy produced an error”Warning message in .play_game(strategy1, strategy2, n):\n",
      "“michigan strategy produced an error”Warning message in .play_game(strategy1, strategy2, n):\n",
      "“michigan strategy produced an error”Warning message in .play_game(strategy1, strategy2, n):\n",
      "“michigan strategy produced an error”Warning message in .play_game(strategy1, strategy2, n):\n",
      "“michigan strategy produced an error”Warning message in .play_game(strategy1, strategy2, n):\n",
      "“michigan strategy produced an error”Warning message in .play_game(strategy1, strategy2, n):\n",
      "“michigan strategy produced an error”Warning message in .play_game(strategy1, strategy2, n):\n",
      "“michigan strategy produced an error”Warning message in .play_game(strategy1, strategy2, n):\n",
      "“michigan strategy produced an error”Warning message in .play_game(strategy2, strategy1, n):\n",
      "“ohio strategy produced an error”Warning message in .play_game(strategy2, strategy1, n):\n",
      "“ohio strategy produced an error”Warning message in .play_game(strategy2, strategy1, n):\n",
      "“ohio strategy produced an error”Warning message in .play_game(strategy2, strategy1, n):\n",
      "“ohio strategy produced an error”Warning message in .play_game(strategy2, strategy1, n):\n",
      "“ohio strategy produced an error”Warning message in .play_game(strategy2, strategy1, n):\n",
      "“ohio strategy produced an error”Warning message in .play_game(strategy2, strategy1, n):\n",
      "“ohio strategy produced an error”Warning message in .play_game(strategy2, strategy1, n):\n",
      "“ohio strategy produced an error”Warning message in .play_game(strategy2, strategy1, n):\n",
      "“ohio strategy produced an error”Warning message in .play_game(strategy2, strategy1, n):\n",
      "“ohio strategy produced an error”Warning message in .play_game(strategy2, strategy1, n):\n",
      "“ohio strategy produced an error”Warning message in .play_game(strategy2, strategy1, n):\n",
      "“ohio strategy produced an error”Warning message in .play_game(strategy2, strategy1, n):\n",
      "“ohio strategy produced an error”Warning message in .play_game(strategy2, strategy1, n):\n",
      "“ohio strategy produced an error”Warning message in .play_game(strategy2, strategy1, n):\n",
      "“ohio strategy produced an error”Warning message in .play_game(strategy2, strategy1, n):\n",
      "“ohio strategy produced an error”Warning message in .play_game(strategy2, strategy1, n):\n",
      "“ohio strategy produced an error”Warning message in .play_game(strategy2, strategy1, n):\n",
      "“ohio strategy produced an error”Warning message in .play_game(strategy2, strategy1, n):\n",
      "“ohio strategy produced an error”Warning message in .play_game(strategy2, strategy1, n):\n",
      "“ohio strategy produced an error”"
     ]
    },
    {
     "data": {
      "text/html": [
       "<dl class=dl-horizontal>\n",
       "\t<dt>strategy1</dt>\n",
       "\t\t<dd>0</dd>\n",
       "\t<dt>strategy2</dt>\n",
       "\t\t<dd>40</dd>\n",
       "</dl>\n"
      ],
      "text/latex": [
       "\\begin{description*}\n",
       "\\item[strategy1] 0\n",
       "\\item[strategy2] 40\n",
       "\\end{description*}\n"
      ],
      "text/markdown": [
       "strategy1\n",
       ":   0strategy2\n",
       ":   40\n",
       "\n"
      ],
      "text/plain": [
       "strategy1 strategy2 \n",
       "        0        40 "
      ]
     },
     "metadata": {},
     "output_type": "display_data"
    },
    {
     "name": "stderr",
     "output_type": "stream",
     "text": [
      "Warning message in .play_game(strategy1, strategy2, n):\n",
      "“michigan strategy produced an error”Warning message in .play_game(strategy1, strategy2, n):\n",
      "“michigan strategy produced an error”Warning message in .play_game(strategy1, strategy2, n):\n",
      "“michigan strategy produced an error”Warning message in .play_game(strategy1, strategy2, n):\n",
      "“michigan strategy produced an error”Warning message in .play_game(strategy1, strategy2, n):\n",
      "“michigan strategy produced an error”Warning message in .play_game(strategy1, strategy2, n):\n",
      "“michigan strategy produced an error”Warning message in .play_game(strategy1, strategy2, n):\n",
      "“michigan strategy produced an error”Warning message in .play_game(strategy1, strategy2, n):\n",
      "“michigan strategy produced an error”Warning message in .play_game(strategy1, strategy2, n):\n",
      "“michigan strategy produced an error”Warning message in .play_game(strategy1, strategy2, n):\n",
      "“michigan strategy produced an error”Warning message in .play_game(strategy1, strategy2, n):\n",
      "“michigan strategy produced an error”Warning message in .play_game(strategy1, strategy2, n):\n",
      "“michigan strategy produced an error”Warning message in .play_game(strategy1, strategy2, n):\n",
      "“michigan strategy produced an error”Warning message in .play_game(strategy1, strategy2, n):\n",
      "“michigan strategy produced an error”Warning message in .play_game(strategy1, strategy2, n):\n",
      "“michigan strategy produced an error”Warning message in .play_game(strategy1, strategy2, n):\n",
      "“michigan strategy produced an error”Warning message in .play_game(strategy1, strategy2, n):\n",
      "“michigan strategy produced an error”Warning message in .play_game(strategy1, strategy2, n):\n",
      "“michigan strategy produced an error”Warning message in .play_game(strategy1, strategy2, n):\n",
      "“michigan strategy produced an error”Warning message in .play_game(strategy1, strategy2, n):\n",
      "“michigan strategy produced an error”Warning message in .play_game(strategy2, strategy1, n):\n",
      "“ohio strategy produced an error”Warning message in .play_game(strategy2, strategy1, n):\n",
      "“ohio strategy produced an error”Warning message in .play_game(strategy2, strategy1, n):\n",
      "“ohio strategy produced an error”Warning message in .play_game(strategy2, strategy1, n):\n",
      "“ohio strategy produced an error”Warning message in .play_game(strategy2, strategy1, n):\n",
      "“ohio strategy produced an error”Warning message in .play_game(strategy2, strategy1, n):\n",
      "“ohio strategy produced an error”Warning message in .play_game(strategy2, strategy1, n):\n",
      "“ohio strategy produced an error”Warning message in .play_game(strategy2, strategy1, n):\n",
      "“ohio strategy produced an error”Warning message in .play_game(strategy2, strategy1, n):\n",
      "“ohio strategy produced an error”Warning message in .play_game(strategy2, strategy1, n):\n",
      "“ohio strategy produced an error”Warning message in .play_game(strategy2, strategy1, n):\n",
      "“ohio strategy produced an error”Warning message in .play_game(strategy2, strategy1, n):\n",
      "“ohio strategy produced an error”Warning message in .play_game(strategy2, strategy1, n):\n",
      "“ohio strategy produced an error”Warning message in .play_game(strategy2, strategy1, n):\n",
      "“ohio strategy produced an error”Warning message in .play_game(strategy2, strategy1, n):\n",
      "“ohio strategy produced an error”Warning message in .play_game(strategy2, strategy1, n):\n",
      "“ohio strategy produced an error”Warning message in .play_game(strategy2, strategy1, n):\n",
      "“ohio strategy produced an error”Warning message in .play_game(strategy2, strategy1, n):\n",
      "“ohio strategy produced an error”Warning message in .play_game(strategy2, strategy1, n):\n",
      "“ohio strategy produced an error”Warning message in .play_game(strategy2, strategy1, n):\n",
      "“ohio strategy produced an error”"
     ]
    },
    {
     "data": {
      "text/html": [
       "<dl class=dl-horizontal>\n",
       "\t<dt>strategy1</dt>\n",
       "\t\t<dd>0</dd>\n",
       "\t<dt>strategy2</dt>\n",
       "\t\t<dd>40</dd>\n",
       "</dl>\n"
      ],
      "text/latex": [
       "\\begin{description*}\n",
       "\\item[strategy1] 0\n",
       "\\item[strategy2] 40\n",
       "\\end{description*}\n"
      ],
      "text/markdown": [
       "strategy1\n",
       ":   0strategy2\n",
       ":   40\n",
       "\n"
      ],
      "text/plain": [
       "strategy1 strategy2 \n",
       "        0        40 "
      ]
     },
     "metadata": {},
     "output_type": "display_data"
    }
   ],
   "source": [
    "play_repeatedly(strategy1 = my_strategy, strategy2 = random_move, k = 20, n = 5)\n",
    "play_repeatedly(strategy1 = my_strategy, strategy2 = prefer_jumps, k = 20, n = 5)"
   ]
  },
  {
   "cell_type": "markdown",
   "metadata": {
    "deletable": false,
    "editable": false,
    "nbgrader": {
     "checksum": "41d337acce4db086c0d7df8f79b83ed5",
     "grade": false,
     "grade_id": "cell-1bd26d2000fabaa2",
     "locked": true,
     "schema_version": 1,
     "solution": false
    }
   },
   "source": [
    "Here $n=5$ is chosen to make things run faster. We suggest starting with small values of $n$ to get a feel for the game. After you have a working strategy, try gradually increasing $n$. We will use $n=11$ to test your code against other strategies. "
   ]
  },
  {
   "cell_type": "markdown",
   "metadata": {
    "deletable": false,
    "editable": false,
    "nbgrader": {
     "checksum": "f567c2984ba81ef3463a5deff4da11bb",
     "grade": false,
     "grade_id": "cell-cfdff5f7f5aecf88",
     "locked": true,
     "schema_version": 1,
     "solution": false
    }
   },
   "source": [
    "## Requirements of `my_strategy()`\n",
    "There are a few rules that your strategy *must obey*:\n",
    "- Your strategy must be called `my_strategy` and be defined in the solution box shown above.\n",
    "- You can define other functions and write whatever code you want to support your strategy, but it must all be entered into the same solution box. Only that cell that will get run when we score your code.\n",
    "- You may use tidyverse, base R, and the functions defined in `d_football.R` inside of `my_strategy()`. You do not need to load them. You may not use `install.packages()` or `library()` to load other packages. (This is due to security issues with running uploaded code. If you feel you really need a package that is not pre-loaded, e-mail me.)\n",
    "- The total size of this notebook may not exceed 200kb when uploaded. Thus, your code must be less than ~150kb long.\n",
    "\n",
    "### Automatic loss\n",
    "There are three rules whose violation results in an automatic win for the other team:\n",
    "\n",
    "- Calling `my_strategy(game)` must not throw an error.\n",
    "- Calling `my_strategy(game)` must return a valid move for that game. That is, `my_strategy(game) %in% valid_moves(game)` must always be true.\n",
    "- Calling `my_strategy(game)` should take no more than 100ms per turn.\n",
    "\n",
    "If any of these rules are violated, the game is forfeit and the other team wins. The `play_game()` function will warn you if this happens:"
   ]
  },
  {
   "cell_type": "code",
   "execution_count": 58,
   "metadata": {
    "deletable": false,
    "editable": false,
    "nbgrader": {
     "checksum": "61a63daa2150170f70458c83dd01f123",
     "grade": false,
     "grade_id": "cell-bb97dc47934750c1",
     "locked": true,
     "schema_version": 1,
     "solution": false
    }
   },
   "outputs": [
    {
     "name": "stderr",
     "output_type": "stream",
     "text": [
      "Warning message in .play_game(...):\n",
      "“michigan strategy returned an invalid move”"
     ]
    },
    {
     "data": {
      "text/html": [
       "'ohio'"
      ],
      "text/latex": [
       "'ohio'"
      ],
      "text/markdown": [
       "'ohio'"
      ],
      "text/plain": [
       "[1] \"ohio\""
      ]
     },
     "metadata": {},
     "output_type": "display_data"
    }
   ],
   "source": [
    "my_strategy <- function(game) {\n",
    "    # always return the invalid move -1\n",
    "    -1\n",
    "}\n",
    "play_game(mi_strategy = my_strategy,\n",
    "          oh_strategy = random_move,\n",
    "          n = 5)"
   ]
  },
  {
   "cell_type": "code",
   "execution_count": 59,
   "metadata": {
    "deletable": false,
    "editable": false,
    "nbgrader": {
     "checksum": "f184024ed975d4ec149a0d1bbd379446",
     "grade": false,
     "grade_id": "cell-b7d9cf07cc514d63",
     "locked": true,
     "schema_version": 1,
     "solution": false
    }
   },
   "outputs": [
    {
     "name": "stderr",
     "output_type": "stream",
     "text": [
      "Warning message in .play_game(...):\n",
      "“ohio strategy took >100ms to return a move”"
     ]
    },
    {
     "data": {
      "text/html": [
       "'michigan'"
      ],
      "text/latex": [
       "'michigan'"
      ],
      "text/markdown": [
       "'michigan'"
      ],
      "text/plain": [
       "[1] \"michigan\""
      ]
     },
     "metadata": {},
     "output_type": "display_data"
    }
   ],
   "source": [
    "my_strategy <- function(game) {\n",
    "    # take too long\n",
    "    Sys.sleep(1)  # sleep 1 second before returning\n",
    "    random_move(game)\n",
    "}\n",
    "play_game(mi_strategy = random_move,\n",
    "          oh_strategy = my_strategy,\n",
    "          n = 5)"
   ]
  },
  {
   "cell_type": "code",
   "execution_count": 60,
   "metadata": {
    "deletable": false,
    "editable": false,
    "nbgrader": {
     "checksum": "61ac3b24b384f3154d9d7976a6781cf5",
     "grade": false,
     "grade_id": "cell-7c73c81a719ac6e1",
     "locked": true,
     "schema_version": 1,
     "solution": false
    }
   },
   "outputs": [
    {
     "name": "stderr",
     "output_type": "stream",
     "text": [
      "Warning message in .play_game(...):\n",
      "“ohio strategy produced an error”"
     ]
    },
    {
     "data": {
      "text/html": [
       "'michigan'"
      ],
      "text/latex": [
       "'michigan'"
      ],
      "text/markdown": [
       "'michigan'"
      ],
      "text/plain": [
       "[1] \"michigan\""
      ]
     },
     "metadata": {},
     "output_type": "display_data"
    }
   ],
   "source": [
    "my_strategy <- function(game) {\n",
    "    # function throws an error when executed\n",
    "    aoeu\n",
    "}\n",
    "play_game(mi_strategy = random_move,\n",
    "          oh_strategy = my_strategy,\n",
    "          n = 5)"
   ]
  },
  {
   "cell_type": "markdown",
   "metadata": {
    "deletable": false,
    "editable": false,
    "nbgrader": {
     "checksum": "4a06ad14e188d7ec404acb932a84c45a",
     "grade": false,
     "grade_id": "cell-60c2b98e4712fca7",
     "locked": true,
     "schema_version": 1,
     "solution": false
    }
   },
   "source": [
    "## Submission Procedures\n",
    "- For this assignment we will be testing out a new autograding service called Gradescope. To submit your solution, upload this entire notebook to the [Gradescope assignment page](https://www.gradescope.com/courses/29977/assignments/131774). It must have the same name (`instructions.ipynb`) as the original.\n",
    "- To score your submission, our autograder will play your strategy against all the other strategies that have been submitted by other student(s). \n",
    "- We will use $n=11$ players per side when evaluating the strategies. Each pair of strategies will be tested 100 times (each strategy gets to move first 50 times.)\n",
    "- Your score will be equal to the number of times your strategy wins in those games.\n",
    "- Results will be live updated on the [leaderboard].(https://terhorst.github.io/stats306_contest)\n",
    "- The contest closes at **noon on Saturday, December 15**. \n",
    "\n",
    "## Points\n",
    "- At the end of the contest, the student(s) with the highest-scoring strategy will be awarded 6 extra credit points on the final exam.\n",
    "- The remaining students will receive $5 \\times \\frac{\\text{student's score}}{\\text{high score}}$ extra credit points. For example, if the final scores were\n",
    "\n",
    "| Team   | Score |\n",
    "|--------|-------|\n",
    "| Team 1 | 1000  |\n",
    "| Team 2 | 800   |\n",
    "| Team 3 | 500   |\n",
    "\n",
    "- Then:\n",
    "    - Team 1 would receive 5 points;\n",
    "    - Team 2 would receive 4 points; and \n",
    "    - Team 3 would receive 2.5 points.\n",
    "\n",
    "## Collaboration policy\n",
    "- You may work together or in groups on this assignment. \n",
    "- You may not be on more than one team.\n",
    "- You may not work with or seek the advice of anyone who is not currently enrolled in STATS 306. \n",
    "- In particular, if I find this contest showing up on social media, as [happened](https://www.reddit.com/r/uofm/comments/8cs2jh/what_is_the_hidden_message_in_this_photo/) with last semester's contest, it will immediately be cancelled and I may take other actions as well..."
   ]
  }
 ],
 "metadata": {
  "kernelspec": {
   "display_name": "R",
   "language": "R",
   "name": "ir"
  },
  "language_info": {
   "codemirror_mode": "r",
   "file_extension": ".r",
   "mimetype": "text/x-r-source",
   "name": "R",
   "pygments_lexer": "r",
   "version": "3.4.4"
  }
 },
 "nbformat": 4,
 "nbformat_minor": 2
}
