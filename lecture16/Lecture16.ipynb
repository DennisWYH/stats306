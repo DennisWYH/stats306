{
 "cells": [
  {
   "cell_type": "code",
   "execution_count": 3,
   "metadata": {
    "slideshow": {
     "slide_type": "notes"
    }
   },
   "outputs": [
    {
     "name": "stderr",
     "output_type": "stream",
     "text": [
      "── Attaching packages ─────────────────────────────────────── tidyverse 1.2.1 ──\n",
      "✔ ggplot2 2.2.1     ✔ purrr   0.2.4\n",
      "✔ tibble  1.3.4     ✔ dplyr   0.7.4\n",
      "✔ tidyr   0.7.2     ✔ stringr 1.2.0\n",
      "✔ readr   1.1.1     ✔ forcats 0.2.0\n",
      "── Conflicts ────────────────────────────────────────── tidyverse_conflicts() ──\n",
      "✖ dplyr::filter()  masks stats::filter()\n",
      "✖ purrr::flatten() masks jsonlite::flatten()\n",
      "✖ dplyr::lag()     masks stats::lag()\n"
     ]
    }
   ],
   "source": [
    "library(tidyverse)\n",
    "library(nycflights13)"
   ]
  },
  {
   "cell_type": "markdown",
   "metadata": {
    "slideshow": {
     "slide_type": "slide"
    }
   },
   "source": [
    "# Lecture 16: Vectors, lists, iteration & FP\n",
    "In this lecture we'll learn about:\n",
    "- [Atomic vectors](#Atomic-vectors), or what we have been calling vectors up to this point.\n",
    "- [Lists](#Lists), a.k.a. recursive vectors.\n",
    "- [Iteration](#Iteration): `for`/`while` loops.\n",
    "- [Functional programming](#Functional-programming) (FP): functions that operate on other functions.\n",
    "- [Error handling](#Error-handling): what to do when things go wrong."
   ]
  },
  {
   "cell_type": "markdown",
   "metadata": {
    "slideshow": {
     "slide_type": "slide"
    }
   },
   "source": [
    "## Atomic vectors\n",
    "Vectors are sequences of data elements in R. So far we have exclusively studied *atomic* vectors, which are sequences of elements that all have the same type. The two most important elements of a vector are its *type* and its *length*:"
   ]
  },
  {
   "cell_type": "code",
   "execution_count": 5,
   "metadata": {},
   "outputs": [
    {
     "data": {
      "text/plain": [
       "[1] 1 2 3"
      ]
     },
     "metadata": {},
     "output_type": "display_data"
    },
    {
     "data": {
      "text/plain": [
       "[1] \"integer\""
      ]
     },
     "metadata": {},
     "output_type": "display_data"
    },
    {
     "data": {
      "text/plain": [
       "[1] 3"
      ]
     },
     "metadata": {},
     "output_type": "display_data"
    }
   ],
   "source": [
    "(x = 1:3)  # atomic vector of integers\n",
    "typeof(x)\n",
    "length(x)"
   ]
  },
  {
   "cell_type": "code",
   "execution_count": 6,
   "metadata": {},
   "outputs": [
    {
     "data": {
      "text/plain": [
       "[1] \"a\" \"b\" \"c\""
      ]
     },
     "metadata": {},
     "output_type": "display_data"
    },
    {
     "data": {
      "text/plain": [
       "[1] \"character\""
      ]
     },
     "metadata": {},
     "output_type": "display_data"
    },
    {
     "data": {
      "text/plain": [
       "[1] 3"
      ]
     },
     "metadata": {},
     "output_type": "display_data"
    }
   ],
   "source": [
    "(x = c('a', 'b', 'c'))  # atomic vector of characters\n",
    "typeof(x)\n",
    "length(x)"
   ]
  },
  {
   "cell_type": "markdown",
   "metadata": {
    "slideshow": {
     "slide_type": "slide"
    }
   },
   "source": [
    "A single data element is called a *scalar.* An important thing to realize is that, to R, there is no distinction between scalars and vectors -- a scalar is simply an atomic vector of length one."
   ]
  },
  {
   "cell_type": "code",
   "execution_count": 8,
   "metadata": {},
   "outputs": [
    {
     "data": {
      "text/plain": [
       "[1] 1"
      ]
     },
     "metadata": {},
     "output_type": "display_data"
    },
    {
     "data": {
      "text/plain": [
       "[1] 1"
      ]
     },
     "metadata": {},
     "output_type": "display_data"
    }
   ],
   "source": [
    "1  # scalar\n",
    "c(1)  # vector"
   ]
  },
  {
   "cell_type": "markdown",
   "metadata": {
    "slideshow": {
     "slide_type": "slide"
    }
   },
   "source": [
    "### Types of atomic vectors\n",
    "The most important types of atomic vector are logical, numeric, and character."
   ]
  },
  {
   "cell_type": "markdown",
   "metadata": {
    "slideshow": {
     "slide_type": "slide"
    }
   },
   "source": [
    "Logical vectors hold the values `TRUE`, `FALSE` and `NA`."
   ]
  },
  {
   "cell_type": "code",
   "execution_count": 10,
   "metadata": {},
   "outputs": [
    {
     "data": {
      "text/plain": [
       "[1] \"logical\""
      ]
     },
     "metadata": {},
     "output_type": "display_data"
    }
   ],
   "source": [
    "x = c(TRUE, TRUE, FALSE, NA)\n",
    "typeof(x)"
   ]
  },
  {
   "cell_type": "markdown",
   "metadata": {
    "slideshow": {
     "slide_type": "slide"
    }
   },
   "source": [
    "Numeric vectors hold integers or doubles. By default, if you enter a number in R it is stored as a double:"
   ]
  },
  {
   "cell_type": "code",
   "execution_count": 54,
   "metadata": {},
   "outputs": [
    {
     "data": {
      "text/plain": [
       "[1] \"double\""
      ]
     },
     "metadata": {},
     "output_type": "display_data"
    }
   ],
   "source": [
    "typeof(1)"
   ]
  },
  {
   "cell_type": "markdown",
   "metadata": {},
   "source": [
    "If you want to explicitly store integers, attach a capital `L` to the number:"
   ]
  },
  {
   "cell_type": "code",
   "execution_count": 58,
   "metadata": {},
   "outputs": [
    {
     "data": {
      "text/plain": [
       "[1] \"integer\""
      ]
     },
     "metadata": {},
     "output_type": "display_data"
    }
   ],
   "source": [
    "typeof(1L)"
   ]
  },
  {
   "cell_type": "markdown",
   "metadata": {
    "slideshow": {
     "slide_type": "slide"
    }
   },
   "source": [
    "### Names and attributes\n",
    "It is possible to assign names to each entry of a vector:"
   ]
  },
  {
   "cell_type": "code",
   "execution_count": 68,
   "metadata": {},
   "outputs": [
    {
     "data": {
      "text/plain": [
       "a b c \n",
       "1 2 3 "
      ]
     },
     "metadata": {},
     "output_type": "display_data"
    },
    {
     "data": {
      "text/plain": [
       "[1] \"a\" \"b\" \"c\""
      ]
     },
     "metadata": {},
     "output_type": "display_data"
    }
   ],
   "source": [
    "(v = c(a=1, b=2, c=3))\n",
    "names(v)"
   ]
  },
  {
   "cell_type": "markdown",
   "metadata": {
    "slideshow": {
     "slide_type": "slide"
    }
   },
   "source": [
    "Each vector has *attributes*:"
   ]
  },
  {
   "cell_type": "code",
   "execution_count": 72,
   "metadata": {},
   "outputs": [
    {
     "data": {
      "text/plain": [
       "$names\n",
       "[1] \"a\" \"b\" \"c\"\n"
      ]
     },
     "metadata": {},
     "output_type": "display_data"
    }
   ],
   "source": [
    "attributes(v)"
   ]
  },
  {
   "cell_type": "markdown",
   "metadata": {
    "slideshow": {
     "slide_type": "slide"
    }
   },
   "source": [
    "You can assign your own attributes to a vector using the `attr` function:"
   ]
  },
  {
   "cell_type": "code",
   "execution_count": 84,
   "metadata": {},
   "outputs": [
    {
     "data": {
      "text/plain": [
       "$names\n",
       "[1] \"a\" \"b\" \"c\"\n",
       "\n",
       "$myattr\n",
       "[1] 1\n"
      ]
     },
     "metadata": {},
     "output_type": "display_data"
    }
   ],
   "source": [
    "attr(v, \"myattr\") = 1\n",
    "attributes(v)"
   ]
  },
  {
   "cell_type": "markdown",
   "metadata": {
    "slideshow": {
     "slide_type": "slide"
    }
   },
   "source": [
    "## Lists\n",
    "Lists are another type of sequence data type found in R. Unlike atomic vectors, lists can hold objects of multiple types:"
   ]
  },
  {
   "cell_type": "code",
   "execution_count": 12,
   "metadata": {},
   "outputs": [
    {
     "data": {
      "text/plain": [
       "[[1]]\n",
       "[1] \"a\"\n",
       "\n",
       "[[2]]\n",
       "[1] 1\n",
       "\n",
       "[[3]]\n",
       "[1] FALSE\n",
       "\n",
       "[[4]]\n",
       "[1] 3.141593\n"
      ]
     },
     "metadata": {},
     "output_type": "display_data"
    }
   ],
   "source": [
    "(x = list('a', 1L, FALSE, pi))"
   ]
  },
  {
   "cell_type": "markdown",
   "metadata": {
    "slideshow": {
     "slide_type": "-"
    }
   },
   "source": [
    "As the printout suggests, you can think of a list as a \"vector of vectors\". For this reason, they are sometimes referred to as \"recursive vectors\"."
   ]
  },
  {
   "cell_type": "markdown",
   "metadata": {
    "slideshow": {
     "slide_type": "slide"
    }
   },
   "source": [
    "The `str` command will print out the **str**ucture of a vector:"
   ]
  },
  {
   "cell_type": "code",
   "execution_count": 15,
   "metadata": {},
   "outputs": [
    {
     "name": "stdout",
     "output_type": "stream",
     "text": [
      "List of 4\n",
      " $ : chr \"a\"\n",
      " $ : int 1\n",
      " $ : logi FALSE\n",
      " $ : num 3.14\n"
     ]
    }
   ],
   "source": [
    "str(x)"
   ]
  },
  {
   "cell_type": "markdown",
   "metadata": {
    "slideshow": {
     "slide_type": "slide"
    }
   },
   "source": [
    "Just like atomic vectors, you can name each individual entry of a list:"
   ]
  },
  {
   "cell_type": "code",
   "execution_count": 17,
   "metadata": {},
   "outputs": [
    {
     "name": "stdout",
     "output_type": "stream",
     "text": [
      "List of 3\n",
      " $ a: num 1\n",
      " $ b: num 2\n",
      " $ c: num 3\n"
     ]
    },
    {
     "data": {
      "text/plain": [
       "[1] \"a\" \"b\" \"c\""
      ]
     },
     "metadata": {},
     "output_type": "display_data"
    }
   ],
   "source": [
    "x_named <- list(a = 1, b = 2, c = 3)\n",
    "str(x_named)\n",
    "names(x_named)"
   ]
  },
  {
   "cell_type": "markdown",
   "metadata": {
    "slideshow": {
     "slide_type": "slide"
    }
   },
   "source": [
    "### Sub-setting lists\n",
    "Subsetting lists is a little more complex than subsetting atomic vectors. We will use the following example list:"
   ]
  },
  {
   "cell_type": "code",
   "execution_count": 21,
   "metadata": {},
   "outputs": [
    {
     "name": "stdout",
     "output_type": "stream",
     "text": [
      "List of 4\n",
      " $ a: int [1:3] 1 2 3\n",
      " $ b: chr \"a string\"\n",
      " $ c: num 3.14\n",
      " $ d:List of 2\n",
      "  ..$ : num -1\n",
      "  ..$ : num -5\n"
     ]
    }
   ],
   "source": [
    "str(a <- list(a = 1:3, b = \"a string\", c = pi, d = list(-1, -5)))"
   ]
  },
  {
   "cell_type": "markdown",
   "metadata": {
    "slideshow": {
     "slide_type": "slide"
    }
   },
   "source": [
    "#### `[]`\n",
    "The `[]` operator extracts a sub-list. That is, the return type will always be a list:"
   ]
  },
  {
   "cell_type": "code",
   "execution_count": 26,
   "metadata": {},
   "outputs": [
    {
     "data": {
      "text/plain": [
       "$a\n",
       "[1] 1 2 3\n"
      ]
     },
     "metadata": {},
     "output_type": "display_data"
    },
    {
     "name": "stdout",
     "output_type": "stream",
     "text": [
      "List of 1\n",
      " $ a: int [1:3] 1 2 3\n"
     ]
    }
   ],
   "source": [
    "a[1]\n",
    "str(a[1])"
   ]
  },
  {
   "cell_type": "markdown",
   "metadata": {
    "slideshow": {
     "slide_type": "slide"
    }
   },
   "source": [
    "As with atomic vectors, the single brackets accept integer, logical and character vectors:"
   ]
  },
  {
   "cell_type": "code",
   "execution_count": 34,
   "metadata": {},
   "outputs": [
    {
     "name": "stdout",
     "output_type": "stream",
     "text": [
      "List of 3\n",
      " $ a: int [1:3] 1 2 3\n",
      " $ b: chr \"a string\"\n",
      " $ d:List of 2\n",
      "  ..$ : num -1\n",
      "  ..$ : num -5\n",
      "List of 2\n",
      " $ a: int [1:3] 1 2 3\n",
      " $ d:List of 2\n",
      "  ..$ : num -1\n",
      "  ..$ : num -5\n",
      "List of 2\n",
      " $ a: int [1:3] 1 2 3\n",
      " $ c: num 3.14\n"
     ]
    }
   ],
   "source": [
    "str(a[c(1,2,4)])\n",
    "str(a[c('a', 'd')])\n",
    "str(a[c(T, F)])  # what happened here?"
   ]
  },
  {
   "cell_type": "markdown",
   "metadata": {
    "slideshow": {
     "slide_type": "slide"
    }
   },
   "source": [
    "#### `[[]]`\n",
    "The double-brackets will extract a single component from the list:"
   ]
  },
  {
   "cell_type": "code",
   "execution_count": 42,
   "metadata": {},
   "outputs": [
    {
     "data": {
      "text/plain": [
       "[1] 1 2 3"
      ]
     },
     "metadata": {},
     "output_type": "display_data"
    }
   ],
   "source": [
    "a[[1]]"
   ]
  },
  {
   "cell_type": "markdown",
   "metadata": {
    "slideshow": {
     "slide_type": "slide"
    }
   },
   "source": [
    "You can also pass an integer vector to `[[]]`. This will index into successive levels of the list:"
   ]
  },
  {
   "cell_type": "code",
   "execution_count": 53,
   "metadata": {
    "slideshow": {
     "slide_type": "-"
    }
   },
   "outputs": [
    {
     "data": {
      "text/plain": [
       "[[1]]\n",
       "[1] -1\n",
       "\n",
       "[[2]]\n",
       "[1] -5\n"
      ]
     },
     "metadata": {},
     "output_type": "display_data"
    },
    {
     "data": {
      "text/plain": [
       "[1] -1"
      ]
     },
     "metadata": {},
     "output_type": "display_data"
    },
    {
     "data": {
      "text/plain": [
       "[1] -5"
      ]
     },
     "metadata": {},
     "output_type": "display_data"
    }
   ],
   "source": [
    "a[[4]]\n",
    "a[[c(4,1,1)]]\n",
    "a[[c(4,2,1)]]"
   ]
  },
  {
   "cell_type": "markdown",
   "metadata": {
    "slideshow": {
     "slide_type": "slide"
    }
   },
   "source": [
    "## Iteration\n",
    "Iteration means, roughly, \"running the same piece of code repeatedly\". There are many ways to perform iteration in R. The one you have probably heard of is the *for loop*:\n",
    "```{r}\n",
    "for (<index> in <vector>) {\n",
    "    [do something for each value of <index>]\n",
    "}\n",
    "```"
   ]
  },
  {
   "cell_type": "markdown",
   "metadata": {},
   "source": [
    "For example, suppose we wanted to compute the median for each column of the following tibble:"
   ]
  },
  {
   "cell_type": "code",
   "execution_count": 87,
   "metadata": {},
   "outputs": [],
   "source": [
    "df = tibble(\n",
    "  a = rnorm(10),\n",
    "  b = rnorm(10),\n",
    "  c = rnorm(10),\n",
    "  d = rnorm(10)\n",
    ")"
   ]
  },
  {
   "cell_type": "markdown",
   "metadata": {
    "slideshow": {
     "slide_type": "slide"
    }
   },
   "source": [
    "One option is to repeatedly write out the call `median` for each column:"
   ]
  },
  {
   "cell_type": "code",
   "execution_count": 88,
   "metadata": {},
   "outputs": [
    {
     "data": {
      "text/plain": [
       "[1] 0.2565755"
      ]
     },
     "metadata": {},
     "output_type": "display_data"
    },
    {
     "data": {
      "text/plain": [
       "[1] 0.4918723"
      ]
     },
     "metadata": {},
     "output_type": "display_data"
    },
    {
     "data": {
      "text/plain": [
       "[1] 0.009218122"
      ]
     },
     "metadata": {},
     "output_type": "display_data"
    },
    {
     "data": {
      "text/plain": [
       "[1] -0.05655922"
      ]
     },
     "metadata": {},
     "output_type": "display_data"
    }
   ],
   "source": [
    "median(df$a)\n",
    "median(df$b)\n",
    "median(df$c)\n",
    "median(df$d)"
   ]
  },
  {
   "cell_type": "markdown",
   "metadata": {
    "slideshow": {
     "slide_type": "slide"
    }
   },
   "source": [
    "But this involves too much repetition, and we argued last lecture that repetition is generally a bad idea when coding. Instead, we can use a for loop to \"loop over\" each column of `df` and grab the median:"
   ]
  },
  {
   "cell_type": "code",
   "execution_count": 90,
   "metadata": {},
   "outputs": [
    {
     "data": {
      "text/plain": [
       "[1]  0.256575548  0.491872279  0.009218122 -0.056559219"
      ]
     },
     "metadata": {},
     "output_type": "display_data"
    }
   ],
   "source": [
    "output = vector(\"double\", ncol(df))   # 1. output\n",
    "for (i in seq_along(df)) {            # 2. sequence\n",
    "  output[[i]] = median(df[[i]])       # 3. body\n",
    "}\n",
    "output"
   ]
  },
  {
   "cell_type": "markdown",
   "metadata": {
    "slideshow": {
     "slide_type": "slide"
    }
   },
   "source": [
    "The for loop should have three components:\n",
    "1. The *output*, in this case a vector with one entry per column of `df`.\n",
    "2. The *sequence* of values along which we will iterate. Here we are using `seq_along(df)`, which generates a sequence of numbers from one up to `ncol(df)`. (This relies on the fact that a `data.frame` is really a list with one entry per column of data.)\n",
    "3. The *body*, which is the piece of code that gets executed in each iteration of the loop. In the example above, the body first runs `output[[1]] = median(df[[1]])`, then `output[[2]] = median(df[[2]])`, etc., on up to `i=4`."
   ]
  },
  {
   "cell_type": "markdown",
   "metadata": {
    "slideshow": {
     "slide_type": "notes"
    }
   },
   "source": [
    "### Methods of iterating in for loops\n",
    "In the example above we used `seq_along` to create a numeric vector, and then iterated over it in our for loop. This was useful because each entry of the vector corresponded to a column, so we could use `output[[i]]` to store the value of the median for each column. There are also a couple of other common ways to iterate:"
   ]
  },
  {
   "cell_type": "markdown",
   "metadata": {
    "slideshow": {
     "slide_type": "slide"
    }
   },
   "source": [
    "We can iterate over the elements of a list or vector directly:"
   ]
  },
  {
   "cell_type": "code",
   "execution_count": 96,
   "metadata": {},
   "outputs": [
    {
     "name": "stdout",
     "output_type": "stream",
     "text": [
      "[1] \"character\"\n",
      "[1] \"character\"\n",
      "[1] \"double\"\n",
      "[1] \"integer\"\n",
      "[1] \"integer\"\n",
      "[1] \"character\"\n",
      "[1] \"character\"\n",
      "[1] \"integer\"\n",
      "[1] \"integer\"\n",
      "[1] \"character\"\n",
      "[1] \"character\"\n"
     ]
    }
   ],
   "source": [
    "for (column in mpg) {  # iterate over the column vectors in mpg\n",
    "    print(typeof(column))\n",
    "}"
   ]
  },
  {
   "cell_type": "markdown",
   "metadata": {},
   "source": [
    "This is mainly useful for calling commands that have side-effects (like `print`) because there is no obvious way to store the output of each iterate."
   ]
  },
  {
   "cell_type": "markdown",
   "metadata": {
    "slideshow": {
     "slide_type": "slide"
    }
   },
   "source": [
    "Or, we can iterate over the names of a list or vector:"
   ]
  },
  {
   "cell_type": "code",
   "execution_count": 101,
   "metadata": {},
   "outputs": [
    {
     "data": {
      "text/plain": [
       "$manufacturer\n",
       "[1] \"character\"\n",
       "\n",
       "$model\n",
       "[1] \"character\"\n",
       "\n",
       "$displ\n",
       "[1] \"double\"\n",
       "\n",
       "$year\n",
       "[1] \"integer\"\n",
       "\n",
       "$cyl\n",
       "[1] \"integer\"\n",
       "\n",
       "$trans\n",
       "[1] \"character\"\n",
       "\n",
       "$drv\n",
       "[1] \"character\"\n",
       "\n",
       "$cty\n",
       "[1] \"integer\"\n",
       "\n",
       "$hwy\n",
       "[1] \"integer\"\n",
       "\n",
       "$fl\n",
       "[1] \"character\"\n",
       "\n",
       "$class\n",
       "[1] \"character\"\n"
      ]
     },
     "metadata": {},
     "output_type": "display_data"
    }
   ],
   "source": [
    "output = vector('list', ncol(mpg))\n",
    "names(output) = names(mpg)\n",
    "for (col_name in names(mpg)) {\n",
    "    output[[col_name]] = typeof(mpg[[col_name]])\n",
    "}\n",
    "output"
   ]
  },
  {
   "cell_type": "markdown",
   "metadata": {
    "slideshow": {
     "slide_type": "slide"
    }
   },
   "source": [
    "### Unknown output length\n",
    "In each of the examples above we \"pre-allocated\" the `output` vector before running the `for` loop. Sometimes you may not know in advance how much output will be generated. For example, the following code draws three random numbers between 0 and 100, and for each number appends that many randomly normal entries to `output`:"
   ]
  },
  {
   "cell_type": "code",
   "execution_count": 106,
   "metadata": {
    "slideshow": {
     "slide_type": "slide"
    }
   },
   "outputs": [
    {
     "data": {
      "text/plain": [
       "[1] 188"
      ]
     },
     "metadata": {},
     "output_type": "display_data"
    }
   ],
   "source": [
    "means = c(0, 1, 2)\n",
    "output = double()\n",
    "for (i in seq_along(means)) {\n",
    "  n = sample(100, 1)\n",
    "  output = c(output, rnorm(n, means[[i]]))\n",
    "}\n",
    "length(output)"
   ]
  },
  {
   "cell_type": "markdown",
   "metadata": {
    "slideshow": {
     "slide_type": "notes"
    }
   },
   "source": [
    "This code works perfectly well, but it turns out to be inefficient. The reason is that each time we append to `output` via the command `output = c(output, rnorm(n, means[[i]]))`, R ends up having to copy all of the data from the previous iterations. \n",
    "\n",
    "A more efficient option is to store the results of each iteration in a list, and then concatenate all the entries of the list together after the for loop terminates:"
   ]
  },
  {
   "cell_type": "code",
   "execution_count": 107,
   "metadata": {
    "slideshow": {
     "slide_type": "slide"
    }
   },
   "outputs": [
    {
     "name": "stdout",
     "output_type": "stream",
     "text": [
      "List of 3\n",
      " $ : num [1:41] 1.282 0.602 -0.307 -0.418 0.355 ...\n",
      " $ : num [1:3] 0.238 0.708 0.425\n",
      " $ : num [1:33] 3.58 3.68 2.49 2.88 1.86 ...\n"
     ]
    }
   ],
   "source": [
    "means = c(0, 1, 2)\n",
    "out = vector(\"list\", length(means))\n",
    "for (i in seq_along(means)) {\n",
    "  n = sample(100, 1)\n",
    "  out[[i]] <- rnorm(n, means[[i]])\n",
    "}\n",
    "str(out)"
   ]
  },
  {
   "cell_type": "code",
   "execution_count": 108,
   "metadata": {},
   "outputs": [
    {
     "name": "stdout",
     "output_type": "stream",
     "text": [
      " num [1:77] 1.282 0.602 -0.307 -0.418 0.355 ...\n"
     ]
    }
   ],
   "source": [
    "str(unlist(out))"
   ]
  },
  {
   "cell_type": "markdown",
   "metadata": {
    "slideshow": {
     "slide_type": "slide"
    }
   },
   "source": [
    "To convince you that this is actually more efficient, we will run a *benchmark* of the two methods. I will wrap the two approaches in functions called `f1` and `f2`, and then use the `microbenchmark` library to test which one runs faster."
   ]
  },
  {
   "cell_type": "code",
   "execution_count": 119,
   "metadata": {
    "slideshow": {
     "slide_type": "slide"
    }
   },
   "outputs": [],
   "source": [
    "f1 = function(n) { \n",
    "    means = 1:n\n",
    "    output = double()\n",
    "    for (i in seq_along(means)) {\n",
    "        n = sample(100, 1)\n",
    "        output = c(output, rnorm(n, means[[i]]))\n",
    "    }\n",
    "    output\n",
    "}\n",
    "\n",
    "f2 = function(n) {\n",
    "    means = 1:n\n",
    "    out = vector(\"list\", length(means))\n",
    "    for (i in seq_along(means)) {\n",
    "        n = sample(100, 1)\n",
    "        out[[i]] <- rnorm(n, means[[i]])\n",
    "    }\n",
    "    unlist(out)\n",
    "}"
   ]
  },
  {
   "cell_type": "code",
   "execution_count": 123,
   "metadata": {
    "slideshow": {
     "slide_type": "slide"
    }
   },
   "outputs": [
    {
     "name": "stdout",
     "output_type": "stream",
     "text": [
      "Unit: milliseconds\n",
      "    expr       min        lq      mean    median        uq       max neval\n",
      " f1(500) 40.158469 45.298423 51.250111 47.656748 51.642540 111.02328   100\n",
      " f2(500)  4.914606  5.182897  6.103179  5.626745  6.746227  10.32502   100\n"
     ]
    }
   ],
   "source": [
    "library(microbenchmark)\n",
    "microbenchmark(\n",
    "    f1(500),\n",
    "    f2(500)\n",
    ") %>% print"
   ]
  },
  {
   "cell_type": "markdown",
   "metadata": {
    "slideshow": {
     "slide_type": "slide"
    }
   },
   "source": [
    "### Unknown sequence length\n",
    "In some cases you don't even know how long is the sequence over which you are iterating. Here it is not possible to use a `for` loop; instead you must use a `while` loop:\n",
    "```{r}\n",
    "while (<condition>) {\n",
    "    <body>\n",
    "}\n",
    "```\n",
    "The `while` loop will continue running until `<condition>` returns `FALSE`."
   ]
  },
  {
   "cell_type": "markdown",
   "metadata": {
    "slideshow": {
     "slide_type": "slide"
    }
   },
   "source": [
    "Here's an example of how we would use a `while` loop. The following command counts the number of heads and tails encountered in tosses of a fair coin until the third head is encountered:"
   ]
  },
  {
   "cell_type": "code",
   "execution_count": 127,
   "metadata": {},
   "outputs": [
    {
     "data": {
      "text/plain": [
       "[1] 3"
      ]
     },
     "metadata": {},
     "output_type": "display_data"
    }
   ],
   "source": [
    "n_head = 0\n",
    "n_tail = 0\n",
    "while (n_head < 3) {\n",
    "    if (runif(1) < .5) {\n",
    "        n_head = n_head + 1\n",
    "    }\n",
    "    else {\n",
    "        n_tail = n_tail + 1\n",
    "    }\n",
    "}\n",
    "n_head"
   ]
  },
  {
   "cell_type": "markdown",
   "metadata": {
    "slideshow": {
     "slide_type": "notes"
    }
   },
   "source": [
    "(Bonus question: what is the distribution of `n_head + n_tail`?)\n",
    "\n",
    "As you might suspect, `while` loops are used mainly in random simulations. They don't come up a lot in data analysis. Still, it's useful to know about them."
   ]
  },
  {
   "cell_type": "markdown",
   "metadata": {
    "slideshow": {
     "slide_type": "slide"
    }
   },
   "source": [
    "## Functional programming\n",
    "R is a *functional programming language*, which means, loosely, that functions are treated just like any other data. In particular, they can be passed to other functions. As we will see, this means that most `for` loop type iterations can be replaced by cleaner, functional constructs."
   ]
  },
  {
   "cell_type": "markdown",
   "metadata": {
    "slideshow": {
     "slide_type": "slide"
    }
   },
   "source": [
    "### Example\n",
    "In the following series of examples, we'll see how the need to write extensible code naturally leads to ideas from functional programming (FP). Above we've seen several examples of functions that apply the `mean` or `median` function to each column of a tibble:"
   ]
  },
  {
   "cell_type": "code",
   "execution_count": 129,
   "metadata": {
    "slideshow": {
     "slide_type": "slide"
    }
   },
   "outputs": [
    {
     "data": {
      "text/plain": [
       "[1]  0.002576805  0.324640613  0.094145946 -0.531406959"
      ]
     },
     "metadata": {},
     "output_type": "display_data"
    }
   ],
   "source": [
    "df = tibble(\n",
    "  a = rnorm(10),\n",
    "  b = rnorm(10),\n",
    "  c = rnorm(10),\n",
    "  d = rnorm(10)\n",
    ")\n",
    "output <- vector(\"double\", length(df))\n",
    "for (i in seq_along(df)) {\n",
    "  output[[i]] <- mean(df[[i]])\n",
    "}\n",
    "output"
   ]
  },
  {
   "cell_type": "markdown",
   "metadata": {
    "slideshow": {
     "slide_type": "slide"
    }
   },
   "source": [
    "As we have already used this code (or a close variant) on several occasions, it makes sense to extract it out to a function:"
   ]
  },
  {
   "cell_type": "code",
   "execution_count": 130,
   "metadata": {},
   "outputs": [
    {
     "data": {
      "text/plain": [
       "[1]  0.002576805  0.324640613  0.094145946 -0.531406959"
      ]
     },
     "metadata": {},
     "output_type": "display_data"
    }
   ],
   "source": [
    "col_mean = function(df) {\n",
    "  output = vector(\"double\", length(df))\n",
    "  for (i in seq_along(df)) {\n",
    "    output[i] = mean(df[[i]])\n",
    "  }\n",
    "  output\n",
    "}\n",
    "df %>% col_mean"
   ]
  },
  {
   "cell_type": "markdown",
   "metadata": {
    "slideshow": {
     "slide_type": "notes"
    }
   },
   "source": [
    "The function `col_mean` could just as easily be used to compute the `median` or `rescale01` of each column. Indeed, we would only need to change a single function call in the body of the for loop:\n",
    "```{r}\n",
    "output[i] = mean(df[[i]])\n",
    "```\n",
    "So it makes sense to generalize `col_mean` to a new function that takes as parameters a data frame `df` as well as a function `f` to apply to each column:"
   ]
  },
  {
   "cell_type": "code",
   "execution_count": 132,
   "metadata": {},
   "outputs": [
    {
     "data": {
      "text/plain": [
       "[1]  0.1070448  0.1780868  0.3062926 -0.3165558"
      ]
     },
     "metadata": {},
     "output_type": "display_data"
    },
    {
     "data": {
      "text/plain": [
       "[1] 0.9391513 1.5637266 0.9687816 0.9539779"
      ]
     },
     "metadata": {},
     "output_type": "display_data"
    }
   ],
   "source": [
    "col_summary = function(df, f) {\n",
    "  output = vector(\"double\", length(df))\n",
    "  for (i in seq_along(df)) {\n",
    "    output[i] = f(df[[i]])\n",
    "  }\n",
    "  output\n",
    "}\n",
    "df %>% col_summary(median)\n",
    "df %>% col_summary(sd)"
   ]
  },
  {
   "cell_type": "markdown",
   "metadata": {
    "slideshow": {
     "slide_type": "slide"
    }
   },
   "source": [
    "Notice how much more elegant and readable `df %>% col_summary(median)` is compared to\n",
    "```{r}\n",
    "output <- vector(\"double\", length(df))\n",
    "for (i in seq_along(df)) {\n",
    "  output[[i]] <- median(df[[i]])\n",
    "}\n",
    "output\n",
    "```\n",
    "If you understand why the former is preferable, you understand the Zen of Functional Programming!"
   ]
  },
  {
   "cell_type": "markdown",
   "metadata": {
    "slideshow": {
     "slide_type": "slide"
    }
   },
   "source": [
    "## map functions\n",
    "The pattern of looping over a sequence, doing something to each element and saving the results turns out to be extremely common in data analysis (and FP more generally). It even has a name: \"map\"."
   ]
  },
  {
   "cell_type": "markdown",
   "metadata": {
    "slideshow": {
     "slide_type": "notes"
    }
   },
   "source": [
    "There is a set of functions in `tidyverse` designed to help you map over data as easily as possible:\n",
    "- `map()` makes a list.\n",
    "- `map_lgl()` makes a logical vector.\n",
    "- `map_int()` makes an integer vector.\n",
    "- `map_dbl()` makes a double vector.\n",
    "- `map_chr()` makes a character vector.\n",
    "\n",
    "In most cases we will be able to replace `for` loops with calls to these functions, leading to simpler and more readable code."
   ]
  },
  {
   "cell_type": "markdown",
   "metadata": {
    "slideshow": {
     "slide_type": "slide"
    }
   },
   "source": [
    "### Example\n",
    "How would we write `col_summary` using one of the `map` functions?"
   ]
  },
  {
   "cell_type": "code",
   "execution_count": 136,
   "metadata": {},
   "outputs": [],
   "source": [
    "# Code"
   ]
  },
  {
   "cell_type": "markdown",
   "metadata": {
    "slideshow": {
     "slide_type": "slide"
    }
   },
   "source": [
    "Compared to `col_summary`, the `map_` functions have a few advantages. One, we can forward additional arguments to the called function:"
   ]
  },
  {
   "cell_type": "code",
   "execution_count": 138,
   "metadata": {},
   "outputs": [
    {
     "data": {
      "text/plain": [
       "           a            b            c            d \n",
       " 0.002576805  0.324640613  0.094145946 -0.531406959 "
      ]
     },
     "metadata": {},
     "output_type": "display_data"
    }
   ],
   "source": [
    "df %>% map_dbl(mean, na.rm=T)"
   ]
  },
  {
   "cell_type": "markdown",
   "metadata": {
    "slideshow": {
     "slide_type": "slide"
    }
   },
   "source": [
    "Two, names are preserved:"
   ]
  },
  {
   "cell_type": "code",
   "execution_count": 142,
   "metadata": {},
   "outputs": [
    {
     "data": {
      "text/plain": [
       "  a   b   c \n",
       "1.0 2.0 2.5 "
      ]
     },
     "metadata": {},
     "output_type": "display_data"
    },
    {
     "data": {
      "text/plain": [
       "[1] 1.0 2.0 2.5"
      ]
     },
     "metadata": {},
     "output_type": "display_data"
    }
   ],
   "source": [
    "x = list(a=1, b=2, c=c(2, 3))\n",
    "map_dbl(x, mean)\n",
    "col_summary(x, mean)"
   ]
  },
  {
   "cell_type": "markdown",
   "metadata": {
    "slideshow": {
     "slide_type": "slide"
    }
   },
   "source": [
    "Three, the `map_` functions allow for some handy shortcuts in addition to taking actual function values. If you pass a *formula* instead of a function, R will convert every instance of `.` to the current list element:"
   ]
  },
  {
   "cell_type": "code",
   "execution_count": 145,
   "metadata": {},
   "outputs": [
    {
     "data": {
      "text/plain": [
       "  a         b         c         d         \n",
       "1 0.5410005 0.1726862 0.3203768 -0.2605813"
      ]
     },
     "metadata": {},
     "output_type": "display_data"
    },
    {
     "data": {
      "text/plain": [
       "$a\n",
       "[1] 0.5410005\n",
       "\n",
       "$b\n",
       "[1] 0.1726862\n",
       "\n",
       "$c\n",
       "[1] 0.3203768\n",
       "\n",
       "$d\n",
       "[1] -0.2605813\n"
      ]
     },
     "metadata": {},
     "output_type": "display_data"
    }
   ],
   "source": [
    "df[3,]\n",
    "df %>% map(~ .[[3]])  # take the third element of each column, aka the third row"
   ]
  },
  {
   "cell_type": "markdown",
   "metadata": {
    "slideshow": {
     "slide_type": "slide"
    }
   },
   "source": [
    "If you supply a string to a map function, R will extract the attribute with that name from each list element:"
   ]
  },
  {
   "cell_type": "code",
   "execution_count": 150,
   "metadata": {},
   "outputs": [
    {
     "data": {
      "text/plain": [
       "$a\n",
       "[1] 1\n",
       "\n",
       "$b\n",
       "[1] 5\n",
       "\n",
       "$d\n",
       "[1] 8\n"
      ]
     },
     "metadata": {},
     "output_type": "display_data"
    }
   ],
   "source": [
    "list(a=list(a=1, b=2), b=list(a=5, b=3), d=list(a=8, b=4)) %>% map(\"a\")"
   ]
  },
  {
   "cell_type": "markdown",
   "metadata": {
    "slideshow": {
     "slide_type": "slide"
    }
   },
   "source": [
    "Similary, an integer will extract the value at that index for each list element:"
   ]
  },
  {
   "cell_type": "code",
   "execution_count": 147,
   "metadata": {},
   "outputs": [
    {
     "data": {
      "text/plain": [
       "$a\n",
       "[1] 2\n",
       "\n",
       "$b\n",
       "[1] 3\n",
       "\n",
       "$d\n",
       "[1] 4\n"
      ]
     },
     "metadata": {},
     "output_type": "display_data"
    }
   ],
   "source": [
    "list(a=list(a=1, b=2), b=list(a=1, b=3), d=list(a=1, b=4)) %>% map(2)"
   ]
  },
  {
   "cell_type": "markdown",
   "metadata": {
    "slideshow": {
     "slide_type": "slide"
    }
   },
   "source": [
    "### map-like functions in base R\n",
    "Base R has the `apply` functions which also perform mapping. The `map_` functions in `tidyverse` have a better interface and should generally be preferred. However, because the `apply` functions are so common, we will briefly go over them here."
   ]
  },
  {
   "cell_type": "markdown",
   "metadata": {
    "slideshow": {
     "slide_type": "slide"
    }
   },
   "source": [
    "The `lapply()` function is identical to `map()`, but it does not allow for some of the convenience shortcuts that we reviewed above."
   ]
  },
  {
   "cell_type": "code",
   "execution_count": 155,
   "metadata": {},
   "outputs": [
    {
     "data": {
      "text/plain": [
       "$a\n",
       "[1] 1\n",
       "\n",
       "$b\n",
       "[1] 1\n",
       "\n",
       "$d\n",
       "[1] 1\n"
      ]
     },
     "metadata": {},
     "output_type": "display_data"
    },
    {
     "data": {
      "text/plain": [
       "$a\n",
       "[1] 1\n",
       "\n",
       "$b\n",
       "[1] 1\n",
       "\n",
       "$d\n",
       "[1] 1\n"
      ]
     },
     "metadata": {},
     "output_type": "display_data"
    }
   ],
   "source": [
    "lst = list(a=list(a=1, b=2), b=list(a=1, b=3), d=list(a=1, b=4))\n",
    "map(lst, \"a\")\n",
    "# lapply(lst, \"a\")  # error\n",
    "lapply(lst, function(x) x$a)"
   ]
  },
  {
   "cell_type": "markdown",
   "metadata": {
    "slideshow": {
     "slide_type": "slide"
    }
   },
   "source": [
    "`sapply` is a wrapper around `lapply` that applies some simplifications to the output. I avoid `sapply` because I can never remember what are its rules for simplifying. Consider this example from the book:"
   ]
  },
  {
   "cell_type": "code",
   "execution_count": 157,
   "metadata": {},
   "outputs": [],
   "source": [
    "x1 <- list(\n",
    "  c(0.27, 0.37, 0.57, 0.91, 0.20),\n",
    "  c(0.90, 0.94, 0.66, 0.63, 0.06), \n",
    "  c(0.21, 0.18, 0.69, 0.38, 0.77)\n",
    ")\n",
    "x2 <- list(\n",
    "  c(0.50, 0.72, 0.99, 0.38, 0.78), \n",
    "  c(0.93, 0.21, 0.65, 0.13, 0.27), \n",
    "  c(0.39, 0.01, 0.38, 0.87, 0.34)\n",
    ")\n",
    "\n",
    "threshold <- function(x, cutoff = 0.8) x[x > cutoff]"
   ]
  },
  {
   "cell_type": "markdown",
   "metadata": {
    "slideshow": {
     "slide_type": "slide"
    }
   },
   "source": [
    "Can somebody explain to me why "
   ]
  },
  {
   "cell_type": "code",
   "execution_count": 158,
   "metadata": {},
   "outputs": [
    {
     "name": "stdout",
     "output_type": "stream",
     "text": [
      "List of 3\n",
      " $ : num 0.91\n",
      " $ : num [1:2] 0.9 0.94\n",
      " $ : num(0) \n"
     ]
    }
   ],
   "source": [
    "x1 %>% sapply(threshold) %>% str()"
   ]
  },
  {
   "cell_type": "markdown",
   "metadata": {},
   "source": [
    "but "
   ]
  },
  {
   "cell_type": "code",
   "execution_count": 159,
   "metadata": {},
   "outputs": [
    {
     "name": "stdout",
     "output_type": "stream",
     "text": [
      " num [1:3] 0.99 0.93 0.87\n"
     ]
    }
   ],
   "source": [
    "x2 %>% sapply(threshold) %>% str()"
   ]
  },
  {
   "cell_type": "markdown",
   "metadata": {},
   "source": [
    "??"
   ]
  },
  {
   "cell_type": "markdown",
   "metadata": {
    "slideshow": {
     "slide_type": "slide"
    }
   },
   "source": [
    "## Error handling\n",
    "All of the usages of `map` so far have been toy examples with no chance of failure. In real data you will encounter errors. If you do not handle them then your computation will return errors or fail:"
   ]
  },
  {
   "cell_type": "code",
   "execution_count": 10,
   "metadata": {},
   "outputs": [],
   "source": [
    "# error\n",
    "# map_dbl(list(\"a\", -1, 2, 3, 4), log)"
   ]
  },
  {
   "cell_type": "markdown",
   "metadata": {
    "slideshow": {
     "slide_type": "notes"
    }
   },
   "source": [
    "To handle this type of situation, `tidyverse` provides you with the `safely()` command. `safely()` is an adverb: it takes a function (a verb) and returns a modified version. The modified function will never throw an error; instead, it returns a list with two elements:\n",
    "1. `result` is the original result. If there was an error, this will be `NULL`.\n",
    "2. `error` is an error object. If the operation was successful, this will be `NULL`.\n",
    "\n"
   ]
  },
  {
   "cell_type": "code",
   "execution_count": 183,
   "metadata": {
    "slideshow": {
     "slide_type": "slide"
    }
   },
   "outputs": [
    {
     "name": "stderr",
     "output_type": "stream",
     "text": [
      "Warning message in .f(...):\n",
      "“NaNs produced”"
     ]
    },
    {
     "name": "stdout",
     "output_type": "stream",
     "text": [
      "List of 5\n",
      " $ :List of 2\n",
      "  ..$ result: NULL\n",
      "  ..$ error :List of 2\n",
      "  .. ..$ message: chr \"non-numeric argument to mathematical function\"\n",
      "  .. ..$ call   : language log(x = x, base = base)\n",
      "  .. ..- attr(*, \"class\")= chr [1:3] \"simpleError\" \"error\" \"condition\"\n",
      " $ :List of 2\n",
      "  ..$ result: num NaN\n",
      "  ..$ error : NULL\n",
      " $ :List of 2\n",
      "  ..$ result: num 0.693\n",
      "  ..$ error : NULL\n",
      " $ :List of 2\n",
      "  ..$ result: num 1.1\n",
      "  ..$ error : NULL\n",
      " $ :List of 2\n",
      "  ..$ result: num 1.39\n",
      "  ..$ error : NULL\n"
     ]
    }
   ],
   "source": [
    "(res = map(list(\"a\", -1, 2, 3, 4), safely(log))) %>% str"
   ]
  },
  {
   "cell_type": "markdown",
   "metadata": {
    "slideshow": {
     "slide_type": "slide"
    }
   },
   "source": [
    "To get the results we need to extract the `result` attribute from each element of `res`. We already learned how to do this using `map`:"
   ]
  },
  {
   "cell_type": "code",
   "execution_count": 182,
   "metadata": {
    "slideshow": {
     "slide_type": "-"
    }
   },
   "outputs": [
    {
     "name": "stdout",
     "output_type": "stream",
     "text": [
      "List of 5\n",
      " $ : NULL\n",
      " $ : num NaN\n",
      " $ : num 0.693\n",
      " $ : num 1.1\n",
      " $ : num 1.39\n"
     ]
    }
   ],
   "source": [
    "map(res, \"result\") %>% str"
   ]
  },
  {
   "cell_type": "markdown",
   "metadata": {
    "slideshow": {
     "slide_type": "slide"
    }
   },
   "source": [
    "Alternatively, thinking of `res` as a matrix with two columns, we can transpose `res` and take the `result` attribute:"
   ]
  },
  {
   "cell_type": "code",
   "execution_count": 181,
   "metadata": {},
   "outputs": [
    {
     "name": "stdout",
     "output_type": "stream",
     "text": [
      "List of 5\n",
      " $ : NULL\n",
      " $ : num NaN\n",
      " $ : num 0.693\n",
      " $ : num 1.1\n",
      " $ : num 1.39\n"
     ]
    }
   ],
   "source": [
    "transpose(res)$result %>% str"
   ]
  },
  {
   "cell_type": "markdown",
   "metadata": {
    "slideshow": {
     "slide_type": "slide"
    }
   },
   "source": [
    "The related command `possibly` will return a default value wherever an error is encountered:"
   ]
  },
  {
   "cell_type": "code",
   "execution_count": 180,
   "metadata": {},
   "outputs": [
    {
     "name": "stderr",
     "output_type": "stream",
     "text": [
      "Warning message in .f(...):\n",
      "“NaNs produced”"
     ]
    },
    {
     "name": "stdout",
     "output_type": "stream",
     "text": [
      "List of 4\n",
      " $ : num NA\n",
      " $ : num NaN\n",
      " $ : num 0.693\n",
      " $ : num 1.1\n"
     ]
    }
   ],
   "source": [
    "map(list('a', -1, 2, 3), possibly(log, NA_real_)) %>% str"
   ]
  },
  {
   "cell_type": "markdown",
   "metadata": {
    "slideshow": {
     "slide_type": "slide"
    }
   },
   "source": [
    "Finally, to capture and suppress the warning message we can use `quietly()`:"
   ]
  },
  {
   "cell_type": "code",
   "execution_count": 188,
   "metadata": {},
   "outputs": [
    {
     "name": "stdout",
     "output_type": "stream",
     "text": [
      "List of 3\n",
      " $ :List of 4\n",
      "  ..$ result  : num NaN\n",
      "  ..$ output  : chr \"\"\n",
      "  ..$ warnings: chr \"NaNs produced\"\n",
      "  ..$ messages: chr(0) \n",
      " $ :List of 4\n",
      "  ..$ result  : num 0.693\n",
      "  ..$ output  : chr \"\"\n",
      "  ..$ warnings: chr(0) \n",
      "  ..$ messages: chr(0) \n",
      " $ :List of 4\n",
      "  ..$ result  : num 1.1\n",
      "  ..$ output  : chr \"\"\n",
      "  ..$ warnings: chr(0) \n",
      "  ..$ messages: chr(0) \n"
     ]
    }
   ],
   "source": [
    "map(list(-1, 2, 3), quietly(log)) %>% str"
   ]
  },
  {
   "cell_type": "markdown",
   "metadata": {
    "slideshow": {
     "slide_type": "slide"
    }
   },
   "source": [
    "## Iterating over multiple sequences at once\n",
    "Sometimes we want to iterate over multiple sequences. For example, suppose we had a vector `mu` of means and an equal length vector `sigma` of standard deviations. For each pair `mu[[i]],sigma[[i]]` we would like to generate a five standard normal random variable using `rnorm`."
   ]
  },
  {
   "cell_type": "markdown",
   "metadata": {
    "slideshow": {
     "slide_type": "slide"
    }
   },
   "source": [
    "Using `map`, we could accomplish this by"
   ]
  },
  {
   "cell_type": "code",
   "execution_count": 192,
   "metadata": {
    "slideshow": {
     "slide_type": "-"
    }
   },
   "outputs": [
    {
     "name": "stdout",
     "output_type": "stream",
     "text": [
      "List of 3\n",
      " $ : num [1:5] 5.81 3.03 5.24 3.33 5.01\n",
      " $ : num [1:5] 9.92 7.6 10.6 12.18 11.31\n",
      " $ : num [1:5] -1.65 2.76 -9.31 -2.73 -2.87\n"
     ]
    }
   ],
   "source": [
    "mu = list(5, 10, -3)\n",
    "sigma = list(1, 5, 10)\n",
    "seq_along(mu) %>% \n",
    "  map(~rnorm(5, mu[[.]], sigma[[.]])) %>% \n",
    "  str()"
   ]
  },
  {
   "cell_type": "markdown",
   "metadata": {
    "slideshow": {
     "slide_type": "notes"
    }
   },
   "source": [
    "This code could be improved -- because we don't yet know how to `map` over more than one sequence at a time, we are forced to \"hack it\" by iterating over `seq_along(mu)`. This hides the true intent of what we set out to accomplish."
   ]
  },
  {
   "cell_type": "markdown",
   "metadata": {
    "slideshow": {
     "slide_type": "slide"
    }
   },
   "source": [
    "To iterate over two sequences at once we have the `map2` command:\n",
    "```{r}\n",
    "map2(seq1, seq2, f, ...)\n",
    "```\n",
    "will call `f(seq1[[i]], seq2[[i]], ...)` for each value of `i`. Indeed, `map2` is equivalent to:\n",
    "```{r}\n",
    "map2 <- function(x, y, f, ...) {\n",
    "  out <- vector(\"list\", length(x))\n",
    "  for (i in seq_along(x)) {\n",
    "    out[[i]] <- f(x[[i]], y[[i]], ...)\n",
    "  }\n",
    "  out\n",
    "}\n",
    "```"
   ]
  },
  {
   "cell_type": "markdown",
   "metadata": {
    "slideshow": {
     "slide_type": "slide"
    }
   },
   "source": [
    "`map2` lets us succinctly rewrite the sampling code given above:"
   ]
  },
  {
   "cell_type": "code",
   "execution_count": 196,
   "metadata": {},
   "outputs": [
    {
     "data": {
      "text/plain": [
       "[[1]]\n",
       "[1] 5.447983 5.446291 5.066780 5.075793 4.059494\n",
       "\n",
       "[[2]]\n",
       "[1]  3.518528 19.366107  7.197257  5.081700 20.487066\n",
       "\n",
       "[[3]]\n",
       "[1] -9.655409  8.922227  4.592133  4.237675 -1.451280\n"
      ]
     },
     "metadata": {},
     "output_type": "display_data"
    }
   ],
   "source": [
    "map2(mu, sigma, rnorm, n = 5)"
   ]
  },
  {
   "cell_type": "markdown",
   "metadata": {
    "slideshow": {
     "slide_type": "slide"
    }
   },
   "source": [
    "We can map over arbitrarily many sequences using `pmap`. The first argument of `pmap` is a list of sequences, and the second is a function:"
   ]
  },
  {
   "cell_type": "code",
   "execution_count": 201,
   "metadata": {},
   "outputs": [
    {
     "data": {
      "text/plain": [
       "[[1]]\n",
       "[1] 5.404549 5.931190 5.489289 6.243161 4.969922\n",
       "\n",
       "[[2]]\n",
       "[1] 11.36999 10.78532 16.00125 16.17708 12.38797\n",
       "\n",
       "[[3]]\n",
       "[1] 11.84802  2.68887 13.69661 11.51808 11.91021\n"
      ]
     },
     "metadata": {},
     "output_type": "display_data"
    }
   ],
   "source": [
    "pmap(list(mu, sigma), rnorm, n = 5)"
   ]
  },
  {
   "cell_type": "markdown",
   "metadata": {
    "slideshow": {
     "slide_type": "slide"
    }
   },
   "source": [
    "```{r}\n",
    "pmap(list(mu, sigma), rnorm, n = 5)\n",
    "```\n",
    "will call `rnorm(mu[[i]], sigma[[i]], n=5)`. This relies on the correct ordering of the `mu` and `sigma` options to `rnorm`. To prevent errors, you can name each sequence in the first argument:\n",
    "```{r}\n",
    "pmap(list(mu=mu, sigma=sigma, n=5), rnorm)\n",
    "```\n",
    "will call `rnorm(mu=mu[[i]], sigma=sigma[[i]], n=5)` using named parameters. This is a bit safer so I recommend using this form."
   ]
  }
 ],
 "metadata": {
  "celltoolbar": "Slideshow",
  "kernelspec": {
   "display_name": "R",
   "language": "R",
   "name": "ir"
  },
  "language_info": {
   "codemirror_mode": "r",
   "file_extension": ".r",
   "mimetype": "text/x-r-source",
   "name": "R",
   "pygments_lexer": "r",
   "version": "3.4.3"
  }
 },
 "nbformat": 4,
 "nbformat_minor": 2
}
