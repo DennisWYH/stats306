{
 "cells": [
  {
   "cell_type": "markdown",
   "metadata": {},
   "source": [
    "# Read these instructions completely in order to receive full credit\n",
    "\n",
    "- Before you submit the problem set, make sure everything runs as expected. Go to the menu bar at the top of Jupyter Notebook and click `Kernel > Restart & Run All`. Your code should run from top to bottom with no errors. Failure to do this will result in loss of points.\n",
    "\n",
    "- You should not use `install.packages()` anywhere. You may assume that we have already installed all the packages needed to run your code.\n",
    "\n",
    "- Make sure you fill in any place that says `YOUR CODE HERE` or \"YOUR ANSWER HERE\" and delete the `stop()` functions. The `stop()` functions produce an error and are there to remind you of cells that need an answer.\n",
    "\n",
    "- If you are working in a group, make sure you and your collaborators have been [added to a group on Canvas](https://umich.instructure.com/courses/270337/discussion_topics/658777). You should also specify your group members when submitting to Gradescope.\n",
    "- As a backup, *also* fill in your uniqid as well as those of your collaborators below:"
   ]
  },
  {
   "cell_type": "markdown",
   "metadata": {},
   "source": [
    "Your uniqid: `<replace with your uniqid>`\n",
    "\n",
    "Uniqids of your collaborator(s): `<replace with their uniqids>`"
   ]
  },
  {
   "cell_type": "markdown",
   "metadata": {},
   "source": [
    "- This assignment should be submitted to both Canvas and Gradescope using the [instructions](https://piazza.com/class/jqh1wx3xw9amg?cid=55) posted on Piazza. **You must upload the problem set to __both__ Canvas and Gradescope in order to recieve full credit.** \n",
    "- **Carefully proofread the PDF that you upload to Canvas. PDFs that have missing or truncated code cannot be graded and will not receive credit.**"
   ]
  },
  {
   "cell_type": "markdown",
   "metadata": {},
   "source": [
    "---"
   ]
  },
  {
   "cell_type": "code",
   "execution_count": null,
   "metadata": {
    "deletable": false,
    "editable": false,
    "nbgrader": {
     "checksum": "a09f74e27609579bd954f12d0ad2206e",
     "grade": false,
     "grade_id": "cell-d1761bfdb43c7ec3",
     "locked": true,
     "schema_version": 1,
     "solution": false
    }
   },
   "outputs": [],
   "source": [
    "library(tidyverse)\n",
    "library(stringr)\n",
    "library(lubridate)"
   ]
  },
  {
   "cell_type": "markdown",
   "metadata": {
    "deletable": false,
    "editable": false,
    "nbgrader": {
     "checksum": "b7fa4bffcd9952753827dcf4df971b00",
     "grade": false,
     "grade_id": "cell-193dcce7ad6d5a10",
     "locked": true,
     "schema_version": 1,
     "solution": false
    }
   },
   "source": [
    "# STATS 306\n",
    "## Problem Set 7: Analyzing Twitter data\n",
    "Each problem is worth two to four points, depending on difficulty, for a total of 20."
   ]
  },
  {
   "cell_type": "markdown",
   "metadata": {
    "deletable": false,
    "editable": false,
    "nbgrader": {
     "checksum": "0c734ea6e682e0a92a76d391f0cab9f2",
     "grade": false,
     "grade_id": "cell-cae0490557e460e4",
     "locked": true,
     "schema_version": 1,
     "solution": false
    }
   },
   "source": [
    "The file `tweets.txt.gz` contains tweets from September, 2016 (a few may lay outside of this range.) The file is in a special format. The first few lines are:"
   ]
  },
  {
   "cell_type": "code",
   "execution_count": null,
   "metadata": {
    "deletable": false,
    "editable": false,
    "nbgrader": {
     "checksum": "54c0a3bedc766ab802fc7927aa77c871",
     "grade": false,
     "grade_id": "cell-60ca01f0e29815bf",
     "locked": true,
     "schema_version": 1,
     "solution": false
    }
   },
   "outputs": [],
   "source": [
    "readLines(\"tweets.txt.gz\", n = 11)"
   ]
  },
  {
   "cell_type": "markdown",
   "metadata": {
    "deletable": false,
    "editable": false,
    "nbgrader": {
     "checksum": "c2c02af971a4e3ef472c81a0e64aa047",
     "grade": false,
     "grade_id": "cell-996e7451fe14b195",
     "locked": true,
     "schema_version": 1,
     "solution": false
    }
   },
   "source": [
    "Each datum consists of a triple of lines marked `T`, `U` and `W` containing the time of the tweet, the user, and the message itself, respectively. Each triple is separated by an empty line."
   ]
  },
  {
   "cell_type": "markdown",
   "metadata": {
    "deletable": false,
    "editable": false,
    "nbgrader": {
     "checksum": "a5aad4a358b508e8e06b80675ec5e2b3",
     "grade": false,
     "grade_id": "cell-df84e125274b8c5a",
     "locked": true,
     "schema_version": 1,
     "solution": false
    }
   },
   "source": [
    "#### Problem 1 (2 pts.)\n",
    "Read `tweets.txt.gz` in and store it as an R data frame/tibble called `tweets1`. At this point, your should have a single character column and 1.4m rows. It will look like:\n",
    "```{r}\n",
    "# A tibble: 1,483,985 x 1\n",
    "   X1                                   \n",
    "   <chr>                                \n",
    " 1 \"T\\t2009-06-11 00:00:03\"             \n",
    " 2 \"U\\thttp://twitter.com/imdb\"         \n",
    " 3 \"W\\tNo Post Title\"                   \n",
    " 4 <NA>                                 \n",
    " 5 \"T\\t2009-06-11 16:37:14\"             \n",
    " 6 \"U\\thttp://twitter.com/ncruralhealth\"\n",
    " 7 \"W\\tNo Post Title\"                   \n",
    " 8 <NA>                                 \n",
    " 9 \"T\\t2009-06-11 16:56:23\"             \n",
    "10 \"U\\thttp://twitter.com/boydjones\"    \n",
    "# ... with 1,483,975 more rows\n",
    "```\n",
    "(*Note*: The `.gz` file extension indicates that this file is compressed to save space. You can load the table using the usual `tidyverse` table loading commands, as if it were a regular text file.)"
   ]
  },
  {
   "cell_type": "code",
   "execution_count": null,
   "metadata": {
    "deletable": false,
    "nbgrader": {
     "checksum": "000d49be37d5499cec4a64c1558d8501",
     "grade": false,
     "grade_id": "problem1",
     "locked": false,
     "schema_version": 1,
     "solution": true
    }
   },
   "outputs": [],
   "source": [
    "tweets1 <- NA\n",
    "# YOUR CODE HERE\n",
    "stop()"
   ]
  },
  {
   "cell_type": "code",
   "execution_count": null,
   "metadata": {
    "deletable": false,
    "editable": false,
    "nbgrader": {
     "checksum": "4add61fa3723450ab8edb1bfc6a65fb6",
     "grade": true,
     "grade_id": "problem1-test",
     "locked": true,
     "points": 2,
     "schema_version": 1,
     "solution": false
    }
   },
   "outputs": [],
   "source": [
    "stopifnot(exists(\"tweets1\"))"
   ]
  },
  {
   "cell_type": "markdown",
   "metadata": {
    "deletable": false,
    "editable": false,
    "nbgrader": {
     "checksum": "586da3f7761931103b1d10ef7d77da65",
     "grade": false,
     "grade_id": "cell-bbb554d494c84d68",
     "locked": true,
     "schema_version": 1,
     "solution": false
    }
   },
   "source": [
    "#### Problem 2 (4 pts.)\n",
    "Next, convert `tweets1` so that it has three columns reflecting the three variables present in this data set. Store the resulting table in a variable called `tweets2`. The first rows of `tweets2` will now look like:\n",
    "```\n",
    "# A tibble: 3 x 3\n",
    "  T                   U                                W                       \n",
    "  <chr>               <chr>                            <chr>                   \n",
    "1 2009-06-11 00:00:03 http://twitter.com/imdb          No Post Title           \n",
    "2 2009-06-11 16:37:14 http://twitter.com/ncruralhealth No Post Title           \n",
    "3 2009-06-11 16:56:23 http://twitter.com/boydjones     \"listening to \\\"Big Liz…\n",
    "```\n",
    "(*Hint*: If you are having trouble getting this working on the full data set, try subsetting the table to a small number of rows in order to debug your code.)"
   ]
  },
  {
   "cell_type": "code",
   "execution_count": null,
   "metadata": {
    "deletable": false,
    "nbgrader": {
     "checksum": "103d3449ca74c814f9488ac2d5d335e4",
     "grade": false,
     "grade_id": "problem2",
     "locked": false,
     "schema_version": 1,
     "solution": true
    }
   },
   "outputs": [],
   "source": [
    "tweets2 <- NA\n",
    "# YOUR CODE HERE\n",
    "stop()"
   ]
  },
  {
   "cell_type": "code",
   "execution_count": null,
   "metadata": {
    "deletable": false,
    "editable": false,
    "nbgrader": {
     "checksum": "d3a63e2fb9d880532e6427143850fff6",
     "grade": true,
     "grade_id": "problem2-test",
     "locked": true,
     "points": 2,
     "schema_version": 1,
     "solution": false
    }
   },
   "outputs": [],
   "source": [
    "stopifnot(exists(\"tweets2\"))"
   ]
  },
  {
   "cell_type": "markdown",
   "metadata": {
    "deletable": false,
    "editable": false,
    "nbgrader": {
     "checksum": "17aec1a66e1d96ce4f30662e5215163b",
     "grade": false,
     "grade_id": "cell-50fa2e3c0e07a8b3",
     "locked": true,
     "schema_version": 1,
     "solution": false
    }
   },
   "source": [
    "#### Problem 3 (2 pts.)\n",
    "Convert the `T` column to a properly formatted datetime object and give it (and the rest of the columns) an appropriate name. Also, strip off the leading `http://twitter.com/` from each user. Store the resulting table as `tweets3`. It will look like:\n",
    "```\n",
    "# A tibble: 370,997 x 3\n",
    "   time                user          tweet                                     \n",
    "   <dttm>              <chr>         <chr>                                     \n",
    " 1 2009-06-11 00:00:03 imdb          No Post Title                             \n",
    " 2 2009-06-11 16:37:14 ncruralhealth No Post Title                             \n",
    " 3 2009-06-11 16:56:23 boydjones     \"listening to \\\"Big Lizard - The Dead Mil…\n",
    " 4 2009-06-11 16:56:59 cameron987    @beatrizchavez A dork? NO way... you are.…\n",
    " 5 2009-06-11 16:57:03 selenato      @okaaaa 本当ね！2週間楽しみがありすぎわ、まじで…本当きどうさんへの愛がこ…\n",
    " 6 2009-06-11 16:57:30 nbeasley10    Just got a chance to buy All-Star tickets…\n",
    " 7 2009-06-11 16:57:31 littlewing333 @kidhum and if an act has pull and they d…\n",
    " 8 2009-06-11 16:57:33 lolcute       mebbe U fetch http://tinyurl.com/nz4fbr   \n",
    " 9 2009-06-11 16:57:36 fr0st22       I have broken 1,000 twitter updates. Paaa…\n",
    "10 2009-06-11 16:57:59 mavellsyrup   Food timmeeee :'D                         \n",
    "# ... with 370,987 more rows\n",
    "```"
   ]
  },
  {
   "cell_type": "code",
   "execution_count": null,
   "metadata": {
    "deletable": false,
    "nbgrader": {
     "checksum": "758d7692014ebf481ceee59f94304aaf",
     "grade": false,
     "grade_id": "problem3",
     "locked": false,
     "schema_version": 1,
     "solution": true
    }
   },
   "outputs": [],
   "source": [
    "tweets3 <- NA\n",
    "# YOUR CODE HERE\n",
    "stop()"
   ]
  },
  {
   "cell_type": "code",
   "execution_count": null,
   "metadata": {
    "deletable": false,
    "editable": false,
    "nbgrader": {
     "checksum": "6f7fbbe031496203918b921bdafb0d5e",
     "grade": true,
     "grade_id": "problem3-test",
     "locked": true,
     "points": 2,
     "schema_version": 1,
     "solution": false
    }
   },
   "outputs": [],
   "source": [
    "stopifnot(exists(\"tweets3\"))"
   ]
  },
  {
   "cell_type": "markdown",
   "metadata": {
    "deletable": false,
    "editable": false,
    "nbgrader": {
     "checksum": "224d53e0d0eb1cbf2a22696044d6a2d3",
     "grade": false,
     "grade_id": "cell-000d1945c67135ff",
     "locked": true,
     "schema_version": 1,
     "solution": false
    }
   },
   "source": [
    "#### Problem 4 (2 pts.)\n",
    "Plot the total number of tweets by hour in `tweets3`. What is the busiest/least busy time of day for tweeting?"
   ]
  },
  {
   "cell_type": "code",
   "execution_count": null,
   "metadata": {
    "deletable": false,
    "nbgrader": {
     "checksum": "c6e1bd8fcf5f6b95538f6cd133d02ad2",
     "grade": true,
     "grade_id": "cell-9f51ddcb173b8b1c",
     "locked": false,
     "points": 2,
     "schema_version": 1,
     "solution": true
    }
   },
   "outputs": [],
   "source": [
    "# YOUR CODE HERE\n",
    "stop()"
   ]
  },
  {
   "cell_type": "markdown",
   "metadata": {
    "deletable": false,
    "editable": false,
    "nbgrader": {
     "checksum": "2cb0c18093a0ce9c8f3ddb9159405e9b",
     "grade": false,
     "grade_id": "cell-a3ba499f059b6ca4",
     "locked": true,
     "schema_version": 1,
     "solution": false
    }
   },
   "source": [
    "### Sentiment analysis of Twitter data\n",
    "*Sentiment analysis* tries to assign a numerical sentiment score to written language. Positive language has a positive sentiment score and similarly for negative language. We will use the same `sentiments` table that we saw in lecture:"
   ]
  },
  {
   "cell_type": "code",
   "execution_count": null,
   "metadata": {
    "deletable": false,
    "editable": false,
    "nbgrader": {
     "checksum": "e40db1e7aae2f0db8e7fd2981e1ee109",
     "grade": false,
     "grade_id": "cell-2ba9349f3a24cabd",
     "locked": true,
     "schema_version": 1,
     "solution": false
    }
   },
   "outputs": [],
   "source": [
    "load(\"sentiments.RData\")\n",
    "print(sentiments)"
   ]
  },
  {
   "cell_type": "markdown",
   "metadata": {
    "deletable": false,
    "editable": false,
    "nbgrader": {
     "checksum": "0c253bfc1c6bfa952cc587d2f3437ae7",
     "grade": false,
     "grade_id": "cell-1c739b2a9bdcc329",
     "locked": true,
     "schema_version": 1,
     "solution": false
    }
   },
   "source": [
    "#### Problem 5 (4 pts.)\n",
    "Define the sentiment score of each tweet in `tweets3` to be the sum of all the sentiment scores for all matching words in the `sents` table. For example, if the tweet says `I abhor abductions`, then, from the above table, it would get a sentiment score of -5. (If a tweet does not have any matching sentiment words, assign it a score of zero.)\n",
    "\n",
    "Use the `unnest()` function to break each tweet in `tweets3` into words, and generate sentiment scores by joining the sentiments table. Store the result in a table called `tweets5`. The first rows will be: \n",
    "```\n",
    "# A tibble: 5 x 4\n",
    "# Groups:   time, user [5]\n",
    "  time                user          tweet                                 score\n",
    "  <dttm>              <chr>         <chr>                                 <int>\n",
    "1 2009-06-11 00:00:03 imdb          No Post Title                            -1\n",
    "2 2009-06-11 16:37:14 ncruralhealth No Post Title                            -1\n",
    "3 2009-06-11 16:56:23 boydjones     \"listening to \\\"Big Lizard - The Dea…    -2\n",
    "4 2009-06-11 16:56:59 cameron987    @beatrizchavez A dork? NO way... you…    -3\n",
    "5 2009-06-11 16:57:30 nbeasley10    Just got a chance to buy All-Star ti…     5\n",
    "```"
   ]
  },
  {
   "cell_type": "code",
   "execution_count": null,
   "metadata": {
    "deletable": false,
    "nbgrader": {
     "checksum": "57dbd4eeffe50ab146a82170a16c39a6",
     "grade": false,
     "grade_id": "problem5",
     "locked": false,
     "schema_version": 1,
     "solution": true
    }
   },
   "outputs": [],
   "source": [
    "tweets5 <- NA\n",
    "# YOUR CODE HERE\n",
    "stop()"
   ]
  },
  {
   "cell_type": "code",
   "execution_count": null,
   "metadata": {
    "deletable": false,
    "editable": false,
    "nbgrader": {
     "checksum": "db478be75a53578867cc50592126feb4",
     "grade": true,
     "grade_id": "problem5-test",
     "locked": true,
     "points": 4,
     "schema_version": 1,
     "solution": false
    }
   },
   "outputs": [],
   "source": [
    "stopifnot(exists(\"tweets5\"))"
   ]
  },
  {
   "cell_type": "code",
   "execution_count": null,
   "metadata": {},
   "outputs": [],
   "source": [
    "filter(tj, score.x != score.y) %>% print"
   ]
  },
  {
   "cell_type": "markdown",
   "metadata": {
    "deletable": false,
    "editable": false,
    "nbgrader": {
     "checksum": "6ba2002dcf4dd66971f9028947271beb",
     "grade": false,
     "grade_id": "cell-4d064b7e7e3d13fe",
     "locked": true,
     "schema_version": 1,
     "solution": false
    }
   },
   "source": [
    "#### Problem 6 (4 pts.)\n",
    "Plot the distribution of sentiment score for each day of the week. On which day(s) do people seem happiest? Least happy? Are these differences significant? Explain your reasoning."
   ]
  },
  {
   "cell_type": "code",
   "execution_count": null,
   "metadata": {
    "deletable": false,
    "nbgrader": {
     "checksum": "87b61df89c736619344c067736e8293f",
     "grade": true,
     "grade_id": "cell-51f9a100083fc37e",
     "locked": false,
     "points": 4,
     "schema_version": 1,
     "solution": true
    }
   },
   "outputs": [],
   "source": [
    "# tweets5 %>% print\n",
    "# YOUR CODE HERE\n",
    "stop()"
   ]
  },
  {
   "cell_type": "markdown",
   "metadata": {
    "deletable": false,
    "editable": false,
    "nbgrader": {
     "checksum": "8653d5ce0c23f6706563fe05293de8e0",
     "grade": false,
     "grade_id": "cell-050892a06e36fd50",
     "locked": true,
     "schema_version": 1,
     "solution": false
    }
   },
   "source": [
    "#### Problem 7 (4 pts.)\n",
    "Nothing says data science like a word cloud:"
   ]
  },
  {
   "cell_type": "code",
   "execution_count": null,
   "metadata": {
    "deletable": false,
    "editable": false,
    "nbgrader": {
     "checksum": "a26d9231ccaca740880ac6fb13af8aef",
     "grade": false,
     "grade_id": "cell-6ce6108054ff8d45",
     "locked": true,
     "schema_version": 1,
     "solution": false
    }
   },
   "outputs": [],
   "source": [
    "# again, you'll need to install if not on the server.\n",
    "library(wordcloud)\n",
    "wordcloud(words=c(\"my\", \"favorite\", \"words\"),  # the words\n",
    "          freq=c(10, 20, 30)  # freq. of each word\n",
    "          )"
   ]
  },
  {
   "cell_type": "markdown",
   "metadata": {
    "deletable": false,
    "editable": false,
    "nbgrader": {
     "checksum": "5765d55efd10a73f68093de7dfcec3b8",
     "grade": false,
     "grade_id": "cell-5a75ede387eeddae",
     "locked": true,
     "schema_version": 1,
     "solution": false
    }
   },
   "source": [
    "Create a wordcloud of the 100 most common words occuring in the 1000 most positive tweets when ordered according to sentiment score. \n",
    "\n",
    "(*Hint*: to make a nicer graphic, remove so-called stop words (\"the\", \"and\", \"or\", etc.) before computing the top 100. Use `anti_join()` along with the words in `stop_words`:"
   ]
  },
  {
   "cell_type": "code",
   "execution_count": null,
   "metadata": {
    "deletable": false,
    "editable": false,
    "nbgrader": {
     "checksum": "d22fb236b4e0dca8d372b0dbb3832dc6",
     "grade": false,
     "grade_id": "cell-f1766f43b98d9013",
     "locked": true,
     "schema_version": 1,
     "solution": false
    }
   },
   "outputs": [],
   "source": [
    "stop_words %>% print"
   ]
  },
  {
   "cell_type": "markdown",
   "metadata": {
    "deletable": false,
    "editable": false,
    "nbgrader": {
     "checksum": "62c7521a495e12a369f6113c6515e8fe",
     "grade": false,
     "grade_id": "cell-db88d930eb54127f",
     "locked": true,
     "schema_version": 1,
     "solution": false
    }
   },
   "source": [
    "You may also remove other commonly occuring non-words (e.g. `https`) in order to improve the appearance of the word cloud."
   ]
  },
  {
   "cell_type": "code",
   "execution_count": null,
   "metadata": {
    "deletable": false,
    "nbgrader": {
     "checksum": "4630f05d5a40e6b5d244b9ce9fc6baea",
     "grade": true,
     "grade_id": "cell-592caa171f94225a",
     "locked": false,
     "points": 4,
     "schema_version": 1,
     "solution": true
    }
   },
   "outputs": [],
   "source": [
    "# YOUR CODE HERE\n",
    "stop()"
   ]
  }
 ],
 "metadata": {
  "kernelspec": {
   "display_name": "R",
   "language": "R",
   "name": "ir"
  },
  "language_info": {
   "codemirror_mode": "r",
   "file_extension": ".r",
   "mimetype": "text/x-r-source",
   "name": "R",
   "pygments_lexer": "r",
   "version": "3.5.2"
  }
 },
 "nbformat": 4,
 "nbformat_minor": 2
}
