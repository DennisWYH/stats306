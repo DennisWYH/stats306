{
 "cells": [
  {
   "cell_type": "markdown",
   "metadata": {},
   "source": [
    "# Read these instructions completely in order to receive full credit\n",
    "\n",
    "- Before you submit the problem set, make sure everything runs as expected. Go to the menu bar at the top of Jupyter Notebook and click `Kernel > Restart & Run All`. Your code should run from top to bottom with no errors. Failure to do this will result in loss of points.\n",
    "\n",
    "- You should not use `install.packages()` anywhere. You may assume that we have already installed all the packages needed to run your code.\n",
    "\n",
    "- Make sure you fill in any place that says `YOUR CODE HERE` or \"YOUR ANSWER HERE\" and delete the `stop()` functions. The `stop()` functions produce an error and are there to remind you of cells that need an answer.\n",
    "\n",
    "- If you are working in a group, make sure you and your collaborators have been [added to a group on Canvas](https://umich.instructure.com/courses/270337/discussion_topics/658777). You should also specify your group members when submitting to Gradescope.\n",
    "- As a backup, *also* fill in your uniqid as well as those of your collaborators below:"
   ]
  },
  {
   "cell_type": "markdown",
   "metadata": {},
   "source": [
    "Your uniqid: `<replace with your uniqid>`\n",
    "\n",
    "Uniqids of your collaborator(s): `<replace with their uniqids>`"
   ]
  },
  {
   "cell_type": "markdown",
   "metadata": {},
   "source": [
    "- This assignment should be submitted to both Canvas and Gradescope using the [instructions](https://piazza.com/class/jqh1wx3xw9amg?cid=55) posted on Piazza. **You must upload the problem set to __both__ Canvas and Gradescope in order to recieve full credit.** \n",
    "- **Carefully proofread the PDF that you upload to Canvas. PDFs that have missing or truncated code cannot be graded and will not receive credit.**"
   ]
  },
  {
   "cell_type": "markdown",
   "metadata": {},
   "source": [
    "---"
   ]
  },
  {
   "cell_type": "code",
   "execution_count": null,
   "metadata": {
    "deletable": false,
    "editable": false,
    "nbgrader": {
     "checksum": "e8f249217e663dd336e1a7c636444d5d",
     "grade": false,
     "grade_id": "cell-d1761bfdb43c7ec3",
     "locked": true,
     "schema_version": 1,
     "solution": false
    }
   },
   "outputs": [],
   "source": [
    "library(tidyverse)\n",
    "library(stringr)\n",
    "options(jupyter.rich_display=T)"
   ]
  },
  {
   "cell_type": "markdown",
   "metadata": {
    "deletable": false,
    "editable": false,
    "nbgrader": {
     "checksum": "698b16cb79795960bb9387d62bf5ed37",
     "grade": false,
     "grade_id": "cell-a2b64305f95add5c",
     "locked": true,
     "schema_version": 1,
     "solution": false
    }
   },
   "source": [
    "# STATS 306\n",
    "## Problem Set 6: Strings and regular expressions\n",
    "Each problem is worth 2-4 points for a total of 20."
   ]
  },
  {
   "cell_type": "markdown",
   "metadata": {
    "deletable": false,
    "editable": false,
    "nbgrader": {
     "checksum": "b30ad786cccdc44001e9b54a04123382",
     "grade": false,
     "grade_id": "cell-38b79f91d7075473",
     "locked": true,
     "schema_version": 1,
     "solution": false
    }
   },
   "source": [
    "#### Problem 1\n",
    "Write a regular expression which matches words of the form `DcccccD`, where `D` is any digit and `c` is any lower case letter. The first and last digits do not have to be the same. Store your regular expression in a variable called `re1`."
   ]
  },
  {
   "cell_type": "code",
   "execution_count": null,
   "metadata": {
    "deletable": false,
    "nbgrader": {
     "checksum": "1af52bbc365d90124afee3271c060959",
     "grade": false,
     "grade_id": "problem1",
     "locked": false,
     "schema_version": 1,
     "solution": true
    }
   },
   "outputs": [],
   "source": [
    "# YOUR CODE HERE\n",
    "stop()"
   ]
  },
  {
   "cell_type": "code",
   "execution_count": null,
   "metadata": {
    "deletable": false,
    "editable": false,
    "nbgrader": {
     "checksum": "c166b26b9626e62e63d16d657bfca24f",
     "grade": true,
     "grade_id": "problem1-tests",
     "locked": true,
     "points": 2,
     "schema_version": 1,
     "solution": false
    }
   },
   "outputs": [],
   "source": [
    "stopifnot(exists(\"re1\"))"
   ]
  },
  {
   "cell_type": "markdown",
   "metadata": {
    "deletable": false,
    "editable": false,
    "nbgrader": {
     "checksum": "0e89ebeb95c94d33c2df77f241e199e3",
     "grade": false,
     "grade_id": "cell-81cd47b44f8c370a",
     "locked": true,
     "schema_version": 1,
     "solution": false
    }
   },
   "source": [
    "#### Problem 2\n",
    "The *word-boundary* character class `\\b` matches the beginning and end of a word:"
   ]
  },
  {
   "cell_type": "code",
   "execution_count": null,
   "metadata": {
    "deletable": false,
    "editable": false,
    "nbgrader": {
     "checksum": "db6c4161ab8f3496724a0e75dd35dad8",
     "grade": false,
     "grade_id": "cell-73e3f9c1c7adc035",
     "locked": true,
     "schema_version": 1,
     "solution": false
    }
   },
   "outputs": [],
   "source": [
    "str_view_all(\"These are some words.\", \"\\\\b\")"
   ]
  },
  {
   "cell_type": "markdown",
   "metadata": {
    "deletable": false,
    "editable": false,
    "nbgrader": {
     "checksum": "5bf499b4b07307dbd956c5bcf751e37a",
     "grade": false,
     "grade_id": "cell-e91ff6f2b9164e7d",
     "locked": true,
     "schema_version": 1,
     "solution": false
    }
   },
   "source": [
    "Use this character class to write a regular expression `re2` such that `str_count(s, re2)` counts the number of words in the string `s`. Here a word is defined a consecutive string of letters or apostrophes."
   ]
  },
  {
   "cell_type": "code",
   "execution_count": null,
   "metadata": {
    "deletable": false,
    "nbgrader": {
     "checksum": "810d0cbaddd62423b7ead428660598d5",
     "grade": false,
     "grade_id": "problem2",
     "locked": false,
     "schema_version": 1,
     "solution": true
    }
   },
   "outputs": [],
   "source": [
    "# YOUR CODE HERE\n",
    "stop()"
   ]
  },
  {
   "cell_type": "code",
   "execution_count": null,
   "metadata": {
    "deletable": false,
    "editable": false,
    "nbgrader": {
     "checksum": "d65c0c3ad04626efcaf90a8b815fe33f",
     "grade": true,
     "grade_id": "problem2-tests",
     "locked": true,
     "points": 2,
     "schema_version": 1,
     "solution": false
    }
   },
   "outputs": [],
   "source": [
    "stopifnot(exists(\"re2\"))"
   ]
  },
  {
   "cell_type": "markdown",
   "metadata": {
    "deletable": false,
    "editable": false,
    "nbgrader": {
     "checksum": "9fc8425852c14d9828fdbb25c1510117",
     "grade": false,
     "grade_id": "cell-af3a689f4cd0142b",
     "locked": true,
     "schema_version": 1,
     "solution": false
    }
   },
   "source": [
    "#### Problem 3\n",
    "Write a regular expression which matches any word containing exactly two vowels. Store this regular expression in a variable named `re3`. \"Word\" is defined as in problem 2."
   ]
  },
  {
   "cell_type": "code",
   "execution_count": null,
   "metadata": {
    "deletable": false,
    "nbgrader": {
     "checksum": "a7a35665924ac6e8ea248dd43170080a",
     "grade": false,
     "grade_id": "problem3",
     "locked": false,
     "schema_version": 1,
     "solution": true
    }
   },
   "outputs": [],
   "source": [
    "# YOUR CODE HERE\n",
    "stop()"
   ]
  },
  {
   "cell_type": "code",
   "execution_count": null,
   "metadata": {
    "deletable": false,
    "editable": false,
    "nbgrader": {
     "checksum": "8c1f5c2e4bc2850d29790c14f4e89a25",
     "grade": true,
     "grade_id": "problem3-tests",
     "locked": true,
     "points": 2,
     "schema_version": 1,
     "solution": false
    }
   },
   "outputs": [],
   "source": [
    "stopifnot(exists(\"re3\"))"
   ]
  },
  {
   "cell_type": "markdown",
   "metadata": {
    "deletable": false,
    "editable": false,
    "nbgrader": {
     "checksum": "5f17bf55edd1cbcc5ecfeff75b3a6764",
     "grade": false,
     "grade_id": "cell-fcf7e9fd52c5e954",
     "locked": true,
     "schema_version": 1,
     "solution": false
    }
   },
   "source": [
    "#### Problem 4\n",
    "For this problem, we define a proper noun as one or more capitalized words, optionally separated by the word(s) \"and\", \"of\", \"the\", and/or \"by\". Write a regular expression which matches proper nouns. Store your expression in a variable called `re4`. (If a capitalized word occurs at the beginning of a sentence, you may assume it is part of a proper noun.)"
   ]
  },
  {
   "cell_type": "code",
   "execution_count": null,
   "metadata": {
    "deletable": false,
    "nbgrader": {
     "checksum": "8e46c20da932e27a41e044c3dbf78c14",
     "grade": false,
     "grade_id": "problem4",
     "locked": false,
     "schema_version": 1,
     "solution": true
    }
   },
   "outputs": [],
   "source": [
    "# YOUR CODE HERE\n",
    "stop()"
   ]
  },
  {
   "cell_type": "code",
   "execution_count": null,
   "metadata": {
    "deletable": false,
    "editable": false,
    "nbgrader": {
     "checksum": "db27f3aa68a90e3917f6141b2657abfc",
     "grade": true,
     "grade_id": "problem4-tests",
     "locked": true,
     "points": 2,
     "schema_version": 1,
     "solution": false
    }
   },
   "outputs": [],
   "source": [
    "stopifnot(exists(\"re4\"))"
   ]
  },
  {
   "cell_type": "markdown",
   "metadata": {
    "deletable": false,
    "editable": false,
    "nbgrader": {
     "checksum": "9a118af952691b1a28e4bdf8cc459b82",
     "grade": false,
     "grade_id": "cell-88cc4a18e1b9dba3",
     "locked": true,
     "schema_version": 1,
     "solution": false
    }
   },
   "source": [
    "#### Problem 5**\n",
    "Write a regular expression to match phone numbers. A phone number can be in any one of the following forms:\n",
    "```\n",
    "(123) 456-7890\n",
    "(123)456-7890\n",
    "1234567890\n",
    "123 456 7890\n",
    "123-456-7890\n",
    "123.456.7890\n",
    "```\n",
    "Store your regular expression in a variable called `re5`."
   ]
  },
  {
   "cell_type": "code",
   "execution_count": null,
   "metadata": {
    "deletable": false,
    "nbgrader": {
     "checksum": "4df709f66be0bc42b07aa0fdd73a12d2",
     "grade": false,
     "grade_id": "problem5",
     "locked": false,
     "schema_version": 1,
     "solution": true
    }
   },
   "outputs": [],
   "source": [
    "# YOUR CODE HERE\n",
    "stop()"
   ]
  },
  {
   "cell_type": "code",
   "execution_count": null,
   "metadata": {
    "deletable": false,
    "editable": false,
    "nbgrader": {
     "checksum": "31751b64bdbdeacab4d8d00c1cd1bc0c",
     "grade": true,
     "grade_id": "problem5-tests",
     "locked": true,
     "points": 2,
     "schema_version": 1,
     "solution": false
    }
   },
   "outputs": [],
   "source": [
    "stopifnot(exists(\"re5\"))"
   ]
  },
  {
   "cell_type": "markdown",
   "metadata": {
    "deletable": false,
    "editable": false,
    "nbgrader": {
     "checksum": "a621be89ab38305dea638e4d42888c32",
     "grade": false,
     "grade_id": "cell-5bc6a841f10de3fa",
     "locked": true,
     "schema_version": 1,
     "solution": false
    }
   },
   "source": [
    "#### Problem 6\n",
    "The `str_trim()` function trims leading and trailing whitespace from a string:"
   ]
  },
  {
   "cell_type": "code",
   "execution_count": null,
   "metadata": {
    "deletable": false,
    "editable": false,
    "nbgrader": {
     "checksum": "199ed77a299a77bd756f934229ea947e",
     "grade": false,
     "grade_id": "cell-fef96d3a5cd70731",
     "locked": true,
     "schema_version": 1,
     "solution": false
    }
   },
   "outputs": [],
   "source": [
    "str_trim(\"   This will be trimmed \")"
   ]
  },
  {
   "cell_type": "markdown",
   "metadata": {
    "deletable": false,
    "editable": false,
    "nbgrader": {
     "checksum": "ed0d3820a8a8a51b21cd4d0bfa0f0731",
     "grade": false,
     "grade_id": "cell-061b885c2ead5614",
     "locked": true,
     "schema_version": 1,
     "solution": false
    }
   },
   "source": [
    "The `str_replace()` function uses a regex to find and replace parts of a string:"
   ]
  },
  {
   "cell_type": "code",
   "execution_count": null,
   "metadata": {
    "deletable": false,
    "editable": false,
    "nbgrader": {
     "checksum": "6d246c1a9c0e8d42d898ee847f20731a",
     "grade": false,
     "grade_id": "cell-12993fa4682c5f1b",
     "locked": true,
     "schema_version": 1,
     "solution": false
    }
   },
   "outputs": [],
   "source": [
    "str_replace(\"pizza\", pattern = \"$\", replacement = \"ioli\")\n",
    "str_replace(\"three five\", \" fi\", \"\")\n",
    "# note use of capture/backreference in this example\n",
    "str_replace_all(\"amazonas\", pattern = \"(.)a\", replacement = \"\\\\1e\")  "
   ]
  },
  {
   "cell_type": "markdown",
   "metadata": {
    "deletable": false,
    "editable": false,
    "nbgrader": {
     "checksum": "aaf945f2ad5c87a7b3ba3f203b88db81",
     "grade": false,
     "grade_id": "cell-397d9901f049e37a",
     "locked": true,
     "schema_version": 1,
     "solution": false
    }
   },
   "source": [
    "Create a regular expression called `re6` which, for a given string `s`, captures the trimmed version of `s` into group 1. That is, for any string `s`, calling `str_replace(s, re6, \"\\\\1\")` should produce the same output as `str_trim(s)`."
   ]
  },
  {
   "cell_type": "code",
   "execution_count": null,
   "metadata": {
    "deletable": false,
    "nbgrader": {
     "checksum": "24b3ca4a5e50a6434fc8ecc8128da79b",
     "grade": false,
     "grade_id": "problem6",
     "locked": false,
     "schema_version": 1,
     "solution": true
    }
   },
   "outputs": [],
   "source": [
    "# YOUR CODE HERE\n",
    "stop()"
   ]
  },
  {
   "cell_type": "code",
   "execution_count": null,
   "metadata": {
    "deletable": false,
    "editable": false,
    "nbgrader": {
     "checksum": "1e0dff003573a32f840250c295b96d44",
     "grade": true,
     "grade_id": "problem6-tests",
     "locked": true,
     "points": 2,
     "schema_version": 1,
     "solution": false
    }
   },
   "outputs": [],
   "source": [
    "stopifnot(exists(\"re6\"))"
   ]
  },
  {
   "cell_type": "markdown",
   "metadata": {
    "deletable": false,
    "editable": false,
    "nbgrader": {
     "checksum": "4eb7b04cc78d5b1d018e7be28be9724c",
     "grade": false,
     "grade_id": "cell-718c986a9bef0aca",
     "locked": true,
     "schema_version": 1,
     "solution": false
    }
   },
   "source": [
    "### Reddit dataset\n",
    "The file `reddit_xmas_2017.RData` contains 100,000 comments posted to Reddit on Christmas Day, 2017."
   ]
  },
  {
   "cell_type": "code",
   "execution_count": null,
   "metadata": {
    "deletable": false,
    "editable": false,
    "nbgrader": {
     "checksum": "7ec34324a7611755ee8ad76dc145369b",
     "grade": false,
     "grade_id": "cell-1fa7cd0e5989af42",
     "locked": true,
     "schema_version": 1,
     "solution": false
    }
   },
   "outputs": [],
   "source": [
    "load('reddit_xmas_2017.RData')\n",
    "reddit %>% print"
   ]
  },
  {
   "cell_type": "markdown",
   "metadata": {
    "deletable": false,
    "editable": false,
    "nbgrader": {
     "checksum": "07e3b77026b63a37391b1a3d89187a9d",
     "grade": false,
     "grade_id": "cell-849387f1fbc6d3aa",
     "locked": true,
     "schema_version": 1,
     "solution": false
    }
   },
   "source": [
    "Problems 7-9 ask you questions about this data set. Unless specified otherwise, all matches are case insensitive.\n",
    "\n",
    "(*Disclaimer*: I filtered out objectionable comments as best I could, but you will certainly find more if you dig around this data for long enough.)"
   ]
  },
  {
   "cell_type": "markdown",
   "metadata": {
    "deletable": false,
    "editable": false,
    "nbgrader": {
     "checksum": "da88fa67c34a20167ad42b847daa946c",
     "grade": false,
     "grade_id": "cell-d055c5ffc0dc61ba",
     "locked": true,
     "schema_version": 1,
     "solution": false
    }
   },
   "source": [
    "### Problem 7\n",
    "Comment 174 wishes everyone a happy holidays:"
   ]
  },
  {
   "cell_type": "code",
   "execution_count": null,
   "metadata": {
    "deletable": false,
    "editable": false,
    "nbgrader": {
     "checksum": "8b62769948ddd6b757ecfd015652bdb6",
     "grade": false,
     "grade_id": "cell-ddc6b4bbd07aed37",
     "locked": true,
     "schema_version": 1,
     "solution": false
    }
   },
   "outputs": [],
   "source": [
    "reddit %>% slice(174)"
   ]
  },
  {
   "cell_type": "markdown",
   "metadata": {
    "deletable": false,
    "editable": false,
    "nbgrader": {
     "checksum": "28ed0c07e0310b1bae6708e970a48824",
     "grade": false,
     "grade_id": "cell-ce3d459d5d49dde1",
     "locked": true,
     "schema_version": 1,
     "solution": false
    }
   },
   "source": [
    "What are other people wishing? Count the first occurrence of the string \"Happy `<word>`\" or \"Merry `<word>`\" in the comment body, if any, count the matches in a sorted table called `table7`, the first few rows of which are shown below:\n",
    "\n",
    "<table>\n",
    "<thead><tr><th scope=\"col\">greeting</th><th scope=\"col\">n</th></tr></thead>\n",
    "<tbody>\n",
    "\t<tr><td>merry christmas</td><td>2040           </td></tr>\n",
    "\t<tr><td>happy holidays </td><td> 477           </td></tr>\n",
    "\t<tr><td>happy to       </td><td> &mdash;           </td></tr>\n",
    "\t<tr><td>merry xmas     </td><td>  &mdash;           </td></tr>\n",
    "\t<tr><td>happy with     </td><td>  &mdash;           </td></tr>\n",
    "\t<tr><td>happy christmas</td><td>  &mdash;           </td></tr>\n",
    "\t<tr><td>happy for      </td><td>  39           </td></tr>\n",
    "\t<tr><td>happy cake     </td><td>  &mdash;           </td></tr>\n",
    "\t<tr><td>happy about    </td><td>  27           </td></tr>\n",
    "\t<tr><td>happy and      </td><td>  &mdash;           </td></tr>\n",
    "</tbody>\n",
    "</table>"
   ]
  },
  {
   "cell_type": "code",
   "execution_count": null,
   "metadata": {
    "deletable": false,
    "nbgrader": {
     "checksum": "e399168030692da716f5bbe6ffde0cce",
     "grade": false,
     "grade_id": "problem7",
     "locked": false,
     "schema_version": 1,
     "solution": true
    }
   },
   "outputs": [],
   "source": [
    "# YOUR CODE HERE\n",
    "stop()"
   ]
  },
  {
   "cell_type": "code",
   "execution_count": null,
   "metadata": {
    "deletable": false,
    "editable": false,
    "nbgrader": {
     "checksum": "73435b24d1951f23d888abbdb0eb11e3",
     "grade": true,
     "grade_id": "problem7-tests",
     "locked": true,
     "points": 2,
     "schema_version": 1,
     "solution": false
    }
   },
   "outputs": [],
   "source": [
    "stopifnot(exists(\"table7\"))"
   ]
  },
  {
   "attachments": {
    "image.png": {
     "image/png": "[encoded data removed]"
    }
   },
   "cell_type": "markdown",
   "metadata": {
    "deletable": false,
    "editable": false,
    "nbgrader": {
     "checksum": "13f7e526952a663629aa224d09713c69",
     "grade": false,
     "grade_id": "cell-0868e4922137bd0e",
     "locked": true,
     "schema_version": 1,
     "solution": false
    }
   },
   "source": [
    "### Problem 8\n",
    "The number of hourly mentions of the word `christmas`or `xmas` is:\n",
    "![image.png](attachment:image.png)\n",
    "\n",
    "Make a similar plot for hourly mentions of \"snow\"."
   ]
  },
  {
   "cell_type": "code",
   "execution_count": null,
   "metadata": {
    "deletable": false,
    "nbgrader": {
     "checksum": "70f5e51000504ce5f2d5953c6bed1ca6",
     "grade": true,
     "grade_id": "cell-2eb072f24d1e2cad",
     "locked": false,
     "points": 2,
     "schema_version": 1,
     "solution": true
    }
   },
   "outputs": [],
   "source": [
    "# YOUR CODE HERE\n",
    "stop()"
   ]
  },
  {
   "cell_type": "markdown",
   "metadata": {
    "deletable": false,
    "editable": false,
    "nbgrader": {
     "checksum": "a6903f70ec5f7e140c82f96baf07583c",
     "grade": false,
     "grade_id": "cell-20558470b3ffcd4b",
     "locked": true,
     "schema_version": 1,
     "solution": false
    }
   },
   "source": [
    "#### Problem 9**\n",
    "The most common word in the comments is \"the\", which occurs 81,104 times."
   ]
  },
  {
   "cell_type": "code",
   "execution_count": null,
   "metadata": {
    "deletable": false,
    "editable": false,
    "nbgrader": {
     "checksum": "3320d6e345bcf1bd0b4e8506f093fd75",
     "grade": false,
     "grade_id": "cell-038ba13df5005cbe",
     "locked": true,
     "schema_version": 1,
     "solution": false
    }
   },
   "outputs": [],
   "source": [
    "reddit %>% mutate(c=str_count(str_to_lower(body), '\\\\bthe\\\\b')) %>% summarize(sum(c))"
   ]
  },
  {
   "cell_type": "markdown",
   "metadata": {
    "deletable": false,
    "editable": false,
    "nbgrader": {
     "checksum": "3001bd13f86e0e3b807c59a26f4b27ea",
     "grade": false,
     "grade_id": "cell-b5cf9187093adffe",
     "locked": true,
     "schema_version": 1,
     "solution": false
    }
   },
   "source": [
    "The word `christmas` occurs 4265 times:"
   ]
  },
  {
   "cell_type": "code",
   "execution_count": null,
   "metadata": {
    "deletable": false,
    "editable": false,
    "nbgrader": {
     "checksum": "0bb5196398ae2eadc85827a8f4909e11",
     "grade": false,
     "grade_id": "cell-599b50837d7553b6",
     "locked": true,
     "schema_version": 1,
     "solution": false
    }
   },
   "outputs": [],
   "source": [
    "xmas_re <- regex('\\\\bchristmas\\\\b', ignore_case = T)\n",
    "reddit %>% mutate(c=str_count(body, xmas_re)) %>% summarize(sum(c))"
   ]
  },
  {
   "cell_type": "markdown",
   "metadata": {
    "deletable": false,
    "editable": false,
    "nbgrader": {
     "checksum": "d6aad4c8a1b1cc0ca47c1cede3d24bc0",
     "grade": false,
     "grade_id": "cell-7674a04533f8934b",
     "locked": true,
     "schema_version": 1,
     "solution": false
    }
   },
   "source": [
    "The next most common word after \"christmas\" occurs 4151 times. What word is it? Store your answer in the variable `most_common_10`. (Again define a word as in problem 2.)"
   ]
  },
  {
   "cell_type": "code",
   "execution_count": null,
   "metadata": {
    "deletable": false,
    "nbgrader": {
     "checksum": "df37352b61ed9ab1b6d3edb32e60714e",
     "grade": false,
     "grade_id": "problem9",
     "locked": false,
     "schema_version": 1,
     "solution": true
    }
   },
   "outputs": [],
   "source": [
    "# YOUR CODE HERE\n",
    "stop()"
   ]
  },
  {
   "cell_type": "code",
   "execution_count": null,
   "metadata": {
    "deletable": false,
    "editable": false,
    "nbgrader": {
     "checksum": "44878afe87e6cd6744a7ffd652c08851",
     "grade": true,
     "grade_id": "problem9-test",
     "locked": true,
     "points": 4,
     "schema_version": 1,
     "solution": false
    }
   },
   "outputs": [],
   "source": [
    "stopifnot(exists(\"most_common_10\"))"
   ]
  }
 ],
 "metadata": {
  "kernelspec": {
   "display_name": "R",
   "language": "R",
   "name": "ir"
  },
  "language_info": {
   "codemirror_mode": "r",
   "file_extension": ".r",
   "mimetype": "text/x-r-source",
   "name": "R",
   "pygments_lexer": "r",
   "version": "3.4.4"
  }
 },
 "nbformat": 4,
 "nbformat_minor": 2
}
