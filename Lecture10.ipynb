{
 "cells": [
  {
   "cell_type": "markdown",
   "metadata": {},
   "source": [
    "In this notebook, we review material from previous lectures:\n",
    "\n",
    "* [ggplot](#ggplot)\n",
    "    * aesthetics\n",
    "    * geometries\n",
    "    * faceting\n",
    "    * statistical transformations\n",
    "    * position adjustments\n",
    "    * coordinate transformations\n",
    "* [dplyr verbs](#dplyr-verbs)\n",
    "    * filter\n",
    "    * arrange\n",
    "    * select\n",
    "    * rename\n",
    "    * mutate\n",
    "    * transmute\n",
    "    * group_by\n",
    "    * summarize\n",
    "* [pipes](#pipes)\n",
    "* [EDA](#EDA)\n",
    "    * visualizing distributions\n",
    "    * typical values\n",
    "    * unusual values\n",
    "    * missing values\n",
    "    * covariation"
   ]
  },
  {
   "cell_type": "markdown",
   "metadata": {},
   "source": [
    "# ggplot"
   ]
  },
  {
   "cell_type": "code",
   "execution_count": 1,
   "metadata": {},
   "outputs": [
    {
     "name": "stderr",
     "output_type": "stream",
     "text": [
      "Loading tidyverse: ggplot2\n",
      "Loading tidyverse: tibble\n",
      "Loading tidyverse: tidyr\n",
      "Loading tidyverse: readr\n",
      "Loading tidyverse: purrr\n",
      "Loading tidyverse: dplyr\n",
      "Conflicts with tidy packages ---------------------------------------------------\n",
      "filter(): dplyr, stats\n",
      "lag():    dplyr, stats\n"
     ]
    }
   ],
   "source": [
    "options(repr.plot.width=6, repr.plot.height=4)\n",
    "library(tidyverse)"
   ]
  },
  {
   "cell_type": "markdown",
   "metadata": {},
   "source": [
    "What's wrong with this code to produce a scatter plot of `hwy` vs `displ` with the `color` aesthetic mapped to `drv`?"
   ]
  },
  {
   "cell_type": "code",
   "execution_count": 2,
   "metadata": {},
   "outputs": [
    {
     "ename": "ERROR",
     "evalue": "Error in layer(data = data, mapping = mapping, stat = stat, geom = GeomPoint, : object 'drv' not found\n",
     "output_type": "error",
     "traceback": [
      "Error in layer(data = data, mapping = mapping, stat = stat, geom = GeomPoint, : object 'drv' not found\nTraceback:\n",
      "1. geom_point(mapping = aes(x = displ, y = hwy), color = drv)",
      "2. layer(data = data, mapping = mapping, stat = stat, geom = GeomPoint, \n .     position = position, show.legend = show.legend, inherit.aes = inherit.aes, \n .     params = list(na.rm = na.rm, ...))"
     ]
    }
   ],
   "source": [
    "ggplot(data = mpg) +\n",
    "    geom_point(mapping = aes(x = displ, y = hwy), color = drv)"
   ]
  },
  {
   "cell_type": "markdown",
   "metadata": {},
   "source": [
    "What does `se = FALSE` do in the code below?"
   ]
  },
  {
   "cell_type": "code",
   "execution_count": null,
   "metadata": {
    "scrolled": true
   },
   "outputs": [],
   "source": [
    "ggplot(data = mpg) +\n",
    "    geom_smooth(mapping = aes(x = displ, y = hwy), se = FALSE)"
   ]
  },
  {
   "cell_type": "markdown",
   "metadata": {},
   "source": [
    "Write the command to produce the following plot.\n",
    "\n",
    "![plot](http://dept.stat.lsa.umich.edu/~tewaria/teaching/STATS306-Fall2017/Rplot1.png)"
   ]
  },
  {
   "cell_type": "markdown",
   "metadata": {},
   "source": [
    "Write the command to produce the following plot.\n",
    "\n",
    "![plot](http://dept.stat.lsa.umich.edu/~tewaria/teaching/STATS306-Fall2017/Rplot2.png)"
   ]
  },
  {
   "cell_type": "markdown",
   "metadata": {},
   "source": [
    "Match the geometries below with their statistical transformations.\n",
    "\n",
    "| Geometry       | Stat     |\n",
    "|----------------|----------|\n",
    "| geom_point     | bin      |\n",
    "| geom_histogram | count    |\n",
    "| geom_bar       | identity |"
   ]
  },
  {
   "cell_type": "markdown",
   "metadata": {},
   "source": [
    "Write the command to produce the following plot.\n",
    "\n",
    "![plot](http://dept.stat.lsa.umich.edu/~tewaria/teaching/STATS306-Fall2017/Rplot3.png)"
   ]
  },
  {
   "cell_type": "markdown",
   "metadata": {},
   "source": [
    "Write the command to produce the following plot.\n",
    "\n",
    "![plot](http://dept.stat.lsa.umich.edu/~tewaria/teaching/STATS306-Fall2017/Rplot4.png)"
   ]
  },
  {
   "cell_type": "markdown",
   "metadata": {},
   "source": [
    "# dplyr verbs"
   ]
  },
  {
   "cell_type": "markdown",
   "metadata": {},
   "source": [
    "What's wrong in the code fragments below?"
   ]
  },
  {
   "cell_type": "code",
   "execution_count": 16,
   "metadata": {},
   "outputs": [
    {
     "ename": "ERROR",
     "evalue": "Error in filter_impl(.data, dots): object 'f' not found\n",
     "output_type": "error",
     "traceback": [
      "Error in filter_impl(.data, dots): object 'f' not found\nTraceback:\n",
      "1. filter(mpg, drv == f)",
      "2. filter_(.data, .dots = lazyeval::lazy_dots(...))",
      "3. filter_.tbl_df(.data, .dots = lazyeval::lazy_dots(...))",
      "4. filter_impl(.data, dots)"
     ]
    }
   ],
   "source": [
    "filter(mpg, drv == f) # find vehicles with front wheel drive"
   ]
  },
  {
   "cell_type": "code",
   "execution_count": 10,
   "metadata": {},
   "outputs": [
    {
     "ename": "ERROR",
     "evalue": "Error in parse(text = x, srcfile = src): <text>:1:18: unexpected '>'\n1: filter(mpg, drv <>\n                     ^\n",
     "output_type": "error",
     "traceback": [
      "Error in parse(text = x, srcfile = src): <text>:1:18: unexpected '>'\n1: filter(mpg, drv <>\n                     ^\nTraceback:\n"
     ]
    }
   ],
   "source": [
    "filter(mpg, drv <> '4')) # find vehicles that do not have 4 wheel drives"
   ]
  },
  {
   "cell_type": "code",
   "execution_count": 15,
   "metadata": {},
   "outputs": [
    {
     "ename": "ERROR",
     "evalue": "Error in parse(text = x, srcfile = src): <text>:1:43: unexpected '='\n1: filter(mpg, manufacturer = toyota & class =\n                                              ^\n",
     "output_type": "error",
     "traceback": [
      "Error in parse(text = x, srcfile = src): <text>:1:43: unexpected '='\n1: filter(mpg, manufacturer = toyota & class =\n                                              ^\nTraceback:\n"
     ]
    }
   ],
   "source": [
    "filter(mpg, manufacturer = toyota & class = suv) # find all suvs made by toyota"
   ]
  },
  {
   "cell_type": "code",
   "execution_count": 23,
   "metadata": {},
   "outputs": [
    {
     "ename": "ERROR",
     "evalue": "Error in eval(expr, envir, enclos): could not find function \"number_of\"\n",
     "output_type": "error",
     "traceback": [
      "Error in eval(expr, envir, enclos): could not find function \"number_of\"\nTraceback:\n"
     ]
    }
   ],
   "source": [
    "number_of(filter(mpg, cyl == 4)) # find the number of vehicle with 4 cylinders"
   ]
  },
  {
   "cell_type": "markdown",
   "metadata": {},
   "source": [
    "# pipes"
   ]
  },
  {
   "cell_type": "markdown",
   "metadata": {},
   "source": [
    "What's wrong in the code fragments below?"
   ]
  },
  {
   "cell_type": "code",
   "execution_count": 30,
   "metadata": {},
   "outputs": [
    {
     "ename": "ERROR",
     "evalue": "Error in filter_impl(.data, dots): comparison (1) is possible only for atomic and list types\n",
     "output_type": "error",
     "traceback": [
      "Error in filter_impl(.data, dots): comparison (1) is possible only for atomic and list types\nTraceback:\n",
      "1. select(mpg, hwy) %>% filter(class == \"suv\") %>% arrange(hwy)",
      "2. withVisible(eval(quote(`_fseq`(`_lhs`)), env, env))",
      "3. eval(quote(`_fseq`(`_lhs`)), env, env)",
      "4. eval(expr, envir, enclos)",
      "5. `_fseq`(`_lhs`)",
      "6. freduce(value, `_function_list`)",
      "7. function_list[[i]](value)",
      "8. filter(., class == \"suv\")",
      "9. filter_(.data, .dots = lazyeval::lazy_dots(...))",
      "10. filter_.tbl_df(.data, .dots = lazyeval::lazy_dots(...))",
      "11. filter_impl(.data, dots)"
     ]
    }
   ],
   "source": [
    "# show only the highway mileage of suvs sorted in descending order of the mileage\n",
    "select(mpg, hwy) %>%\n",
    "    filter(class == 'suv') %>%\n",
    "    arrange(hwy)"
   ]
  },
  {
   "cell_type": "code",
   "execution_count": 46,
   "metadata": {},
   "outputs": [
    {
     "ename": "ERROR",
     "evalue": "Error in function_list[[k]](value): could not find function \"new_diamonds\"\n",
     "output_type": "error",
     "traceback": [
      "Error in function_list[[k]](value): could not find function \"new_diamonds\"\nTraceback:\n",
      "1. mutate(diamonds, new_depth <- 100 * 2 * z/(x + y)) %>% new_diamonds",
      "2. withVisible(eval(quote(`_fseq`(`_lhs`)), env, env))",
      "3. eval(quote(`_fseq`(`_lhs`)), env, env)",
      "4. eval(expr, envir, enclos)",
      "5. `_fseq`(`_lhs`)",
      "6. freduce(value, `_function_list`)",
      "7. withVisible(function_list[[k]](value))",
      "8. function_list[[k]](value)"
     ]
    }
   ],
   "source": [
    "# depth variable in diamonds is supposed to be the ratio (as a percentage) between z and mean of x,y\n",
    "# add a new column new_depth where we compute it ourselves\n",
    "# assign it to a variable called new_diamonds\n",
    "mutate(diamonds, new_depth <- 100*2*z/(x+y)) %>%\n",
    "    new_diamonds"
   ]
  },
  {
   "cell_type": "code",
   "execution_count": 51,
   "metadata": {},
   "outputs": [
    {
     "data": {
      "text/html": [
       "<table>\n",
       "<thead><tr><th scope=col>carat</th><th scope=col>cut</th><th scope=col>color</th><th scope=col>clarity</th><th scope=col>depth</th><th scope=col>table</th><th scope=col>price</th><th scope=col>x</th><th scope=col>y</th><th scope=col>z</th><th scope=col>new_depth</th></tr></thead>\n",
       "<tbody>\n",
       "\t<tr><td>0.71     </td><td>Ideal    </td><td>F        </td><td>SI1      </td><td>62.5     </td><td>55       </td><td>2788     </td><td>5.71     </td><td>5.65     </td><td>3.55     </td><td>62.5     </td></tr>\n",
       "\t<tr><td>0.80     </td><td>Very Good</td><td>E        </td><td>SI2      </td><td>62.5     </td><td>56       </td><td>2804     </td><td>5.88     </td><td>5.96     </td><td>3.70     </td><td>62.5     </td></tr>\n",
       "\t<tr><td>0.79     </td><td>Ideal    </td><td>H        </td><td>VS2      </td><td>62.5     </td><td>57       </td><td>2844     </td><td>5.91     </td><td>5.93     </td><td>3.70     </td><td>62.5     </td></tr>\n",
       "\t<tr><td>0.80     </td><td>Ideal    </td><td>G        </td><td>SI1      </td><td>62.5     </td><td>57       </td><td>2870     </td><td>5.94     </td><td>5.90     </td><td>3.70     </td><td>62.5     </td></tr>\n",
       "\t<tr><td>0.62     </td><td>Ideal    </td><td>E        </td><td>VVS2     </td><td>62.0     </td><td>56       </td><td>2904     </td><td>5.48     </td><td>5.52     </td><td>3.41     </td><td>62.0     </td></tr>\n",
       "\t<tr><td>0.74     </td><td>Premium  </td><td>F        </td><td>VS1      </td><td>62.5     </td><td>60       </td><td>2917     </td><td>5.78     </td><td>5.74     </td><td>3.60     </td><td>62.5     </td></tr>\n",
       "\t<tr><td>0.70     </td><td>Very Good</td><td>D        </td><td>VS2      </td><td>62.5     </td><td>55       </td><td>3052     </td><td>5.65     </td><td>5.71     </td><td>3.55     </td><td>62.5     </td></tr>\n",
       "\t<tr><td>0.32     </td><td>Premium  </td><td>H        </td><td>VS1      </td><td>62.4     </td><td>58       </td><td> 561     </td><td>4.35     </td><td>4.40     </td><td>2.73     </td><td>62.4     </td></tr>\n",
       "\t<tr><td>0.91     </td><td>Fair     </td><td>E        </td><td>SI2      </td><td>64.5     </td><td>60       </td><td>3119     </td><td>6.04     </td><td>5.96     </td><td>3.87     </td><td>64.5     </td></tr>\n",
       "\t<tr><td>1.02     </td><td>Premium  </td><td>H        </td><td>I1       </td><td>62.5     </td><td>60       </td><td>3141     </td><td>6.39     </td><td>6.41     </td><td>4.00     </td><td>62.5     </td></tr>\n",
       "\t<tr><td>0.90     </td><td>Very Good</td><td>H        </td><td>SI2      </td><td>59.2     </td><td>61       </td><td>3160     </td><td>6.23     </td><td>6.27     </td><td>3.70     </td><td>59.2     </td></tr>\n",
       "\t<tr><td>0.90     </td><td>Ideal    </td><td>J        </td><td>VS1      </td><td>62.5     </td><td>55       </td><td>3175     </td><td>6.18     </td><td>6.14     </td><td>3.85     </td><td>62.5     </td></tr>\n",
       "\t<tr><td>0.90     </td><td>Very Good</td><td>J        </td><td>VS1      </td><td>62.5     </td><td>56       </td><td>3188     </td><td>6.11     </td><td>6.21     </td><td>3.85     </td><td>62.5     </td></tr>\n",
       "\t<tr><td>1.02     </td><td>Premium  </td><td>H        </td><td>I1       </td><td>62.5     </td><td>60       </td><td>3199     </td><td>6.41     </td><td>6.39     </td><td>4.00     </td><td>62.5     </td></tr>\n",
       "\t<tr><td>0.90     </td><td>Very Good</td><td>I        </td><td>VS2      </td><td>62.5     </td><td>57       </td><td>3209     </td><td>6.12     </td><td>6.20     </td><td>3.85     </td><td>62.5     </td></tr>\n",
       "\t<tr><td>0.81     </td><td>Premium  </td><td>F        </td><td>SI1      </td><td>61.0     </td><td>59       </td><td>3230     </td><td>6.01     </td><td>5.99     </td><td>3.66     </td><td>61.0     </td></tr>\n",
       "\t<tr><td>0.91     </td><td>Premium  </td><td>G        </td><td>SI1      </td><td>62.5     </td><td>56       </td><td>3262     </td><td>6.30     </td><td>6.18     </td><td>3.90     </td><td>62.5     </td></tr>\n",
       "\t<tr><td>0.91     </td><td>Good     </td><td>F        </td><td>SI1      </td><td>64.0     </td><td>57       </td><td>3363     </td><td>6.17     </td><td>6.08     </td><td>3.92     </td><td>64.0     </td></tr>\n",
       "\t<tr><td>0.91     </td><td>Good     </td><td>F        </td><td>SI1      </td><td>64.0     </td><td>57       </td><td>3423     </td><td>6.08     </td><td>6.17     </td><td>3.92     </td><td>64.0     </td></tr>\n",
       "\t<tr><td>0.78     </td><td>Premium  </td><td>E        </td><td>VS1      </td><td>62.5     </td><td>57       </td><td>3444     </td><td>5.94     </td><td>5.90     </td><td>3.70     </td><td>62.5     </td></tr>\n",
       "\t<tr><td>0.80     </td><td>Premium  </td><td>G        </td><td>VS1      </td><td>62.5     </td><td>58       </td><td>3514     </td><td>5.90     </td><td>5.94     </td><td>3.70     </td><td>62.5     </td></tr>\n",
       "\t<tr><td>0.90     </td><td>Good     </td><td>H        </td><td>VS2      </td><td>64.0     </td><td>57       </td><td>3538     </td><td>6.14     </td><td>6.11     </td><td>3.92     </td><td>64.0     </td></tr>\n",
       "\t<tr><td>0.91     </td><td>Very Good</td><td>I        </td><td>VS2      </td><td>62.5     </td><td>58       </td><td>3579     </td><td>6.13     </td><td>6.19     </td><td>3.85     </td><td>62.5     </td></tr>\n",
       "\t<tr><td>0.90     </td><td>Good     </td><td>H        </td><td>VS2      </td><td>64.0     </td><td>57       </td><td>3601     </td><td>6.11     </td><td>6.14     </td><td>3.92     </td><td>64.0     </td></tr>\n",
       "\t<tr><td>0.90     </td><td>Premium  </td><td>H        </td><td>SI1      </td><td>60.0     </td><td>56       </td><td>3629     </td><td>6.33     </td><td>6.27     </td><td>3.78     </td><td>60.0     </td></tr>\n",
       "\t<tr><td>1.03     </td><td>Fair     </td><td>D        </td><td>SI2      </td><td>66.4     </td><td>56       </td><td>3743     </td><td>6.31     </td><td>6.19     </td><td>4.15     </td><td>66.4     </td></tr>\n",
       "\t<tr><td>1.04     </td><td>Premium  </td><td>I        </td><td>SI2      </td><td>62.0     </td><td>57       </td><td>3774     </td><td>6.53     </td><td>6.47     </td><td>4.03     </td><td>62.0     </td></tr>\n",
       "\t<tr><td>1.04     </td><td>Premium  </td><td>I        </td><td>SI2      </td><td>62.0     </td><td>57       </td><td>3774     </td><td>6.53     </td><td>6.47     </td><td>4.03     </td><td>62.0     </td></tr>\n",
       "\t<tr><td>1.17     </td><td>Fair     </td><td>I        </td><td>SI2      </td><td>59.2     </td><td>68       </td><td>3833     </td><td>6.91     </td><td>6.84     </td><td>4.07     </td><td>59.2     </td></tr>\n",
       "\t<tr><td>1.02     </td><td>Very Good</td><td>J        </td><td>SI1      </td><td>62.5     </td><td>58       </td><td>3857     </td><td>6.37     </td><td>6.43     </td><td>4.00     </td><td>62.5     </td></tr>\n",
       "\t<tr><td>⋮</td><td>⋮</td><td>⋮</td><td>⋮</td><td>⋮</td><td>⋮</td><td>⋮</td><td>⋮</td><td>⋮</td><td>⋮</td><td>⋮</td></tr>\n",
       "\t<tr><td>0.53     </td><td>Ideal    </td><td>G        </td><td>VVS2     </td><td>62.5     </td><td>54       </td><td>1818     </td><td>5.19     </td><td>5.21     </td><td>3.25     </td><td>62.5     </td></tr>\n",
       "\t<tr><td>0.23     </td><td>Very Good</td><td>E        </td><td>VVS2     </td><td>60.0     </td><td>56       </td><td> 530     </td><td>4.03     </td><td>4.07     </td><td>2.43     </td><td>60.0     </td></tr>\n",
       "\t<tr><td>0.23     </td><td>Very Good</td><td>E        </td><td>VVS1     </td><td>60.0     </td><td>59       </td><td> 530     </td><td>3.97     </td><td>4.03     </td><td>2.40     </td><td>60.0     </td></tr>\n",
       "\t<tr><td>0.23     </td><td>Ideal    </td><td>F        </td><td>VVS2     </td><td>61.0     </td><td>57       </td><td> 530     </td><td>3.98     </td><td>4.02     </td><td>2.44     </td><td>61.0     </td></tr>\n",
       "\t<tr><td>0.53     </td><td>Ideal    </td><td>G        </td><td>VVS2     </td><td>62.5     </td><td>54       </td><td>1914     </td><td>5.21     </td><td>5.19     </td><td>3.25     </td><td>62.5     </td></tr>\n",
       "\t<tr><td>0.70     </td><td>Fair     </td><td>G        </td><td>SI1      </td><td>66.0     </td><td>53       </td><td>1949     </td><td>5.53     </td><td>5.47     </td><td>3.63     </td><td>66.0     </td></tr>\n",
       "\t<tr><td>0.51     </td><td>Ideal    </td><td>D        </td><td>VS2      </td><td>62.5     </td><td>56       </td><td>2056     </td><td>5.13     </td><td>5.11     </td><td>3.20     </td><td>62.5     </td></tr>\n",
       "\t<tr><td>0.51     </td><td>Very Good</td><td>E        </td><td>VVS2     </td><td>60.0     </td><td>58       </td><td>2062     </td><td>5.19     </td><td>5.21     </td><td>3.12     </td><td>60.0     </td></tr>\n",
       "\t<tr><td>0.24     </td><td>Ideal    </td><td>F        </td><td>VVS2     </td><td>61.5     </td><td>56       </td><td> 540     </td><td>3.99     </td><td>4.01     </td><td>2.46     </td><td>61.5     </td></tr>\n",
       "\t<tr><td>0.32     </td><td>Premium  </td><td>G        </td><td>SI2      </td><td>62.4     </td><td>59       </td><td> 540     </td><td>4.40     </td><td>4.35     </td><td>2.73     </td><td>62.4     </td></tr>\n",
       "\t<tr><td>0.71     </td><td>Premium  </td><td>H        </td><td>SI1      </td><td>62.4     </td><td>59       </td><td>2112     </td><td>5.65     </td><td>5.60     </td><td>3.51     </td><td>62.4     </td></tr>\n",
       "\t<tr><td>0.61     </td><td>Good     </td><td>F        </td><td>VS1      </td><td>60.0     </td><td>65       </td><td>2196     </td><td>5.53     </td><td>5.47     </td><td>3.30     </td><td>60.0     </td></tr>\n",
       "\t<tr><td>0.71     </td><td>Ideal    </td><td>G        </td><td>SI1      </td><td>62.5     </td><td>57       </td><td>2215     </td><td>5.72     </td><td>5.64     </td><td>3.55     </td><td>62.5     </td></tr>\n",
       "\t<tr><td>0.70     </td><td>Ideal    </td><td>I        </td><td>VS2      </td><td>62.5     </td><td>56       </td><td>2232     </td><td>5.66     </td><td>5.70     </td><td>3.55     </td><td>62.5     </td></tr>\n",
       "\t<tr><td>0.70     </td><td>Very Good</td><td>H        </td><td>VS2      </td><td>60.0     </td><td>55       </td><td>2287     </td><td>5.73     </td><td>5.77     </td><td>3.45     </td><td>60.0     </td></tr>\n",
       "\t<tr><td>0.71     </td><td>Very Good</td><td>F        </td><td>SI1      </td><td>64.0     </td><td>58       </td><td>2345     </td><td>5.59     </td><td>5.66     </td><td>3.60     </td><td>64.0     </td></tr>\n",
       "\t<tr><td>0.91     </td><td>Good     </td><td>I        </td><td>SI1      </td><td>64.0     </td><td>58       </td><td>2348     </td><td>6.01     </td><td>5.99     </td><td>3.84     </td><td>64.0     </td></tr>\n",
       "\t<tr><td>0.73     </td><td>Ideal    </td><td>G        </td><td>SI1      </td><td>62.5     </td><td>55       </td><td>2351     </td><td>5.78     </td><td>5.74     </td><td>3.60     </td><td>62.5     </td></tr>\n",
       "\t<tr><td>0.31     </td><td>Ideal    </td><td>G        </td><td>VS2      </td><td>62.4     </td><td>54       </td><td> 544     </td><td>4.36     </td><td>4.39     </td><td>2.73     </td><td>62.4     </td></tr>\n",
       "\t<tr><td>0.70     </td><td>Good     </td><td>F        </td><td>VS1      </td><td>64.0     </td><td>56       </td><td>2401     </td><td>5.60     </td><td>5.65     </td><td>3.60     </td><td>64.0     </td></tr>\n",
       "\t<tr><td>0.47     </td><td>Ideal    </td><td>D        </td><td>VVS1     </td><td>62.0     </td><td>54       </td><td>2460     </td><td>4.99     </td><td>5.01     </td><td>3.10     </td><td>62.0     </td></tr>\n",
       "\t<tr><td>0.70     </td><td>Ideal    </td><td>G        </td><td>SI1      </td><td>62.5     </td><td>56       </td><td>2478     </td><td>5.67     </td><td>5.69     </td><td>3.55     </td><td>62.5     </td></tr>\n",
       "\t<tr><td>0.81     </td><td>Premium  </td><td>G        </td><td>SI2      </td><td>62.5     </td><td>57       </td><td>2515     </td><td>5.95     </td><td>5.89     </td><td>3.70     </td><td>62.5     </td></tr>\n",
       "\t<tr><td>0.70     </td><td>Very Good</td><td>G        </td><td>VS2      </td><td>60.0     </td><td>58       </td><td>2527     </td><td>5.73     </td><td>5.77     </td><td>3.45     </td><td>60.0     </td></tr>\n",
       "\t<tr><td>0.73     </td><td>Ideal    </td><td>G        </td><td>VS2      </td><td>62.5     </td><td>56       </td><td>2586     </td><td>5.78     </td><td>5.74     </td><td>3.60     </td><td>62.5     </td></tr>\n",
       "\t<tr><td>0.72     </td><td>Ideal    </td><td>I        </td><td>VS1      </td><td>62.5     </td><td>55       </td><td>2586     </td><td>5.74     </td><td>5.78     </td><td>3.60     </td><td>62.5     </td></tr>\n",
       "\t<tr><td>0.71     </td><td>Ideal    </td><td>G        </td><td>SI1      </td><td>62.5     </td><td>57       </td><td>2604     </td><td>5.67     </td><td>5.69     </td><td>3.55     </td><td>62.5     </td></tr>\n",
       "\t<tr><td>0.70     </td><td>Very Good</td><td>E        </td><td>SI1      </td><td>62.5     </td><td>59       </td><td>2617     </td><td>5.66     </td><td>5.70     </td><td>3.55     </td><td>62.5     </td></tr>\n",
       "\t<tr><td>0.71     </td><td>Premium  </td><td>E        </td><td>VS2      </td><td>62.5     </td><td>60       </td><td>2735     </td><td>5.70     </td><td>5.66     </td><td>3.55     </td><td>62.5     </td></tr>\n",
       "\t<tr><td>0.70     </td><td>Very Good</td><td>G        </td><td>VS1      </td><td>60.0     </td><td>56       </td><td>2741     </td><td>5.77     </td><td>5.83     </td><td>3.48     </td><td>60.0     </td></tr>\n",
       "</tbody>\n",
       "</table>\n"
      ],
      "text/latex": [
       "\\begin{tabular}{r|lllllllllll}\n",
       " carat & cut & color & clarity & depth & table & price & x & y & z & new\\_depth\\\\\n",
       "\\hline\n",
       "\t 0.71      & Ideal     & F         & SI1       & 62.5      & 55        & 2788      & 5.71      & 5.65      & 3.55      & 62.5     \\\\\n",
       "\t 0.80      & Very Good & E         & SI2       & 62.5      & 56        & 2804      & 5.88      & 5.96      & 3.70      & 62.5     \\\\\n",
       "\t 0.79      & Ideal     & H         & VS2       & 62.5      & 57        & 2844      & 5.91      & 5.93      & 3.70      & 62.5     \\\\\n",
       "\t 0.80      & Ideal     & G         & SI1       & 62.5      & 57        & 2870      & 5.94      & 5.90      & 3.70      & 62.5     \\\\\n",
       "\t 0.62      & Ideal     & E         & VVS2      & 62.0      & 56        & 2904      & 5.48      & 5.52      & 3.41      & 62.0     \\\\\n",
       "\t 0.74      & Premium   & F         & VS1       & 62.5      & 60        & 2917      & 5.78      & 5.74      & 3.60      & 62.5     \\\\\n",
       "\t 0.70      & Very Good & D         & VS2       & 62.5      & 55        & 3052      & 5.65      & 5.71      & 3.55      & 62.5     \\\\\n",
       "\t 0.32      & Premium   & H         & VS1       & 62.4      & 58        &  561      & 4.35      & 4.40      & 2.73      & 62.4     \\\\\n",
       "\t 0.91      & Fair      & E         & SI2       & 64.5      & 60        & 3119      & 6.04      & 5.96      & 3.87      & 64.5     \\\\\n",
       "\t 1.02      & Premium   & H         & I1        & 62.5      & 60        & 3141      & 6.39      & 6.41      & 4.00      & 62.5     \\\\\n",
       "\t 0.90      & Very Good & H         & SI2       & 59.2      & 61        & 3160      & 6.23      & 6.27      & 3.70      & 59.2     \\\\\n",
       "\t 0.90      & Ideal     & J         & VS1       & 62.5      & 55        & 3175      & 6.18      & 6.14      & 3.85      & 62.5     \\\\\n",
       "\t 0.90      & Very Good & J         & VS1       & 62.5      & 56        & 3188      & 6.11      & 6.21      & 3.85      & 62.5     \\\\\n",
       "\t 1.02      & Premium   & H         & I1        & 62.5      & 60        & 3199      & 6.41      & 6.39      & 4.00      & 62.5     \\\\\n",
       "\t 0.90      & Very Good & I         & VS2       & 62.5      & 57        & 3209      & 6.12      & 6.20      & 3.85      & 62.5     \\\\\n",
       "\t 0.81      & Premium   & F         & SI1       & 61.0      & 59        & 3230      & 6.01      & 5.99      & 3.66      & 61.0     \\\\\n",
       "\t 0.91      & Premium   & G         & SI1       & 62.5      & 56        & 3262      & 6.30      & 6.18      & 3.90      & 62.5     \\\\\n",
       "\t 0.91      & Good      & F         & SI1       & 64.0      & 57        & 3363      & 6.17      & 6.08      & 3.92      & 64.0     \\\\\n",
       "\t 0.91      & Good      & F         & SI1       & 64.0      & 57        & 3423      & 6.08      & 6.17      & 3.92      & 64.0     \\\\\n",
       "\t 0.78      & Premium   & E         & VS1       & 62.5      & 57        & 3444      & 5.94      & 5.90      & 3.70      & 62.5     \\\\\n",
       "\t 0.80      & Premium   & G         & VS1       & 62.5      & 58        & 3514      & 5.90      & 5.94      & 3.70      & 62.5     \\\\\n",
       "\t 0.90      & Good      & H         & VS2       & 64.0      & 57        & 3538      & 6.14      & 6.11      & 3.92      & 64.0     \\\\\n",
       "\t 0.91      & Very Good & I         & VS2       & 62.5      & 58        & 3579      & 6.13      & 6.19      & 3.85      & 62.5     \\\\\n",
       "\t 0.90      & Good      & H         & VS2       & 64.0      & 57        & 3601      & 6.11      & 6.14      & 3.92      & 64.0     \\\\\n",
       "\t 0.90      & Premium   & H         & SI1       & 60.0      & 56        & 3629      & 6.33      & 6.27      & 3.78      & 60.0     \\\\\n",
       "\t 1.03      & Fair      & D         & SI2       & 66.4      & 56        & 3743      & 6.31      & 6.19      & 4.15      & 66.4     \\\\\n",
       "\t 1.04      & Premium   & I         & SI2       & 62.0      & 57        & 3774      & 6.53      & 6.47      & 4.03      & 62.0     \\\\\n",
       "\t 1.04      & Premium   & I         & SI2       & 62.0      & 57        & 3774      & 6.53      & 6.47      & 4.03      & 62.0     \\\\\n",
       "\t 1.17      & Fair      & I         & SI2       & 59.2      & 68        & 3833      & 6.91      & 6.84      & 4.07      & 59.2     \\\\\n",
       "\t 1.02      & Very Good & J         & SI1       & 62.5      & 58        & 3857      & 6.37      & 6.43      & 4.00      & 62.5     \\\\\n",
       "\t ⋮ & ⋮ & ⋮ & ⋮ & ⋮ & ⋮ & ⋮ & ⋮ & ⋮ & ⋮ & ⋮\\\\\n",
       "\t 0.53      & Ideal     & G         & VVS2      & 62.5      & 54        & 1818      & 5.19      & 5.21      & 3.25      & 62.5     \\\\\n",
       "\t 0.23      & Very Good & E         & VVS2      & 60.0      & 56        &  530      & 4.03      & 4.07      & 2.43      & 60.0     \\\\\n",
       "\t 0.23      & Very Good & E         & VVS1      & 60.0      & 59        &  530      & 3.97      & 4.03      & 2.40      & 60.0     \\\\\n",
       "\t 0.23      & Ideal     & F         & VVS2      & 61.0      & 57        &  530      & 3.98      & 4.02      & 2.44      & 61.0     \\\\\n",
       "\t 0.53      & Ideal     & G         & VVS2      & 62.5      & 54        & 1914      & 5.21      & 5.19      & 3.25      & 62.5     \\\\\n",
       "\t 0.70      & Fair      & G         & SI1       & 66.0      & 53        & 1949      & 5.53      & 5.47      & 3.63      & 66.0     \\\\\n",
       "\t 0.51      & Ideal     & D         & VS2       & 62.5      & 56        & 2056      & 5.13      & 5.11      & 3.20      & 62.5     \\\\\n",
       "\t 0.51      & Very Good & E         & VVS2      & 60.0      & 58        & 2062      & 5.19      & 5.21      & 3.12      & 60.0     \\\\\n",
       "\t 0.24      & Ideal     & F         & VVS2      & 61.5      & 56        &  540      & 3.99      & 4.01      & 2.46      & 61.5     \\\\\n",
       "\t 0.32      & Premium   & G         & SI2       & 62.4      & 59        &  540      & 4.40      & 4.35      & 2.73      & 62.4     \\\\\n",
       "\t 0.71      & Premium   & H         & SI1       & 62.4      & 59        & 2112      & 5.65      & 5.60      & 3.51      & 62.4     \\\\\n",
       "\t 0.61      & Good      & F         & VS1       & 60.0      & 65        & 2196      & 5.53      & 5.47      & 3.30      & 60.0     \\\\\n",
       "\t 0.71      & Ideal     & G         & SI1       & 62.5      & 57        & 2215      & 5.72      & 5.64      & 3.55      & 62.5     \\\\\n",
       "\t 0.70      & Ideal     & I         & VS2       & 62.5      & 56        & 2232      & 5.66      & 5.70      & 3.55      & 62.5     \\\\\n",
       "\t 0.70      & Very Good & H         & VS2       & 60.0      & 55        & 2287      & 5.73      & 5.77      & 3.45      & 60.0     \\\\\n",
       "\t 0.71      & Very Good & F         & SI1       & 64.0      & 58        & 2345      & 5.59      & 5.66      & 3.60      & 64.0     \\\\\n",
       "\t 0.91      & Good      & I         & SI1       & 64.0      & 58        & 2348      & 6.01      & 5.99      & 3.84      & 64.0     \\\\\n",
       "\t 0.73      & Ideal     & G         & SI1       & 62.5      & 55        & 2351      & 5.78      & 5.74      & 3.60      & 62.5     \\\\\n",
       "\t 0.31      & Ideal     & G         & VS2       & 62.4      & 54        &  544      & 4.36      & 4.39      & 2.73      & 62.4     \\\\\n",
       "\t 0.70      & Good      & F         & VS1       & 64.0      & 56        & 2401      & 5.60      & 5.65      & 3.60      & 64.0     \\\\\n",
       "\t 0.47      & Ideal     & D         & VVS1      & 62.0      & 54        & 2460      & 4.99      & 5.01      & 3.10      & 62.0     \\\\\n",
       "\t 0.70      & Ideal     & G         & SI1       & 62.5      & 56        & 2478      & 5.67      & 5.69      & 3.55      & 62.5     \\\\\n",
       "\t 0.81      & Premium   & G         & SI2       & 62.5      & 57        & 2515      & 5.95      & 5.89      & 3.70      & 62.5     \\\\\n",
       "\t 0.70      & Very Good & G         & VS2       & 60.0      & 58        & 2527      & 5.73      & 5.77      & 3.45      & 60.0     \\\\\n",
       "\t 0.73      & Ideal     & G         & VS2       & 62.5      & 56        & 2586      & 5.78      & 5.74      & 3.60      & 62.5     \\\\\n",
       "\t 0.72      & Ideal     & I         & VS1       & 62.5      & 55        & 2586      & 5.74      & 5.78      & 3.60      & 62.5     \\\\\n",
       "\t 0.71      & Ideal     & G         & SI1       & 62.5      & 57        & 2604      & 5.67      & 5.69      & 3.55      & 62.5     \\\\\n",
       "\t 0.70      & Very Good & E         & SI1       & 62.5      & 59        & 2617      & 5.66      & 5.70      & 3.55      & 62.5     \\\\\n",
       "\t 0.71      & Premium   & E         & VS2       & 62.5      & 60        & 2735      & 5.70      & 5.66      & 3.55      & 62.5     \\\\\n",
       "\t 0.70      & Very Good & G         & VS1       & 60.0      & 56        & 2741      & 5.77      & 5.83      & 3.48      & 60.0     \\\\\n",
       "\\end{tabular}\n"
      ],
      "text/markdown": [
       "\n",
       "carat | cut | color | clarity | depth | table | price | x | y | z | new_depth | \n",
       "|---|---|---|---|---|---|---|---|---|---|---|---|---|---|---|---|---|---|---|---|---|---|---|---|---|---|---|---|---|---|---|---|---|---|---|---|---|---|---|---|---|---|---|---|---|---|---|---|---|---|---|---|---|---|---|---|---|---|---|---|---|\n",
       "| 0.71      | Ideal     | F         | SI1       | 62.5      | 55        | 2788      | 5.71      | 5.65      | 3.55      | 62.5      | \n",
       "| 0.80      | Very Good | E         | SI2       | 62.5      | 56        | 2804      | 5.88      | 5.96      | 3.70      | 62.5      | \n",
       "| 0.79      | Ideal     | H         | VS2       | 62.5      | 57        | 2844      | 5.91      | 5.93      | 3.70      | 62.5      | \n",
       "| 0.80      | Ideal     | G         | SI1       | 62.5      | 57        | 2870      | 5.94      | 5.90      | 3.70      | 62.5      | \n",
       "| 0.62      | Ideal     | E         | VVS2      | 62.0      | 56        | 2904      | 5.48      | 5.52      | 3.41      | 62.0      | \n",
       "| 0.74      | Premium   | F         | VS1       | 62.5      | 60        | 2917      | 5.78      | 5.74      | 3.60      | 62.5      | \n",
       "| 0.70      | Very Good | D         | VS2       | 62.5      | 55        | 3052      | 5.65      | 5.71      | 3.55      | 62.5      | \n",
       "| 0.32      | Premium   | H         | VS1       | 62.4      | 58        |  561      | 4.35      | 4.40      | 2.73      | 62.4      | \n",
       "| 0.91      | Fair      | E         | SI2       | 64.5      | 60        | 3119      | 6.04      | 5.96      | 3.87      | 64.5      | \n",
       "| 1.02      | Premium   | H         | I1        | 62.5      | 60        | 3141      | 6.39      | 6.41      | 4.00      | 62.5      | \n",
       "| 0.90      | Very Good | H         | SI2       | 59.2      | 61        | 3160      | 6.23      | 6.27      | 3.70      | 59.2      | \n",
       "| 0.90      | Ideal     | J         | VS1       | 62.5      | 55        | 3175      | 6.18      | 6.14      | 3.85      | 62.5      | \n",
       "| 0.90      | Very Good | J         | VS1       | 62.5      | 56        | 3188      | 6.11      | 6.21      | 3.85      | 62.5      | \n",
       "| 1.02      | Premium   | H         | I1        | 62.5      | 60        | 3199      | 6.41      | 6.39      | 4.00      | 62.5      | \n",
       "| 0.90      | Very Good | I         | VS2       | 62.5      | 57        | 3209      | 6.12      | 6.20      | 3.85      | 62.5      | \n",
       "| 0.81      | Premium   | F         | SI1       | 61.0      | 59        | 3230      | 6.01      | 5.99      | 3.66      | 61.0      | \n",
       "| 0.91      | Premium   | G         | SI1       | 62.5      | 56        | 3262      | 6.30      | 6.18      | 3.90      | 62.5      | \n",
       "| 0.91      | Good      | F         | SI1       | 64.0      | 57        | 3363      | 6.17      | 6.08      | 3.92      | 64.0      | \n",
       "| 0.91      | Good      | F         | SI1       | 64.0      | 57        | 3423      | 6.08      | 6.17      | 3.92      | 64.0      | \n",
       "| 0.78      | Premium   | E         | VS1       | 62.5      | 57        | 3444      | 5.94      | 5.90      | 3.70      | 62.5      | \n",
       "| 0.80      | Premium   | G         | VS1       | 62.5      | 58        | 3514      | 5.90      | 5.94      | 3.70      | 62.5      | \n",
       "| 0.90      | Good      | H         | VS2       | 64.0      | 57        | 3538      | 6.14      | 6.11      | 3.92      | 64.0      | \n",
       "| 0.91      | Very Good | I         | VS2       | 62.5      | 58        | 3579      | 6.13      | 6.19      | 3.85      | 62.5      | \n",
       "| 0.90      | Good      | H         | VS2       | 64.0      | 57        | 3601      | 6.11      | 6.14      | 3.92      | 64.0      | \n",
       "| 0.90      | Premium   | H         | SI1       | 60.0      | 56        | 3629      | 6.33      | 6.27      | 3.78      | 60.0      | \n",
       "| 1.03      | Fair      | D         | SI2       | 66.4      | 56        | 3743      | 6.31      | 6.19      | 4.15      | 66.4      | \n",
       "| 1.04      | Premium   | I         | SI2       | 62.0      | 57        | 3774      | 6.53      | 6.47      | 4.03      | 62.0      | \n",
       "| 1.04      | Premium   | I         | SI2       | 62.0      | 57        | 3774      | 6.53      | 6.47      | 4.03      | 62.0      | \n",
       "| 1.17      | Fair      | I         | SI2       | 59.2      | 68        | 3833      | 6.91      | 6.84      | 4.07      | 59.2      | \n",
       "| 1.02      | Very Good | J         | SI1       | 62.5      | 58        | 3857      | 6.37      | 6.43      | 4.00      | 62.5      | \n",
       "| ⋮ | ⋮ | ⋮ | ⋮ | ⋮ | ⋮ | ⋮ | ⋮ | ⋮ | ⋮ | ⋮ | \n",
       "| 0.53      | Ideal     | G         | VVS2      | 62.5      | 54        | 1818      | 5.19      | 5.21      | 3.25      | 62.5      | \n",
       "| 0.23      | Very Good | E         | VVS2      | 60.0      | 56        |  530      | 4.03      | 4.07      | 2.43      | 60.0      | \n",
       "| 0.23      | Very Good | E         | VVS1      | 60.0      | 59        |  530      | 3.97      | 4.03      | 2.40      | 60.0      | \n",
       "| 0.23      | Ideal     | F         | VVS2      | 61.0      | 57        |  530      | 3.98      | 4.02      | 2.44      | 61.0      | \n",
       "| 0.53      | Ideal     | G         | VVS2      | 62.5      | 54        | 1914      | 5.21      | 5.19      | 3.25      | 62.5      | \n",
       "| 0.70      | Fair      | G         | SI1       | 66.0      | 53        | 1949      | 5.53      | 5.47      | 3.63      | 66.0      | \n",
       "| 0.51      | Ideal     | D         | VS2       | 62.5      | 56        | 2056      | 5.13      | 5.11      | 3.20      | 62.5      | \n",
       "| 0.51      | Very Good | E         | VVS2      | 60.0      | 58        | 2062      | 5.19      | 5.21      | 3.12      | 60.0      | \n",
       "| 0.24      | Ideal     | F         | VVS2      | 61.5      | 56        |  540      | 3.99      | 4.01      | 2.46      | 61.5      | \n",
       "| 0.32      | Premium   | G         | SI2       | 62.4      | 59        |  540      | 4.40      | 4.35      | 2.73      | 62.4      | \n",
       "| 0.71      | Premium   | H         | SI1       | 62.4      | 59        | 2112      | 5.65      | 5.60      | 3.51      | 62.4      | \n",
       "| 0.61      | Good      | F         | VS1       | 60.0      | 65        | 2196      | 5.53      | 5.47      | 3.30      | 60.0      | \n",
       "| 0.71      | Ideal     | G         | SI1       | 62.5      | 57        | 2215      | 5.72      | 5.64      | 3.55      | 62.5      | \n",
       "| 0.70      | Ideal     | I         | VS2       | 62.5      | 56        | 2232      | 5.66      | 5.70      | 3.55      | 62.5      | \n",
       "| 0.70      | Very Good | H         | VS2       | 60.0      | 55        | 2287      | 5.73      | 5.77      | 3.45      | 60.0      | \n",
       "| 0.71      | Very Good | F         | SI1       | 64.0      | 58        | 2345      | 5.59      | 5.66      | 3.60      | 64.0      | \n",
       "| 0.91      | Good      | I         | SI1       | 64.0      | 58        | 2348      | 6.01      | 5.99      | 3.84      | 64.0      | \n",
       "| 0.73      | Ideal     | G         | SI1       | 62.5      | 55        | 2351      | 5.78      | 5.74      | 3.60      | 62.5      | \n",
       "| 0.31      | Ideal     | G         | VS2       | 62.4      | 54        |  544      | 4.36      | 4.39      | 2.73      | 62.4      | \n",
       "| 0.70      | Good      | F         | VS1       | 64.0      | 56        | 2401      | 5.60      | 5.65      | 3.60      | 64.0      | \n",
       "| 0.47      | Ideal     | D         | VVS1      | 62.0      | 54        | 2460      | 4.99      | 5.01      | 3.10      | 62.0      | \n",
       "| 0.70      | Ideal     | G         | SI1       | 62.5      | 56        | 2478      | 5.67      | 5.69      | 3.55      | 62.5      | \n",
       "| 0.81      | Premium   | G         | SI2       | 62.5      | 57        | 2515      | 5.95      | 5.89      | 3.70      | 62.5      | \n",
       "| 0.70      | Very Good | G         | VS2       | 60.0      | 58        | 2527      | 5.73      | 5.77      | 3.45      | 60.0      | \n",
       "| 0.73      | Ideal     | G         | VS2       | 62.5      | 56        | 2586      | 5.78      | 5.74      | 3.60      | 62.5      | \n",
       "| 0.72      | Ideal     | I         | VS1       | 62.5      | 55        | 2586      | 5.74      | 5.78      | 3.60      | 62.5      | \n",
       "| 0.71      | Ideal     | G         | SI1       | 62.5      | 57        | 2604      | 5.67      | 5.69      | 3.55      | 62.5      | \n",
       "| 0.70      | Very Good | E         | SI1       | 62.5      | 59        | 2617      | 5.66      | 5.70      | 3.55      | 62.5      | \n",
       "| 0.71      | Premium   | E         | VS2       | 62.5      | 60        | 2735      | 5.70      | 5.66      | 3.55      | 62.5      | \n",
       "| 0.70      | Very Good | G         | VS1       | 60.0      | 56        | 2741      | 5.77      | 5.83      | 3.48      | 60.0      | \n",
       "\n",
       "\n"
      ],
      "text/plain": [
       "    carat cut       color clarity depth table price x    y    z    new_depth\n",
       "1   0.71  Ideal     F     SI1     62.5  55    2788  5.71 5.65 3.55 62.5     \n",
       "2   0.80  Very Good E     SI2     62.5  56    2804  5.88 5.96 3.70 62.5     \n",
       "3   0.79  Ideal     H     VS2     62.5  57    2844  5.91 5.93 3.70 62.5     \n",
       "4   0.80  Ideal     G     SI1     62.5  57    2870  5.94 5.90 3.70 62.5     \n",
       "5   0.62  Ideal     E     VVS2    62.0  56    2904  5.48 5.52 3.41 62.0     \n",
       "6   0.74  Premium   F     VS1     62.5  60    2917  5.78 5.74 3.60 62.5     \n",
       "7   0.70  Very Good D     VS2     62.5  55    3052  5.65 5.71 3.55 62.5     \n",
       "8   0.32  Premium   H     VS1     62.4  58     561  4.35 4.40 2.73 62.4     \n",
       "9   0.91  Fair      E     SI2     64.5  60    3119  6.04 5.96 3.87 64.5     \n",
       "10  1.02  Premium   H     I1      62.5  60    3141  6.39 6.41 4.00 62.5     \n",
       "11  0.90  Very Good H     SI2     59.2  61    3160  6.23 6.27 3.70 59.2     \n",
       "12  0.90  Ideal     J     VS1     62.5  55    3175  6.18 6.14 3.85 62.5     \n",
       "13  0.90  Very Good J     VS1     62.5  56    3188  6.11 6.21 3.85 62.5     \n",
       "14  1.02  Premium   H     I1      62.5  60    3199  6.41 6.39 4.00 62.5     \n",
       "15  0.90  Very Good I     VS2     62.5  57    3209  6.12 6.20 3.85 62.5     \n",
       "16  0.81  Premium   F     SI1     61.0  59    3230  6.01 5.99 3.66 61.0     \n",
       "17  0.91  Premium   G     SI1     62.5  56    3262  6.30 6.18 3.90 62.5     \n",
       "18  0.91  Good      F     SI1     64.0  57    3363  6.17 6.08 3.92 64.0     \n",
       "19  0.91  Good      F     SI1     64.0  57    3423  6.08 6.17 3.92 64.0     \n",
       "20  0.78  Premium   E     VS1     62.5  57    3444  5.94 5.90 3.70 62.5     \n",
       "21  0.80  Premium   G     VS1     62.5  58    3514  5.90 5.94 3.70 62.5     \n",
       "22  0.90  Good      H     VS2     64.0  57    3538  6.14 6.11 3.92 64.0     \n",
       "23  0.91  Very Good I     VS2     62.5  58    3579  6.13 6.19 3.85 62.5     \n",
       "24  0.90  Good      H     VS2     64.0  57    3601  6.11 6.14 3.92 64.0     \n",
       "25  0.90  Premium   H     SI1     60.0  56    3629  6.33 6.27 3.78 60.0     \n",
       "26  1.03  Fair      D     SI2     66.4  56    3743  6.31 6.19 4.15 66.4     \n",
       "27  1.04  Premium   I     SI2     62.0  57    3774  6.53 6.47 4.03 62.0     \n",
       "28  1.04  Premium   I     SI2     62.0  57    3774  6.53 6.47 4.03 62.0     \n",
       "29  1.17  Fair      I     SI2     59.2  68    3833  6.91 6.84 4.07 59.2     \n",
       "30  1.02  Very Good J     SI1     62.5  58    3857  6.37 6.43 4.00 62.5     \n",
       "⋮   ⋮     ⋮         ⋮     ⋮       ⋮     ⋮     ⋮     ⋮    ⋮    ⋮    ⋮        \n",
       "205 0.53  Ideal     G     VVS2    62.5  54    1818  5.19 5.21 3.25 62.5     \n",
       "206 0.23  Very Good E     VVS2    60.0  56     530  4.03 4.07 2.43 60.0     \n",
       "207 0.23  Very Good E     VVS1    60.0  59     530  3.97 4.03 2.40 60.0     \n",
       "208 0.23  Ideal     F     VVS2    61.0  57     530  3.98 4.02 2.44 61.0     \n",
       "209 0.53  Ideal     G     VVS2    62.5  54    1914  5.21 5.19 3.25 62.5     \n",
       "210 0.70  Fair      G     SI1     66.0  53    1949  5.53 5.47 3.63 66.0     \n",
       "211 0.51  Ideal     D     VS2     62.5  56    2056  5.13 5.11 3.20 62.5     \n",
       "212 0.51  Very Good E     VVS2    60.0  58    2062  5.19 5.21 3.12 60.0     \n",
       "213 0.24  Ideal     F     VVS2    61.5  56     540  3.99 4.01 2.46 61.5     \n",
       "214 0.32  Premium   G     SI2     62.4  59     540  4.40 4.35 2.73 62.4     \n",
       "215 0.71  Premium   H     SI1     62.4  59    2112  5.65 5.60 3.51 62.4     \n",
       "216 0.61  Good      F     VS1     60.0  65    2196  5.53 5.47 3.30 60.0     \n",
       "217 0.71  Ideal     G     SI1     62.5  57    2215  5.72 5.64 3.55 62.5     \n",
       "218 0.70  Ideal     I     VS2     62.5  56    2232  5.66 5.70 3.55 62.5     \n",
       "219 0.70  Very Good H     VS2     60.0  55    2287  5.73 5.77 3.45 60.0     \n",
       "220 0.71  Very Good F     SI1     64.0  58    2345  5.59 5.66 3.60 64.0     \n",
       "221 0.91  Good      I     SI1     64.0  58    2348  6.01 5.99 3.84 64.0     \n",
       "222 0.73  Ideal     G     SI1     62.5  55    2351  5.78 5.74 3.60 62.5     \n",
       "223 0.31  Ideal     G     VS2     62.4  54     544  4.36 4.39 2.73 62.4     \n",
       "224 0.70  Good      F     VS1     64.0  56    2401  5.60 5.65 3.60 64.0     \n",
       "225 0.47  Ideal     D     VVS1    62.0  54    2460  4.99 5.01 3.10 62.0     \n",
       "226 0.70  Ideal     G     SI1     62.5  56    2478  5.67 5.69 3.55 62.5     \n",
       "227 0.81  Premium   G     SI2     62.5  57    2515  5.95 5.89 3.70 62.5     \n",
       "228 0.70  Very Good G     VS2     60.0  58    2527  5.73 5.77 3.45 60.0     \n",
       "229 0.73  Ideal     G     VS2     62.5  56    2586  5.78 5.74 3.60 62.5     \n",
       "230 0.72  Ideal     I     VS1     62.5  55    2586  5.74 5.78 3.60 62.5     \n",
       "231 0.71  Ideal     G     SI1     62.5  57    2604  5.67 5.69 3.55 62.5     \n",
       "232 0.70  Very Good E     SI1     62.5  59    2617  5.66 5.70 3.55 62.5     \n",
       "233 0.71  Premium   E     VS2     62.5  60    2735  5.70 5.66 3.55 62.5     \n",
       "234 0.70  Very Good G     VS1     60.0  56    2741  5.77 5.83 3.48 60.0     "
      ]
     },
     "metadata": {},
     "output_type": "display_data"
    }
   ],
   "source": [
    "# check if depth and new_depth are close to each other within machine precision\n",
    "filter(new_diamonds, depth == new_depth)"
   ]
  },
  {
   "cell_type": "code",
   "execution_count": 60,
   "metadata": {},
   "outputs": [
    {
     "ename": "ERROR",
     "evalue": "Error: All select() inputs must resolve to integer column positions.\nThe following do not:\n*  flights\n",
     "output_type": "error",
     "traceback": [
      "Error: All select() inputs must resolve to integer column positions.\nThe following do not:\n*  flights\nTraceback:\n",
      "1. mutate(flights, speed = 60 * distance/air_time) %>% select(flights, \n .     distance, air_time) %>% ggplot(mapping = aes(x = distance, \n .     y = air_time))",
      "2. withVisible(eval(quote(`_fseq`(`_lhs`)), env, env))",
      "3. eval(quote(`_fseq`(`_lhs`)), env, env)",
      "4. eval(expr, envir, enclos)",
      "5. `_fseq`(`_lhs`)",
      "6. freduce(value, `_function_list`)",
      "7. function_list[[i]](value)",
      "8. select(., flights, distance, air_time)",
      "9. select_(.data, .dots = lazyeval::lazy_dots(...))",
      "10. select_.data.frame(.data, .dots = lazyeval::lazy_dots(...))",
      "11. select_vars_(names(.data), dots)",
      "12. stop(\"All select() inputs must resolve to integer column positions.\\n\", \n  .     \"The following do not:\\n\", paste(\"* \", labels, collapse = \"\\n\"), \n  .     call. = FALSE)"
     ]
    }
   ],
   "source": [
    "# Note that distance is in miles and air_time is in minutes\n",
    "#\n",
    "# add a speed variable in m.p.h. obtained by dividing distance and air_time, then\n",
    "# select only distance and air_time, then\n",
    "# plot a scatter of speed (y axis) vs distance (x axis)\n",
    "library(nycflights13)\n",
    "mutate(flights, speed = 60*distance/air_time) %>%\n",
    "    select(flights, distance, air_time) %>%\n",
    "    ggplot(mapping = aes(x = distance, y = air_time)) +\n",
    "        geom_point()"
   ]
  },
  {
   "cell_type": "code",
   "execution_count": 66,
   "metadata": {},
   "outputs": [
    {
     "ename": "ERROR",
     "evalue": "Error in function_list[[i]](value): could not find function \"group\"\n",
     "output_type": "error",
     "traceback": [
      "Error in function_list[[i]](value): could not find function \"group\"\nTraceback:\n",
      "1. mpg %>% group(manufacturer) %>% summarize(average_hwy = mean(hwy)) %>% \n .     ggplot() %>% geom_bar(mapping = aes(x = manufacturer, y = hwy))",
      "2. withVisible(eval(quote(`_fseq`(`_lhs`)), env, env))",
      "3. eval(quote(`_fseq`(`_lhs`)), env, env)",
      "4. eval(expr, envir, enclos)",
      "5. `_fseq`(`_lhs`)",
      "6. freduce(value, `_function_list`)",
      "7. function_list[[i]](value)"
     ]
    }
   ],
   "source": [
    "# show a bar chart of average highway mileage of vehicle produced by each manufacturer\n",
    "# manufacturer names are long so make sure to flip the coordinate axes in the bar chart\n",
    "mpg %>%\n",
    "    group(manufacturer) %>%\n",
    "    summarize(average_hwy = mean(hwy)) %>%\n",
    "    ggplot() %>%\n",
    "        geom_bar(mapping = aes(x = manufacturer, y = hwy)) +\n",
    "        coord_flip()"
   ]
  },
  {
   "cell_type": "markdown",
   "metadata": {},
   "source": [
    "# EDA"
   ]
  },
  {
   "cell_type": "code",
   "execution_count": null,
   "metadata": {
    "collapsed": true
   },
   "outputs": [],
   "source": []
  }
 ],
 "metadata": {
  "kernelspec": {
   "display_name": "R",
   "language": "R",
   "name": "ir"
  },
  "language_info": {
   "codemirror_mode": "r",
   "file_extension": ".r",
   "mimetype": "text/x-r-source",
   "name": "R",
   "pygments_lexer": "r",
   "version": "3.3.2"
  }
 },
 "nbformat": 4,
 "nbformat_minor": 1
}
