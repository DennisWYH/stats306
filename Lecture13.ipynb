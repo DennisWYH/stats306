{
 "cells": [
  {
<<<<<<< HEAD
   "cell_type": "code",
   "execution_count": null,
   "metadata": {
    "collapsed": true
   },
   "outputs": [],
   "source": []
=======
   "cell_type": "markdown",
   "metadata": {},
   "source": [
    "In this notebook, we will cover:\n",
    "\n",
    "* [Separating](#Separating)\n",
    "* [Uniting](#Uniting)\n",
    "* [Missing Values](#Missing-Values)"
   ]
  },
  {
   "cell_type": "code",
   "execution_count": 1,
   "metadata": {},
   "outputs": [
    {
     "name": "stderr",
     "output_type": "stream",
     "text": [
      "Loading tidyverse: ggplot2\n",
      "Loading tidyverse: tibble\n",
      "Loading tidyverse: tidyr\n",
      "Loading tidyverse: readr\n",
      "Loading tidyverse: purrr\n",
      "Loading tidyverse: dplyr\n",
      "Conflicts with tidy packages ---------------------------------------------------\n",
      "filter(): dplyr, stats\n",
      "lag():    dplyr, stats\n"
     ]
    }
   ],
   "source": [
    "library(tidyverse)"
   ]
  },
  {
   "cell_type": "markdown",
   "metadata": {},
   "source": [
    "# Separating"
   ]
  },
  {
   "cell_type": "code",
   "execution_count": 2,
   "metadata": {},
   "outputs": [
    {
     "data": {
      "text/html": [
       "<table>\n",
       "<thead><tr><th scope=col>country</th><th scope=col>year</th><th scope=col>rate</th></tr></thead>\n",
       "<tbody>\n",
       "\t<tr><td>Afghanistan      </td><td>1999             </td><td>745/19987071     </td></tr>\n",
       "\t<tr><td>Afghanistan      </td><td>2000             </td><td>2666/20595360    </td></tr>\n",
       "\t<tr><td>Brazil           </td><td>1999             </td><td>37737/172006362  </td></tr>\n",
       "\t<tr><td>Brazil           </td><td>2000             </td><td>80488/174504898  </td></tr>\n",
       "\t<tr><td>China            </td><td>1999             </td><td>212258/1272915272</td></tr>\n",
       "\t<tr><td>China            </td><td>2000             </td><td>213766/1280428583</td></tr>\n",
       "</tbody>\n",
       "</table>\n"
      ],
      "text/latex": [
       "\\begin{tabular}{r|lll}\n",
       " country & year & rate\\\\\n",
       "\\hline\n",
       "\t Afghanistan       & 1999              & 745/19987071     \\\\\n",
       "\t Afghanistan       & 2000              & 2666/20595360    \\\\\n",
       "\t Brazil            & 1999              & 37737/172006362  \\\\\n",
       "\t Brazil            & 2000              & 80488/174504898  \\\\\n",
       "\t China             & 1999              & 212258/1272915272\\\\\n",
       "\t China             & 2000              & 213766/1280428583\\\\\n",
       "\\end{tabular}\n"
      ],
      "text/markdown": [
       "\n",
       "country | year | rate | \n",
       "|---|---|---|---|---|---|\n",
       "| Afghanistan       | 1999              | 745/19987071      | \n",
       "| Afghanistan       | 2000              | 2666/20595360     | \n",
       "| Brazil            | 1999              | 37737/172006362   | \n",
       "| Brazil            | 2000              | 80488/174504898   | \n",
       "| China             | 1999              | 212258/1272915272 | \n",
       "| China             | 2000              | 213766/1280428583 | \n",
       "\n",
       "\n"
      ],
      "text/plain": [
       "  country     year rate             \n",
       "1 Afghanistan 1999 745/19987071     \n",
       "2 Afghanistan 2000 2666/20595360    \n",
       "3 Brazil      1999 37737/172006362  \n",
       "4 Brazil      2000 80488/174504898  \n",
       "5 China       1999 212258/1272915272\n",
       "6 China       2000 213766/1280428583"
      ]
     },
     "metadata": {},
     "output_type": "display_data"
    }
   ],
   "source": [
    "table3"
   ]
  },
  {
   "cell_type": "code",
   "execution_count": 3,
   "metadata": {},
   "outputs": [
    {
     "name": "stdout",
     "output_type": "stream",
     "text": [
      "# A tibble: 6 x 3\n",
      "      country  year              rate\n",
      "*       <chr> <int>             <chr>\n",
      "1 Afghanistan  1999      745/19987071\n",
      "2 Afghanistan  2000     2666/20595360\n",
      "3      Brazil  1999   37737/172006362\n",
      "4      Brazil  2000   80488/174504898\n",
      "5       China  1999 212258/1272915272\n",
      "6       China  2000 213766/1280428583\n"
     ]
    }
   ],
   "source": [
    "print(table3)"
   ]
  },
  {
   "cell_type": "code",
   "execution_count": 4,
   "metadata": {},
   "outputs": [
    {
     "data": {
      "text/html": [
       "<table>\n",
       "<thead><tr><th scope=col>country</th><th scope=col>year</th><th scope=col>cases</th><th scope=col>population</th></tr></thead>\n",
       "<tbody>\n",
       "\t<tr><td>Afghanistan</td><td>1999       </td><td>745        </td><td>19987071   </td></tr>\n",
       "\t<tr><td>Afghanistan</td><td>2000       </td><td>2666       </td><td>20595360   </td></tr>\n",
       "\t<tr><td>Brazil     </td><td>1999       </td><td>37737      </td><td>172006362  </td></tr>\n",
       "\t<tr><td>Brazil     </td><td>2000       </td><td>80488      </td><td>174504898  </td></tr>\n",
       "\t<tr><td>China      </td><td>1999       </td><td>212258     </td><td>1272915272 </td></tr>\n",
       "\t<tr><td>China      </td><td>2000       </td><td>213766     </td><td>1280428583 </td></tr>\n",
       "</tbody>\n",
       "</table>\n"
      ],
      "text/latex": [
       "\\begin{tabular}{r|llll}\n",
       " country & year & cases & population\\\\\n",
       "\\hline\n",
       "\t Afghanistan & 1999        & 745         & 19987071   \\\\\n",
       "\t Afghanistan & 2000        & 2666        & 20595360   \\\\\n",
       "\t Brazil      & 1999        & 37737       & 172006362  \\\\\n",
       "\t Brazil      & 2000        & 80488       & 174504898  \\\\\n",
       "\t China       & 1999        & 212258      & 1272915272 \\\\\n",
       "\t China       & 2000        & 213766      & 1280428583 \\\\\n",
       "\\end{tabular}\n"
      ],
      "text/markdown": [
       "\n",
       "country | year | cases | population | \n",
       "|---|---|---|---|---|---|\n",
       "| Afghanistan | 1999        | 745         | 19987071    | \n",
       "| Afghanistan | 2000        | 2666        | 20595360    | \n",
       "| Brazil      | 1999        | 37737       | 172006362   | \n",
       "| Brazil      | 2000        | 80488       | 174504898   | \n",
       "| China       | 1999        | 212258      | 1272915272  | \n",
       "| China       | 2000        | 213766      | 1280428583  | \n",
       "\n",
       "\n"
      ],
      "text/plain": [
       "  country     year cases  population\n",
       "1 Afghanistan 1999 745    19987071  \n",
       "2 Afghanistan 2000 2666   20595360  \n",
       "3 Brazil      1999 37737  172006362 \n",
       "4 Brazil      2000 80488  174504898 \n",
       "5 China       1999 212258 1272915272\n",
       "6 China       2000 213766 1280428583"
      ]
     },
     "metadata": {},
     "output_type": "display_data"
    }
   ],
   "source": [
    "(separated_table3 <- separate(table3, rate, into = c(\"cases\", \"population\"), sep = \"/\"))"
   ]
  },
  {
   "cell_type": "code",
   "execution_count": 5,
   "metadata": {},
   "outputs": [
    {
     "name": "stdout",
     "output_type": "stream",
     "text": [
      "# A tibble: 6 x 4\n",
      "      country  year  cases population\n",
      "*       <chr> <int>  <chr>      <chr>\n",
      "1 Afghanistan  1999    745   19987071\n",
      "2 Afghanistan  2000   2666   20595360\n",
      "3      Brazil  1999  37737  172006362\n",
      "4      Brazil  2000  80488  174504898\n",
      "5       China  1999 212258 1272915272\n",
      "6       China  2000 213766 1280428583\n"
     ]
    }
   ],
   "source": [
    "print(separated_table3)"
   ]
  },
  {
   "cell_type": "code",
   "execution_count": 6,
   "metadata": {},
   "outputs": [
    {
     "name": "stdout",
     "output_type": "stream",
     "text": [
      "# A tibble: 6 x 4\n",
      "      country  year  cases population\n",
      "        <chr> <int>  <int>      <int>\n",
      "1 Afghanistan  1999    745   19987071\n",
      "2 Afghanistan  2000   2666   20595360\n",
      "3      Brazil  1999  37737  172006362\n",
      "4      Brazil  2000  80488  174504898\n",
      "5       China  1999 212258 1272915272\n",
      "6       China  2000 213766 1280428583\n"
     ]
    }
   ],
   "source": [
    "print(mutate(separated_table3, cases = as.integer(cases), population = as.integer(population)))"
   ]
  },
  {
   "cell_type": "code",
   "execution_count": 7,
   "metadata": {},
   "outputs": [
    {
     "data": {
      "text/html": [
       "<table>\n",
       "<thead><tr><th scope=col>country</th><th scope=col>year</th><th scope=col>cases</th><th scope=col>population</th></tr></thead>\n",
       "<tbody>\n",
       "\t<tr><td>Afghanistan</td><td>1999       </td><td>   745     </td><td>  19987071 </td></tr>\n",
       "\t<tr><td>Afghanistan</td><td>2000       </td><td>  2666     </td><td>  20595360 </td></tr>\n",
       "\t<tr><td>Brazil     </td><td>1999       </td><td> 37737     </td><td> 172006362 </td></tr>\n",
       "\t<tr><td>Brazil     </td><td>2000       </td><td> 80488     </td><td> 174504898 </td></tr>\n",
       "\t<tr><td>China      </td><td>1999       </td><td>212258     </td><td>1272915272 </td></tr>\n",
       "\t<tr><td>China      </td><td>2000       </td><td>213766     </td><td>1280428583 </td></tr>\n",
       "</tbody>\n",
       "</table>\n"
      ],
      "text/latex": [
       "\\begin{tabular}{r|llll}\n",
       " country & year & cases & population\\\\\n",
       "\\hline\n",
       "\t Afghanistan & 1999        &    745      &   19987071 \\\\\n",
       "\t Afghanistan & 2000        &   2666      &   20595360 \\\\\n",
       "\t Brazil      & 1999        &  37737      &  172006362 \\\\\n",
       "\t Brazil      & 2000        &  80488      &  174504898 \\\\\n",
       "\t China       & 1999        & 212258      & 1272915272 \\\\\n",
       "\t China       & 2000        & 213766      & 1280428583 \\\\\n",
       "\\end{tabular}\n"
      ],
      "text/markdown": [
       "\n",
       "country | year | cases | population | \n",
       "|---|---|---|---|---|---|\n",
       "| Afghanistan | 1999        |    745      |   19987071  | \n",
       "| Afghanistan | 2000        |   2666      |   20595360  | \n",
       "| Brazil      | 1999        |  37737      |  172006362  | \n",
       "| Brazil      | 2000        |  80488      |  174504898  | \n",
       "| China       | 1999        | 212258      | 1272915272  | \n",
       "| China       | 2000        | 213766      | 1280428583  | \n",
       "\n",
       "\n"
      ],
      "text/plain": [
       "  country     year cases  population\n",
       "1 Afghanistan 1999    745   19987071\n",
       "2 Afghanistan 2000   2666   20595360\n",
       "3 Brazil      1999  37737  172006362\n",
       "4 Brazil      2000  80488  174504898\n",
       "5 China       1999 212258 1272915272\n",
       "6 China       2000 213766 1280428583"
      ]
     },
     "metadata": {},
     "output_type": "display_data"
    }
   ],
   "source": [
    "(separated_table3 <- separate(table3, rate, into = c(\"cases\", \"population\"), sep = \"/\", convert = TRUE))"
   ]
  },
  {
   "cell_type": "code",
   "execution_count": 8,
   "metadata": {},
   "outputs": [
    {
     "name": "stdout",
     "output_type": "stream",
     "text": [
      "# A tibble: 6 x 4\n",
      "      country  year  cases population\n",
      "*       <chr> <int>  <int>      <int>\n",
      "1 Afghanistan  1999    745   19987071\n",
      "2 Afghanistan  2000   2666   20595360\n",
      "3      Brazil  1999  37737  172006362\n",
      "4      Brazil  2000  80488  174504898\n",
      "5       China  1999 212258 1272915272\n",
      "6       China  2000 213766 1280428583\n"
     ]
    }
   ],
   "source": [
    "print(separated_table3)"
   ]
  },
  {
   "cell_type": "markdown",
   "metadata": {},
   "source": [
    "# Uniting"
   ]
  },
  {
   "cell_type": "code",
   "execution_count": 9,
   "metadata": {},
   "outputs": [
    {
     "data": {
      "text/html": [
       "<table>\n",
       "<thead><tr><th scope=col>country</th><th scope=col>century</th><th scope=col>year</th><th scope=col>rate</th></tr></thead>\n",
       "<tbody>\n",
       "\t<tr><td>Afghanistan      </td><td>19               </td><td>99               </td><td>745/19987071     </td></tr>\n",
       "\t<tr><td>Afghanistan      </td><td>20               </td><td>00               </td><td>2666/20595360    </td></tr>\n",
       "\t<tr><td>Brazil           </td><td>19               </td><td>99               </td><td>37737/172006362  </td></tr>\n",
       "\t<tr><td>Brazil           </td><td>20               </td><td>00               </td><td>80488/174504898  </td></tr>\n",
       "\t<tr><td>China            </td><td>19               </td><td>99               </td><td>212258/1272915272</td></tr>\n",
       "\t<tr><td>China            </td><td>20               </td><td>00               </td><td>213766/1280428583</td></tr>\n",
       "</tbody>\n",
       "</table>\n"
      ],
      "text/latex": [
       "\\begin{tabular}{r|llll}\n",
       " country & century & year & rate\\\\\n",
       "\\hline\n",
       "\t Afghanistan       & 19                & 99                & 745/19987071     \\\\\n",
       "\t Afghanistan       & 20                & 00                & 2666/20595360    \\\\\n",
       "\t Brazil            & 19                & 99                & 37737/172006362  \\\\\n",
       "\t Brazil            & 20                & 00                & 80488/174504898  \\\\\n",
       "\t China             & 19                & 99                & 212258/1272915272\\\\\n",
       "\t China             & 20                & 00                & 213766/1280428583\\\\\n",
       "\\end{tabular}\n"
      ],
      "text/markdown": [
       "\n",
       "country | century | year | rate | \n",
       "|---|---|---|---|---|---|\n",
       "| Afghanistan       | 19                | 99                | 745/19987071      | \n",
       "| Afghanistan       | 20                | 00                | 2666/20595360     | \n",
       "| Brazil            | 19                | 99                | 37737/172006362   | \n",
       "| Brazil            | 20                | 00                | 80488/174504898   | \n",
       "| China             | 19                | 99                | 212258/1272915272 | \n",
       "| China             | 20                | 00                | 213766/1280428583 | \n",
       "\n",
       "\n"
      ],
      "text/plain": [
       "  country     century year rate             \n",
       "1 Afghanistan 19      99   745/19987071     \n",
       "2 Afghanistan 20      00   2666/20595360    \n",
       "3 Brazil      19      99   37737/172006362  \n",
       "4 Brazil      20      00   80488/174504898  \n",
       "5 China       19      99   212258/1272915272\n",
       "6 China       20      00   213766/1280428583"
      ]
     },
     "metadata": {},
     "output_type": "display_data"
    }
   ],
   "source": [
    "(separated_year <- separate(table3, year, into = c(\"century\", \"year\"), sep = 2))"
   ]
  },
  {
   "cell_type": "code",
   "execution_count": 10,
   "metadata": {},
   "outputs": [
    {
     "data": {
      "text/html": [
       "<table>\n",
       "<thead><tr><th scope=col>country</th><th scope=col>new</th><th scope=col>rate</th></tr></thead>\n",
       "<tbody>\n",
       "\t<tr><td>Afghanistan      </td><td>19_99            </td><td>745/19987071     </td></tr>\n",
       "\t<tr><td>Afghanistan      </td><td>20_00            </td><td>2666/20595360    </td></tr>\n",
       "\t<tr><td>Brazil           </td><td>19_99            </td><td>37737/172006362  </td></tr>\n",
       "\t<tr><td>Brazil           </td><td>20_00            </td><td>80488/174504898  </td></tr>\n",
       "\t<tr><td>China            </td><td>19_99            </td><td>212258/1272915272</td></tr>\n",
       "\t<tr><td>China            </td><td>20_00            </td><td>213766/1280428583</td></tr>\n",
       "</tbody>\n",
       "</table>\n"
      ],
      "text/latex": [
       "\\begin{tabular}{r|lll}\n",
       " country & new & rate\\\\\n",
       "\\hline\n",
       "\t Afghanistan       & 19\\_99           & 745/19987071     \\\\\n",
       "\t Afghanistan       & 20\\_00           & 2666/20595360    \\\\\n",
       "\t Brazil            & 19\\_99           & 37737/172006362  \\\\\n",
       "\t Brazil            & 20\\_00           & 80488/174504898  \\\\\n",
       "\t China             & 19\\_99           & 212258/1272915272\\\\\n",
       "\t China             & 20\\_00           & 213766/1280428583\\\\\n",
       "\\end{tabular}\n"
      ],
      "text/markdown": [
       "\n",
       "country | new | rate | \n",
       "|---|---|---|---|---|---|\n",
       "| Afghanistan       | 19_99             | 745/19987071      | \n",
       "| Afghanistan       | 20_00             | 2666/20595360     | \n",
       "| Brazil            | 19_99             | 37737/172006362   | \n",
       "| Brazil            | 20_00             | 80488/174504898   | \n",
       "| China             | 19_99             | 212258/1272915272 | \n",
       "| China             | 20_00             | 213766/1280428583 | \n",
       "\n",
       "\n"
      ],
      "text/plain": [
       "  country     new   rate             \n",
       "1 Afghanistan 19_99 745/19987071     \n",
       "2 Afghanistan 20_00 2666/20595360    \n",
       "3 Brazil      19_99 37737/172006362  \n",
       "4 Brazil      20_00 80488/174504898  \n",
       "5 China       19_99 212258/1272915272\n",
       "6 China       20_00 213766/1280428583"
      ]
     },
     "metadata": {},
     "output_type": "display_data"
    }
   ],
   "source": [
    "unite(separated_year, new, century, year)"
   ]
  },
  {
   "cell_type": "code",
   "execution_count": 11,
   "metadata": {},
   "outputs": [
    {
     "data": {
      "text/html": [
       "<table>\n",
       "<thead><tr><th scope=col>country</th><th scope=col>new</th><th scope=col>rate</th></tr></thead>\n",
       "<tbody>\n",
       "\t<tr><td>Afghanistan      </td><td>1999             </td><td>745/19987071     </td></tr>\n",
       "\t<tr><td>Afghanistan      </td><td>2000             </td><td>2666/20595360    </td></tr>\n",
       "\t<tr><td>Brazil           </td><td>1999             </td><td>37737/172006362  </td></tr>\n",
       "\t<tr><td>Brazil           </td><td>2000             </td><td>80488/174504898  </td></tr>\n",
       "\t<tr><td>China            </td><td>1999             </td><td>212258/1272915272</td></tr>\n",
       "\t<tr><td>China            </td><td>2000             </td><td>213766/1280428583</td></tr>\n",
       "</tbody>\n",
       "</table>\n"
      ],
      "text/latex": [
       "\\begin{tabular}{r|lll}\n",
       " country & new & rate\\\\\n",
       "\\hline\n",
       "\t Afghanistan       & 1999              & 745/19987071     \\\\\n",
       "\t Afghanistan       & 2000              & 2666/20595360    \\\\\n",
       "\t Brazil            & 1999              & 37737/172006362  \\\\\n",
       "\t Brazil            & 2000              & 80488/174504898  \\\\\n",
       "\t China             & 1999              & 212258/1272915272\\\\\n",
       "\t China             & 2000              & 213766/1280428583\\\\\n",
       "\\end{tabular}\n"
      ],
      "text/markdown": [
       "\n",
       "country | new | rate | \n",
       "|---|---|---|---|---|---|\n",
       "| Afghanistan       | 1999              | 745/19987071      | \n",
       "| Afghanistan       | 2000              | 2666/20595360     | \n",
       "| Brazil            | 1999              | 37737/172006362   | \n",
       "| Brazil            | 2000              | 80488/174504898   | \n",
       "| China             | 1999              | 212258/1272915272 | \n",
       "| China             | 2000              | 213766/1280428583 | \n",
       "\n",
       "\n"
      ],
      "text/plain": [
       "  country     new  rate             \n",
       "1 Afghanistan 1999 745/19987071     \n",
       "2 Afghanistan 2000 2666/20595360    \n",
       "3 Brazil      1999 37737/172006362  \n",
       "4 Brazil      2000 80488/174504898  \n",
       "5 China       1999 212258/1272915272\n",
       "6 China       2000 213766/1280428583"
      ]
     },
     "metadata": {},
     "output_type": "display_data"
    }
   ],
   "source": [
    "unite(separated_year, new, century, year, sep = \"\")"
   ]
  },
  {
   "cell_type": "markdown",
   "metadata": {},
   "source": [
    "# Missing Values"
   ]
  },
  {
   "cell_type": "markdown",
   "metadata": {
    "collapsed": true
   },
   "source": [
    "Missing values can be:\n",
    "\n",
    "* **Explicit**, or\n",
    "* **Implicit**"
   ]
  },
  {
   "cell_type": "code",
   "execution_count": 12,
   "metadata": {},
   "outputs": [
    {
     "data": {
      "text/html": [
       "<table>\n",
       "<thead><tr><th scope=col>year</th><th scope=col>qtr</th><th scope=col>return</th></tr></thead>\n",
       "<tbody>\n",
       "\t<tr><td>2015</td><td>1   </td><td>1.88</td></tr>\n",
       "\t<tr><td>2015</td><td>2   </td><td>0.59</td></tr>\n",
       "\t<tr><td>2015</td><td>3   </td><td>0.35</td></tr>\n",
       "\t<tr><td>2015</td><td>4   </td><td>  NA</td></tr>\n",
       "\t<tr><td>2016</td><td>2   </td><td>0.92</td></tr>\n",
       "\t<tr><td>2016</td><td>3   </td><td>0.17</td></tr>\n",
       "\t<tr><td>2016</td><td>4   </td><td>2.66</td></tr>\n",
       "</tbody>\n",
       "</table>\n"
      ],
      "text/latex": [
       "\\begin{tabular}{r|lll}\n",
       " year & qtr & return\\\\\n",
       "\\hline\n",
       "\t 2015 & 1    & 1.88\\\\\n",
       "\t 2015 & 2    & 0.59\\\\\n",
       "\t 2015 & 3    & 0.35\\\\\n",
       "\t 2015 & 4    &   NA\\\\\n",
       "\t 2016 & 2    & 0.92\\\\\n",
       "\t 2016 & 3    & 0.17\\\\\n",
       "\t 2016 & 4    & 2.66\\\\\n",
       "\\end{tabular}\n"
      ],
      "text/markdown": [
       "\n",
       "year | qtr | return | \n",
       "|---|---|---|---|---|---|---|\n",
       "| 2015 | 1    | 1.88 | \n",
       "| 2015 | 2    | 0.59 | \n",
       "| 2015 | 3    | 0.35 | \n",
       "| 2015 | 4    |   NA | \n",
       "| 2016 | 2    | 0.92 | \n",
       "| 2016 | 3    | 0.17 | \n",
       "| 2016 | 4    | 2.66 | \n",
       "\n",
       "\n"
      ],
      "text/plain": [
       "  year qtr return\n",
       "1 2015 1   1.88  \n",
       "2 2015 2   0.59  \n",
       "3 2015 3   0.35  \n",
       "4 2015 4     NA  \n",
       "5 2016 2   0.92  \n",
       "6 2016 3   0.17  \n",
       "7 2016 4   2.66  "
      ]
     },
     "metadata": {},
     "output_type": "display_data"
    }
   ],
   "source": [
    "(stocks <- tibble(\n",
    "  year   = c(2015, 2015, 2015, 2015, 2016, 2016, 2016),\n",
    "  qtr    = c(   1,    2,    3,    4,    2,    3,    4),\n",
    "  return = c(1.88, 0.59, 0.35,   NA, 0.92, 0.17, 2.66)\n",
    "))"
   ]
  },
  {
   "cell_type": "markdown",
   "metadata": {},
   "source": [
    "The **complete** command makes implicit missing value explicit by considering all combinations of unique values of specified variables."
   ]
  },
  {
   "cell_type": "code",
   "execution_count": 13,
   "metadata": {},
   "outputs": [
    {
     "data": {
      "text/html": [
       "<table>\n",
       "<thead><tr><th scope=col>year</th><th scope=col>qtr</th><th scope=col>return</th></tr></thead>\n",
       "<tbody>\n",
       "\t<tr><td>2015</td><td>1   </td><td>1.88</td></tr>\n",
       "\t<tr><td>2015</td><td>2   </td><td>0.59</td></tr>\n",
       "\t<tr><td>2015</td><td>3   </td><td>0.35</td></tr>\n",
       "\t<tr><td>2015</td><td>4   </td><td>  NA</td></tr>\n",
       "\t<tr><td>2016</td><td>1   </td><td>  NA</td></tr>\n",
       "\t<tr><td>2016</td><td>2   </td><td>0.92</td></tr>\n",
       "\t<tr><td>2016</td><td>3   </td><td>0.17</td></tr>\n",
       "\t<tr><td>2016</td><td>4   </td><td>2.66</td></tr>\n",
       "</tbody>\n",
       "</table>\n"
      ],
      "text/latex": [
       "\\begin{tabular}{r|lll}\n",
       " year & qtr & return\\\\\n",
       "\\hline\n",
       "\t 2015 & 1    & 1.88\\\\\n",
       "\t 2015 & 2    & 0.59\\\\\n",
       "\t 2015 & 3    & 0.35\\\\\n",
       "\t 2015 & 4    &   NA\\\\\n",
       "\t 2016 & 1    &   NA\\\\\n",
       "\t 2016 & 2    & 0.92\\\\\n",
       "\t 2016 & 3    & 0.17\\\\\n",
       "\t 2016 & 4    & 2.66\\\\\n",
       "\\end{tabular}\n"
      ],
      "text/markdown": [
       "\n",
       "year | qtr | return | \n",
       "|---|---|---|---|---|---|---|---|\n",
       "| 2015 | 1    | 1.88 | \n",
       "| 2015 | 2    | 0.59 | \n",
       "| 2015 | 3    | 0.35 | \n",
       "| 2015 | 4    |   NA | \n",
       "| 2016 | 1    |   NA | \n",
       "| 2016 | 2    | 0.92 | \n",
       "| 2016 | 3    | 0.17 | \n",
       "| 2016 | 4    | 2.66 | \n",
       "\n",
       "\n"
      ],
      "text/plain": [
       "  year qtr return\n",
       "1 2015 1   1.88  \n",
       "2 2015 2   0.59  \n",
       "3 2015 3   0.35  \n",
       "4 2015 4     NA  \n",
       "5 2016 1     NA  \n",
       "6 2016 2   0.92  \n",
       "7 2016 3   0.17  \n",
       "8 2016 4   2.66  "
      ]
     },
     "metadata": {},
     "output_type": "display_data"
    }
   ],
   "source": [
    "complete(stocks, year, qtr) "
   ]
  },
  {
   "cell_type": "markdown",
   "metadata": {},
   "source": [
    "The missing values also become explicit if we **spread** the tibble."
   ]
  },
  {
   "cell_type": "code",
   "execution_count": 14,
   "metadata": {},
   "outputs": [
    {
     "data": {
      "text/html": [
       "<table>\n",
       "<thead><tr><th scope=col>qtr</th><th scope=col>2015</th><th scope=col>2016</th></tr></thead>\n",
       "<tbody>\n",
       "\t<tr><td>1   </td><td>1.88</td><td>  NA</td></tr>\n",
       "\t<tr><td>2   </td><td>0.59</td><td>0.92</td></tr>\n",
       "\t<tr><td>3   </td><td>0.35</td><td>0.17</td></tr>\n",
       "\t<tr><td>4   </td><td>  NA</td><td>2.66</td></tr>\n",
       "</tbody>\n",
       "</table>\n"
      ],
      "text/latex": [
       "\\begin{tabular}{r|lll}\n",
       " qtr & 2015 & 2016\\\\\n",
       "\\hline\n",
       "\t 1    & 1.88 &   NA\\\\\n",
       "\t 2    & 0.59 & 0.92\\\\\n",
       "\t 3    & 0.35 & 0.17\\\\\n",
       "\t 4    &   NA & 2.66\\\\\n",
       "\\end{tabular}\n"
      ],
      "text/markdown": [
       "\n",
       "qtr | 2015 | 2016 | \n",
       "|---|---|---|---|\n",
       "| 1    | 1.88 |   NA | \n",
       "| 2    | 0.59 | 0.92 | \n",
       "| 3    | 0.35 | 0.17 | \n",
       "| 4    |   NA | 2.66 | \n",
       "\n",
       "\n"
      ],
      "text/plain": [
       "  qtr 2015 2016\n",
       "1 1   1.88   NA\n",
       "2 2   0.59 0.92\n",
       "3 3   0.35 0.17\n",
       "4 4     NA 2.66"
      ]
     },
     "metadata": {},
     "output_type": "display_data"
    }
   ],
   "source": [
    "spread(stocks, key = year, value = return)"
   ]
  },
  {
   "cell_type": "markdown",
   "metadata": {},
   "source": [
    "**gather** will keep all these explicitly missing values by default."
   ]
  },
  {
   "cell_type": "code",
   "execution_count": 15,
   "metadata": {},
   "outputs": [
    {
     "data": {
      "text/html": [
       "<table>\n",
       "<thead><tr><th scope=col>qtr</th><th scope=col>year</th><th scope=col>return</th></tr></thead>\n",
       "<tbody>\n",
       "\t<tr><td>1   </td><td>2015</td><td>1.88</td></tr>\n",
       "\t<tr><td>2   </td><td>2015</td><td>0.59</td></tr>\n",
       "\t<tr><td>3   </td><td>2015</td><td>0.35</td></tr>\n",
       "\t<tr><td>4   </td><td>2015</td><td>  NA</td></tr>\n",
       "\t<tr><td>1   </td><td>2016</td><td>  NA</td></tr>\n",
       "\t<tr><td>2   </td><td>2016</td><td>0.92</td></tr>\n",
       "\t<tr><td>3   </td><td>2016</td><td>0.17</td></tr>\n",
       "\t<tr><td>4   </td><td>2016</td><td>2.66</td></tr>\n",
       "</tbody>\n",
       "</table>\n"
      ],
      "text/latex": [
       "\\begin{tabular}{r|lll}\n",
       " qtr & year & return\\\\\n",
       "\\hline\n",
       "\t 1    & 2015 & 1.88\\\\\n",
       "\t 2    & 2015 & 0.59\\\\\n",
       "\t 3    & 2015 & 0.35\\\\\n",
       "\t 4    & 2015 &   NA\\\\\n",
       "\t 1    & 2016 &   NA\\\\\n",
       "\t 2    & 2016 & 0.92\\\\\n",
       "\t 3    & 2016 & 0.17\\\\\n",
       "\t 4    & 2016 & 2.66\\\\\n",
       "\\end{tabular}\n"
      ],
      "text/markdown": [
       "\n",
       "qtr | year | return | \n",
       "|---|---|---|---|---|---|---|---|\n",
       "| 1    | 2015 | 1.88 | \n",
       "| 2    | 2015 | 0.59 | \n",
       "| 3    | 2015 | 0.35 | \n",
       "| 4    | 2015 |   NA | \n",
       "| 1    | 2016 |   NA | \n",
       "| 2    | 2016 | 0.92 | \n",
       "| 3    | 2016 | 0.17 | \n",
       "| 4    | 2016 | 2.66 | \n",
       "\n",
       "\n"
      ],
      "text/plain": [
       "  qtr year return\n",
       "1 1   2015 1.88  \n",
       "2 2   2015 0.59  \n",
       "3 3   2015 0.35  \n",
       "4 4   2015   NA  \n",
       "5 1   2016   NA  \n",
       "6 2   2016 0.92  \n",
       "7 3   2016 0.17  \n",
       "8 4   2016 2.66  "
      ]
     },
     "metadata": {},
     "output_type": "display_data"
    }
   ],
   "source": [
    "stocks %>%\n",
    "    spread(key = year, value = return) %>%\n",
    "    gather(`2015`, `2016`, key = year, value = return)"
   ]
  },
  {
   "cell_type": "markdown",
   "metadata": {},
   "source": [
    "If you don't like the default behavior of **gather**, you can turn off explicit missing values using the `na.rm` argument."
   ]
  },
  {
   "cell_type": "code",
   "execution_count": 16,
   "metadata": {},
   "outputs": [
    {
     "data": {
      "text/html": [
       "<table>\n",
       "<thead><tr><th></th><th scope=col>qtr</th><th scope=col>year</th><th scope=col>return</th></tr></thead>\n",
       "<tbody>\n",
       "\t<tr><th scope=row>1</th><td>1   </td><td>2015</td><td>1.88</td></tr>\n",
       "\t<tr><th scope=row>2</th><td>2   </td><td>2015</td><td>0.59</td></tr>\n",
       "\t<tr><th scope=row>3</th><td>3   </td><td>2015</td><td>0.35</td></tr>\n",
       "\t<tr><th scope=row>6</th><td>2   </td><td>2016</td><td>0.92</td></tr>\n",
       "\t<tr><th scope=row>7</th><td>3   </td><td>2016</td><td>0.17</td></tr>\n",
       "\t<tr><th scope=row>8</th><td>4   </td><td>2016</td><td>2.66</td></tr>\n",
       "</tbody>\n",
       "</table>\n"
      ],
      "text/latex": [
       "\\begin{tabular}{r|lll}\n",
       "  & qtr & year & return\\\\\n",
       "\\hline\n",
       "\t1 & 1    & 2015 & 1.88\\\\\n",
       "\t2 & 2    & 2015 & 0.59\\\\\n",
       "\t3 & 3    & 2015 & 0.35\\\\\n",
       "\t6 & 2    & 2016 & 0.92\\\\\n",
       "\t7 & 3    & 2016 & 0.17\\\\\n",
       "\t8 & 4    & 2016 & 2.66\\\\\n",
       "\\end{tabular}\n"
      ],
      "text/markdown": [
       "\n",
       "| <!--/--> | qtr | year | return | \n",
       "|---|---|---|---|---|---|\n",
       "| 1 | 1    | 2015 | 1.88 | \n",
       "| 2 | 2    | 2015 | 0.59 | \n",
       "| 3 | 3    | 2015 | 0.35 | \n",
       "| 6 | 2    | 2016 | 0.92 | \n",
       "| 7 | 3    | 2016 | 0.17 | \n",
       "| 8 | 4    | 2016 | 2.66 | \n",
       "\n",
       "\n"
      ],
      "text/plain": [
       "  qtr year return\n",
       "1 1   2015 1.88  \n",
       "2 2   2015 0.59  \n",
       "3 3   2015 0.35  \n",
       "6 2   2016 0.92  \n",
       "7 3   2016 0.17  \n",
       "8 4   2016 2.66  "
      ]
     },
     "metadata": {},
     "output_type": "display_data"
    }
   ],
   "source": [
    "stocks %>%\n",
    "    spread(key = year, value = return) %>%\n",
    "    gather(`2015`, `2016`, key = year, value = return, na.rm = TRUE)"
   ]
  },
  {
   "cell_type": "markdown",
   "metadata": {},
   "source": [
    "**Imputation** refers to process of filling in missing values. There are many imputation method. One of the simplest ones is *last observation carry forward*. You can do that using the **fill** command."
   ]
  },
  {
   "cell_type": "code",
   "execution_count": 17,
   "metadata": {},
   "outputs": [
    {
     "data": {
      "text/html": [
       "<table>\n",
       "<thead><tr><th scope=col>year</th><th scope=col>qtr</th><th scope=col>return</th></tr></thead>\n",
       "<tbody>\n",
       "\t<tr><td>2015</td><td>1   </td><td>1.88</td></tr>\n",
       "\t<tr><td>2015</td><td>2   </td><td>0.59</td></tr>\n",
       "\t<tr><td>2015</td><td>3   </td><td>0.35</td></tr>\n",
       "\t<tr><td>2015</td><td>4   </td><td>0.35</td></tr>\n",
       "\t<tr><td>2016</td><td>2   </td><td>0.92</td></tr>\n",
       "\t<tr><td>2016</td><td>3   </td><td>0.17</td></tr>\n",
       "\t<tr><td>2016</td><td>4   </td><td>2.66</td></tr>\n",
       "</tbody>\n",
       "</table>\n"
      ],
      "text/latex": [
       "\\begin{tabular}{r|lll}\n",
       " year & qtr & return\\\\\n",
       "\\hline\n",
       "\t 2015 & 1    & 1.88\\\\\n",
       "\t 2015 & 2    & 0.59\\\\\n",
       "\t 2015 & 3    & 0.35\\\\\n",
       "\t 2015 & 4    & 0.35\\\\\n",
       "\t 2016 & 2    & 0.92\\\\\n",
       "\t 2016 & 3    & 0.17\\\\\n",
       "\t 2016 & 4    & 2.66\\\\\n",
       "\\end{tabular}\n"
      ],
      "text/markdown": [
       "\n",
       "year | qtr | return | \n",
       "|---|---|---|---|---|---|---|\n",
       "| 2015 | 1    | 1.88 | \n",
       "| 2015 | 2    | 0.59 | \n",
       "| 2015 | 3    | 0.35 | \n",
       "| 2015 | 4    | 0.35 | \n",
       "| 2016 | 2    | 0.92 | \n",
       "| 2016 | 3    | 0.17 | \n",
       "| 2016 | 4    | 2.66 | \n",
       "\n",
       "\n"
      ],
      "text/plain": [
       "  year qtr return\n",
       "1 2015 1   1.88  \n",
       "2 2015 2   0.59  \n",
       "3 2015 3   0.35  \n",
       "4 2015 4   0.35  \n",
       "5 2016 2   0.92  \n",
       "6 2016 3   0.17  \n",
       "7 2016 4   2.66  "
      ]
     },
     "metadata": {},
     "output_type": "display_data"
    }
   ],
   "source": [
    "stocks %>%\n",
    "    fill(return)"
   ]
  },
  {
   "cell_type": "code",
   "execution_count": 18,
   "metadata": {},
   "outputs": [
    {
     "data": {
      "text/html": [
       "<table>\n",
       "<thead><tr><th scope=col>year</th><th scope=col>qtr</th><th scope=col>return</th></tr></thead>\n",
       "<tbody>\n",
       "\t<tr><td>2015</td><td>1   </td><td>1.88</td></tr>\n",
       "\t<tr><td>2015</td><td>2   </td><td>0.59</td></tr>\n",
       "\t<tr><td>2015</td><td>3   </td><td>0.35</td></tr>\n",
       "\t<tr><td>2015</td><td>4   </td><td>0.92</td></tr>\n",
       "\t<tr><td>2016</td><td>2   </td><td>0.92</td></tr>\n",
       "\t<tr><td>2016</td><td>3   </td><td>0.17</td></tr>\n",
       "\t<tr><td>2016</td><td>4   </td><td>2.66</td></tr>\n",
       "</tbody>\n",
       "</table>\n"
      ],
      "text/latex": [
       "\\begin{tabular}{r|lll}\n",
       " year & qtr & return\\\\\n",
       "\\hline\n",
       "\t 2015 & 1    & 1.88\\\\\n",
       "\t 2015 & 2    & 0.59\\\\\n",
       "\t 2015 & 3    & 0.35\\\\\n",
       "\t 2015 & 4    & 0.92\\\\\n",
       "\t 2016 & 2    & 0.92\\\\\n",
       "\t 2016 & 3    & 0.17\\\\\n",
       "\t 2016 & 4    & 2.66\\\\\n",
       "\\end{tabular}\n"
      ],
      "text/markdown": [
       "\n",
       "year | qtr | return | \n",
       "|---|---|---|---|---|---|---|\n",
       "| 2015 | 1    | 1.88 | \n",
       "| 2015 | 2    | 0.59 | \n",
       "| 2015 | 3    | 0.35 | \n",
       "| 2015 | 4    | 0.92 | \n",
       "| 2016 | 2    | 0.92 | \n",
       "| 2016 | 3    | 0.17 | \n",
       "| 2016 | 4    | 2.66 | \n",
       "\n",
       "\n"
      ],
      "text/plain": [
       "  year qtr return\n",
       "1 2015 1   1.88  \n",
       "2 2015 2   0.59  \n",
       "3 2015 3   0.35  \n",
       "4 2015 4   0.92  \n",
       "5 2016 2   0.92  \n",
       "6 2016 3   0.17  \n",
       "7 2016 4   2.66  "
      ]
     },
     "metadata": {},
     "output_type": "display_data"
    }
   ],
   "source": [
    "stocks %>% \n",
    "    fill(return, .direction = \"up\") # next observation carry backwards!"
   ]
>>>>>>> 2e5d181b046f8dc3462a19924ba237d9136ddc32
  }
 ],
 "metadata": {
  "kernelspec": {
   "display_name": "R",
   "language": "R",
   "name": "ir"
  },
  "language_info": {
   "codemirror_mode": "r",
   "file_extension": ".r",
   "mimetype": "text/x-r-source",
   "name": "R",
   "pygments_lexer": "r",
<<<<<<< HEAD
   "version": "3.3.2"
  }
 },
 "nbformat": 4,
 "nbformat_minor": 1
=======
   "version": "3.4.1"
  }
 },
 "nbformat": 4,
 "nbformat_minor": 2
>>>>>>> 2e5d181b046f8dc3462a19924ba237d9136ddc32
}
