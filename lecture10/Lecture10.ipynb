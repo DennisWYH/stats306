{
 "cells": [
  {
   "cell_type": "code",
   "execution_count": 25,
   "metadata": {
    "slideshow": {
     "slide_type": "notes"
    }
   },
   "outputs": [
    {
     "data": {
      "text/html": [
       "\n",
       "<style>\n",
       ".rendered_html table, .rendered_html th, .rendered_html tr, .rendered_html td {\n",
       "     font-size: 100%;\n",
       "}\n",
       "body.rise-enabled div.inner_cell>div.input_area {\n",
       "    font-size: 150%;\n",
       "}\n",
       "\n",
       "body.rise-enabled div.output_subarea.output_text.output_result {\n",
       "    font-size: 150%;\n",
       "}\n",
       "body.rise-enabled div.output_subarea.output_text.output_stream.output_stdout {\n",
       "  font-size: 150%;\n",
       "}\n",
       "</style>\n"
      ]
     },
     "metadata": {},
     "output_type": "display_data"
    }
   ],
   "source": [
    "IRdisplay::display_html(\"\n",
    "<style>\n",
    ".rendered_html table, .rendered_html th, .rendered_html tr, .rendered_html td {\n",
    "     font-size: 100%;\n",
    "}\n",
    "body.rise-enabled div.inner_cell>div.input_area {\n",
    "    font-size: 150%;\n",
    "}\n",
    "\n",
    "body.rise-enabled div.output_subarea.output_text.output_result {\n",
    "    font-size: 150%;\n",
    "}\n",
    "body.rise-enabled div.output_subarea.output_text.output_stream.output_stdout {\n",
    "  font-size: 150%;\n",
    "}\n",
    "</style>\n",
    "\")"
   ]
  },
  {
   "cell_type": "code",
   "execution_count": 2,
   "metadata": {
    "slideshow": {
     "slide_type": "notes"
    }
   },
   "outputs": [
    {
     "name": "stderr",
     "output_type": "stream",
     "text": [
      "── Attaching packages ─────────────────────────────────────── tidyverse 1.2.1 ──\n",
      "✔ ggplot2 3.1.0     ✔ purrr   0.2.5\n",
      "✔ tibble  1.4.2     ✔ dplyr   0.7.8\n",
      "✔ tidyr   0.8.2     ✔ stringr 1.3.1\n",
      "✔ readr   1.3.0     ✔ forcats 0.3.0\n",
      "── Conflicts ────────────────────────────────────────── tidyverse_conflicts() ──\n",
      "✖ dplyr::filter() masks stats::filter()\n",
      "✖ dplyr::lag()    masks stats::lag()\n"
     ]
    }
   ],
   "source": [
    "library(tidyverse)\n",
    "library(nycflights13)"
   ]
  },
  {
   "cell_type": "markdown",
   "metadata": {
    "slideshow": {
     "slide_type": "slide"
    }
   },
   "source": [
    "### Review\n",
    "Assume every flight is full. The busiest travel day in terms of total # of passengers who departed is:\n",
    "\n",
    "1. Jul. 3\n",
    "1. Nov. 26\n",
    "2. Nov. 27\n",
    "3. Dec. 26\n",
    "4. Dec. 27"
   ]
  },
  {
   "cell_type": "code",
   "execution_count": 51,
   "metadata": {
    "slideshow": {
     "slide_type": "slide"
    }
   },
   "outputs": [
    {
     "name": "stderr",
     "output_type": "stream",
     "text": [
      "Selecting by num_pass\n"
     ]
    },
    {
     "name": "stdout",
     "output_type": "stream",
     "text": [
      "# A tibble: 1 x 3\n",
      "  month   day num_pass\n",
      "  <int> <int>    <int>\n",
      "1    11    27   118869\n"
     ]
    }
   ],
   "source": [
    "flights %>% left_join(planes, by = 'tailnum') %>% group_by(month, day) %>% \n",
    "   summarize(num_pass = sum(seats, na.rm = T)) %>% ungroup %>% top_n(1) %>% print"
   ]
  },
  {
   "cell_type": "markdown",
   "metadata": {
    "slideshow": {
     "slide_type": "slide"
    }
   },
   "source": [
    "# Lecture 10: More on relational data; SQL\n",
    "<div style=\"border: 1px double black; padding: 10px; margin: 10px\">\n",
    "\n",
    "**After today's lecture you will:**\n",
    "* Understand how to [filter data using joins](#Filtering-joins)\n",
    "* Know to execute basic [SQL commands](#SQL-Commands)\n",
    "</div>\n"
   ]
  },
  {
   "cell_type": "markdown",
   "metadata": {
    "slideshow": {
     "slide_type": "slide"
    }
   },
   "source": [
    "## Filtering joins\n",
    "\n",
    "Filtering joins allow us to filter rows on one table based on their presence or absence in another table. We've already seen some examples of this on the problem sets:"
   ]
  },
  {
   "cell_type": "code",
   "execution_count": 53,
   "metadata": {
    "slideshow": {
     "slide_type": "slide"
    }
   },
   "outputs": [
    {
     "name": "stderr",
     "output_type": "stream",
     "text": [
      "Selecting by n\n"
     ]
    },
    {
     "name": "stdout",
     "output_type": "stream",
     "text": [
      "# A tibble: 6 x 2\n",
      "  carrier     n\n",
      "  <chr>   <int>\n",
      "1 AA      32729\n",
      "2 B6      54635\n",
      "3 DL      48110\n",
      "4 EV      54173\n",
      "5 MQ      26397\n",
      "6 UA      58665\n"
     ]
    }
   ],
   "source": [
    "top6 = count(flights, carrier) %>% top_n(6) %>% print\n",
    "flights_top6 = filter(flights, carrier %in% top6$carrier) %>% print"
   ]
  },
  {
   "cell_type": "markdown",
   "metadata": {
    "slideshow": {
     "slide_type": "slide"
    }
   },
   "source": [
    "What if we wanted to filter based on more than one variable? For example, based on busiest days of the year:"
   ]
  },
  {
   "cell_type": "code",
   "execution_count": 33,
   "metadata": {},
   "outputs": [
    {
     "name": "stderr",
     "output_type": "stream",
     "text": [
      "Selecting by n\n"
     ]
    },
    {
     "name": "stdout",
     "output_type": "stream",
     "text": [
      "# A tibble: 7 x 4\n",
      "   year month   day     n\n",
      "  <int> <int> <int> <int>\n",
      "1  2013     7     8  1004\n",
      "2  2013     7    10  1004\n",
      "3  2013     7    11  1006\n",
      "4  2013     7    18  1003\n",
      "5  2013     7    25  1003\n",
      "6  2013    11    27  1014\n",
      "7  2013    12     2  1004\n"
     ]
    }
   ],
   "source": [
    "top6_days = count(flights, year, month, day) %>% top_n(6) %>% print"
   ]
  },
  {
   "cell_type": "markdown",
   "metadata": {
    "slideshow": {
     "slide_type": "slide"
    }
   },
   "source": [
    "One option would be to construct a new string variable which we could then match using the same technique:"
   ]
  },
  {
   "cell_type": "code",
   "execution_count": 56,
   "metadata": {
    "slideshow": {
     "slide_type": "-"
    }
   },
   "outputs": [
    {
     "name": "stdout",
     "output_type": "stream",
     "text": [
      "# A tibble: 7 x 2\n",
      "  ymd            n\n",
      "  <chr>      <int>\n",
      "1 2013-7-8    1004\n",
      "2 2013-7-10   1004\n",
      "3 2013-7-11   1006\n",
      "4 2013-7-18   1003\n",
      "5 2013-7-25   1003\n",
      "6 2013-11-27  1014\n",
      "7 2013-12-2   1004\n"
     ]
    }
   ],
   "source": [
    "top6_days_ymd = unite(top6_days, ymd, year:day, sep=\"-\") %>% print\n",
    "flights_ymd = unite(flights, ymd, year:day, sep=\"-\")\n",
    "filter(flights_ymd, ymd %in% top6_days_ymd) %>% print"
   ]
  },
  {
   "cell_type": "markdown",
   "metadata": {
    "slideshow": {
     "slide_type": "notes"
    }
   },
   "source": [
    "But this is cumbersome and will also be slow if you are matching to a large list of choices."
   ]
  },
  {
   "cell_type": "markdown",
   "metadata": {
    "slideshow": {
     "slide_type": "slide"
    }
   },
   "source": [
    "### Semi-join\n",
    "A better option is to use the built-in command `semi_join`. `semi_join(x, y)` keeps all the observations in `x` that are also in `y`.\n",
    "![semi join](http://r4ds.had.co.nz/diagrams/join-semi.png)"
   ]
  },
  {
   "cell_type": "markdown",
   "metadata": {
    "slideshow": {
     "slide_type": "slide"
    }
   },
   "source": [
    "`semi_join()` takes the same `key=` options as the other join commands."
   ]
  },
  {
   "cell_type": "code",
   "execution_count": 57,
   "metadata": {
    "slideshow": {
     "slide_type": "-"
    }
   },
   "outputs": [
    {
     "name": "stderr",
     "output_type": "stream",
     "text": [
      "Joining, by = c(\"year\", \"month\", \"day\")\n"
     ]
    },
    {
     "name": "stdout",
     "output_type": "stream",
     "text": [
      "# A tibble: 7,038 x 19\n",
      "    year month   day dep_time sched_dep_time dep_delay arr_time sched_arr_time\n",
      "   <int> <int> <int>    <int>          <int>     <dbl>    <int>          <int>\n",
      " 1  2013    11    27       28           1930       298      129           2049\n",
      " 2  2013    11    27      505            500         5      703            651\n",
      " 3  2013    11    27      514            515        -1      743            808\n",
      " 4  2013    11    27      535            540        -5      907            850\n",
      " 5  2013    11    27      540            545        -5      815            835\n",
      " 6  2013    11    27      551            600        -9      920            854\n",
      " 7  2013    11    27      551            600        -9      918            849\n",
      " 8  2013    11    27      554            600        -6      719            719\n",
      " 9  2013    11    27      554            600        -6      707            717\n",
      "10  2013    11    27      554            600        -6      907            846\n",
      "# ... with 7,028 more rows, and 11 more variables: arr_delay <dbl>,\n",
      "#   carrier <chr>, flight <int>, tailnum <chr>, origin <chr>, dest <chr>,\n",
      "#   air_time <dbl>, distance <dbl>, hour <dbl>, minute <dbl>, time_hour <dttm>\n"
     ]
    }
   ],
   "source": [
    "# All flights in 6 busiest days of year:\n",
    "semi_join(flights, top6_days, key = c(\"year\", \"month\", \"day\")) %>% print"
   ]
  },
  {
   "cell_type": "markdown",
   "metadata": {
    "slideshow": {
     "slide_type": "slide"
    }
   },
   "source": [
    "### Exercise\n",
    "Of the 336,776 flights in `flights`, what % of them departed on one of the 20 busiest days of the year?"
   ]
  },
  {
   "cell_type": "code",
   "execution_count": 4,
   "metadata": {
    "slideshow": {
     "slide_type": "-"
    }
   },
   "outputs": [
    {
     "name": "stderr",
     "output_type": "stream",
     "text": [
      "Selecting by n\n",
      "Joining, by = c(\"year\", \"month\", \"day\")\n"
     ]
    },
    {
     "data": {
      "text/html": [
       "0.0595232439366226"
      ],
      "text/latex": [
       "0.0595232439366226"
      ],
      "text/markdown": [
       "0.0595232439366226"
      ],
      "text/plain": [
       "[1] 0.05952324"
      ]
     },
     "metadata": {},
     "output_type": "display_data"
    }
   ],
   "source": [
    "top20_days = count(flights, year, month, day) %>% top_n(20)\n",
    "semi_join(flights, top20_days) %>% nrow / nrow(flights)"
   ]
  },
  {
   "cell_type": "markdown",
   "metadata": {
    "slideshow": {
     "slide_type": "slide"
    }
   },
   "source": [
    "### Anti-join\n",
    "The opposite of a semi-join is an anti-join:\n",
    "![anti-join](http://r4ds.had.co.nz/diagrams/join-anti.png)"
   ]
  },
  {
   "cell_type": "markdown",
   "metadata": {
    "slideshow": {
     "slide_type": "slide"
    }
   },
   "source": [
    "### Exercise\n",
    "<table><tr><th>Beginner</th><th>Advanced</th></tr>\n",
    "    <tr>\n",
    "        <td>How many flights were on planes which are <i>not</i> found in the <code>planes</code> table?</td>\n",
    "        <td>How many planes flew to destinations which are <i>not</i> found in the <code>airports</code> table?</td>\n",
    "    </tr>\n",
    "    </table>"
   ]
  },
  {
   "cell_type": "code",
   "execution_count": 8,
   "metadata": {
    "slideshow": {
     "slide_type": "slide"
    }
   },
   "outputs": [
    {
     "data": {
      "text/html": [
       "52606"
      ],
      "text/latex": [
       "52606"
      ],
      "text/markdown": [
       "52606"
      ],
      "text/plain": [
       "[1] 52606"
      ]
     },
     "metadata": {},
     "output_type": "display_data"
    },
    {
     "data": {
      "text/html": [
       "7602"
      ],
      "text/latex": [
       "7602"
      ],
      "text/markdown": [
       "7602"
      ],
      "text/plain": [
       "[1] 7602"
      ]
     },
     "metadata": {},
     "output_type": "display_data"
    }
   ],
   "source": [
    "anti_join(flights, planes, by = \"tailnum\") %>% nrow # beginner\n",
    "left_join(flights, planes, by = \"tailnum\") %>% \n",
    "    anti_join(airports, by = c(\"dest\" = \"faa\")) %>% nrow # advanced"
   ]
  },
  {
   "cell_type": "markdown",
   "metadata": {
    "slideshow": {
     "slide_type": "slide"
    }
   },
   "source": [
    "Anti-joins are useful for finding mismatches in joins. Last lecture we saw that some 50k entries in `flights` have `tailnum`s that do not exist in the `planes` table. To find out more about these flights we could use an anti-join to select only those rows:"
   ]
  },
  {
   "cell_type": "code",
   "execution_count": 40,
   "metadata": {},
   "outputs": [
    {
     "name": "stdout",
     "output_type": "stream",
     "text": [
      "# A tibble: 50,094 x 19\n",
      "    year month   day dep_time sched_dep_time dep_delay arr_time sched_arr_time\n",
      "   <int> <int> <int>    <int>          <int>     <dbl>    <int>          <int>\n",
      " 1  2013     1     1      558            600        -2      753            745\n",
      " 2  2013     1     1      559            600        -1      941            910\n",
      " 3  2013     1     1      600            600         0      837            825\n",
      " 4  2013     1     1      602            605        -3      821            805\n",
      " 5  2013     1     1      608            600         8      807            735\n",
      " 6  2013     1     1      611            600        11      945            931\n",
      " 7  2013     1     1      623            610        13      920            915\n",
      " 8  2013     1     1      624            630        -6      840            830\n",
      " 9  2013     1     1      628            630        -2     1137           1140\n",
      "10  2013     1     1      629            630        -1      824            810\n",
      "# ... with 50,084 more rows, and 11 more variables: arr_delay <dbl>,\n",
      "#   carrier <chr>, flight <int>, tailnum <chr>, origin <chr>, dest <chr>,\n",
      "#   air_time <dbl>, distance <dbl>, hour <dbl>, minute <dbl>, time_hour <dttm>\n"
     ]
    }
   ],
   "source": [
    "missing_planes = anti_join(flights, planes, by=\"tailnum\") %>% \n",
    "                 filter(!is.na(tailnum)) %>% print"
   ]
  },
  {
   "cell_type": "markdown",
   "metadata": {
    "slideshow": {
     "slide_type": "slide"
    }
   },
   "source": [
    "Do we see any pattern in this table that could explain the missing tail numbers?"
   ]
  },
  {
   "cell_type": "code",
   "execution_count": 82,
   "metadata": {},
   "outputs": [
    {
     "name": "stdout",
     "output_type": "stream",
     "text": [
      "# A tibble: 100 x 19\n",
      "    year month   day dep_time sched_dep_time dep_delay arr_time sched_arr_time\n",
      "   <int> <int> <int>    <int>          <int>     <dbl>    <int>          <int>\n",
      " 1  2013    12     8     1353           1350         3     1701           1705\n",
      " 2  2013    11    20      749            755        -6      901            910\n",
      " 3  2013     4     8     1938           1945        -7     2225           2300\n",
      " 4  2013    12     8       NA           1455        NA       NA           1655\n",
      " 5  2013    11     5     1628           1635        -7     1752           1815\n",
      " 6  2013     4     9     1428           1440       -12     1601           1630\n",
      " 7  2013     4    25     1325           1300        25     1508           1435\n",
      " 8  2013    10    17      557            600        -3     1121            905\n",
      " 9  2013    12     4     1105           1115       -10     1425           1425\n",
      "10  2013     6    20     1945           1950        -5     2101           2130\n",
      "   arr_delay carrier flight tailnum origin dest  air_time distance  hour minute\n",
      "       <dbl> <chr>    <int> <chr>   <chr>  <chr>    <dbl>    <dbl> <dbl>  <dbl>\n",
      " 1        -4 AA        1073 N3DVAA  LGA    MIA        156     1096    13     50\n",
      " 2        -9 MQ        3370 N848MQ  JFK    DCA         44      213     7     55\n",
      " 3       -35 AA        1709 N3JWAA  LGA    MIA        147     1096    19     45\n",
      " 4        NA MQ        2815 N826MQ  JFK    CLE         NA      425    14     55\n",
      " 5       -23 MQ        2949 N942MQ  JFK    BNA        123      765    16     35\n",
      " 6       -29 MQ        4429 N725MQ  LGA    CMH         74      479    14     40\n",
      " 7        33 MQ        4404 N852MQ  JFK    RDU         79      427    13      0\n",
      " 8        NA AA        1175 N3EPAA  LGA    MIA         NA     1096     6      0\n",
      " 9         0 AA        1139 N3HSAA  LGA    DFW        229     1389    11     15\n",
      "10       -29 AA         363 N4XJAA  LGA    ORD        110      733    19     50\n",
      "   time_hour          \n",
      "   <dttm>             \n",
      " 1 2013-12-08 13:00:00\n",
      " 2 2013-11-20 07:00:00\n",
      " 3 2013-04-08 19:00:00\n",
      " 4 2013-12-08 14:00:00\n",
      " 5 2013-11-05 16:00:00\n",
      " 6 2013-04-09 14:00:00\n",
      " 7 2013-04-25 13:00:00\n",
      " 8 2013-10-17 06:00:00\n",
      " 9 2013-12-04 11:00:00\n",
      "10 2013-06-20 19:00:00\n",
      "# ... with 90 more rows\n"
     ]
    }
   ],
   "source": [
    "missing_planes %>% sample_n(100) %>% print(width = Inf)"
   ]
  },
  {
   "cell_type": "markdown",
   "metadata": {
    "slideshow": {
     "slide_type": "slide"
    }
   },
   "source": [
    "Interestingly, the top 5 most frequent `tailnum`s in the overall data are almost the same:"
   ]
  },
  {
   "cell_type": "code",
   "execution_count": 161,
   "metadata": {},
   "outputs": [
    {
     "name": "stderr",
     "output_type": "stream",
     "text": [
      "Selecting by n\n"
     ]
    },
    {
     "data": {
      "text/plain": [
       "  tailnum model  n  \n",
       "1 N711MQ  G1159B 486\n",
       "2 N713MQ  NA     483\n",
       "3 N722MQ  NA     513\n",
       "4 N723MQ  NA     507\n",
       "5 N725MQ  NA     575"
      ]
     },
     "metadata": {},
     "output_type": "display_data"
    }
   ],
   "source": [
    "flights %>% drop_na(tailnum) %>% left_join(planes, by = \"tailnum\") %>% \n",
    "    count(tailnum, model) %>% top_n(5)"
   ]
  },
  {
   "cell_type": "code",
   "execution_count": 173,
   "metadata": {},
   "outputs": [
    {
     "data": {
      "text/plain": [
       "  tailnum year type                    manufacturer         model  engines\n",
       "1 N711MQ  1976 Fixed wing multi engine GULFSTREAM AEROSPACE G1159B 2      \n",
       "  seats speed engine   \n",
       "1 22    NA    Turbo-jet"
      ]
     },
     "metadata": {},
     "output_type": "display_data"
    }
   ],
   "source": [
    "planes %>% filter(tailnum == \"N711MQ\")"
   ]
  },
  {
   "cell_type": "markdown",
   "metadata": {
    "slideshow": {
     "slide_type": "notes"
    }
   },
   "source": [
    "The one plane that is represented is N711M. You can [look it up](https://flightaware.com/resources/registration/N711MQ) in an online database and find out it's a private jet. My guess is the others are private jets too."
   ]
  },
  {
   "cell_type": "markdown",
   "metadata": {
    "slideshow": {
     "slide_type": "slide"
    }
   },
   "source": [
    "### SQL Queries"
   ]
  },
  {
   "cell_type": "markdown",
   "metadata": {
    "slideshow": {
     "slide_type": "notes"
    }
   },
   "source": [
    "\n",
    "(After last lecture several students contacted me and said they were interested in hearing more about SQL. Since we only spent the last five minutes of lecture talking about this, I have decided to cover this material in more detail.)\n"
   ]
  },
  {
   "cell_type": "markdown",
   "metadata": {
    "slideshow": {
     "slide_type": "-"
    }
   },
   "source": [
    "\n",
    "SQL stands for \"Structured Query Language\". Many large databases are stored in SQL format, and you will probably encounter one if you work on big data and/or at a large company. "
   ]
  },
  {
   "cell_type": "markdown",
   "metadata": {
    "slideshow": {
     "slide_type": "notes"
    }
   },
   "source": [
    "To introduce SQL we're going to use the `sqldf` package, which lets us run SQL queries on R tibbles/data frames. Also, to make things go faster, we'll operate on a subsetted version of flights which takes 1% of randomly sampled rows."
   ]
  },
  {
   "cell_type": "code",
   "execution_count": 162,
   "metadata": {
    "slideshow": {
     "slide_type": "notes"
    }
   },
   "outputs": [],
   "source": [
    "# install.packages(\"sqldf\") if necessary\n",
    "library(sqldf)\n",
    "flights_sub <- slice(flights, seq(1, nrow(flights), length.out = 10000))\n",
    "# This function takes the data.frame outputted from sqldf and converts it to a tibble\n",
    "sqltbl <- function(...) sqldf(...) %>% tbl_df"
   ]
  },
  {
   "cell_type": "markdown",
   "metadata": {
    "slideshow": {
     "slide_type": "slide"
    }
   },
   "source": [
    "### Selecting data from a table\n",
    "The SQL syntax for selecting column(s) from a table is\n",
    "```{sql}\n",
    "SELECT <col1>, <col2>, ..., <coln> FROM <table>\n",
    "```\n",
    "Note the similarity to the corresponding `tidyverse` command:\n",
    "```{r}\n",
    "select(<table>, <col1>, <col2>, ..., <coln>)\n",
    "```"
   ]
  },
  {
   "cell_type": "code",
   "execution_count": 87,
   "metadata": {
    "slideshow": {
     "slide_type": "slide"
    }
   },
   "outputs": [
    {
     "name": "stdout",
     "output_type": "stream",
     "text": [
      "# A tibble: 10,000 x 1\n",
      "   tailnum\n",
      "   <chr>  \n",
      " 1 N14228 \n",
      " 2 N11107 \n",
      " 3 N838UA \n",
      " 4 N935DL \n",
      " 5 N292JB \n",
      " 6 N846VA \n",
      " 7 N579JB \n",
      " 8 N328AA \n",
      " 9 N16561 \n",
      "10 N783SW \n",
      "# ... with 9,990 more rows\n"
     ]
    }
   ],
   "source": [
    "# flights_sub %>% select(tailnum) %>% print\n",
    "sqltbl(\"SELECT tailnum FROM flights_sub\") %>% print"
   ]
  },
  {
   "cell_type": "markdown",
   "metadata": {
    "slideshow": {
     "slide_type": "slide"
    }
   },
   "source": [
    "The special keyword `*` means \"select everything\" and is equivalent to `dplyr`'s `everything()`:"
   ]
  },
  {
   "cell_type": "code",
   "execution_count": 91,
   "metadata": {
    "slideshow": {
     "slide_type": "slide"
    }
   },
   "outputs": [
    {
     "name": "stdout",
     "output_type": "stream",
     "text": [
      "# A tibble: 10,000 x 20\n",
      "   tailnum  year month   day dep_time sched_dep_time dep_delay arr_time\n",
      "   <chr>   <int> <int> <int>    <int>          <int>     <dbl>    <int>\n",
      " 1 N14228   2013     1     1      517            515         2      830\n",
      " 2 N11107   2013     1     1      624            630        -6      909\n",
      " 3 N838UA   2013     1     1      659            700        -1      959\n",
      " 4 N935DL   2013     1     1      754            759        -5     1039\n",
      " 5 N292JB   2013     1     1      825            827        -2     1058\n",
      " 6 N846VA   2013     1     1      859            900        -1     1223\n",
      " 7 N579JB   2013     1     1      933            904        29     1252\n",
      " 8 N328AA   2013     1     1     1026           1030        -4     1351\n",
      " 9 N16561   2013     1     1     1120            944        96     1331\n",
      "10 N783SW   2013     1     1     1158           1200        -2     1256\n",
      "# ... with 9,990 more rows, and 12 more variables: sched_arr_time <int>,\n",
      "#   arr_delay <dbl>, carrier <chr>, flight <int>, tailnum..13 <chr>,\n",
      "#   origin <chr>, dest <chr>, air_time <dbl>, distance <dbl>, hour <dbl>,\n",
      "#   minute <dbl>, time_hour <dttm>\n"
     ]
    }
   ],
   "source": [
    "# flights_sub %>% select(tailnum, everything())  %>% print\n",
    "sqltbl(\"SELECT tailnum, * FROM flights_sub\") %>% print"
   ]
  },
  {
   "cell_type": "markdown",
   "metadata": {
    "slideshow": {
     "slide_type": "slide"
    }
   },
   "source": [
    "If you have a really big table, SQL allows you to `LIMIT` the number of rows it returns."
   ]
  },
  {
   "cell_type": "code",
   "execution_count": 93,
   "metadata": {},
   "outputs": [
    {
     "name": "stdout",
     "output_type": "stream",
     "text": [
      "# A tibble: 10 x 19\n",
      "    year month   day dep_time sched_dep_time dep_delay arr_time sched_arr_time\n",
      "   <int> <int> <int>    <int>          <int>     <dbl>    <int>          <int>\n",
      " 1  2013     1     1      517            515         2      830            819\n",
      " 2  2013     1     1      624            630        -6      909            840\n",
      " 3  2013     1     1      659            700        -1      959           1008\n",
      " 4  2013     1     1      754            759        -5     1039           1041\n",
      " 5  2013     1     1      825            827        -2     1058           1105\n",
      " 6  2013     1     1      859            900        -1     1223           1225\n",
      " 7  2013     1     1      933            904        29     1252           1210\n",
      " 8  2013     1     1     1026           1030        -4     1351           1340\n",
      " 9  2013     1     1     1120            944        96     1331           1213\n",
      "10  2013     1     1     1158           1200        -2     1256           1300\n",
      "# ... with 11 more variables: arr_delay <dbl>, carrier <chr>, flight <int>,\n",
      "#   tailnum <chr>, origin <chr>, dest <chr>, air_time <dbl>, distance <dbl>,\n",
      "#   hour <dbl>, minute <dbl>, time_hour <dttm>\n"
     ]
    }
   ],
   "source": [
    "# flights_sub %>% slice(1:10) %>% print\n",
    "sqltbl(\"SELECT * FROM flights_sub LIMIT 10\") %>% print"
   ]
  },
  {
   "cell_type": "markdown",
   "metadata": {
    "slideshow": {
     "slide_type": "slide"
    }
   },
   "source": [
    "### Filtering\n",
    "\n",
    "The SQL syntax for filtering rows in a table uses the `WHERE` clause:\n",
    "```{sql}\n",
    "SELECT * FROM <table> WHERE dest = \"IAH\"\n",
    "```\n",
    "This is the same as:\n",
    "```{r}\n",
    "filter(<table>, dest == \"IAH\")\n",
    "```\n",
    "Note that SQL uses a single `=` to check equality!"
   ]
  },
  {
   "cell_type": "code",
   "execution_count": 98,
   "metadata": {
    "slideshow": {
     "slide_type": "slide"
    }
   },
   "outputs": [
    {
     "name": "stdout",
     "output_type": "stream",
     "text": [
      "# A tibble: 196 x 19\n",
      "    year month   day dep_time sched_dep_time dep_delay arr_time sched_arr_time\n",
      "   <int> <int> <int>    <int>          <int>     <dbl>    <int>          <int>\n",
      " 1  2013     1     1      517            515         2      830            819\n",
      " 2  2013     1     2      913            908         5     1252           1215\n",
      " 3  2013     1     7     1017           1015         2     1315           1334\n",
      " 4  2013     1    11     1441           1446        -5     1725           1757\n",
      " 5  2013     1    16     1249           1251        -2     1620           1602\n",
      " 6  2013     1    17      854            900        -6     1209           1216\n",
      " 7  2013     1    18     1518           1515         3     1757           1805\n",
      " 8  2013     1    28     1152           1200        -8     1442           1459\n",
      " 9  2013     1    31     1811           1705        66     2124           2015\n",
      "10  2013    10     2     1029           1029         0     1322           1325\n",
      "# ... with 186 more rows, and 11 more variables: arr_delay <dbl>,\n",
      "#   carrier <chr>, flight <int>, tailnum <chr>, origin <chr>, dest <chr>,\n",
      "#   air_time <dbl>, distance <dbl>, hour <dbl>, minute <dbl>, time_hour <dttm>\n"
     ]
    }
   ],
   "source": [
    "# filter(flights_sub, dest == \"IAH\") %>% print\n",
    "sqltbl('\n",
    "    SELECT * FROM flights_sub WHERE dest = \"IAH\"\n",
    "') %>% print"
   ]
  },
  {
   "cell_type": "markdown",
   "metadata": {
    "slideshow": {
     "slide_type": "slide"
    }
   },
   "source": [
    "### Missing data\n",
    "In SQL, missing data is coded as `NULL`. This is a special value which is analogous to `NA` in R. "
   ]
  },
  {
   "cell_type": "code",
   "execution_count": 107,
   "metadata": {
    "slideshow": {
     "slide_type": "slide"
    }
   },
   "outputs": [
    {
     "name": "stdout",
     "output_type": "stream",
     "text": [
      "# A tibble: 9,751 x 19\n",
      "    year month   day dep_time sched_dep_time dep_delay arr_time sched_arr_time\n",
      "   <int> <int> <int>    <int>          <int>     <dbl>    <int>          <int>\n",
      " 1  2013     1     1      517            515         2      830            819\n",
      " 2  2013     1     1      624            630        -6      909            840\n",
      " 3  2013     1     1      659            700        -1      959           1008\n",
      " 4  2013     1     1      754            759        -5     1039           1041\n",
      " 5  2013     1     1      825            827        -2     1058           1105\n",
      " 6  2013     1     1      859            900        -1     1223           1225\n",
      " 7  2013     1     1      933            904        29     1252           1210\n",
      " 8  2013     1     1     1026           1030        -4     1351           1340\n",
      " 9  2013     1     1     1120            944        96     1331           1213\n",
      "10  2013     1     1     1158           1200        -2     1256           1300\n",
      "# ... with 9,741 more rows, and 11 more variables: arr_delay <dbl>,\n",
      "#   carrier <chr>, flight <int>, tailnum <chr>, origin <chr>, dest <chr>,\n",
      "#   air_time <dbl>, distance <dbl>, hour <dbl>, minute <dbl>, time_hour <dttm>\n"
     ]
    }
   ],
   "source": [
    "# flights_sub %>% drop_na(dep_time) %>% print\n",
    "sqltbl(\"SELECT * FROM flights_sub WHERE dep_time IS NOT NULL\") %>% print"
   ]
  },
  {
   "cell_type": "markdown",
   "metadata": {
    "slideshow": {
     "slide_type": "slide"
    }
   },
   "source": [
    "### Summarizing\n",
    "\n",
    "The SQL syntax for summarizing is using the `GROUP BY` clause:\n",
    "```{sql}\n",
    "SELECT AVG(<col>) AS avg_col FROM <table> GROUP BY(<group cols>)\n",
    "```\n",
    "This is the same as:\n",
    "```{r}\n",
    "<table> %>% group_by(<group cols>) %>% summarize(avg_col = mean(<col>))\n",
    "```"
   ]
  },
  {
   "cell_type": "code",
   "execution_count": 117,
   "metadata": {
    "slideshow": {
     "slide_type": "slide"
    }
   },
   "outputs": [
    {
     "name": "stdout",
     "output_type": "stream",
     "text": [
      "# A tibble: 10,000 x 19\n",
      "    year month   day dep_time sched_dep_time dep_delay arr_time sched_arr_time\n",
      "   <int> <int> <int>    <int>          <int>     <dbl>    <int>          <int>\n",
      " 1  2013     1     1      517            515         2      830            819\n",
      " 2  2013     1     1      624            630        -6      909            840\n",
      " 3  2013     1     1      659            700        -1      959           1008\n",
      " 4  2013     1     1      754            759        -5     1039           1041\n",
      " 5  2013     1     1      825            827        -2     1058           1105\n",
      " 6  2013     1     1      859            900        -1     1223           1225\n",
      " 7  2013     1     1      933            904        29     1252           1210\n",
      " 8  2013     1     1     1026           1030        -4     1351           1340\n",
      " 9  2013     1     1     1120            944        96     1331           1213\n",
      "10  2013     1     1     1158           1200        -2     1256           1300\n",
      "# ... with 9,990 more rows, and 11 more variables: arr_delay <dbl>,\n",
      "#   carrier <chr>, flight <int>, tailnum <chr>, origin <chr>, dest <chr>,\n",
      "#   air_time <dbl>, distance <dbl>, hour <dbl>, minute <dbl>, time_hour <dttm>\n"
     ]
    }
   ],
   "source": [
    "flights_sub %>% group_by(origin) %>% \n",
    "summarize(mean(distance), n())\n",
    "sqltbl(\"\n",
    "    SELECT origin, AVG(distance) AS avg_dist, COUNT() \n",
    "    FROM flights_sub GROUP BY origin\n",
    "\")"
   ]
  },
  {
   "cell_type": "markdown",
   "metadata": {
    "slideshow": {
     "slide_type": "slide"
    }
   },
   "source": [
    "### Joins\n",
    "\n",
    "The SQL syntax for joins:\n",
    "```{sql}\n",
    "SELECT * FROM <table> LEFT JOIN <other_table> ON <left_key_col> = <right_key_col>\n",
    "```\n",
    "This is the same as:\n",
    "```{r}\n",
    "left_join(<table>, <other_table>, key = c(\"<left_key_col>\" = \"<right_key_col>\"))\n",
    "```"
   ]
  },
  {
   "cell_type": "code",
   "execution_count": 122,
   "metadata": {
    "slideshow": {
     "slide_type": "slide"
    }
   },
   "outputs": [
    {
     "name": "stdout",
     "output_type": "stream",
     "text": [
      "# A tibble: 10,000 x 5\n",
      "    year month   day tailnum manufacturer                 \n",
      "   <int> <int> <int> <chr>   <chr>                        \n",
      " 1  2013     1     1 N14228  BOEING                       \n",
      " 2  2013     1     1 N11107  EMBRAER                      \n",
      " 3  2013     1     1 N838UA  AIRBUS INDUSTRIE             \n",
      " 4  2013     1     1 N935DL  MCDONNELL DOUGLAS AIRCRAFT CO\n",
      " 5  2013     1     1 N292JB  EMBRAER                      \n",
      " 6  2013     1     1 N846VA  AIRBUS                       \n",
      " 7  2013     1     1 N579JB  AIRBUS                       \n",
      " 8  2013     1     1 N328AA  BOEING                       \n",
      " 9  2013     1     1 N16561  EMBRAER                      \n",
      "10  2013     1     1 N783SW  BOEING                       \n",
      "# ... with 9,990 more rows\n"
     ]
    }
   ],
   "source": [
    "flights_sub %>% left_join(planes, by = \"tailnum\") %>% print\n",
    "     select(year.x, month, day, tailnum, manufacturer)\n",
    "sqltbl(' \n",
    "    SELECT flights_sub.year, flights_sub.month, flights_sub.day, \n",
    "           planes.tailnum, planes.manufacturer \n",
    "    FROM flights_sub\n",
    "    LEFT JOIN planes ON flights_sub.tailnum = planes.tailnum\n",
    "') %>% print"
   ]
  },
  {
   "cell_type": "markdown",
   "metadata": {
    "slideshow": {
     "slide_type": "notes"
    }
   },
   "source": [
    "Note here that SQL requires us to be explicit about which columns we are `SELECT`ing when joining multiple tables. Each column name must be prefixed with the name of the table in which it resides."
   ]
  },
  {
   "cell_type": "markdown",
   "metadata": {
    "slideshow": {
     "slide_type": "slide"
    }
   },
   "source": [
    "## Advanced joins in SQL\n",
    "SQL is more general in specifying the join condition. Whereas in tidyverse it must be a key, in\n",
    "SQL it can be a general logical condition."
   ]
  },
  {
   "cell_type": "code",
   "execution_count": 140,
   "metadata": {
    "slideshow": {
     "slide_type": "slide"
    }
   },
   "outputs": [
    {
     "name": "stdout",
     "output_type": "stream",
     "text": [
      "# A tibble: 9 x 17\n",
      "  faa.x name.x lat.x lon.x alt.x  tz.x dst.x tzone.x     k faa.y name.y lat.y\n",
      "  <chr> <chr>  <dbl> <dbl> <int> <dbl> <chr> <chr>   <dbl> <chr> <chr>  <dbl>\n",
      "1 04G   Lansd…  41.1 -80.6  1044    -5 A     Americ…     1 04G   Lansd…  41.1\n",
      "2 04G   Lansd…  41.1 -80.6  1044    -5 A     Americ…     1 06A   Moton…  32.5\n",
      "3 04G   Lansd…  41.1 -80.6  1044    -5 A     Americ…     1 06C   Schau…  42.0\n",
      "4 06A   Moton…  32.5 -85.7   264    -6 A     Americ…     1 04G   Lansd…  41.1\n",
      "5 06A   Moton…  32.5 -85.7   264    -6 A     Americ…     1 06A   Moton…  32.5\n",
      "6 06A   Moton…  32.5 -85.7   264    -6 A     Americ…     1 06C   Schau…  42.0\n",
      "7 06C   Schau…  42.0 -88.1   801    -6 A     Americ…     1 04G   Lansd…  41.1\n",
      "8 06C   Schau…  42.0 -88.1   801    -6 A     Americ…     1 06A   Moton…  32.5\n",
      "9 06C   Schau…  42.0 -88.1   801    -6 A     Americ…     1 06C   Schau…  42.0\n",
      "# ... with 5 more variables: lon.y <dbl>, alt.y <int>, tz.y <dbl>, dst.y <chr>,\n",
      "#   tzone.y <chr>\n"
     ]
    },
    {
     "ename": "ERROR",
     "evalue": "Error in mutate(dst2 = (lat.x - lat.y)^2 + (lon.x - lon.y)^2): object 'lat.x' not found\n",
     "output_type": "error",
     "traceback": [
      "Error in mutate(dst2 = (lat.x - lat.y)^2 + (lon.x - lon.y)^2): object 'lat.x' not found\nTraceback:\n",
      "1. mutate(dst2 = (lat.x - lat.y)^2 + (lon.x - lon.y)^2) %>% select(name.x, \n .     name.y, dst2) %>% group_by(name.x) %>% mutate(r = rank(dst2)) %>% \n .     filter(r == 2)",
      "2. eval(lhs, parent, parent)",
      "3. eval(lhs, parent, parent)",
      "4. mutate(dst2 = (lat.x - lat.y)^2 + (lon.x - lon.y)^2)"
     ]
    }
   ],
   "source": [
    "airports3 <- slice(airports, 1:3) %>% mutate(k = 1)\n",
    "left_join(airports3, airports3, by = c(\"k\")) %>% print\n",
    "    mutate(dst2 = (lat.x - lat.y)^2 + (lon.x - lon.y)^2) %>% \n",
    "    select(name.x, name.y, dst2) %>% group_by(name.x) %>% \n",
    "    mutate(r = rank(dst2)) %>% filter(r == 2)\n",
    "# filter(airports, faa == \"DTW\")\n",
    "# mutate(airports, dst2_dtw = (lat - 42.21244)^2 + (lon - -83.35339)^2) %>% \n",
    "#    arrange(dst2_dtw) %>% select(faa, name, dst2_dtw)"
   ]
  },
  {
   "cell_type": "code",
   "execution_count": 141,
   "metadata": {
    "slideshow": {
     "slide_type": "slide"
    }
   },
   "outputs": [
    {
     "name": "stdout",
     "output_type": "stream",
     "text": [
      "# A tibble: 1,429 x 8\n",
      "# Groups:   faa [1,429]\n",
      "   name                         faa     lat    lon neighbor  lat2   lon2    dist\n",
      "   <chr>                        <chr> <dbl>  <dbl> <chr>    <dbl>  <dbl>   <dbl>\n",
      " 1 Lansdowne Airport            04G    41.1  -80.6 YNG       41.3  -80.7 0.0205 \n",
      " 2 Moton Field Municipal Airpo… 06A    32.5  -85.7 AUO       32.4  -85.3 0.184  \n",
      " 3 Schaumburg Regional          06C    42.0  -88.1 DPA       41.9  -88.2 0.0284 \n",
      " 4 Randall Airport              06N    41.4  -74.4 MGJ       41.5  -74.3 0.0222 \n",
      " 5 Jekyll Island Airport        09J    31.1  -81.4 SSI       31.2  -81.4 0.00735\n",
      " 6 Elizabethton Municipal Airp… 0A9    36.4  -82.2 TRI       36.5  -82.4 0.0656 \n",
      " 7 Williams County Airport      0G6    41.5  -84.5 ANQ       41.6  -85.1 0.362  \n",
      " 8 Finger Lakes Regional Airpo… 0G7    42.9  -76.8 SDC       43.2  -77.1 0.238  \n",
      " 9 Shoestring Aviation Airfield 0P2    39.8  -76.6 MDT       40.2  -76.8 0.172  \n",
      "10 Jefferson County Intl        0S9    48.1 -123.  TWD       48.0 -122.  0.107  \n",
      "# ... with 1,419 more rows\n"
     ]
    }
   ],
   "source": [
    "# For every airport, find (approximately) its nearest neighbor\n",
    "air_nn <- sqldf('\n",
    "    SELECT airports.name, airports.faa, airports.lat, airports.lon,\n",
    "           airports2.faa AS neighbor,\n",
    "           airports2.lat AS lat2,\n",
    "           airports2.lon AS lon2,\n",
    "           POWER(airports.lat - airports2.lat, 2) + \n",
    "           POWER(airports.lon - airports2.lon, 2) AS dist\n",
    "    FROM airports\n",
    "    \n",
    "    LEFT OUTER JOIN airports AS airports2 ON dist > 0 AND dist < 2\n",
    "\n",
    "    WHERE airports.lon < 0\n",
    "') %>% tbl_df %>% group_by(faa) %>% ≠\n",
    "    filter(dplyr::dense_rank(dist) == 1) %>% print"
   ]
  },
  {
   "cell_type": "code",
   "execution_count": 143,
   "metadata": {
    "slideshow": {
     "slide_type": "slide"
    }
   },
   "outputs": [
    {
     "data": {
      "image/png": "[encoded data removed]"
     },
     "metadata": {},
     "output_type": "display_data"
    }
   ],
   "source": [
    "air_nn  %>% filter(lon > -93) %>% \n",
    "    ggplot + \n",
    "    geom_segment(aes(x = lon, y = lat, xend = lon2, yend = lat2), color=\"blue\") +\n",
    "    geom_point(aes(x = lon, y = lat)) + \n",
    "    coord_quickmap()"
   ]
  }
 ],
 "metadata": {
  "celltoolbar": "Slideshow",
  "kernelspec": {
   "display_name": "R",
   "language": "R",
   "name": "ir"
  },
  "language_info": {
   "codemirror_mode": "r",
   "file_extension": ".r",
   "mimetype": "text/x-r-source",
   "name": "R",
   "pygments_lexer": "r",
   "version": "3.4.4"
  }
 },
 "nbformat": 4,
 "nbformat_minor": 2
}
