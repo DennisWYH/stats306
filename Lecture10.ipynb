{
 "cells": [
  {
   "cell_type": "markdown",
   "metadata": {},
   "source": [
    "In this notebook, we review material from previous lectures:\n",
    "\n",
    "* [ggplot](#ggplot)\n",
    "    * aesthetics\n",
    "    * geometries\n",
    "    * faceting\n",
    "    * statistical transformations\n",
    "    * position adjustments\n",
    "    * coordinate transformations\n",
    "* [dplyr verbs](#dplyr-verbs)\n",
    "    * filter\n",
    "    * arrange\n",
    "    * select\n",
    "    * rename\n",
    "    * mutate\n",
    "    * transmute\n",
    "    * group_by\n",
    "    * summarize\n",
    "* [pipes](#pipes)\n",
    "* [EDA](#EDA)\n",
    "    * visualizing distributions\n",
    "    * typical values\n",
    "    * unusual values\n",
    "    * missing values\n",
    "    * covariation"
   ]
  },
  {
   "cell_type": "markdown",
   "metadata": {},
   "source": [
    "# ggplot"
   ]
  },
  {
   "cell_type": "code",
   "execution_count": 1,
   "metadata": {},
   "outputs": [
    {
     "name": "stderr",
     "output_type": "stream",
     "text": [
      "Loading tidyverse: ggplot2\n",
      "Loading tidyverse: tibble\n",
      "Loading tidyverse: tidyr\n",
      "Loading tidyverse: readr\n",
      "Loading tidyverse: purrr\n",
      "Loading tidyverse: dplyr\n",
      "Conflicts with tidy packages ---------------------------------------------------\n",
      "filter(): dplyr, stats\n",
      "lag():    dplyr, stats\n"
     ]
    }
   ],
   "source": [
    "options(repr.plot.width=6, repr.plot.height=4)\n",
    "library(tidyverse)"
   ]
  },
  {
   "cell_type": "markdown",
   "metadata": {},
   "source": [
    "What's wrong with this code to produce a scatter plot of `hwy` vs `displ` with the `color` aesthetic mapped to `drv`?"
   ]
  },
  {
   "cell_type": "code",
   "execution_count": 2,
   "metadata": {},
   "outputs": [
    {
     "ename": "ERROR",
     "evalue": "Error in layer(data = data, mapping = mapping, stat = stat, geom = GeomPoint, : object 'drv' not found\n",
     "output_type": "error",
     "traceback": [
      "Error in layer(data = data, mapping = mapping, stat = stat, geom = GeomPoint, : object 'drv' not found\nTraceback:\n",
      "1. geom_point(mapping = aes(x = displ, y = hwy), color = drv)",
      "2. layer(data = data, mapping = mapping, stat = stat, geom = GeomPoint, \n .     position = position, show.legend = show.legend, inherit.aes = inherit.aes, \n .     params = list(na.rm = na.rm, ...))"
     ]
    }
   ],
   "source": [
    "ggplot(data = mpg) +\n",
    "    geom_point(mapping = aes(x = displ, y = hwy), color = drv)"
   ]
  },
  {
   "cell_type": "markdown",
   "metadata": {},
   "source": [
    "What does `se = FALSE` do in the code below?"
   ]
  },
  {
   "cell_type": "code",
   "execution_count": null,
   "metadata": {
    "scrolled": true
   },
   "outputs": [],
   "source": [
    "ggplot(data = mpg) +\n",
    "    geom_smooth(mapping = aes(x = displ, y = hwy), se = FALSE)"
   ]
  },
  {
   "cell_type": "markdown",
   "metadata": {},
   "source": [
    "Write the command to produce the following plot.\n",
    "\n",
    "![plot](http://dept.stat.lsa.umich.edu/~tewaria/teaching/STATS306-Fall2017/Rplot1.png)"
   ]
  },
  {
   "cell_type": "markdown",
   "metadata": {},
   "source": [
    "Write the command to produce the following plot.\n",
    "\n",
    "![plot](http://dept.stat.lsa.umich.edu/~tewaria/teaching/STATS306-Fall2017/Rplot2.png)"
   ]
  },
  {
   "cell_type": "markdown",
   "metadata": {},
   "source": [
    "Match the geometries below with their statistical transformations.\n",
    "\n",
    "| Geometry       | Stat     |\n",
    "|----------------|----------|\n",
    "| geom_point     | bin      |\n",
    "| geom_histogram | count    |\n",
    "| geom_bar       | identity |"
   ]
  },
  {
   "cell_type": "markdown",
   "metadata": {},
   "source": [
    "Write the command to produce the following plot.\n",
    "\n",
    "![plot](http://dept.stat.lsa.umich.edu/~tewaria/teaching/STATS306-Fall2017/Rplot3.png)"
   ]
  },
  {
   "cell_type": "markdown",
   "metadata": {},
   "source": [
    "Write the command to produce the following plot.\n",
    "\n",
    "![plot](http://dept.stat.lsa.umich.edu/~tewaria/teaching/STATS306-Fall2017/Rplot4.png)"
   ]
  },
  {
   "cell_type": "markdown",
   "metadata": {},
   "source": [
    "# dplyr verbs"
   ]
  },
  {
   "cell_type": "markdown",
   "metadata": {},
   "source": [
    "What's wrong in the code fragments below?"
   ]
  },
  {
   "cell_type": "code",
   "execution_count": 16,
   "metadata": {},
   "outputs": [
    {
     "ename": "ERROR",
     "evalue": "Error in filter_impl(.data, dots): object 'f' not found\n",
     "output_type": "error",
     "traceback": [
      "Error in filter_impl(.data, dots): object 'f' not found\nTraceback:\n",
      "1. filter(mpg, drv == f)",
      "2. filter_(.data, .dots = lazyeval::lazy_dots(...))",
      "3. filter_.tbl_df(.data, .dots = lazyeval::lazy_dots(...))",
      "4. filter_impl(.data, dots)"
     ]
    }
   ],
   "source": [
    "filter(mpg, drv == f) # find vehicles with front wheel drive"
   ]
  },
  {
   "cell_type": "code",
   "execution_count": 10,
   "metadata": {},
   "outputs": [
    {
     "ename": "ERROR",
     "evalue": "Error in parse(text = x, srcfile = src): <text>:1:18: unexpected '>'\n1: filter(mpg, drv <>\n                     ^\n",
     "output_type": "error",
     "traceback": [
      "Error in parse(text = x, srcfile = src): <text>:1:18: unexpected '>'\n1: filter(mpg, drv <>\n                     ^\nTraceback:\n"
     ]
    }
   ],
   "source": [
    "filter(mpg, drv <> '4')) # find vehicles that do not have 4 wheel drives"
   ]
  },
  {
   "cell_type": "code",
   "execution_count": 15,
   "metadata": {},
   "outputs": [
    {
     "ename": "ERROR",
     "evalue": "Error in parse(text = x, srcfile = src): <text>:1:43: unexpected '='\n1: filter(mpg, manufacturer = toyota & class =\n                                              ^\n",
     "output_type": "error",
     "traceback": [
      "Error in parse(text = x, srcfile = src): <text>:1:43: unexpected '='\n1: filter(mpg, manufacturer = toyota & class =\n                                              ^\nTraceback:\n"
     ]
    }
   ],
   "source": [
    "filter(mpg, manufacturer = toyota & class = suv) # find all suvs made by toyota"
   ]
  },
  {
   "cell_type": "code",
   "execution_count": 23,
   "metadata": {},
   "outputs": [
    {
     "ename": "ERROR",
     "evalue": "Error in eval(expr, envir, enclos): could not find function \"number_of\"\n",
     "output_type": "error",
     "traceback": [
      "Error in eval(expr, envir, enclos): could not find function \"number_of\"\nTraceback:\n"
     ]
    }
   ],
   "source": [
    "number_of(filter(mpg, cyl == 4)) # find the number of vehicle with 4 cylinders"
   ]
  },
  {
   "cell_type": "markdown",
   "metadata": {},
   "source": [
    "# pipes"
   ]
  },
  {
   "cell_type": "code",
   "execution_count": 30,
   "metadata": {},
   "outputs": [
    {
     "ename": "ERROR",
     "evalue": "Error in filter_impl(.data, dots): comparison (1) is possible only for atomic and list types\n",
     "output_type": "error",
     "traceback": [
      "Error in filter_impl(.data, dots): comparison (1) is possible only for atomic and list types\nTraceback:\n",
      "1. select(mpg, hwy) %>% filter(class == \"suv\") %>% arrange(hwy)",
      "2. withVisible(eval(quote(`_fseq`(`_lhs`)), env, env))",
      "3. eval(quote(`_fseq`(`_lhs`)), env, env)",
      "4. eval(expr, envir, enclos)",
      "5. `_fseq`(`_lhs`)",
      "6. freduce(value, `_function_list`)",
      "7. function_list[[i]](value)",
      "8. filter(., class == \"suv\")",
      "9. filter_(.data, .dots = lazyeval::lazy_dots(...))",
      "10. filter_.tbl_df(.data, .dots = lazyeval::lazy_dots(...))",
      "11. filter_impl(.data, dots)"
     ]
    }
   ],
   "source": [
    "# show only the highway milage of suvs sorted in descending order of the mileage\n",
    "select(mpg, hwy) %>%\n",
    "    filter(class == 'suv') %>%\n",
    "    arrange(hwy)"
   ]
  },
  {
   "cell_type": "markdown",
   "metadata": {},
   "source": [
    "# EDA"
   ]
  }
 ],
 "metadata": {
  "kernelspec": {
   "display_name": "R",
   "language": "R",
   "name": "ir"
  },
  "language_info": {
   "codemirror_mode": "r",
   "file_extension": ".r",
   "mimetype": "text/x-r-source",
   "name": "R",
   "pygments_lexer": "r",
   "version": "3.3.2"
  }
 },
 "nbformat": 4,
 "nbformat_minor": 1
}
