{
 "cells": [
  {
   "cell_type": "markdown",
   "metadata": {},
   "source": [
    "Before you turn this problem in, make sure everything runs as expected. First, **restart the kernel** (in the menubar, select Kernel$\\rightarrow$Restart) and then **run all cells** (in the menubar, select Cell$\\rightarrow$Run All). Your code should run from top to bottom with no errors. Failure to do this will result in loss of points.\n",
    "\n",
    "You should not use `install.packages()` anywhere. You may assume that we have already installed all the packages needed to run your code.\n",
    "\n",
    "Make sure you fill in any place that says `YOUR CODE HERE` or \"YOUR ANSWER HERE\" and delete the `stop()` functions, as well as your name and collaborators below:"
   ]
  },
  {
   "cell_type": "code",
   "execution_count": null,
   "metadata": {},
   "outputs": [],
   "source": [
    "NAME = \"\"  # your uniqname \n",
    "COLLABORATORS = c()  # vector of uniqnames of your collaborators, if any\n",
    "## IMPORTANT: you must also have set your group on Canvas. This is only used as a backup."
   ]
  },
  {
   "cell_type": "markdown",
   "metadata": {},
   "source": [
    "---"
   ]
  },
  {
   "cell_type": "code",
   "execution_count": null,
   "metadata": {
    "deletable": false,
    "editable": false,
    "nbgrader": {
     "checksum": "f9139c4720f7d0bed04cff1620006ab4",
     "grade": false,
     "grade_id": "cell-1be04a157d86c84b",
     "locked": true,
     "schema_version": 1,
     "solution": false
    }
   },
   "outputs": [],
   "source": [
    "library(tidyverse)"
   ]
  },
  {
   "cell_type": "markdown",
   "metadata": {
    "deletable": false,
    "editable": false,
    "nbgrader": {
     "checksum": "32d5f75f131e569be7d0b9e38b202955",
     "grade": false,
     "grade_id": "cell-281caadd66986182",
     "locked": true,
     "schema_version": 1,
     "solution": false
    }
   },
   "source": [
    "# STATS 306\n",
    "## Problem set 1: Plotting with `ggplot`\n",
    "\n",
    "Each problem is worth one to four points, depending on difficulty, for a total of 20."
   ]
  },
  {
   "cell_type": "markdown",
   "metadata": {
    "deletable": false,
    "editable": false,
    "nbgrader": {
     "checksum": "67828d06ddc7fab6d9880c3ad076c179",
     "grade": false,
     "grade_id": "cell-ebdc54b5dd102f33",
     "locked": true,
     "schema_version": 1,
     "solution": false
    }
   },
   "source": [
    "## Part 1\n",
    "\n",
    "### Factors\n",
    "Factors are used in R to represent discrete or categorical variables. We will discuss factors at greater length later in the course. This exercise is designed to show you how `ggplot` handles factors when plotting data."
   ]
  },
  {
   "cell_type": "markdown",
   "metadata": {
    "deletable": false,
    "editable": false,
    "nbgrader": {
     "checksum": "9f92f4b09fbbebfa66a37fd8fb309064",
     "grade": false,
     "grade_id": "cell-25c5c95ec1af594a",
     "locked": true,
     "schema_version": 1,
     "solution": false
    }
   },
   "source": [
    "#### Problem 1 (1 pt.) \n",
    "Use the `tribble()` command to re-create the following small data table. (See the lecture notes for an example of how to use this commmand.) Store your table in a variable called `toy_table`. That is, when we run your notebook, the following should happen:\n",
    "\n",
    "```{r}\n",
    "> toy_table\n",
    "# A tibble: 4 x 2\n",
    "      x     y\n",
    "  <chr> <dbl>\n",
    "1     a     1\n",
    "2     b     2\n",
    "3     c     4\n",
    "4     d     5\n",
    "```"
   ]
  },
  {
   "cell_type": "code",
   "execution_count": null,
   "metadata": {
    "deletable": false,
    "nbgrader": {
     "checksum": "58804d4b3ca69c6e36d966c740bdad6e",
     "grade": false,
     "grade_id": "cell-b6fa145356d4715f",
     "locked": false,
     "schema_version": 1,
     "solution": true
    }
   },
   "outputs": [],
   "source": [
    "# YOUR CODE HERE\n",
    "stop()"
   ]
  },
  {
   "cell_type": "code",
   "execution_count": null,
   "metadata": {
    "deletable": false,
    "editable": false,
    "nbgrader": {
     "checksum": "7d2c8e70ff82207061a7afa99d794400",
     "grade": true,
     "grade_id": "cell-4181a78332fea946",
     "locked": true,
     "points": 1,
     "schema_version": 1,
     "solution": false
    }
   },
   "outputs": [],
   "source": []
  },
  {
   "cell_type": "markdown",
   "metadata": {
    "deletable": false,
    "editable": false,
    "nbgrader": {
     "checksum": "ed03797975ffa7c47f7d245ea61089d3",
     "grade": false,
     "grade_id": "cell-22d22c46cdd35fb6",
     "locked": true,
     "schema_version": 1,
     "solution": false
    }
   },
   "source": [
    "#### Problem 2 (1 pt.)\n",
    "Use `ggplot` to generate the following plot from `toy_table`:\n",
    "![toy table plot](toy_table.png) "
   ]
  },
  {
   "cell_type": "code",
   "execution_count": null,
   "metadata": {
    "deletable": false,
    "nbgrader": {
     "checksum": "3b2639c7c8edc1f049d5afc7950754c9",
     "grade": true,
     "grade_id": "cell-e5be9f5bc20aaa43",
     "locked": false,
     "points": 1,
     "schema_version": 1,
     "solution": true
    }
   },
   "outputs": [],
   "source": [
    "# YOUR CODE HERE\n",
    "stop()"
   ]
  },
  {
   "cell_type": "markdown",
   "metadata": {
    "deletable": false,
    "editable": false,
    "nbgrader": {
     "checksum": "68316a106f02f572ce1f10a0119e093d",
     "grade": false,
     "grade_id": "cell-2fc3e9055c53d980",
     "locked": true,
     "schema_version": 1,
     "solution": false
    }
   },
   "source": [
    "#### Problem 3 (1 pt.)\n",
    "Suppose that we want to change the ordering of the $x$-axis to be `d c b a`. To do this we need to convert $x$ to a factor and reorder its levels. The syntax for doing this is \n",
    "```{r}\n",
    "factor(x, levels=c('d','c','b','a'))\n",
    "```\n",
    "This produces the following plot:\n",
    "![toy table releveled](toy_table_relevel.png)"
   ]
  },
  {
   "cell_type": "markdown",
   "metadata": {
    "deletable": false,
    "editable": false,
    "nbgrader": {
     "checksum": "05082a5b92f195697476167bf82accf0",
     "grade": false,
     "grade_id": "cell-b807492739b9dd34",
     "locked": true,
     "schema_version": 1,
     "solution": false
    }
   },
   "source": [
    "Use this technique to produce a plot where the bars are ordered `c,a,b,d':"
   ]
  },
  {
   "cell_type": "code",
   "execution_count": null,
   "metadata": {
    "deletable": false,
    "nbgrader": {
     "checksum": "8a3eb9f6edcf74bd12fbd55fb9d54b86",
     "grade": true,
     "grade_id": "cell-01137c5c18ccf423",
     "locked": false,
     "points": 1,
     "schema_version": 1,
     "solution": true
    }
   },
   "outputs": [],
   "source": [
    "# YOUR CODE HERE\n",
    "stop()"
   ]
  },
  {
   "cell_type": "markdown",
   "metadata": {
    "deletable": false,
    "editable": false,
    "nbgrader": {
     "checksum": "2da2f96bcf2da01299dec535cf07db60",
     "grade": false,
     "grade_id": "cell-f1c9370d0e7776e1",
     "locked": true,
     "schema_version": 1,
     "solution": false
    }
   },
   "source": [
    "## Part 2\n",
    "For each of the plots shown below, enter the R code in the cell provided which reproduces the plot. Your could should print this plot in the notebook.\n",
    "\n",
    "(Your solution should match the colors, axis labels & titles, plot type, orientation, and so forth. We do not care about minor visual differences in the font / font size, width / height, etc.)"
   ]
  },
  {
   "cell_type": "markdown",
   "metadata": {
    "deletable": false,
    "editable": false,
    "nbgrader": {
     "checksum": "e768989fccc6bce5cbe390d654003080",
     "grade": false,
     "grade_id": "cell-ed207e9bd6f33e1e",
     "locked": true,
     "schema_version": 1,
     "solution": false
    }
   },
   "source": [
    "#### Problem 5 (4 pts.)\n",
    "![auto plot](p1.png)"
   ]
  },
  {
   "cell_type": "code",
   "execution_count": null,
   "metadata": {
    "deletable": false,
    "nbgrader": {
     "checksum": "e4895e49b398db7995122484aca24dc1",
     "grade": true,
     "grade_id": "cell-da4bcad8fc9765c4",
     "locked": false,
     "points": 4,
     "schema_version": 1,
     "solution": true
    }
   },
   "outputs": [],
   "source": [
    "# YOUR CODE HERE\n",
    "stop()"
   ]
  },
  {
   "cell_type": "markdown",
   "metadata": {
    "deletable": false,
    "editable": false,
    "nbgrader": {
     "checksum": "8648fdf33f3b38b2c52aa8088dc3ea9c",
     "grade": false,
     "grade_id": "cell-be71813291326beb",
     "locked": true,
     "schema_version": 1,
     "solution": false
    }
   },
   "source": [
    "#### Problem 6 (4 pts.)\n",
    "This is using the `midwest` data set which we discussed at the end of lecture 02.\n",
    "![plot two](p2.png)"
   ]
  },
  {
   "cell_type": "code",
   "execution_count": null,
   "metadata": {
    "deletable": false,
    "nbgrader": {
     "checksum": "48c7a67f99d3964782fd2d596c1985fd",
     "grade": true,
     "grade_id": "cell-02c11cecd1722b2c",
     "locked": false,
     "points": 4,
     "schema_version": 1,
     "solution": true
    }
   },
   "outputs": [],
   "source": [
    "# YOUR CODE HERE\n",
    "stop()"
   ]
  },
  {
   "cell_type": "markdown",
   "metadata": {
    "deletable": false,
    "editable": false,
    "nbgrader": {
     "checksum": "80c9013869b5ddd652daf4ca79a01aa2",
     "grade": false,
     "grade_id": "cell-62570ef100461f2c",
     "locked": true,
     "schema_version": 1,
     "solution": false
    }
   },
   "source": [
    "#### Problem 7 (4 pts.)\n",
    "(Hint: for this plot, you will need to manually manipulate the ticks on the $y$-axis using the `breaks=` option of the appropriate `scale_y` command.)\n",
    "![diamonds plot](p3.png)\n"
   ]
  },
  {
   "cell_type": "code",
   "execution_count": null,
   "metadata": {
    "deletable": false,
    "nbgrader": {
     "checksum": "289c3544f04290c518e62c89a59b7287",
     "grade": true,
     "grade_id": "cell-c12f2f98e8791d28",
     "locked": false,
     "points": 4,
     "schema_version": 1,
     "solution": true
    }
   },
   "outputs": [],
   "source": [
    "# YOUR CODE HERE\n",
    "stop()"
   ]
  },
  {
   "cell_type": "markdown",
   "metadata": {
    "deletable": false,
    "editable": false,
    "nbgrader": {
     "checksum": "57a49c7c8da261076c9948fa7a2f4d42",
     "grade": false,
     "grade_id": "cell-19b20f17216b5ad2",
     "locked": true,
     "schema_version": 1,
     "solution": false
    }
   },
   "source": [
    "#### Problem 8 (4 pts.)\n",
    "In lecture 0 we looked at a database on flights in New York City in 2013. This data set is not part of the `tidyverse` package. You may need to install it using the command:\n",
    "```{r}\n",
    "install.packages('nycflights13')\n",
    "``` \n",
    "![plot four](p4.png)\n",
    "This plots is average delay time by carrier for the top five carriers. Because we have not yet learned how to compute such an average, the code that does this has been provided for you. Use the resulting dataset, `flights_top5`, to generate the plot."
   ]
  },
  {
   "cell_type": "code",
   "execution_count": null,
   "metadata": {
    "deletable": false,
    "editable": false,
    "nbgrader": {
     "checksum": "035781051731cced167203c0fc35f725",
     "grade": false,
     "grade_id": "cell-92c4f9d3fd6a9655",
     "locked": true,
     "schema_version": 1,
     "solution": false
    }
   },
   "outputs": [],
   "source": [
    "library(nycflights13)\n",
    "top5_carriers = group_by(flights, carrier) %>% summarize(departures=n()) %>% \n",
    "                ungroup() %>% top_n(5)\n",
    "flights_top5 =  filter(flights, carrier %in% top5_carriers$carrier) %>% \n",
    "                filter(dep_delay>0) %>% group_by(carrier, month) %>% \n",
    "                summarize(mean_dep_delay=mean(dep_delay))"
   ]
  },
  {
   "cell_type": "code",
   "execution_count": null,
   "metadata": {
    "deletable": false,
    "nbgrader": {
     "checksum": "a37a356aed24edb05c6d36faacbde8b1",
     "grade": true,
     "grade_id": "cell-91d48d607ea6ea53",
     "locked": false,
     "points": 4,
     "schema_version": 1,
     "solution": true
    }
   },
   "outputs": [],
   "source": [
    "# YOUR CODE HERE\n",
    "stop()"
   ]
  }
 ],
 "metadata": {
  "kernelspec": {
   "display_name": "R",
   "language": "R",
   "name": "ir"
  },
  "language_info": {
   "codemirror_mode": "r",
   "file_extension": ".r",
   "mimetype": "text/x-r-source",
   "name": "R",
   "pygments_lexer": "r",
   "version": "3.4.4"
  }
 },
 "nbformat": 4,
 "nbformat_minor": 2
}
