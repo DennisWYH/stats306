{
 "cells": [
  {
   "cell_type": "code",
   "execution_count": 1,
   "metadata": {
    "slideshow": {
     "slide_type": "notes"
    }
   },
   "outputs": [
    {
     "data": {
      "text/html": [
       "\n",
       "<style>\n",
       ".rendered_html table, .rendered_html th, .rendered_html tr, .rendered_html td {\n",
       "     font-size: 100%;\n",
       "}\n",
       "body.rise-enabled div.inner_cell>div.input_area {\n",
       "    font-size: 150%;\n",
       "}\n",
       "\n",
       "body.rise-enabled div.output_subarea.output_text.output_result {\n",
       "    font-size: 150%;\n",
       "}\n",
       "body.rise-enabled div.output_subarea.output_text.output_stream.output_stdout {\n",
       "  font-size: 150%;\n",
       "}\n",
       "</style>\n"
      ]
     },
     "metadata": {},
     "output_type": "display_data"
    }
   ],
   "source": [
    "IRdisplay::display_html(\"\n",
    "<style>\n",
    ".rendered_html table, .rendered_html th, .rendered_html tr, .rendered_html td {\n",
    "     font-size: 100%;\n",
    "}\n",
    "body.rise-enabled div.inner_cell>div.input_area {\n",
    "    font-size: 150%;\n",
    "}\n",
    "\n",
    "body.rise-enabled div.output_subarea.output_text.output_result {\n",
    "    font-size: 150%;\n",
    "}\n",
    "body.rise-enabled div.output_subarea.output_text.output_stream.output_stdout {\n",
    "  font-size: 150%;\n",
    "}\n",
    "</style>\n",
    "\")"
   ]
  },
  {
   "cell_type": "markdown",
   "metadata": {
    "slideshow": {
     "slide_type": "slide"
    }
   },
   "source": [
    "# Lecture 04: Data manipulation II\n",
    "\n",
    "<div style=\"border: 1px double black; padding: 10px; margin: 10px\">\n",
    "\n",
    "**After today's lecture you will able to:**\n",
    "* Use [pipes](#Pipes).\n",
    "* [Generate new variables](#Adding-New-Variables) using various transformations.\n",
    "* [Group data and summarize it](#Grouped-Summaries).\n",
    "</div>"
   ]
  },
  {
   "cell_type": "code",
   "execution_count": 2,
   "metadata": {
    "slideshow": {
     "slide_type": "notes"
    }
   },
   "outputs": [
    {
     "name": "stderr",
     "output_type": "stream",
     "text": [
      "── Attaching packages ─────────────────────────────────────── tidyverse 1.2.1 ──\n",
      "✔ ggplot2 2.2.1     ✔ purrr   0.2.4\n",
      "✔ tibble  1.4.2     ✔ dplyr   0.7.4\n",
      "✔ tidyr   0.8.0     ✔ stringr 1.3.0\n",
      "✔ readr   1.1.1     ✔ forcats 0.3.0\n",
      "── Conflicts ────────────────────────────────────────── tidyverse_conflicts() ──\n",
      "✖ dplyr::filter()  masks stats::filter()\n",
      "✖ purrr::flatten() masks jsonlite::flatten()\n",
      "✖ dplyr::lag()     masks stats::lag()\n"
     ]
    }
   ],
   "source": [
    "library(tidyverse)\n",
    "library(nycflights13)\n",
    "options(jupyter.plot_mimetypes = \"image/png\");"
   ]
  },
  {
   "cell_type": "markdown",
   "metadata": {
    "slideshow": {
     "slide_type": "slide"
    }
   },
   "source": [
    "## Pipes\n",
    "Starting now, we will make extensive use of the pipe operator `%>%`. To see why, consider this command from last lecture:"
   ]
  },
  {
   "cell_type": "code",
   "execution_count": 2,
   "metadata": {
    "slideshow": {
     "slide_type": "-"
    }
   },
   "outputs": [
    {
     "name": "stderr",
     "output_type": "stream",
     "text": [
      "Warning message:\n",
      "“package ‘bindrcpp’ was built under R version 3.4.4”"
     ]
    },
    {
     "name": "stdout",
     "output_type": "stream",
     "text": [
      "# A tibble: 5 x 19\n",
      "   year month   day dep_time sched_dep_time dep_delay arr_time sched_arr_time\n",
      "  <int> <int> <int>    <int>          <int>     <dbl>    <int>          <int>\n",
      "1  2013    12    31      813            812         1     1101           1111\n",
      "2  2013    12    31      905            912        -7     1055           1120\n",
      "3  2013    12    31     1105           1012        53     1211           1135\n",
      "4  2013    12    31     1121           1112         9     1418           1400\n",
      "5  2013    12    31     1311           1312        -1     1625           1606\n",
      "# ... with 11 more variables: arr_delay <dbl>, carrier <chr>, flight <int>,\n",
      "#   tailnum <chr>, origin <chr>, dest <chr>, air_time <dbl>, distance <dbl>,\n",
      "#   hour <dbl>, minute <dbl>, time_hour <dttm>\n"
     ]
    }
   ],
   "source": [
    "print(filter(flights, month == 12 & day == 31 & minute == 12))"
   ]
  },
  {
   "cell_type": "markdown",
   "metadata": {
    "slideshow": {
     "slide_type": "slide"
    }
   },
   "source": [
    "Let's say we were naive and forgot how to combine logical conditions. We could re-write this command as:"
   ]
  },
  {
   "cell_type": "code",
   "execution_count": 109,
   "metadata": {
    "slideshow": {
     "slide_type": "-"
    }
   },
   "outputs": [
    {
     "name": "stdout",
     "output_type": "stream",
     "text": [
      "[1] \"hello\"\n"
     ]
    }
   ],
   "source": [
    "\"hello\" %>% print()"
   ]
  },
  {
   "cell_type": "markdown",
   "metadata": {
    "slideshow": {
     "slide_type": "slide"
    }
   },
   "source": [
    "This is not very nice. To figure out what the command is doing you have to work from the inside out, which is not the order in which we are accustomed to reading. A slight improvement might be:"
   ]
  },
  {
   "cell_type": "code",
   "execution_count": 4,
   "metadata": {
    "slideshow": {
     "slide_type": "-"
    }
   },
   "outputs": [
    {
     "name": "stdout",
     "output_type": "stream",
     "text": [
      "# A tibble: 5 x 19\n",
      "   year month   day dep_time sched_dep_time dep_delay arr_time sched_arr_time\n",
      "  <int> <int> <int>    <int>          <int>     <dbl>    <int>          <int>\n",
      "1  2013    12    31      813            812         1     1101           1111\n",
      "2  2013    12    31      905            912        -7     1055           1120\n",
      "3  2013    12    31     1105           1012        53     1211           1135\n",
      "4  2013    12    31     1121           1112         9     1418           1400\n",
      "5  2013    12    31     1311           1312        -1     1625           1606\n",
      "# ... with 11 more variables: arr_delay <dbl>, carrier <chr>, flight <int>,\n",
      "#   tailnum <chr>, origin <chr>, dest <chr>, air_time <dbl>, distance <dbl>,\n",
      "#   hour <dbl>, minute <dbl>, time_hour <dttm>\n"
     ]
    }
   ],
   "source": [
    "# option 2\n",
    "new_table = filter(flights, month == 12)\n",
    "new_table1 = filter(new_table, day == 31)\n",
    "new_table2 = filter(new_table1, minute == 12)\n",
    "print(new_table2)"
   ]
  },
  {
   "cell_type": "markdown",
   "metadata": {
    "slideshow": {
     "slide_type": "slide"
    }
   },
   "source": [
    "This is better, but now you've created a bunch of useless temporary variables, and it requires a lot of typing. Now consider rewriting the command with pipes:"
   ]
  },
  {
   "cell_type": "code",
   "execution_count": 5,
   "metadata": {
    "slideshow": {
     "slide_type": "-"
    }
   },
   "outputs": [
    {
     "name": "stdout",
     "output_type": "stream",
     "text": [
      "# A tibble: 5 x 19\n",
      "   year month   day dep_time sched_dep_time dep_delay arr_time sched_arr_time\n",
      "  <int> <int> <int>    <int>          <int>     <dbl>    <int>          <int>\n",
      "1  2013    12    31      813            812         1     1101           1111\n",
      "2  2013    12    31      905            912        -7     1055           1120\n",
      "3  2013    12    31     1105           1012        53     1211           1135\n",
      "4  2013    12    31     1121           1112         9     1418           1400\n",
      "5  2013    12    31     1311           1312        -1     1625           1606\n",
      "# ... with 11 more variables: arr_delay <dbl>, carrier <chr>, flight <int>,\n",
      "#   tailnum <chr>, origin <chr>, dest <chr>, air_time <dbl>, distance <dbl>,\n",
      "#   hour <dbl>, minute <dbl>, time_hour <dttm>\n"
     ]
    }
   ],
   "source": [
    "flights %>% filter(month == 12) %>% \n",
    "            filter(day == 31) %>% \n",
    "            filter(minute == 12) %>% print"
   ]
  },
  {
   "cell_type": "markdown",
   "metadata": {
    "slideshow": {
     "slide_type": "notes"
    }
   },
   "source": [
    "This is much better. We can read the command from left to right and know exactly what is going on."
   ]
  },
  {
   "cell_type": "markdown",
   "metadata": {
    "slideshow": {
     "slide_type": "slide"
    }
   },
   "source": [
    "### How `%>%` works\n",
    "Under the hood, `x %>% f(y)` turns into `f(x, y)`, and `x %>% f(y) %>% g(z)` turns into `g(f(x, y), z)` and so on. We can use `%>%` on any function, not just those defined in tidyverse:"
   ]
  },
  {
   "cell_type": "code",
   "execution_count": 4,
   "metadata": {},
   "outputs": [
    {
     "name": "stdout",
     "output_type": "stream",
     "text": [
      "[1] \"hello world\"\n"
     ]
    }
   ],
   "source": [
    "\"hello world\" %>% print()  # prints \"hello world\""
   ]
  },
  {
   "cell_type": "markdown",
   "metadata": {
    "slideshow": {
     "slide_type": "slide"
    }
   },
   "source": [
    "### Exercise\n",
    "\n",
    "Combine the following commands into a single line of code using `%>%`:\n",
    "```{r}\n",
    "filter(mpg, cty > .8 * hwy) %>% rename(City=cty, Highway=hwy)  %>% \n",
    "    ggplot() + geom_point(aes(x=City, y=Highway))\n",
    "```"
   ]
  },
  {
   "cell_type": "code",
   "execution_count": 114,
   "metadata": {
    "slideshow": {
     "slide_type": "slide"
    }
   },
   "outputs": [
    {
     "data": {
      "text/plain": [
       "   manufacturer model              displ year cyl trans      drv cty hwy fl\n",
       "1  chevrolet    k1500 tahoe 4wd    6.5   1999 8   auto(l4)   4   14  17  d \n",
       "2  dodge        dakota pickup 4wd  3.9   1999 6   manual(m5) 4   14  17  r \n",
       "3  ford         explorer 4wd       4.0   1999 6   auto(l5)   4   14  17  r \n",
       "4  ford         explorer 4wd       4.0   1999 6   auto(l5)   4   14  17  r \n",
       "5  ford         f150 pickup 4wd    4.2   1999 6   auto(l4)   4   14  17  r \n",
       "6  ford         f150 pickup 4wd    4.2   1999 6   manual(m5) 4   14  17  r \n",
       "7  ford         f150 pickup 4wd    4.6   1999 8   manual(m5) 4   13  16  r \n",
       "8  ford         f150 pickup 4wd    4.6   1999 8   auto(l4)   4   13  16  r \n",
       "9  honda        civic              1.6   1999 4   manual(m5) f   28  33  r \n",
       "10 jeep         grand cherokee 4wd 4.7   1999 8   auto(l4)   4   14  17  r \n",
       "11 mercury      mountaineer 4wd    4.0   1999 6   auto(l5)   4   14  17  r \n",
       "12 nissan       pathfinder 4wd     3.3   1999 6   auto(l4)   4   14  17  r \n",
       "13 nissan       pathfinder 4wd     3.3   1999 6   manual(m5) 4   15  17  r \n",
       "14 subaru       impreza awd        2.2   1999 4   auto(l4)   4   21  26  r \n",
       "15 toyota       4runner 4wd        3.4   1999 6   manual(m5) 4   15  17  r \n",
       "16 toyota       4runner 4wd        4.7   2008 8   auto(l5)   4   14  17  r \n",
       "17 toyota       toyota tacoma 4wd  3.4   1999 6   manual(m5) 4   15  17  r \n",
       "18 toyota       toyota tacoma 4wd  4.0   2008 6   manual(m6) 4   15  18  r \n",
       "   class     \n",
       "1  suv       \n",
       "2  pickup    \n",
       "3  suv       \n",
       "4  suv       \n",
       "5  pickup    \n",
       "6  pickup    \n",
       "7  pickup    \n",
       "8  pickup    \n",
       "9  subcompact\n",
       "10 suv       \n",
       "11 suv       \n",
       "12 suv       \n",
       "13 suv       \n",
       "14 subcompact\n",
       "15 suv       \n",
       "16 suv       \n",
       "17 pickup    \n",
       "18 pickup    "
      ]
     },
     "metadata": {},
     "output_type": "display_data"
    },
    {
     "data": {
      "text/plain": [
       "   manufacturer model              displ year cyl trans      drv cty hwy fl\n",
       "1  chevrolet    k1500 tahoe 4wd    6.5   1999 8   auto(l4)   4   14  17  d \n",
       "2  dodge        dakota pickup 4wd  3.9   1999 6   manual(m5) 4   14  17  r \n",
       "3  ford         explorer 4wd       4.0   1999 6   auto(l5)   4   14  17  r \n",
       "4  ford         explorer 4wd       4.0   1999 6   auto(l5)   4   14  17  r \n",
       "5  ford         f150 pickup 4wd    4.2   1999 6   auto(l4)   4   14  17  r \n",
       "6  ford         f150 pickup 4wd    4.2   1999 6   manual(m5) 4   14  17  r \n",
       "7  ford         f150 pickup 4wd    4.6   1999 8   manual(m5) 4   13  16  r \n",
       "8  ford         f150 pickup 4wd    4.6   1999 8   auto(l4)   4   13  16  r \n",
       "9  honda        civic              1.6   1999 4   manual(m5) f   28  33  r \n",
       "10 jeep         grand cherokee 4wd 4.7   1999 8   auto(l4)   4   14  17  r \n",
       "11 mercury      mountaineer 4wd    4.0   1999 6   auto(l5)   4   14  17  r \n",
       "12 nissan       pathfinder 4wd     3.3   1999 6   auto(l4)   4   14  17  r \n",
       "13 nissan       pathfinder 4wd     3.3   1999 6   manual(m5) 4   15  17  r \n",
       "14 subaru       impreza awd        2.2   1999 4   auto(l4)   4   21  26  r \n",
       "15 toyota       4runner 4wd        3.4   1999 6   manual(m5) 4   15  17  r \n",
       "16 toyota       4runner 4wd        4.7   2008 8   auto(l5)   4   14  17  r \n",
       "17 toyota       toyota tacoma 4wd  3.4   1999 6   manual(m5) 4   15  17  r \n",
       "18 toyota       toyota tacoma 4wd  4.0   2008 6   manual(m6) 4   15  18  r \n",
       "   class     \n",
       "1  suv       \n",
       "2  pickup    \n",
       "3  suv       \n",
       "4  suv       \n",
       "5  pickup    \n",
       "6  pickup    \n",
       "7  pickup    \n",
       "8  pickup    \n",
       "9  subcompact\n",
       "10 suv       \n",
       "11 suv       \n",
       "12 suv       \n",
       "13 suv       \n",
       "14 subcompact\n",
       "15 suv       \n",
       "16 suv       \n",
       "17 pickup    \n",
       "18 pickup    "
      ]
     },
     "metadata": {},
     "output_type": "display_data"
    }
   ],
   "source": [
    "mpg %>% filter(cty > .8 * hwy)\n",
    "filter(mpg, cty > .8 * hwy)"
   ]
  },
  {
   "cell_type": "markdown",
   "metadata": {
    "slideshow": {
     "slide_type": "slide"
    }
   },
   "source": [
    "## Adding New Variables\n",
    "The `dplyr`/`tidyverse` package offers the `mutate()` and `transmute()` commands to add new variables to data tibbles. The syntax is:\n",
    "```{r}\n",
    "<tibble> %>% mutate(<new variable> = <formula for new variable>,\n",
    "                    <other new variable> = <other formula>)\n",
    "```\n",
    "This returns a copy of `<tibble>` with the new variables added on. `transmute()` does the same thing as `mutate()` but only keeps the new variables."
   ]
  },
  {
   "cell_type": "code",
   "execution_count": 6,
   "metadata": {
    "slideshow": {
     "slide_type": "slide"
    }
   },
   "outputs": [
    {
     "name": "stdout",
     "output_type": "stream",
     "text": [
      "# A tibble: 336,776 x 8\n",
      "    year month   day dep_time arr_time air_time origin dest \n",
      "   <int> <int> <int>    <int>    <int>    <dbl> <chr>  <chr>\n",
      " 1  2013     1     1      517      830      227 EWR    IAH  \n",
      " 2  2013     1     1      533      850      227 LGA    IAH  \n",
      " 3  2013     1     1      542      923      160 JFK    MIA  \n",
      " 4  2013     1     1      544     1004      183 JFK    BQN  \n",
      " 5  2013     1     1      554      812      116 LGA    ATL  \n",
      " 6  2013     1     1      554      740      150 EWR    ORD  \n",
      " 7  2013     1     1      555      913      158 EWR    FLL  \n",
      " 8  2013     1     1      557      709       53 LGA    IAD  \n",
      " 9  2013     1     1      557      838      140 JFK    MCO  \n",
      "10  2013     1     1      558      753      138 LGA    ORD  \n",
      "# ... with 336,766 more rows\n"
     ]
    }
   ],
   "source": [
    "my_flights <- select(flights, year:day, dep_time, arr_time, air_time, origin, dest) %>% print"
   ]
  },
  {
   "cell_type": "markdown",
   "metadata": {
    "slideshow": {
     "slide_type": "notes"
    }
   },
   "source": [
    "New variables can be added using the `mutate()` function. We already have an `air_time` variable. Let us compute the total time for the flight by subtracting the time of departure `dep_time` from time of arrival `arr_time`.\n",
    "\n",
    "We notice something odd though. When we subtract 5h 17m from 8h 30m we should get 3h 13m, i.e. 193 minutes. But instead we get 313 minutes below."
   ]
  },
  {
   "cell_type": "code",
   "execution_count": 120,
   "metadata": {
    "slideshow": {
     "slide_type": "slide"
    }
   },
   "outputs": [
    {
     "name": "stdout",
     "output_type": "stream",
     "text": [
      "# A tibble: 336,776 x 9\n",
      "    year month   day dep_time arr_time air_time origin dest  total_time\n",
      "   <int> <int> <int>    <int>    <int>    <dbl> <chr>  <chr>      <int>\n",
      " 1  2013     1     1      517      830      227 EWR    IAH          313\n",
      " 2  2013     1     1      533      850      227 LGA    IAH          317\n",
      " 3  2013     1     1      542      923      160 JFK    MIA          381\n",
      " 4  2013     1     1      544     1004      183 JFK    BQN          460\n",
      " 5  2013     1     1      554      812      116 LGA    ATL          258\n",
      " 6  2013     1     1      554      740      150 EWR    ORD          186\n",
      " 7  2013     1     1      555      913      158 EWR    FLL          358\n",
      " 8  2013     1     1      557      709       53 LGA    IAD          152\n",
      " 9  2013     1     1      557      838      140 JFK    MCO          281\n",
      "10  2013     1     1      558      753      138 LGA    ORD          195\n",
      "# ... with 336,766 more rows\n"
     ]
    }
   ],
   "source": [
    "my_flights %>% mutate(total_time = arr_time - dep_time) %>% print"
   ]
  },
  {
   "cell_type": "markdown",
   "metadata": {
    "slideshow": {
     "slide_type": "notes"
    }
   },
   "source": [
    "The issue is that `dep_time` and `arr_time` are in the hour-minute notation, so you cannot add and subtract them like regular numbers. We should first convert these times into the number of minutes elapsed since midnight.\n",
    "\n",
    "We want add to new variables `new_dep` and `new_arr` but we need to write a function first that can do the conversion. The function is given below; we'll learn how it works later in the semester. For now just think of it as a black box that converts times from one format to another."
   ]
  },
  {
   "cell_type": "code",
   "execution_count": 8,
   "metadata": {
    "slideshow": {
     "slide_type": "notes"
    }
   },
   "outputs": [
    {
     "data": {
      "text/plain": [
       "[1] 60"
      ]
     },
     "metadata": {},
     "output_type": "display_data"
    }
   ],
   "source": [
    "hourmin2min <- function(hourmin) {  # minutes after 000=midnight\n",
    "    min <- hourmin %% 100  # modulus\n",
    "    hour <- (hourmin - min) %/% 100  # integer division\n",
    "    return(60*hour + min)\n",
    "} \n",
    "hourmin2min(100)"
   ]
  },
  {
   "cell_type": "markdown",
   "metadata": {
    "slideshow": {
     "slide_type": "slide"
    }
   },
   "source": [
    "Let us test the function on 530. That's 5h 30min, i.e., 330 minutes since midnight."
   ]
  },
  {
   "cell_type": "code",
   "execution_count": 9,
   "metadata": {},
   "outputs": [
    {
     "data": {
      "text/plain": [
       "[1] 330"
      ]
     },
     "metadata": {},
     "output_type": "display_data"
    }
   ],
   "source": [
    "hourmin2min(530)"
   ]
  },
  {
   "cell_type": "markdown",
   "metadata": {
    "slideshow": {
     "slide_type": "slide"
    }
   },
   "source": [
    "Let us now create two new variables obtained from `arr_time` and `dep_time` by converting them into minutes since midnight."
   ]
  },
  {
   "cell_type": "code",
   "execution_count": 13,
   "metadata": {
    "slideshow": {
     "slide_type": "slide"
    }
   },
   "outputs": [
    {
     "name": "stdout",
     "output_type": "stream",
     "text": [
      "# A tibble: 336,776 x 10\n",
      "    year month   day dep_time arr_time air_time origin dest  new_arr new_dep\n",
      "   <int> <int> <int>    <int>    <int>    <dbl> <chr>  <chr>   <dbl>   <dbl>\n",
      " 1  2013     1     1      517      830      227 EWR    IAH       510     317\n",
      " 2  2013     1     1      533      850      227 LGA    IAH       530     333\n",
      " 3  2013     1     1      542      923      160 JFK    MIA       563     342\n",
      " 4  2013     1     1      544     1004      183 JFK    BQN       604     344\n",
      " 5  2013     1     1      554      812      116 LGA    ATL       492     354\n",
      " 6  2013     1     1      554      740      150 EWR    ORD       460     354\n",
      " 7  2013     1     1      555      913      158 EWR    FLL       553     355\n",
      " 8  2013     1     1      557      709       53 LGA    IAD       429     357\n",
      " 9  2013     1     1      557      838      140 JFK    MCO       518     357\n",
      "10  2013     1     1      558      753      138 LGA    ORD       473     358\n",
      "# ... with 336,766 more rows\n"
     ]
    }
   ],
   "source": [
    "my_flights_new = mutate(my_flights, \n",
    "                        new_arr = hourmin2min(arr_time), \n",
    "                        new_dep = hourmin2min(dep_time)) %>% print"
   ]
  },
  {
   "cell_type": "markdown",
   "metadata": {
    "slideshow": {
     "slide_type": "slide"
    }
   },
   "source": [
    "Now we can subtract the departure time `new_dep` from the arrival time `new_arr` to get a new variable `total_time`."
   ]
  },
  {
   "cell_type": "markdown",
   "metadata": {
    "slideshow": {
     "slide_type": "slide"
    }
   },
   "source": [
    "### Exercise\n",
    "\n",
    "<table class=\"table-condensed\">\n",
    "    <tr><th>Beginner</th><th>Advanced</th></tr>\n",
    "    <tr><td>\n",
    "        Add a new column to <code>my_flights_new</code> called <code>total_time</code>, which equals the difference between <code>new_arr</code> and <code>new_dep</code>. Call the resulting table <code>my_flights_total</code>\n",
    "        </td>\n",
    "    <td>\n",
    "        There is something weird about <code>total_time</code> when compared to <code>air_time</code>. What is it?\n",
    "        </td>\n",
    "    </tr>\n",
    "</table>\n",
    "\n"
   ]
  },
  {
   "cell_type": "code",
   "execution_count": 123,
   "metadata": {
    "scrolled": true,
    "slideshow": {
     "slide_type": "slide"
    }
   },
   "outputs": [
    {
     "name": "stdout",
     "output_type": "stream",
     "text": [
      "# A tibble: 336,776 x 11\n",
      "    year month   day dep_time arr_time air_time origin dest  new_arr new_dep\n",
      "   <int> <int> <int>    <int>    <int>    <dbl> <chr>  <chr>   <dbl>   <dbl>\n",
      " 1  2013     1     1      517      830      227 EWR    IAH       510     317\n",
      " 2  2013     1     1      533      850      227 LGA    IAH       530     333\n",
      " 3  2013     1     1      542      923      160 JFK    MIA       563     342\n",
      " 4  2013     1     1      544     1004      183 JFK    BQN       604     344\n",
      " 5  2013     1     1      554      812      116 LGA    ATL       492     354\n",
      " 6  2013     1     1      554      740      150 EWR    ORD       460     354\n",
      " 7  2013     1     1      555      913      158 EWR    FLL       553     355\n",
      " 8  2013     1     1      557      709       53 LGA    IAD       429     357\n",
      " 9  2013     1     1      557      838      140 JFK    MCO       518     357\n",
      "10  2013     1     1      558      753      138 LGA    ORD       473     358\n",
      "   total_time\n",
      "        <dbl>\n",
      " 1        193\n",
      " 2        197\n",
      " 3        221\n",
      " 4        260\n",
      " 5        138\n",
      " 6        106\n",
      " 7        198\n",
      " 8         72\n",
      " 9        161\n",
      "10        115\n",
      "# ... with 336,766 more rows\n"
     ]
    }
   ],
   "source": [
    "my_flights_new = mutate(my_flights, \n",
    "                        new_arr = hourmin2min(arr_time), \n",
    "                        new_dep = hourmin2min(dep_time),\n",
    "                        total_time = new_arr - new_dep) %>% print(width=+Inf)"
   ]
  },
  {
   "cell_type": "code",
   "execution_count": 124,
   "metadata": {
    "slideshow": {
     "slide_type": "slide"
    }
   },
   "outputs": [
    {
     "name": "stdout",
     "output_type": "stream",
     "text": [
      "# A tibble: 336,776 x 1\n",
      "   discrepancy\n",
      "         <dbl>\n",
      " 1         -34\n",
      " 2         -30\n",
      " 3          61\n",
      " 4          77\n",
      " 5          22\n",
      " 6         -44\n",
      " 7          40\n",
      " 8          19\n",
      " 9          21\n",
      "10         -23\n",
      "# ... with 336,766 more rows\n"
     ]
    }
   ],
   "source": [
    "discrepancy = transmute(my_flights_total, discrepancy=total_time - air_time) %>% \n",
    "    print"
   ]
  },
  {
   "cell_type": "code",
   "execution_count": 22,
   "metadata": {
    "slideshow": {
     "slide_type": "slide"
    }
   },
   "outputs": [
    {
     "name": "stderr",
     "output_type": "stream",
     "text": [
      "`stat_bin()` using `bins = 30`. Pick better value with `binwidth`.\n",
      "Warning message:\n",
      "“Removed 9430 rows containing non-finite values (stat_bin).”"
     ]
    },
    {
     "data": {},
     "metadata": {},
     "output_type": "display_data"
    },
    {
     "data": {
      "image/png": "[encoded data removed]"
     },
     "metadata": {},
     "output_type": "display_data"
    }
   ],
   "source": [
    "ggplot(discrepancy) + geom_histogram(aes(x=discrepancy))  # shortcut ggplot function"
   ]
  },
  {
   "cell_type": "markdown",
   "metadata": {
    "slideshow": {
     "slide_type": "slide"
    }
   },
   "source": [
    "### Exercise\n",
    "What would cause a `discrepancy` of -1500?"
   ]
  },
  {
   "cell_type": "code",
   "execution_count": 126,
   "metadata": {
    "slideshow": {
     "slide_type": "slide"
    }
   },
   "outputs": [
    {
     "name": "stdout",
     "output_type": "stream",
     "text": [
      "# A tibble: 10,621 x 2\n",
      "   dep_time arr_time\n",
      "      <int>    <int>\n",
      " 1     1929        3\n",
      " 2     1939       29\n",
      " 3     2058        8\n",
      " 4     2102      146\n",
      " 5     2108       25\n",
      " 6     2120       16\n",
      " 7     2121        6\n",
      " 8     2128       26\n",
      " 9     2134       20\n",
      "10     2136       25\n",
      "# ... with 10,611 more rows\n"
     ]
    }
   ],
   "source": [
    "filter(my_flights_total, total_time < -1000) %>% select(dep_time, arr_time) %>% print"
   ]
  },
  {
   "cell_type": "markdown",
   "metadata": {
    "slideshow": {
     "slide_type": "slide"
    }
   },
   "source": [
    "### Exercise\n",
    "Add a new variable to `new_total_time` to `my_flights_total` which contains a \"corrected\" version of `total_time`. Plot the resulting distribution of `new_total_time`."
   ]
  },
  {
   "cell_type": "code",
   "execution_count": 142,
   "metadata": {
    "slideshow": {
     "slide_type": "slide"
    }
   },
   "outputs": [
    {
     "name": "stderr",
     "output_type": "stream",
     "text": [
      "`stat_bin()` using `bins = 30`. Pick better value with `binwidth`.\n",
      "Warning message:\n",
      "“Removed 8713 rows containing non-finite values (stat_bin).”"
     ]
    },
    {
     "data": {},
     "metadata": {},
     "output_type": "display_data"
    },
    {
     "data": {
      "image/png": "[encoded data removed]"
     },
     "metadata": {},
     "output_type": "display_data"
    }
   ],
   "source": [
    "my_flights_total %>% select(total_time) %>% \n",
    "    mutate(total_time = total_time + (total_time < -1000) * (24 * 60))  %>% \n",
    "    ggplot + geom_histogram(aes(x=total_time))"
   ]
  },
  {
   "cell_type": "markdown",
   "metadata": {
    "slideshow": {
     "slide_type": "slide"
    }
   },
   "source": [
    "### Ranking functions\n",
    "\n",
    "There are a number of handy functions for ranking data:\n",
    "\n",
    "* `min_rank(v)`: rank the entries of `v` in ascending order, so the smallest entry gets a 1, etc. Ties get the same rank.\n",
    "* `row_number(v)`: same as `min_rank(v)`, but every entry gets its own rank.\n",
    "* `dense_rank(v)`: same as `min_rank(v)`, but no gaps created between the ranks.\n",
    "* `percent_rank()`: ranks expressed in percentiles.\n",
    "* `cume_dist(v)`: fraction of entries `<=` each entry of `v`.\n",
    "* `ntile(v)`: group entries of `v` into buckets and report which bucket"
   ]
  },
  {
   "cell_type": "code",
   "execution_count": 145,
   "metadata": {
    "slideshow": {
     "slide_type": "slide"
    }
   },
   "outputs": [
    {
     "data": {
      "text/plain": [
       "[1] 1 2 1 5 3 4 5"
      ]
     },
     "metadata": {},
     "output_type": "display_data"
    }
   ],
   "source": [
    "c(1, 2, 1, 5, 3, 4, 5) %>% dense_rank()\n",
    "\n",
    "# (x <- sample(c(11, 12, 12, 14, 14, 14, 17, 21, 26, NA))) # returns a random permutation of the input\n",
    "#flights %>% mutate(k=min_rank(air_time)) %>% \n",
    "#            select(k, year, month, day, tailnum) %>% print"
   ]
  },
  {
   "cell_type": "code",
   "execution_count": 31,
   "metadata": {
    "slideshow": {
     "slide_type": "slide"
    }
   },
   "outputs": [
    {
     "data": {
      "text/plain": [
       "[1]  1  1  2  3  4  4 NA"
      ]
     },
     "metadata": {},
     "output_type": "display_data"
    },
    {
     "data": {
      "text/plain": [
       "[1]  1  1  3  4  5  5 NA"
      ]
     },
     "metadata": {},
     "output_type": "display_data"
    }
   ],
   "source": [
    "x <- c(1, 1, 2, 3, 4, 4, NA)\n",
    "dense_rank(x) # don't create gaps in ranks\n",
    "min_rank(x)"
   ]
  },
  {
   "cell_type": "code",
   "execution_count": 147,
   "metadata": {
    "slideshow": {
     "slide_type": "slide"
    }
   },
   "outputs": [
    {
     "data": {
      "text/plain": [
       "[1] 1 2 1 3 4 5"
      ]
     },
     "metadata": {},
     "output_type": "display_data"
    },
    {
     "data": {
      "text/plain": [
       "[1]  1  2  3  4  5  6 NA"
      ]
     },
     "metadata": {},
     "output_type": "display_data"
    }
   ],
   "source": [
    "c(1, 2, 1, 3, 4, 5)\n",
    "row_number(x) # just return the position number in sorted order (ties get different ranks here)"
   ]
  },
  {
   "cell_type": "code",
   "execution_count": 87,
   "metadata": {
    "slideshow": {
     "slide_type": "slide"
    }
   },
   "outputs": [
    {
     "name": "stdout",
     "output_type": "stream",
     "text": [
      "# A tibble: 336,776 x 2\n",
      "       r air_time\n",
      "   <int>    <dbl>\n",
      " 1     1       20\n",
      " 2     1       20\n",
      " 3     2       21\n",
      " 4     2       21\n",
      " 5     2       21\n",
      " 6     2       21\n",
      " 7     2       21\n",
      " 8     2       21\n",
      " 9     2       21\n",
      "10     2       21\n",
      "# ... with 336,766 more rows\n"
     ]
    }
   ],
   "source": [
    "flights %>% mutate(r = dense_rank(air_time)) %>% \n",
    "            select(r, air_time) %>% arrange(r) %>% print"
   ]
  },
  {
   "cell_type": "markdown",
   "metadata": {
    "slideshow": {
     "slide_type": "slide"
    }
   },
   "source": [
    "### Exercise\n",
    "\n",
    "<table class=\"table-condensed\">\n",
    "    <tr><th>Beginner</th><th>Advanced</th></tr>\n",
    "    <tr><td>\n",
    "        How long was the fourth-shortest flight in the air?\n",
    "        </td>\n",
    "    <td>\n",
    "        How long was the fourth-longest flight in the air?\n",
    "        </td>\n",
    "    </tr>\n",
    "    <tr>\n",
    "<td>\n",
    "    \n",
    "1. 21m\n",
    "2. 34m\n",
    "3. 36m\n",
    "4. Depends on how you rank them.\n",
    "    \n",
    "</td>        \n",
    "    <td>\n",
    "        \n",
    "1. 690m\n",
    "2. 686m\n",
    "3. 683m\n",
    "4. Depends on how you rank them.\n",
    "\n",
    "</td>\n",
    "\n",
    "</tr>\n",
    "</table>\n",
    "\n",
    "\n",
    "\n",
    "\n"
   ]
  },
  {
   "cell_type": "code",
   "execution_count": 159,
   "metadata": {
    "slideshow": {
     "slide_type": "slide"
    }
   },
   "outputs": [
    {
     "name": "stdout",
     "output_type": "stream",
     "text": [
      "# A tibble: 336,776 x 2\n",
      "   air_time     r\n",
      "      <dbl> <int>\n",
      " 1      695     1\n",
      " 2      691     2\n",
      " 3      686     3\n",
      " 4      686     3\n",
      " 5      683     5\n",
      " 6      679     6\n",
      " 7      676     7\n",
      " 8      676     7\n",
      " 9      675     9\n",
      "10      671    10\n",
      "# ... with 336,766 more rows\n"
     ]
    }
   ],
   "source": [
    "flights %>% mutate(r = min_rank(-air_time)) %>%\n",
    "            arrange(r) %>% \n",
    "            select(air_time, r) %>% print"
   ]
  },
  {
   "cell_type": "markdown",
   "metadata": {
    "slideshow": {
     "slide_type": "slide"
    }
   },
   "source": [
    "## Grouped Summaries\n",
    "`summarize()` can be used to summarize entire data frames by collapsing them into single number summaries. The syntax is similar to mutate:\n",
    "```{r}\n",
    "summarize(<grouped tibble>, <new variable> = <formula for new variable>,\n",
    "                            <other new variable> = <other formula>)\n",
    "```\n",
    "As opposed to `mutate()`, which generates a new column and entry for each row, `summarize()` first groups columns and then applies a summary function. It returns a new tibble with **one row per group**."
   ]
  },
  {
   "cell_type": "markdown",
   "metadata": {
    "slideshow": {
     "slide_type": "slide"
    }
   },
   "source": [
    "The most basic use of summarize is to compute statistics over the whole data set:"
   ]
  },
  {
   "cell_type": "code",
   "execution_count": 161,
   "metadata": {
    "slideshow": {
     "slide_type": "fragment"
    }
   },
   "outputs": [
    {
     "name": "stdout",
     "output_type": "stream",
     "text": [
      "# A tibble: 1 x 1\n",
      "  delay\n",
      "  <dbl>\n",
      "1  12.6\n"
     ]
    }
   ],
   "source": [
    "summarize(flights, delay = mean(dep_delay, na.rm=TRUE)) %>% print"
   ]
  },
  {
   "cell_type": "markdown",
   "metadata": {
    "slideshow": {
     "slide_type": "slide"
    }
   },
   "source": [
    "### Grouping observations\n",
    "`summarize()` is most useful when combined with `group_by()` to group observations before calculating the summary statistic. The `group_by` function tells R how your data are grouped:"
   ]
  },
  {
   "cell_type": "code",
   "execution_count": 164,
   "metadata": {
    "slideshow": {
     "slide_type": "-"
    }
   },
   "outputs": [
    {
     "name": "stdout",
     "output_type": "stream",
     "text": [
      "# A tibble: 336,776 x 19\n",
      "# Groups:   year, month, day [365]\n",
      "    year month   day dep_time sched_dep_time dep_delay arr_time sched_arr_time\n",
      "   <int> <int> <int>    <int>          <int>     <dbl>    <int>          <int>\n",
      " 1  2013     1     1      517            515         2      830            819\n",
      " 2  2013     1     1      533            529         4      850            830\n",
      " 3  2013     1     1      542            540         2      923            850\n",
      " 4  2013     1     1      544            545        -1     1004           1022\n",
      " 5  2013     1     1      554            600        -6      812            837\n",
      " 6  2013     1     1      554            558        -4      740            728\n",
      " 7  2013     1     1      555            600        -5      913            854\n",
      " 8  2013     1     1      557            600        -3      709            723\n",
      " 9  2013     1     1      557            600        -3      838            846\n",
      "10  2013     1     1      558            600        -2      753            745\n",
      "# ... with 336,766 more rows, and 11 more variables: arr_delay <dbl>,\n",
      "#   carrier <chr>, flight <int>, tailnum <chr>, origin <chr>, dest <chr>,\n",
      "#   air_time <dbl>, distance <dbl>, hour <dbl>, minute <dbl>, time_hour <dttm>\n"
     ]
    }
   ],
   "source": [
    "flights %>% group_by(year, month, day) %>% print\n",
    "# by_month <- group_by(flights, year, month)"
   ]
  },
  {
   "cell_type": "code",
   "execution_count": 165,
   "metadata": {
    "slideshow": {
     "slide_type": "slide"
    }
   },
   "outputs": [
    {
     "name": "stdout",
     "output_type": "stream",
     "text": [
      "# A tibble: 12 x 2\n",
      "   month mean_dep_delay\n",
      "   <int>          <dbl>\n",
      " 1     1          10.0 \n",
      " 2     2          10.8 \n",
      " 3     3          13.2 \n",
      " 4     4          13.9 \n",
      " 5     5          13.0 \n",
      " 6     6          20.8 \n",
      " 7     7          21.7 \n",
      " 8     8          12.6 \n",
      " 9     9           6.72\n",
      "10    10           6.24\n",
      "11    11           5.44\n",
      "12    12          16.6 \n"
     ]
    }
   ],
   "source": [
    "group_by(flights, month) %>% summarize(mean_dep_delay=mean(dep_delay, na.rm=T)) %>% print"
   ]
  },
  {
   "cell_type": "markdown",
   "metadata": {
    "slideshow": {
     "slide_type": "slide"
    }
   },
   "source": [
    "Many summary functions are available:\n",
    "\n",
    "* Center: `mean(), median()`\n",
    "* Spread: `sd(), IQR(), mad()`\n",
    "* Range: `min(), max(), quantile()`\n",
    "* Position: `first(), last(), nth()`\n",
    "* Count: `n(), n_distinct()`\n",
    "* Logical: `any(), all()`"
   ]
  },
  {
   "cell_type": "markdown",
   "metadata": {
    "slideshow": {
     "slide_type": "slide"
    }
   },
   "source": [
    "### Examples\n",
    "Compute the number of flights each month:"
   ]
  },
  {
   "cell_type": "code",
   "execution_count": 168,
   "metadata": {
    "slideshow": {
     "slide_type": "-"
    }
   },
   "outputs": [
    {
     "data": {
      "text/plain": [
       "      month tailnum n()\n",
       "1     1     N0EGMQ  41 \n",
       "2     1     N10156  28 \n",
       "3     1     N102UW   1 \n",
       "4     1     N103US   4 \n",
       "5     1     N104UW   2 \n",
       "6     1     N10575  30 \n",
       "7     1     N107US   1 \n",
       "8     1     N108UW   1 \n",
       "9     1     N109UW   1 \n",
       "10    1     N110UW   1 \n",
       "11    1     N11106   8 \n",
       "12    1     N11107  11 \n",
       "13    1     N11109  13 \n",
       "14    1     N11113   5 \n",
       "15    1     N11119  20 \n",
       "16    1     N11121   3 \n",
       "17    1     N11127   8 \n",
       "18    1     N11137   8 \n",
       "19    1     N11140  14 \n",
       "20    1     N11150  11 \n",
       "21    1     N11155   3 \n",
       "22    1     N11164  17 \n",
       "23    1     N11165   4 \n",
       "24    1     N11176  14 \n",
       "25    1     N11181  12 \n",
       "26    1     N11184  20 \n",
       "27    1     N11187  21 \n",
       "28    1     N11189  11 \n",
       "29    1     N11191  13 \n",
       "30    1     N11192   8 \n",
       "⋮     ⋮     ⋮       ⋮  \n",
       "37959 12    N983AT    3\n",
       "37960 12    N983DL   12\n",
       "37961 12    N984DL    4\n",
       "37962 12    N985AT    2\n",
       "37963 12    N985DL    5\n",
       "37964 12    N986AT    3\n",
       "37965 12    N986DL    6\n",
       "37966 12    N987AT    1\n",
       "37967 12    N987DL    4\n",
       "37968 12    N988AT    7\n",
       "37969 12    N988DL    8\n",
       "37970 12    N989AT   23\n",
       "37971 12    N989DL    4\n",
       "37972 12    N990AT   21\n",
       "37973 12    N990DL    7\n",
       "37974 12    N991DL   10\n",
       "37975 12    N992AT    2\n",
       "37976 12    N993AT    4\n",
       "37977 12    N993DL    2\n",
       "37978 12    N994AT    9\n",
       "37979 12    N994DL    2\n",
       "37980 12    N995DL   10\n",
       "37981 12    N996AT    3\n",
       "37982 12    N996DL    6\n",
       "37983 12    N997AT    3\n",
       "37984 12    N997DL   10\n",
       "37985 12    N998DL    4\n",
       "37986 12    N999DN    3\n",
       "37987 12    N9EAMQ   27\n",
       "37988 12    NA      270"
      ]
     },
     "metadata": {},
     "output_type": "display_data"
    }
   ],
   "source": [
    "group_by(flights, month, tailnum) %>% summarize(n())"
   ]
  },
  {
   "cell_type": "markdown",
   "metadata": {
    "slideshow": {
     "slide_type": "slide"
    }
   },
   "source": [
    "### Exercise\n",
    "\n",
    "<table class=\"table-condensed\">\n",
    "    <tr><th>Beginner</th><th>Advanced</th></tr>\n",
    "    <tr><td>\n",
    "        Which plane (tail number) flew the most flights in July?\n",
    "        </td>\n",
    "    <td>\n",
    "        How many planes flew at least one flight in January, but none in February?\n",
    "        </td>\n",
    "    </tr>\n",
    "    <tr>\n",
    "<td>\n",
    "</tr>\n",
    "</table>\n",
    "\n",
    "\n",
    "\n",
    "\n"
   ]
  },
  {
   "cell_type": "code",
   "execution_count": 56,
   "metadata": {
    "slideshow": {
     "slide_type": "slide"
    }
   },
   "outputs": [],
   "source": [
    "# Your code here"
   ]
  },
  {
   "cell_type": "markdown",
   "metadata": {
    "slideshow": {
     "slide_type": "slide"
    }
   },
   "source": [
    "### Always include counts\n",
    "It is a good idea to include counts of each group when you do a summary. Some groups may have very low numbers of observations, resulting in high variance for the summary statistics. For example, let's look at particular airplanes which have high delays, perhaps due to maintenance, etc:"
   ]
  },
  {
   "cell_type": "code",
   "execution_count": 89,
   "metadata": {
    "slideshow": {
     "slide_type": "slide"
    }
   },
   "outputs": [
    {
     "name": "stderr",
     "output_type": "stream",
     "text": [
      "Selecting by delay\n"
     ]
    },
    {
     "data": {
      "text/plain": [
       "  tailnum delay\n",
       "1 N587NW  264  \n",
       "2 N844MH  320  \n",
       "3 N851NW  219  \n",
       "4 N911DA  294  \n",
       "5 N922EV  276  "
      ]
     },
     "metadata": {},
     "output_type": "display_data"
    }
   ],
   "source": [
    "not_cancelled = flights %>% \n",
    "    filter(!is.na(dep_delay), !is.na(arr_delay))\n",
    "\n",
    "not_cancelled %>% group_by(tailnum) %>% \n",
    "    summarise(delay = mean(arr_delay)) %>% top_n(5)"
   ]
  },
  {
   "cell_type": "markdown",
   "metadata": {
    "slideshow": {
     "slide_type": "notes"
    }
   },
   "source": [
    "The top five most delayed planes experience an average delay of 4-5 hours! Clearly this is not realistic. The issue is that there are very few observations for each of these planes:"
   ]
  },
  {
   "cell_type": "code",
   "execution_count": 55,
   "metadata": {
    "slideshow": {
     "slide_type": "slide"
    }
   },
   "outputs": [
    {
     "data": {
      "text/plain": [
       "  tailnum delay obs\n",
       "1 N587NW  264   1  \n",
       "2 N844MH  320   1  \n",
       "3 N851NW  219   1  \n",
       "4 N911DA  294   1  \n",
       "5 N922EV  276   1  "
      ]
     },
     "metadata": {},
     "output_type": "display_data"
    }
   ],
   "source": [
    "delays = not_cancelled %>% group_by(tailnum) %>% \n",
    "    summarise(delay=mean(arr_delay), obs=n())\n",
    "\n",
    "top_n(delays, 5, delay)"
   ]
  },
  {
   "cell_type": "markdown",
   "metadata": {
    "slideshow": {
     "slide_type": "slide"
    }
   },
   "source": [
    "Here is another example from baseball:"
   ]
  },
  {
   "cell_type": "code",
   "execution_count": 60,
   "metadata": {},
   "outputs": [
    {
     "name": "stdout",
     "output_type": "stream",
     "text": [
      "# A tibble: 102,816 x 22\n",
      "   playerID yearID stint teamID lgID      G    AB     R     H   X2B   X3B    HR\n",
      "   <chr>     <int> <int> <fct>  <fct> <int> <int> <int> <int> <int> <int> <int>\n",
      " 1 abercda…   1871     1 TRO    NA        1     4     0     0     0     0     0\n",
      " 2 addybo01   1871     1 RC1    NA       25   118    30    32     6     0     0\n",
      " 3 allisar…   1871     1 CL1    NA       29   137    28    40     4     5     0\n",
      " 4 allisdo…   1871     1 WS3    NA       27   133    28    44    10     2     2\n",
      " 5 ansonca…   1871     1 RC1    NA       25   120    29    39    11     3     0\n",
      " 6 armstbo…   1871     1 FW1    NA       12    49     9    11     2     1     0\n",
      " 7 barkeal…   1871     1 RC1    NA        1     4     0     1     0     0     0\n",
      " 8 barnero…   1871     1 BS1    NA       31   157    66    63    10     9     0\n",
      " 9 barrebi…   1871     1 FW1    NA        1     5     1     1     1     0     0\n",
      "10 barrofr…   1871     1 BS1    NA       18    86    13    13     2     1     0\n",
      "# ... with 102,806 more rows, and 10 more variables: RBI <int>, SB <int>,\n",
      "#   CS <int>, BB <int>, SO <int>, IBB <int>, HBP <int>, SH <int>, SF <int>,\n",
      "#   GIDP <int>\n"
     ]
    }
   ],
   "source": [
    "library(Lahman)\n",
    "bat <- as_tibble(Batting) %>% print"
   ]
  },
  {
   "cell_type": "markdown",
   "metadata": {
    "slideshow": {
     "slide_type": "slide"
    }
   },
   "source": [
    "There is one row per player per year:"
   ]
  },
  {
   "cell_type": "code",
   "execution_count": 102,
   "metadata": {
    "slideshow": {
     "slide_type": "fragment"
    }
   },
   "outputs": [
    {
     "data": {
      "text/plain": [
       "  playerID  yearID stint teamID lgID G AB R H X2B ⋯ RBI SB CS BB SO IBB HBP SH\n",
       "1 abercda01 1871   1     TRO    NA   1 4  0 0 0   ⋯ 0   0  0  0  0  NA  NA  NA\n",
       "  SF GIDP\n",
       "1 NA NA  "
      ]
     },
     "metadata": {},
     "output_type": "display_data"
    },
    {
     "data": {
      "text/plain": [
       "   playerID  nameFirst nameLast   \n",
       "21 abercda01 Frank     Abercrombie"
      ]
     },
     "metadata": {},
     "output_type": "display_data"
    }
   ],
   "source": [
    "slice(bat, 1)\n",
    "Lahman::playerInfo('abercda01')"
   ]
  },
  {
   "cell_type": "markdown",
   "metadata": {
    "slideshow": {
     "slide_type": "slide"
    }
   },
   "source": [
    "### Exercise\n",
    "A player's *batting average* is defined as their hits (`H`) divided by their at-bats (`AB`). Add up all the hits and at-bats for each player across all the years they played and compute their career batting average. Which player(s) has the highest career batting average?"
   ]
  },
  {
   "cell_type": "code",
   "execution_count": 174,
   "metadata": {
    "slideshow": {
     "slide_type": "slide"
    }
   },
   "outputs": [
    {
     "data": {
      "text/plain": [
       "     playerID  bavg       nab  \n",
       "1    cobbty01  0.3663635  11434\n",
       "2    nicolge01 0.3617021    141\n",
       "3    barnero01 0.3591137   2392\n",
       "4    hornsro01 0.3584975   8173\n",
       "5    jacksjo01 0.3557519   4981\n",
       "6    meyerle01 0.3555094   1443\n",
       "7    kingst01  0.3529412    272\n",
       "8    odoulle01 0.3492647   3264\n",
       "9    delahed01 0.3459027   7505\n",
       "10   mcveyca01 0.3458018   2513\n",
       "11   speaktr01 0.3446788  10195\n",
       "12   willite01 0.3444070   7706\n",
       "13   hamilbi01 0.3442884   6268\n",
       "14   broutda01 0.3421249   6711\n",
       "15   ruthba01  0.3421053   8398\n",
       "16   orrda01   0.3420493   3289\n",
       "17   heilmha01 0.3415950   7787\n",
       "18   brownpe01 0.3414938   4820\n",
       "19   keelewi01 0.3412874   8591\n",
       "20   terrybi01 0.3411637   6428\n",
       "21   cummija01 0.3409091    132\n",
       "22   sislege01 0.3401476   8267\n",
       "23   gehrilo01 0.3400825   8001\n",
       "24   stenzja01 0.3386243   3024\n",
       "25   burkeje01 0.3384396   8421\n",
       "26   gwynnto01 0.3381783   9288\n",
       "27   lajoina01 0.3380957   9589\n",
       "28   mooreha01 0.3362256    461\n",
       "29   stephri01 0.3360692   4508\n",
       "30   pemberu01 0.3358209    134\n",
       "⋮    ⋮         ⋮          ⋮    \n",
       "8706 engeljo01 0.06730769 104  \n",
       "8707 grantma01 0.06730769 104  \n",
       "8708 chancde01 0.06646526 662  \n",
       "8709 hagerri01 0.06504065 123  \n",
       "8710 shallgu01 0.06504065 123  \n",
       "8711 breuema01 0.06369427 157  \n",
       "8712 lestejo01 0.06369427 157  \n",
       "8713 lopezro01 0.06206897 145  \n",
       "8714 durenry01 0.06140351 114  \n",
       "8715 detwiro01 0.06034483 116  \n",
       "8716 kennete01 0.05982906 117  \n",
       "8717 narumbu01 0.05932203 118  \n",
       "8718 hansoto01 0.05882353 187  \n",
       "8719 walkelu01 0.05851064 188  \n",
       "8720 johnsdo03 0.05806452 155  \n",
       "8721 clarkma01 0.05785124 242  \n",
       "8722 helliri01 0.05769231 104  \n",
       "8723 carmado01 0.05741627 209  \n",
       "8724 dayza01   0.05714286 105  \n",
       "8725 trottbi01 0.05504587 109  \n",
       "8726 phillta01 0.05309735 113  \n",
       "8727 redmama01 0.05194805 154  \n",
       "8728 butlebi02 0.05128205 117  \n",
       "8729 petityu01 0.05084746 118  \n",
       "8730 klepfed01 0.04800000 125  \n",
       "8731 mcgafan01 0.04761905 126  \n",
       "8732 moehlbr01 0.04455446 202  \n",
       "8733 gilmofr01 0.04294479 163  \n",
       "8734 thurmmi01 0.03053435 131  \n",
       "8735 herbero01 0.02912621 206  "
      ]
     },
     "metadata": {},
     "output_type": "display_data"
    }
   ],
   "source": [
    "Batting %>% group_by(playerID) %>% \n",
    "    summarize(bavg = sum(H) / sum(AB), nab=sum(AB)) %>% \n",
    "    filter(nab>100) %>% \n",
    "    arrange(desc(bavg))"
   ]
  },
  {
   "cell_type": "markdown",
   "metadata": {
    "slideshow": {
     "slide_type": "slide"
    }
   },
   "source": [
    "### Other uses of aggregation\n",
    "The `n_distinct()` function returns the number of distinct entries in a group:"
   ]
  },
  {
   "cell_type": "code",
   "execution_count": 90,
   "metadata": {
    "slideshow": {
     "slide_type": "-"
    }
   },
   "outputs": [
    {
     "name": "stdout",
     "output_type": "stream",
     "text": [
      "# A tibble: 2 x 2\n",
      "  a        nd\n",
      "  <chr> <int>\n",
      "1 a         2\n",
      "2 b         1\n"
     ]
    }
   ],
   "source": [
    "tribble(\n",
    "    ~a, ~x,\n",
    "    \"a\", 1,\n",
    "    \"a\", 2,\n",
    "    \"b\", 3,\n",
    "    \"b\", 3\n",
    ") %>% group_by(a) %>% \n",
    "    summarize(nd = n_distinct(x)) %>% print"
   ]
  },
  {
   "cell_type": "markdown",
   "metadata": {
    "slideshow": {
     "slide_type": "slide"
    }
   },
   "source": [
    "### Exercise\n",
    "\n",
    "<table class=\"table-condensed\">\n",
    "    <tr><th>Beginner</th><th>Advanced</th></tr>\n",
    "    <tr><td>\n",
    "        How many unique destinations were flown to in July?</td>\n",
    "    <td>Which of the three departure airports (JFK, LGA or EWR) flew to the most \n",
    "        unique destinations in July?\n",
    "    </td>\n",
    "    </tr>\n",
    "    <tr>\n",
    "<td>\n",
    "</tr>\n",
    "</table>"
   ]
  },
  {
   "cell_type": "code",
   "execution_count": 78,
   "metadata": {
    "slideshow": {
     "slide_type": "slide"
    }
   },
   "outputs": [],
   "source": [
    "# Your code here"
   ]
  },
  {
   "cell_type": "markdown",
   "metadata": {
    "slideshow": {
     "slide_type": "slide"
    }
   },
   "source": [
    "### Exercise\n",
    "\n",
    "<table class=\"table-condensed\">\n",
    "    <tr><th>Beginner</th><th>Advanced</th></tr>\n",
    "    <tr><td>\n",
    "        Let's say an air carrier is <emph>regional</emph> if its median distance traveled per flight is less than 400 miles. Which carriers are regional?</td>\n",
    "    <td>\n",
    "        What is the worst-performing air carrier (in terms of median departure delay) for each month of the year??\n",
    "        </td>\n",
    "    </tr>\n",
    "    <tr>\n",
    "<td>\n",
    "</tr>\n",
    "</table>\n"
   ]
  },
  {
   "cell_type": "code",
   "execution_count": 86,
   "metadata": {
    "slideshow": {
     "slide_type": "slide"
    }
   },
   "outputs": [],
   "source": [
    "# Your code here"
   ]
  }
 ],
 "metadata": {
  "celltoolbar": "Slideshow",
  "kernelspec": {
   "display_name": "R",
   "language": "R",
   "name": "ir"
  },
  "language_info": {
   "codemirror_mode": "r",
   "file_extension": ".r",
   "mimetype": "text/x-r-source",
   "name": "R",
   "pygments_lexer": "r",
   "version": "3.4.3"
  }
 },
 "nbformat": 4,
 "nbformat_minor": 1
}
