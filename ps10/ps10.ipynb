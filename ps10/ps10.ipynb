{
 "cells": [
  {
   "cell_type": "markdown",
   "metadata": {},
   "source": [
    "# Read these instructions completely in order to receive full credit\n",
    "\n",
    "- Before you submit the problem set, make sure everything runs as expected. Go to the menu bar at the top of Jupyter Notebook and click `Kernel > Restart & Run All`. Your code should run from top to bottom with no errors. Failure to do this will result in loss of points.\n",
    "\n",
    "- You should not use `install.packages()` anywhere. You may assume that we have already installed all the packages needed to run your code.\n",
    "\n",
    "- Make sure you fill in any place that says `YOUR CODE HERE` or \"YOUR ANSWER HERE\" and delete the `stop()` functions. The `stop()` functions produce an error and are there to remind you of cells that need an answer.\n",
    "\n",
    "- If you are working in a group, make sure you and your collaborators have been [added to a group on Canvas](https://umich.instructure.com/courses/270337/discussion_topics/658777). You should also specify your group members when submitting to Gradescope.\n",
    "- As a backup, *also* fill in your uniqid as well as those of your collaborators below:"
   ]
  },
  {
   "cell_type": "markdown",
   "metadata": {},
   "source": [
    "Your uniqid: `<replace with your uniqid>`\n",
    "\n",
    "Uniqids of your collaborator(s): `<replace with their uniqids>`"
   ]
  },
  {
   "cell_type": "markdown",
   "metadata": {},
   "source": [
    "- This assignment should be submitted to both Canvas and Gradescope using the [instructions](https://piazza.com/class/jqh1wx3xw9amg?cid=55) posted on Piazza. **You must upload the problem set to __both__ Canvas and Gradescope in order to recieve full credit.** \n",
    "- **Carefully proofread the PDF that you upload to Canvas. PDFs that have missing or truncated code cannot be graded and will not receive credit.**"
   ]
  },
  {
   "cell_type": "markdown",
   "metadata": {},
   "source": [
    "---"
   ]
  },
  {
   "cell_type": "code",
   "execution_count": null,
   "metadata": {
    "deletable": false,
    "editable": false,
    "nbgrader": {
     "checksum": "f806389838eeb4c891f9db33c2c8cda7",
     "grade": false,
     "grade_id": "cell-892bf1ae756bcb37",
     "locked": true,
     "schema_version": 1,
     "solution": false
    }
   },
   "outputs": [],
   "source": [
    "library(tidyverse)\n",
    "library(modelr)"
   ]
  },
  {
   "cell_type": "markdown",
   "metadata": {
    "deletable": false,
    "editable": false,
    "nbgrader": {
     "checksum": "4b8ab6c7513971986754fa05e6e27a22",
     "grade": false,
     "grade_id": "cell-f73c39701a1d2ed0",
     "locked": true,
     "schema_version": 1,
     "solution": false
    }
   },
   "source": [
    "# STATS 306\n",
    "## Problem Set 10: Regression and Inference\n",
    "Each problem is worth two points, for a total of 20."
   ]
  },
  {
   "cell_type": "markdown",
   "metadata": {
    "deletable": false,
    "editable": false,
    "nbgrader": {
     "checksum": "40820f1e74a169ce24e586cdfc804f23",
     "grade": false,
     "grade_id": "cell-aa5b3f57ccb2b5da",
     "locked": true,
     "schema_version": 1,
     "solution": false
    }
   },
   "source": [
    "#### Problem 1\n",
    "Finish the example I started but did not finish at the end of Wednesday's lecture: use the `gapminder` data to construct a plot which overlays the growth in life expectancy for Botswana, Lesotho, Swaziland, Rwanda, Zambia, and Zimbabwe, with what they *would have* experienced if they continued to grow at their 1950-1980 rates."
   ]
  },
  {
   "cell_type": "code",
   "execution_count": null,
   "metadata": {
    "deletable": false,
    "nbgrader": {
     "checksum": "4d3785b794ec673b57b23f976d11d958",
     "grade": true,
     "grade_id": "cell-223dfe5e65cebaa2",
     "locked": false,
     "points": 0,
     "schema_version": 1,
     "solution": true
    }
   },
   "outputs": [],
   "source": [
    "# YOUR CODE HERE\n",
    "stop()"
   ]
  },
  {
   "cell_type": "markdown",
   "metadata": {
    "deletable": false,
    "editable": false,
    "nbgrader": {
     "checksum": "cbf64b5ae054ecd198f14051b0977655",
     "grade": false,
     "grade_id": "cell-186d2b8c8d1457b6",
     "locked": true,
     "schema_version": 1,
     "solution": false
    }
   },
   "source": [
    "### Other uses of linear regression\n",
    "So far we have mainly focused on using linear regression to understand patterns in data. In the following exercises, you will see how regression can be used to carry out many types of inference that previously required you to know and understand a specialized type of test. (The equivalences demonstrated by these exercises hold when the sample size is fairly large. For small samples, you should still rely on the specialized tests.)"
   ]
  },
  {
   "cell_type": "markdown",
   "metadata": {
    "deletable": false,
    "editable": false,
    "nbgrader": {
     "checksum": "d87cb2b7d60bd71dd314d6125b3f18f3",
     "grade": false,
     "grade_id": "cell-8a4fcd25e82f68a0",
     "locked": true,
     "schema_version": 1,
     "solution": false
    }
   },
   "source": [
    "#### Problem 2\n",
    "##### Pearson's correlation\n",
    "Pearson's correlation coefficient, denoted $\\rho$, measures the strength of a linear relationship between two variables $x$ and $y$. It's implemented using the `cor()` function in R:"
   ]
  },
  {
   "cell_type": "code",
   "execution_count": null,
   "metadata": {
    "deletable": false,
    "editable": false,
    "nbgrader": {
     "checksum": "15796946b7dbe5be432c923ad02d7f16",
     "grade": false,
     "grade_id": "cell-30374ebf8d61de64",
     "locked": true,
     "schema_version": 1,
     "solution": false
    }
   },
   "outputs": [],
   "source": [
    "set.seed(1)\n",
    "x = rnorm(100, sd=.1)\n",
    "y = 3 + 2 * x + rnorm(100, sd = 1)\n",
    "cor(x, y)"
   ]
  },
  {
   "cell_type": "markdown",
   "metadata": {
    "deletable": false,
    "editable": false,
    "nbgrader": {
     "checksum": "a5bad260367981c24457dd2d334d1d5e",
     "grade": false,
     "grade_id": "cell-66d306d6b06dbb31",
     "locked": true,
     "schema_version": 1,
     "solution": false
    }
   },
   "source": [
    "To test whether a linear relationship exists between two variables, we can use the function `cor.test()` to test the null hypothesis $H_0: \\rho=0$:"
   ]
  },
  {
   "cell_type": "code",
   "execution_count": null,
   "metadata": {
    "deletable": false,
    "editable": false,
    "nbgrader": {
     "checksum": "997f03bbb1caab565843ef0c2abeee03",
     "grade": false,
     "grade_id": "cell-556264c837ba576f",
     "locked": true,
     "schema_version": 1,
     "solution": false
    }
   },
   "outputs": [],
   "source": [
    "cor.test(x, y)"
   ]
  },
  {
   "cell_type": "markdown",
   "metadata": {
    "deletable": false,
    "editable": false,
    "nbgrader": {
     "checksum": "accc31822853c6f2630c0fd22847a5c5",
     "grade": false,
     "grade_id": "cell-96ec4249c290c1ce",
     "locked": true,
     "schema_version": 1,
     "solution": false
    }
   },
   "source": [
    "Consider how you might test whether the correlation between $x$ and $y$ is zero using the linear model. By running an appropriate regression, show that you get *the exact same* $p$-value as that obtained by `cor.test()`. How can we infer the correlation coefficient $\\rho=0.183$ from the regression result?"
   ]
  },
  {
   "cell_type": "code",
   "execution_count": null,
   "metadata": {
    "deletable": false,
    "nbgrader": {
     "checksum": "173fcc6da22dfe37a48f87a13d785c1f",
     "grade": true,
     "grade_id": "cell-614d08251e323a57",
     "locked": false,
     "points": 0,
     "schema_version": 1,
     "solution": true
    }
   },
   "outputs": [],
   "source": [
    "# YOUR CODE HERE\n",
    "stop()"
   ]
  },
  {
   "cell_type": "markdown",
   "metadata": {
    "deletable": false,
    "editable": false,
    "nbgrader": {
     "checksum": "96d28635d0f57e518da0ccf711e47c53",
     "grade": false,
     "grade_id": "cell-5343bbadaeba625b",
     "locked": true,
     "schema_version": 1,
     "solution": false
    }
   },
   "source": [
    "#### Problem 3\n",
    "#### Spearman's rank correlation\n",
    "\n",
    "A noted criticism of Pearson's correlation is that it only measures the strength of a *linear* correlation between two random variables. Consider the variables $x$ and $y$ defined in the file `spearman.csv`:"
   ]
  },
  {
   "cell_type": "code",
   "execution_count": null,
   "metadata": {
    "deletable": false,
    "editable": false,
    "nbgrader": {
     "checksum": "bc1904e17ae0fb4b9a82122887ef0003",
     "grade": false,
     "grade_id": "cell-df5f6966bdb2985e",
     "locked": true,
     "schema_version": 1,
     "solution": false
    }
   },
   "outputs": [],
   "source": [
    "sp <- read_csv(\"spearman.csv\") %>% print"
   ]
  },
  {
   "cell_type": "markdown",
   "metadata": {
    "deletable": false,
    "editable": false,
    "nbgrader": {
     "checksum": "ac38ab9f89d47222bcc8555eebeadef7",
     "grade": false,
     "grade_id": "cell-33ba4033c69711c3",
     "locked": true,
     "schema_version": 1,
     "solution": false
    }
   },
   "source": [
    "Are $x$ and $y$ correlated according to Pearson's test? Are they related at all? Support your answer with an appropriate visual or statistical argument."
   ]
  },
  {
   "cell_type": "code",
   "execution_count": null,
   "metadata": {
    "deletable": false,
    "nbgrader": {
     "checksum": "5bf6f0f0874b3d13723a098a291d46cb",
     "grade": true,
     "grade_id": "cell-cd5c97ea66b3aed0",
     "locked": false,
     "points": 0,
     "schema_version": 1,
     "solution": true
    }
   },
   "outputs": [],
   "source": [
    "# YOUR CODE HERE\n",
    "stop()"
   ]
  },
  {
   "cell_type": "markdown",
   "metadata": {
    "deletable": false,
    "editable": false,
    "nbgrader": {
     "checksum": "9edf51d88d9679c018c76d1602464fba",
     "grade": false,
     "grade_id": "cell-0e523ead8c6e3ee3",
     "locked": true,
     "schema_version": 1,
     "solution": false
    }
   },
   "source": [
    "#### Problem 4\n",
    "Recall that the `rank()` function maps a vector to a vector of integers denoting the numerical rank of each entry of the vector:"
   ]
  },
  {
   "cell_type": "code",
   "execution_count": null,
   "metadata": {
    "deletable": false,
    "editable": false,
    "nbgrader": {
     "checksum": "551643be0ad7955f33450baa3c9ef7a3",
     "grade": false,
     "grade_id": "cell-3a72abe598e1d7a0",
     "locked": true,
     "schema_version": 1,
     "solution": false
    }
   },
   "outputs": [],
   "source": [
    "rank(c(2,6,9,10,8))"
   ]
  },
  {
   "cell_type": "markdown",
   "metadata": {
    "deletable": false,
    "editable": false,
    "nbgrader": {
     "checksum": "127225660c60fa8303bb5126834e13e7",
     "grade": false,
     "grade_id": "cell-c7f6b3dee75be6af",
     "locked": true,
     "schema_version": 1,
     "solution": false
    }
   },
   "source": [
    "To address potential shortcomings in Pearson's test, *Spearman's rank correlation test* looks for correlations between the *ranks* of two vectors $x$ and $y$. This will do a better job of picking out a non-linear relationship between $x$ and $y$, so long as that relationship is [monotonic](https://en.wikipedia.org/wiki/Monotonic_function). Verify this visualizing the relationship of `rank(x)` and `rank(y)`."
   ]
  },
  {
   "cell_type": "code",
   "execution_count": null,
   "metadata": {
    "deletable": false,
    "nbgrader": {
     "checksum": "3bf6646df617856bb1529cac12839a07",
     "grade": true,
     "grade_id": "cell-703b841606ec609c",
     "locked": false,
     "points": 0,
     "schema_version": 1,
     "solution": true
    }
   },
   "outputs": [],
   "source": [
    "# YOUR CODE HERE\n",
    "stop()"
   ]
  },
  {
   "cell_type": "markdown",
   "metadata": {
    "deletable": false,
    "editable": false,
    "nbgrader": {
     "checksum": "f78602d93bfb122de0882dec3bd3e1d6",
     "grade": false,
     "grade_id": "cell-62f7756b85d3e29e",
     "locked": true,
     "schema_version": 1,
     "solution": false
    }
   },
   "source": [
    "Spearman's test is implemented using the `cor.test(..., method=\"spearman\")` command.\n",
    "\n",
    "Using the rank transformation and an appropriate regression, show that the linear model gives you the *exact same* $p$-values and estimates for $\\rho$."
   ]
  },
  {
   "cell_type": "code",
   "execution_count": null,
   "metadata": {
    "deletable": false,
    "nbgrader": {
     "checksum": "cbe56ecea58edf7b9be2a0b268d00495",
     "grade": true,
     "grade_id": "cell-7c2681f67d5e97c7",
     "locked": false,
     "points": 0,
     "schema_version": 1,
     "solution": true
    }
   },
   "outputs": [],
   "source": [
    "# YOUR CODE HERE\n",
    "stop()"
   ]
  },
  {
   "cell_type": "markdown",
   "metadata": {
    "deletable": false,
    "editable": false,
    "nbgrader": {
     "checksum": "fe52e2a2d3520a9aafc94db216da9e29",
     "grade": false,
     "grade_id": "cell-79fbe388eff1e416",
     "locked": true,
     "schema_version": 1,
     "solution": false
    }
   },
   "source": [
    "Spearman's test is an example of a [non-parametric](https://en.wikipedia.org/wiki/Nonparametric_statistics) test: it does not make any assumptions about the distribution of the data. We will see other examples of non-parametric tests below."
   ]
  },
  {
   "cell_type": "markdown",
   "metadata": {
    "deletable": false,
    "editable": false,
    "nbgrader": {
     "checksum": "be1e12f5fea2fd20eab0f814d16a93da",
     "grade": false,
     "grade_id": "cell-50d2b3d695df7c8c",
     "locked": true,
     "schema_version": 1,
     "solution": false
    }
   },
   "source": [
    "#### Problem 5\n",
    "##### The $t$-test\n",
    "The one-sample $t$-test is used to test the null hypothesis that the mean of a random variable is zero. It's implemented in R using the `t.test()` command:"
   ]
  },
  {
   "cell_type": "code",
   "execution_count": null,
   "metadata": {
    "deletable": false,
    "editable": false,
    "nbgrader": {
     "checksum": "0f0865ce16426972f49acf14fbc1c125",
     "grade": false,
     "grade_id": "cell-567e578d7fa9d650",
     "locked": true,
     "schema_version": 1,
     "solution": false
    }
   },
   "outputs": [],
   "source": [
    "x <- rnorm(100, mean=.1)\n",
    "t.test(x)"
   ]
  },
  {
   "cell_type": "markdown",
   "metadata": {
    "deletable": false,
    "editable": false,
    "nbgrader": {
     "checksum": "583ef870714334c39fc017e639fb1c69",
     "grade": false,
     "grade_id": "cell-5b7c91dc23771f91",
     "locked": true,
     "schema_version": 1,
     "solution": false
    }
   },
   "source": [
    "By running an appropriate regression, show that the linear model produces *the exact same* $t$ statistic, confidence intervals, and $p$-values as the $t$-test."
   ]
  },
  {
   "cell_type": "code",
   "execution_count": null,
   "metadata": {
    "deletable": false,
    "nbgrader": {
     "checksum": "c4ff07215e48d304bfdc5ea74afb84db",
     "grade": true,
     "grade_id": "cell-f54825f6e6acf9a3",
     "locked": false,
     "points": 0,
     "schema_version": 1,
     "solution": true
    }
   },
   "outputs": [],
   "source": [
    "# YOUR CODE HERE\n",
    "stop()"
   ]
  },
  {
   "cell_type": "markdown",
   "metadata": {
    "deletable": false,
    "editable": false,
    "nbgrader": {
     "checksum": "4e806b8bb5657226d87d11287aa320a6",
     "grade": false,
     "grade_id": "cell-2eee1d6839620222",
     "locked": true,
     "schema_version": 1,
     "solution": false
    }
   },
   "source": [
    "#### Problem 6\n",
    "##### Wilcoxon test\n",
    "The $t$-test assumes that the underlying data are normally distributed. In cases where this assumption far from accurate, the test can fail. Consider the $t$ distribution itself, with one degree of freedom:"
   ]
  },
  {
   "cell_type": "code",
   "execution_count": null,
   "metadata": {
    "deletable": false,
    "editable": false,
    "nbgrader": {
     "checksum": "0f493a6d092dbdcb36c8d40f909bcfa4",
     "grade": false,
     "grade_id": "cell-8288610ef73f4d9c",
     "locked": true,
     "schema_version": 1,
     "solution": false
    }
   },
   "outputs": [],
   "source": [
    "set.seed(1)\n",
    "qplot(rt(50, 1), geom=\"histogram\")"
   ]
  },
  {
   "cell_type": "markdown",
   "metadata": {
    "deletable": false,
    "editable": false,
    "nbgrader": {
     "checksum": "e202a8e35425b9a8d9ea0f50d12af12e",
     "grade": false,
     "grade_id": "cell-91c46d295400c1f2",
     "locked": true,
     "schema_version": 1,
     "solution": false
    }
   },
   "source": [
    "This distribution has [heavy tails](https://en.wikipedia.org/wiki/Heavy-tailed_distribution), and in fact, does not even have a theoretical mean. Hence, running the $t$-test will not produce a sensible answer here. We will check this by repeatedly simulating data from this distribution and checking whether the $t$-test would have us reject the null hypothesis at the 5% level. \n",
    "\n",
    "Implement this simulation: for each of 10,000 trials, generate 50 samples from the $t_1$ distribution shown above, and calculate the proportion of times that the $t$ test would have us reject the null hypothesis that the mean equals zero with 95% confidence:"
   ]
  },
  {
   "cell_type": "code",
   "execution_count": null,
   "metadata": {
    "deletable": false,
    "nbgrader": {
     "checksum": "b952e981e54e79dcdf46c09db4b443c2",
     "grade": true,
     "grade_id": "cell-b1813c64d9b9cedd",
     "locked": false,
     "points": 0,
     "schema_version": 1,
     "solution": true
    }
   },
   "outputs": [],
   "source": [
    "set.seed(1)\n",
    "# YOUR CODE HERE\n",
    "stop()"
   ]
  },
  {
   "cell_type": "markdown",
   "metadata": {
    "deletable": false,
    "editable": false,
    "nbgrader": {
     "checksum": "8965bdf360629374869c985db310f677",
     "grade": false,
     "grade_id": "cell-2acf4530ecaf19df",
     "locked": true,
     "schema_version": 1,
     "solution": false
    }
   },
   "source": [
    "Run your simulation a few times to verify that your results are consistent. If the test were properly calibrated, what proportion of the times should we reject the null? How does this compare with the results of your simulation?"
   ]
  },
  {
   "cell_type": "markdown",
   "metadata": {
    "deletable": false,
    "nbgrader": {
     "checksum": "4468ee89b63d1e1d7c6dac1f7a90a1ba",
     "grade": true,
     "grade_id": "cell-53804dd176e87889",
     "locked": false,
     "points": 0,
     "schema_version": 1,
     "solution": true
    }
   },
   "source": [
    "YOUR ANSWER HERE"
   ]
  },
  {
   "cell_type": "markdown",
   "metadata": {
    "deletable": false,
    "editable": false,
    "nbgrader": {
     "checksum": "945d4f35bf024221c20edfb41742c5f5",
     "grade": false,
     "grade_id": "cell-14f9848973fb60e7",
     "locked": true,
     "schema_version": 1,
     "solution": false
    }
   },
   "source": [
    "#### Problem 7\n",
    "\n",
    "To remedy the shortcomings of the $t$-test, Wilcoxon proposed a non-parametric test of a different but related question: is the distribution of $v$ [symmetric about zero](https://en.wikipedia.org/wiki/Symmetric_probability_distribution)? This led him to define the *signed rank test*. The signed rank of $v$ is defined as the rank vector of $|v|$, defined above, times another vector which captures the sign of each entry of $v$:"
   ]
  },
  {
   "cell_type": "code",
   "execution_count": null,
   "metadata": {
    "deletable": false,
    "editable": false,
    "nbgrader": {
     "checksum": "d97ccbf4a938f2a545bb1de3b5737c37",
     "grade": false,
     "grade_id": "cell-6d6d5555eda58a2b",
     "locked": true,
     "schema_version": 1,
     "solution": false
    }
   },
   "outputs": [],
   "source": [
    "v <- c(-1, 2, -3, 4, -5)\n",
    "rank(abs(v))\n",
    "sign(v)\n",
    "\n",
    "signed_rank <- function(v) rank(abs(v)) * sign(v)\n",
    "signed_rank(v)"
   ]
  },
  {
   "cell_type": "markdown",
   "metadata": {
    "deletable": false,
    "editable": false,
    "nbgrader": {
     "checksum": "341d95f32771b1407262b4c7d0921030",
     "grade": false,
     "grade_id": "cell-d957554fd5d39053",
     "locked": true,
     "schema_version": 1,
     "solution": false
    }
   },
   "source": [
    "The intuition behind the signed rank vector is as follows: for a distribution that is symmetric around zero, the mean of the signed ranks should approximately equal zero. \n",
    "\n",
    "The signed rank test is implemented using the function `wilcox.test()`. Re-run the experiment above and verify that Wilcoxon's test is properly calibrated:"
   ]
  },
  {
   "cell_type": "code",
   "execution_count": null,
   "metadata": {
    "deletable": false,
    "nbgrader": {
     "checksum": "76213a3f002f574b5caade2cfcd24e81",
     "grade": true,
     "grade_id": "cell-2b7ffa63c7bd7743",
     "locked": false,
     "points": 0,
     "schema_version": 1,
     "solution": true
    }
   },
   "outputs": [],
   "source": [
    "# YOUR CODE HERE\n",
    "stop()"
   ]
  },
  {
   "cell_type": "markdown",
   "metadata": {
    "deletable": false,
    "editable": false,
    "nbgrader": {
     "checksum": "fded8766a6f2d20f0200a28a19436877",
     "grade": false,
     "grade_id": "cell-d1fe8944f2ab8a19",
     "locked": true,
     "schema_version": 1,
     "solution": false
    }
   },
   "source": [
    "Using the signed-rank transformation and an appropriate model, show that the linear regression produces nearly the same $p$-value as `wilcox.test()` when applied to the vector `x`."
   ]
  },
  {
   "cell_type": "code",
   "execution_count": null,
   "metadata": {
    "deletable": false,
    "nbgrader": {
     "checksum": "1b83e905ab45d8a92dab6d00ad8a834d",
     "grade": true,
     "grade_id": "cell-e3df3904dc191c6f",
     "locked": false,
     "points": 0,
     "schema_version": 1,
     "solution": true
    }
   },
   "outputs": [],
   "source": [
    "# YOUR CODE HERE\n",
    "stop()"
   ]
  },
  {
   "cell_type": "markdown",
   "metadata": {
    "deletable": false,
    "editable": false,
    "nbgrader": {
     "checksum": "4c1d7fca67c0a8a697d88def54d70598",
     "grade": false,
     "grade_id": "cell-401cfa1d418fc9e0",
     "locked": true,
     "schema_version": 1,
     "solution": false
    }
   },
   "source": [
    "#### Problem 8\n",
    "Suppose I want to test whether the means of two random variables are equal. In STATS 250 you saw that the appropriate test for this is Student's $t$-test, or, in the case of unequal variances, Welch's $t$-test. In STATS 306 you learned that these tests are equivalent to inference in certain linear models:"
   ]
  },
  {
   "cell_type": "code",
   "execution_count": null,
   "metadata": {
    "deletable": false,
    "editable": false,
    "nbgrader": {
     "checksum": "7eb003900f3721a40ab0c725f3648e84",
     "grade": false,
     "grade_id": "cell-c467a8ee267992da",
     "locked": true,
     "schema_version": 1,
     "solution": false
    }
   },
   "outputs": [],
   "source": [
    "y1 <- rnorm(100)\n",
    "y2 <- rnorm(100, sd=2) + .1\n",
    "## Student's\n",
    "t.test(y1, y2, var.equal = T)$p.value\n",
    "df <- tibble(y=c(y1, y2), x=factor(c(rep(1, 100), rep(2, 100))))\n",
    "lm(y ~ x, data=df) %>% summary %>% coef"
   ]
  },
  {
   "cell_type": "markdown",
   "metadata": {
    "deletable": false,
    "editable": false,
    "nbgrader": {
     "checksum": "0c05a4d3b3574c01733bb75212a261b8",
     "grade": false,
     "grade_id": "cell-e4f049d179840028",
     "locked": true,
     "schema_version": 1,
     "solution": false
    }
   },
   "source": [
    "The \"rank\" version of the two-sample Student's $t$-test is called the Mann-Whitney U or Wilcoxon rank sum test. It tests the null hypothesis that a sample from one population is equally likely to be larger or smaller than a sample from the second population. (Note again that this is a non-parametric test.)\n",
    "\n",
    "This test is implemented in R by passing *both* vectors to the `wilcox.test()` function:"
   ]
  },
  {
   "cell_type": "code",
   "execution_count": null,
   "metadata": {
    "deletable": false,
    "editable": false,
    "nbgrader": {
     "checksum": "f1a2c5aa52705b7a8303c3c2e0a0edda",
     "grade": false,
     "grade_id": "cell-06a4cf2a50169138",
     "locked": true,
     "schema_version": 1,
     "solution": false
    }
   },
   "outputs": [],
   "source": [
    "wilcox.test(y1, y2) %>% print"
   ]
  },
  {
   "cell_type": "markdown",
   "metadata": {
    "deletable": false,
    "editable": false,
    "nbgrader": {
     "checksum": "f1862661883ab97b58df97432fb7b2ed",
     "grade": false,
     "grade_id": "cell-ea90650d784f950d",
     "locked": true,
     "schema_version": 1,
     "solution": false
    }
   },
   "source": [
    "Verify that by rank-transforming the data and running an appropriate regression, you get the same $p$-value from the linear model as from the specialized `wilcox.test()` command."
   ]
  },
  {
   "cell_type": "code",
   "execution_count": null,
   "metadata": {
    "deletable": false,
    "nbgrader": {
     "checksum": "d89f51640d636fb1887394da18d1aa33",
     "grade": true,
     "grade_id": "cell-53950101b9fcd6c3",
     "locked": false,
     "points": 0,
     "schema_version": 1,
     "solution": true
    }
   },
   "outputs": [],
   "source": [
    "# YOUR CODE HERE\n",
    "stop()"
   ]
  },
  {
   "cell_type": "markdown",
   "metadata": {
    "deletable": false,
    "editable": false,
    "nbgrader": {
     "checksum": "a8c00a5aa1ed236c9f1c61d28c217618",
     "grade": false,
     "grade_id": "cell-905900fedf9e0a27",
     "locked": true,
     "schema_version": 1,
     "solution": false
    }
   },
   "source": [
    "#### Problem 9\n",
    "##### ANOVA\n",
    "The analysis of variance (ANOVA) is a method for testing whether the means of two or more populations are equal. It is implemented using the command `aov()`."
   ]
  },
  {
   "cell_type": "code",
   "execution_count": null,
   "metadata": {
    "deletable": false,
    "editable": false,
    "nbgrader": {
     "checksum": "58cace9be9e9a134bfc6e6781346b760",
     "grade": false,
     "grade_id": "cell-40aa7499952a11db",
     "locked": true,
     "schema_version": 1,
     "solution": false
    }
   },
   "outputs": [],
   "source": [
    "df <- tibble(x = c(rnorm(100), rnorm(100), rnorm(100) + .2),\n",
    "             pop = c(rep(\"a\", 100), rep(\"b\", 100), rep(\"c\", 100)))"
   ]
  },
  {
   "cell_type": "markdown",
   "metadata": {
    "deletable": false,
    "editable": false,
    "nbgrader": {
     "checksum": "333f9b83f288ae80bff31c29e87e7c4d",
     "grade": false,
     "grade_id": "cell-5c322000108f5fea",
     "locked": true,
     "schema_version": 1,
     "solution": false
    }
   },
   "source": [
    "This toy data frame has three populations, \"a\", \"b\", and \"c\", each with one hundred observations. The means of populations \"a\" and \"b\" are equal, while the mean of population \"c\" is slightly higher:"
   ]
  },
  {
   "cell_type": "code",
   "execution_count": null,
   "metadata": {
    "deletable": false,
    "editable": false,
    "nbgrader": {
     "checksum": "d3157157cc664661d9015390ce7a280b",
     "grade": false,
     "grade_id": "cell-068646e1838820bf",
     "locked": true,
     "schema_version": 1,
     "solution": false
    }
   },
   "outputs": [],
   "source": [
    "df %>% group_by(pop) %>% summarize(mean(x))"
   ]
  },
  {
   "cell_type": "markdown",
   "metadata": {
    "deletable": false,
    "editable": false,
    "nbgrader": {
     "checksum": "e3c8db98dd633f92bcbe56499d47488a",
     "grade": false,
     "grade_id": "cell-eb078b8cc5b769c7",
     "locked": true,
     "schema_version": 1,
     "solution": false
    }
   },
   "source": [
    "ANOVA is designed to test whether the means of these populations are different:"
   ]
  },
  {
   "cell_type": "code",
   "execution_count": null,
   "metadata": {
    "deletable": false,
    "editable": false,
    "nbgrader": {
     "checksum": "80bd4cbb4d4c144b94a87e019a676dfd",
     "grade": false,
     "grade_id": "cell-5796d2331289ee69",
     "locked": true,
     "schema_version": 1,
     "solution": false
    }
   },
   "outputs": [],
   "source": [
    "aov(x ~ pop, df) %>% summary"
   ]
  },
  {
   "cell_type": "markdown",
   "metadata": {
    "deletable": false,
    "editable": false,
    "nbgrader": {
     "checksum": "3f8d1422f37aaa709e2d701604d81d91",
     "grade": false,
     "grade_id": "cell-11bceebf87d9a861",
     "locked": true,
     "schema_version": 1,
     "solution": false
    }
   },
   "source": [
    "Show that the $p$-value reported by ANOVA is exactly the same as that reported by an appropriate linear regression (hint: consider the null hypothesis that the true model is the intercept-only model.) Additionally, show that with only two populations, ANOVA is identical to the $t$-test."
   ]
  },
  {
   "cell_type": "code",
   "execution_count": null,
   "metadata": {
    "deletable": false,
    "nbgrader": {
     "checksum": "511eb77587f719466a694390748d21d3",
     "grade": true,
     "grade_id": "cell-04b7e83ed652df20",
     "locked": false,
     "points": 0,
     "schema_version": 1,
     "solution": true
    }
   },
   "outputs": [],
   "source": [
    "# YOUR CODE HERE\n",
    "stop()"
   ]
  },
  {
   "cell_type": "markdown",
   "metadata": {
    "deletable": false,
    "editable": false,
    "nbgrader": {
     "checksum": "eb4c5aaf472910a77d04d40f44f03236",
     "grade": false,
     "grade_id": "cell-65ecba2f5970c35a",
     "locked": true,
     "schema_version": 1,
     "solution": false
    }
   },
   "source": [
    "#### Problem 10\n",
    "As you might have guessed by now, there is a non-parametric version of ANOVA that operates on ranks. It's called the Kruskal-Wallis test, and is designed for situations where the assumptions of ANOVA (normally distributed residuals, equivalent to linear regression) are not appropriate. To investigate this test, we will regenerate the data frame from the previous exercise, this time using $t$-distributed random variables instead of normally-distributed variables:"
   ]
  },
  {
   "cell_type": "code",
   "execution_count": null,
   "metadata": {
    "deletable": false,
    "editable": false,
    "nbgrader": {
     "checksum": "21abc7ce38cdcb2dad235d7c1e84909c",
     "grade": false,
     "grade_id": "cell-bc269cc84abeea7c",
     "locked": true,
     "schema_version": 1,
     "solution": false
    }
   },
   "outputs": [],
   "source": [
    "set.seed(1)\n",
    "df <- tibble(x = c(rt(100,2), rt(100,2), rt(100,2) + .5),\n",
    "             pop = c(rep(\"a\", 100), rep(\"b\", 100), rep(\"c\", 100)))"
   ]
  },
  {
   "cell_type": "markdown",
   "metadata": {
    "deletable": false,
    "editable": false,
    "nbgrader": {
     "checksum": "d508c028e7f7fd52b9b2fd55f8511931",
     "grade": false,
     "grade_id": "cell-ca5909e199df1c03",
     "locked": true,
     "schema_version": 1,
     "solution": false
    }
   },
   "source": [
    "ANOVA will generally fail to reject in this setting:"
   ]
  },
  {
   "cell_type": "code",
   "execution_count": null,
   "metadata": {
    "deletable": false,
    "editable": false,
    "nbgrader": {
     "checksum": "43b1d6716a63ca99e6a3c6a1566c2d7e",
     "grade": false,
     "grade_id": "cell-e753c415a844ae54",
     "locked": true,
     "schema_version": 1,
     "solution": false
    }
   },
   "outputs": [],
   "source": [
    "aov(x ~ pop, df) %>% summary"
   ]
  },
  {
   "cell_type": "markdown",
   "metadata": {
    "deletable": false,
    "editable": false,
    "nbgrader": {
     "checksum": "44ba496a242ecff167a01a03b263f1ae",
     "grade": false,
     "grade_id": "cell-c6184372aeb07d9b",
     "locked": true,
     "schema_version": 1,
     "solution": false
    }
   },
   "source": [
    "On the other hand, the Kruskal test correctly rejects the null:"
   ]
  },
  {
   "cell_type": "code",
   "execution_count": null,
   "metadata": {
    "deletable": false,
    "editable": false,
    "nbgrader": {
     "checksum": "4deaa353dea31597e7790fabc7af6eab",
     "grade": false,
     "grade_id": "cell-68bb96224a8419fc",
     "locked": true,
     "schema_version": 1,
     "solution": false
    }
   },
   "outputs": [],
   "source": [
    "dfa <- filter(df, pop == \"a\")$x\n",
    "dfb <- filter(df, pop == \"b\")$x\n",
    "dfc <- filter(df, pop == \"c\")$x\n",
    "kruskal.test(list(dfa, dfb, dfc))"
   ]
  },
  {
   "cell_type": "markdown",
   "metadata": {
    "deletable": false,
    "editable": false,
    "nbgrader": {
     "checksum": "0b9c5e627f723ce0e112d553e7b0ed47",
     "grade": false,
     "grade_id": "cell-087383c00084f63b",
     "locked": true,
     "schema_version": 1,
     "solution": false
    }
   },
   "source": [
    "Show that the Kruskal-Wallis p-values are *almost* the same as what you get using the rank transformation and an appropriate linear model."
   ]
  },
  {
   "cell_type": "code",
   "execution_count": null,
   "metadata": {
    "deletable": false,
    "nbgrader": {
     "checksum": "efe02498da587519beac6dd6fcb3150e",
     "grade": false,
     "grade_id": "cell-9ce7f501e2b13ef1",
     "locked": false,
     "schema_version": 1,
     "solution": true
    }
   },
   "outputs": [],
   "source": [
    "# YOUR CODE HERE\n",
    "stop()"
   ]
  }
 ],
 "metadata": {
  "kernelspec": {
   "display_name": "R",
   "language": "R",
   "name": "ir"
  },
  "language_info": {
   "codemirror_mode": "r",
   "file_extension": ".r",
   "mimetype": "text/x-r-source",
   "name": "R",
   "pygments_lexer": "r",
   "version": "3.5.2"
  }
 },
 "nbformat": 4,
 "nbformat_minor": 2
}
