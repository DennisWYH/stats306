{
 "cells": [
  {
   "cell_type": "code",
   "execution_count": 4,
   "metadata": {
    "slideshow": {
     "slide_type": "notes"
    }
   },
   "outputs": [
    {
     "name": "stderr",
     "output_type": "stream",
     "text": [
      "── Attaching packages ─────────────────────────────────────── tidyverse 1.2.1 ──\n",
      "✔ ggplot2 2.2.1     ✔ purrr   0.2.4\n",
      "✔ tibble  1.3.4     ✔ dplyr   0.7.4\n",
      "✔ tidyr   0.7.2     ✔ stringr 1.2.0\n",
      "✔ readr   1.1.1     ✔ forcats 0.2.0\n",
      "── Conflicts ────────────────────────────────────────── tidyverse_conflicts() ──\n",
      "✖ dplyr::filter()  masks stats::filter()\n",
      "✖ purrr::flatten() masks jsonlite::flatten()\n",
      "✖ dplyr::lag()     masks stats::lag()\n"
     ]
    }
   ],
   "source": [
    "library(tidyverse)\n",
    "library(nycflights13)"
   ]
  },
  {
   "cell_type": "markdown",
   "metadata": {
    "slideshow": {
     "slide_type": "slide"
    }
   },
   "source": [
    "# Lecture 16: More on functional programming"
   ]
  },
  {
   "cell_type": "markdown",
   "metadata": {
    "slideshow": {
     "slide_type": "slide"
    }
   },
   "source": [
    "## Review questions\n",
    "A couple of things that came up in OH and on Canvas:"
   ]
  },
  {
   "cell_type": "markdown",
   "metadata": {
    "slideshow": {
     "slide_type": "slide"
    }
   },
   "source": [
    "### `while` vs. `for`\n",
    "There were some questions in OH about `while` versus `for`. They are almost the same:\n",
    "```{r}\n",
    "for (i in 1:n) {\n",
    "    <body>\n",
    "}\n",
    "```\n",
    "is the same as \n",
    "```{r}\n",
    "i = 1\n",
    "while (i <= n) {\n",
    "    <body>\n",
    "    i = i + 1\n",
    "}\n",
    "```"
   ]
  },
  {
   "cell_type": "markdown",
   "metadata": {
    "slideshow": {
     "slide_type": "slide"
    }
   },
   "source": [
    "### Anonymous functions\n",
    "An anonymous function is (literally) a function with no name. Some of the test cases on PS7 use this, e.g.:\n",
    "```{r}\n",
    "stopifnot(near(int01(function(x) x), 0.5))\n",
    "#                    ^^^^^^^^^^^^^\n",
    "#                 anonymous function\n",
    "```\n",
    "You should generally only use these for small, simple functions (max 1 line, no `{}` braces)."
   ]
  },
  {
   "cell_type": "markdown",
   "metadata": {
    "slideshow": {
     "slide_type": "slide"
    }
   },
   "source": [
    "## The `walk` function\n",
    "The `walk(v, f)` function is like `map()` in that it repeatedly calls `f` for each element of the sequence `v`. However, instead of returning the vector of outputs it returns the first argument, `v`. This is useful when you only care about a side-effect of `f`, and want to use it in a pipeline."
   ]
  },
  {
   "cell_type": "markdown",
   "metadata": {
    "slideshow": {
     "slide_type": "slide"
    }
   },
   "source": [
    "### Example\n",
    "Use `walk` to print a summary of each column of `mpg`:"
   ]
  },
  {
   "cell_type": "code",
   "execution_count": 103,
   "metadata": {},
   "outputs": [
    {
     "name": "stderr",
     "output_type": "stream",
     "text": [
      "Warning message:\n",
      "“Deprecated”Warning message:\n",
      "“Deprecated”Warning message:\n",
      "“Deprecated”Warning message:\n",
      "“Deprecated”Warning message:\n",
      "“Deprecated”Warning message:\n",
      "“Deprecated”Warning message:\n",
      "“Deprecated”Warning message:\n",
      "“Deprecated”Warning message:\n",
      "“Deprecated”Warning message:\n",
      "“Deprecated”Warning message:\n",
      "“Deprecated”"
     ]
    },
    {
     "name": "stdout",
     "output_type": "stream",
     "text": [
      "  0%  25%  50%  75% 100% \n",
      " 1.6  2.4  3.3  4.6  7.0 \n",
      "    0%    25%    50%    75%   100% \n",
      "1999.0 1999.0 2003.5 2008.0 2008.0 \n",
      "  0%  25%  50%  75% 100% \n",
      "   4    4    6    8    8 \n",
      "  0%  25%  50%  75% 100% \n",
      "   9   14   17   19   35 \n",
      "  0%  25%  50%  75% 100% \n",
      "  12   18   24   27   44 \n"
     ]
    }
   ],
   "source": [
    "mpg %>% keep(is_numeric) %>% walk(~ print(quantile(.)))"
   ]
  },
  {
   "cell_type": "markdown",
   "metadata": {
    "slideshow": {
     "slide_type": "slide"
    }
   },
   "source": [
    "## Iterating over multiple sequences at once\n",
    "Sometimes we want to iterate over multiple sequences. For example, suppose we had a vector `mu` of means and an equal length vector `sigma` of standard deviations. For each pair `mu[[i]],sigma[[i]]` we would like to generate a five standard normal random variable using `rnorm`."
   ]
  },
  {
   "cell_type": "markdown",
   "metadata": {
    "slideshow": {
     "slide_type": "slide"
    }
   },
   "source": [
    "Using `map`, we could accomplish this by"
   ]
  },
  {
   "cell_type": "code",
   "execution_count": 192,
   "metadata": {
    "slideshow": {
     "slide_type": "-"
    }
   },
   "outputs": [
    {
     "name": "stdout",
     "output_type": "stream",
     "text": [
      "List of 3\n",
      " $ : num [1:5] 5.81 3.03 5.24 3.33 5.01\n",
      " $ : num [1:5] 9.92 7.6 10.6 12.18 11.31\n",
      " $ : num [1:5] -1.65 2.76 -9.31 -2.73 -2.87\n"
     ]
    }
   ],
   "source": [
    "mu = list(5, 10, -3)\n",
    "sigma = list(1, 5, 10)\n",
    "seq_along(mu) %>% \n",
    "  map(~rnorm(5, mu[[.]], sigma[[.]])) %>% \n",
    "  str()"
   ]
  },
  {
   "cell_type": "markdown",
   "metadata": {
    "slideshow": {
     "slide_type": "notes"
    }
   },
   "source": [
    "Because we don't yet know how to `map` over more than one sequence at a time, we are forced to \"hack it\" by iterating over `seq_along(mu)`. This hides the true intent of what we set out to accomplish, which is to perform a map over *pairs* of `(mu[i], sigma[i])`."
   ]
  },
  {
   "cell_type": "markdown",
   "metadata": {
    "slideshow": {
     "slide_type": "slide"
    }
   },
   "source": [
    "To iterate over two sequences at once we have the `map2` command:\n",
    "```{r}\n",
    "map2(seq1, seq2, f, ...)\n",
    "```\n",
    "will call `f(seq1[[i]], seq2[[i]], ...)` for each value of `i`. Indeed, `map2` is equivalent to:\n",
    "```{r}\n",
    "map2 <- function(x, y, f, ...) {\n",
    "  out <- vector(\"list\", length(x))\n",
    "  for (i in seq_along(x)) {\n",
    "    out[[i]] <- f(x[[i]], y[[i]], ...)\n",
    "  }\n",
    "  out\n",
    "}\n",
    "```"
   ]
  },
  {
   "cell_type": "markdown",
   "metadata": {
    "slideshow": {
     "slide_type": "slide"
    }
   },
   "source": [
    "`map2` lets us succinctly rewrite the sampling code given above:"
   ]
  },
  {
   "cell_type": "code",
   "execution_count": 196,
   "metadata": {},
   "outputs": [
    {
     "data": {
      "text/plain": [
       "[[1]]\n",
       "[1] 5.447983 5.446291 5.066780 5.075793 4.059494\n",
       "\n",
       "[[2]]\n",
       "[1]  3.518528 19.366107  7.197257  5.081700 20.487066\n",
       "\n",
       "[[3]]\n",
       "[1] -9.655409  8.922227  4.592133  4.237675 -1.451280\n"
      ]
     },
     "metadata": {},
     "output_type": "display_data"
    }
   ],
   "source": [
    "map2(mu, sigma, rnorm, n = 5)"
   ]
  },
  {
   "cell_type": "markdown",
   "metadata": {
    "slideshow": {
     "slide_type": "slide"
    }
   },
   "source": [
    "We can map over arbitrarily many sequences using `pmap`. The first argument of `pmap` is a list of sequences, and the second is a function:"
   ]
  },
  {
   "cell_type": "code",
   "execution_count": 201,
   "metadata": {},
   "outputs": [
    {
     "data": {
      "text/plain": [
       "[[1]]\n",
       "[1] 5.404549 5.931190 5.489289 6.243161 4.969922\n",
       "\n",
       "[[2]]\n",
       "[1] 11.36999 10.78532 16.00125 16.17708 12.38797\n",
       "\n",
       "[[3]]\n",
       "[1] 11.84802  2.68887 13.69661 11.51808 11.91021\n"
      ]
     },
     "metadata": {},
     "output_type": "display_data"
    }
   ],
   "source": [
    "pmap(list(mu, sigma), rnorm, n = 5)"
   ]
  },
  {
   "cell_type": "markdown",
   "metadata": {
    "slideshow": {
     "slide_type": "slide"
    }
   },
   "source": [
    "```{r}\n",
    "pmap(list(mu, sigma), rnorm, n = 5)\n",
    "```\n",
    "will call `rnorm(mu[[i]], sigma[[i]], n=5)`. This relies on the correct ordering of the `mu` and `sigma` options to `rnorm`. To prevent errors, you can name each sequence in the first argument:\n",
    "```{r}\n",
    "pmap(list(mu=mu, sigma=sigma, n=5), rnorm)\n",
    "```\n",
    "will call `rnorm(mu=mu[[i]], sigma=sigma[[i]], n=5)` using named parameters. This is a bit safer so I recommend using this form."
   ]
  },
  {
   "cell_type": "markdown",
   "metadata": {
    "slideshow": {
     "slide_type": "slide"
    }
   },
   "source": [
    "## Predicates\n",
    "Predicates are functions that allow you to filter out elements of sequences based on a condition. The `keep(f)` command will return a new sequence consisting of each element where `f` evaluates to `TRUE`:"
   ]
  },
  {
   "cell_type": "code",
   "execution_count": 95,
   "metadata": {},
   "outputs": [
    {
     "name": "stdout",
     "output_type": "stream",
     "text": [
      "# A tibble: 234 x 4\n",
      "    year   cyl   cty   hwy\n",
      "   <int> <int> <int> <int>\n",
      " 1  1999     4    18    29\n",
      " 2  1999     4    21    29\n",
      " 3  2008     4    20    31\n",
      " 4  2008     4    21    30\n",
      " 5  1999     6    16    26\n",
      " 6  1999     6    18    26\n",
      " 7  2008     6    18    27\n",
      " 8  1999     4    18    26\n",
      " 9  1999     4    16    25\n",
      "10  2008     4    20    28\n",
      "# ... with 224 more rows\n"
     ]
    }
   ],
   "source": [
    "mpg %>% keep(is_integer) %>% print"
   ]
  },
  {
   "cell_type": "markdown",
   "metadata": {
    "slideshow": {
     "slide_type": "slide"
    }
   },
   "source": [
    "`discard()` does the opposite of `keep()`:"
   ]
  },
  {
   "cell_type": "code",
   "execution_count": 37,
   "metadata": {},
   "outputs": [
    {
     "name": "stdout",
     "output_type": "stream",
     "text": [
      "# A tibble: 234 x 7\n",
      "   manufacturer      model displ      trans   drv    fl   class\n",
      "          <chr>      <chr> <dbl>      <chr> <chr> <chr>   <chr>\n",
      " 1         audi         a4   1.8   auto(l5)     f     p compact\n",
      " 2         audi         a4   1.8 manual(m5)     f     p compact\n",
      " 3         audi         a4   2.0 manual(m6)     f     p compact\n",
      " 4         audi         a4   2.0   auto(av)     f     p compact\n",
      " 5         audi         a4   2.8   auto(l5)     f     p compact\n",
      " 6         audi         a4   2.8 manual(m5)     f     p compact\n",
      " 7         audi         a4   3.1   auto(av)     f     p compact\n",
      " 8         audi a4 quattro   1.8 manual(m5)     4     p compact\n",
      " 9         audi a4 quattro   1.8   auto(l5)     4     p compact\n",
      "10         audi a4 quattro   2.0 manual(m6)     4     p compact\n",
      "# ... with 224 more rows\n"
     ]
    }
   ],
   "source": [
    "mpg %>% discard(is_integer) %>% print"
   ]
  },
  {
   "cell_type": "markdown",
   "metadata": {
    "slideshow": {
     "slide_type": "notes"
    }
   },
   "source": [
    "Again, these examples work because *data frames/tibble are lists*."
   ]
  },
  {
   "cell_type": "markdown",
   "metadata": {
    "slideshow": {
     "slide_type": "slide"
    }
   },
   "source": [
    "`detect(f)` and `detect_index(f)` return the first element (or its index) where `f` evaluates to `TRUE`:"
   ]
  },
  {
   "cell_type": "code",
   "execution_count": 54,
   "metadata": {},
   "outputs": [
    {
     "data": {
      "text/plain": [
       "[1] 2.329436"
      ]
     },
     "metadata": {},
     "output_type": "display_data"
    }
   ],
   "source": [
    "rnorm(1000) %>% detect(~ . > 2)"
   ]
  },
  {
   "cell_type": "code",
   "execution_count": 27,
   "metadata": {},
   "outputs": [
    {
     "data": {
      "text/plain": [
       "[1] 20"
      ]
     },
     "metadata": {},
     "output_type": "display_data"
    }
   ],
   "source": [
    "rnorm(1000) %>% detect_index(~ abs(.) > 2)"
   ]
  },
  {
   "cell_type": "markdown",
   "metadata": {
    "slideshow": {
     "slide_type": "slide"
    }
   },
   "source": [
    "## The `reduce` function\n",
    "The last bit of functional programminng we will study is `reduce()`. The reduce function takes a “binary” function (i.e. a function with two primary inputs), and applies it repeatedly to a list until there is only a single element left. This takes a little bit of getting used to, but ends up being very powerful."
   ]
  },
  {
   "cell_type": "markdown",
   "metadata": {
    "slideshow": {
     "slide_type": "slide"
    }
   },
   "source": [
    "Let's take a simple example: summing up numbers. If I wanted to add the numbers 1 through 10 I could of course type `sum(1:10)` and get `55`. Suppose I did not know about sum. I could also write:\n",
    "\n",
    "```{r}\n",
    "> 1 + 2 + 3 + 4 + 5 + 6 + 7 + 8 + 9 + 10\n",
    "[1] 55\n",
    "```"
   ]
  },
  {
   "cell_type": "markdown",
   "metadata": {
    "slideshow": {
     "slide_type": "slide"
    }
   },
   "source": [
    "We can rewrite this sum as \n",
    "```{r}\n",
    "> 1 + (2 + (3 + (4 + (5 + (6 + (7 + (8 + (9 + 10))))))))\n",
    "[1] 55\n",
    "```\n",
    "Now the sum is in the form \n",
    "\n",
    "$$f(1, f(2, f(3, f(4, f(5, f(6, f(7, f(8, f(9, 10)))))))))$$ \n",
    "\n",
    "for $f(x,y) = x + y$."
   ]
  },
  {
   "cell_type": "markdown",
   "metadata": {
    "slideshow": {
     "slide_type": "notes"
    }
   },
   "source": [
    "Obviously this is a silly thing to do for computing a simple sum, but the pattern of repeatedly applying a binary function $f(x,y)$, where $y$ is the output from a previous application of the function, actually turns up a lot in programming. The `reduce` function accomplishes this for us:"
   ]
  },
  {
   "cell_type": "code",
   "execution_count": 75,
   "metadata": {
    "slideshow": {
     "slide_type": "slide"
    }
   },
   "outputs": [
    {
     "data": {
      "text/plain": [
       "[1] 55"
      ]
     },
     "metadata": {},
     "output_type": "display_data"
    }
   ],
   "source": [
    "reduce(1:10, `+`)"
   ]
  },
  {
   "cell_type": "markdown",
   "metadata": {},
   "source": [
    "## `accumulate`\n",
    "A closely related variant of `reduce` is `accumulate`. In the above example, instead of returning \n",
    "\n",
    "$$f(1, f(2, f(3, f(4, f(5, f(6, f(7, f(8, f(9, 10))))))))),$$ \n",
    "\n",
    "accumulate would return a *vector* containing\n",
    "all of the partially evaluated sums:\n",
    "\n",
    "$$\\texttt{accumulate(f, 1:10)} = (f(1, 2), f(3, f(1, 2)), f(4, f(3, f(1, 2))), \\dots)$$"
   ]
  },
  {
   "cell_type": "code",
   "execution_count": 21,
   "metadata": {},
   "outputs": [
    {
     "data": {
      "text/plain": [
       " [1]  1  3  6 10 15 21 28 36 45 55"
      ]
     },
     "metadata": {},
     "output_type": "display_data"
    }
   ],
   "source": [
    "1:10 %>% accumulate(`+`)"
   ]
  },
  {
   "cell_type": "markdown",
   "metadata": {
    "slideshow": {
     "slide_type": "slide"
    }
   },
   "source": [
    "### Example\n",
    "Suppose we have a list of vectors $(v_1,\\dots,v_n)$ and we want to find their intersection. Mathematically this equals $$I_n:=\\bigcap_{i=1}^n v_n=v_n\\cap I_{n-1},$$ so we can use reduce to compute it:"
   ]
  },
  {
   "cell_type": "code",
   "execution_count": 77,
   "metadata": {},
   "outputs": [
    {
     "data": {
      "text/plain": [
       "[1]  1  3 10"
      ]
     },
     "metadata": {},
     "output_type": "display_data"
    }
   ],
   "source": [
    "vs = list(\n",
    "  c(1, 3, 5, 6, 10),\n",
    "  c(1, 2, 3, 7, 8, 10),\n",
    "  c(1, 2, 3, 4, 8, 9, 10)\n",
    ")\n",
    "vs %>% reduce(intersect)"
   ]
  },
  {
   "cell_type": "markdown",
   "metadata": {
    "slideshow": {
     "slide_type": "slide"
    }
   },
   "source": [
    "### Example\n",
    "Let's say we want to concatenate together a bunch of strings, and because we haven't been coming to lecture we don't know about `str_c`. In fact, we only know about the following function which concatenates just two strings at a time:"
   ]
  },
  {
   "cell_type": "code",
   "execution_count": 14,
   "metadata": {},
   "outputs": [],
   "source": [
    "cat2 = function(x, y, ...) {\n",
    "    paste0(x, y, ...)\n",
    "}"
   ]
  },
  {
   "cell_type": "markdown",
   "metadata": {},
   "source": [
    "Use `cat2` and `reduce` to build a function which will concatenate whole vectors of strings together."
   ]
  },
  {
   "cell_type": "markdown",
   "metadata": {
    "slideshow": {
     "slide_type": "slide"
    }
   },
   "source": [
    "Let's think about what our new function will do. If we pass it the vector `c('a','b','c','d')` we should get back the string `'abcd'`. We could accomplish this using `cat2`:"
   ]
  },
  {
   "cell_type": "code",
   "execution_count": 15,
   "metadata": {},
   "outputs": [
    {
     "data": {
      "text/plain": [
       "[1] \"abcd\""
      ]
     },
     "metadata": {},
     "output_type": "display_data"
    }
   ],
   "source": [
    "v = c('a', 'b', 'c', 'd')\n",
    "cat2(cat2(cat2(v[1], v[2]), v[3]), v[4])"
   ]
  },
  {
   "cell_type": "markdown",
   "metadata": {
    "slideshow": {
     "slide_type": "slide"
    }
   },
   "source": [
    "This pattern suggests how we might use `reduce`:"
   ]
  },
  {
   "cell_type": "code",
   "execution_count": 18,
   "metadata": {},
   "outputs": [
    {
     "data": {
      "text/plain": [
       "[1] \"abcd\""
      ]
     },
     "metadata": {},
     "output_type": "display_data"
    }
   ],
   "source": [
    "v %>% reduce(cat2)"
   ]
  },
  {
   "cell_type": "markdown",
   "metadata": {
    "slideshow": {
     "slide_type": "slide"
    }
   },
   "source": [
    "### Example\n",
    "Given a vector $v$, the *cumulative product* of $v$ is a vector $p$ such that $$p_j = \\prod_{i=1}^j v_i.$$\n",
    "For example, the cumulative product of $(1,2,3,4)$ is $(1,2,6,24)$ (i.e. the factorials). \n",
    "\n",
    "Use `accumulate` to write a function `cumprod(v)` that computes the cumulative product."
   ]
  },
  {
   "cell_type": "code",
   "execution_count": 24,
   "metadata": {},
   "outputs": [],
   "source": [
    "# cumprod(v)"
   ]
  },
  {
   "cell_type": "markdown",
   "metadata": {
    "slideshow": {
     "slide_type": "slide"
    }
   },
   "source": [
    "## Closures\n",
    "When we create a function\n",
    "```{r}\n",
    "f = function(x) {\n",
    "    <do somethings with x>\n",
    "}\n",
    "```\n",
    "that function has access to:\n",
    "- all of the variables defined inside the function (its arguments plus whatever other variables we create in the body of the function), *as well as*\n",
    "- all of the variables defined \"outside\" the function."
   ]
  },
  {
   "cell_type": "markdown",
   "metadata": {
    "slideshow": {
     "slide_type": "slide"
    }
   },
   "source": [
    "Example:"
   ]
  },
  {
   "cell_type": "code",
   "execution_count": 29,
   "metadata": {},
   "outputs": [],
   "source": [
    "y = 1\n",
    "f = function(x) {\n",
    "    x + y\n",
    "}"
   ]
  },
  {
   "cell_type": "markdown",
   "metadata": {
    "slideshow": {
     "slide_type": "slide"
    }
   },
   "source": [
    "Now `f` is a function that will add one to its argument:"
   ]
  },
  {
   "cell_type": "code",
   "execution_count": 30,
   "metadata": {},
   "outputs": [
    {
     "data": {
      "text/plain": [
       "[1] 2"
      ]
     },
     "metadata": {},
     "output_type": "display_data"
    }
   ],
   "source": [
    "f(1)"
   ]
  },
  {
   "cell_type": "markdown",
   "metadata": {
    "slideshow": {
     "slide_type": "slide"
    }
   },
   "source": [
    "In fact, we can change the behavior of `f` by changing `y`. Observe:"
   ]
  },
  {
   "cell_type": "code",
   "execution_count": 34,
   "metadata": {},
   "outputs": [
    {
     "data": {
      "text/plain": [
       "[1] 3"
      ]
     },
     "metadata": {},
     "output_type": "display_data"
    }
   ],
   "source": [
    "y = 2\n",
    "f(1)  # now f adds 2 to x"
   ]
  },
  {
   "cell_type": "code",
   "execution_count": 35,
   "metadata": {},
   "outputs": [
    {
     "data": {
      "text/plain": [
       "[1] NA"
      ]
     },
     "metadata": {},
     "output_type": "display_data"
    }
   ],
   "source": [
    "y = NA\n",
    "f(1) "
   ]
  },
  {
   "cell_type": "markdown",
   "metadata": {
    "slideshow": {
     "slide_type": "notes"
    }
   },
   "source": [
    "In this example `f` is what's called a *closure*, because it *encloses* all the variables defined outside of `f`, as well as those defined inside of it."
   ]
  },
  {
   "cell_type": "markdown",
   "metadata": {
    "slideshow": {
     "slide_type": "slide"
    }
   },
   "source": [
    "Closures become useful when we think about creating functions inside of other functions:"
   ]
  },
  {
   "cell_type": "code",
   "execution_count": 47,
   "metadata": {},
   "outputs": [],
   "source": [
    "power = function(exponent) {\n",
    "  function(x) {\n",
    "    x ^ exponent\n",
    "  }\n",
    "}\n",
    "square = power(2)\n",
    "cube = power(3)"
   ]
  },
  {
   "cell_type": "markdown",
   "metadata": {
    "slideshow": {
     "slide_type": "slide"
    }
   },
   "source": [
    "What is `square` now? It's a function:"
   ]
  },
  {
   "cell_type": "code",
   "execution_count": 49,
   "metadata": {},
   "outputs": [
    {
     "data": {
      "text/plain": [
       "[1] 9"
      ]
     },
     "metadata": {},
     "output_type": "display_data"
    },
    {
     "data": {
      "text/plain": [
       "[1] 64"
      ]
     },
     "metadata": {},
     "output_type": "display_data"
    }
   ],
   "source": [
    "square(3)\n",
    "cube(4)"
   ]
  },
  {
   "cell_type": "markdown",
   "metadata": {
    "slideshow": {
     "slide_type": "slide"
    }
   },
   "source": [
    "As we said, `square` is a closure. The list of variables it encloses is called its *environment*. You can look at this list by using the command of that name:"
   ]
  },
  {
   "cell_type": "code",
   "execution_count": 50,
   "metadata": {},
   "outputs": [
    {
     "data": {
      "text/plain": [
       "function(x) {\n",
       "    x ^ exponent\n",
       "  }\n",
       "<environment: 0x7fe8b18b6958>"
      ]
     },
     "metadata": {},
     "output_type": "display_data"
    },
    {
     "data": {
      "text/plain": [
       "$exponent\n",
       "[1] 2\n"
      ]
     },
     "metadata": {},
     "output_type": "display_data"
    }
   ],
   "source": [
    "square\n",
    "as.list(environment(square))"
   ]
  },
  {
   "cell_type": "code",
   "execution_count": 53,
   "metadata": {},
   "outputs": [
    {
     "data": {
      "text/plain": [
       "$exponent\n",
       "[1] 3\n"
      ]
     },
     "metadata": {},
     "output_type": "display_data"
    }
   ],
   "source": [
    "as.list(environment(cube))"
   ]
  },
  {
   "cell_type": "markdown",
   "metadata": {
    "slideshow": {
     "slide_type": "slide"
    }
   },
   "source": [
    "### Memoization\n",
    "A good use for closures is something called *memoization*. Memoization lets you save the results of a function call for future use. This is very useful in combination with recursion."
   ]
  },
  {
   "cell_type": "markdown",
   "metadata": {
    "slideshow": {
     "slide_type": "notes"
    }
   },
   "source": [
    "To implement memoization, we define a list in the enclosing enviroment of the function we wish to memoize. Then, each time we call the function, we check to see if the value is already saved in the list. If so, we return it; otherwise, we do the computation and store it for future use."
   ]
  },
  {
   "cell_type": "markdown",
   "metadata": {
    "slideshow": {
     "slide_type": "slide"
    }
   },
   "source": [
    "Consider the following recursive function:"
   ]
  },
  {
   "cell_type": "code",
   "execution_count": 54,
   "metadata": {
    "slideshow": {
     "slide_type": "slide"
    }
   },
   "outputs": [],
   "source": [
    "f = function(k) {\n",
    "    if (k <= 2) {\n",
    "        1\n",
    "    } else {\n",
    "        k^2 * f(k - 1) - k * f(k - 2)\n",
    "    }\n",
    "}"
   ]
  },
  {
   "cell_type": "markdown",
   "metadata": {
    "slideshow": {
     "slide_type": "slide"
    }
   },
   "source": [
    "This function is slow to compute for large $k$:"
   ]
  },
  {
   "cell_type": "code",
   "execution_count": 56,
   "metadata": {},
   "outputs": [
    {
     "name": "stdout",
     "output_type": "stream",
     "text": [
      "Unit: microseconds\n",
      "  expr      min       lq       mean   median       uq       max neval\n",
      " f(10)   40.272   42.286   47.87195   44.059   48.437   111.632   100\n",
      " f(20) 5050.245 5298.817 5997.62755 5566.617 6409.959 16303.364   100\n"
     ]
    }
   ],
   "source": [
    "library(microbenchmark)\n",
    "microbenchmark(\n",
    "    f(10),\n",
    "    f(20)\n",
    ") %>% print"
   ]
  },
  {
   "cell_type": "markdown",
   "metadata": {
    "slideshow": {
     "slide_type": "slide"
    }
   },
   "source": [
    "To speed up `f` we will memoize it:"
   ]
  },
  {
   "cell_type": "code",
   "execution_count": 83,
   "metadata": {},
   "outputs": [],
   "source": [
    "memo = rep(NA_real_, 100)\n",
    "fmemo = function(k) {\n",
    "    if (is.na(memo[[k]])) {\n",
    "        ret = NA\n",
    "        if (k <= 2) {\n",
    "            ret = 1\n",
    "        } else {\n",
    "            ret = k^2 * fmemo(k - 1) - k * fmemo(k - 2)\n",
    "        }\n",
    "        memo[[k]] <<- ret\n",
    "    }\n",
    "    memo[[k]]\n",
    "}"
   ]
  },
  {
   "cell_type": "markdown",
   "metadata": {
    "slideshow": {
     "slide_type": "notes"
    }
   },
   "source": [
    "Note the use of the `<<-` operator. This is required in order to make assignments to the enclosed variable `memo`."
   ]
  },
  {
   "cell_type": "code",
   "execution_count": 84,
   "metadata": {
    "slideshow": {
     "slide_type": "slide"
    }
   },
   "outputs": [
    {
     "name": "stdout",
     "output_type": "stream",
     "text": [
      "Unit: nanoseconds\n",
      "      expr     min        lq       mean  median        uq     max neval\n",
      "     f(10)   40148   42348.5   45627.00   43727   46998.0   59960   100\n",
      "     f(20) 5061218 5196638.0 5657780.17 5419740 5844943.0 7511087   100\n",
      " fmemo(10)     532     744.0   85509.24     923    2988.5 8335469   100\n",
      " fmemo(20)     531     702.5    2194.34     918    2534.0   27192   100\n"
     ]
    }
   ],
   "source": [
    "library(microbenchmark)\n",
    "microbenchmark(\n",
    "    f(10),\n",
    "    f(20),\n",
    "    fmemo(10),\n",
    "    fmemo(20)\n",
    ") %>% print"
   ]
  },
  {
   "cell_type": "markdown",
   "metadata": {
    "slideshow": {
     "slide_type": "slide"
    }
   },
   "source": [
    "## Error handling\n",
    "All of the usages of `map` and `reduce` so far have been toy examples with no chance of failure. In real data you will encounter errors. If you do not handle them then your computation will return errors or fail:"
   ]
  },
  {
   "cell_type": "code",
   "execution_count": 10,
   "metadata": {},
   "outputs": [],
   "source": [
    "# error\n",
    "# map_dbl(list(\"a\", -1, 2, 3, 4), log)"
   ]
  },
  {
   "cell_type": "markdown",
   "metadata": {
    "slideshow": {
     "slide_type": "slide"
    }
   },
   "source": [
    "To handle this type of situation, `tidyverse` provides you with the `safely()` command. `safely()` is an adverb: it takes a function (a verb) and returns a modified version. The modified function will never throw an error; instead, it returns a list with two elements:\n",
    "1. `result` is the original result. If there was an error, this will be `NULL`.\n",
    "2. `error` is an error object. If the operation was successful, this will be `NULL`.\n",
    "\n"
   ]
  },
  {
   "cell_type": "code",
   "execution_count": 183,
   "metadata": {
    "slideshow": {
     "slide_type": "slide"
    }
   },
   "outputs": [
    {
     "name": "stderr",
     "output_type": "stream",
     "text": [
      "Warning message in .f(...):\n",
      "“NaNs produced”"
     ]
    },
    {
     "name": "stdout",
     "output_type": "stream",
     "text": [
      "List of 5\n",
      " $ :List of 2\n",
      "  ..$ result: NULL\n",
      "  ..$ error :List of 2\n",
      "  .. ..$ message: chr \"non-numeric argument to mathematical function\"\n",
      "  .. ..$ call   : language log(x = x, base = base)\n",
      "  .. ..- attr(*, \"class\")= chr [1:3] \"simpleError\" \"error\" \"condition\"\n",
      " $ :List of 2\n",
      "  ..$ result: num NaN\n",
      "  ..$ error : NULL\n",
      " $ :List of 2\n",
      "  ..$ result: num 0.693\n",
      "  ..$ error : NULL\n",
      " $ :List of 2\n",
      "  ..$ result: num 1.1\n",
      "  ..$ error : NULL\n",
      " $ :List of 2\n",
      "  ..$ result: num 1.39\n",
      "  ..$ error : NULL\n"
     ]
    }
   ],
   "source": [
    "(res = map(list(\"a\", -1, 2, 3, 4), safely(log))) %>% str"
   ]
  },
  {
   "cell_type": "markdown",
   "metadata": {
    "slideshow": {
     "slide_type": "slide"
    }
   },
   "source": [
    "To get the results we need to extract the `result` attribute from each element of `res`. We already learned how to do this using `map`:"
   ]
  },
  {
   "cell_type": "code",
   "execution_count": 182,
   "metadata": {
    "slideshow": {
     "slide_type": "-"
    }
   },
   "outputs": [
    {
     "name": "stdout",
     "output_type": "stream",
     "text": [
      "List of 5\n",
      " $ : NULL\n",
      " $ : num NaN\n",
      " $ : num 0.693\n",
      " $ : num 1.1\n",
      " $ : num 1.39\n"
     ]
    }
   ],
   "source": [
    "map(res, \"result\") %>% str"
   ]
  },
  {
   "cell_type": "markdown",
   "metadata": {
    "slideshow": {
     "slide_type": "slide"
    }
   },
   "source": [
    "Alternatively, thinking of `res` as a matrix with two columns, we can transpose `res` and take the `result` attribute:"
   ]
  },
  {
   "cell_type": "code",
   "execution_count": 181,
   "metadata": {},
   "outputs": [
    {
     "name": "stdout",
     "output_type": "stream",
     "text": [
      "List of 5\n",
      " $ : NULL\n",
      " $ : num NaN\n",
      " $ : num 0.693\n",
      " $ : num 1.1\n",
      " $ : num 1.39\n"
     ]
    }
   ],
   "source": [
    "transpose(res)$result %>% str"
   ]
  },
  {
   "cell_type": "markdown",
   "metadata": {
    "slideshow": {
     "slide_type": "slide"
    }
   },
   "source": [
    "The related command `possibly` will return a default value wherever an error is encountered:"
   ]
  },
  {
   "cell_type": "code",
   "execution_count": 180,
   "metadata": {},
   "outputs": [
    {
     "name": "stderr",
     "output_type": "stream",
     "text": [
      "Warning message in .f(...):\n",
      "“NaNs produced”"
     ]
    },
    {
     "name": "stdout",
     "output_type": "stream",
     "text": [
      "List of 4\n",
      " $ : num NA\n",
      " $ : num NaN\n",
      " $ : num 0.693\n",
      " $ : num 1.1\n"
     ]
    }
   ],
   "source": [
    "map(list('a', -1, 2, 3), possibly(log, NA_real_)) %>% str"
   ]
  },
  {
   "cell_type": "markdown",
   "metadata": {
    "slideshow": {
     "slide_type": "slide"
    }
   },
   "source": [
    "Finally, to capture and suppress the warning message we can use `quietly()`:"
   ]
  },
  {
   "cell_type": "code",
   "execution_count": 188,
   "metadata": {},
   "outputs": [
    {
     "name": "stdout",
     "output_type": "stream",
     "text": [
      "List of 3\n",
      " $ :List of 4\n",
      "  ..$ result  : num NaN\n",
      "  ..$ output  : chr \"\"\n",
      "  ..$ warnings: chr \"NaNs produced\"\n",
      "  ..$ messages: chr(0) \n",
      " $ :List of 4\n",
      "  ..$ result  : num 0.693\n",
      "  ..$ output  : chr \"\"\n",
      "  ..$ warnings: chr(0) \n",
      "  ..$ messages: chr(0) \n",
      " $ :List of 4\n",
      "  ..$ result  : num 1.1\n",
      "  ..$ output  : chr \"\"\n",
      "  ..$ warnings: chr(0) \n",
      "  ..$ messages: chr(0) \n"
     ]
    }
   ],
   "source": [
    "map(list(-1, 2, 3), quietly(log)) %>% str"
   ]
  }
 ],
 "metadata": {
  "celltoolbar": "Slideshow",
  "kernelspec": {
   "display_name": "R",
   "language": "R",
   "name": "ir"
  },
  "language_info": {
   "codemirror_mode": "r",
   "file_extension": ".r",
   "mimetype": "text/x-r-source",
   "name": "R",
   "pygments_lexer": "r",
   "version": "3.4.3"
  }
 },
 "nbformat": 4,
 "nbformat_minor": 2
}
