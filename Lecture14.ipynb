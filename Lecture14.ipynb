{
 "cells": [
  {
   "cell_type": "markdown",
   "metadata": {},
   "source": [
    "In this notebook, we will cover:\n",
    "\n",
    "* [String basics and length](#String-basics-and-length)\n",
    "* [Combining strings](#Combining-strings)\n",
    "* [Subsetting strings](#Subsetting-strings)\n",
    "* [Locales](#Locales)"
   ]
  },
  {
   "cell_type": "code",
   "execution_count": 4,
   "metadata": {},
   "outputs": [
    {
     "name": "stderr",
     "output_type": "stream",
     "text": [
      "Loading tidyverse: ggplot2\n",
      "Loading tidyverse: tibble\n",
      "Loading tidyverse: tidyr\n",
      "Loading tidyverse: readr\n",
      "Loading tidyverse: purrr\n",
      "Loading tidyverse: dplyr\n",
      "Conflicts with tidy packages ---------------------------------------------------\n",
      "filter(): dplyr, stats\n",
      "lag():    dplyr, stats\n"
     ]
    }
   ],
   "source": [
    "library(tidyverse)\n",
    "library(stringr)"
   ]
  },
  {
   "cell_type": "markdown",
   "metadata": {},
   "source": [
    "# String basics and length"
   ]
  },
  {
   "cell_type": "code",
   "execution_count": 5,
   "metadata": {},
   "outputs": [
    {
     "data": {
      "text/html": [
       "'STATS 306'"
      ],
      "text/latex": [
       "'STATS 306'"
      ],
      "text/markdown": [
       "'STATS 306'"
      ],
      "text/plain": [
       "[1] \"STATS 306\""
      ]
     },
     "metadata": {},
     "output_type": "display_data"
    }
   ],
   "source": [
    "(mystring <- \"STATS 306\")"
   ]
  },
  {
   "cell_type": "code",
   "execution_count": 6,
   "metadata": {},
   "outputs": [
    {
     "data": {
      "text/html": [
       "'STATS 306'"
      ],
      "text/latex": [
       "'STATS 306'"
      ],
      "text/markdown": [
       "'STATS 306'"
      ],
      "text/plain": [
       "[1] \"STATS 306\""
      ]
     },
     "metadata": {},
     "output_type": "display_data"
    }
   ],
   "source": [
    "(mystring2 <- 'STATS 306')"
   ]
  },
  {
   "cell_type": "markdown",
   "metadata": {},
   "source": [
    "You can create strings using double quotes or single quotes -- there's no difference. However, for consisteny, you might want to stick to double quotes except in cases when your strong itself has double quotes."
   ]
  },
  {
   "cell_type": "code",
   "execution_count": 9,
   "metadata": {},
   "outputs": [
    {
     "data": {
      "text/html": [
       "'\"MLE\" stands for \"Maximum Likelihood Estimate\"'"
      ],
      "text/latex": [
       "'\"MLE\" stands for \"Maximum Likelihood Estimate\"'"
      ],
      "text/markdown": [
       "'\"MLE\" stands for \"Maximum Likelihood Estimate\"'"
      ],
      "text/plain": [
       "[1] \"\\\"MLE\\\" stands for \\\"Maximum Likelihood Estimate\\\"\""
      ]
     },
     "metadata": {},
     "output_type": "display_data"
    }
   ],
   "source": [
    "(mystring3 <- '\"MLE\" stands for \"Maximum Likelihood Estimate\"')"
   ]
  },
  {
   "cell_type": "markdown",
   "metadata": {},
   "source": [
    "You can create a string with double quotes in it while using double quotes to create it but you will have to use a lot of *escape* all the double quotes!"
   ]
  },
  {
   "cell_type": "code",
   "execution_count": 11,
   "metadata": {},
   "outputs": [
    {
     "data": {
      "text/html": [
       "'\"MLE\" stands for \"Maximum Likelihood Estimate\"'"
      ],
      "text/latex": [
       "'\"MLE\" stands for \"Maximum Likelihood Estimate\"'"
      ],
      "text/markdown": [
       "'\"MLE\" stands for \"Maximum Likelihood Estimate\"'"
      ],
      "text/plain": [
       "[1] \"\\\"MLE\\\" stands for \\\"Maximum Likelihood Estimate\\\"\""
      ]
     },
     "metadata": {},
     "output_type": "display_data"
    }
   ],
   "source": [
    "(mystring3 <- \"\\\"MLE\\\" stands for \\\"Maximum Likelihood Estimate\\\"\")"
   ]
  },
  {
   "cell_type": "markdown",
   "metadata": {},
   "source": [
    "This is also means that if you actually want a backslash in your string, you need to escape it as well."
   ]
  },
  {
   "cell_type": "code",
   "execution_count": 12,
   "metadata": {},
   "outputs": [
    {
     "data": {
      "text/html": [
       "'\\ is the backslash character'"
      ],
      "text/latex": [
       "'\\textbackslash{} is the backslash character'"
      ],
      "text/markdown": [
       "'\\ is the backslash character'"
      ],
      "text/plain": [
       "[1] \"\\\\ is the backslash character\""
      ]
     },
     "metadata": {},
     "output_type": "display_data"
    }
   ],
   "source": [
    "(mystring4 <- \"\\\\ is the backslash character\")"
   ]
  },
  {
   "cell_type": "code",
   "execution_count": 21,
   "metadata": {},
   "outputs": [
    {
     "data": {
      "text/html": [
       "<ol class=list-inline>\n",
       "\t<li>'\"'</li>\n",
       "\t<li>'\"'</li>\n",
       "\t<li>'\\''</li>\n",
       "\t<li>'\\''</li>\n",
       "\t<li>'\\'</li>\n",
       "\t<li>'\\/'</li>\n",
       "</ol>\n"
      ],
      "text/latex": [
       "\\begin{enumerate*}\n",
       "\\item '\"'\n",
       "\\item '\"'\n",
       "\\item '\\textbackslash{}''\n",
       "\\item '\\textbackslash{}''\n",
       "\\item '\\textbackslash{}'\n",
       "\\item '\\textbackslash{}/'\n",
       "\\end{enumerate*}\n"
      ],
      "text/markdown": [
       "1. '\"'\n",
       "2. '\"'\n",
       "3. '\\''\n",
       "4. '\\''\n",
       "5. '\\'\n",
       "6. '\\/'\n",
       "\n",
       "\n"
      ],
      "text/plain": [
       "[1] \"\\\"\"  \"\\\"\"  \"'\"   \"'\"   \"\\\\\"  \"\\\\/\""
      ]
     },
     "metadata": {},
     "output_type": "display_data"
    }
   ],
   "source": [
    "(mystrings <- c(\"\\\"\", '\"', '\\'', \"'\", \"\\\\\", \"\\\\/\")) # note the use of c() to create a character vector"
   ]
  },
  {
   "cell_type": "markdown",
   "metadata": {},
   "source": [
    "The printed representation of strings shows the escapes."
   ]
  },
  {
   "cell_type": "code",
   "execution_count": 14,
   "metadata": {},
   "outputs": [
    {
     "name": "stdout",
     "output_type": "stream",
     "text": [
      "[1] \"\\\"\"  \"\\\"\"  \"'\"   \"'\"   \"\\\\\"  \"\\\\/\"\n"
     ]
    }
   ],
   "source": [
    "print(mystrings)"
   ]
  },
  {
   "cell_type": "markdown",
   "metadata": {},
   "source": [
    "Use `writeLines()` to see the raw contents of the string. "
   ]
  },
  {
   "cell_type": "code",
   "execution_count": 15,
   "metadata": {},
   "outputs": [
    {
     "name": "stdout",
     "output_type": "stream",
     "text": [
      "\"\n",
      "\"\n",
      "'\n",
      "'\n",
      "\\\n",
      "\\/\n"
     ]
    }
   ],
   "source": [
    "writeLines(mystrings)"
   ]
  },
  {
   "cell_type": "markdown",
   "metadata": {},
   "source": [
    "It is good to know of a few about a few more escape sequences."
   ]
  },
  {
   "cell_type": "code",
   "execution_count": 16,
   "metadata": {},
   "outputs": [
    {
     "name": "stdout",
     "output_type": "stream",
     "text": [
      "First line\n",
      "Second line\n"
     ]
    }
   ],
   "source": [
    "writeLines(\"First line\\nSecond line\") # newline"
   ]
  },
  {
   "cell_type": "code",
   "execution_count": 17,
   "metadata": {},
   "outputs": [
    {
     "name": "stdout",
     "output_type": "stream",
     "text": [
      "Text\n",
      "\tIndented Text\n",
      "Text\n"
     ]
    }
   ],
   "source": [
    "writeLines(\"Text\\n\\tIndented Text\\nText\") # newlines and tab"
   ]
  },
  {
   "cell_type": "markdown",
   "metadata": {},
   "source": [
    "You can also print characters if you know their unicode using `\\u`. For example, the copyright character has unicode `00A9`. Wikipedia has [a complete list](https://en.wikipedia.org/wiki/List_of_Unicode_characters)."
   ]
  },
  {
   "cell_type": "code",
   "execution_count": 22,
   "metadata": {},
   "outputs": [
    {
     "name": "stdout",
     "output_type": "stream",
     "text": [
      "©\n"
     ]
    }
   ],
   "source": [
    "writeLines(\"\\u00A9\")"
   ]
  },
  {
   "cell_type": "markdown",
   "metadata": {},
   "source": [
    "Base R has strong functions but we will avoid them use the ones in the `stringr` package. They all start with `str_`"
   ]
  },
  {
   "cell_type": "code",
   "execution_count": 23,
   "metadata": {},
   "outputs": [
    {
     "data": {
      "text/html": [
       "<ol class=list-inline>\n",
       "\t<li>1</li>\n",
       "\t<li>9</li>\n",
       "\t<li>6</li>\n",
       "</ol>\n"
      ],
      "text/latex": [
       "\\begin{enumerate*}\n",
       "\\item 1\n",
       "\\item 9\n",
       "\\item 6\n",
       "\\end{enumerate*}\n"
      ],
      "text/markdown": [
       "1. 1\n",
       "2. 9\n",
       "3. 6\n",
       "\n",
       "\n"
      ],
      "text/plain": [
       "[1] 1 9 6"
      ]
     },
     "metadata": {},
     "output_type": "display_data"
    }
   ],
   "source": [
    "str_length(c(\"a\", \"character\", \"vector\"))"
   ]
  },
  {
   "cell_type": "markdown",
   "metadata": {},
   "source": [
    "# Combining strings"
   ]
  },
  {
   "cell_type": "code",
   "execution_count": 24,
   "metadata": {},
   "outputs": [
    {
     "data": {
      "text/html": [
       "'Let us concatenate strings!'"
      ],
      "text/latex": [
       "'Let us concatenate strings!'"
      ],
      "text/markdown": [
       "'Let us concatenate strings!'"
      ],
      "text/plain": [
       "[1] \"Let us concatenate strings!\""
      ]
     },
     "metadata": {},
     "output_type": "display_data"
    }
   ],
   "source": [
    "str_c(\"Let us con\", \"catenate strings!\")"
   ]
  },
  {
   "cell_type": "code",
   "execution_count": 30,
   "metadata": {
    "collapsed": true
   },
   "outputs": [],
   "source": [
    "mystrings <- c(\"one\", \"two\", \"ten\")"
   ]
  },
  {
   "cell_type": "code",
   "execution_count": 31,
   "metadata": {},
   "outputs": [
    {
     "data": {
      "text/html": [
       "<ol class=list-inline>\n",
       "\t<li>'*** one ***'</li>\n",
       "\t<li>'*** two ***'</li>\n",
       "\t<li>'*** ten ***'</li>\n",
       "</ol>\n"
      ],
      "text/latex": [
       "\\begin{enumerate*}\n",
       "\\item '*** one ***'\n",
       "\\item '*** two ***'\n",
       "\\item '*** ten ***'\n",
       "\\end{enumerate*}\n"
      ],
      "text/markdown": [
       "1. '*** one ***'\n",
       "2. '*** two ***'\n",
       "3. '*** ten ***'\n",
       "\n",
       "\n"
      ],
      "text/plain": [
       "[1] \"*** one ***\" \"*** two ***\" \"*** ten ***\""
      ]
     },
     "metadata": {},
     "output_type": "display_data"
    }
   ],
   "source": [
    "str_c(\"*** \", mystrings , \" ***\") # each argument is expanded to the length of the longest"
   ]
  },
  {
   "cell_type": "code",
   "execution_count": 33,
   "metadata": {
    "collapsed": true
   },
   "outputs": [],
   "source": [
    "mystrings_na <- c(\"one\", \"two\", NA)"
   ]
  },
  {
   "cell_type": "code",
   "execution_count": 35,
   "metadata": {},
   "outputs": [
    {
     "data": {
      "text/html": [
       "<ol class=list-inline>\n",
       "\t<li>'*** one ***'</li>\n",
       "\t<li>'*** two ***'</li>\n",
       "\t<li>'NA'</li>\n",
       "</ol>\n"
      ],
      "text/latex": [
       "\\begin{enumerate*}\n",
       "\\item '*** one ***'\n",
       "\\item '*** two ***'\n",
       "\\item 'NA'\n",
       "\\end{enumerate*}\n"
      ],
      "text/markdown": [
       "1. '*** one ***'\n",
       "2. '*** two ***'\n",
       "3. 'NA'\n",
       "\n",
       "\n"
      ],
      "text/plain": [
       "[1] \"*** one ***\" \"*** two ***\" NA           "
      ]
     },
     "metadata": {},
     "output_type": "display_data"
    }
   ],
   "source": [
    "str_c(\"*** \", mystrings_na, \" ***\") # missingness is contagious!"
   ]
  },
  {
   "cell_type": "code",
   "execution_count": 36,
   "metadata": {},
   "outputs": [
    {
     "data": {
      "text/html": [
       "<ol class=list-inline>\n",
       "\t<li>'*** one ***'</li>\n",
       "\t<li>'*** two ***'</li>\n",
       "\t<li>'*** NA ***'</li>\n",
       "</ol>\n"
      ],
      "text/latex": [
       "\\begin{enumerate*}\n",
       "\\item '*** one ***'\n",
       "\\item '*** two ***'\n",
       "\\item '*** NA ***'\n",
       "\\end{enumerate*}\n"
      ],
      "text/markdown": [
       "1. '*** one ***'\n",
       "2. '*** two ***'\n",
       "3. '*** NA ***'\n",
       "\n",
       "\n"
      ],
      "text/plain": [
       "[1] \"*** one ***\" \"*** two ***\" \"*** NA ***\" "
      ]
     },
     "metadata": {},
     "output_type": "display_data"
    }
   ],
   "source": [
    "str_c(\"*** \", str_replace_na(mystrings_na), \" ***\") # converts missing values to the string \"NA\""
   ]
  },
  {
   "cell_type": "code",
   "execution_count": 47,
   "metadata": {},
   "outputs": [
    {
     "data": {
      "text/html": [
       "'one, two, ten'"
      ],
      "text/latex": [
       "'one, two, ten'"
      ],
      "text/markdown": [
       "'one, two, ten'"
      ],
      "text/plain": [
       "[1] \"one, two, ten\""
      ]
     },
     "metadata": {},
     "output_type": "display_data"
    }
   ],
   "source": [
    "str_c(\"one\", \"two\", \"ten\", sep = \", \") # can provide a separator"
   ]
  },
  {
   "cell_type": "code",
   "execution_count": 49,
   "metadata": {},
   "outputs": [
    {
     "data": {
      "text/html": [
       "<ol class=list-inline>\n",
       "\t<li>'one'</li>\n",
       "\t<li>'two'</li>\n",
       "\t<li>'ten'</li>\n",
       "</ol>\n"
      ],
      "text/latex": [
       "\\begin{enumerate*}\n",
       "\\item 'one'\n",
       "\\item 'two'\n",
       "\\item 'ten'\n",
       "\\end{enumerate*}\n"
      ],
      "text/markdown": [
       "1. 'one'\n",
       "2. 'two'\n",
       "3. 'ten'\n",
       "\n",
       "\n"
      ],
      "text/plain": [
       "[1] \"one\" \"two\" \"ten\""
      ]
     },
     "metadata": {},
     "output_type": "display_data"
    }
   ],
   "source": [
    "str_c(mystrings, sep = \", \") # why does this not combine the strings?"
   ]
  },
  {
   "cell_type": "code",
   "execution_count": 50,
   "metadata": {},
   "outputs": [
    {
     "data": {
      "text/html": [
       "'one, two, ten'"
      ],
      "text/latex": [
       "'one, two, ten'"
      ],
      "text/markdown": [
       "'one, two, ten'"
      ],
      "text/plain": [
       "[1] \"one, two, ten\""
      ]
     },
     "metadata": {},
     "output_type": "display_data"
    }
   ],
   "source": [
    "str_c(mystrings, collapse = \", \") # use collapse if the strings you want to combine are in a vector"
   ]
  },
  {
   "cell_type": "markdown",
   "metadata": {},
   "source": [
    "# Subsetting strings"
   ]
  },
  {
   "cell_type": "code",
   "execution_count": null,
   "metadata": {
    "collapsed": true
   },
   "outputs": [],
   "source": []
  },
  {
   "cell_type": "markdown",
   "metadata": {},
   "source": [
    "# Locales"
   ]
  },
  {
   "cell_type": "code",
   "execution_count": null,
   "metadata": {
    "collapsed": true
   },
   "outputs": [],
   "source": []
  }
 ],
 "metadata": {
  "kernelspec": {
   "display_name": "R",
   "language": "R",
   "name": "ir"
  },
  "language_info": {
   "codemirror_mode": "r",
   "file_extension": ".r",
   "mimetype": "text/x-r-source",
   "name": "R",
   "pygments_lexer": "r",
   "version": "3.3.2"
  }
 },
 "nbformat": 4,
 "nbformat_minor": 1
}
