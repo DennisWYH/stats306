{
 "cells": [
  {
   "cell_type": "markdown",
   "metadata": {},
   "source": [
    "Before you turn this problem in, make sure everything runs as expected. First, **restart the kernel** (in the menubar, select Kernel$\\rightarrow$Restart) and then **run all cells** (in the menubar, select Cell$\\rightarrow$Run All). Your code should run from top to bottom with no errors. Failure to do this will result in loss of points.\n",
    "\n",
    "Make sure you fill in any place that says `YOUR CODE HERE` or \"YOUR ANSWER HERE\" and delete the `stop()` functions, as well as your name and collaborators below:"
   ]
  },
  {
   "cell_type": "code",
   "execution_count": null,
   "metadata": {},
   "outputs": [],
   "source": [
    "NAME = \"\"  # your uniqname \n",
    "COLLABORATORS = c()  # vector of uniqnames of your collaborators, if any\n",
    "## IMPORTANT: also enter your group information in Canvas when you upload the assignment"
   ]
  },
  {
   "cell_type": "markdown",
   "metadata": {},
   "source": [
    "---"
   ]
  },
  {
   "cell_type": "code",
   "execution_count": null,
   "metadata": {
    "deletable": false,
    "editable": false,
    "nbgrader": {
     "checksum": "5cc9f6dfb02e80896bb0e5ce6010ffdc",
     "grade": false,
     "grade_id": "cell-4dbba31d3bfa7338",
     "locked": true,
     "schema_version": 1,
     "solution": false
    }
   },
   "outputs": [],
   "source": [
    "library(tidyverse)\n",
    "library(modelr)\n",
    "library(lubridate)"
   ]
  },
  {
   "cell_type": "markdown",
   "metadata": {
    "deletable": false,
    "editable": false,
    "nbgrader": {
     "checksum": "7fa824cd4a5bfbf4ca7e409f38c2192b",
     "grade": false,
     "grade_id": "cell-00d467455869b362",
     "locked": true,
     "schema_version": 1,
     "solution": false
    }
   },
   "source": [
    "# STATS 306\n",
    "## Problem set 9: Modeling and regression\n",
    "Each problem is worth two to four points, depending on difficulty, for a total of 20.\n",
    "\n",
    "*Note*: you do not need to use `install.packages()` in this notebook. You may assume that we have already installed all of the necessary packages when we run your code."
   ]
  },
  {
   "cell_type": "markdown",
   "metadata": {
    "deletable": false,
    "editable": false,
    "nbgrader": {
     "checksum": "6165492acc942343b9b531f6dc5e93e5",
     "grade": false,
     "grade_id": "cell-bac096e656257837",
     "locked": true,
     "schema_version": 1,
     "solution": false
    }
   },
   "source": [
    "#### Problem 1 (3 pts.)\n",
    "The file `problem1.csv` is a CSV containing three columns:\n",
    "- `year`, the year of the observation.\n",
    "- `drm`, the divorce rate per 1,000 in the state of Maine.\n",
    "- `pccm`, the per capita consumption of margarine in the United States.\n",
    "\n",
    "Note: these are real data (not made up)."
   ]
  },
  {
   "cell_type": "markdown",
   "metadata": {
    "deletable": false,
    "editable": false,
    "nbgrader": {
     "checksum": "2d5f3cef02c80188372ff35c12d7aa14",
     "grade": false,
     "grade_id": "cell-59da4f06a591b9c8",
     "locked": true,
     "schema_version": 1,
     "solution": false
    }
   },
   "source": [
    "**(1 pt.)** Import the data and plot these two variables over time on adjacent graphs using `facet_wrap(..., scales=\"free\")`."
   ]
  },
  {
   "cell_type": "code",
   "execution_count": null,
   "metadata": {
    "deletable": false,
    "nbgrader": {
     "checksum": "f61d4517b14aa06d12e92d282eb85451",
     "grade": true,
     "grade_id": "cell-84ee017224c865a9",
     "locked": false,
     "points": 1,
     "schema_version": 1,
     "solution": true
    }
   },
   "outputs": [],
   "source": [
    "# YOUR CODE HERE\n",
    "stop()"
   ]
  },
  {
   "cell_type": "markdown",
   "metadata": {
    "deletable": false,
    "editable": false,
    "nbgrader": {
     "checksum": "8ae764ae2223656eed73ebd54711f9ae",
     "grade": false,
     "grade_id": "cell-0e7894acb12084ab",
     "locked": true,
     "schema_version": 1,
     "solution": false
    }
   },
   "source": [
    "**(1 pt.)** Regress `drm` on `pccm` and summarize the regression using the `summary` function."
   ]
  },
  {
   "cell_type": "code",
   "execution_count": null,
   "metadata": {
    "deletable": false,
    "nbgrader": {
     "checksum": "2e865e74384ab3a2c0ca8c6c06f49f32",
     "grade": true,
     "grade_id": "cell-60bad1c542f7fd23",
     "locked": false,
     "points": 1,
     "schema_version": 1,
     "solution": true
    }
   },
   "outputs": [],
   "source": [
    "# YOUR CODE HERE\n",
    "stop()"
   ]
  },
  {
   "cell_type": "markdown",
   "metadata": {
    "deletable": false,
    "editable": false,
    "nbgrader": {
     "checksum": "fc79f409581655ddce1eae206a66648d",
     "grade": false,
     "grade_id": "cell-be6cf830263d2e1b",
     "locked": true,
     "schema_version": 1,
     "solution": false
    }
   },
   "source": [
    "**(1 pt.)** The regression indicates indicates a near perfect linear fit between `pccm` and `drm` ($R^2 > 0.98$; $p < 10^{-7}$). Explain in your own words why annual per capita margarine consumption almost perfectly predicts the divorce rate in Maine."
   ]
  },
  {
   "cell_type": "markdown",
   "metadata": {
    "deletable": false,
    "nbgrader": {
     "checksum": "ef22e45d65ca47856e8736c214eba9ee",
     "grade": true,
     "grade_id": "cell-5c72ae98546072b8",
     "locked": false,
     "points": 1,
     "schema_version": 1,
     "solution": true
    }
   },
   "source": [
    "YOUR ANSWER HERE"
   ]
  },
  {
   "cell_type": "markdown",
   "metadata": {
    "deletable": false,
    "editable": false,
    "nbgrader": {
     "checksum": "6698373b64459b42017ef2ac22ec08dd",
     "grade": false,
     "grade_id": "cell-1e5906c5ef36401f",
     "locked": true,
     "schema_version": 1,
     "solution": false
    }
   },
   "source": [
    "#### Problem 2 (2 pts.)\n",
    "This problem is designed to give you intuition for what you observed in Problem 1. \n",
    "\n",
    "The column `Pr(>|t|)` in a regression summary displays the p-value for each estimated regression coefficient:"
   ]
  },
  {
   "cell_type": "code",
   "execution_count": null,
   "metadata": {
    "deletable": false,
    "editable": false,
    "nbgrader": {
     "checksum": "812369108e763c37b2dd5f025306d3ee",
     "grade": false,
     "grade_id": "cell-fd8b55f49d5c4566",
     "locked": true,
     "schema_version": 1,
     "solution": false
    }
   },
   "outputs": [],
   "source": [
    "summary(lm(y ~ x, sim1))"
   ]
  },
  {
   "cell_type": "markdown",
   "metadata": {
    "deletable": false,
    "editable": false,
    "nbgrader": {
     "checksum": "c58b13c7bd6bc408a2b1e50752067363",
     "grade": false,
     "grade_id": "cell-0be8caea48db7838",
     "locked": true,
     "schema_version": 1,
     "solution": false
    }
   },
   "source": [
    "A p-value of 0.05 is the conventional threshold for significance in scientific research. Even if there is no association between `y` and `x`, a p-value less than 0.05 will be observed about 5% of the time.\n",
    "\n",
    "You will verify this by writing a function `num_significant(y, xs, alpha)` which takes a vector `y` of responses, and a list `xs` of vectors of predictors. For each element `xs[[i]]`, `num_significant` should regress `y` on `xs[[i]]` and record the p-value. The function should return the number of regressions for which the p-value on the `x` coefficient was below `alpha`."
   ]
  },
  {
   "cell_type": "code",
   "execution_count": null,
   "metadata": {
    "deletable": false,
    "nbgrader": {
     "checksum": "fe4e0cb5612a44cd279f1e750a554f2d",
     "grade": false,
     "grade_id": "cell-106214e75606977d",
     "locked": false,
     "schema_version": 1,
     "solution": true
    }
   },
   "outputs": [],
   "source": [
    "num_significant = function(y, xs, alpha) {\n",
    "    # YOUR CODE HERE\n",
    "    stop()\n",
    "}"
   ]
  },
  {
   "cell_type": "markdown",
   "metadata": {
    "deletable": false,
    "editable": false,
    "nbgrader": {
     "checksum": "c7577de78206a354a3ee5eb0ff58897e",
     "grade": false,
     "grade_id": "cell-9c7f7e695e5e9c27",
     "locked": true,
     "schema_version": 1,
     "solution": false
    }
   },
   "source": [
    "The tests below generate completely random data for `y` and `xs`. Hence, there is no true relationship between `y` and any of the `xs[[i]]`. Nevertheless, the tests show that on average about five `xs[[i]]` are significantly related to `y` at the 5% level. \n",
    "\n",
    "This is a very simple illustration of a practice called [p-hacking](https://en.wikipedia.org/wiki/Data_dredging): purely by chance, statistically significant relationships can be uncovered in data simply by estimating a large number of models. This is a problem in certain fields where there is great pressure to obtain statistically significant results in order to (for example) publish research papers in scientific journals."
   ]
  },
  {
   "cell_type": "code",
   "execution_count": null,
   "metadata": {
    "deletable": false,
    "editable": false,
    "nbgrader": {
     "checksum": "6fdd060c5e09c9db53cadddd752515d3",
     "grade": true,
     "grade_id": "cell-12f909f7e1ef8da1",
     "locked": true,
     "points": 2,
     "schema_version": 1,
     "solution": false
    }
   },
   "outputs": [],
   "source": [
    "for (s in list(c(1, 7), c(2, 3))) {\n",
    "    set.seed(s[1])\n",
    "    y = rnorm(50)\n",
    "    xs = map(1:100, ~ rnorm(50))\n",
    "    stopifnot(num_significant(y, xs, .05) == s[2])\n",
    "} "
   ]
  },
  {
   "cell_type": "markdown",
   "metadata": {
    "deletable": false,
    "editable": false,
    "nbgrader": {
     "checksum": "d346c405cc895584fddcbc693d109062",
     "grade": false,
     "grade_id": "cell-ba1d2b1afc2c8dcd",
     "locked": true,
     "schema_version": 1,
     "solution": false
    }
   },
   "source": [
    "#### Problem 3 (4 pts.)\n",
    "In lecture we noted that least-squares regression is susceptible to outliers, in the sense that a single outlying data point can have a large effect on the fitted regression line. For example, consider the following two model fits:"
   ]
  },
  {
   "cell_type": "code",
   "execution_count": null,
   "metadata": {
    "deletable": false,
    "editable": false,
    "nbgrader": {
     "checksum": "8ab2683099ec6a07743a90e6ba29e598",
     "grade": false,
     "grade_id": "cell-ad2fb428828c5858",
     "locked": true,
     "schema_version": 1,
     "solution": false
    }
   },
   "outputs": [],
   "source": [
    "lm(y ~ x, sim1)\n",
    "lm(y ~ x, rbind(sim1, c(x=10, y=100)))"
   ]
  },
  {
   "cell_type": "markdown",
   "metadata": {
    "deletable": false,
    "editable": false,
    "nbgrader": {
     "checksum": "ab76210418c83fc1547861a94110025c",
     "grade": false,
     "grade_id": "cell-7a81dfb210e6d4bc",
     "locked": true,
     "schema_version": 1,
     "solution": false
    }
   },
   "source": [
    "Although we added just a single observation, the regression estimates change substantially. The data point we added, $(10,1000)$, can be said to have substantial *influence* over the estimates.\n",
    "\n",
    "Building on this idea, we can measure each point's influence by studying how much the model's predictions change if we drop that point and re-fit the model.\n",
    "\n",
    "Let $\\hat{y}_1,\\hat{y}_2,\\dots,\\hat{y}_n$ be the predictions obtained for each $x_i$ when the model is fit to the complete data set. Next, for each data point $j=1,\\dots,n$ we fit a new model to the data set with the $j$th observation removed. We use this model to generate new predictions $\\tilde{y}_i^{(j)},\\,i=1,\\dots,n$ for each $x_i$. (Note that this *includes* the point $x_j$ which we dropped when fitting the model. It's perfectly acceptable to use a model to predict \"out of sample\" on data points that were not present when the model was fitted.)\n",
    "\n",
    "Our measure of influence for observation $j$ is then defined to be \n",
    "\n",
    "$$D_j = \\sum_{i=1}^n (\\hat{y}_i - \\tilde{y}_i^{(j)})^2.$$"
   ]
  },
  {
   "cell_type": "markdown",
   "metadata": {
    "deletable": false,
    "editable": false,
    "nbgrader": {
     "checksum": "1c614604759e3efb1922eeb856391793",
     "grade": false,
     "grade_id": "cell-35b6e44c4dc68865",
     "locked": true,
     "schema_version": 1,
     "solution": false
    }
   },
   "source": [
    "**(3 pts.)** Write a function `compute_D(method, y, x)` which takes as arguments a model-fitting method (for example, `lm` or `MASS::rlm`, a vector `y` of responses, and an equal-length vector `x` of predictors, and returns a vector of influence scores $(D_1, D_2, \\dots, D_n)$ (one for each observation pair `(x[i], y[i])`) when using `method` to fit the model `y ~  x`."
   ]
  },
  {
   "cell_type": "code",
   "execution_count": null,
   "metadata": {
    "deletable": false,
    "nbgrader": {
     "checksum": "2302a9afe89d1a2e480a94fb7dcab419",
     "grade": false,
     "grade_id": "cell-272ca8f1e613c386",
     "locked": false,
     "schema_version": 1,
     "solution": true
    }
   },
   "outputs": [],
   "source": [
    "compute_D = function(method, y, x) {\n",
    "    # YOUR CODE HERE\n",
    "    stop()\n",
    "}"
   ]
  },
  {
   "cell_type": "code",
   "execution_count": null,
   "metadata": {
    "deletable": false,
    "editable": false,
    "nbgrader": {
     "checksum": "784b1d171a40dd49fa2f0141d023a782",
     "grade": true,
     "grade_id": "cell-81d087491b6cb806",
     "locked": true,
     "points": 3,
     "schema_version": 1,
     "solution": false
    }
   },
   "outputs": [],
   "source": [
    "stopifnot(near(\n",
    "    sum(compute_D(lm, c(sim1$y, 100), c(sim1$x, 10))), \n",
    "    6441.042, \n",
    "    tol = 1e-3))\n",
    "stopifnot(near(\n",
    "    sum(compute_D(lm, sim4$y, sim4$x2)),\n",
    "    1751.485,\n",
    "    tol = 1e-3))"
   ]
  },
  {
   "cell_type": "markdown",
   "metadata": {
    "deletable": false,
    "editable": false,
    "nbgrader": {
     "checksum": "7dfa70318648d6cc88a6c5728bf66116",
     "grade": false,
     "grade_id": "cell-6d666a5457b3cc65",
     "locked": true,
     "schema_version": 1,
     "solution": false
    }
   },
   "source": [
    "**(1 pt.)**\n",
    "The `MASS::rlm` command is a \"robust\" version of `lm`, meaning it is not as susceptible to outliers. Verify this by using the function you defined above to compute, for both of these methods, the $D$ score of the final (outlying) observation in the following data set:"
   ]
  },
  {
   "cell_type": "code",
   "execution_count": null,
   "metadata": {
    "deletable": false,
    "editable": false,
    "nbgrader": {
     "checksum": "f5079c5ddc829d766a140ad4ba560e9e",
     "grade": false,
     "grade_id": "cell-05162b54b0e70fd1",
     "locked": true,
     "schema_version": 1,
     "solution": false
    }
   },
   "outputs": [],
   "source": [
    "sim1_outlier = rbind(sim1, c(20, 300))"
   ]
  },
  {
   "cell_type": "markdown",
   "metadata": {
    "deletable": false,
    "editable": false,
    "nbgrader": {
     "checksum": "1d10baef5b8d735299c864306dc80e9e",
     "grade": false,
     "grade_id": "cell-67fe9e60a0e581b5",
     "locked": true,
     "schema_version": 1,
     "solution": false
    }
   },
   "source": [
    "Store your answers in variables called `D_lm` and `D_rlm`."
   ]
  },
  {
   "cell_type": "code",
   "execution_count": null,
   "metadata": {
    "deletable": false,
    "nbgrader": {
     "checksum": "993fea9b3540d61ff95dc1f9bc99f5d6",
     "grade": false,
     "grade_id": "cell-40d77db2a7f10438",
     "locked": false,
     "schema_version": 1,
     "solution": true
    }
   },
   "outputs": [],
   "source": [
    "D_lm = NA\n",
    "D_rlm = NA\n",
    "# YOUR CODE HERE\n",
    "stop()"
   ]
  },
  {
   "cell_type": "code",
   "execution_count": null,
   "metadata": {
    "deletable": false,
    "editable": false,
    "nbgrader": {
     "checksum": "0452cb04478ad8079f8fca40ed5ab266",
     "grade": true,
     "grade_id": "cell-0da0ce41c3250384",
     "locked": true,
     "points": 1,
     "schema_version": 1,
     "solution": false
    }
   },
   "outputs": [],
   "source": [
    "stopifnot(near(D_lm, 6e4, tol = 1e4))\n",
    "stopifnot(near(D_rlm, 100, tol = 1e2))"
   ]
  },
  {
   "cell_type": "markdown",
   "metadata": {
    "deletable": false,
    "editable": false,
    "nbgrader": {
     "checksum": "ed1b872130cf11d0bb247cbd77c57ef5",
     "grade": false,
     "grade_id": "cell-37e77680d3309631",
     "locked": true,
     "schema_version": 1,
     "solution": false
    }
   },
   "source": [
    "#### Problem 5 (3 pts.)\n",
    "In lecture we noted that if `x` is a categorical variable, then the regression `lm(y ~ x)` fits a model where each level of `x` has a different mean. For example:"
   ]
  },
  {
   "cell_type": "code",
   "execution_count": null,
   "metadata": {
    "deletable": false,
    "editable": false,
    "nbgrader": {
     "checksum": "05f107f95c15807303db7b1b23e7dc6e",
     "grade": false,
     "grade_id": "cell-c114322321665694",
     "locked": true,
     "schema_version": 1,
     "solution": false
    }
   },
   "outputs": [],
   "source": [
    "fit = lm(y ~ x, sim2, subset = x %in% c('a', 'd'))\n",
    "summary(fit)"
   ]
  },
  {
   "cell_type": "markdown",
   "metadata": {
    "deletable": false,
    "editable": false,
    "nbgrader": {
     "checksum": "94363f7b35da7b54f0f456f743352f76",
     "grade": false,
     "grade_id": "cell-d612e8c7495ad890",
     "locked": true,
     "schema_version": 1,
     "solution": false
    }
   },
   "source": [
    "The estimated mean for level `x=='a'` is $1.15$ and for `x=='d'` it is $1.15 + .758 = 1.91$. Hence if the coefficient on `xd` is zero, then the means are equal. The p-value `.1052` measures how much evidence there is of a non-zero relationship.\n",
    "\n",
    "-----------\n",
    "\n",
    "In STATS 250 you learned about another way to test whether the means of two populations are equal: the $t$-test. Using this method, we get:\n",
    "\n",
    "```\n",
    "> t.test(sim2_xa, sim2_xd)\n",
    "\n",
    "\tWelch Two Sample t-test\n",
    "\n",
    "data:  sim2_xa and sim2_xd\n",
    "t = -1.7063, df = 17.935, p-value = 0.1052\n",
    "alternative hypothesis: true difference in means is not equal to 0\n",
    "95 percent confidence interval:\n",
    " -1.6933915  0.1757631\n",
    "sample estimates:\n",
    "mean of x mean of y \n",
    " 1.152166  1.910981 \n",
    "```\n",
    "\n",
    "Notice that the mean estimates as well as p-values are identical. This is not a coincidence; the t-test and regression methods are equivalent.\n",
    "\n",
    "----------\n",
    "Verify this by writing a function `compare_tests(df)`, where: \n",
    "- `df` is a data frame: \n",
    "    - `df$x` is a factor with two levels, and\n",
    "    - `df$y` is a continuous random variable. \n",
    "- `compare_tests(df)` returns a vector of length two:\n",
    "    - the first entry is named `regression` and gives the p-value obtained from the regression method\n",
    "    - the second entry is named `t.test` gives the p-value obtained from running a `t.test` of means between the two populations specified by `df$x`.\n",
    "    \n",
    "Thus, for the example above,\n",
    "```\n",
    "> compare_tests(sim2 %>% filter(x %in% c('a', 'd')))\n",
    "regression     t.test \n",
    " 0.1051552  0.1052173 \n",
    "```"
   ]
  },
  {
   "cell_type": "code",
   "execution_count": null,
   "metadata": {
    "deletable": false,
    "nbgrader": {
     "checksum": "70bd2dedc7d5cd9bbe9c1ac2bc1568b2",
     "grade": false,
     "grade_id": "cell-4f2e6aee454653c2",
     "locked": false,
     "schema_version": 1,
     "solution": true
    }
   },
   "outputs": [],
   "source": [
    "compare_tests = function(df) {\n",
    "    # YOUR CODE HERE\n",
    "    stop()\n",
    "}"
   ]
  },
  {
   "cell_type": "code",
   "execution_count": null,
   "metadata": {
    "deletable": false,
    "editable": false,
    "nbgrader": {
     "checksum": "f1022d322e21d99737a7575fcd3c69cc",
     "grade": true,
     "grade_id": "cell-a1f3fc055753ee57",
     "locked": true,
     "points": 3,
     "schema_version": 1,
     "solution": false
    }
   },
   "outputs": [],
   "source": [
    "ans = compare_tests(sim2 %>% filter(x %in% c('a', 'd')))\n",
    "stopifnot(near(\n",
    "    ans,\n",
    "    c(0.1051552, 0.1052173),\n",
    "    tol = 1e-6))\n",
    "stopifnot(names(ans) == c(\"regression\", \"t.test\"))\n",
    "\n",
    "df = mpg %>% filter(manufacturer %in% c('audi', 'ford')) %>% \n",
    "             select(x = manufacturer, y = cty)\n",
    "stopifnot(near(compare_tests(df), c(4.023519e-07, 7.065593e-07)))"
   ]
  },
  {
   "cell_type": "markdown",
   "metadata": {
    "deletable": false,
    "editable": false,
    "nbgrader": {
     "checksum": "d609d855372b0083682cfd92c2f14740",
     "grade": false,
     "grade_id": "cell-c62a23ae9385f3df",
     "locked": true,
     "schema_version": 1,
     "solution": false
    }
   },
   "source": [
    "#### Problem 6 (4 pts.)\n",
    "In this problem we will investigate a function \n",
    "\n",
    "$$R_k(\\mathbf{y},m) = \\sum_{i=1}^n |y_i - m|^k$$\n",
    "\n",
    "which, given a vector of data $\\mathbf{y}$, a number $m$, and an integer $k$, computes the sum of differences $|y_i-m|^k$."
   ]
  },
  {
   "cell_type": "markdown",
   "metadata": {
    "deletable": false,
    "editable": false,
    "nbgrader": {
     "checksum": "a2d544ae0fd74186e639fac3c9688082",
     "grade": false,
     "grade_id": "cell-69a773393e71fe96",
     "locked": true,
     "schema_version": 1,
     "solution": false
    }
   },
   "source": [
    "**(1 pt.)** Implement the function $R_k(\\mathbf{y}, m)$ defined above. You may assume that $k$ is a non-negative integer. If $k=0$ then, for reasons discussed below, we define\n",
    "\n",
    "$$|y_i-m|^0 = \\begin{cases}\n",
    "0, &y_i = m\\\\\n",
    "1, &\\text{otherwise.}\n",
    "\\end{cases}\n",
    "$$"
   ]
  },
  {
   "cell_type": "code",
   "execution_count": null,
   "metadata": {
    "deletable": false,
    "nbgrader": {
     "checksum": "a3fda344723d774ceaeb48c4b0799c08",
     "grade": false,
     "grade_id": "cell-0bda0ca903630901",
     "locked": false,
     "schema_version": 1,
     "solution": true
    }
   },
   "outputs": [],
   "source": [
    "R = function(y, m, k) {\n",
    "    # YOUR CODE HERE\n",
    "    stop()\n",
    "}"
   ]
  },
  {
   "cell_type": "code",
   "execution_count": null,
   "metadata": {
    "deletable": false,
    "editable": false,
    "nbgrader": {
     "checksum": "50bf3b22cee2f1d48a75654606dfc978",
     "grade": true,
     "grade_id": "cell-328b11b65427fcf7",
     "locked": true,
     "points": 1,
     "schema_version": 1,
     "solution": false
    }
   },
   "outputs": [],
   "source": [
    "stopifnot(R(1:10, 5, 0) == 9)\n",
    "stopifnot(R(1:10, 5, 1) == 25)\n",
    "stopifnot(R(1:10, 5, 2) == 85)"
   ]
  },
  {
   "cell_type": "markdown",
   "metadata": {
    "deletable": false,
    "editable": false,
    "nbgrader": {
     "checksum": "fb1f067925fdf657d3ef45e308c0b608",
     "grade": false,
     "grade_id": "cell-29462e4b395a9c8e",
     "locked": true,
     "schema_version": 1,
     "solution": false
    }
   },
   "source": [
    "**(1 pt.)** From our discussion in lecture, we know that the value of $m$ which minimizes $R_2(\\mathbf{y},m)$ equals the regression estimate of $a_0$ in the intercept-only model \n",
    "\n",
    "$$y = a_0 + \\epsilon.$$\n",
    "\n",
    "In other words, $m$ equals the mean of $\\mathbf{y}$. \n",
    "\n",
    "Write a function `plot_resid(y, k)` which plots `R(y, m, k)` for $m=y_1,y_2,\\dots,y_n$, and use it to verify that the minimum of `R(sim1$x, m, 2)` occurs when `m` is near `mean(y)`."
   ]
  },
  {
   "cell_type": "code",
   "execution_count": null,
   "metadata": {
    "deletable": false,
    "nbgrader": {
     "checksum": "adad74094f4b4f94d7fec8c5ac190830",
     "grade": true,
     "grade_id": "cell-01b9e5b9b6e0e13a",
     "locked": false,
     "points": 1,
     "schema_version": 1,
     "solution": true
    }
   },
   "outputs": [],
   "source": [
    "plot_resid = function(y, k) {\n",
    "    # YOUR CODE HERE\n",
    "    stop()\n",
    "}\n",
    "y = rnorm(1000)\n",
    "plot_resid(y, 2) + geom_vline(xintercept = mean(y), colour=\"blue\")"
   ]
  },
  {
   "cell_type": "markdown",
   "metadata": {
    "deletable": false,
    "editable": false,
    "nbgrader": {
     "checksum": "72cea3aca69d614649989be16d9ec4ea",
     "grade": false,
     "grade_id": "cell-ca8cd6037bc97a62",
     "locked": true,
     "schema_version": 1,
     "solution": false
    }
   },
   "source": [
    "**(1 pt.)** If instead we chose $m$ to minimize\n",
    "\n",
    "$$\\sum_{i=1}^n |y_i - m|^1,$$ \n",
    "\n",
    "it turns out that any such $m$ is a *median* of the vector $\\mathbf{y}$. (That is, $m$ is $\\le$ than at least half of the $y_i$, and $\\ge$ than at least half of the $y_i$.) Verify this by plotting `plot_resid(1:10, 1)` and adding a vertical line at the location of the median of this vector."
   ]
  },
  {
   "cell_type": "code",
   "execution_count": null,
   "metadata": {
    "deletable": false,
    "nbgrader": {
     "checksum": "db66662e2248260ba9a3ef4bf2be88f0",
     "grade": true,
     "grade_id": "cell-3c3eb9f19d3143c7",
     "locked": false,
     "points": 1,
     "schema_version": 1,
     "solution": true
    }
   },
   "outputs": [],
   "source": [
    "# YOUR CODE HERE\n",
    "stop()"
   ]
  },
  {
   "cell_type": "markdown",
   "metadata": {
    "deletable": false,
    "editable": false,
    "nbgrader": {
     "checksum": "56213a493818afe4fbd80bdacd44621d",
     "grade": false,
     "grade_id": "cell-550106436fdd2bf8",
     "locked": true,
     "schema_version": 1,
     "solution": false
    }
   },
   "source": [
    "**(1 pt.)** \n",
    "In the previous two parts we saw that:\n",
    "- Minimizing $\\sum_{i=1}^n |y_i - m|^2$ with respect to $m$ yields the *mean* of $y_1,\\dots,y_n$; and\n",
    "- Minimizing $\\sum_{i=1}^n |y_i - m|^1$ with respect to $m$ yields a *median* of $y_1,\\dots,y_n$.\n",
    "\n",
    "You might wonder what happens if we go a step further and minimize \n",
    "\n",
    "$$\\sum_{i=1}^n |y_i - m|^0$$\n",
    "\n",
    "with respect to $m$? \n",
    "\n",
    "For this to even make sense, we need to decide what $|y_i - m|^0$ even means when $y_i=m$ since $0^0$ is not defined. Because $|y_i - m|$ is supposed to measure error, we will choose $|y_i - m|^0 = 0$ if $m=y_i$; otherwise $|y_i - m|^0=1$ in accordance with the standard definition $x^0=1,x\\neq 0$.\n",
    "\n",
    "Try looking at `plot_resid(y, 0)` for a few different values of $y$. Describe in your own words what the minimal $m$ represents in this case. (*Hint*: what happens if $y$ has repeated values?) "
   ]
  },
  {
   "cell_type": "markdown",
   "metadata": {
    "deletable": false,
    "nbgrader": {
     "checksum": "4a550dc6e77bd3baee6d4ef699f393be",
     "grade": true,
     "grade_id": "cell-f040c9377506c75a",
     "locked": false,
     "points": 1,
     "schema_version": 1,
     "solution": true
    }
   },
   "source": [
    "YOUR ANSWER HERE"
   ]
  },
  {
   "attachments": {
    "image.png": {
     "image/png": "[encoded data removed]"
    }
   },
   "cell_type": "markdown",
   "metadata": {
    "deletable": false,
    "editable": false,
    "nbgrader": {
     "checksum": "9b9dd00b45f1093a25875647ec846675",
     "grade": false,
     "grade_id": "cell-868c3161c3599ff6",
     "locked": true,
     "schema_version": 1,
     "solution": false
    }
   },
   "source": [
    "#### Problem 7 (4 pts.)\n",
    "In lecture we saw that fitting the regression model\n",
    "\n",
    "$$y = a_0 + a_1 x + \\epsilon$$ \n",
    "\n",
    "amounts to minimizing the vertical distance between each data point $(x_i,y_i)$ and its fitted value $(x_i, \\hat{y}_i)$. On the `sim1` data set this looks like:\n",
    "\n",
    "![image.png](attachment:image.png)"
   ]
  },
  {
   "attachments": {
    "image.png": {
     "image/png": "[encoded data removed]"
    }
   },
   "cell_type": "markdown",
   "metadata": {
    "deletable": false,
    "editable": false,
    "nbgrader": {
     "checksum": "5c71368069052c0161cf0f33c3b32449",
     "grade": false,
     "grade_id": "cell-45dc77f1193631c9",
     "locked": true,
     "schema_version": 1,
     "solution": false
    }
   },
   "source": [
    "By symmetry, if we regressed $x$ on $y$, i.e. fitting the model\n",
    "\n",
    "$$x = a_0 + a_1 y + \\epsilon,$$\n",
    "\n",
    "this would be equivalent to minimizing the *horizontal* distance between each point and its predicted value:\n",
    "\n",
    "![image.png](attachment:image.png)\n",
    "\n"
   ]
  },
  {
   "attachments": {
    "image.png": {
     "image/png": "[encoded data removed]"
    }
   },
   "cell_type": "markdown",
   "metadata": {
    "deletable": false,
    "editable": false,
    "nbgrader": {
     "checksum": "45a07d0621984505fe3067c778a12daf",
     "grade": false,
     "grade_id": "cell-588f74aa32ddd27c",
     "locked": true,
     "schema_version": 1,
     "solution": false
    }
   },
   "source": [
    "What if we instead minimized the distance between each data point and its right-angle projection onto the red line?:\n",
    "\n",
    "![image.png](attachment:image.png)"
   ]
  },
  {
   "cell_type": "markdown",
   "metadata": {
    "deletable": false,
    "editable": false,
    "nbgrader": {
     "checksum": "5d780e3822fdb8f212fcf6b36c8d772b",
     "grade": false,
     "grade_id": "cell-43689cc6822bf1ce",
     "locked": true,
     "schema_version": 1,
     "solution": false
    }
   },
   "source": [
    "This line is called the *first [principal component](https://en.wikipedia.org/wiki/Principal_component_analysis)* of the data $(x_i,y_i),\\,i=1,\\dots,n$.\n",
    "\n",
    "Write a function `f_proj` which computes the first principal component: given vectors $x$ and $y$, `f_proj(x, y)` returns a vector `(a0, a1)` such that the sum of squared distances between each point $(x_i,y_i)$ and the line $y=a_0 + a_1 x$ is minimized.\n",
    "\n",
    "(*Hint*: the shortest distance from a point $(x_i,y_i)$ to the line $y=a_0 + a_1 x$ is given by \n",
    "\n",
    "$$\\frac{\\left|y_i - a_0 - a_1 x_i\\right|}{\\sqrt{1 + a_1^2}}.$$"
   ]
  },
  {
   "cell_type": "code",
   "execution_count": null,
   "metadata": {
    "deletable": false,
    "nbgrader": {
     "checksum": "11fdad6e52b7e59d0a98391f729ab4a0",
     "grade": false,
     "grade_id": "cell-1e6a89ffa0f42efb",
     "locked": false,
     "schema_version": 1,
     "solution": true
    }
   },
   "outputs": [],
   "source": [
    "f_proj = function(x, y) {\n",
    "    # YOUR CODE HERE\n",
    "    stop()\n",
    "}"
   ]
  },
  {
   "cell_type": "code",
   "execution_count": null,
   "metadata": {
    "deletable": false,
    "editable": false,
    "nbgrader": {
     "checksum": "d1dd0c9a56c07f104fda205116dbb32c",
     "grade": true,
     "grade_id": "cell-2251a443dc89dfe7",
     "locked": true,
     "points": 4,
     "schema_version": 1,
     "solution": false
    }
   },
   "outputs": [],
   "source": [
    "stopifnot(near(f_proj(sim1$x, sim1$y), c(4.307018, 2.066111), tol = 1e-6))\n",
    "stopifnot(near(f_proj(sim3$x1, sim3$y), c(7.8823792, -0.8243008), tol = 1e-6))\n",
    "stopifnot(near(f_proj(log(diamonds$price), log(diamonds$carat)), \n",
    "               c(-4.8539376, 0.5731109), tol = 1e-6))"
   ]
  }
 ],
 "metadata": {
  "kernelspec": {
   "display_name": "R",
   "language": "R",
   "name": "ir"
  },
  "language_info": {
   "codemirror_mode": "r",
   "file_extension": ".r",
   "mimetype": "text/x-r-source",
   "name": "R",
   "pygments_lexer": "r",
   "version": "3.4.2"
  }
 },
 "nbformat": 4,
 "nbformat_minor": 2
}
