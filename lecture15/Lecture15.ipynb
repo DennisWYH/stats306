{
 "cells": [
  {
   "cell_type": "code",
   "execution_count": 91,
   "metadata": {
    "slideshow": {
     "slide_type": "notes"
    }
   },
   "outputs": [
    {
     "data": {
      "text/html": [
       "\n",
       "<style>\n",
       ".rendered_html table, .rendered_html th, .rendered_html tr, .rendered_html td {\n",
       "     font-size: 100%;\n",
       "}\n",
       "body.rise-enabled div.inner_cell>div.input_area {\n",
       "    font-size: 150%;\n",
       "}\n",
       "\n",
       "body.rise-enabled div.output_subarea.output_text.output_result {\n",
       "    font-size: 150%;\n",
       "}\n",
       "body.rise-enabled div.output_subarea.output_text.output_stream.output_stdout {\n",
       "  font-size: 150%;\n",
       "}\n",
       "</style>\n"
      ]
     },
     "metadata": {},
     "output_type": "display_data"
    }
   ],
   "source": [
    "IRdisplay::display_html(\"\n",
    "<style>\n",
    ".rendered_html table, .rendered_html th, .rendered_html tr, .rendered_html td {\n",
    "     font-size: 100%;\n",
    "}\n",
    "body.rise-enabled div.inner_cell>div.input_area {\n",
    "    font-size: 150%;\n",
    "}\n",
    "\n",
    "body.rise-enabled div.output_subarea.output_text.output_result {\n",
    "    font-size: 150%;\n",
    "}\n",
    "body.rise-enabled div.output_subarea.output_text.output_stream.output_stdout {\n",
    "  font-size: 150%;\n",
    "}\n",
    "</style>\n",
    "\")"
   ]
  },
  {
   "cell_type": "code",
   "execution_count": 92,
   "metadata": {
    "slideshow": {
     "slide_type": "notes"
    }
   },
   "outputs": [],
   "source": [
    "library(tidyverse)\n",
    "library(lubridate)\n",
    "library(forcats)"
   ]
  },
  {
   "cell_type": "markdown",
   "metadata": {
    "slideshow": {
     "slide_type": "slide"
    }
   },
   "source": [
    "### Question\n",
    "How to filter out NA?"
   ]
  },
  {
   "cell_type": "code",
   "execution_count": 107,
   "metadata": {
    "slideshow": {
     "slide_type": "-"
    }
   },
   "outputs": [
    {
     "name": "stdout",
     "output_type": "stream",
     "text": [
      "# A tibble: 17 x 2\n",
      "   f            n\n",
      "   <fct>    <int>\n",
      " 1 across       1\n",
      " 2 address      1\n",
      " 3 business     1\n",
      " 4 class        1\n",
      " 5 cross        1\n",
      " 6 discuss      1\n",
      " 7 dress        1\n",
      " 8 express      1\n",
      " 9 glass        1\n",
      "10 guess        1\n",
      "11 less         1\n",
      "12 miss         1\n",
      "13 pass         1\n",
      "14 press        1\n",
      "15 process      1\n",
      "16 unless       1\n",
      "17 <NA>       964\n"
     ]
    }
   ],
   "source": [
    "w <- words %>% str_extract(\".*ss$\") %>% \n",
    "    fct_count  %>% print"
   ]
  },
  {
   "cell_type": "code",
   "execution_count": 145,
   "metadata": {
    "slideshow": {
     "slide_type": "slide"
    }
   },
   "outputs": [],
   "source": [
    "w <- words %>% str_extract(\".*ss$\") %>% \n",
    "    fct_count %>% mutate(f2 = fct_explicit_na(f)) %>% \n",
    "    filter(f2 != \"(Missing)\") %>% print"
   ]
  },
  {
   "cell_type": "markdown",
   "metadata": {
    "slideshow": {
     "slide_type": "slide"
    }
   },
   "source": [
    "# Lecture 15: More on factors & dates"
   ]
  },
  {
   "cell_type": "markdown",
   "metadata": {
    "slideshow": {
     "slide_type": "slide"
    }
   },
   "source": [
    "To add an amount of time to something, we can use functions like `days()`, `weeks()`, etc:"
   ]
  },
  {
   "cell_type": "code",
   "execution_count": 114,
   "metadata": {},
   "outputs": [
    {
     "data": {
      "text/plain": [
       "[1] \"2019-03-20\""
      ]
     },
     "metadata": {},
     "output_type": "display_data"
    },
    {
     "data": {
      "text/plain": [
       "[1] \"2019-03-21\""
      ]
     },
     "metadata": {},
     "output_type": "display_data"
    },
    {
     "data": {
      "text/plain": [
       "[1] \"2019-03-20 12:11:24 EDT\""
      ]
     },
     "metadata": {},
     "output_type": "display_data"
    }
   ],
   "source": [
    "today()\n",
    "today() + days(1)\n",
    "now() + hours(2)"
   ]
  },
  {
   "cell_type": "markdown",
   "metadata": {
    "slideshow": {
     "slide_type": "slide"
    }
   },
   "source": [
    "There is a difference between these functions and the `ddays()/dyears()` functions we learned in the last lecture. The difference is the following:"
   ]
  },
  {
   "cell_type": "code",
   "execution_count": 166,
   "metadata": {},
   "outputs": [
    {
     "data": {
      "text/plain": [
       "[1] \"2021-02-28\""
      ]
     },
     "metadata": {},
     "output_type": "display_data"
    },
    {
     "data": {
      "text/plain": [
       "[1] \"2021-02-27\""
      ]
     },
     "metadata": {},
     "output_type": "display_data"
    }
   ],
   "source": [
    "mdy(\"Feb. 28, 2020\") + years(1)\n",
    "mdy(\"Feb. 28, 2020\") + dyears(1)"
   ]
  },
  {
   "cell_type": "markdown",
   "metadata": {
    "slideshow": {
     "slide_type": "notes"
    }
   },
   "source": [
    "Why are these different? Which is correct?"
   ]
  },
  {
   "cell_type": "markdown",
   "metadata": {
    "slideshow": {
     "slide_type": "slide"
    }
   },
   "source": [
    "### Exercise\n",
    "Jack is 20,000 days old today. What is Jack's birthday?"
   ]
  },
  {
   "cell_type": "code",
   "execution_count": 117,
   "metadata": {},
   "outputs": [
    {
     "data": {
      "text/plain": [
       "[1] \"1964-06-16\""
      ]
     },
     "metadata": {},
     "output_type": "display_data"
    }
   ],
   "source": [
    "today() - days(20000)"
   ]
  },
  {
   "cell_type": "markdown",
   "metadata": {
    "slideshow": {
     "slide_type": "slide"
    }
   },
   "source": [
    "#### Example\n",
    "Earlier in the semester we saw how some flights seem to have arrived before they departed:"
   ]
  },
  {
   "cell_type": "code",
   "execution_count": 120,
   "metadata": {},
   "outputs": [
    {
     "name": "stdout",
     "output_type": "stream",
     "text": [
      "# A tibble: 6 x 19\n",
      "   year month   day dep_time sched_dep_time dep_delay arr_time sched_arr_time\n",
      "  <int> <int> <int>    <int>          <int>     <dbl>    <int>          <int>\n",
      "1  2013     1     1     1929           1920         9        3              7\n",
      "2  2013     1     1     1939           1840        59       29           2151\n",
      "3  2013     1     1     2058           2100        -2        8           2359\n",
      "4  2013     1     1     2102           2108        -6      146            158\n",
      "5  2013     1     1     2108           2057        11       25             39\n",
      "6  2013     1     1     2120           2130       -10       16             18\n",
      "# ... with 11 more variables: arr_delay <dbl>, carrier <chr>, flight <int>,\n",
      "#   tailnum <chr>, origin <chr>, dest <chr>, air_time <dbl>, distance <dbl>,\n",
      "#   hour <dbl>, minute <dbl>, time_hour <dttm>\n"
     ]
    }
   ],
   "source": [
    "filter(flights, arr_time < dep_time) %>% head %>% print"
   ]
  },
  {
   "cell_type": "markdown",
   "metadata": {
    "slideshow": {
     "slide_type": "slide"
    }
   },
   "source": [
    "This is because these are overnight flights. To fix this, we can now simply add one day to `arr_time`:"
   ]
  },
  {
   "cell_type": "code",
   "execution_count": 126,
   "metadata": {},
   "outputs": [
    {
     "name": "stdout",
     "output_type": "stream",
     "text": [
      "# A tibble: 328,063 x 10\n",
      "   origin dest  dep_delay arr_delay dep_time            sched_dep_time     \n",
      "   <chr>  <chr>     <dbl>     <dbl> <dttm>              <dttm>             \n",
      " 1 EWR    IAH           2        11 2013-01-01 05:17:00 2013-01-01 05:15:00\n",
      " 2 LGA    IAH           4        20 2013-01-01 05:33:00 2013-01-01 05:29:00\n",
      " 3 JFK    MIA           2        33 2013-01-01 05:42:00 2013-01-01 05:40:00\n",
      " 4 JFK    BQN          -1       -18 2013-01-01 05:44:00 2013-01-01 05:45:00\n",
      " 5 LGA    ATL          -6       -25 2013-01-01 05:54:00 2013-01-01 06:00:00\n",
      " 6 EWR    ORD          -4        12 2013-01-01 05:54:00 2013-01-01 05:58:00\n",
      " 7 EWR    FLL          -5        19 2013-01-01 05:55:00 2013-01-01 06:00:00\n",
      " 8 LGA    IAD          -3       -14 2013-01-01 05:57:00 2013-01-01 06:00:00\n",
      " 9 JFK    MCO          -3        -8 2013-01-01 05:57:00 2013-01-01 06:00:00\n",
      "10 LGA    ORD          -2         8 2013-01-01 05:58:00 2013-01-01 06:00:00\n",
      "# ... with 328,053 more rows, and 4 more variables: arr_time <dttm>,\n",
      "#   sched_arr_time <dttm>, air_time <dbl>, overnight <lgl>\n"
     ]
    }
   ],
   "source": [
    "flights_dt = flights_dt %>% \n",
    "  mutate(\n",
    "    overnight = arr_time < dep_time,\n",
    "    arr_time = arr_time + days(overnight * 1),\n",
    "    sched_arr_time = sched_arr_time + days(overnight * 1)\n",
    "  ) %>% print"
   ]
  },
  {
   "cell_type": "markdown",
   "metadata": {
    "slideshow": {
     "slide_type": "slide"
    }
   },
   "source": [
    "### Time zones\n",
    "When we create a date-time, the default time zone is \"UTC\":"
   ]
  },
  {
   "cell_type": "code",
   "execution_count": 121,
   "metadata": {
    "slideshow": {
     "slide_type": "-"
    }
   },
   "outputs": [
    {
     "data": {
      "text/plain": [
       "[1] \"2000-01-30 UTC\""
      ]
     },
     "metadata": {},
     "output_type": "display_data"
    }
   ],
   "source": [
    "ymd_hm(\"2000-01-30 00:00\")"
   ]
  },
  {
   "cell_type": "markdown",
   "metadata": {},
   "source": [
    "This is a standard time zone which is, for historical reasons, equal to time in Greenwich, England."
   ]
  },
  {
   "cell_type": "markdown",
   "metadata": {
    "slideshow": {
     "slide_type": "slide"
    }
   },
   "source": [
    "If your times are coming from a different time zone you must specify using the `tz=` option:"
   ]
  },
  {
   "cell_type": "code",
   "execution_count": 124,
   "metadata": {},
   "outputs": [
    {
     "data": {
      "text/plain": [
       "[1] \"2017-12-30 20:11:59 EST\""
      ]
     },
     "metadata": {},
     "output_type": "display_data"
    },
    {
     "data": {
      "text/plain": [
       "[1] \"2017-06-30 20:11:59 PDT\""
      ]
     },
     "metadata": {},
     "output_type": "display_data"
    }
   ],
   "source": [
    "ymd_hms(\"2017-12-30 20:11:59\", tz=\"America/Detroit\")\n",
    "ymd_hms(\"2017-6-30 20:11:59\", tz=\"America/Los_Angeles\")"
   ]
  },
  {
   "cell_type": "markdown",
   "metadata": {
    "slideshow": {
     "slide_type": "slide"
    }
   },
   "source": [
    "You can find your local time zone using:"
   ]
  },
  {
   "cell_type": "code",
   "execution_count": 128,
   "metadata": {},
   "outputs": [
    {
     "data": {
      "text/plain": [
       "[1] \"America/Detroit\""
      ]
     },
     "metadata": {},
     "output_type": "display_data"
    }
   ],
   "source": [
    "Sys.timezone()"
   ]
  },
  {
   "cell_type": "markdown",
   "metadata": {
    "slideshow": {
     "slide_type": "slide"
    }
   },
   "source": [
    "The command `OlsonNames()` will list all the possible time zones:"
   ]
  },
  {
   "cell_type": "code",
   "execution_count": 130,
   "metadata": {},
   "outputs": [
    {
     "data": {
      "text/plain": [
       "  [1] \"Africa/Abidjan\"                   \"Africa/Accra\"                    \n",
       "  [3] \"Africa/Addis_Ababa\"               \"Africa/Algiers\"                  \n",
       "  [5] \"Africa/Asmara\"                    \"Africa/Asmera\"                   \n",
       "  [7] \"Africa/Bamako\"                    \"Africa/Bangui\"                   \n",
       "  [9] \"Africa/Banjul\"                    \"Africa/Bissau\"                   \n",
       " [11] \"Africa/Blantyre\"                  \"Africa/Brazzaville\"              \n",
       " [13] \"Africa/Bujumbura\"                 \"Africa/Cairo\"                    \n",
       " [15] \"Africa/Casablanca\"                \"Africa/Ceuta\"                    \n",
       " [17] \"Africa/Conakry\"                   \"Africa/Dakar\"                    \n",
       " [19] \"Africa/Dar_es_Salaam\"             \"Africa/Djibouti\"                 \n",
       " [21] \"Africa/Douala\"                    \"Africa/El_Aaiun\"                 \n",
       " [23] \"Africa/Freetown\"                  \"Africa/Gaborone\"                 \n",
       " [25] \"Africa/Harare\"                    \"Africa/Johannesburg\"             \n",
       " [27] \"Africa/Juba\"                      \"Africa/Kampala\"                  \n",
       " [29] \"Africa/Khartoum\"                  \"Africa/Kigali\"                   \n",
       " [31] \"Africa/Kinshasa\"                  \"Africa/Lagos\"                    \n",
       " [33] \"Africa/Libreville\"                \"Africa/Lome\"                     \n",
       " [35] \"Africa/Luanda\"                    \"Africa/Lubumbashi\"               \n",
       " [37] \"Africa/Lusaka\"                    \"Africa/Malabo\"                   \n",
       " [39] \"Africa/Maputo\"                    \"Africa/Maseru\"                   \n",
       " [41] \"Africa/Mbabane\"                   \"Africa/Mogadishu\"                \n",
       " [43] \"Africa/Monrovia\"                  \"Africa/Nairobi\"                  \n",
       " [45] \"Africa/Ndjamena\"                  \"Africa/Niamey\"                   \n",
       " [47] \"Africa/Nouakchott\"                \"Africa/Ouagadougou\"              \n",
       " [49] \"Africa/Porto-Novo\"                \"Africa/Sao_Tome\"                 \n",
       " [51] \"Africa/Timbuktu\"                  \"Africa/Tripoli\"                  \n",
       " [53] \"Africa/Tunis\"                     \"Africa/Windhoek\"                 \n",
       " [55] \"America/Adak\"                     \"America/Anchorage\"               \n",
       " [57] \"America/Anguilla\"                 \"America/Antigua\"                 \n",
       " [59] \"America/Araguaina\"                \"America/Argentina/Buenos_Aires\"  \n",
       " [61] \"America/Argentina/Catamarca\"      \"America/Argentina/ComodRivadavia\"\n",
       " [63] \"America/Argentina/Cordoba\"        \"America/Argentina/Jujuy\"         \n",
       " [65] \"America/Argentina/La_Rioja\"       \"America/Argentina/Mendoza\"       \n",
       " [67] \"America/Argentina/Rio_Gallegos\"   \"America/Argentina/Salta\"         \n",
       " [69] \"America/Argentina/San_Juan\"       \"America/Argentina/San_Luis\"      \n",
       " [71] \"America/Argentina/Tucuman\"        \"America/Argentina/Ushuaia\"       \n",
       " [73] \"America/Aruba\"                    \"America/Asuncion\"                \n",
       " [75] \"America/Atikokan\"                 \"America/Atka\"                    \n",
       " [77] \"America/Bahia\"                    \"America/Bahia_Banderas\"          \n",
       " [79] \"America/Barbados\"                 \"America/Belem\"                   \n",
       " [81] \"America/Belize\"                   \"America/Blanc-Sablon\"            \n",
       " [83] \"America/Boa_Vista\"                \"America/Bogota\"                  \n",
       " [85] \"America/Boise\"                    \"America/Buenos_Aires\"            \n",
       " [87] \"America/Cambridge_Bay\"            \"America/Campo_Grande\"            \n",
       " [89] \"America/Cancun\"                   \"America/Caracas\"                 \n",
       " [91] \"America/Catamarca\"                \"America/Cayenne\"                 \n",
       " [93] \"America/Cayman\"                   \"America/Chicago\"                 \n",
       " [95] \"America/Chihuahua\"                \"America/Coral_Harbour\"           \n",
       " [97] \"America/Cordoba\"                  \"America/Costa_Rica\"              \n",
       " [99] \"America/Creston\"                  \"America/Cuiaba\"                  \n",
       "[101] \"America/Curacao\"                  \"America/Danmarkshavn\"            \n",
       "[103] \"America/Dawson\"                   \"America/Dawson_Creek\"            \n",
       "[105] \"America/Denver\"                   \"America/Detroit\"                 \n",
       "[107] \"America/Dominica\"                 \"America/Edmonton\"                \n",
       "[109] \"America/Eirunepe\"                 \"America/El_Salvador\"             \n",
       "[111] \"America/Ensenada\"                 \"America/Fort_Nelson\"             \n",
       "[113] \"America/Fort_Wayne\"               \"America/Fortaleza\"               \n",
       "[115] \"America/Glace_Bay\"                \"America/Godthab\"                 \n",
       "[117] \"America/Goose_Bay\"                \"America/Grand_Turk\"              \n",
       "[119] \"America/Grenada\"                  \"America/Guadeloupe\"              \n",
       "[121] \"America/Guatemala\"                \"America/Guayaquil\"               \n",
       "[123] \"America/Guyana\"                   \"America/Halifax\"                 \n",
       "[125] \"America/Havana\"                   \"America/Hermosillo\"              \n",
       "[127] \"America/Indiana/Indianapolis\"     \"America/Indiana/Knox\"            \n",
       "[129] \"America/Indiana/Marengo\"          \"America/Indiana/Petersburg\"      \n",
       "[131] \"America/Indiana/Tell_City\"        \"America/Indiana/Vevay\"           \n",
       "[133] \"America/Indiana/Vincennes\"        \"America/Indiana/Winamac\"         \n",
       "[135] \"America/Indianapolis\"             \"America/Inuvik\"                  \n",
       "[137] \"America/Iqaluit\"                  \"America/Jamaica\"                 \n",
       "[139] \"America/Jujuy\"                    \"America/Juneau\"                  \n",
       "[141] \"America/Kentucky/Louisville\"      \"America/Kentucky/Monticello\"     \n",
       "[143] \"America/Knox_IN\"                  \"America/Kralendijk\"              \n",
       "[145] \"America/La_Paz\"                   \"America/Lima\"                    \n",
       "[147] \"America/Los_Angeles\"              \"America/Louisville\"              \n",
       "[149] \"America/Lower_Princes\"            \"America/Maceio\"                  \n",
       "[151] \"America/Managua\"                  \"America/Manaus\"                  \n",
       "[153] \"America/Marigot\"                  \"America/Martinique\"              \n",
       "[155] \"America/Matamoros\"                \"America/Mazatlan\"                \n",
       "[157] \"America/Mendoza\"                  \"America/Menominee\"               \n",
       "[159] \"America/Merida\"                   \"America/Metlakatla\"              \n",
       "[161] \"America/Mexico_City\"              \"America/Miquelon\"                \n",
       "[163] \"America/Moncton\"                  \"America/Monterrey\"               \n",
       "[165] \"America/Montevideo\"               \"America/Montreal\"                \n",
       "[167] \"America/Montserrat\"               \"America/Nassau\"                  \n",
       "[169] \"America/New_York\"                 \"America/Nipigon\"                 \n",
       "[171] \"America/Nome\"                     \"America/Noronha\"                 \n",
       "[173] \"America/North_Dakota/Beulah\"      \"America/North_Dakota/Center\"     \n",
       "[175] \"America/North_Dakota/New_Salem\"   \"America/Ojinaga\"                 \n",
       "[177] \"America/Panama\"                   \"America/Pangnirtung\"             \n",
       "[179] \"America/Paramaribo\"               \"America/Phoenix\"                 \n",
       "[181] \"America/Port_of_Spain\"            \"America/Port-au-Prince\"          \n",
       "[183] \"America/Porto_Acre\"               \"America/Porto_Velho\"             \n",
       "[185] \"America/Puerto_Rico\"              \"America/Punta_Arenas\"            \n",
       "[187] \"America/Rainy_River\"              \"America/Rankin_Inlet\"            \n",
       "[189] \"America/Recife\"                   \"America/Regina\"                  \n",
       "[191] \"America/Resolute\"                 \"America/Rio_Branco\"              \n",
       "[193] \"America/Rosario\"                  \"America/Santa_Isabel\"            \n",
       "[195] \"America/Santarem\"                 \"America/Santiago\"                \n",
       "[197] \"America/Santo_Domingo\"            \"America/Sao_Paulo\"               \n",
       "[199] \"America/Scoresbysund\"             \"America/Shiprock\"                \n",
       "[201] \"America/Sitka\"                    \"America/St_Barthelemy\"           \n",
       "[203] \"America/St_Johns\"                 \"America/St_Kitts\"                \n",
       "[205] \"America/St_Lucia\"                 \"America/St_Thomas\"               \n",
       "[207] \"America/St_Vincent\"               \"America/Swift_Current\"           \n",
       "[209] \"America/Tegucigalpa\"              \"America/Thule\"                   \n",
       "[211] \"America/Thunder_Bay\"              \"America/Tijuana\"                 \n",
       "[213] \"America/Toronto\"                  \"America/Tortola\"                 \n",
       "[215] \"America/Vancouver\"                \"America/Virgin\"                  \n",
       "[217] \"America/Whitehorse\"               \"America/Winnipeg\"                \n",
       "[219] \"America/Yakutat\"                  \"America/Yellowknife\"             \n",
       "[221] \"Antarctica/Casey\"                 \"Antarctica/Davis\"                \n",
       "[223] \"Antarctica/DumontDUrville\"        \"Antarctica/Macquarie\"            \n",
       "[225] \"Antarctica/Mawson\"                \"Antarctica/McMurdo\"              \n",
       "[227] \"Antarctica/Palmer\"                \"Antarctica/Rothera\"              \n",
       "[229] \"Antarctica/South_Pole\"            \"Antarctica/Syowa\"                \n",
       "[231] \"Antarctica/Troll\"                 \"Antarctica/Vostok\"               \n",
       "[233] \"Arctic/Longyearbyen\"              \"Asia/Aden\"                       \n",
       "[235] \"Asia/Almaty\"                      \"Asia/Amman\"                      \n",
       "[237] \"Asia/Anadyr\"                      \"Asia/Aqtau\"                      \n",
       "[239] \"Asia/Aqtobe\"                      \"Asia/Ashgabat\"                   \n",
       "[241] \"Asia/Ashkhabad\"                   \"Asia/Atyrau\"                     \n",
       "[243] \"Asia/Baghdad\"                     \"Asia/Bahrain\"                    \n",
       "[245] \"Asia/Baku\"                        \"Asia/Bangkok\"                    \n",
       "[247] \"Asia/Barnaul\"                     \"Asia/Beirut\"                     \n",
       "[249] \"Asia/Bishkek\"                     \"Asia/Brunei\"                     \n",
       "[251] \"Asia/Calcutta\"                    \"Asia/Chita\"                      \n",
       "[253] \"Asia/Choibalsan\"                  \"Asia/Chongqing\"                  \n",
       "[255] \"Asia/Chungking\"                   \"Asia/Colombo\"                    \n",
       "[257] \"Asia/Dacca\"                       \"Asia/Damascus\"                   \n",
       "[259] \"Asia/Dhaka\"                       \"Asia/Dili\"                       \n",
       "[261] \"Asia/Dubai\"                       \"Asia/Dushanbe\"                   \n",
       "[263] \"Asia/Famagusta\"                   \"Asia/Gaza\"                       \n",
       "[265] \"Asia/Harbin\"                      \"Asia/Hebron\"                     \n",
       "[267] \"Asia/Ho_Chi_Minh\"                 \"Asia/Hong_Kong\"                  \n",
       "[269] \"Asia/Hovd\"                        \"Asia/Irkutsk\"                    \n",
       "[271] \"Asia/Istanbul\"                    \"Asia/Jakarta\"                    \n",
       "[273] \"Asia/Jayapura\"                    \"Asia/Jerusalem\"                  \n",
       "[275] \"Asia/Kabul\"                       \"Asia/Kamchatka\"                  \n",
       "[277] \"Asia/Karachi\"                     \"Asia/Kashgar\"                    \n",
       "[279] \"Asia/Kathmandu\"                   \"Asia/Katmandu\"                   \n",
       "[281] \"Asia/Khandyga\"                    \"Asia/Kolkata\"                    \n",
       "[283] \"Asia/Krasnoyarsk\"                 \"Asia/Kuala_Lumpur\"               \n",
       "[285] \"Asia/Kuching\"                     \"Asia/Kuwait\"                     \n",
       "[287] \"Asia/Macao\"                       \"Asia/Macau\"                      \n",
       "[289] \"Asia/Magadan\"                     \"Asia/Makassar\"                   \n",
       "[291] \"Asia/Manila\"                      \"Asia/Muscat\"                     \n",
       "[293] \"Asia/Nicosia\"                     \"Asia/Novokuznetsk\"               \n",
       "[295] \"Asia/Novosibirsk\"                 \"Asia/Omsk\"                       \n",
       "[297] \"Asia/Oral\"                        \"Asia/Phnom_Penh\"                 \n",
       "[299] \"Asia/Pontianak\"                   \"Asia/Pyongyang\"                  \n",
       "[301] \"Asia/Qatar\"                       \"Asia/Qyzylorda\"                  \n",
       "[303] \"Asia/Rangoon\"                     \"Asia/Riyadh\"                     \n",
       "[305] \"Asia/Saigon\"                      \"Asia/Sakhalin\"                   \n",
       "[307] \"Asia/Samarkand\"                   \"Asia/Seoul\"                      \n",
       "[309] \"Asia/Shanghai\"                    \"Asia/Singapore\"                  \n",
       "[311] \"Asia/Srednekolymsk\"               \"Asia/Taipei\"                     \n",
       "[313] \"Asia/Tashkent\"                    \"Asia/Tbilisi\"                    \n",
       "[315] \"Asia/Tehran\"                      \"Asia/Tel_Aviv\"                   \n",
       "[317] \"Asia/Thimbu\"                      \"Asia/Thimphu\"                    \n",
       "[319] \"Asia/Tokyo\"                       \"Asia/Tomsk\"                      \n",
       "[321] \"Asia/Ujung_Pandang\"               \"Asia/Ulaanbaatar\"                \n",
       "[323] \"Asia/Ulan_Bator\"                  \"Asia/Urumqi\"                     \n",
       "[325] \"Asia/Ust-Nera\"                    \"Asia/Vientiane\"                  \n",
       "[327] \"Asia/Vladivostok\"                 \"Asia/Yakutsk\"                    \n",
       "[329] \"Asia/Yangon\"                      \"Asia/Yekaterinburg\"              \n",
       "[331] \"Asia/Yerevan\"                     \"Atlantic/Azores\"                 \n",
       "[333] \"Atlantic/Bermuda\"                 \"Atlantic/Canary\"                 \n",
       "[335] \"Atlantic/Cape_Verde\"              \"Atlantic/Faeroe\"                 \n",
       "[337] \"Atlantic/Faroe\"                   \"Atlantic/Jan_Mayen\"              \n",
       "[339] \"Atlantic/Madeira\"                 \"Atlantic/Reykjavik\"              \n",
       "[341] \"Atlantic/South_Georgia\"           \"Atlantic/St_Helena\"              \n",
       "[343] \"Atlantic/Stanley\"                 \"Australia/ACT\"                   \n",
       "[345] \"Australia/Adelaide\"               \"Australia/Brisbane\"              \n",
       "[347] \"Australia/Broken_Hill\"            \"Australia/Canberra\"              \n",
       "[349] \"Australia/Currie\"                 \"Australia/Darwin\"                \n",
       "[351] \"Australia/Eucla\"                  \"Australia/Hobart\"                \n",
       "[353] \"Australia/LHI\"                    \"Australia/Lindeman\"              \n",
       "[355] \"Australia/Lord_Howe\"              \"Australia/Melbourne\"             \n",
       "[357] \"Australia/North\"                  \"Australia/NSW\"                   \n",
       "[359] \"Australia/Perth\"                  \"Australia/Queensland\"            \n",
       "[361] \"Australia/South\"                  \"Australia/Sydney\"                \n",
       "[363] \"Australia/Tasmania\"               \"Australia/Victoria\"              \n",
       "[365] \"Australia/West\"                   \"Australia/Yancowinna\"            \n",
       "[367] \"Brazil/Acre\"                      \"Brazil/DeNoronha\"                \n",
       "[369] \"Brazil/East\"                      \"Brazil/West\"                     \n",
       "[371] \"Canada/Atlantic\"                  \"Canada/Central\"                  \n",
       "[373] \"Canada/Eastern\"                   \"Canada/Mountain\"                 \n",
       "[375] \"Canada/Newfoundland\"              \"Canada/Pacific\"                  \n",
       "[377] \"Canada/Saskatchewan\"              \"Canada/Yukon\"                    \n",
       "[379] \"CET\"                              \"Chile/Continental\"               \n",
       "[381] \"Chile/EasterIsland\"               \"CST6CDT\"                         \n",
       "[383] \"Cuba\"                             \"EET\"                             \n",
       "[385] \"Egypt\"                            \"Eire\"                            \n",
       "[387] \"EST\"                              \"EST5EDT\"                         \n",
       "[389] \"Etc/GMT\"                          \"Etc/GMT-0\"                       \n",
       "[391] \"Etc/GMT-1\"                        \"Etc/GMT-10\"                      \n",
       "[393] \"Etc/GMT-11\"                       \"Etc/GMT-12\"                      \n",
       "[395] \"Etc/GMT-13\"                       \"Etc/GMT-14\"                      \n",
       "[397] \"Etc/GMT-2\"                        \"Etc/GMT-3\"                       \n",
       "[399] \"Etc/GMT-4\"                        \"Etc/GMT-5\"                       \n",
       "[401] \"Etc/GMT-6\"                        \"Etc/GMT-7\"                       \n",
       "[403] \"Etc/GMT-8\"                        \"Etc/GMT-9\"                       \n",
       "[405] \"Etc/GMT+0\"                        \"Etc/GMT+1\"                       \n",
       "[407] \"Etc/GMT+10\"                       \"Etc/GMT+11\"                      \n",
       "[409] \"Etc/GMT+12\"                       \"Etc/GMT+2\"                       \n",
       "[411] \"Etc/GMT+3\"                        \"Etc/GMT+4\"                       \n",
       "[413] \"Etc/GMT+5\"                        \"Etc/GMT+6\"                       \n",
       "[415] \"Etc/GMT+7\"                        \"Etc/GMT+8\"                       \n",
       "[417] \"Etc/GMT+9\"                        \"Etc/GMT0\"                        \n",
       "[419] \"Etc/Greenwich\"                    \"Etc/UCT\"                         \n",
       "[421] \"Etc/Universal\"                    \"Etc/UTC\"                         \n",
       "[423] \"Etc/Zulu\"                         \"Europe/Amsterdam\"                \n",
       "[425] \"Europe/Andorra\"                   \"Europe/Astrakhan\"                \n",
       "[427] \"Europe/Athens\"                    \"Europe/Belfast\"                  \n",
       "[429] \"Europe/Belgrade\"                  \"Europe/Berlin\"                   \n",
       "[431] \"Europe/Bratislava\"                \"Europe/Brussels\"                 \n",
       "[433] \"Europe/Bucharest\"                 \"Europe/Budapest\"                 \n",
       "[435] \"Europe/Busingen\"                  \"Europe/Chisinau\"                 \n",
       "[437] \"Europe/Copenhagen\"                \"Europe/Dublin\"                   \n",
       "[439] \"Europe/Gibraltar\"                 \"Europe/Guernsey\"                 \n",
       "[441] \"Europe/Helsinki\"                  \"Europe/Isle_of_Man\"              \n",
       "[443] \"Europe/Istanbul\"                  \"Europe/Jersey\"                   \n",
       "[445] \"Europe/Kaliningrad\"               \"Europe/Kiev\"                     \n",
       "[447] \"Europe/Kirov\"                     \"Europe/Lisbon\"                   \n",
       "[449] \"Europe/Ljubljana\"                 \"Europe/London\"                   \n",
       "[451] \"Europe/Luxembourg\"                \"Europe/Madrid\"                   \n",
       "[453] \"Europe/Malta\"                     \"Europe/Mariehamn\"                \n",
       "[455] \"Europe/Minsk\"                     \"Europe/Monaco\"                   \n",
       "[457] \"Europe/Moscow\"                    \"Europe/Nicosia\"                  \n",
       "[459] \"Europe/Oslo\"                      \"Europe/Paris\"                    \n",
       "[461] \"Europe/Podgorica\"                 \"Europe/Prague\"                   \n",
       "[463] \"Europe/Riga\"                      \"Europe/Rome\"                     \n",
       "[465] \"Europe/Samara\"                    \"Europe/San_Marino\"               \n",
       "[467] \"Europe/Sarajevo\"                  \"Europe/Saratov\"                  \n",
       "[469] \"Europe/Simferopol\"                \"Europe/Skopje\"                   \n",
       "[471] \"Europe/Sofia\"                     \"Europe/Stockholm\"                \n",
       "[473] \"Europe/Tallinn\"                   \"Europe/Tirane\"                   \n",
       "[475] \"Europe/Tiraspol\"                  \"Europe/Ulyanovsk\"                \n",
       "[477] \"Europe/Uzhgorod\"                  \"Europe/Vaduz\"                    \n",
       "[479] \"Europe/Vatican\"                   \"Europe/Vienna\"                   \n",
       "[481] \"Europe/Vilnius\"                   \"Europe/Volgograd\"                \n",
       "[483] \"Europe/Warsaw\"                    \"Europe/Zagreb\"                   \n",
       "[485] \"Europe/Zaporozhye\"                \"Europe/Zurich\"                   \n",
       "[487] \"GB\"                               \"GB-Eire\"                         \n",
       "[489] \"GMT\"                              \"GMT-0\"                           \n",
       "[491] \"GMT+0\"                            \"GMT0\"                            \n",
       "[493] \"Greenwich\"                        \"Hongkong\"                        \n",
       "[495] \"HST\"                              \"Iceland\"                         \n",
       "[497] \"Indian/Antananarivo\"              \"Indian/Chagos\"                   \n",
       "[499] \"Indian/Christmas\"                 \"Indian/Cocos\"                    \n",
       "[501] \"Indian/Comoro\"                    \"Indian/Kerguelen\"                \n",
       "[503] \"Indian/Mahe\"                      \"Indian/Maldives\"                 \n",
       "[505] \"Indian/Mauritius\"                 \"Indian/Mayotte\"                  \n",
       "[507] \"Indian/Reunion\"                   \"Iran\"                            \n",
       "[509] \"Israel\"                           \"Jamaica\"                         \n",
       "[511] \"Japan\"                            \"Kwajalein\"                       \n",
       "[513] \"Libya\"                            \"MET\"                             \n",
       "[515] \"Mexico/BajaNorte\"                 \"Mexico/BajaSur\"                  \n",
       "[517] \"Mexico/General\"                   \"MST\"                             \n",
       "[519] \"MST7MDT\"                          \"Navajo\"                          \n",
       "[521] \"NZ\"                               \"NZ-CHAT\"                         \n",
       "[523] \"Pacific/Apia\"                     \"Pacific/Auckland\"                \n",
       "[525] \"Pacific/Bougainville\"             \"Pacific/Chatham\"                 \n",
       "[527] \"Pacific/Chuuk\"                    \"Pacific/Easter\"                  \n",
       "[529] \"Pacific/Efate\"                    \"Pacific/Enderbury\"               \n",
       "[531] \"Pacific/Fakaofo\"                  \"Pacific/Fiji\"                    \n",
       "[533] \"Pacific/Funafuti\"                 \"Pacific/Galapagos\"               \n",
       "[535] \"Pacific/Gambier\"                  \"Pacific/Guadalcanal\"             \n",
       "[537] \"Pacific/Guam\"                     \"Pacific/Honolulu\"                \n",
       "[539] \"Pacific/Johnston\"                 \"Pacific/Kiritimati\"              \n",
       "[541] \"Pacific/Kosrae\"                   \"Pacific/Kwajalein\"               \n",
       "[543] \"Pacific/Majuro\"                   \"Pacific/Marquesas\"               \n",
       "[545] \"Pacific/Midway\"                   \"Pacific/Nauru\"                   \n",
       "[547] \"Pacific/Niue\"                     \"Pacific/Norfolk\"                 \n",
       "[549] \"Pacific/Noumea\"                   \"Pacific/Pago_Pago\"               \n",
       "[551] \"Pacific/Palau\"                    \"Pacific/Pitcairn\"                \n",
       "[553] \"Pacific/Pohnpei\"                  \"Pacific/Ponape\"                  \n",
       "[555] \"Pacific/Port_Moresby\"             \"Pacific/Rarotonga\"               \n",
       "[557] \"Pacific/Saipan\"                   \"Pacific/Samoa\"                   \n",
       "[559] \"Pacific/Tahiti\"                   \"Pacific/Tarawa\"                  \n",
       "[561] \"Pacific/Tongatapu\"                \"Pacific/Truk\"                    \n",
       "[563] \"Pacific/Wake\"                     \"Pacific/Wallis\"                  \n",
       "[565] \"Pacific/Yap\"                      \"Poland\"                          \n",
       "[567] \"Portugal\"                         \"PRC\"                             \n",
       "[569] \"PST8PDT\"                          \"ROC\"                             \n",
       "[571] \"ROK\"                              \"Singapore\"                       \n",
       "[573] \"Turkey\"                           \"UCT\"                             \n",
       "[575] \"Universal\"                        \"US/Alaska\"                       \n",
       "[577] \"US/Aleutian\"                      \"US/Arizona\"                      \n",
       "[579] \"US/Central\"                       \"US/East-Indiana\"                 \n",
       "[581] \"US/Eastern\"                       \"US/Hawaii\"                       \n",
       "[583] \"US/Indiana-Starke\"                \"US/Michigan\"                     \n",
       "[585] \"US/Mountain\"                      \"US/Pacific\"                      \n",
       "[587] \"US/Pacific-New\"                   \"US/Samoa\"                        \n",
       "[589] \"UTC\"                              \"W-SU\"                            \n",
       "[591] \"WET\"                              \"Zulu\"                            \n",
       "attr(,\"Version\")\n",
       "[1] \"2018e\""
      ]
     },
     "metadata": {},
     "output_type": "display_data"
    }
   ],
   "source": [
    "OlsonNames()"
   ]
  },
  {
   "cell_type": "markdown",
   "metadata": {
    "slideshow": {
     "slide_type": "slide"
    }
   },
   "source": [
    "## Trump Twitter data\n",
    "We will now use what we have learned in the past two classes to analyze some real data. "
   ]
  },
  {
   "cell_type": "code",
   "execution_count": 2,
   "metadata": {
    "slideshow": {
     "slide_type": "notes"
    }
   },
   "outputs": [],
   "source": [
    "load(\"tt.RData\")  # see tt/load_tweets.ipynb for code that produces this data."
   ]
  },
  {
   "cell_type": "markdown",
   "metadata": {
    "slideshow": {
     "slide_type": "slide"
    }
   },
   "source": [
    "`trump_tweets` is a dataset of all 37,169 Tweets that Donald Trump has sent since 2010."
   ]
  },
  {
   "cell_type": "code",
   "execution_count": 3,
   "metadata": {},
   "outputs": [
    {
     "data": {
      "text/html": [
       "'Thu Dec 30 21:42:01 +0000 2010'"
      ],
      "text/latex": [
       "'Thu Dec 30 21:42:01 +0000 2010'"
      ],
      "text/markdown": [
       "'Thu Dec 30 21:42:01 +0000 2010'"
      ],
      "text/plain": [
       "[1] \"Thu Dec 30 21:42:01 +0000 2010\""
      ]
     },
     "metadata": {},
     "output_type": "display_data"
    }
   ],
   "source": [
    "# print(trump_tweets)\n",
    "trump_tweets$created_at[1]"
   ]
  },
  {
   "cell_type": "markdown",
   "metadata": {
    "slideshow": {
     "slide_type": "slide"
    }
   },
   "source": [
    "### Task #1\n",
    "Each tweet has a timestamp in the `created_at` column. We want to convert this column to a proper date-time object so that we can analyze the time component of these tweets."
   ]
  },
  {
   "cell_type": "code",
   "execution_count": 7,
   "metadata": {
    "slideshow": {
     "slide_type": "slide"
    }
   },
   "outputs": [
    {
     "name": "stdout",
     "output_type": "stream",
     "text": [
      "# A tibble: 37,169 x 9\n",
      "   source id_str text  created_at retweet_count in_reply_to_use… favorite_count\n",
      "   <chr>  <chr>  <chr> <chr>              <int> <chr>                     <int>\n",
      " 1 Twitt… 20595… WIsh… Thu Dec 3…           144 <NA>                         42\n",
      " 2 Twitt… 17979… Wish… Thu Dec 2…           109 <NA>                         55\n",
      " 3 Twitt… 15413… Don'… Thu Dec 1…           112 <NA>                         20\n",
      " 4 Twitt… 14785… I'll… Tue Dec 1…           250 <NA>                         37\n",
      " 5 Twitt… 14359… ...T… Mon Dec 1…            12 <NA>                          6\n",
      " 6 Twitt… 14358… Thos… Mon Dec 1…            14 <NA>                          6\n",
      " 7 Twitt… 14356… \"All… Mon Dec 1…            24 <NA>                          8\n",
      " 8 Twitt… 13242… Cong… Fri Dec 1…            44 <NA>                         12\n",
      " 9 Twitt… 12960… Toni… Thu Dec 0…            55 <NA>                          7\n",
      "10 Twitt… 10355… Toni… Thu Dec 0…            24 <NA>                          3\n",
      "# ... with 37,159 more rows, and 2 more variables: is_retweet <lgl>, dt <dttm>\n"
     ]
    }
   ],
   "source": [
    "trump_tweets2 <- trump_tweets %>% mutate(\n",
    "    dt=str_replace(created_at,\n",
    "    \"\\\\w+ (\\\\w+ \\\\d+) ([\\\\d:]+) \\\\+0000 (\\\\d{4})\",\n",
    "    \"\\\\1 \\\\3 \\\\2\") %>% mdy_hms) %>% print"
   ]
  },
  {
   "attachments": {
    "image.png": {
     "image/png": "[encoded data removed]"
    }
   },
   "cell_type": "markdown",
   "metadata": {
    "slideshow": {
     "slide_type": "slide"
    }
   },
   "source": [
    "### Task #2\n",
    "Plot the number of Tweets that Donald Trump has made for each quarter of the year from 2010 to present.\n",
    "![image.png](attachment:image.png)"
   ]
  },
  {
   "cell_type": "code",
   "execution_count": 152,
   "metadata": {
    "slideshow": {
     "slide_type": "slide"
    }
   },
   "outputs": [
    {
     "data": {
      "image/png": "[encoded data removed]"
     },
     "metadata": {},
     "output_type": "display_data"
    }
   ],
   "source": [
    "trump_tweets2 %>% mutate(\n",
    "    year = year(dt),\n",
    "    ) %>% \n",
    "select(dt, year) %>% ggplot + geom_bar(aes(x=year))"
   ]
  },
  {
   "cell_type": "markdown",
   "metadata": {
    "slideshow": {
     "slide_type": "slide"
    }
   },
   "source": [
    "### Task #3\n",
    "Recall that `words` contains common English words. After filtering out these words, and all words that were shorter than six characters, the most common words that the President used in 2018 were:\n",
    "\n",
    "```\n",
    "# A tibble: 11 x 2\n",
    "   words               n\n",
    "   <chr>           <int>\n",
    " 1 american          161\n",
    " 2 border            269\n",
    " 3 collusion         133\n",
    " 4 democrats         291\n",
    " 5 military          183\n",
    " 6 president         356\n",
    " 7 realdonaldtrump   182\n",
    " 8 russia            133\n",
    " 9 security          151\n",
    "10 states            150\n",
    "11 united            150\n",
    "\n",
    "```\n",
    "\n",
    "What about for 2012?"
   ]
  },
  {
   "cell_type": "code",
   "execution_count": 184,
   "metadata": {
    "slideshow": {
     "slide_type": "slide"
    }
   },
   "outputs": [
    {
     "name": "stderr",
     "output_type": "stream",
     "text": [
      "Joining, by = \"word\"\n",
      "Selecting by n\n"
     ]
    },
    {
     "data": {
      "text/plain": [
       "   word            n  \n",
       "1  president       355\n",
       "2  democrats       291\n",
       "3  border          269\n",
       "4  military        183\n",
       "5  realdonaldtrump 181\n",
       "6  american        161\n",
       "7  security        151\n",
       "8  states          150\n",
       "9  united          150\n",
       "10 collusion       133\n",
       "11 russia          133"
      ]
     },
     "metadata": {},
     "output_type": "display_data"
    }
   ],
   "source": [
    "common_words <- tibble(word=words)\n",
    "trump_tweets2 %>% \n",
    "    mutate(year=year(dt)) %>% filter(year == 2018)  %>% \n",
    "    mutate(word = \n",
    "           str_extract_all(str_to_lower(text), \"\\\\b[\\\\w']+\\\\b\")) %>%\n",
    "    unnest %>% ungroup %>% anti_join(common_words) %>% \n",
    "    count(word) %>% \n",
    "    filter(str_length(word) > 5) %>% \n",
    "    top_n(10) %>% arrange(-n)"
   ]
  },
  {
   "cell_type": "markdown",
   "metadata": {
    "slideshow": {
     "slide_type": "slide"
    }
   },
   "source": [
    "### Task #4\n",
    "What were the president's favorite #hashtags in 2018? 2012?"
   ]
  },
  {
   "cell_type": "code",
   "execution_count": null,
   "metadata": {},
   "outputs": [],
   "source": [
    "# Your code here"
   ]
  },
  {
   "cell_type": "markdown",
   "metadata": {
    "slideshow": {
     "slide_type": "slide"
    }
   },
   "source": [
    "### Task #5\n",
    "At what hour of the day (or night) is the Donald Trump most likely to tweet, and how has this changed over time?"
   ]
  },
  {
   "cell_type": "code",
   "execution_count": 211,
   "metadata": {},
   "outputs": [
    {
     "data": {
      "image/png": "[encoded data removed]"
     },
     "metadata": {},
     "output_type": "display_data"
    }
   ],
   "source": [
    "trump_tweets2 %>% mutate(year = year(dt), hour = hour(dt)) %>% \n",
    "    ggplot + geom_bar(aes(x=hour)) + facet_wrap(~ year)"
   ]
  },
  {
   "cell_type": "markdown",
   "metadata": {
    "slideshow": {
     "slide_type": "slide"
    }
   },
   "source": [
    "### Task #6\n",
    "\"Sentiment analysis\" refers to the act of assigning a label such as \"positive\" or \"negative\" to a piece of text. We will perform a simple type of sentiment analysis by assigning a numerical score to certain words in each tweet, using the `sentiments` table:"
   ]
  },
  {
   "cell_type": "code",
   "execution_count": 186,
   "metadata": {},
   "outputs": [
    {
     "data": {
      "text/plain": [
       "  word         score\n",
       "1 breathtaking 5    \n",
       "2 hurrah       5    \n",
       "3 outstanding  5    \n",
       "4 superb       5    \n",
       "5 thrilled     5    "
      ]
     },
     "metadata": {},
     "output_type": "display_data"
    }
   ],
   "source": [
    "sentiments %>% top_n(5, score)"
   ]
  },
  {
   "cell_type": "markdown",
   "metadata": {
    "slideshow": {
     "slide_type": "slide"
    }
   },
   "source": [
    "An example of how this works:"
   ]
  },
  {
   "cell_type": "code",
   "execution_count": 8,
   "metadata": {},
   "outputs": [
    {
     "name": "stderr",
     "output_type": "stream",
     "text": [
      "Joining, by = \"word\"\n"
     ]
    }
   ],
   "source": [
    "trump_sentiments <- trump_tweets2 %>% \n",
    "    mutate(\n",
    "        month = month(dt),\n",
    "        year = year(dt),\n",
    "        word = str_extract_all(str_to_lower(text), \"\\\\b\\\\w+\\\\b\")) %>% \n",
    "    unnest %>% inner_join(sentiments) %>% group_by(year, month, id_str, text) %>% \n",
    "    summarize(s=sum(score)) %>% ungroup  "
   ]
  },
  {
   "cell_type": "markdown",
   "metadata": {
    "slideshow": {
     "slide_type": "slide"
    }
   },
   "source": [
    "Average the sentiment by month for the full data set, and make a plot of the monthly average from 2014 to 2018. \n",
    "\n",
    "President Trump declared his candidacy in June of 2015. Notice anything?"
   ]
  },
  {
   "cell_type": "code",
   "execution_count": 13,
   "metadata": {
    "slideshow": {
     "slide_type": "slide"
    }
   },
   "outputs": [
    {
     "data": {},
     "metadata": {},
     "output_type": "display_data"
    },
    {
     "data": {
      "image/png": "[encoded data removed]",
      "text/plain": [
       "plot without title"
      ]
     },
     "metadata": {},
     "output_type": "display_data"
    }
   ],
   "source": [
    "trump_sentiments %>% mutate(\n",
    "        date=make_date(year, month, 1)\n",
    ") %>% filter(year >= 2014) %>% group_by(date) %>% \n",
    "    summarize(m = sum(s)) %>% mutate(m = m - mean(m))  %>% \n",
    "    ggplot + geom_col(aes(x = date, y = m)) + geom_vline(xintercept = mdy(\"June 1, 2015\"))"
   ]
  },
  {
   "cell_type": "code",
   "execution_count": null,
   "metadata": {},
   "outputs": [],
   "source": []
  }
 ],
 "metadata": {
  "celltoolbar": "Slideshow",
  "kernelspec": {
   "display_name": "R",
   "language": "R",
   "name": "ir"
  },
  "language_info": {
   "codemirror_mode": "r",
   "file_extension": ".r",
   "mimetype": "text/x-r-source",
   "name": "R",
   "pygments_lexer": "r",
   "version": "3.4.4"
  },
  "toc": {
   "nav_menu": {},
   "number_sections": true,
   "sideBar": true,
   "skip_h1_title": true,
   "toc_cell": false,
   "toc_position": {},
   "toc_section_display": "block",
   "toc_window_display": true
  }
 },
 "nbformat": 4,
 "nbformat_minor": 2
}
