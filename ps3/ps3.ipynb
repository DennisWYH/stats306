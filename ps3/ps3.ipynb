{
 "cells": [
  {
   "cell_type": "markdown",
   "metadata": {},
   "source": [
    "Before you turn this problem set in, make sure everything runs as expected. First, **restart the kernel** (in the menubar, select Kernel$\\rightarrow$Restart) and then **run all cells** (in the menubar, select Cell$\\rightarrow$Run All). Your code should run from top to bottom with no errors. Failure to do this will result in loss of points.\n",
    "\n",
    "You should not use `install.packages()` anywhere. You may assume that we have already installed all the packages needed to run your code.\n",
    "\n",
    "Make sure you fill in any place that says `YOUR CODE HERE` or \"YOUR ANSWER HERE\" and delete the `stop()` functions, as well as your name and collaborators below:"
   ]
  },
  {
   "cell_type": "code",
   "execution_count": null,
   "metadata": {},
   "outputs": [],
   "source": [
    "NAME = \"\"  # your uniqname \n",
    "COLLABORATORS = c()  # vector of uniqnames of your collaborators, if any\n",
    "## IMPORTANT: you must also have set your group on Canvas. This is only used as a backup."
   ]
  },
  {
   "cell_type": "markdown",
   "metadata": {},
   "source": [
    "---"
   ]
  },
  {
   "cell_type": "code",
   "execution_count": null,
   "metadata": {},
   "outputs": [],
   "source": [
    "library(tidyverse)\n",
    "library(nycflights13)"
   ]
  },
  {
   "cell_type": "markdown",
   "metadata": {
    "deletable": false,
    "editable": false,
    "nbgrader": {
     "checksum": "e631fa895019a68861e95419656c54ae",
     "grade": false,
     "grade_id": "cell-b2019ef39daf039d",
     "locked": true,
     "schema_version": 1,
     "solution": false
    }
   },
   "source": [
    "# STATS 306\n",
    "## Problem Set 3: Data Manipulation II\n",
    "These questions again focus on the `flights` dataset. Each question is worth two points, for a total of 20."
   ]
  },
  {
   "cell_type": "markdown",
   "metadata": {
    "deletable": false,
    "editable": false,
    "nbgrader": {
     "checksum": "15129cde3ee14abf2ed3733b8dbdb2df",
     "grade": false,
     "grade_id": "cell-0bb94bc7e9431c3c",
     "locked": true,
     "schema_version": 1,
     "solution": false
    }
   },
   "source": [
    "Problems 1-3 are based on the `billionaires` dataset that we discussed in Lecture 06. Assume citizenship equals country throughout."
   ]
  },
  {
   "cell_type": "code",
   "execution_count": null,
   "metadata": {},
   "outputs": [],
   "source": [
    "load(\"bil.RData\")\n",
    "print(bil)"
   ]
  },
  {
   "cell_type": "markdown",
   "metadata": {
    "deletable": false,
    "editable": false,
    "nbgrader": {
     "checksum": "b3cbbf735fe621d17f9dd90148a864e1",
     "grade": false,
     "grade_id": "cell-59f6007215845855",
     "locked": true,
     "schema_version": 1,
     "solution": false
    }
   },
   "source": [
    "#### Problem 1\n",
    "In which country are billionaires oldest on average? Youngest? Do not count any country which has less than five observations. Store your answers in variables `oldest1` and `youngest1`, respectively."
   ]
  },
  {
   "cell_type": "code",
   "execution_count": null,
   "metadata": {
    "deletable": false,
    "nbgrader": {
     "checksum": "5e760750d78eed39d661a3e36a4b800d",
     "grade": false,
     "grade_id": "cell-d2db1eafcdc9086c",
     "locked": false,
     "schema_version": 1,
     "solution": true
    }
   },
   "outputs": [],
   "source": [
    "oldest1 <- NA\n",
    "youngest1 <- NA\n",
    "# YOUR CODE HERE\n",
    "stop()"
   ]
  },
  {
   "cell_type": "code",
   "execution_count": null,
   "metadata": {
    "deletable": false,
    "editable": false,
    "nbgrader": {
     "checksum": "5d2b5aaaa9047cc4364c281e207845ec",
     "grade": true,
     "grade_id": "cell-7a7d98bcf2462c28",
     "locked": true,
     "points": 2,
     "schema_version": 1,
     "solution": false
    }
   },
   "outputs": [],
   "source": [
    "stopifnot(exists(\"oldest1\"))\n",
    "stopifnot(exists(\"youngest1\"))"
   ]
  },
  {
   "cell_type": "markdown",
   "metadata": {
    "deletable": false,
    "editable": false,
    "nbgrader": {
     "checksum": "91ecf1ff7b084fd514c86316b7b82c4b",
     "grade": false,
     "grade_id": "cell-f73f2b876a457f55",
     "locked": true,
     "schema_version": 1,
     "solution": false
    }
   },
   "source": [
    "#### Problem 2\n",
    "Each billionaire has a `category` indicating how they made their fortune. The overall distribution of categories is:"
   ]
  },
  {
   "cell_type": "code",
   "execution_count": null,
   "metadata": {
    "deletable": false,
    "editable": false,
    "nbgrader": {
     "checksum": "3724518c11757618b7c5b95eafed6f64",
     "grade": false,
     "grade_id": "cell-51cf5a5cc6a693db",
     "locked": true,
     "schema_version": 1,
     "solution": false
    }
   },
   "outputs": [],
   "source": [
    "table(bil$category)"
   ]
  },
  {
   "cell_type": "markdown",
   "metadata": {
    "deletable": false,
    "editable": false,
    "nbgrader": {
     "checksum": "3fedcabadb2eff1682d349b1ae347dc5",
     "grade": false,
     "grade_id": "cell-1e326545d1ad7243",
     "locked": true,
     "schema_version": 1,
     "solution": false
    }
   },
   "source": [
    "Group the billionaires into three age brackets: \"40 and under\", \"41 to 65\", and \"above 65\". (There are just 77 billionaires aged 40 and under, for example.) What is the most common category of billionaire in each of the three age brackets? Store your answer in `table2`. The table should have three rows (one per category) and three columns: `age_bracket`, `most_common_category` and `n`, the number of billionaires in the most common category."
   ]
  },
  {
   "cell_type": "code",
   "execution_count": null,
   "metadata": {
    "deletable": false,
    "nbgrader": {
     "checksum": "ba356c14a553abae1474be6bbbe47d65",
     "grade": false,
     "grade_id": "cell-7a01781f7307314b",
     "locked": false,
     "schema_version": 1,
     "solution": true
    }
   },
   "outputs": [],
   "source": [
    "table2 <- NA\n",
    "# YOUR CODE HERE\n",
    "stop()"
   ]
  },
  {
   "cell_type": "code",
   "execution_count": null,
   "metadata": {
    "deletable": false,
    "editable": false,
    "nbgrader": {
     "checksum": "28848d9e13ec8015baeaaa91e78db4b7",
     "grade": true,
     "grade_id": "cell-6c7da4762cb22ffe",
     "locked": true,
     "points": 2,
     "schema_version": 1,
     "solution": false
    }
   },
   "outputs": [],
   "source": [
    "stopifnot(exists(\"table2\"))"
   ]
  },
  {
   "cell_type": "markdown",
   "metadata": {
    "deletable": false,
    "editable": false,
    "nbgrader": {
     "checksum": "d1ec3daca16a078e2f530d122a91195a",
     "grade": false,
     "grade_id": "cell-49e8113a56dd89ad",
     "locked": true,
     "schema_version": 1,
     "solution": false
    }
   },
   "source": [
    "#### Problem 3\n",
    "Define a country's \"gender gap\" to be the difference in the percentage of male and female billionaires. (Hence, it is equal to zero if the country has exactly equal numbers of male and female billionaires.) \n",
    "\n",
    "Only one country has an equal number of male and female billionaires. The average gender gap across all countries is 0.85. If we plot countries according to their deviation from 0 (parity), grouping the 38 countries with no female billionaires into a single category, we obtain the following plot:\n",
    "\n",
    "![plot3](plot3.png)\n",
    "\n",
    "Recreate this plot."
   ]
  },
  {
   "cell_type": "code",
   "execution_count": null,
   "metadata": {
    "deletable": false,
    "nbgrader": {
     "checksum": "6f117c9bd10f5598db09f51cfc769657",
     "grade": true,
     "grade_id": "cell-7071e63743a8e71a",
     "locked": false,
     "points": 2,
     "schema_version": 1,
     "solution": true
    }
   },
   "outputs": [],
   "source": [
    "# YOUR CODE HERE\n",
    "stop()"
   ]
  },
  {
   "cell_type": "markdown",
   "metadata": {
    "deletable": false,
    "editable": false,
    "nbgrader": {
     "checksum": "22ad79153058fd0e2da6cf49bd0f893f",
     "grade": false,
     "grade_id": "cell-20275bba9d88d940",
     "locked": true,
     "schema_version": 1,
     "solution": false
    }
   },
   "source": [
    "#### Problem 4\n",
    "Recall that each airplane has a unique tail number given by `tailnum`. Find the tail number of the airplane which flew to the largest number of *unique* destinations from any of the the three departure airports in `flights`. Store the string containing this tail number in a variable called `most_dests`."
   ]
  },
  {
   "cell_type": "code",
   "execution_count": null,
   "metadata": {
    "deletable": false,
    "nbgrader": {
     "checksum": "7960c47ea7c427d277f239d8fd3d6627",
     "grade": false,
     "grade_id": "cell-e537b3c48f99f487",
     "locked": false,
     "schema_version": 1,
     "solution": true
    }
   },
   "outputs": [],
   "source": [
    "# YOUR CODE HERE\n",
    "stop()"
   ]
  },
  {
   "cell_type": "code",
   "execution_count": null,
   "metadata": {
    "deletable": false,
    "editable": false,
    "nbgrader": {
     "checksum": "568c62ef4d6fa3908c900b1e7caa6c7a",
     "grade": true,
     "grade_id": "cell-1ffbbc74bad522fc",
     "locked": true,
     "points": 2,
     "schema_version": 1,
     "solution": false
    }
   },
   "outputs": [],
   "source": [
    "stopifnot(exists(\"most_dests\"))"
   ]
  },
  {
   "cell_type": "markdown",
   "metadata": {
    "deletable": false,
    "editable": false,
    "nbgrader": {
     "checksum": "c4a77e838e0d4c69e99eeef961b27fe1",
     "grade": false,
     "grade_id": "cell-0e8abf21f2ba96ea",
     "locked": true,
     "schema_version": 1,
     "solution": false
    }
   },
   "source": [
    "\n",
    "#### Problem 5\n",
    "The following code adds a variable `week` to `flights`, such that `week==1` for the first seven days of the year, `week==2` for days 8-14, etc. (In the second half of the semester we will learn how to manipulate dates using the `lubridate` package.)"
   ]
  },
  {
   "cell_type": "code",
   "execution_count": null,
   "metadata": {
    "deletable": false,
    "editable": false,
    "nbgrader": {
     "checksum": "f865fca0179d06d5c1e0cd07abde40bf",
     "grade": false,
     "grade_id": "cell-ef89be1d94d823b6",
     "locked": true,
     "schema_version": 1,
     "solution": false
    }
   },
   "outputs": [],
   "source": [
    "flights_week = mutate(flights, week=lubridate::week(time_hour))"
   ]
  },
  {
   "cell_type": "markdown",
   "metadata": {
    "deletable": false,
    "editable": false,
    "nbgrader": {
     "checksum": "9915daf2bffe373c77d652933d63630c",
     "grade": false,
     "grade_id": "cell-445c03b12c5f570f",
     "locked": true,
     "schema_version": 1,
     "solution": false
    }
   },
   "source": [
    "Let a flight's \"positive arrival delay\" be defined as the larger of `arr_delay` and zero. We say a flight is *ridiculously late* if its arrival delay was more than ten times the average positive arrival delay for all flights in that week.\n",
    "- Use the `flights_week` table to calculate the number of ridiculously late flights in each week of the year. For example, in the first week of the year there were 81 ridiculously late flights.\n",
    "- Also add in the total number of flights in the data set for each week. \n",
    "\n",
    "Sort the resulting table in descending order of the number of ridiculously late flights and store it in a variable called `table5`. The table should have three columns, `week`, `n`, and `n_ridiculously_late`."
   ]
  },
  {
   "cell_type": "code",
   "execution_count": null,
   "metadata": {
    "deletable": false,
    "nbgrader": {
     "checksum": "cc7077aa4d1a966575373c0f325c7ec0",
     "grade": false,
     "grade_id": "cell-d6bae11e1d26ffea",
     "locked": false,
     "schema_version": 1,
     "solution": true
    }
   },
   "outputs": [],
   "source": [
    "table5 = NA\n",
    "# YOUR CODE HERE\n",
    "stop()"
   ]
  },
  {
   "cell_type": "code",
   "execution_count": null,
   "metadata": {
    "deletable": false,
    "editable": false,
    "nbgrader": {
     "checksum": "868880d36a7185703ba19a0e06f379c3",
     "grade": true,
     "grade_id": "cell-e44f4d8bb47b1dff",
     "locked": true,
     "points": 2,
     "schema_version": 1,
     "solution": false
    }
   },
   "outputs": [],
   "source": [
    "stopifnot(exists(\"table5\"))"
   ]
  },
  {
   "cell_type": "markdown",
   "metadata": {
    "deletable": false,
    "editable": false,
    "nbgrader": {
     "checksum": "11285d8f27006138ce21c432117893df",
     "grade": false,
     "grade_id": "cell-3cce0b58d245c89a",
     "locked": true,
     "schema_version": 1,
     "solution": false
    }
   },
   "source": [
    "#### Problem 6\n",
    "Use your solution in part 5\n",
    "to generate a bar plot of the number of ridiculously late flights each week. Give your plot an appropriate title and axis labels."
   ]
  },
  {
   "cell_type": "code",
   "execution_count": null,
   "metadata": {
    "deletable": false,
    "nbgrader": {
     "checksum": "6ee668ed841e79a64401901178bb253d",
     "grade": true,
     "grade_id": "cell-eb04a76e779d688a",
     "locked": false,
     "points": 2,
     "schema_version": 1,
     "solution": true
    }
   },
   "outputs": [],
   "source": [
    "# YOUR CODE HERE\n",
    "stop()"
   ]
  },
  {
   "cell_type": "markdown",
   "metadata": {
    "deletable": false,
    "editable": false,
    "nbgrader": {
     "checksum": "e9e4a7c941c39efcfe959558f80ac4b7",
     "grade": false,
     "grade_id": "cell-476b8bff101f096e",
     "locked": true,
     "schema_version": 1,
     "solution": false
    }
   },
   "source": [
    "#### Problem 7\n",
    "Your plot in problem 6 should have a curious feature: in a couple of weeks there were far fewer ridiculously late flights than the rest. \n",
    "- Investigate this further by determining the fraction of arrival delays which were missing in each week. For example, in week 1, 0.92% of flights had missing arrival delay times.\n",
    "- Additionally, rank each week by this fraction. The week with the highest fraction of missing arrival delay times should have rank one, second highest rank two, and so on.\n",
    "\n",
    "Store the result in a variable called `table7`. \n",
    "Your table should have three columns: `week`, `frac_miss_arr_delay` and `rank`."
   ]
  },
  {
   "cell_type": "code",
   "execution_count": null,
   "metadata": {
    "deletable": false,
    "nbgrader": {
     "checksum": "ae332f5adae8bad1d1869b67d97ace0f",
     "grade": false,
     "grade_id": "cell-d1e32899d644c7c6",
     "locked": false,
     "schema_version": 1,
     "solution": true
    }
   },
   "outputs": [],
   "source": [
    "table7 = NA\n",
    "# YOUR CODE HERE\n",
    "stop()"
   ]
  },
  {
   "cell_type": "code",
   "execution_count": null,
   "metadata": {
    "deletable": false,
    "editable": false,
    "nbgrader": {
     "checksum": "94740953dc3cdad6712c381e019ee113",
     "grade": true,
     "grade_id": "cell-98c257ae3838a00c",
     "locked": true,
     "points": 2,
     "schema_version": 1,
     "solution": false
    }
   },
   "outputs": [],
   "source": [
    "stopifnot(exists(\"table7\"))"
   ]
  },
  {
   "cell_type": "markdown",
   "metadata": {
    "deletable": false,
    "editable": false,
    "nbgrader": {
     "checksum": "e3e11a8030f8b1d1c95999e705e6db1d",
     "grade": false,
     "grade_id": "cell-d9c8706b679d2259",
     "locked": true,
     "schema_version": 1,
     "solution": false
    }
   },
   "source": [
    "#### Problem 8\n",
    "For the week with the highest fraction of missing arrival times in problem 6, generate a table `table8` which shows the total number of missing arrival delays for each hour and day of that week. Your table should have columns `year`, `month`, `day`, `hour`, and `n_miss_arr_delay`."
   ]
  },
  {
   "cell_type": "code",
   "execution_count": null,
   "metadata": {
    "deletable": false,
    "nbgrader": {
     "checksum": "14f7854e10e937c4f90d477d22eaa87b",
     "grade": false,
     "grade_id": "cell-2fd6d58696f1c786",
     "locked": false,
     "schema_version": 1,
     "solution": true
    }
   },
   "outputs": [],
   "source": [
    "# YOUR CODE HERE\n",
    "stop()"
   ]
  },
  {
   "cell_type": "code",
   "execution_count": null,
   "metadata": {
    "deletable": false,
    "editable": false,
    "nbgrader": {
     "checksum": "e1d7f688ce59c07a5715fbe209ed075c",
     "grade": true,
     "grade_id": "cell-094c56bd86a578f0",
     "locked": true,
     "points": 2,
     "schema_version": 1,
     "solution": false
    }
   },
   "outputs": [],
   "source": [
    "stopifnot(exists(\"table8\"))"
   ]
  },
  {
   "cell_type": "markdown",
   "metadata": {
    "deletable": false,
    "editable": false,
    "nbgrader": {
     "checksum": "3f77833f3ad00f36313ece0b1481a059",
     "grade": false,
     "grade_id": "cell-4ee3d500f55c93d2",
     "locked": true,
     "schema_version": 1,
     "solution": false
    }
   },
   "source": [
    "#### Problem 9\n",
    "Two days in `table8` should stand out from the rest. To figure out what is going on, we will join in some weather data from the `weather` table. Since we have not yet covered joins, this table is provided for you:"
   ]
  },
  {
   "cell_type": "code",
   "execution_count": null,
   "metadata": {
    "deletable": false,
    "editable": false,
    "nbgrader": {
     "checksum": "211538bb9e25336cd926a9282a1a144d",
     "grade": false,
     "grade_id": "cell-247e57cc9ef7a4f2",
     "locked": true,
     "schema_version": 1,
     "solution": false
    }
   },
   "outputs": [],
   "source": [
    "table9 = weather %>% filter(origin==\"LGA\") %>% left_join(table8, .)\n",
    "print(table9)"
   ]
  },
  {
   "cell_type": "markdown",
   "metadata": {
    "deletable": false,
    "editable": false,
    "nbgrader": {
     "checksum": "fd18cfc30c78b00db6608bd0b6590a19",
     "grade": false,
     "grade_id": "cell-8b0a3121df413611",
     "locked": true,
     "schema_version": 1,
     "solution": false
    }
   },
   "source": [
    "Define a new variable `snowfall` in table 9, which is equal to hourly precipitation (in millimeters) if the temperature is below 40 degrees Fahrenheit in that hour, and zero otherwise.\n",
    "\n",
    "Use `table9` to generate two plots: \n",
    "\n",
    "1. A bar plot of total snowfall for each day of the week in question, and\n",
    "2. A line showing the total number of flights with missing arrival times for each day.\n",
    "\n",
    "Store these plots in variables `p1` and `p2`, respectively, and use the following command to combine them:\n",
    "\n",
    "```{r}\n",
    "gridExtra::grid.arrange(p1, p2, nrow=2)\n",
    "```\n",
    "\n",
    "Your final plot should look like this:\n",
    "\n",
    "![problem 9](p9.png)"
   ]
  },
  {
   "cell_type": "code",
   "execution_count": null,
   "metadata": {
    "deletable": false,
    "nbgrader": {
     "checksum": "7a3702275bfc8b1c487c557f1e90b005",
     "grade": true,
     "grade_id": "cell-c35dddafbc3ebee6",
     "locked": false,
     "points": 2,
     "schema_version": 1,
     "solution": true
    }
   },
   "outputs": [],
   "source": [
    "# YOUR CODE HERE\n",
    "stop()"
   ]
  },
  {
   "cell_type": "markdown",
   "metadata": {
    "deletable": false,
    "editable": false,
    "nbgrader": {
     "checksum": "95a156762679993f0edbb030c84c25b3",
     "grade": false,
     "grade_id": "cell-aa1bbd89312abb40",
     "locked": true,
     "schema_version": 1,
     "solution": false
    }
   },
   "source": [
    "#### Problem 10\n",
    "In your own words, summarize your findings from problems 8-10. What do `NA`s for arrival and departure delay likely represent in these data?"
   ]
  },
  {
   "cell_type": "markdown",
   "metadata": {
    "deletable": false,
    "nbgrader": {
     "checksum": "8c15b9861b62da62e8a1b1a8b1f080bf",
     "grade": true,
     "grade_id": "cell-0f644a04d6dd307f",
     "locked": false,
     "points": 2,
     "schema_version": 1,
     "solution": true
    }
   },
   "source": [
    "YOUR ANSWER HERE"
   ]
  }
 ],
 "metadata": {
  "kernelspec": {
   "display_name": "R",
   "language": "R",
   "name": "ir"
  },
  "language_info": {
   "codemirror_mode": "r",
   "file_extension": ".r",
   "mimetype": "text/x-r-source",
   "name": "R",
   "pygments_lexer": "r",
   "version": "3.4.3"
  }
 },
 "nbformat": 4,
 "nbformat_minor": 2
}
