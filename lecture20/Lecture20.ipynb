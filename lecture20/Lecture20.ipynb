{
 "cells": [
  {
   "cell_type": "code",
   "execution_count": 1,
   "metadata": {
    "slideshow": {
     "slide_type": "notes"
    }
   },
   "outputs": [
    {
     "name": "stderr",
     "output_type": "stream",
     "text": [
      "── Attaching packages ─────────────────────────────────────── tidyverse 1.2.1 ──\n",
      "✔ ggplot2 3.1.0     ✔ purrr   0.2.5\n",
      "✔ tibble  1.4.2     ✔ dplyr   0.7.8\n",
      "✔ tidyr   0.8.2     ✔ stringr 1.3.1\n",
      "✔ readr   1.2.1     ✔ forcats 0.3.0\n",
      "── Conflicts ────────────────────────────────────────── tidyverse_conflicts() ──\n",
      "✖ dplyr::filter() masks stats::filter()\n",
      "✖ dplyr::lag()    masks stats::lag()\n",
      "\n",
      "Attaching package: ‘lubridate’\n",
      "\n",
      "The following object is masked from ‘package:base’:\n",
      "\n",
      "    date\n",
      "\n"
     ]
    }
   ],
   "source": [
    "library(modelr)\n",
    "library(tidyverse)\n",
    "library(lubridate)\n",
    "theme_set(theme_minimal())\n",
    "options(repr.plot.width=6, repr.plot.height=4)"
   ]
  },
  {
   "cell_type": "markdown",
   "metadata": {
    "slideshow": {
     "slide_type": "slide"
    }
   },
   "source": [
    "# Lecture 20: Model building and comparison\n",
    "\n",
    "In this lecture we'll look at:\n",
    "- [Building models](http://r4ds.had.co.nz/model-building.html)\n",
    "- How to compare [many models](http://r4ds.had.co.nz/many-models.html)\n",
    "- Regressions with binary outcomes ([logistic regression](#Logistic-regression))"
   ]
  },
  {
   "cell_type": "markdown",
   "metadata": {
    "slideshow": {
     "slide_type": "notes"
    }
   },
   "source": [
    "# Building models\n",
    "In practice we progressively build up models until we feel like it has captured most of the patterns in the data."
   ]
  },
  {
   "cell_type": "markdown",
   "metadata": {
    "slideshow": {
     "slide_type": "slide"
    }
   },
   "source": [
    "Earlier in the course we studied the `diamonds` data set. We found that there was an unexpected relationship between cut, clarity, and price:"
   ]
  },
  {
   "cell_type": "code",
   "execution_count": null,
   "metadata": {},
   "outputs": [],
   "source": [
    "ggplot(diamonds, aes(cut, price)) + geom_boxplot()"
   ]
  },
  {
   "cell_type": "code",
   "execution_count": null,
   "metadata": {
    "slideshow": {
     "slide_type": "slide"
    }
   },
   "outputs": [],
   "source": [
    "ggplot(diamonds, aes(color, price)) + geom_boxplot()"
   ]
  },
  {
   "cell_type": "code",
   "execution_count": null,
   "metadata": {
    "slideshow": {
     "slide_type": "slide"
    }
   },
   "outputs": [],
   "source": [
    "ggplot(diamonds, aes(clarity, price)) + geom_boxplot()"
   ]
  },
  {
   "cell_type": "markdown",
   "metadata": {
    "slideshow": {
     "slide_type": "notes"
    }
   },
   "source": [
    "Surprisingly, there is a clear negative association between quality and price: higher quality diamonds seem to have a lower price. We reasoned that this is because of a confounder: the weight of the diamond is the single most important factor for determining the price of the diamond, and lower quality diamonds tend to be larger.\n",
    "\n",
    "A plot of carat vs. price confirms this:"
   ]
  },
  {
   "cell_type": "code",
   "execution_count": null,
   "metadata": {
    "slideshow": {
     "slide_type": "slide"
    }
   },
   "outputs": [],
   "source": [
    "ggplot(diamonds, aes(carat, price)) + \n",
    "  geom_hex(bins = 50)"
   ]
  },
  {
   "cell_type": "markdown",
   "metadata": {
    "slideshow": {
     "slide_type": "notes"
    }
   },
   "source": [
    "We argued that log-transforming the data makes the relationship approximately linear. Also, we are going to drop the upper ~0.3% of heaviest diamonds by restricting to `carat < 2.5`:"
   ]
  },
  {
   "cell_type": "code",
   "execution_count": null,
   "metadata": {
    "slideshow": {
     "slide_type": "slide"
    }
   },
   "outputs": [],
   "source": [
    "diamonds2 = diamonds %>% filter(carat <= 2.5) %>% \n",
    "                         mutate(lprice = log2(price), lcarat = log2(carat))\n",
    "ggplot(diamonds2, aes(lcarat, lprice)) + geom_hex(bins = 50)"
   ]
  },
  {
   "cell_type": "markdown",
   "metadata": {
    "slideshow": {
     "slide_type": "slide"
    }
   },
   "source": [
    "Now the data are in good shape to fit a linear model:"
   ]
  },
  {
   "cell_type": "code",
   "execution_count": null,
   "metadata": {},
   "outputs": [],
   "source": [
    "mod_diamond = lm(lprice ~ lcarat, data = diamonds2)\n",
    "summary(mod_diamond)"
   ]
  },
  {
   "cell_type": "markdown",
   "metadata": {
    "slideshow": {
     "slide_type": "slide"
    }
   },
   "source": [
    "In the original, untransformed space we get:"
   ]
  },
  {
   "cell_type": "code",
   "execution_count": null,
   "metadata": {},
   "outputs": [],
   "source": [
    "add_predictions(diamonds2, mod_diamond) %>% ggplot(aes(carat, price)) + \n",
    "    geom_hex(bins = 50) + geom_line(aes(y = 2 ** pred), colour = \"black\")"
   ]
  },
  {
   "cell_type": "markdown",
   "metadata": {
    "slideshow": {
     "slide_type": "notes"
    }
   },
   "source": [
    "For large diamonds (`carat` > 2, say) there are many more observations *below* the regression line than above it. So the model predicts much higher prices for the large diamonds than are actually observed."
   ]
  },
  {
   "cell_type": "markdown",
   "metadata": {
    "slideshow": {
     "slide_type": "slide"
    }
   },
   "source": [
    "Turning to the residuals, we see that they look largely random, with no remaining discernible patterns. "
   ]
  },
  {
   "cell_type": "code",
   "execution_count": null,
   "metadata": {},
   "outputs": [],
   "source": [
    "diamonds2 = diamonds2 %>% add_residuals(mod_diamond, \"lresid\")\n",
    "ggplot(diamonds2, aes(lcarat, lresid)) + geom_hex(bins = 50)"
   ]
  },
  {
   "cell_type": "markdown",
   "metadata": {
    "slideshow": {
     "slide_type": "notes"
    }
   },
   "source": [
    "The residuals represent the component of price that is not explained by the size of the diamond. We expect that this has something to do with the diamonds *quality*. To confirm this, we can repeat the same plots as above, this time using the residual in place of the price itself:"
   ]
  },
  {
   "cell_type": "code",
   "execution_count": null,
   "metadata": {
    "slideshow": {
     "slide_type": "slide"
    }
   },
   "outputs": [],
   "source": [
    "ggplot(diamonds2, aes(cut, lresid)) + geom_boxplot()"
   ]
  },
  {
   "cell_type": "code",
   "execution_count": null,
   "metadata": {
    "slideshow": {
     "slide_type": "slide"
    }
   },
   "outputs": [],
   "source": [
    "ggplot(diamonds2, aes(color, lresid)) + geom_boxplot()"
   ]
  },
  {
   "cell_type": "code",
   "execution_count": null,
   "metadata": {
    "slideshow": {
     "slide_type": "slide"
    }
   },
   "outputs": [],
   "source": [
    "ggplot(diamonds2, aes(clarity, lresid)) + geom_boxplot()"
   ]
  },
  {
   "cell_type": "markdown",
   "metadata": {
    "slideshow": {
     "slide_type": "notes"
    }
   },
   "source": [
    "These plots indicate the relationship that we would expect: Now we see the relationship we expect: as the quality of the diamond increases, so does its price."
   ]
  },
  {
   "cell_type": "markdown",
   "metadata": {
    "slideshow": {
     "slide_type": "slide"
    }
   },
   "source": [
    "Given that the residuals still contain obvious patterns, we could go ahead and build up a more complex model which includes these additional attributes as predictors:"
   ]
  },
  {
   "cell_type": "code",
   "execution_count": null,
   "metadata": {},
   "outputs": [],
   "source": [
    "mod_diamond2 = lm(lprice ~ lcarat + cut + color + clarity, data = diamonds2)\n",
    "summary(mod_diamond2)"
   ]
  },
  {
   "cell_type": "markdown",
   "metadata": {
    "slideshow": {
     "slide_type": "slide"
    }
   },
   "source": [
    "Now to generate predictions we are required to specify four pieces of information: the (log) weight, color, cut and clarity. To examine the relationship between the prediction and one of these variables, it helps to set the remaining variables to their \"typical\" values (something like the median in the case of a continuous variable, or mode in the case of a discrete variable.)"
   ]
  },
  {
   "cell_type": "code",
   "execution_count": null,
   "metadata": {},
   "outputs": [],
   "source": [
    "grid = diamonds2 %>% data_grid(cut, lcarat = -0.515, color = \"G\", clarity = \"SI1\") %>%\n",
    "                     add_predictions(mod_diamond2) %>% print"
   ]
  },
  {
   "cell_type": "markdown",
   "metadata": {
    "slideshow": {
     "slide_type": "slide"
    }
   },
   "source": [
    "For typical values of the remaining predictors, we see the expected relationship between cut and the predicted\n",
    "log price:"
   ]
  },
  {
   "cell_type": "code",
   "execution_count": null,
   "metadata": {},
   "outputs": [],
   "source": [
    "ggplot(grid, aes(cut, pred)) + geom_point()"
   ]
  },
  {
   "cell_type": "markdown",
   "metadata": {
    "slideshow": {
     "slide_type": "slide"
    }
   },
   "source": [
    "## Factors affecting flights\n",
    "Let's try building up a model that explains the number of flights leaving from NYC airports each day."
   ]
  },
  {
   "cell_type": "code",
   "execution_count": null,
   "metadata": {},
   "outputs": [],
   "source": [
    "library(nycflights13)\n",
    "daily = flights %>% mutate(date = make_date(year, month, day)) %>% count(date) %>% print"
   ]
  },
  {
   "cell_type": "markdown",
   "metadata": {
    "slideshow": {
     "slide_type": "slide"
    }
   },
   "source": [
    "As we have already seen, there is a strong daily component to flights, as well as weaker monthly and seasonal effects:"
   ]
  },
  {
   "cell_type": "code",
   "execution_count": null,
   "metadata": {},
   "outputs": [],
   "source": [
    "ggplot(daily, aes(x = date, y = n)) + geom_line()"
   ]
  },
  {
   "cell_type": "markdown",
   "metadata": {
    "slideshow": {
     "slide_type": "slide"
    }
   },
   "source": [
    "The most obvious pattern is a day-of-the-week effect. For example:"
   ]
  },
  {
   "cell_type": "code",
   "execution_count": null,
   "metadata": {},
   "outputs": [],
   "source": [
    "daily %>% filter(week(date) == 22) %>% ggplot(aes(x = date, y = n)) + \n",
    "    geom_line() + scale_x_date(date_labels = \"%a\", date_breaks = \"1 day\")"
   ]
  },
  {
   "cell_type": "markdown",
   "metadata": {
    "slideshow": {
     "slide_type": "slide"
    }
   },
   "source": [
    "Another way to see this:"
   ]
  },
  {
   "cell_type": "code",
   "execution_count": null,
   "metadata": {},
   "outputs": [],
   "source": [
    "daily = daily %>% mutate(wday = wday(date, label = T)) %>% print\n",
    "daily %>% count(wday, wt = n) %>% ggplot(aes(x = wday, y = nn)) + geom_col()"
   ]
  },
  {
   "cell_type": "markdown",
   "metadata": {
    "slideshow": {
     "slide_type": "slide"
    }
   },
   "source": [
    "So, let's first regress out the weekday effect:"
   ]
  },
  {
   "cell_type": "code",
   "execution_count": null,
   "metadata": {},
   "outputs": [],
   "source": [
    "mod = lm(n ~ wday, data = daily)\n",
    "\n",
    "grid = daily %>% data_grid(wday) %>% add_predictions(mod, \"n\")\n",
    "\n",
    "ggplot(daily, aes(wday, n)) + \n",
    "  geom_boxplot() +\n",
    "  geom_point(data = grid, colour = \"red\", size = 4)"
   ]
  },
  {
   "cell_type": "markdown",
   "metadata": {
    "slideshow": {
     "slide_type": "slide"
    }
   },
   "source": [
    "Having removed the day-of-week effect, let's now re-examine the residuals:"
   ]
  },
  {
   "cell_type": "code",
   "execution_count": null,
   "metadata": {},
   "outputs": [],
   "source": [
    "daily = daily %>% add_residuals(mod)\n",
    "daily %>% ggplot(aes(date, resid)) + geom_ref_line(h = 0, colour = \"black\") + geom_line()"
   ]
  },
  {
   "cell_type": "markdown",
   "metadata": {
    "slideshow": {
     "slide_type": "notes"
    }
   },
   "source": [
    "The $y$-axis now plots the deviation from the expected number of flights given the day of the week. This looks better but we still see quite a bit of structure in the data. Starting around June the model starts doing worse. In particular, there seems to be certain days that are extreme outliers, as indicated by the spikes. Let's see if we can figure out what those represent:"
   ]
  },
  {
   "cell_type": "code",
   "execution_count": null,
   "metadata": {
    "slideshow": {
     "slide_type": "slide"
    }
   },
   "outputs": [],
   "source": [
    "daily %>% ggplot(aes(date, resid, colour = wday)) + \n",
    "    geom_ref_line(h = 0, colour = \"black\") + geom_line()"
   ]
  },
  {
   "cell_type": "markdown",
   "metadata": {
    "slideshow": {
     "slide_type": "slide"
    }
   },
   "source": [
    "Additionally, we have certain days with many fewer flights than expected:"
   ]
  },
  {
   "cell_type": "code",
   "execution_count": null,
   "metadata": {},
   "outputs": [],
   "source": [
    "daily %>% filter(resid < -100)"
   ]
  },
  {
   "cell_type": "markdown",
   "metadata": {
    "slideshow": {
     "slide_type": "notes"
    }
   },
   "source": [
    "We recognize many of these as public holidays: New Year's, Thanksgiving, Christmas."
   ]
  },
  {
   "cell_type": "markdown",
   "metadata": {
    "slideshow": {
     "slide_type": "slide"
    }
   },
   "source": [
    "More generally, there is a seasonal trend whereby there are fewer daily flights than expected early and later in the year, and more than expected in the summer months:"
   ]
  },
  {
   "cell_type": "code",
   "execution_count": null,
   "metadata": {},
   "outputs": [],
   "source": [
    "daily %>% ggplot(aes(date, resid)) + geom_ref_line(h = 0, colour = \"black\") + \n",
    "  geom_line(colour = \"grey50\") + \n",
    "  geom_smooth(se = FALSE, span = 0.20)"
   ]
  },
  {
   "cell_type": "markdown",
   "metadata": {
    "slideshow": {
     "slide_type": "slide"
    }
   },
   "source": [
    "### Saturday effect\n",
    "First we focus on capturing the \"Saturday\" effect. If we just look at Saturdays, we see that:"
   ]
  },
  {
   "cell_type": "code",
   "execution_count": null,
   "metadata": {},
   "outputs": [],
   "source": [
    "daily %>% filter(wday == \"Sat\") %>%  ggplot(aes(date, n)) + \n",
    "    geom_point() +  geom_line() + scale_x_date(date_breaks = \"1 month\", date_labels = \"%b\")"
   ]
  },
  {
   "cell_type": "markdown",
   "metadata": {
    "slideshow": {
     "slide_type": "slide"
    }
   },
   "source": [
    "Let's try first to manually break this up into regions of approximately equal effect."
   ]
  },
  {
   "cell_type": "code",
   "execution_count": null,
   "metadata": {},
   "outputs": [],
   "source": [
    "term <- function(date) {\n",
    "  cut(date, \n",
    "    breaks = ymd(20130101, 20130605, 20130825, 20140101),\n",
    "    labels = c(\"spring\", \"summer\", \"fall\") \n",
    "  )\n",
    "}\n",
    "\n",
    "daily <- daily %>% \n",
    "  mutate(term = term(date)) \n",
    "\n",
    "daily %>% \n",
    "  filter(wday == \"Sat\") %>% \n",
    "  ggplot(aes(date, n, colour = term)) +\n",
    "  geom_point(alpha = 1/3) + \n",
    "  geom_line() +\n",
    "  scale_x_date(NULL, date_breaks = \"1 month\", date_labels = \"%b\")"
   ]
  },
  {
   "cell_type": "markdown",
   "metadata": {
    "slideshow": {
     "slide_type": "slide"
    }
   },
   "source": [
    "Now we can compare how adding in this term effect changes our model fit:"
   ]
  },
  {
   "cell_type": "code",
   "execution_count": null,
   "metadata": {},
   "outputs": [],
   "source": [
    "mod1 = lm(n ~ wday, data = daily)\n",
    "mod2 = lm(n ~ wday * term, data = daily)\n",
    "\n",
    "daily %>% gather_residuals(without_term = mod1, with_term = mod2) %>% \n",
    "  ggplot(aes(date, resid, colour = model)) + geom_line(alpha = 0.75) +\n",
    "  geom_ref_line(h = 0, colour = \"black\") "
   ]
  },
  {
   "cell_type": "markdown",
   "metadata": {
    "slideshow": {
     "slide_type": "slide"
    }
   },
   "source": [
    "The fit looks better in the sense that the `with_term` line hews more closely to the reference line `resid=0`. But there are still a lot of big outliers that the model does not account for."
   ]
  },
  {
   "cell_type": "code",
   "execution_count": null,
   "metadata": {},
   "outputs": [],
   "source": [
    "grid = daily %>% data_grid(wday, term) %>% add_predictions(mod2, \"n\")\n",
    "ggplot(daily, aes(wday, n)) + geom_boxplot() + \n",
    "  geom_point(data = grid, colour = \"red\") + facet_wrap(~ term)"
   ]
  },
  {
   "cell_type": "markdown",
   "metadata": {
    "slideshow": {
     "slide_type": "notes"
    }
   },
   "source": [
    "The red dots here represent the model predictions. Note the effect of the outliers (black dots) on the model predictions: they tend to drag the predictions towards them. This is especially evident in the fall months. This is another example of how the linear model can be susceptible to outliers. To counteract this, we can use a model that is more robust to outliers:"
   ]
  },
  {
   "cell_type": "code",
   "execution_count": null,
   "metadata": {
    "slideshow": {
     "slide_type": "slide"
    }
   },
   "outputs": [],
   "source": [
    "mod3 = MASS::rlm(n ~ wday * term, data = daily)\n",
    "daily %>% add_residuals(mod3, \"resid\") %>% \n",
    "  ggplot(aes(date, resid)) + \n",
    "  geom_ref_line(h = 0, colour = \"black\") +\n",
    "  geom_line()"
   ]
  },
  {
   "cell_type": "markdown",
   "metadata": {},
   "source": [
    "This is looking much better. Except for a small winter effect, plus some outlying days in the summer and fall, the model now fits pretty well."
   ]
  },
  {
   "cell_type": "markdown",
   "metadata": {
    "slideshow": {
     "slide_type": "slide"
    }
   },
   "source": [
    "Lastly, we can go beyond the linear model and fit other types of models to these data:"
   ]
  },
  {
   "cell_type": "code",
   "execution_count": null,
   "metadata": {},
   "outputs": [],
   "source": [
    "mod4 = gam::gam(n ~ wday * term + s(date), data = daily)\n",
    "summary(mod4)\n",
    "daily %>% add_residuals(mod4, \"resid\") %>% \n",
    "  ggplot(aes(date, resid)) + \n",
    "  geom_ref_line(h = 0, colour = \"black\") +\n",
    "  geom_line()"
   ]
  },
  {
   "cell_type": "markdown",
   "metadata": {
    "slideshow": {
     "slide_type": "slide"
    }
   },
   "source": [
    "## Logistic regression\n",
    "In all of the regressions we have seen so far, the dependent ($y$) variable has been continuous: life expectancy, price, etc. However, there are many situations where the outcome is categorical. For simplicity, we will assume it's binary, and can be coded as 0/1. How should we model binary data?"
   ]
  },
  {
   "cell_type": "markdown",
   "metadata": {
    "slideshow": {
     "slide_type": "slide"
    }
   },
   "source": [
    "One idea is to just stick what we know and use the linear model. Will this work?"
   ]
  },
  {
   "cell_type": "code",
   "execution_count": 146,
   "metadata": {
    "slideshow": {
     "slide_type": "-"
    }
   },
   "outputs": [
    {
     "data": {
      "text/plain": [
       "\n",
       "Call:\n",
       "lm(formula = I(price > 1000) ~ carat, data = diamonds)\n",
       "\n",
       "Residuals:\n",
       "    Min      1Q  Median      3Q     Max \n",
       "-2.0679 -0.4545  0.1183  0.3181  0.5733 \n",
       "\n",
       "Coefficients:\n",
       "            Estimate Std. Error t value Pr(>|t|)    \n",
       "(Intercept) 0.287986   0.003011   95.63   <2e-16 ***\n",
       "carat       0.554868   0.003245  171.01   <2e-16 ***\n",
       "---\n",
       "Signif. codes:  0 ‘***’ 0.001 ‘**’ 0.01 ‘*’ 0.05 ‘.’ 0.1 ‘ ’ 1\n",
       "\n",
       "Residual standard error: 0.3572 on 53938 degrees of freedom\n",
       "Multiple R-squared:  0.3516,\tAdjusted R-squared:  0.3516 \n",
       "F-statistic: 2.924e+04 on 1 and 53938 DF,  p-value: < 2.2e-16\n"
      ]
     },
     "metadata": {},
     "output_type": "display_data"
    }
   ],
   "source": [
    "mdl <- lm(I(price > 1000) ~ carat, data = diamonds)\n",
    "summary(mdl)"
   ]
  },
  {
   "cell_type": "code",
   "execution_count": 147,
   "metadata": {
    "slideshow": {
     "slide_type": "slide"
    }
   },
   "outputs": [
    {
     "name": "stderr",
     "output_type": "stream",
     "text": [
      "`stat_bin()` using `bins = 30`. Pick better value with `binwidth`.\n"
     ]
    },
    {
     "data": {},
     "metadata": {},
     "output_type": "display_data"
    },
    {
     "data": {
      "image/png": "[encoded data removed]",
      "text/plain": [
       "plot without title"
      ]
     },
     "metadata": {},
     "output_type": "display_data"
    }
   ],
   "source": [
    "diamonds %>% add_residuals(mdl) %>% mutate(resid=as.numeric(resid)) %>% ggplot + geom_histogram(aes(x=resid))"
   ]
  },
  {
   "cell_type": "markdown",
   "metadata": {
    "slideshow": {
     "slide_type": "notes"
    }
   },
   "source": [
    "The linear model is fundamentally wrong for categorical outcomes, because the normal distribution is not discrete. (Note that categorical covariates are fine.) "
   ]
  },
  {
   "cell_type": "markdown",
   "metadata": {
    "slideshow": {
     "slide_type": "slide"
    }
   },
   "source": [
    "The linear model says:\n",
    "\n",
    "$$y = f(a + b x)$$ \n",
    "\n",
    "for $f(x)=x$. For 0/1 outcomes, let's instead try to think probabilistically:\n",
    "\n",
    "$$\\text{Prob}(y=1) = \\underbrace{f(a + b x)}_{(\\text{some function of the covariates})}$$"
   ]
  },
  {
   "cell_type": "markdown",
   "metadata": {
    "slideshow": {
     "slide_type": "slide"
    }
   },
   "source": [
    "What criteria should this function $f$ have?\n",
    "- It's range needs to be $[0,1]$.\n",
    "- For \"extreme\" values of $a + bx$ it should tend to zero one one.\n",
    "\n",
    "The function we will use, for various technical reasons, is called the **logistic function**:\n",
    "$$f(x) = \\frac{1}{1 + e^{-x}}.$$"
   ]
  },
  {
   "attachments": {
    "image.png": {
     "image/png": "[encoded data removed]"
    }
   },
   "cell_type": "markdown",
   "metadata": {
    "slideshow": {
     "slide_type": "slide"
    }
   },
   "source": [
    "![image.png](attachment:image.png)"
   ]
  },
  {
   "cell_type": "code",
   "execution_count": 95,
   "metadata": {
    "slideshow": {
     "slide_type": "notes"
    }
   },
   "outputs": [
    {
     "data": {},
     "metadata": {},
     "output_type": "display_data"
    },
    {
     "data": {
      "image/png": "[encoded data removed]",
      "text/plain": [
       "plot without title"
      ]
     },
     "metadata": {},
     "output_type": "display_data"
    }
   ],
   "source": [
    "expand.grid(x=seq(-5, 5, .1)) %>% ggplot(aes(x=x)) + \n",
    "    stat_function(fun=function(x) (1 / (1 + exp(-x))), xlim=c(-5, 5), color=\"blue\") +\n",
    "    stat_function(fun=function(x) 1/2 + x/5, xlim=c(-5, 5), color=\"red\") +\n",
    "    annotate(x=3.5, y=1.5, geom=\"text\", label=\"linear model\", color=\"red\") +\n",
    "    annotate(x=4.0, y=.85, geom=\"text\", label=\"logistic model\", color=\"blue\") + \n",
    "    ylab(\"predicted probability\")"
   ]
  },
  {
   "cell_type": "markdown",
   "metadata": {
    "slideshow": {
     "slide_type": "notes"
    }
   },
   "source": [
    "Let's re-do our model fitting and residual diagnostics using this model:"
   ]
  },
  {
   "cell_type": "code",
   "execution_count": 154,
   "metadata": {
    "slideshow": {
     "slide_type": "slide"
    }
   },
   "outputs": [
    {
     "data": {
      "text/plain": [
       "\n",
       "Call:\n",
       "glm(formula = I(price > 10000) ~ carat, family = \"binomial\", \n",
       "    data = diamonds)\n",
       "\n",
       "Deviance Residuals: \n",
       "    Min       1Q   Median       3Q      Max  \n",
       "-4.6303  -0.2201  -0.0459  -0.0217   2.7322  \n",
       "\n",
       "Coefficients:\n",
       "            Estimate Std. Error z value Pr(>|z|)    \n",
       "(Intercept) -10.5461     0.1250  -84.37   <2e-16 ***\n",
       "carat         6.8379     0.0882   77.53   <2e-16 ***\n",
       "---\n",
       "Signif. codes:  0 ‘***’ 0.001 ‘**’ 0.01 ‘*’ 0.05 ‘.’ 0.1 ‘ ’ 1\n",
       "\n",
       "(Dispersion parameter for binomial family taken to be 1)\n",
       "\n",
       "    Null deviance: 34308  on 53939  degrees of freedom\n",
       "Residual deviance: 12308  on 53938  degrees of freedom\n",
       "AIC: 12312\n",
       "\n",
       "Number of Fisher Scoring iterations: 8\n"
      ]
     },
     "metadata": {},
     "output_type": "display_data"
    }
   ],
   "source": [
    "mdl <- glm(I(price > 10000) ~ carat, data=diamonds, family=\"binomial\")\n",
    "summary(mdl)"
   ]
  },
  {
   "cell_type": "markdown",
   "metadata": {
    "slideshow": {
     "slide_type": "slide"
    }
   },
   "source": [
    "diamonds %>% add_predictions(mdl) %>% ggplot + geom_point(aes(x=carat, y=plogis(pred), \n",
    "                                                              color=price > 10000))"
   ]
  },
  {
   "cell_type": "markdown",
   "metadata": {
    "slideshow": {
     "slide_type": "slide"
    }
   },
   "source": [
    "### Example: Image classification\n",
    "We will use logistic regression to build an image classifier. We will train a model that recognizes the number 5."
   ]
  },
  {
   "cell_type": "code",
   "execution_count": 160,
   "metadata": {
    "slideshow": {
     "slide_type": "slide"
    }
   },
   "outputs": [
    {
     "name": "stdout",
     "output_type": "stream",
     "text": [
      "# A tibble: 60,000 x 785\n",
      "      X1    X2    X3    X4    X5    X6    X7    X8    X9   X10   X11   X12   X13\n",
      "   <dbl> <dbl> <dbl> <dbl> <dbl> <dbl> <dbl> <dbl> <dbl> <dbl> <dbl> <dbl> <dbl>\n",
      " 1     5     0     0     0     0     0     0     0     0     0     0     0     0\n",
      " 2     0     0     0     0     0     0     0     0     0     0     0     0     0\n",
      " 3     4     0     0     0     0     0     0     0     0     0     0     0     0\n",
      " 4     1     0     0     0     0     0     0     0     0     0     0     0     0\n",
      " 5     9     0     0     0     0     0     0     0     0     0     0     0     0\n",
      " 6     2     0     0     0     0     0     0     0     0     0     0     0     0\n",
      " 7     1     0     0     0     0     0     0     0     0     0     0     0     0\n",
      " 8     3     0     0     0     0     0     0     0     0     0     0     0     0\n",
      " 9     1     0     0     0     0     0     0     0     0     0     0     0     0\n",
      "10     4     0     0     0     0     0     0     0     0     0     0     0     0\n",
      "# ... with 59,990 more rows, and 772 more variables: X14 <dbl>, X15 <dbl>,\n",
      "#   X16 <dbl>, X17 <dbl>, X18 <dbl>, X19 <dbl>, X20 <dbl>, X21 <dbl>,\n",
      "#   X22 <dbl>, X23 <dbl>, X24 <dbl>, X25 <dbl>, X26 <dbl>, X27 <dbl>,\n",
      "#   X28 <dbl>, X29 <dbl>, X30 <dbl>, X31 <dbl>, X32 <dbl>, X33 <dbl>,\n",
      "#   X34 <dbl>, X35 <dbl>, X36 <dbl>, X37 <dbl>, X38 <dbl>, X39 <dbl>,\n",
      "#   X40 <dbl>, X41 <dbl>, X42 <dbl>, X43 <dbl>, X44 <dbl>, X45 <dbl>,\n",
      "#   X46 <dbl>, X47 <dbl>, X48 <dbl>, X49 <dbl>, X50 <dbl>, X51 <dbl>,\n",
      "#   X52 <dbl>, X53 <dbl>, X54 <dbl>, X55 <dbl>, X56 <dbl>, X57 <dbl>,\n",
      "#   X58 <dbl>, X59 <dbl>, X60 <dbl>, X61 <dbl>, X62 <dbl>, X63 <dbl>,\n",
      "#   X64 <dbl>, X65 <dbl>, X66 <dbl>, X67 <dbl>, X68 <dbl>, X69 <dbl>,\n",
      "#   X70 <dbl>, X71 <dbl>, X72 <dbl>, X73 <dbl>, X74 <dbl>, X75 <dbl>,\n",
      "#   X76 <dbl>, X77 <dbl>, X78 <dbl>, X79 <dbl>, X80 <dbl>, X81 <dbl>,\n",
      "#   X82 <dbl>, X83 <dbl>, X84 <dbl>, X85 <dbl>, X86 <dbl>, X87 <dbl>,\n",
      "#   X88 <dbl>, X89 <dbl>, X90 <dbl>, X91 <dbl>, X92 <dbl>, X93 <dbl>,\n",
      "#   X94 <dbl>, X95 <dbl>, X96 <dbl>, X97 <dbl>, X98 <dbl>, X99 <dbl>,\n",
      "#   X100 <dbl>, X101 <dbl>, X102 <dbl>, X103 <dbl>, X104 <dbl>, X105 <dbl>,\n",
      "#   X106 <dbl>, X107 <dbl>, X108 <dbl>, X109 <dbl>, X110 <dbl>, X111 <dbl>,\n",
      "#   X112 <dbl>, X113 <dbl>, …\n"
     ]
    }
   ],
   "source": [
    "load(\"mnist.RData\")\n",
    "print(mnist)"
   ]
  },
  {
   "cell_type": "markdown",
   "metadata": {
    "slideshow": {
     "slide_type": "notes"
    }
   },
   "source": [
    "The `mnist` table is a data frame with 60000 observations and 785 columns. Each row corresponds to a handwritten digit. The first column is the label of that image, and the next $784=28^2$ columns are pixel data for each image. "
   ]
  },
  {
   "cell_type": "code",
   "execution_count": 205,
   "metadata": {},
   "outputs": [
    {
     "data": {},
     "metadata": {},
     "output_type": "display_data"
    },
    {
     "data": {
      "image/png": "[encoded data removed]",
      "text/plain": [
       "plot without title"
      ]
     },
     "metadata": {},
     "output_type": "display_data"
    }
   ],
   "source": [
    "mnist %>% slice(1:9) %>% mutate(i=row_number()) %>% \n",
    "    gather(\"k\", \"v\", X2:X785) %>% mutate(px = as.numeric(str_sub(k, 2)) - 2,\n",
    "                                         x = px %% 28,\n",
    "                                         y = 28 - (px %/% 28)) %>% \n",
    "    ggplot() + geom_tile(aes(x=x, y=y, fill=v)) + facet_wrap(~ i) + \n",
    "    scale_fill_gradient(low=\"white\", high=\"black\")"
   ]
  },
  {
   "cell_type": "markdown",
   "metadata": {
    "slideshow": {
     "slide_type": "slide"
    }
   },
   "source": [
    "### Challenge problem\n",
    "Use logistic regression to build an image classifier that tells whether or not the image is a \"5\"."
   ]
  },
  {
   "cell_type": "code",
   "execution_count": 207,
   "metadata": {},
   "outputs": [],
   "source": [
    "train <- slice(mnist, 1:50000)\n",
    "test <- slice(mnist, -(1:50000))"
   ]
  }
 ],
 "metadata": {
  "celltoolbar": "Slideshow",
  "kernelspec": {
   "display_name": "R",
   "language": "R",
   "name": "ir"
  },
  "language_info": {
   "codemirror_mode": "r",
   "file_extension": ".r",
   "mimetype": "text/x-r-source",
   "name": "R",
   "pygments_lexer": "r",
   "version": "3.4.4"
  }
 },
 "nbformat": 4,
 "nbformat_minor": 2
}
