{
 "cells": [
  {
   "cell_type": "code",
   "execution_count": 71,
   "metadata": {},
   "outputs": [],
   "source": [
    "natural_numbers = function() {\n",
    "    i = 0L\n",
    "    function() {\n",
    "        (i <<- i + 1L)\n",
    "    }\n",
    "}\n",
    "\n",
    "N = natural_numbers()"
   ]
  },
  {
   "cell_type": "code",
   "execution_count": 72,
   "metadata": {},
   "outputs": [],
   "source": [
    "even_seq = function(seq) {\n",
    "    function() {\n",
    "        x = seq()\n",
    "        while (x %% 2 != 0) {\n",
    "            x = seq()\n",
    "        }\n",
    "        x\n",
    "    }\n",
    "}"
   ]
  },
  {
   "cell_type": "code",
   "execution_count": 73,
   "metadata": {},
   "outputs": [],
   "source": [
    "filter = function(seq, f) {\n",
    "    force(seq)\n",
    "    function() {\n",
    "        x = seq()\n",
    "        while (!f(x)) {\n",
    "            x = seq()\n",
    "        }\n",
    "        x\n",
    "    }\n",
    "}"
   ]
  },
  {
   "cell_type": "code",
   "execution_count": 74,
   "metadata": {},
   "outputs": [],
   "source": [
    "evens = filter(N, function(x) x %% 2 == 0)     "
   ]
  },
  {
   "cell_type": "code",
   "execution_count": 75,
   "metadata": {},
   "outputs": [
    {
     "data": {
      "text/plain": [
       "[1] 2"
      ]
     },
     "metadata": {},
     "output_type": "display_data"
    },
    {
     "data": {
      "text/plain": [
       "[1] 4"
      ]
     },
     "metadata": {},
     "output_type": "display_data"
    },
    {
     "data": {
      "text/plain": [
       "[1] 6"
      ]
     },
     "metadata": {},
     "output_type": "display_data"
    }
   ],
   "source": [
    "evens()\n",
    "evens()\n",
    "evens()"
   ]
  },
  {
   "cell_type": "code",
   "execution_count": 76,
   "metadata": {},
   "outputs": [
    {
     "data": {
      "text/plain": [
       "[1] 1"
      ]
     },
     "metadata": {},
     "output_type": "display_data"
    },
    {
     "data": {
      "text/plain": [
       "[1] 3"
      ]
     },
     "metadata": {},
     "output_type": "display_data"
    },
    {
     "data": {
      "text/plain": [
       "[1] 5"
      ]
     },
     "metadata": {},
     "output_type": "display_data"
    }
   ],
   "source": [
    "not_div = function(seq, k) {\n",
    "    filter(seq, function(x) x %% k != 0)\n",
    "}\n",
    "odds = not_div(natural_numbers(), 2)\n",
    "odds()\n",
    "odds()\n",
    "odds()"
   ]
  },
  {
   "cell_type": "code",
   "execution_count": 77,
   "metadata": {},
   "outputs": [
    {
     "data": {
      "text/plain": [
       " [1]  2  3  5  7 11 13 17 19 23 29 31 37 41 43 47 53 59 61 67 71"
      ]
     },
     "metadata": {},
     "output_type": "display_data"
    }
   ],
   "source": [
    "prime_sieve = function() {\n",
    "    n = natural_numbers()\n",
    "    n()  # start from 2 since 1 is not prime\n",
    "    s = n\n",
    "    function() {\n",
    "        r = s()\n",
    "        s <<- not_div(s, r)\n",
    "        r\n",
    "    }\n",
    "}\n",
    "primes = prime_sieve()\n",
    "first_20_primes = purrr::map_int(1:20, ~ primes())\n",
    "first_20_primes"
   ]
  },
  {
   "cell_type": "code",
   "execution_count": 78,
   "metadata": {},
   "outputs": [],
   "source": [
    "chunk = function(f, k) {\n",
    "    # add initial NA that will be chopped off when first called\n",
    "    ch = c(NA, purrr::map_int(1:(k - 1), ~ f()))  \n",
    "    function() {\n",
    "        (ch <<- dplyr::lead(ch, 1, default=f()))\n",
    "    }\n",
    "}"
   ]
  },
  {
   "cell_type": "code",
   "execution_count": 79,
   "metadata": {},
   "outputs": [
    {
     "data": {
      "text/plain": [
       "[1] 1 2 3"
      ]
     },
     "metadata": {},
     "output_type": "display_data"
    },
    {
     "data": {
      "text/plain": [
       "[1] 2 3 4"
      ]
     },
     "metadata": {},
     "output_type": "display_data"
    },
    {
     "data": {
      "text/plain": [
       "[1] 3 4 5"
      ]
     },
     "metadata": {},
     "output_type": "display_data"
    }
   ],
   "source": [
    "chunked = chunk(natural_numbers(), 3)\n",
    "chunked()\n",
    "chunked()\n",
    "chunked()"
   ]
  },
  {
   "cell_type": "code",
   "execution_count": 80,
   "metadata": {},
   "outputs": [],
   "source": [
    "f = function() {\n",
    "    sample(1:20, 1)\n",
    "}"
   ]
  },
  {
   "cell_type": "code",
   "execution_count": 81,
   "metadata": {},
   "outputs": [
    {
     "data": {
      "text/plain": [
       "[1] 11 14 13"
      ]
     },
     "metadata": {},
     "output_type": "display_data"
    }
   ],
   "source": [
    "cf = chunk(f, 3)\n",
    "cf()"
   ]
  },
  {
   "cell_type": "code",
   "execution_count": 82,
   "metadata": {},
   "outputs": [
    {
     "data": {
      "text/plain": [
       "[1] 14 14 14"
      ]
     },
     "metadata": {},
     "output_type": "display_data"
    },
    {
     "data": {
      "text/plain": [
       "[1] 8 8 8"
      ]
     },
     "metadata": {},
     "output_type": "display_data"
    }
   ],
   "source": [
    "all_equal = function(v) {\n",
    "    length(unique(v)) == 1\n",
    "}\n",
    "s = filter(cf, all_equal)\n",
    "s()\n",
    "s()"
   ]
  },
  {
   "cell_type": "code",
   "execution_count": 83,
   "metadata": {},
   "outputs": [],
   "source": [
    "pluck = function(seq, k) {\n",
    "    force(seq)\n",
    "    function() {\n",
    "        seq()[[k]]\n",
    "    }\n",
    "}"
   ]
  },
  {
   "cell_type": "code",
   "execution_count": 84,
   "metadata": {},
   "outputs": [],
   "source": [
    "library(magrittr)\n",
    "\n",
    "call_until = function(f, g) {\n",
    "    while (1) {\n",
    "        s = f %>% chunk(3) %>% filter(all_equal) %>% pluck(1)\n",
    "        x = s()\n",
    "        if (x == g()) {\n",
    "            return(x)\n",
    "        }\n",
    "    }\n",
    "}"
   ]
  },
  {
   "cell_type": "code",
   "execution_count": 85,
   "metadata": {},
   "outputs": [
    {
     "data": {
      "text/plain": [
       "[1] 5"
      ]
     },
     "metadata": {},
     "output_type": "display_data"
    },
    {
     "data": {
      "text/plain": [
       "[1] 137"
      ]
     },
     "metadata": {},
     "output_type": "display_data"
    },
    {
     "data": {
      "text/plain": [
       "[1] 2"
      ]
     },
     "metadata": {},
     "output_type": "display_data"
    }
   ],
   "source": [
    "i = 0\n",
    "set.seed(1)\n",
    "f = function() {\n",
    "    i <<- i + 1\n",
    "    s = sample(1:8, 1)\n",
    "}\n",
    "j = 0\n",
    "g = function() {\n",
    "    j <<- j + 1\n",
    "    s = sample(1:5, 1)\n",
    "}\n",
    "                   \n",
    "call_until(f, g)\n",
    "i\n",
    "j"
   ]
  }
 ],
 "metadata": {
  "kernelspec": {
   "display_name": "R",
   "language": "R",
   "name": "ir"
  },
  "language_info": {
   "codemirror_mode": "r",
   "file_extension": ".r",
   "mimetype": "text/x-r-source",
   "name": "R",
   "pygments_lexer": "r",
   "version": "3.4.2"
  }
 },
 "nbformat": 4,
 "nbformat_minor": 2
}
