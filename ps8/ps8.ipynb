{
 "cells": [
  {
   "cell_type": "markdown",
   "metadata": {},
   "source": [
    "Before you turn this problem in, make sure everything runs as expected. First, **restart the kernel** (in the menubar, select Kernel$\\rightarrow$Restart) and then **run all cells** (in the menubar, select Cell$\\rightarrow$Run All). Your code should run from top to bottom with no errors. Failure to do this will result in loss of points.\n",
    "\n",
    "Make sure you fill in any place that says `YOUR CODE HERE` or \"YOUR ANSWER HERE\" and delete the `stop()` functions, as well as your name and collaborators below:"
   ]
  },
  {
   "cell_type": "code",
   "execution_count": null,
   "metadata": {},
   "outputs": [],
   "source": [
    "NAME = \"\"  # your uniqname \n",
    "COLLABORATORS = c()  # vector of uniqnames of your collaborators, if any\n",
    "## IMPORTANT: also enter your group information in Canvas when you upload the assignment"
   ]
  },
  {
   "cell_type": "markdown",
   "metadata": {},
   "source": [
    "---"
   ]
  },
  {
   "cell_type": "code",
   "execution_count": null,
   "metadata": {
    "deletable": false,
    "editable": false,
    "nbgrader": {
     "checksum": "d9fa816a8e69ab7cf2d342b4dd06921e",
     "grade": false,
     "grade_id": "cell-4dbba31d3bfa7338",
     "locked": true,
     "schema_version": 1,
     "solution": false
    }
   },
   "outputs": [],
   "source": [
    "library(tidyverse)"
   ]
  },
  {
   "cell_type": "markdown",
   "metadata": {
    "deletable": false,
    "editable": false,
    "nbgrader": {
     "checksum": "e5c8621d641bc7af57b0e6e4d4a787c8",
     "grade": false,
     "grade_id": "cell-00d467455869b362",
     "locked": true,
     "schema_version": 1,
     "solution": false
    }
   },
   "source": [
    "# STATS 306\n",
    "## Problem set 8: Iteration and functional programming\n",
    "Each problem is worth two to four points, depending on difficulty, for a total of 20.\n",
    "\n",
    "*Note*: you do not need to use `install.packages()` in this notebook. You may assume that we have already installed all of the necessary packages when we run your code."
   ]
  },
  {
   "cell_type": "markdown",
   "metadata": {
    "deletable": false,
    "editable": false,
    "nbgrader": {
     "checksum": "5c6b898c5026d28d86ed4c26f7bbecc7",
     "grade": false,
     "grade_id": "cell-8096de9f8bdb7c5b",
     "locked": true,
     "schema_version": 1,
     "solution": false
    }
   },
   "source": [
    "#### Problem 1 (2 pts.)\n",
    "Write a function `meta_map(lv, lf)` which takes two list arguments of equal length: a list of double vectors `lv`, and a list of real-valued functions `lf`. `meta_map` should return a new list `ret` whose $i$-th entry `ret[[i]]` is a vector of type double which is the result mapping the $i$-th function `lf[[i]]` over the $i$-th vector `lv[[i]]`. For example:\n",
    "\n",
    "```{r}\n",
    "> meta_map(list(1:2, 3:4), list(function(x) x + 1, function(x) x^2))\n",
    "[[1]]\n",
    "[1] 2 3\n",
    "\n",
    "[[2]]\n",
    "[1]  9 16\n",
    "```"
   ]
  },
  {
   "cell_type": "code",
   "execution_count": null,
   "metadata": {
    "deletable": false,
    "nbgrader": {
     "checksum": "afd5f95ae9272702700847b6a70278e9",
     "grade": false,
     "grade_id": "cell-3085fa910d6381fa",
     "locked": false,
     "schema_version": 1,
     "solution": true
    }
   },
   "outputs": [],
   "source": [
    "meta_map = function(lv, lf) {\n",
    "    # YOUR CODE HERE\n",
    "    stop()\n",
    "}"
   ]
  },
  {
   "cell_type": "code",
   "execution_count": null,
   "metadata": {
    "deletable": false,
    "editable": false,
    "nbgrader": {
     "checksum": "9298556119108966d18df07dc4399f80",
     "grade": true,
     "grade_id": "cell-83e734fb359089ce",
     "locked": true,
     "points": 2,
     "schema_version": 1,
     "solution": false
    }
   },
   "outputs": [],
   "source": [
    "stopifnot(\n",
    "    map2(meta_map(list(1:5, 10:15, 1:6 * pi), list(function(x) x + 1, function(x) x^3, sin)),\n",
    "    list(1 + 1:5, (10:15)^3, 0), near) %>% unlist %>% all)               "
   ]
  },
  {
   "cell_type": "markdown",
   "metadata": {
    "deletable": false,
    "editable": false,
    "nbgrader": {
     "checksum": "eb7387580718a7928a76c1abd19d1f08",
     "grade": false,
     "grade_id": "cell-9ea5f3aa78324b64",
     "locked": true,
     "schema_version": 1,
     "solution": false
    }
   },
   "source": [
    "#### Problem 2 (3 pts.)\n",
    "Write a function `call_until(f, g)` which takes two function arguments `f` and `g` and does the following:\n",
    "1. Repeatedly calls `f()` until `f` returns the same value three times in a row.\n",
    "2. Calls `g()`:\n",
    "    1. If `g` returns the same value that `f()` returned three times in a row in step one, then `call_until` returns this value.\n",
    "    2. Otherwise, `call_until` goes back to step 1 and the process repeats."
   ]
  },
  {
   "cell_type": "code",
   "execution_count": null,
   "metadata": {
    "deletable": false,
    "nbgrader": {
     "checksum": "f322531faeb82ad8e261c560ad011ac0",
     "grade": false,
     "grade_id": "cell-9aca24fdc15ad1e5",
     "locked": false,
     "schema_version": 1,
     "solution": true
    }
   },
   "outputs": [],
   "source": [
    "call_until = function(f, g) {\n",
    "    # YOUR CODE HERE\n",
    "    stop()\n",
    "}"
   ]
  },
  {
   "cell_type": "code",
   "execution_count": null,
   "metadata": {
    "deletable": false,
    "editable": false,
    "nbgrader": {
     "checksum": "e671b8047a6a2be10b0b6b137f2cf9a8",
     "grade": true,
     "grade_id": "cell-5c523611cf9553c9",
     "locked": true,
     "points": 3,
     "schema_version": 1,
     "solution": false
    }
   },
   "outputs": [],
   "source": [
    "i = 0\n",
    "f = function() {\n",
    "    i <<- i + 1\n",
    "    i < 10\n",
    "}\n",
    "g = function() {\n",
    "    TRUE\n",
    "}\n",
    "stopifnot(call_until(f, g))\n",
    "stopifnot(i == 3)\n",
    "\n",
    "i = 0\n",
    "set.seed(1)\n",
    "f = function() {\n",
    "    i <<- i + 1\n",
    "    sample(1:8, 1)\n",
    "}\n",
    "j = 0\n",
    "g = function() {\n",
    "    j <<- j + 1\n",
    "    sample(1:5, 1)\n",
    "}\n",
    "stopifnot(call_until(f, g) == 5)\n",
    "stopifnot(i == 137)\n",
    "stopifnot(j == 2)"
   ]
  },
  {
   "cell_type": "markdown",
   "metadata": {
    "deletable": false,
    "editable": false,
    "nbgrader": {
     "checksum": "32627ef6d89b9e6819e236304661407d",
     "grade": false,
     "grade_id": "cell-15c52e081bd16656",
     "locked": true,
     "schema_version": 1,
     "solution": false
    }
   },
   "source": [
    "#### Problem 3 (3 pts.)\n",
    "Write a function called `r_cat` which can be passed to `reduce` to concatenate a list of vectors together. For example,\n",
    "\n",
    "```{r}\n",
    "reduce(list(1:10, 11:20, 21:100), r_cat, .init = NULL)\n",
    "```\n",
    "\n",
    "should return a vector equal to `1:100`."
   ]
  },
  {
   "cell_type": "code",
   "execution_count": null,
   "metadata": {
    "deletable": false,
    "nbgrader": {
     "checksum": "94b3011d6e74ce7405d445484e664b2f",
     "grade": false,
     "grade_id": "cell-401e371e1cd0fbf7",
     "locked": false,
     "schema_version": 1,
     "solution": true
    }
   },
   "outputs": [],
   "source": [
    "r_cat = function(x, y) {\n",
    "    # YOUR CODE HERE\n",
    "    stop()\n",
    "}"
   ]
  },
  {
   "cell_type": "code",
   "execution_count": null,
   "metadata": {
    "deletable": false,
    "editable": false,
    "nbgrader": {
     "checksum": "50a84d44ee8125338eccc3c8b6ed9211",
     "grade": true,
     "grade_id": "cell-ef78730cf482e4b3",
     "locked": true,
     "points": 3,
     "schema_version": 1,
     "solution": false
    }
   },
   "outputs": [],
   "source": [
    "stopifnot(all(reduce(list(1:10, 11:20, 21:100), r_cat, .init = NULL) == 1:100))"
   ]
  },
  {
   "cell_type": "markdown",
   "metadata": {
    "deletable": false,
    "editable": false,
    "nbgrader": {
     "checksum": "8726752636f1236df87b4a6b6de22d41",
     "grade": false,
     "grade_id": "cell-12c7beb70a9e860d",
     "locked": true,
     "schema_version": 1,
     "solution": false
    }
   },
   "source": [
    "#### Problem 4 (3 pts.)\n",
    "Write a function called `r_rev` which, when used with `reduce`, reverses a vector. Thus, for any vector `v`,\n",
    "\n",
    "```{r}\n",
    "all(reduce(v, r_rev) == rev(v))\n",
    "```\n",
    "\n",
    "should return `TRUE`."
   ]
  },
  {
   "cell_type": "code",
   "execution_count": null,
   "metadata": {
    "deletable": false,
    "nbgrader": {
     "checksum": "c0a42e32266d73f04a0a753e0cf4c45c",
     "grade": false,
     "grade_id": "cell-b8472773536c2501",
     "locked": false,
     "schema_version": 1,
     "solution": true
    }
   },
   "outputs": [],
   "source": [
    "r_rev = function(x, y) {\n",
    "    # YOUR CODE HERE\n",
    "    stop()\n",
    "}"
   ]
  },
  {
   "cell_type": "code",
   "execution_count": null,
   "metadata": {
    "deletable": false,
    "editable": false,
    "nbgrader": {
     "checksum": "7c4a74833f60f250f787823dfa5e16da",
     "grade": true,
     "grade_id": "cell-74fbaad4332adf39",
     "locked": true,
     "points": 3,
     "schema_version": 1,
     "solution": false
    }
   },
   "outputs": [],
   "source": [
    "for (v in list(1:10, letters, month.abb))\n",
    "    stopifnot(all(reduce(v, r_rev) == rev(v)))"
   ]
  },
  {
   "cell_type": "markdown",
   "metadata": {
    "deletable": false,
    "editable": false,
    "nbgrader": {
     "checksum": "8dab4b362e0a8ad30ebd2435c8aab728",
     "grade": false,
     "grade_id": "cell-540d8dfb01486de9",
     "locked": true,
     "schema_version": 1,
     "solution": false
    }
   },
   "source": [
    "#### Problem 5 (3 pts.)\n",
    "Write a function called `r_length` which can be passed to `reduce` to compute the length of a vector `v`. Thus, for any vector `v`, \n",
    "\n",
    "```{r}\n",
    "reduce(v, r_length, .init = 0) == length(v)\n",
    "```\n",
    "\n",
    "should return `TRUE`."
   ]
  },
  {
   "cell_type": "code",
   "execution_count": null,
   "metadata": {
    "deletable": false,
    "nbgrader": {
     "checksum": "967e0e6fb80b0b4e600dc889a27d4bff",
     "grade": false,
     "grade_id": "cell-bcc29e69a715ddd1",
     "locked": false,
     "schema_version": 1,
     "solution": true
    }
   },
   "outputs": [],
   "source": [
    "r_length = function(x, y) {\n",
    "    # YOUR CODE HERE\n",
    "    stop()\n",
    "}"
   ]
  },
  {
   "cell_type": "code",
   "execution_count": null,
   "metadata": {
    "deletable": false,
    "editable": false,
    "nbgrader": {
     "checksum": "7f6a06b38e60443df2f1aec144829a7b",
     "grade": true,
     "grade_id": "cell-86430ce659edb3be",
     "locked": true,
     "points": 3,
     "schema_version": 1,
     "solution": false
    }
   },
   "outputs": [],
   "source": [
    "stopifnot(reduce(10:20, r_length, .init = 0) == 11)\n",
    "stopifnot(reduce(list(\"a\", 1, -1, pi), r_length, .init = 0) == 4)"
   ]
  },
  {
   "cell_type": "markdown",
   "metadata": {
    "deletable": false,
    "editable": false,
    "nbgrader": {
     "checksum": "19225a49a2cba7eedf902c5bff7e595a",
     "grade": false,
     "grade_id": "cell-77c0877b9b0b2690",
     "locked": true,
     "schema_version": 1,
     "solution": false
    }
   },
   "source": [
    "#### Problem 6 (6 pts.)\n",
    "A *$\\alpha$-number triangle* is an triangular array of numbers such that\n",
    "1. The $n$-th row has $n$ numbers indexed by $k=1,\\dots,n$.\n",
    "2. The first and last entry (i.e. $k=1$ and $k=n$) of each row equal a fixed number $\\alpha$, and\n",
    "2. The remaining interior entries are obtained by adding up the entries above and to the left and right of it in the preceding row.\n",
    "\n",
    "For example, setting $a=1$ produces [Pascal's triangle](https://en.wikipedia.org/wiki/Pascal%27s_triangle):\n",
    "\n",
    "![Pascal's triangle](https://upload.wikimedia.org/wikipedia/commons/c/ca/Pascal_triangle_small.png)\n",
    "\n",
    "The second entry of the third row is $2=1+1$ and the second entry of the fifth row is $4=1+3$."
   ]
  },
  {
   "cell_type": "markdown",
   "metadata": {},
   "source": [
    "**(2 pts.)** Write a function `f_nt(n, k, alpha)` which computes the $k$-th entry of the $n$-th row of the $\\alpha$-number triangle. Thus, using from the examples above, we would have\n",
    "\n",
    "```{r}\n",
    "> f_nt(3, 2, 1)\n",
    "[1] 2\n",
    "> f_nt(5, 2, 1)\n",
    "[1] 4\n",
    "> f_nt(1, 1, 1)\n",
    "[1] 1\n",
    "> f_nt(8, 7, 1)\n",
    "[1] 7\n",
    "```\n",
    "\n",
    "If $k<0$ or $k>n$ then the function should return $0$. You may assume when we test your code that $0 \\le n\\le 20$ and $0 \\le \\alpha \\le 10$. "
   ]
  },
  {
   "cell_type": "code",
   "execution_count": null,
   "metadata": {
    "deletable": false,
    "nbgrader": {
     "checksum": "710b03b09c8f2d77e2677477ada273f4",
     "grade": false,
     "grade_id": "cell-6a57023287b035f0",
     "locked": false,
     "schema_version": 1,
     "solution": true
    }
   },
   "outputs": [],
   "source": [
    "f_nt = function(n, k, alpha) {\n",
    "    # YOUR CODE HERE\n",
    "    stop()\n",
    "}"
   ]
  },
  {
   "cell_type": "code",
   "execution_count": null,
   "metadata": {
    "deletable": false,
    "editable": false,
    "nbgrader": {
     "checksum": "e7774c277ccfba5187c31fb7dce97dd9",
     "grade": true,
     "grade_id": "cell-7883f17bad7f5f49",
     "locked": true,
     "points": 2,
     "schema_version": 1,
     "solution": false
    }
   },
   "outputs": [],
   "source": [
    "for (n in 1:10)  {\n",
    "    for (k in 1:(n+1)) {\n",
    "        stopifnot(choose(n, k) == f_nt(n + 1, k + 1, 1))\n",
    "    }\n",
    "}"
   ]
  },
  {
   "cell_type": "markdown",
   "metadata": {
    "deletable": false,
    "editable": false,
    "nbgrader": {
     "checksum": "471abaa68129e459d6b6e263b857619b",
     "grade": false,
     "grade_id": "cell-14ec53f2e8115fbd",
     "locked": true,
     "schema_version": 1,
     "solution": false
    }
   },
   "source": [
    "**(4 pts.)** If $n$ is large then then your function `f_nt` will run very slowly, or even crash. Write a function `f_nt_memo(n, k, alpha)` which uses memoization to efficiently compute the anser for large $n$. We will test your function on values of $n$ ranging from 1 to 200, and $\\alpha$ from 1 to 10. The memoization data structure has been allocated for you:"
   ]
  },
  {
   "cell_type": "code",
   "execution_count": null,
   "metadata": {
    "deletable": false,
    "editable": false,
    "nbgrader": {
     "checksum": "baa27c3b15e0ecd10bc8c8282aefa2ef",
     "grade": false,
     "grade_id": "cell-77a3143f6caeee86",
     "locked": true,
     "schema_version": 1,
     "solution": false
    }
   },
   "outputs": [],
   "source": [
    "memo = array(NA_integer_, dim = c(200, 200, 20)) # access using: memo[n, k, alpha]"
   ]
  },
  {
   "cell_type": "code",
   "execution_count": null,
   "metadata": {
    "deletable": false,
    "nbgrader": {
     "checksum": "1a7bca8d5042eed3f9120559536c060b",
     "grade": false,
     "grade_id": "cell-2990a43145fd261b",
     "locked": false,
     "schema_version": 1,
     "solution": true
    }
   },
   "outputs": [],
   "source": [
    "f_nt_memo = function(n, k, alpha) {\n",
    "    # YOUR CODE HERE\n",
    "    stop()\n",
    "}"
   ]
  },
  {
   "cell_type": "code",
   "execution_count": null,
   "metadata": {
    "deletable": false,
    "editable": false,
    "nbgrader": {
     "checksum": "20f36e7e772b158eafdc1cc403fc0976",
     "grade": true,
     "grade_id": "cell-3c889530261cf264",
     "locked": true,
     "points": 4,
     "schema_version": 1,
     "solution": false
    }
   },
   "outputs": [],
   "source": [
    "for (n in 1:15) {\n",
    "    for (k in 1:n) {\n",
    "        for (alpha in 1:10) {\n",
    "            stopifnot(f_nt_memo(n, k, alpha) == f_nt(n, k, alpha))\n",
    "            stopifnot(f_nt_memo(n, k, alpha) == alpha * choose(n - 1, k - 1))\n",
    "        }\n",
    "    }\n",
    "}\n",
    "stopifnot(near(f_nt_memo(150, 50, 13), 8.72242e+40, tol=1e41))"
   ]
  }
 ],
 "metadata": {
  "kernelspec": {
   "display_name": "R",
   "language": "R",
   "name": "ir"
  },
  "language_info": {
   "codemirror_mode": "r",
   "file_extension": ".r",
   "mimetype": "text/x-r-source",
   "name": "R",
   "pygments_lexer": "r",
   "version": "3.4.2"
  }
 },
 "nbformat": 4,
 "nbformat_minor": 2
}
