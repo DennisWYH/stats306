{
 "cells": [
  {
   "cell_type": "code",
   "execution_count": 1,
   "metadata": {
    "slideshow": {
     "slide_type": "notes"
    }
   },
   "outputs": [
    {
     "data": {
      "text/html": [
       "\n",
       "<style>\n",
       ".rendered_html table, .rendered_html th, .rendered_html tr, .rendered_html td {\n",
       "     font-size: 100%;\n",
       "}\n",
       "body.rise-enabled div.inner_cell>div.input_area {\n",
       "    font-size: 150%;\n",
       "}\n",
       "\n",
       "body.rise-enabled div.output_subarea.output_text.output_result {\n",
       "    font-size: 150%;\n",
       "}\n",
       "body.rise-enabled div.output_subarea.output_text.output_stream.output_stdout {\n",
       "  font-size: 150%;\n",
       "}\n",
       "</style>\n"
      ]
     },
     "metadata": {},
     "output_type": "display_data"
    }
   ],
   "source": [
    "IRdisplay::display_html(\"\n",
    "<style>\n",
    ".rendered_html table, .rendered_html th, .rendered_html tr, .rendered_html td {\n",
    "     font-size: 100%;\n",
    "}\n",
    "body.rise-enabled div.inner_cell>div.input_area {\n",
    "    font-size: 150%;\n",
    "}\n",
    "\n",
    "body.rise-enabled div.output_subarea.output_text.output_result {\n",
    "    font-size: 150%;\n",
    "}\n",
    "body.rise-enabled div.output_subarea.output_text.output_stream.output_stdout {\n",
    "  font-size: 150%;\n",
    "}\n",
    "</style>\n",
    "\")"
   ]
  },
  {
   "cell_type": "markdown",
   "metadata": {
    "slideshow": {
     "slide_type": "slide"
    }
   },
   "source": [
    "# Lecture 04: Data manipulation II\n",
    "\n",
    "<div style=\"border: 1px double black; padding: 10px; margin: 10px\">\n",
    "\n",
    "**After today's lecture you will able to:**\n",
    "* Use [pipes](#Pipes).\n",
    "* [Generate new variables](#Adding-New-Variables) using various transformations.\n",
    "* [Group data and summarize it](#Grouped-Summaries).\n",
    "</div>"
   ]
  },
  {
   "cell_type": "code",
   "execution_count": 2,
   "metadata": {
    "slideshow": {
     "slide_type": "notes"
    }
   },
   "outputs": [
    {
     "name": "stderr",
     "output_type": "stream",
     "text": [
      "── Attaching packages ─────────────────────────────────────── tidyverse 1.2.1 ──\n",
      "✔ ggplot2 2.2.1     ✔ purrr   0.2.4\n",
      "✔ tibble  1.4.2     ✔ dplyr   0.7.4\n",
      "✔ tidyr   0.8.0     ✔ stringr 1.3.0\n",
      "✔ readr   1.1.1     ✔ forcats 0.3.0\n",
      "── Conflicts ────────────────────────────────────────── tidyverse_conflicts() ──\n",
      "✖ dplyr::filter()  masks stats::filter()\n",
      "✖ purrr::flatten() masks jsonlite::flatten()\n",
      "✖ dplyr::lag()     masks stats::lag()\n"
     ]
    }
   ],
   "source": [
    "library(tidyverse)\n",
    "library(nycflights13)\n",
    "options(jupyter.plot_mimetypes = \"image/png\");"
   ]
  },
  {
   "cell_type": "markdown",
   "metadata": {
    "slideshow": {
     "slide_type": "slide"
    }
   },
   "source": [
    "## Pipes\n",
    "Starting now, we will make extensive use of the pipe operator `%>%`. To see why, consider this command from last lecture:"
   ]
  },
  {
   "cell_type": "code",
   "execution_count": 2,
   "metadata": {
    "slideshow": {
     "slide_type": "-"
    }
   },
   "outputs": [
    {
     "name": "stderr",
     "output_type": "stream",
     "text": [
      "Warning message:\n",
      "“package ‘bindrcpp’ was built under R version 3.4.4”"
     ]
    },
    {
     "name": "stdout",
     "output_type": "stream",
     "text": [
      "# A tibble: 5 x 19\n",
      "   year month   day dep_time sched_dep_time dep_delay arr_time sched_arr_time\n",
      "  <int> <int> <int>    <int>          <int>     <dbl>    <int>          <int>\n",
      "1  2013    12    31      813            812         1     1101           1111\n",
      "2  2013    12    31      905            912        -7     1055           1120\n",
      "3  2013    12    31     1105           1012        53     1211           1135\n",
      "4  2013    12    31     1121           1112         9     1418           1400\n",
      "5  2013    12    31     1311           1312        -1     1625           1606\n",
      "# ... with 11 more variables: arr_delay <dbl>, carrier <chr>, flight <int>,\n",
      "#   tailnum <chr>, origin <chr>, dest <chr>, air_time <dbl>, distance <dbl>,\n",
      "#   hour <dbl>, minute <dbl>, time_hour <dttm>\n"
     ]
    }
   ],
   "source": [
    "print(filter(flights, month == 12 & day == 31 & minute == 12))"
   ]
  },
  {
   "cell_type": "markdown",
   "metadata": {
    "slideshow": {
     "slide_type": "slide"
    }
   },
   "source": [
    "Let's say we were naive and forgot how to combine logical conditions. We could re-write this command as:"
   ]
  },
  {
   "cell_type": "code",
   "execution_count": 3,
   "metadata": {
    "slideshow": {
     "slide_type": "-"
    }
   },
   "outputs": [
    {
     "name": "stdout",
     "output_type": "stream",
     "text": [
      "# A tibble: 5 x 19\n",
      "   year month   day dep_time sched_dep_time dep_delay arr_time sched_arr_time\n",
      "  <int> <int> <int>    <int>          <int>     <dbl>    <int>          <int>\n",
      "1  2013    12    31      813            812         1     1101           1111\n",
      "2  2013    12    31      905            912        -7     1055           1120\n",
      "3  2013    12    31     1105           1012        53     1211           1135\n",
      "4  2013    12    31     1121           1112         9     1418           1400\n",
      "5  2013    12    31     1311           1312        -1     1625           1606\n",
      "# ... with 11 more variables: arr_delay <dbl>, carrier <chr>, flight <int>,\n",
      "#   tailnum <chr>, origin <chr>, dest <chr>, air_time <dbl>, distance <dbl>,\n",
      "#   hour <dbl>, minute <dbl>, time_hour <dttm>\n"
     ]
    }
   ],
   "source": [
    "print(filter(filter(filter(flights, month == 12), day == 31), minute == 12))"
   ]
  },
  {
   "cell_type": "markdown",
   "metadata": {
    "slideshow": {
     "slide_type": "slide"
    }
   },
   "source": [
    "This is not very nice. To figure out what the command is doing you have to work from the inside out, which is not the order in which we are accustomed to reading. A slight improvement might be:"
   ]
  },
  {
   "cell_type": "code",
   "execution_count": 4,
   "metadata": {
    "slideshow": {
     "slide_type": "-"
    }
   },
   "outputs": [
    {
     "name": "stdout",
     "output_type": "stream",
     "text": [
      "# A tibble: 5 x 19\n",
      "   year month   day dep_time sched_dep_time dep_delay arr_time sched_arr_time\n",
      "  <int> <int> <int>    <int>          <int>     <dbl>    <int>          <int>\n",
      "1  2013    12    31      813            812         1     1101           1111\n",
      "2  2013    12    31      905            912        -7     1055           1120\n",
      "3  2013    12    31     1105           1012        53     1211           1135\n",
      "4  2013    12    31     1121           1112         9     1418           1400\n",
      "5  2013    12    31     1311           1312        -1     1625           1606\n",
      "# ... with 11 more variables: arr_delay <dbl>, carrier <chr>, flight <int>,\n",
      "#   tailnum <chr>, origin <chr>, dest <chr>, air_time <dbl>, distance <dbl>,\n",
      "#   hour <dbl>, minute <dbl>, time_hour <dttm>\n"
     ]
    }
   ],
   "source": [
    "# option 2\n",
    "new_table = filter(flights, month == 12)\n",
    "new_table1 = filter(new_table, day == 31)\n",
    "new_table2 = filter(new_table1, minute == 12)\n",
    "print(new_table2)"
   ]
  },
  {
   "cell_type": "markdown",
   "metadata": {
    "slideshow": {
     "slide_type": "slide"
    }
   },
   "source": [
    "This is better, but now you've created a bunch of useless temporary variables, and it requires a lot of typing. Now consider rewriting the command with pipes:"
   ]
  },
  {
   "cell_type": "code",
   "execution_count": 5,
   "metadata": {
    "slideshow": {
     "slide_type": "-"
    }
   },
   "outputs": [
    {
     "name": "stdout",
     "output_type": "stream",
     "text": [
      "# A tibble: 5 x 19\n",
      "   year month   day dep_time sched_dep_time dep_delay arr_time sched_arr_time\n",
      "  <int> <int> <int>    <int>          <int>     <dbl>    <int>          <int>\n",
      "1  2013    12    31      813            812         1     1101           1111\n",
      "2  2013    12    31      905            912        -7     1055           1120\n",
      "3  2013    12    31     1105           1012        53     1211           1135\n",
      "4  2013    12    31     1121           1112         9     1418           1400\n",
      "5  2013    12    31     1311           1312        -1     1625           1606\n",
      "# ... with 11 more variables: arr_delay <dbl>, carrier <chr>, flight <int>,\n",
      "#   tailnum <chr>, origin <chr>, dest <chr>, air_time <dbl>, distance <dbl>,\n",
      "#   hour <dbl>, minute <dbl>, time_hour <dttm>\n"
     ]
    }
   ],
   "source": [
    "flights %>% filter(month == 12) %>% \n",
    "            filter(day == 31) %>% \n",
    "            filter(minute == 12) %>% print"
   ]
  },
  {
   "cell_type": "markdown",
   "metadata": {
    "slideshow": {
     "slide_type": "notes"
    }
   },
   "source": [
    "This is much better. We can read the command from left to right and know exactly what is going on."
   ]
  },
  {
   "cell_type": "markdown",
   "metadata": {
    "slideshow": {
     "slide_type": "slide"
    }
   },
   "source": [
    "### How `%>%` works\n",
    "Under the hood, `x %>% f(y)` turns into `f(x, y)`, and `x %>% f(y) %>% g(z)` turns into `g(f(x, y), z)` and so on. We can use `%>%` on any function, not just those defined in tidyverse:"
   ]
  },
  {
   "cell_type": "code",
   "execution_count": 4,
   "metadata": {},
   "outputs": [
    {
     "name": "stdout",
     "output_type": "stream",
     "text": [
      "[1] \"hello world\"\n"
     ]
    }
   ],
   "source": [
    "\"hello world\" %>% print()  # prints \"hello world\""
   ]
  },
  {
   "cell_type": "markdown",
   "metadata": {
    "slideshow": {
     "slide_type": "slide"
    }
   },
   "source": [
    "### Exercise\n",
    "\n",
    "Rewrite the following commands using `%>%`:\n",
    "```{r}\n",
    "df <- filter(mpg, cty > hwy)\n",
    "df2 <- rename(df, City=cty, Highway=hwy)\n",
    "ggplot(df) + geom_point(aes(x=City, y=Highway))\n",
    "```"
   ]
  },
  {
   "cell_type": "markdown",
   "metadata": {
    "slideshow": {
     "slide_type": "slide"
    }
   },
   "source": [
    "## Adding New Variables\n",
    "The `dplyr`/`tidyverse` package offers the `mutate()` and `transmute()` commands to add new variables to data tibbles."
   ]
  },
  {
   "cell_type": "code",
   "execution_count": 6,
   "metadata": {
    "slideshow": {
     "slide_type": "slide"
    }
   },
   "outputs": [
    {
     "name": "stdout",
     "output_type": "stream",
     "text": [
      "# A tibble: 336,776 x 8\n",
      "    year month   day dep_time arr_time air_time origin dest \n",
      "   <int> <int> <int>    <int>    <int>    <dbl> <chr>  <chr>\n",
      " 1  2013     1     1      517      830      227 EWR    IAH  \n",
      " 2  2013     1     1      533      850      227 LGA    IAH  \n",
      " 3  2013     1     1      542      923      160 JFK    MIA  \n",
      " 4  2013     1     1      544     1004      183 JFK    BQN  \n",
      " 5  2013     1     1      554      812      116 LGA    ATL  \n",
      " 6  2013     1     1      554      740      150 EWR    ORD  \n",
      " 7  2013     1     1      555      913      158 EWR    FLL  \n",
      " 8  2013     1     1      557      709       53 LGA    IAD  \n",
      " 9  2013     1     1      557      838      140 JFK    MCO  \n",
      "10  2013     1     1      558      753      138 LGA    ORD  \n",
      "# ... with 336,766 more rows\n"
     ]
    }
   ],
   "source": [
    "my_flights <- select(flights, year:day, dep_time, arr_time, air_time, origin, dest) %>% print"
   ]
  },
  {
   "cell_type": "markdown",
   "metadata": {
    "slideshow": {
     "slide_type": "notes"
    }
   },
   "source": [
    "New variables can be added using the `mutate()` function. We already have an `air_time` variable. Let us compute the total time for the flight by subtracting the time of departure `dep_time` from time of arrival `arr_time`.\n",
    "\n",
    "We notice something odd though. When we subtract 5h 17m from 8h 30m we should get 3h 13m, i.e. 193 minutes. But instead we get 313 minutes below."
   ]
  },
  {
   "cell_type": "code",
   "execution_count": 7,
   "metadata": {
    "slideshow": {
     "slide_type": "slide"
    }
   },
   "outputs": [
    {
     "name": "stderr",
     "output_type": "stream",
     "text": [
      "Warning message:\n",
      "“package ‘bindrcpp’ was built under R version 3.4.4”"
     ]
    },
    {
     "name": "stdout",
     "output_type": "stream",
     "text": [
      "# A tibble: 336,776 x 9\n",
      "    year month   day dep_time arr_time air_time origin dest  total_time\n",
      "   <int> <int> <int>    <int>    <int>    <dbl> <chr>  <chr>      <int>\n",
      " 1  2013     1     1      517      830      227 EWR    IAH          313\n",
      " 2  2013     1     1      533      850      227 LGA    IAH          317\n",
      " 3  2013     1     1      542      923      160 JFK    MIA          381\n",
      " 4  2013     1     1      544     1004      183 JFK    BQN          460\n",
      " 5  2013     1     1      554      812      116 LGA    ATL          258\n",
      " 6  2013     1     1      554      740      150 EWR    ORD          186\n",
      " 7  2013     1     1      555      913      158 EWR    FLL          358\n",
      " 8  2013     1     1      557      709       53 LGA    IAD          152\n",
      " 9  2013     1     1      557      838      140 JFK    MCO          281\n",
      "10  2013     1     1      558      753      138 LGA    ORD          195\n",
      "# ... with 336,766 more rows\n"
     ]
    }
   ],
   "source": [
    "my_flights %>% mutate(total_time = arr_time - dep_time) %>% print"
   ]
  },
  {
   "cell_type": "markdown",
   "metadata": {
    "slideshow": {
     "slide_type": "notes"
    }
   },
   "source": [
    "The issue is that `dep_time` and `arr_time` are in the hour-minute notation, so you cannot add and subtract them like regular numbers. We should first convert these times into the number of minutes elapsed since midnight.\n",
    "\n",
    "We want add to new variables `new_dep` and `new_arr` but we need to write a function first that can do the conversion. The function is given below; we'll learn how it works later in the semester. For now just think of it as a black box that converts times from one format to another."
   ]
  },
  {
   "cell_type": "code",
   "execution_count": 8,
   "metadata": {
    "slideshow": {
     "slide_type": "notes"
    }
   },
   "outputs": [
    {
     "data": {
      "text/plain": [
       "[1] 60"
      ]
     },
     "metadata": {},
     "output_type": "display_data"
    }
   ],
   "source": [
    "hourmin2min <- function(hourmin) {  # minutes after 000=midnight\n",
    "    min <- hourmin %% 100  # modulus\n",
    "    hour <- (hourmin - min) %/% 100  # integer division\n",
    "    return(60*hour + min)\n",
    "} \n",
    "hourmin2min(100)"
   ]
  },
  {
   "cell_type": "markdown",
   "metadata": {
    "slideshow": {
     "slide_type": "slide"
    }
   },
   "source": [
    "Let us test the function on 530. That's 5h 30min, i.e., 330 minutes since midnight."
   ]
  },
  {
   "cell_type": "code",
   "execution_count": 9,
   "metadata": {},
   "outputs": [
    {
     "data": {
      "text/plain": [
       "[1] 330"
      ]
     },
     "metadata": {},
     "output_type": "display_data"
    }
   ],
   "source": [
    "hourmin2min(530)"
   ]
  },
  {
   "cell_type": "markdown",
   "metadata": {
    "slideshow": {
     "slide_type": "slide"
    }
   },
   "source": [
    "Let us now create two new variables obtained from `arr_time` and `dep_time` by converting them into minutes since midnight."
   ]
  },
  {
   "cell_type": "code",
   "execution_count": 13,
   "metadata": {
    "slideshow": {
     "slide_type": "slide"
    }
   },
   "outputs": [
    {
     "name": "stdout",
     "output_type": "stream",
     "text": [
      "# A tibble: 336,776 x 10\n",
      "    year month   day dep_time arr_time air_time origin dest  new_arr new_dep\n",
      "   <int> <int> <int>    <int>    <int>    <dbl> <chr>  <chr>   <dbl>   <dbl>\n",
      " 1  2013     1     1      517      830      227 EWR    IAH       510     317\n",
      " 2  2013     1     1      533      850      227 LGA    IAH       530     333\n",
      " 3  2013     1     1      542      923      160 JFK    MIA       563     342\n",
      " 4  2013     1     1      544     1004      183 JFK    BQN       604     344\n",
      " 5  2013     1     1      554      812      116 LGA    ATL       492     354\n",
      " 6  2013     1     1      554      740      150 EWR    ORD       460     354\n",
      " 7  2013     1     1      555      913      158 EWR    FLL       553     355\n",
      " 8  2013     1     1      557      709       53 LGA    IAD       429     357\n",
      " 9  2013     1     1      557      838      140 JFK    MCO       518     357\n",
      "10  2013     1     1      558      753      138 LGA    ORD       473     358\n",
      "# ... with 336,766 more rows\n"
     ]
    }
   ],
   "source": [
    "my_flights_new = mutate(my_flights, \n",
    "                        new_arr = hourmin2min(arr_time), \n",
    "                        new_dep = hourmin2min(dep_time)) %>% print"
   ]
  },
  {
   "cell_type": "markdown",
   "metadata": {
    "slideshow": {
     "slide_type": "slide"
    }
   },
   "source": [
    "Now we can subtract the departure time `new_dep` from the arrival time `new_arr` to get a new variable `total_time`."
   ]
  },
  {
   "cell_type": "markdown",
   "metadata": {
    "slideshow": {
     "slide_type": "slide"
    }
   },
   "source": [
    "### Exercise\n",
    "\n",
    "<table class=\"table-condensed\">\n",
    "    <tr><th>Beginner</th><th>Advanced</th></tr>\n",
    "    <tr><td>\n",
    "        Add a new column to <code>my_flights_new</code> called <code>total_time</code>, which equals the difference between <code>new_arr</code> and <code>new_day</code>. Call the resulting table <code>my_flights_total</code>\n",
    "        </td>\n",
    "    <td>\n",
    "        There is something weird about <code>total_time</code> when compared to <code>air_time</code>. What is it?\n",
    "        </td>\n",
    "    </tr>\n",
    "</table>\n",
    "\n"
   ]
  },
  {
   "cell_type": "code",
   "execution_count": 23,
   "metadata": {
    "scrolled": true,
    "slideshow": {
     "slide_type": "slide"
    }
   },
   "outputs": [],
   "source": [
    "# Your code here"
   ]
  },
  {
   "cell_type": "code",
   "execution_count": 20,
   "metadata": {
    "slideshow": {
     "slide_type": "slide"
    }
   },
   "outputs": [
    {
     "name": "stdout",
     "output_type": "stream",
     "text": [
      "# A tibble: 336,776 x 1\n",
      "   discrepancy\n",
      "         <dbl>\n",
      " 1         -34\n",
      " 2         -30\n",
      " 3          61\n",
      " 4          77\n",
      " 5          22\n",
      " 6         -44\n",
      " 7          40\n",
      " 8          19\n",
      " 9          21\n",
      "10         -23\n",
      "# ... with 336,766 more rows\n"
     ]
    }
   ],
   "source": [
    "discrepancy = transmute(my_flights_total, discrepancy=total_time - air_time) %>% print"
   ]
  },
  {
   "cell_type": "code",
   "execution_count": 22,
   "metadata": {
    "slideshow": {
     "slide_type": "slide"
    }
   },
   "outputs": [
    {
     "name": "stderr",
     "output_type": "stream",
     "text": [
      "`stat_bin()` using `bins = 30`. Pick better value with `binwidth`.\n",
      "Warning message:\n",
      "“Removed 9430 rows containing non-finite values (stat_bin).”"
     ]
    },
    {
     "data": {},
     "metadata": {},
     "output_type": "display_data"
    },
    {
     "data": {
      "image/png": "[encoded data removed]"
     },
     "metadata": {},
     "output_type": "display_data"
    }
   ],
   "source": [
    "ggplot(discrepancy) + geom_histogram(aes(x=discrepancy))  # shortcut ggplot function"
   ]
  },
  {
   "cell_type": "markdown",
   "metadata": {
    "slideshow": {
     "slide_type": "slide"
    }
   },
   "source": [
    "### Exercise\n",
    "What would cause a `discrepancy` of -1500?"
   ]
  },
  {
   "cell_type": "code",
   "execution_count": 30,
   "metadata": {
    "slideshow": {
     "slide_type": "slide"
    }
   },
   "outputs": [
    {
     "name": "stdout",
     "output_type": "stream",
     "text": [
      "# A tibble: 10,621 x 2\n",
      "   dep_time arr_time\n",
      "      <int>    <int>\n",
      " 1     1929        3\n",
      " 2     1939       29\n",
      " 3     2058        8\n",
      " 4     2102      146\n",
      " 5     2108       25\n",
      " 6     2120       16\n",
      " 7     2121        6\n",
      " 8     2128       26\n",
      " 9     2134       20\n",
      "10     2136       25\n",
      "# ... with 10,611 more rows\n"
     ]
    }
   ],
   "source": [
    "filter(my_flights_total, total_time < -1000) %>% select(dep_time, arr_time) %>% print"
   ]
  },
  {
   "cell_type": "markdown",
   "metadata": {
    "slideshow": {
     "slide_type": "slide"
    }
   },
   "source": [
    "### Exercise\n",
    "Add a new variable to `new_total_time` to `my_flights_total` which contains a \"corrected\" version of `total_time`."
   ]
  },
  {
   "cell_type": "code",
   "execution_count": 46,
   "metadata": {
    "slideshow": {
     "slide_type": "slide"
    }
   },
   "outputs": [],
   "source": [
    "# Your code here"
   ]
  },
  {
   "cell_type": "markdown",
   "metadata": {
    "slideshow": {
     "slide_type": "slide"
    }
   },
   "source": [
    "### Ranking functions\n",
    "\n",
    "There are a number of handy functions for ranking data:\n",
    "\n",
    "* `min_rank(v)`: rank the entries of `v` in ascending order, so the smallest entry gets a 1, etc. Ties get the same rank.\n",
    "* `row_number(v)`: same as `min_rank(v)`, but every entry gets its own rank.\n",
    "* `dense_rank(v)`: same as `min_rank(v)`, but no gaps created between the ranks.\n",
    "* `percent_rank()`: ranks expressed in percentiles.\n",
    "* `cume_dist(v)`: fraction of entries `<=` each entry of `v`.\n",
    "* `ntile(v)`: group entries of `v` into buckets and report which bucket"
   ]
  },
  {
   "cell_type": "code",
   "execution_count": 25,
   "metadata": {
    "slideshow": {
     "slide_type": "slide"
    }
   },
   "outputs": [
    {
     "name": "stdout",
     "output_type": "stream",
     "text": [
      "# A tibble: 336,776 x 5\n",
      "        k  year month   day tailnum\n",
      "    <int> <int> <int> <int> <chr>  \n",
      " 1 267674  2013     1     1 N14228 \n",
      " 2 267674  2013     1     1 N24211 \n",
      " 3 221334  2013     1     1 N619AA \n",
      " 4 239157  2013     1     1 N804JB \n",
      " 5 139194  2013     1     1 N668DN \n",
      " 6 203631  2013     1     1 N39463 \n",
      " 7 218425  2013     1     1 N516JB \n",
      " 8  44355  2013     1     1 N829AS \n",
      " 9 182127  2013     1     1 N593JB \n",
      "10 178124  2013     1     1 N3ALAA \n",
      "# ... with 336,766 more rows\n"
     ]
    }
   ],
   "source": [
    "# (x <- sample(c(11, 12, 12, 14, 14, 14, 17, 21, 26, NA))) # returns a random permutation of the input\n",
    "flights %>% mutate(k=min_rank(air_time)) %>% \n",
    "            select(k, year, month, day, tailnum) %>% print"
   ]
  },
  {
   "cell_type": "code",
   "execution_count": 31,
   "metadata": {
    "slideshow": {
     "slide_type": "slide"
    }
   },
   "outputs": [
    {
     "data": {
      "text/plain": [
       "[1]  1  1  2  3  4  4 NA"
      ]
     },
     "metadata": {},
     "output_type": "display_data"
    },
    {
     "data": {
      "text/plain": [
       "[1]  1  1  3  4  5  5 NA"
      ]
     },
     "metadata": {},
     "output_type": "display_data"
    }
   ],
   "source": [
    "x <- c(1, 1, 2, 3, 4, 4, NA)\n",
    "dense_rank(x) # don't create gaps in ranks\n",
    "min_rank(x)"
   ]
  },
  {
   "cell_type": "code",
   "execution_count": 29,
   "metadata": {
    "slideshow": {
     "slide_type": "slide"
    }
   },
   "outputs": [
    {
     "data": {
      "text/plain": [
       "[1]  1  2  3  4  5  6 NA"
      ]
     },
     "metadata": {},
     "output_type": "display_data"
    }
   ],
   "source": [
    "row_number(x) # just return the position number in sorted order (ties get different ranks here)"
   ]
  },
  {
   "cell_type": "code",
   "execution_count": 87,
   "metadata": {
    "slideshow": {
     "slide_type": "slide"
    }
   },
   "outputs": [
    {
     "name": "stdout",
     "output_type": "stream",
     "text": [
      "# A tibble: 336,776 x 2\n",
      "       r air_time\n",
      "   <int>    <dbl>\n",
      " 1     1       20\n",
      " 2     1       20\n",
      " 3     2       21\n",
      " 4     2       21\n",
      " 5     2       21\n",
      " 6     2       21\n",
      " 7     2       21\n",
      " 8     2       21\n",
      " 9     2       21\n",
      "10     2       21\n",
      "# ... with 336,766 more rows\n"
     ]
    }
   ],
   "source": [
    "flights %>% mutate(r = dense_rank(air_time)) %>% \n",
    "            select(r, air_time) %>% arrange(r) %>% print"
   ]
  },
  {
   "cell_type": "markdown",
   "metadata": {
    "slideshow": {
     "slide_type": "slide"
    }
   },
   "source": [
    "### Exercise\n",
    "\n",
    "<table class=\"table-condensed\">\n",
    "    <tr><th>Beginner</th><th>Advanced</th></tr>\n",
    "    <tr><td>\n",
    "        How long was the fourth-shortest flight in the air?\n",
    "        </td>\n",
    "    <td>\n",
    "        How long was the fourth-longest flight in the air?\n",
    "        </td>\n",
    "    </tr>\n",
    "    <tr>\n",
    "<td>\n",
    "    \n",
    "1. 21m\n",
    "2. 34m\n",
    "3. 36m\n",
    "4. Depends on how you rank them.\n",
    "    \n",
    "</td>        \n",
    "    <td>\n",
    "        \n",
    "1. 690m\n",
    "2. 686m\n",
    "3. 683m\n",
    "4. Depends on how you rank them.\n",
    "\n",
    "</td>\n",
    "\n",
    "</tr>\n",
    "</table>\n",
    "\n",
    "\n",
    "\n",
    "\n"
   ]
  },
  {
   "cell_type": "code",
   "execution_count": 44,
   "metadata": {
    "slideshow": {
     "slide_type": "slide"
    }
   },
   "outputs": [],
   "source": [
    "# Your code here"
   ]
  },
  {
   "cell_type": "markdown",
   "metadata": {
    "slideshow": {
     "slide_type": "slide"
    }
   },
   "source": [
    "## Grouped Summaries\n",
    "`summarize()` can be used to summarize entire data frames by collapsing them into single number summaries. As opposed to `mutate()`, which generates a new column and entry for each row, `summarize()` first groups columns and then applies a summary function."
   ]
  },
  {
   "cell_type": "markdown",
   "metadata": {
    "slideshow": {
     "slide_type": "slide"
    }
   },
   "source": [
    "The most basic use of summarize is to compute statistics over the whole data set:"
   ]
  },
  {
   "cell_type": "code",
   "execution_count": 88,
   "metadata": {
    "slideshow": {
     "slide_type": "fragment"
    }
   },
   "outputs": [
    {
     "name": "stdout",
     "output_type": "stream",
     "text": [
      "# A tibble: 1 x 1\n",
      "  delay\n",
      "  <dbl>\n",
      "1  12.6\n"
     ]
    },
    {
     "data": {
      "text/plain": [
       "[1] 12.63907"
      ]
     },
     "metadata": {},
     "output_type": "display_data"
    }
   ],
   "source": [
    "summarize(flights, \n",
    "          delay = mean(dep_delay, na.rm=T)) %>% print\n",
    "mean(flights$dep_delay, na.rm=TRUE)"
   ]
  },
  {
   "cell_type": "markdown",
   "metadata": {
    "slideshow": {
     "slide_type": "notes"
    }
   },
   "source": [
    "`na.rm=TRUE` is equivalent to dropping the missing entries and then calculating the mean:"
   ]
  },
  {
   "cell_type": "code",
   "execution_count": 37,
   "metadata": {
    "slideshow": {
     "slide_type": "notes"
    }
   },
   "outputs": [
    {
     "data": {
      "text/plain": [
       "  delay   \n",
       "1 12.63907"
      ]
     },
     "metadata": {},
     "output_type": "display_data"
    }
   ],
   "source": [
    "filter(flights, !is.na(dep_delay)) %>% summarize(delay=mean(dep_delay))"
   ]
  },
  {
   "cell_type": "markdown",
   "metadata": {
    "slideshow": {
     "slide_type": "slide"
    }
   },
   "source": [
    "### Grouping observations\n",
    "`summarize()` is most useful when combined with `group_by()` to group observations before calculating the summary statistic. The `group_by` function tells R how your data are grouped:"
   ]
  },
  {
   "cell_type": "code",
   "execution_count": 125,
   "metadata": {
    "slideshow": {
     "slide_type": "-"
    }
   },
   "outputs": [],
   "source": [
    "# flights %>% group_by(year, month) %>% print\n",
    "by_month <- group_by(flights, year, month)"
   ]
  },
  {
   "cell_type": "code",
   "execution_count": 126,
   "metadata": {
    "slideshow": {
     "slide_type": "slide"
    }
   },
   "outputs": [
    {
     "name": "stdout",
     "output_type": "stream",
     "text": [
      "# A tibble: 12 x 3\n",
      "# Groups:   year [?]\n",
      "    year month mean_dep_delay\n",
      "   <int> <int>          <dbl>\n",
      " 1  2013     1          10.0 \n",
      " 2  2013     2          10.8 \n",
      " 3  2013     3          13.2 \n",
      " 4  2013     4          13.9 \n",
      " 5  2013     5          13.0 \n",
      " 6  2013     6          20.8 \n",
      " 7  2013     7          21.7 \n",
      " 8  2013     8          12.6 \n",
      " 9  2013     9           6.72\n",
      "10  2013    10           6.24\n",
      "11  2013    11           5.44\n",
      "12  2013    12          16.6 \n"
     ]
    }
   ],
   "source": [
    "summarize(by_month, mean_dep_delay=mean(dep_delay, na.rm=T)) %>% print"
   ]
  },
  {
   "cell_type": "markdown",
   "metadata": {
    "slideshow": {
     "slide_type": "slide"
    }
   },
   "source": [
    "Many summary functions are available:\n",
    "\n",
    "* Center: `mean(), median()`\n",
    "* Spread: `sd(), IQR(), mad()`\n",
    "* Range: `min(), max(), quantile()`\n",
    "* Position: `first(), last(), nth()`\n",
    "* Count: `n(), n_distinct()`\n",
    "* Logical: `any(), all()`"
   ]
  },
  {
   "cell_type": "markdown",
   "metadata": {
    "slideshow": {
     "slide_type": "slide"
    }
   },
   "source": [
    "### Examples\n",
    "Compute the number of flights each month:"
   ]
  },
  {
   "cell_type": "code",
   "execution_count": 128,
   "metadata": {
    "slideshow": {
     "slide_type": "-"
    }
   },
   "outputs": [
    {
     "data": {
      "text/plain": [
       "   month n()  \n",
       "1   1    27004\n",
       "2   2    24951\n",
       "3   3    28834\n",
       "4   4    28330\n",
       "5   5    28796\n",
       "6   6    28243\n",
       "7   7    29425\n",
       "8   8    29327\n",
       "9   9    27574\n",
       "10 10    28889\n",
       "11 11    27268\n",
       "12 12    28135"
      ]
     },
     "metadata": {},
     "output_type": "display_data"
    }
   ],
   "source": [
    "group_by(flights, month) %>% summarize(n())"
   ]
  },
  {
   "cell_type": "markdown",
   "metadata": {
    "slideshow": {
     "slide_type": "slide"
    }
   },
   "source": [
    "### Exercise\n",
    "\n",
    "<table class=\"table-condensed\">\n",
    "    <tr><th>Beginner</th><th>Advanced</th></tr>\n",
    "    <tr><td>\n",
    "        Which plane (tail number) flew the most flights in July?\n",
    "        </td>\n",
    "    <td>\n",
    "        How many planes flew at least one flight in January, but none in February?\n",
    "        </td>\n",
    "    </tr>\n",
    "    <tr>\n",
    "<td>\n",
    "</tr>\n",
    "</table>\n",
    "\n",
    "\n",
    "\n",
    "\n"
   ]
  },
  {
   "cell_type": "code",
   "execution_count": 56,
   "metadata": {
    "slideshow": {
     "slide_type": "slide"
    }
   },
   "outputs": [],
   "source": [
    "# Your code here"
   ]
  },
  {
   "cell_type": "markdown",
   "metadata": {
    "slideshow": {
     "slide_type": "slide"
    }
   },
   "source": [
    "### Always include counts\n",
    "It is a good idea to include counts of each group when you do a summary. Some groups may have very low numbers of observations, resulting in high variance for the summary statistics. For example, let's look at particular airplanes which have high delays, perhaps due to maintenance, etc:"
   ]
  },
  {
   "cell_type": "code",
   "execution_count": 89,
   "metadata": {
    "slideshow": {
     "slide_type": "slide"
    }
   },
   "outputs": [
    {
     "name": "stderr",
     "output_type": "stream",
     "text": [
      "Selecting by delay\n"
     ]
    },
    {
     "data": {
      "text/plain": [
       "  tailnum delay\n",
       "1 N587NW  264  \n",
       "2 N844MH  320  \n",
       "3 N851NW  219  \n",
       "4 N911DA  294  \n",
       "5 N922EV  276  "
      ]
     },
     "metadata": {},
     "output_type": "display_data"
    }
   ],
   "source": [
    "not_cancelled = flights %>% \n",
    "    filter(!is.na(dep_delay), !is.na(arr_delay))\n",
    "\n",
    "not_cancelled %>% group_by(tailnum) %>% \n",
    "    summarise(delay = mean(arr_delay)) %>% top_n(5)"
   ]
  },
  {
   "cell_type": "markdown",
   "metadata": {
    "slideshow": {
     "slide_type": "notes"
    }
   },
   "source": [
    "The top five most delayed planes experience an average delay of 4-5 hours! Clearly this is not realistic. The issue is that there are very few observations for each of these planes:"
   ]
  },
  {
   "cell_type": "code",
   "execution_count": 55,
   "metadata": {
    "slideshow": {
     "slide_type": "slide"
    }
   },
   "outputs": [
    {
     "data": {
      "text/plain": [
       "  tailnum delay obs\n",
       "1 N587NW  264   1  \n",
       "2 N844MH  320   1  \n",
       "3 N851NW  219   1  \n",
       "4 N911DA  294   1  \n",
       "5 N922EV  276   1  "
      ]
     },
     "metadata": {},
     "output_type": "display_data"
    }
   ],
   "source": [
    "delays = not_cancelled %>% group_by(tailnum) %>% \n",
    "    summarise(delay=mean(arr_delay), obs=n())\n",
    "top_n(delays, 5, delay)"
   ]
  },
  {
   "cell_type": "markdown",
   "metadata": {
    "slideshow": {
     "slide_type": "slide"
    }
   },
   "source": [
    "Here is another example from baseball:"
   ]
  },
  {
   "cell_type": "code",
   "execution_count": 60,
   "metadata": {},
   "outputs": [
    {
     "name": "stdout",
     "output_type": "stream",
     "text": [
      "# A tibble: 102,816 x 22\n",
      "   playerID yearID stint teamID lgID      G    AB     R     H   X2B   X3B    HR\n",
      "   <chr>     <int> <int> <fct>  <fct> <int> <int> <int> <int> <int> <int> <int>\n",
      " 1 abercda…   1871     1 TRO    NA        1     4     0     0     0     0     0\n",
      " 2 addybo01   1871     1 RC1    NA       25   118    30    32     6     0     0\n",
      " 3 allisar…   1871     1 CL1    NA       29   137    28    40     4     5     0\n",
      " 4 allisdo…   1871     1 WS3    NA       27   133    28    44    10     2     2\n",
      " 5 ansonca…   1871     1 RC1    NA       25   120    29    39    11     3     0\n",
      " 6 armstbo…   1871     1 FW1    NA       12    49     9    11     2     1     0\n",
      " 7 barkeal…   1871     1 RC1    NA        1     4     0     1     0     0     0\n",
      " 8 barnero…   1871     1 BS1    NA       31   157    66    63    10     9     0\n",
      " 9 barrebi…   1871     1 FW1    NA        1     5     1     1     1     0     0\n",
      "10 barrofr…   1871     1 BS1    NA       18    86    13    13     2     1     0\n",
      "# ... with 102,806 more rows, and 10 more variables: RBI <int>, SB <int>,\n",
      "#   CS <int>, BB <int>, SO <int>, IBB <int>, HBP <int>, SH <int>, SF <int>,\n",
      "#   GIDP <int>\n"
     ]
    }
   ],
   "source": [
    "library(Lahman)\n",
    "bat <- as_tibble(Batting) %>% print"
   ]
  },
  {
   "cell_type": "code",
   "execution_count": null,
   "metadata": {
    "slideshow": {
     "slide_type": "slide"
    }
   },
   "outputs": [],
   "source": [
    "There is one row per player per year:"
   ]
  },
  {
   "cell_type": "code",
   "execution_count": 61,
   "metadata": {},
   "outputs": [
    {
     "data": {
      "text/plain": [
       "  playerID  yearID stint teamID lgID G AB R H X2B ⋯ RBI SB CS BB SO IBB HBP SH\n",
       "1 abercda01 1871   1     TRO    NA   1 4  0 0 0   ⋯ 0   0  0  0  0  NA  NA  NA\n",
       "  SF GIDP\n",
       "1 NA NA  "
      ]
     },
     "metadata": {},
     "output_type": "display_data"
    }
   ],
   "source": [
    "slice(bat, 1)"
   ]
  },
  {
   "cell_type": "markdown",
   "metadata": {
    "slideshow": {
     "slide_type": "slide"
    }
   },
   "source": [
    "### Exercise\n",
    "A player's *batting average* is defined as their hits (`H`) divided by their at-bats (`AB`). Add up all the hits and at-bats for each player across all the years they played and compute their career batting average. Which player(s) has the highest career batting average?"
   ]
  },
  {
   "cell_type": "code",
   "execution_count": null,
   "metadata": {
    "slideshow": {
     "slide_type": "slide"
    }
   },
   "outputs": [],
   "source": [
    "# Your code here"
   ]
  },
  {
   "cell_type": "markdown",
   "metadata": {
    "slideshow": {
     "slide_type": "slide"
    }
   },
   "source": [
    "### Other uses of aggregation\n",
    "The `n_distinct()` function returns the number of distinct entries in a group:"
   ]
  },
  {
   "cell_type": "code",
   "execution_count": 90,
   "metadata": {
    "slideshow": {
     "slide_type": "-"
    }
   },
   "outputs": [
    {
     "name": "stdout",
     "output_type": "stream",
     "text": [
      "# A tibble: 2 x 2\n",
      "  a        nd\n",
      "  <chr> <int>\n",
      "1 a         2\n",
      "2 b         1\n"
     ]
    }
   ],
   "source": [
    "tribble(\n",
    "    ~a, ~x,\n",
    "    \"a\", 1,\n",
    "    \"a\", 2,\n",
    "    \"b\", 3,\n",
    "    \"b\", 3\n",
    ") %>% group_by(a) %>% \n",
    "    summarize(nd = n_distinct(x)) %>% print"
   ]
  },
  {
   "cell_type": "markdown",
   "metadata": {
    "slideshow": {
     "slide_type": "slide"
    }
   },
   "source": [
    "### Exercise\n",
    "\n",
    "<table class=\"table-condensed\">\n",
    "    <tr><th>Beginner</th><th>Advanced</th></tr>\n",
    "    <tr><td>\n",
    "        How many unique destinations were flown to in July?</td>\n",
    "    <td>Which of the three departure airports (JFK, LGA or EWR) flew to the most \n",
    "        unique destinations in July?\n",
    "    </td>\n",
    "    </tr>\n",
    "    <tr>\n",
    "<td>\n",
    "</tr>\n",
    "</table>"
   ]
  },
  {
   "cell_type": "code",
   "execution_count": 78,
   "metadata": {
    "slideshow": {
     "slide_type": "slide"
    }
   },
   "outputs": [],
   "source": [
    "# Your code here"
   ]
  },
  {
   "cell_type": "markdown",
   "metadata": {
    "slideshow": {
     "slide_type": "slide"
    }
   },
   "source": [
    "### Exercise\n",
    "\n",
    "<table class=\"table-condensed\">\n",
    "    <tr><th>Beginner</th><th>Advanced</th></tr>\n",
    "    <tr><td>\n",
    "        Let's say an air carrier is <emph>regional</emph> if its median distance traveled per flight is less than 400 miles. Which carriers are regional?</td>\n",
    "    <td>\n",
    "        What is the worst-performing air carrier (in terms of median departure delay) for each month of the year??\n",
    "        </td>\n",
    "    </tr>\n",
    "    <tr>\n",
    "<td>\n",
    "</tr>\n",
    "</table>\n"
   ]
  },
  {
   "cell_type": "code",
   "execution_count": 86,
   "metadata": {
    "slideshow": {
     "slide_type": "slide"
    }
   },
   "outputs": [],
   "source": [
    "# Your code here"
   ]
  }
 ],
 "metadata": {
  "celltoolbar": "Slideshow",
  "kernelspec": {
   "display_name": "R",
   "language": "R",
   "name": "ir"
  },
  "language_info": {
   "codemirror_mode": "r",
   "file_extension": ".r",
   "mimetype": "text/x-r-source",
   "name": "R",
   "pygments_lexer": "r",
   "version": "3.4.3"
  }
 },
 "nbformat": 4,
 "nbformat_minor": 1
}
