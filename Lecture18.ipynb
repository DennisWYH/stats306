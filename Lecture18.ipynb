{
 "cells": [
  {
   "cell_type": "markdown",
   "metadata": {},
   "source": [
    "In this notebook, we will continue discussing regular expression related tools:\n",
    "\n",
    "* [Grouped matches](#Grouped-matches)\n",
    "* [Replacing matches](#Replacing-matches)\n",
    "* [Splitting](#Splitting)\n",
    "* [Find matches](#Find-matches)"
   ]
  },
  {
   "cell_type": "markdown",
   "metadata": {},
   "source": [
    "# Grouped matches"
   ]
  },
  {
   "cell_type": "code",
   "execution_count": 1,
   "metadata": {},
   "outputs": [
    {
     "name": "stderr",
     "output_type": "stream",
     "text": [
      "Loading tidyverse: ggplot2\n",
      "Loading tidyverse: tibble\n",
      "Loading tidyverse: tidyr\n",
      "Loading tidyverse: readr\n",
      "Loading tidyverse: purrr\n",
      "Loading tidyverse: dplyr\n",
      "Conflicts with tidy packages ---------------------------------------------------\n",
      "filter(): dplyr, stats\n",
      "lag():    dplyr, stats\n"
     ]
    }
   ],
   "source": [
    "library(tidyverse)\n",
    "library(stringr)"
   ]
  },
  {
   "cell_type": "code",
   "execution_count": 5,
   "metadata": {},
   "outputs": [
    {
     "data": {
      "text/html": [
       "<ol class=list-inline>\n",
       "\t<li>'bring'</li>\n",
       "\t<li>'during'</li>\n",
       "\t<li>'evening'</li>\n",
       "\t<li>'king'</li>\n",
       "\t<li>'meaning'</li>\n",
       "\t<li>'morning'</li>\n",
       "\t<li>'ring'</li>\n",
       "\t<li>'sing'</li>\n",
       "\t<li>'thing'</li>\n",
       "</ol>\n"
      ],
      "text/latex": [
       "\\begin{enumerate*}\n",
       "\\item 'bring'\n",
       "\\item 'during'\n",
       "\\item 'evening'\n",
       "\\item 'king'\n",
       "\\item 'meaning'\n",
       "\\item 'morning'\n",
       "\\item 'ring'\n",
       "\\item 'sing'\n",
       "\\item 'thing'\n",
       "\\end{enumerate*}\n"
      ],
      "text/markdown": [
       "1. 'bring'\n",
       "2. 'during'\n",
       "3. 'evening'\n",
       "4. 'king'\n",
       "5. 'meaning'\n",
       "6. 'morning'\n",
       "7. 'ring'\n",
       "8. 'sing'\n",
       "9. 'thing'\n",
       "\n",
       "\n"
      ],
      "text/plain": [
       "[1] \"bring\"   \"during\"  \"evening\" \"king\"    \"meaning\" \"morning\" \"ring\"   \n",
       "[8] \"sing\"    \"thing\"  "
      ]
     },
     "metadata": {},
     "output_type": "display_data"
    }
   ],
   "source": [
    "regex <- \"^(.*)(ing)$\"\n",
    "(ing_words <- str_subset(words, regex))"
   ]
  },
  {
   "cell_type": "code",
   "execution_count": 7,
   "metadata": {},
   "outputs": [
    {
     "data": {
      "text/html": [
       "<ol class=list-inline>\n",
       "\t<li>'bring'</li>\n",
       "\t<li>'during'</li>\n",
       "\t<li>'evening'</li>\n",
       "\t<li>'king'</li>\n",
       "\t<li>'meaning'</li>\n",
       "\t<li>'morning'</li>\n",
       "\t<li>'ring'</li>\n",
       "\t<li>'sing'</li>\n",
       "\t<li>'thing'</li>\n",
       "</ol>\n"
      ],
      "text/latex": [
       "\\begin{enumerate*}\n",
       "\\item 'bring'\n",
       "\\item 'during'\n",
       "\\item 'evening'\n",
       "\\item 'king'\n",
       "\\item 'meaning'\n",
       "\\item 'morning'\n",
       "\\item 'ring'\n",
       "\\item 'sing'\n",
       "\\item 'thing'\n",
       "\\end{enumerate*}\n"
      ],
      "text/markdown": [
       "1. 'bring'\n",
       "2. 'during'\n",
       "3. 'evening'\n",
       "4. 'king'\n",
       "5. 'meaning'\n",
       "6. 'morning'\n",
       "7. 'ring'\n",
       "8. 'sing'\n",
       "9. 'thing'\n",
       "\n",
       "\n"
      ],
      "text/plain": [
       "[1] \"bring\"   \"during\"  \"evening\" \"king\"    \"meaning\" \"morning\" \"ring\"   \n",
       "[8] \"sing\"    \"thing\"  "
      ]
     },
     "metadata": {},
     "output_type": "display_data"
    }
   ],
   "source": [
    "ing_words %>%\n",
    "    str_extract(regex)"
   ]
  },
  {
   "cell_type": "code",
   "execution_count": 8,
   "metadata": {},
   "outputs": [
    {
     "data": {
      "text/html": [
       "<table>\n",
       "<tbody>\n",
       "\t<tr><td>bring  </td><td>br     </td><td>ing    </td></tr>\n",
       "\t<tr><td>during </td><td>dur    </td><td>ing    </td></tr>\n",
       "\t<tr><td>evening</td><td>even   </td><td>ing    </td></tr>\n",
       "\t<tr><td>king   </td><td>k      </td><td>ing    </td></tr>\n",
       "\t<tr><td>meaning</td><td>mean   </td><td>ing    </td></tr>\n",
       "\t<tr><td>morning</td><td>morn   </td><td>ing    </td></tr>\n",
       "\t<tr><td>ring   </td><td>r      </td><td>ing    </td></tr>\n",
       "\t<tr><td>sing   </td><td>s      </td><td>ing    </td></tr>\n",
       "\t<tr><td>thing  </td><td>th     </td><td>ing    </td></tr>\n",
       "</tbody>\n",
       "</table>\n"
      ],
      "text/latex": [
       "\\begin{tabular}{lll}\n",
       "\t bring   & br      & ing    \\\\\n",
       "\t during  & dur     & ing    \\\\\n",
       "\t evening & even    & ing    \\\\\n",
       "\t king    & k       & ing    \\\\\n",
       "\t meaning & mean    & ing    \\\\\n",
       "\t morning & morn    & ing    \\\\\n",
       "\t ring    & r       & ing    \\\\\n",
       "\t sing    & s       & ing    \\\\\n",
       "\t thing   & th      & ing    \\\\\n",
       "\\end{tabular}\n"
      ],
      "text/markdown": [
       "\n",
       "| bring   | br      | ing     | \n",
       "| during  | dur     | ing     | \n",
       "| evening | even    | ing     | \n",
       "| king    | k       | ing     | \n",
       "| meaning | mean    | ing     | \n",
       "| morning | morn    | ing     | \n",
       "| ring    | r       | ing     | \n",
       "| sing    | s       | ing     | \n",
       "| thing   | th      | ing     | \n",
       "\n",
       "\n"
      ],
      "text/plain": [
       "      [,1]    [,2] [,3]\n",
       " [1,] bring   br   ing \n",
       " [2,] during  dur  ing \n",
       " [3,] evening even ing \n",
       " [4,] king    k    ing \n",
       " [5,] meaning mean ing \n",
       " [6,] morning morn ing \n",
       " [7,] ring    r    ing \n",
       " [8,] sing    s    ing \n",
       " [9,] thing   th   ing "
      ]
     },
     "metadata": {},
     "output_type": "display_data"
    }
   ],
   "source": [
    "ing_words %>%\n",
    "    str_match(regex)"
   ]
  },
  {
   "cell_type": "markdown",
   "metadata": {},
   "source": [
    "# Replacing matches"
   ]
  },
  {
   "cell_type": "code",
   "execution_count": 12,
   "metadata": {},
   "outputs": [
    {
     "data": {
      "text/html": [
       "<ol class=list-inline>\n",
       "\t<li>'bottom'</li>\n",
       "\t<li>'doctor'</li>\n",
       "\t<li>'history'</li>\n",
       "\t<li>'into'</li>\n",
       "\t<li>'photograph'</li>\n",
       "\t<li>'stop'</li>\n",
       "\t<li>'story'</li>\n",
       "\t<li>'to'</li>\n",
       "\t<li>'today'</li>\n",
       "\t<li>'together'</li>\n",
       "\t<li>'tomorrow'</li>\n",
       "\t<li>'tonight'</li>\n",
       "\t<li>'too'</li>\n",
       "\t<li>'top'</li>\n",
       "\t<li>'total'</li>\n",
       "\t<li>'touch'</li>\n",
       "\t<li>'toward'</li>\n",
       "\t<li>'town'</li>\n",
       "</ol>\n"
      ],
      "text/latex": [
       "\\begin{enumerate*}\n",
       "\\item 'bottom'\n",
       "\\item 'doctor'\n",
       "\\item 'history'\n",
       "\\item 'into'\n",
       "\\item 'photograph'\n",
       "\\item 'stop'\n",
       "\\item 'story'\n",
       "\\item 'to'\n",
       "\\item 'today'\n",
       "\\item 'together'\n",
       "\\item 'tomorrow'\n",
       "\\item 'tonight'\n",
       "\\item 'too'\n",
       "\\item 'top'\n",
       "\\item 'total'\n",
       "\\item 'touch'\n",
       "\\item 'toward'\n",
       "\\item 'town'\n",
       "\\end{enumerate*}\n"
      ],
      "text/markdown": [
       "1. 'bottom'\n",
       "2. 'doctor'\n",
       "3. 'history'\n",
       "4. 'into'\n",
       "5. 'photograph'\n",
       "6. 'stop'\n",
       "7. 'story'\n",
       "8. 'to'\n",
       "9. 'today'\n",
       "10. 'together'\n",
       "11. 'tomorrow'\n",
       "12. 'tonight'\n",
       "13. 'too'\n",
       "14. 'top'\n",
       "15. 'total'\n",
       "16. 'touch'\n",
       "17. 'toward'\n",
       "18. 'town'\n",
       "\n",
       "\n"
      ],
      "text/plain": [
       " [1] \"bottom\"     \"doctor\"     \"history\"    \"into\"       \"photograph\"\n",
       " [6] \"stop\"       \"story\"      \"to\"         \"today\"      \"together\"  \n",
       "[11] \"tomorrow\"   \"tonight\"    \"too\"        \"top\"        \"total\"     \n",
       "[16] \"touch\"      \"toward\"     \"town\"      "
      ]
     },
     "metadata": {},
     "output_type": "display_data"
    }
   ],
   "source": [
    "(to_words <- str_subset(words, \"to\"))"
   ]
  },
  {
   "cell_type": "code",
   "execution_count": 13,
   "metadata": {},
   "outputs": [
    {
     "data": {
      "text/html": [
       "<ol class=list-inline>\n",
       "\t<li>'bot2m'</li>\n",
       "\t<li>'doc2r'</li>\n",
       "\t<li>'his2ry'</li>\n",
       "\t<li>'in2'</li>\n",
       "\t<li>'pho2graph'</li>\n",
       "\t<li>'s2p'</li>\n",
       "\t<li>'s2ry'</li>\n",
       "\t<li>'2'</li>\n",
       "\t<li>'2day'</li>\n",
       "\t<li>'2gether'</li>\n",
       "\t<li>'2morrow'</li>\n",
       "\t<li>'2night'</li>\n",
       "\t<li>'2o'</li>\n",
       "\t<li>'2p'</li>\n",
       "\t<li>'2tal'</li>\n",
       "\t<li>'2uch'</li>\n",
       "\t<li>'2ward'</li>\n",
       "\t<li>'2wn'</li>\n",
       "</ol>\n"
      ],
      "text/latex": [
       "\\begin{enumerate*}\n",
       "\\item 'bot2m'\n",
       "\\item 'doc2r'\n",
       "\\item 'his2ry'\n",
       "\\item 'in2'\n",
       "\\item 'pho2graph'\n",
       "\\item 's2p'\n",
       "\\item 's2ry'\n",
       "\\item '2'\n",
       "\\item '2day'\n",
       "\\item '2gether'\n",
       "\\item '2morrow'\n",
       "\\item '2night'\n",
       "\\item '2o'\n",
       "\\item '2p'\n",
       "\\item '2tal'\n",
       "\\item '2uch'\n",
       "\\item '2ward'\n",
       "\\item '2wn'\n",
       "\\end{enumerate*}\n"
      ],
      "text/markdown": [
       "1. 'bot2m'\n",
       "2. 'doc2r'\n",
       "3. 'his2ry'\n",
       "4. 'in2'\n",
       "5. 'pho2graph'\n",
       "6. 's2p'\n",
       "7. 's2ry'\n",
       "8. '2'\n",
       "9. '2day'\n",
       "10. '2gether'\n",
       "11. '2morrow'\n",
       "12. '2night'\n",
       "13. '2o'\n",
       "14. '2p'\n",
       "15. '2tal'\n",
       "16. '2uch'\n",
       "17. '2ward'\n",
       "18. '2wn'\n",
       "\n",
       "\n"
      ],
      "text/plain": [
       " [1] \"bot2m\"     \"doc2r\"     \"his2ry\"    \"in2\"       \"pho2graph\" \"s2p\"      \n",
       " [7] \"s2ry\"      \"2\"         \"2day\"      \"2gether\"   \"2morrow\"   \"2night\"   \n",
       "[13] \"2o\"        \"2p\"        \"2tal\"      \"2uch\"      \"2ward\"     \"2wn\"      "
      ]
     },
     "metadata": {},
     "output_type": "display_data"
    }
   ],
   "source": [
    "str_replace(to_words, \"to\", \"2\")"
   ]
  },
  {
   "cell_type": "code",
   "execution_count": 16,
   "metadata": {},
   "outputs": [
    {
     "data": {
      "text/html": [
       "<ol class=list-inline>\n",
       "\t<li>'afford'</li>\n",
       "\t<li>'before'</li>\n",
       "\t<li>'for'</li>\n",
       "\t<li>'force'</li>\n",
       "\t<li>'forget'</li>\n",
       "\t<li>'form'</li>\n",
       "\t<li>'fortune'</li>\n",
       "\t<li>'forward'</li>\n",
       "\t<li>'inform'</li>\n",
       "\t<li>'therefore'</li>\n",
       "</ol>\n"
      ],
      "text/latex": [
       "\\begin{enumerate*}\n",
       "\\item 'afford'\n",
       "\\item 'before'\n",
       "\\item 'for'\n",
       "\\item 'force'\n",
       "\\item 'forget'\n",
       "\\item 'form'\n",
       "\\item 'fortune'\n",
       "\\item 'forward'\n",
       "\\item 'inform'\n",
       "\\item 'therefore'\n",
       "\\end{enumerate*}\n"
      ],
      "text/markdown": [
       "1. 'afford'\n",
       "2. 'before'\n",
       "3. 'for'\n",
       "4. 'force'\n",
       "5. 'forget'\n",
       "6. 'form'\n",
       "7. 'fortune'\n",
       "8. 'forward'\n",
       "9. 'inform'\n",
       "10. 'therefore'\n",
       "\n",
       "\n"
      ],
      "text/plain": [
       " [1] \"afford\"    \"before\"    \"for\"       \"force\"     \"forget\"    \"form\"     \n",
       " [7] \"fortune\"   \"forward\"   \"inform\"    \"therefore\""
      ]
     },
     "metadata": {},
     "output_type": "display_data"
    }
   ],
   "source": [
    "(for_words <- str_subset(words, \"for\"))"
   ]
  },
  {
   "cell_type": "code",
   "execution_count": 19,
   "metadata": {},
   "outputs": [
    {
     "data": {
      "text/html": [
       "<ol class=list-inline>\n",
       "\t<li>'af4d'</li>\n",
       "\t<li>'be4e'</li>\n",
       "\t<li>'4'</li>\n",
       "\t<li>'4ce'</li>\n",
       "\t<li>'4get'</li>\n",
       "\t<li>'4m'</li>\n",
       "\t<li>'4tune'</li>\n",
       "\t<li>'4ward'</li>\n",
       "\t<li>'in4m'</li>\n",
       "\t<li>'there4e'</li>\n",
       "</ol>\n"
      ],
      "text/latex": [
       "\\begin{enumerate*}\n",
       "\\item 'af4d'\n",
       "\\item 'be4e'\n",
       "\\item '4'\n",
       "\\item '4ce'\n",
       "\\item '4get'\n",
       "\\item '4m'\n",
       "\\item '4tune'\n",
       "\\item '4ward'\n",
       "\\item 'in4m'\n",
       "\\item 'there4e'\n",
       "\\end{enumerate*}\n"
      ],
      "text/markdown": [
       "1. 'af4d'\n",
       "2. 'be4e'\n",
       "3. '4'\n",
       "4. '4ce'\n",
       "5. '4get'\n",
       "6. '4m'\n",
       "7. '4tune'\n",
       "8. '4ward'\n",
       "9. 'in4m'\n",
       "10. 'there4e'\n",
       "\n",
       "\n"
      ],
      "text/plain": [
       " [1] \"af4d\"    \"be4e\"    \"4\"       \"4ce\"     \"4get\"    \"4m\"      \"4tune\"  \n",
       " [8] \"4ward\"   \"in4m\"    \"there4e\""
      ]
     },
     "metadata": {},
     "output_type": "display_data"
    }
   ],
   "source": [
    "str_replace(for_words, \"for\", \"4\")"
   ]
  },
  {
   "cell_type": "code",
   "execution_count": 22,
   "metadata": {},
   "outputs": [
    {
     "data": {
      "text/html": [
       "<ol class=list-inline>\n",
       "\t<li>'Next Tuesday we must vote.'</li>\n",
       "\t<li>'Poached eggs and tea must suffice.'</li>\n",
       "</ol>\n"
      ],
      "text/latex": [
       "\\begin{enumerate*}\n",
       "\\item 'Next Tuesday we must vote.'\n",
       "\\item 'Poached eggs and tea must suffice.'\n",
       "\\end{enumerate*}\n"
      ],
      "text/markdown": [
       "1. 'Next Tuesday we must vote.'\n",
       "2. 'Poached eggs and tea must suffice.'\n",
       "\n",
       "\n"
      ],
      "text/plain": [
       "[1] \"Next Tuesday we must vote.\"         \"Poached eggs and tea must suffice.\""
      ]
     },
     "metadata": {},
     "output_type": "display_data"
    }
   ],
   "source": [
    "(must_sentences <- str_subset(sentences, \"must\"))"
   ]
  },
  {
   "cell_type": "markdown",
   "metadata": {},
   "source": [
    "We can also use backreferences in `str_replace`."
   ]
  },
  {
   "cell_type": "code",
   "execution_count": 25,
   "metadata": {},
   "outputs": [
    {
     "data": {
      "text/html": [
       "<ol class=list-inline>\n",
       "\t<li>'Next Tuesday vote, we must'</li>\n",
       "\t<li>'Poached eggs and suffice, tea must'</li>\n",
       "</ol>\n"
      ],
      "text/latex": [
       "\\begin{enumerate*}\n",
       "\\item 'Next Tuesday vote, we must'\n",
       "\\item 'Poached eggs and suffice, tea must'\n",
       "\\end{enumerate*}\n"
      ],
      "text/markdown": [
       "1. 'Next Tuesday vote, we must'\n",
       "2. 'Poached eggs and suffice, tea must'\n",
       "\n",
       "\n"
      ],
      "text/plain": [
       "[1] \"Next Tuesday vote, we must\"         \"Poached eggs and suffice, tea must\""
      ]
     },
     "metadata": {},
     "output_type": "display_data"
    }
   ],
   "source": [
    "str_replace(must_sentences, \"(.*) ([^ ]*) must (.*)\\\\.\", \"\\\\1 \\\\3, \\\\2 must\")"
   ]
  },
  {
   "cell_type": "markdown",
   "metadata": {},
   "source": [
    "Let's swap the first and last letter in each word in `words`."
   ]
  },
  {
   "cell_type": "code",
   "execution_count": 28,
   "metadata": {},
   "outputs": [
    {
     "data": {
      "text/html": [
       "<ol class=list-inline>\n",
       "\t<li>'a'</li>\n",
       "\t<li>'able'</li>\n",
       "\t<li>'about'</li>\n",
       "\t<li>'absolute'</li>\n",
       "\t<li>'accept'</li>\n",
       "\t<li>'account'</li>\n",
       "\t<li>'achieve'</li>\n",
       "\t<li>'across'</li>\n",
       "\t<li>'act'</li>\n",
       "\t<li>'active'</li>\n",
       "</ol>\n"
      ],
      "text/latex": [
       "\\begin{enumerate*}\n",
       "\\item 'a'\n",
       "\\item 'able'\n",
       "\\item 'about'\n",
       "\\item 'absolute'\n",
       "\\item 'accept'\n",
       "\\item 'account'\n",
       "\\item 'achieve'\n",
       "\\item 'across'\n",
       "\\item 'act'\n",
       "\\item 'active'\n",
       "\\end{enumerate*}\n"
      ],
      "text/markdown": [
       "1. 'a'\n",
       "2. 'able'\n",
       "3. 'about'\n",
       "4. 'absolute'\n",
       "5. 'accept'\n",
       "6. 'account'\n",
       "7. 'achieve'\n",
       "8. 'across'\n",
       "9. 'act'\n",
       "10. 'active'\n",
       "\n",
       "\n"
      ],
      "text/plain": [
       " [1] \"a\"        \"able\"     \"about\"    \"absolute\" \"accept\"   \"account\" \n",
       " [7] \"achieve\"  \"across\"   \"act\"      \"active\"  "
      ]
     },
     "metadata": {},
     "output_type": "display_data"
    },
    {
     "data": {
      "text/html": [
       "<ol class=list-inline>\n",
       "\t<li>'a'</li>\n",
       "\t<li>'ebla'</li>\n",
       "\t<li>'tboua'</li>\n",
       "\t<li>'ebsoluta'</li>\n",
       "\t<li>'tccepa'</li>\n",
       "\t<li>'tccouna'</li>\n",
       "\t<li>'echieva'</li>\n",
       "\t<li>'scrosa'</li>\n",
       "\t<li>'tca'</li>\n",
       "\t<li>'ectiva'</li>\n",
       "</ol>\n"
      ],
      "text/latex": [
       "\\begin{enumerate*}\n",
       "\\item 'a'\n",
       "\\item 'ebla'\n",
       "\\item 'tboua'\n",
       "\\item 'ebsoluta'\n",
       "\\item 'tccepa'\n",
       "\\item 'tccouna'\n",
       "\\item 'echieva'\n",
       "\\item 'scrosa'\n",
       "\\item 'tca'\n",
       "\\item 'ectiva'\n",
       "\\end{enumerate*}\n"
      ],
      "text/markdown": [
       "1. 'a'\n",
       "2. 'ebla'\n",
       "3. 'tboua'\n",
       "4. 'ebsoluta'\n",
       "5. 'tccepa'\n",
       "6. 'tccouna'\n",
       "7. 'echieva'\n",
       "8. 'scrosa'\n",
       "9. 'tca'\n",
       "10. 'ectiva'\n",
       "\n",
       "\n"
      ],
      "text/plain": [
       " [1] \"a\"        \"ebla\"     \"tboua\"    \"ebsoluta\" \"tccepa\"   \"tccouna\" \n",
       " [7] \"echieva\"  \"scrosa\"   \"tca\"      \"ectiva\"  "
      ]
     },
     "metadata": {},
     "output_type": "display_data"
    }
   ],
   "source": [
    "words %>% head(10)\n",
    "str_replace(words, \"^(.)(.*)(.)$\", \"\\\\3\\\\2\\\\1\") %>% head(10)"
   ]
  },
  {
   "cell_type": "markdown",
   "metadata": {},
   "source": [
    "# Splitting"
   ]
  },
  {
   "cell_type": "code",
   "execution_count": null,
   "metadata": {
    "collapsed": true
   },
   "outputs": [],
   "source": []
  },
  {
   "cell_type": "markdown",
   "metadata": {},
   "source": [
    "# Find matches"
   ]
  },
  {
   "cell_type": "code",
   "execution_count": null,
   "metadata": {
    "collapsed": true
   },
   "outputs": [],
   "source": []
  }
 ],
 "metadata": {
  "kernelspec": {
   "display_name": "R",
   "language": "R",
   "name": "ir"
  },
  "language_info": {
   "codemirror_mode": "r",
   "file_extension": ".r",
   "mimetype": "text/x-r-source",
   "name": "R",
   "pygments_lexer": "r",
   "version": "3.4.1"
  }
 },
 "nbformat": 4,
 "nbformat_minor": 2
}
