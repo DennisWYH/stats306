{
 "cells": [
  {
   "cell_type": "markdown",
   "metadata": {
    "slideshow": {
     "slide_type": "slide"
    }
   },
   "source": [
    "# Lecture 04: Data manipulation II\n",
    "Goals for this lecture:\n",
    "\n",
    "* Understand how [pipes](#Pipes) work and when to use them.\n",
    "* Learn to [generate new variables](#Adding-New-Variables) using various transformations.\n",
    "* Learn about [grouping data and summarizing it](#Grouped-Summaries).\n",
    "\n",
    "As usual we will rely on the `tidyverse` and `nycflights13` packages."
   ]
  },
  {
   "cell_type": "code",
   "execution_count": 64,
   "metadata": {
    "slideshow": {
     "slide_type": "notes"
    }
   },
   "outputs": [],
   "source": [
    "library(tidyverse)\n",
    "library(nycflights13)"
   ]
  },
  {
   "cell_type": "markdown",
   "metadata": {
    "slideshow": {
     "slide_type": "slide"
    }
   },
   "source": [
    "## Pipes\n",
    "Starting now, we will make extensive use of the pipe operator `%>%`. To see why, consider this command from last lecture:"
   ]
  },
  {
   "cell_type": "code",
   "execution_count": 65,
   "metadata": {
    "slideshow": {
     "slide_type": "-"
    }
   },
   "outputs": [
    {
     "name": "stdout",
     "output_type": "stream",
     "text": [
      "# A tibble: 5 x 19\n",
      "   year month   day dep_t… sched_… dep_de… arr_… sched… arr_… carr… flig… tail…\n",
      "  <int> <int> <int>  <int>   <int>   <dbl> <int>  <int> <dbl> <chr> <int> <chr>\n",
      "1  2013    12    31    813     812    1.00  1101   1111 -10.0 DL     2596 N671…\n",
      "2  2013    12    31    905     912  - 7.00  1055   1120 -25.0 DL     2165 N979…\n",
      "3  2013    12    31   1105    1012   53.0   1211   1135  36.0 EV     5769 N835…\n",
      "4  2013    12    31   1121    1112    9.00  1418   1400  18.0 B6      643 N656…\n",
      "5  2013    12    31   1311    1312  - 1.00  1625   1606  19.0 B6      553 N307…\n",
      "# ... with 7 more variables: origin <chr>, dest <chr>, air_time <dbl>,\n",
      "#   distance <dbl>, hour <dbl>, minute <dbl>, time_hour <dttm>\n"
     ]
    }
   ],
   "source": [
    "print(filter(flights, month == 12 & day == 31 & minute == 12))"
   ]
  },
  {
   "cell_type": "markdown",
   "metadata": {
    "slideshow": {
     "slide_type": "slide"
    }
   },
   "source": [
    "Let's say we were naive and forgot how to combine logical conditions. We could re-write this command as:"
   ]
  },
  {
   "cell_type": "code",
   "execution_count": 66,
   "metadata": {
    "slideshow": {
     "slide_type": "-"
    }
   },
   "outputs": [
    {
     "name": "stdout",
     "output_type": "stream",
     "text": [
      "# A tibble: 5 x 19\n",
      "   year month   day dep_t… sched_… dep_de… arr_… sched… arr_… carr… flig… tail…\n",
      "  <int> <int> <int>  <int>   <int>   <dbl> <int>  <int> <dbl> <chr> <int> <chr>\n",
      "1  2013    12    31    813     812    1.00  1101   1111 -10.0 DL     2596 N671…\n",
      "2  2013    12    31    905     912  - 7.00  1055   1120 -25.0 DL     2165 N979…\n",
      "3  2013    12    31   1105    1012   53.0   1211   1135  36.0 EV     5769 N835…\n",
      "4  2013    12    31   1121    1112    9.00  1418   1400  18.0 B6      643 N656…\n",
      "5  2013    12    31   1311    1312  - 1.00  1625   1606  19.0 B6      553 N307…\n",
      "# ... with 7 more variables: origin <chr>, dest <chr>, air_time <dbl>,\n",
      "#   distance <dbl>, hour <dbl>, minute <dbl>, time_hour <dttm>\n"
     ]
    }
   ],
   "source": [
    "print(filter(filter(filter(flights, month == 12), day == 31), minute == 12))"
   ]
  },
  {
   "cell_type": "markdown",
   "metadata": {
    "slideshow": {
     "slide_type": "slide"
    }
   },
   "source": [
    "This is not very nice. To figure out what the command is doing you have to work from the inside out, which is not the order in which we are accustomed to reading. A slight improvement might be:"
   ]
  },
  {
   "cell_type": "code",
   "execution_count": 67,
   "metadata": {
    "slideshow": {
     "slide_type": "-"
    }
   },
   "outputs": [
    {
     "name": "stdout",
     "output_type": "stream",
     "text": [
      "# A tibble: 5 x 19\n",
      "   year month   day dep_t… sched_… dep_de… arr_… sched… arr_… carr… flig… tail…\n",
      "  <int> <int> <int>  <int>   <int>   <dbl> <int>  <int> <dbl> <chr> <int> <chr>\n",
      "1  2013    12    31    813     812    1.00  1101   1111 -10.0 DL     2596 N671…\n",
      "2  2013    12    31    905     912  - 7.00  1055   1120 -25.0 DL     2165 N979…\n",
      "3  2013    12    31   1105    1012   53.0   1211   1135  36.0 EV     5769 N835…\n",
      "4  2013    12    31   1121    1112    9.00  1418   1400  18.0 B6      643 N656…\n",
      "5  2013    12    31   1311    1312  - 1.00  1625   1606  19.0 B6      553 N307…\n",
      "# ... with 7 more variables: origin <chr>, dest <chr>, air_time <dbl>,\n",
      "#   distance <dbl>, hour <dbl>, minute <dbl>, time_hour <dttm>\n"
     ]
    }
   ],
   "source": [
    "# option 2\n",
    "new_table = filter(flights, month == 12)\n",
    "new_table1 = filter(new_table, day == 31)\n",
    "new_table2 = filter(new_table1, minute == 12)\n",
    "print(new_table2)"
   ]
  },
  {
   "cell_type": "markdown",
   "metadata": {
    "slideshow": {
     "slide_type": "slide"
    }
   },
   "source": [
    "This is better, but now you've created a bunch of useless temporary variables, and it requires a lot of typing. Now consider rewriting the command with pipes:"
   ]
  },
  {
   "cell_type": "code",
   "execution_count": 68,
   "metadata": {
    "slideshow": {
     "slide_type": "-"
    }
   },
   "outputs": [
    {
     "name": "stdout",
     "output_type": "stream",
     "text": [
      "# A tibble: 5 x 19\n",
      "   year month   day dep_t… sched_… dep_de… arr_… sched… arr_… carr… flig… tail…\n",
      "  <int> <int> <int>  <int>   <int>   <dbl> <int>  <int> <dbl> <chr> <int> <chr>\n",
      "1  2013    12    31    813     812    1.00  1101   1111 -10.0 DL     2596 N671…\n",
      "2  2013    12    31    905     912  - 7.00  1055   1120 -25.0 DL     2165 N979…\n",
      "3  2013    12    31   1105    1012   53.0   1211   1135  36.0 EV     5769 N835…\n",
      "4  2013    12    31   1121    1112    9.00  1418   1400  18.0 B6      643 N656…\n",
      "5  2013    12    31   1311    1312  - 1.00  1625   1606  19.0 B6      553 N307…\n",
      "# ... with 7 more variables: origin <chr>, dest <chr>, air_time <dbl>,\n",
      "#   distance <dbl>, hour <dbl>, minute <dbl>, time_hour <dttm>\n"
     ]
    }
   ],
   "source": [
    "flights %>% filter(month == 12) %>% \n",
    "            filter(day == 31) %>% \n",
    "            filter(minute == 12) %>% print"
   ]
  },
  {
   "cell_type": "markdown",
   "metadata": {
    "slideshow": {
     "slide_type": "notes"
    }
   },
   "source": [
    "This is much better. We can read the command from left to right and know exactly what is going on."
   ]
  },
  {
   "cell_type": "markdown",
   "metadata": {
    "slideshow": {
     "slide_type": "slide"
    }
   },
   "source": [
    "### How `%>%` works\n",
    "Under the hood, `x %>% f(y)` turns into `f(x, y)`, and `x %>% f(y) %>% g(z)` turns into `g(f(x, y), z)` and so on. We can use `%>%` on any function, not just those defined in tidyverse:"
   ]
  },
  {
   "cell_type": "code",
   "execution_count": 69,
   "metadata": {},
   "outputs": [
    {
     "data": {
      "text/html": [
       "6"
      ],
      "text/latex": [
       "6"
      ],
      "text/markdown": [
       "6"
      ],
      "text/plain": [
       "[1] 6"
      ]
     },
     "metadata": {},
     "output_type": "display_data"
    },
    {
     "data": {
      "text/html": [
       "35"
      ],
      "text/latex": [
       "35"
      ],
      "text/markdown": [
       "35"
      ],
      "text/plain": [
       "[1] 35"
      ]
     },
     "metadata": {},
     "output_type": "display_data"
    },
    {
     "data": {
      "text/html": [
       "23"
      ],
      "text/latex": [
       "23"
      ],
      "text/markdown": [
       "23"
      ],
      "text/plain": [
       "[1] 23"
      ]
     },
     "metadata": {},
     "output_type": "display_data"
    }
   ],
   "source": [
    "2 %>% `*`(3)  # same as `*`(2,3) = 2 * 3\n",
    "3 %>% `+`(4) %>% `*`(5)  # 5 * (3 + 4) = 35 -- _not_ 3 + (4 * 5) = 23\n",
    "(4) %>% `*`(5) %>% `+`(3) "
   ]
  },
  {
   "cell_type": "markdown",
   "metadata": {
    "slideshow": {
     "slide_type": "slide"
    }
   },
   "source": [
    "## Adding New Variables\n",
    "The `dplyr`/`tidyverse` package offers the `mutate()` and `transmute()` commands to add new variables to data tibbles. Let us zoom in on a few variables of interest."
   ]
  },
  {
   "cell_type": "code",
   "execution_count": 70,
   "metadata": {},
   "outputs": [
    {
     "name": "stdout",
     "output_type": "stream",
     "text": [
      "# A tibble: 336,776 x 8\n",
      "    year month   day dep_time arr_time air_time origin dest \n",
      "   <int> <int> <int>    <int>    <int>    <dbl> <chr>  <chr>\n",
      " 1  2013     1     1      517      830    227   EWR    IAH  \n",
      " 2  2013     1     1      533      850    227   LGA    IAH  \n",
      " 3  2013     1     1      542      923    160   JFK    MIA  \n",
      " 4  2013     1     1      544     1004    183   JFK    BQN  \n",
      " 5  2013     1     1      554      812    116   LGA    ATL  \n",
      " 6  2013     1     1      554      740    150   EWR    ORD  \n",
      " 7  2013     1     1      555      913    158   EWR    FLL  \n",
      " 8  2013     1     1      557      709     53.0 LGA    IAD  \n",
      " 9  2013     1     1      557      838    140   JFK    MCO  \n",
      "10  2013     1     1      558      753    138   LGA    ORD  \n",
      "# ... with 336,766 more rows\n"
     ]
    }
   ],
   "source": [
    "my_flights = select(flights, year:day, dep_time, arr_time, air_time, origin, dest) %>% print"
   ]
  },
  {
   "cell_type": "markdown",
   "metadata": {
    "slideshow": {
     "slide_type": "notes"
    }
   },
   "source": [
    "New variables can be added using the `mutate()` function. We already have an `air_time` variable. Let us compute the total time for the flight by subtracting the time of departure `dep_time` from time of arrival `arr_time`.\n",
    "\n",
    "We notice something odd though. When we subtract 5h 17m from 8h 30m we should get 3h 13m, i.e. 193 minutes. But instead we get 313 minutes below."
   ]
  },
  {
   "cell_type": "code",
   "execution_count": 71,
   "metadata": {
    "slideshow": {
     "slide_type": "slide"
    }
   },
   "outputs": [
    {
     "name": "stdout",
     "output_type": "stream",
     "text": [
      "# A tibble: 336,776 x 9\n",
      "    year month   day dep_time arr_time air_time origin dest  total_time\n",
      "   <int> <int> <int>    <int>    <int>    <dbl> <chr>  <chr>      <int>\n",
      " 1  2013     1     1      517      830    227   EWR    IAH          313\n",
      " 2  2013     1     1      533      850    227   LGA    IAH          317\n",
      " 3  2013     1     1      542      923    160   JFK    MIA          381\n",
      " 4  2013     1     1      544     1004    183   JFK    BQN          460\n",
      " 5  2013     1     1      554      812    116   LGA    ATL          258\n",
      " 6  2013     1     1      554      740    150   EWR    ORD          186\n",
      " 7  2013     1     1      555      913    158   EWR    FLL          358\n",
      " 8  2013     1     1      557      709     53.0 LGA    IAD          152\n",
      " 9  2013     1     1      557      838    140   JFK    MCO          281\n",
      "10  2013     1     1      558      753    138   LGA    ORD          195\n",
      "# ... with 336,766 more rows\n"
     ]
    }
   ],
   "source": [
    "mutate(my_flights, total_time = arr_time - dep_time) %>% print"
   ]
  },
  {
   "cell_type": "markdown",
   "metadata": {
    "slideshow": {
     "slide_type": "notes"
    }
   },
   "source": [
    "The issue is that `dep_time` and `arr_time` are in the hour-minute notation, so you cannot add and subtract them like regular numbers. We should first convert these times into the number of minutes elapsed since midnight.\n",
    "\n",
    "We want add to new variables `new_dep` and `new_arr` but we need to write a function first that can do the conversion. The function is given below; we'll learn how it works later in the semester. For now just think of it as a black box that converts times from one format to another."
   ]
  },
  {
   "cell_type": "code",
   "execution_count": 72,
   "metadata": {
    "slideshow": {
     "slide_type": "slide"
    }
   },
   "outputs": [
    {
     "data": {
      "text/html": [
       "839"
      ],
      "text/latex": [
       "839"
      ],
      "text/markdown": [
       "839"
      ],
      "text/plain": [
       "[1] 839"
      ]
     },
     "metadata": {},
     "output_type": "display_data"
    }
   ],
   "source": [
    "hourmin2min <- function(hourmin) {  # minutes after 000=midnight\n",
    "    min <- hourmin %% 100  # modulus\n",
    "    hour <- (hourmin - min) %/% 100  # integer division\n",
    "    return(60*hour + min)\n",
    "} \n",
    "hourmin2min(1359)"
   ]
  },
  {
   "cell_type": "markdown",
   "metadata": {
    "slideshow": {
     "slide_type": "slide"
    }
   },
   "source": [
    "Let us test the function on 530. That's 5h 30min, i.e., 330 minutes since midnight."
   ]
  },
  {
   "cell_type": "code",
   "execution_count": 73,
   "metadata": {},
   "outputs": [
    {
     "data": {
      "text/html": [
       "330"
      ],
      "text/latex": [
       "330"
      ],
      "text/markdown": [
       "330"
      ],
      "text/plain": [
       "[1] 330"
      ]
     },
     "metadata": {},
     "output_type": "display_data"
    }
   ],
   "source": [
    "hourmin2min(530)"
   ]
  },
  {
   "cell_type": "markdown",
   "metadata": {
    "slideshow": {
     "slide_type": "slide"
    }
   },
   "source": [
    "The `hourmin2min` function is **vectorized**: given a vector, it outputs a vector."
   ]
  },
  {
   "cell_type": "code",
   "execution_count": 74,
   "metadata": {},
   "outputs": [
    {
     "data": {
      "text/html": [
       "<table>\n",
       "<thead><tr><th scope=col>dep_time</th></tr></thead>\n",
       "<tbody>\n",
       "\t<tr><td>317</td></tr>\n",
       "\t<tr><td>333</td></tr>\n",
       "\t<tr><td>342</td></tr>\n",
       "\t<tr><td>344</td></tr>\n",
       "\t<tr><td>354</td></tr>\n",
       "\t<tr><td>354</td></tr>\n",
       "</tbody>\n",
       "</table>\n"
      ],
      "text/latex": [
       "\\begin{tabular}{r|l}\n",
       " dep\\_time\\\\\n",
       "\\hline\n",
       "\t 317\\\\\n",
       "\t 333\\\\\n",
       "\t 342\\\\\n",
       "\t 344\\\\\n",
       "\t 354\\\\\n",
       "\t 354\\\\\n",
       "\\end{tabular}\n"
      ],
      "text/markdown": [
       "\n",
       "dep_time | \n",
       "|---|---|---|---|---|---|\n",
       "| 317 | \n",
       "| 333 | \n",
       "| 342 | \n",
       "| 344 | \n",
       "| 354 | \n",
       "| 354 | \n",
       "\n",
       "\n"
      ],
      "text/plain": [
       "  dep_time\n",
       "1 317     \n",
       "2 333     \n",
       "3 342     \n",
       "4 344     \n",
       "5 354     \n",
       "6 354     "
      ]
     },
     "metadata": {},
     "output_type": "display_data"
    }
   ],
   "source": [
    "head(hourmin2min(select(my_flights, dep_time)))"
   ]
  },
  {
   "cell_type": "markdown",
   "metadata": {
    "slideshow": {
     "slide_type": "slide"
    }
   },
   "source": [
    "Most commands in R are vectorized, including:\n",
    "\n",
    "* **Arithmetic operators** `+, -, *, /, ^`\n",
    "* **Modular arithmetic operators** `%/%` and `%%` \n",
    "* **Logarithms** `log()`, `log10()`, `log2()`\n",
    "* **Offsets** `lag()` and `lead()`"
   ]
  },
  {
   "cell_type": "code",
   "execution_count": 75,
   "metadata": {},
   "outputs": [
    {
     "data": {
      "text/html": [
       "1.66666666666667"
      ],
      "text/latex": [
       "1.66666666666667"
      ],
      "text/markdown": [
       "1.66666666666667"
      ],
      "text/plain": [
       "[1] 1.666667"
      ]
     },
     "metadata": {},
     "output_type": "display_data"
    },
    {
     "data": {
      "text/html": [
       "1"
      ],
      "text/latex": [
       "1"
      ],
      "text/markdown": [
       "1"
      ],
      "text/plain": [
       "[1] 1"
      ]
     },
     "metadata": {},
     "output_type": "display_data"
    }
   ],
   "source": [
    "5 / 3   # regular division\n",
    "5 %/% 3 # integer division"
   ]
  },
  {
   "cell_type": "markdown",
   "metadata": {
    "slideshow": {
     "slide_type": "slide"
    }
   },
   "source": [
    "## Broadcasting\n",
    "An important feature of vectorized functions is *broadcasting*. If two arguments are specified and one of them is of a shorter length than the other, R will repeat the shorter one until it has the same length as the longest one."
   ]
  },
  {
   "cell_type": "code",
   "execution_count": 76,
   "metadata": {
    "slideshow": {
     "slide_type": "-"
    }
   },
   "outputs": [
    {
     "data": {
      "text/html": [
       "<ol class=list-inline>\n",
       "\t<li>1</li>\n",
       "\t<li>2</li>\n",
       "\t<li>3</li>\n",
       "\t<li>4</li>\n",
       "\t<li>0</li>\n",
       "\t<li>1</li>\n",
       "\t<li>2</li>\n",
       "\t<li>3</li>\n",
       "\t<li>4</li>\n",
       "\t<li>0</li>\n",
       "\t<li>1</li>\n",
       "\t<li>2</li>\n",
       "\t<li>3</li>\n",
       "\t<li>4</li>\n",
       "\t<li>0</li>\n",
       "\t<li>1</li>\n",
       "\t<li>2</li>\n",
       "\t<li>3</li>\n",
       "\t<li>4</li>\n",
       "\t<li>0</li>\n",
       "</ol>\n"
      ],
      "text/latex": [
       "\\begin{enumerate*}\n",
       "\\item 1\n",
       "\\item 2\n",
       "\\item 3\n",
       "\\item 4\n",
       "\\item 0\n",
       "\\item 1\n",
       "\\item 2\n",
       "\\item 3\n",
       "\\item 4\n",
       "\\item 0\n",
       "\\item 1\n",
       "\\item 2\n",
       "\\item 3\n",
       "\\item 4\n",
       "\\item 0\n",
       "\\item 1\n",
       "\\item 2\n",
       "\\item 3\n",
       "\\item 4\n",
       "\\item 0\n",
       "\\end{enumerate*}\n"
      ],
      "text/markdown": [
       "1. 1\n",
       "2. 2\n",
       "3. 3\n",
       "4. 4\n",
       "5. 0\n",
       "6. 1\n",
       "7. 2\n",
       "8. 3\n",
       "9. 4\n",
       "10. 0\n",
       "11. 1\n",
       "12. 2\n",
       "13. 3\n",
       "14. 4\n",
       "15. 0\n",
       "16. 1\n",
       "17. 2\n",
       "18. 3\n",
       "19. 4\n",
       "20. 0\n",
       "\n",
       "\n"
      ],
      "text/plain": [
       " [1] 1 2 3 4 0 1 2 3 4 0 1 2 3 4 0 1 2 3 4 0"
      ]
     },
     "metadata": {},
     "output_type": "display_data"
    }
   ],
   "source": [
    "1:20 %% 5  # shorter argument 5 (which is a vector of length 1) is extended to match length of longer argument"
   ]
  },
  {
   "cell_type": "markdown",
   "metadata": {
    "slideshow": {
     "slide_type": "slide"
    }
   },
   "source": [
    "We also have:\n",
    "\n",
    "* **Logical comparisons** `==, !=, <, <=, >, >=`\n",
    "* **Cumulative aggregates** `cumsum(), cumprod(), cummin(), cummax()` (`dplyr` provided `cummean()`)"
   ]
  },
  {
   "cell_type": "code",
   "execution_count": 77,
   "metadata": {},
   "outputs": [
    {
     "data": {
      "text/html": [
       "<ol class=list-inline>\n",
       "\t<li>TRUE</li>\n",
       "\t<li>TRUE</li>\n",
       "\t<li>TRUE</li>\n",
       "\t<li>TRUE</li>\n",
       "\t<li>TRUE</li>\n",
       "\t<li>TRUE</li>\n",
       "\t<li>TRUE</li>\n",
       "\t<li>TRUE</li>\n",
       "\t<li>TRUE</li>\n",
       "\t<li>TRUE</li>\n",
       "</ol>\n"
      ],
      "text/latex": [
       "\\begin{enumerate*}\n",
       "\\item TRUE\n",
       "\\item TRUE\n",
       "\\item TRUE\n",
       "\\item TRUE\n",
       "\\item TRUE\n",
       "\\item TRUE\n",
       "\\item TRUE\n",
       "\\item TRUE\n",
       "\\item TRUE\n",
       "\\item TRUE\n",
       "\\end{enumerate*}\n"
      ],
      "text/markdown": [
       "1. TRUE\n",
       "2. TRUE\n",
       "3. TRUE\n",
       "4. TRUE\n",
       "5. TRUE\n",
       "6. TRUE\n",
       "7. TRUE\n",
       "8. TRUE\n",
       "9. TRUE\n",
       "10. TRUE\n",
       "\n",
       "\n"
      ],
      "text/plain": [
       " [1] TRUE TRUE TRUE TRUE TRUE TRUE TRUE TRUE TRUE TRUE"
      ]
     },
     "metadata": {},
     "output_type": "display_data"
    },
    {
     "data": {
      "text/html": [
       "<ol class=list-inline>\n",
       "\t<li>FALSE</li>\n",
       "\t<li>FALSE</li>\n",
       "\t<li>FALSE</li>\n",
       "\t<li>FALSE</li>\n",
       "\t<li>FALSE</li>\n",
       "\t<li>FALSE</li>\n",
       "\t<li>FALSE</li>\n",
       "\t<li>FALSE</li>\n",
       "\t<li>FALSE</li>\n",
       "\t<li>FALSE</li>\n",
       "</ol>\n"
      ],
      "text/latex": [
       "\\begin{enumerate*}\n",
       "\\item FALSE\n",
       "\\item FALSE\n",
       "\\item FALSE\n",
       "\\item FALSE\n",
       "\\item FALSE\n",
       "\\item FALSE\n",
       "\\item FALSE\n",
       "\\item FALSE\n",
       "\\item FALSE\n",
       "\\item FALSE\n",
       "\\end{enumerate*}\n"
      ],
      "text/markdown": [
       "1. FALSE\n",
       "2. FALSE\n",
       "3. FALSE\n",
       "4. FALSE\n",
       "5. FALSE\n",
       "6. FALSE\n",
       "7. FALSE\n",
       "8. FALSE\n",
       "9. FALSE\n",
       "10. FALSE\n",
       "\n",
       "\n"
      ],
      "text/plain": [
       " [1] FALSE FALSE FALSE FALSE FALSE FALSE FALSE FALSE FALSE FALSE"
      ]
     },
     "metadata": {},
     "output_type": "display_data"
    },
    {
     "data": {
      "text/html": [
       "<ol class=list-inline>\n",
       "\t<li>FALSE</li>\n",
       "\t<li>FALSE</li>\n",
       "\t<li>FALSE</li>\n",
       "\t<li>FALSE</li>\n",
       "\t<li>FALSE</li>\n",
       "\t<li>FALSE</li>\n",
       "\t<li>FALSE</li>\n",
       "\t<li>FALSE</li>\n",
       "\t<li>FALSE</li>\n",
       "\t<li>FALSE</li>\n",
       "</ol>\n"
      ],
      "text/latex": [
       "\\begin{enumerate*}\n",
       "\\item FALSE\n",
       "\\item FALSE\n",
       "\\item FALSE\n",
       "\\item FALSE\n",
       "\\item FALSE\n",
       "\\item FALSE\n",
       "\\item FALSE\n",
       "\\item FALSE\n",
       "\\item FALSE\n",
       "\\item FALSE\n",
       "\\end{enumerate*}\n"
      ],
      "text/markdown": [
       "1. FALSE\n",
       "2. FALSE\n",
       "3. FALSE\n",
       "4. FALSE\n",
       "5. FALSE\n",
       "6. FALSE\n",
       "7. FALSE\n",
       "8. FALSE\n",
       "9. FALSE\n",
       "10. FALSE\n",
       "\n",
       "\n"
      ],
      "text/plain": [
       " [1] FALSE FALSE FALSE FALSE FALSE FALSE FALSE FALSE FALSE FALSE"
      ]
     },
     "metadata": {},
     "output_type": "display_data"
    }
   ],
   "source": [
    "1:10 < 11:20\n",
    "1:10 < -1\n",
    "21 < 11:20"
   ]
  },
  {
   "cell_type": "code",
   "execution_count": 78,
   "metadata": {
    "slideshow": {
     "slide_type": "-"
    }
   },
   "outputs": [
    {
     "data": {
      "text/html": [
       "<ol class=list-inline>\n",
       "\t<li>1</li>\n",
       "\t<li>2</li>\n",
       "\t<li>6</li>\n",
       "\t<li>24</li>\n",
       "\t<li>120</li>\n",
       "\t<li>720</li>\n",
       "\t<li>5040</li>\n",
       "\t<li>40320</li>\n",
       "\t<li>362880</li>\n",
       "\t<li>3628800</li>\n",
       "</ol>\n"
      ],
      "text/latex": [
       "\\begin{enumerate*}\n",
       "\\item 1\n",
       "\\item 2\n",
       "\\item 6\n",
       "\\item 24\n",
       "\\item 120\n",
       "\\item 720\n",
       "\\item 5040\n",
       "\\item 40320\n",
       "\\item 362880\n",
       "\\item 3628800\n",
       "\\end{enumerate*}\n"
      ],
      "text/markdown": [
       "1. 1\n",
       "2. 2\n",
       "3. 6\n",
       "4. 24\n",
       "5. 120\n",
       "6. 720\n",
       "7. 5040\n",
       "8. 40320\n",
       "9. 362880\n",
       "10. 3628800\n",
       "\n",
       "\n"
      ],
      "text/plain": [
       " [1]       1       2       6      24     120     720    5040   40320  362880\n",
       "[10] 3628800"
      ]
     },
     "metadata": {},
     "output_type": "display_data"
    }
   ],
   "source": [
    "(factorials <- cumprod(1:10))"
   ]
  },
  {
   "cell_type": "markdown",
   "metadata": {
    "slideshow": {
     "slide_type": "slide"
    }
   },
   "source": [
    "### Ranking functions\n",
    "\n",
    "There are a number of handy functions for ranking data:\n",
    "\n",
    "* `min_rank(v)`: rank the entries of `v` in ascending order, so the smallest entry gets a 1, etc. Ties get the same rank.\n",
    "* `row_number(v)`: same as `min_rank(v)`, but every entry gets its own rank.\n",
    "* `dense_rank(v)`: same as `min_rank(v)`, but no gaps created between the ranks.\n",
    "* `percent_rank()`: ranks expressed in percentiles.\n",
    "* `cume_dist(v)`: fraction of entries `<=` each entry of `v`.\n",
    "* `ntile(v)`: group entries of `v` into buckets and report which bucket"
   ]
  },
  {
   "cell_type": "code",
   "execution_count": 79,
   "metadata": {
    "slideshow": {
     "slide_type": "slide"
    }
   },
   "outputs": [
    {
     "data": {
      "text/html": [
       "<ol class=list-inline>\n",
       "\t<li>14</li>\n",
       "\t<li>11</li>\n",
       "\t<li>12</li>\n",
       "\t<li>17</li>\n",
       "\t<li>12</li>\n",
       "\t<li>14</li>\n",
       "\t<li>14</li>\n",
       "\t<li>21</li>\n",
       "\t<li>&lt;NA&gt;</li>\n",
       "\t<li>26</li>\n",
       "</ol>\n"
      ],
      "text/latex": [
       "\\begin{enumerate*}\n",
       "\\item 14\n",
       "\\item 11\n",
       "\\item 12\n",
       "\\item 17\n",
       "\\item 12\n",
       "\\item 14\n",
       "\\item 14\n",
       "\\item 21\n",
       "\\item <NA>\n",
       "\\item 26\n",
       "\\end{enumerate*}\n"
      ],
      "text/markdown": [
       "1. 14\n",
       "2. 11\n",
       "3. 12\n",
       "4. 17\n",
       "5. 12\n",
       "6. 14\n",
       "7. 14\n",
       "8. 21\n",
       "9. &lt;NA&gt;\n",
       "10. 26\n",
       "\n",
       "\n"
      ],
      "text/plain": [
       " [1] 14 11 12 17 12 14 14 21 NA 26"
      ]
     },
     "metadata": {},
     "output_type": "display_data"
    },
    {
     "data": {
      "text/html": [
       "<ol class=list-inline>\n",
       "\t<li>4</li>\n",
       "\t<li>1</li>\n",
       "\t<li>2</li>\n",
       "\t<li>7</li>\n",
       "\t<li>2</li>\n",
       "\t<li>4</li>\n",
       "\t<li>4</li>\n",
       "\t<li>8</li>\n",
       "\t<li>&lt;NA&gt;</li>\n",
       "\t<li>9</li>\n",
       "</ol>\n"
      ],
      "text/latex": [
       "\\begin{enumerate*}\n",
       "\\item 4\n",
       "\\item 1\n",
       "\\item 2\n",
       "\\item 7\n",
       "\\item 2\n",
       "\\item 4\n",
       "\\item 4\n",
       "\\item 8\n",
       "\\item <NA>\n",
       "\\item 9\n",
       "\\end{enumerate*}\n"
      ],
      "text/markdown": [
       "1. 4\n",
       "2. 1\n",
       "3. 2\n",
       "4. 7\n",
       "5. 2\n",
       "6. 4\n",
       "7. 4\n",
       "8. 8\n",
       "9. &lt;NA&gt;\n",
       "10. 9\n",
       "\n",
       "\n"
      ],
      "text/plain": [
       " [1]  4  1  2  7  2  4  4  8 NA  9"
      ]
     },
     "metadata": {},
     "output_type": "display_data"
    },
    {
     "data": {
      "text/html": [
       "<ol class=list-inline>\n",
       "\t<li>4</li>\n",
       "\t<li>9</li>\n",
       "\t<li>7</li>\n",
       "\t<li>3</li>\n",
       "\t<li>7</li>\n",
       "\t<li>4</li>\n",
       "\t<li>4</li>\n",
       "\t<li>2</li>\n",
       "\t<li>&lt;NA&gt;</li>\n",
       "\t<li>1</li>\n",
       "</ol>\n"
      ],
      "text/latex": [
       "\\begin{enumerate*}\n",
       "\\item 4\n",
       "\\item 9\n",
       "\\item 7\n",
       "\\item 3\n",
       "\\item 7\n",
       "\\item 4\n",
       "\\item 4\n",
       "\\item 2\n",
       "\\item <NA>\n",
       "\\item 1\n",
       "\\end{enumerate*}\n"
      ],
      "text/markdown": [
       "1. 4\n",
       "2. 9\n",
       "3. 7\n",
       "4. 3\n",
       "5. 7\n",
       "6. 4\n",
       "7. 4\n",
       "8. 2\n",
       "9. &lt;NA&gt;\n",
       "10. 1\n",
       "\n",
       "\n"
      ],
      "text/plain": [
       " [1]  4  9  7  3  7  4  4  2 NA  1"
      ]
     },
     "metadata": {},
     "output_type": "display_data"
    }
   ],
   "source": [
    "(x <- sample(c(11, 12, 12, 14, 14, 14, 17, 21, 26, NA))) # returns a random permutation of the input\n",
    "min_rank(x) # ranks with smallest value as rank 1\n",
    "min_rank(desc(x)) # ranks with largest value as rank 1"
   ]
  },
  {
   "cell_type": "code",
   "execution_count": 80,
   "metadata": {
    "slideshow": {
     "slide_type": "slide"
    }
   },
   "outputs": [
    {
     "data": {
      "text/html": [
       "<ol class=list-inline>\n",
       "\t<li>3</li>\n",
       "\t<li>1</li>\n",
       "\t<li>2</li>\n",
       "\t<li>4</li>\n",
       "\t<li>2</li>\n",
       "\t<li>3</li>\n",
       "\t<li>3</li>\n",
       "\t<li>5</li>\n",
       "\t<li>&lt;NA&gt;</li>\n",
       "\t<li>6</li>\n",
       "</ol>\n"
      ],
      "text/latex": [
       "\\begin{enumerate*}\n",
       "\\item 3\n",
       "\\item 1\n",
       "\\item 2\n",
       "\\item 4\n",
       "\\item 2\n",
       "\\item 3\n",
       "\\item 3\n",
       "\\item 5\n",
       "\\item <NA>\n",
       "\\item 6\n",
       "\\end{enumerate*}\n"
      ],
      "text/markdown": [
       "1. 3\n",
       "2. 1\n",
       "3. 2\n",
       "4. 4\n",
       "5. 2\n",
       "6. 3\n",
       "7. 3\n",
       "8. 5\n",
       "9. &lt;NA&gt;\n",
       "10. 6\n",
       "\n",
       "\n"
      ],
      "text/plain": [
       " [1]  3  1  2  4  2  3  3  5 NA  6"
      ]
     },
     "metadata": {},
     "output_type": "display_data"
    }
   ],
   "source": [
    "dense_rank(x) # don't create gaps in ranks"
   ]
  },
  {
   "cell_type": "code",
   "execution_count": 81,
   "metadata": {
    "slideshow": {
     "slide_type": "slide"
    }
   },
   "outputs": [
    {
     "data": {
      "text/html": [
       "<ol class=list-inline>\n",
       "\t<li>4</li>\n",
       "\t<li>1</li>\n",
       "\t<li>2</li>\n",
       "\t<li>7</li>\n",
       "\t<li>3</li>\n",
       "\t<li>5</li>\n",
       "\t<li>6</li>\n",
       "\t<li>8</li>\n",
       "\t<li>&lt;NA&gt;</li>\n",
       "\t<li>9</li>\n",
       "</ol>\n"
      ],
      "text/latex": [
       "\\begin{enumerate*}\n",
       "\\item 4\n",
       "\\item 1\n",
       "\\item 2\n",
       "\\item 7\n",
       "\\item 3\n",
       "\\item 5\n",
       "\\item 6\n",
       "\\item 8\n",
       "\\item <NA>\n",
       "\\item 9\n",
       "\\end{enumerate*}\n"
      ],
      "text/markdown": [
       "1. 4\n",
       "2. 1\n",
       "3. 2\n",
       "4. 7\n",
       "5. 3\n",
       "6. 5\n",
       "7. 6\n",
       "8. 8\n",
       "9. &lt;NA&gt;\n",
       "10. 9\n",
       "\n",
       "\n"
      ],
      "text/plain": [
       " [1]  4  1  2  7  3  5  6  8 NA  9"
      ]
     },
     "metadata": {},
     "output_type": "display_data"
    }
   ],
   "source": [
    "row_number(x) # just return the position number in sorted order (ties get different ranks here)"
   ]
  },
  {
   "cell_type": "code",
   "execution_count": 82,
   "metadata": {
    "slideshow": {
     "slide_type": "slide"
    }
   },
   "outputs": [
    {
     "data": {
      "text/html": [
       "<ol class=list-inline>\n",
       "\t<li>0.375</li>\n",
       "\t<li>0</li>\n",
       "\t<li>0.125</li>\n",
       "\t<li>0.75</li>\n",
       "\t<li>0.125</li>\n",
       "\t<li>0.375</li>\n",
       "\t<li>0.375</li>\n",
       "\t<li>0.875</li>\n",
       "\t<li>&lt;NA&gt;</li>\n",
       "\t<li>1</li>\n",
       "</ol>\n"
      ],
      "text/latex": [
       "\\begin{enumerate*}\n",
       "\\item 0.375\n",
       "\\item 0\n",
       "\\item 0.125\n",
       "\\item 0.75\n",
       "\\item 0.125\n",
       "\\item 0.375\n",
       "\\item 0.375\n",
       "\\item 0.875\n",
       "\\item <NA>\n",
       "\\item 1\n",
       "\\end{enumerate*}\n"
      ],
      "text/markdown": [
       "1. 0.375\n",
       "2. 0\n",
       "3. 0.125\n",
       "4. 0.75\n",
       "5. 0.125\n",
       "6. 0.375\n",
       "7. 0.375\n",
       "8. 0.875\n",
       "9. &lt;NA&gt;\n",
       "10. 1\n",
       "\n",
       "\n"
      ],
      "text/plain": [
       " [1] 0.375 0.000 0.125 0.750 0.125 0.375 0.375 0.875    NA 1.000"
      ]
     },
     "metadata": {},
     "output_type": "display_data"
    }
   ],
   "source": [
    "percent_rank(x) # min_rank values are scaled to [0,1]"
   ]
  },
  {
   "cell_type": "code",
   "execution_count": 83,
   "metadata": {
    "slideshow": {
     "slide_type": "slide"
    }
   },
   "outputs": [
    {
     "data": {
      "text/html": [
       "<ol class=list-inline>\n",
       "\t<li>0.666666666666667</li>\n",
       "\t<li>0.111111111111111</li>\n",
       "\t<li>0.333333333333333</li>\n",
       "\t<li>0.777777777777778</li>\n",
       "\t<li>0.333333333333333</li>\n",
       "\t<li>0.666666666666667</li>\n",
       "\t<li>0.666666666666667</li>\n",
       "\t<li>0.888888888888889</li>\n",
       "\t<li>&lt;NA&gt;</li>\n",
       "\t<li>1</li>\n",
       "</ol>\n"
      ],
      "text/latex": [
       "\\begin{enumerate*}\n",
       "\\item 0.666666666666667\n",
       "\\item 0.111111111111111\n",
       "\\item 0.333333333333333\n",
       "\\item 0.777777777777778\n",
       "\\item 0.333333333333333\n",
       "\\item 0.666666666666667\n",
       "\\item 0.666666666666667\n",
       "\\item 0.888888888888889\n",
       "\\item <NA>\n",
       "\\item 1\n",
       "\\end{enumerate*}\n"
      ],
      "text/markdown": [
       "1. 0.666666666666667\n",
       "2. 0.111111111111111\n",
       "3. 0.333333333333333\n",
       "4. 0.777777777777778\n",
       "5. 0.333333333333333\n",
       "6. 0.666666666666667\n",
       "7. 0.666666666666667\n",
       "8. 0.888888888888889\n",
       "9. &lt;NA&gt;\n",
       "10. 1\n",
       "\n",
       "\n"
      ],
      "text/plain": [
       " [1] 0.6666667 0.1111111 0.3333333 0.7777778 0.3333333 0.6666667 0.6666667\n",
       " [8] 0.8888889        NA 1.0000000"
      ]
     },
     "metadata": {},
     "output_type": "display_data"
    }
   ],
   "source": [
    "cume_dist(x) # fraction of entries less than or equal to a given number"
   ]
  },
  {
   "cell_type": "code",
   "execution_count": 84,
   "metadata": {
    "slideshow": {
     "slide_type": "slide"
    }
   },
   "outputs": [
    {
     "data": {
      "text/html": [
       "<ol class=list-inline>\n",
       "\t<li>2</li>\n",
       "\t<li>1</li>\n",
       "\t<li>1</li>\n",
       "\t<li>3</li>\n",
       "\t<li>1</li>\n",
       "\t<li>2</li>\n",
       "\t<li>3</li>\n",
       "\t<li>4</li>\n",
       "\t<li>&lt;NA&gt;</li>\n",
       "\t<li>4</li>\n",
       "</ol>\n"
      ],
      "text/latex": [
       "\\begin{enumerate*}\n",
       "\\item 2\n",
       "\\item 1\n",
       "\\item 1\n",
       "\\item 3\n",
       "\\item 1\n",
       "\\item 2\n",
       "\\item 3\n",
       "\\item 4\n",
       "\\item <NA>\n",
       "\\item 4\n",
       "\\end{enumerate*}\n"
      ],
      "text/markdown": [
       "1. 2\n",
       "2. 1\n",
       "3. 1\n",
       "4. 3\n",
       "5. 1\n",
       "6. 2\n",
       "7. 3\n",
       "8. 4\n",
       "9. &lt;NA&gt;\n",
       "10. 4\n",
       "\n",
       "\n"
      ],
      "text/plain": [
       " [1]  2  1  1  3  1  2  3  4 NA  4"
      ]
     },
     "metadata": {},
     "output_type": "display_data"
    }
   ],
   "source": [
    "ntile(x, 4) # rough ranks based on using just 4 buckets"
   ]
  },
  {
   "cell_type": "markdown",
   "metadata": {
    "slideshow": {
     "slide_type": "slide"
    }
   },
   "source": [
    "Let us now create two new variables obtained from `arr_time` and `dep_time` by converting them into minutes since midnight."
   ]
  },
  {
   "cell_type": "code",
   "execution_count": 85,
   "metadata": {},
   "outputs": [
    {
     "name": "stdout",
     "output_type": "stream",
     "text": [
      "# A tibble: 336,776 x 10\n",
      "    year month   day dep_time arr_time air_time origin dest  new_arr new_dep\n",
      "   <int> <int> <int>    <int>    <int>    <dbl> <chr>  <chr>   <dbl>   <dbl>\n",
      " 1  2013     1     1      517      830    227   EWR    IAH       510     317\n",
      " 2  2013     1     1      533      850    227   LGA    IAH       530     333\n",
      " 3  2013     1     1      542      923    160   JFK    MIA       563     342\n",
      " 4  2013     1     1      544     1004    183   JFK    BQN       604     344\n",
      " 5  2013     1     1      554      812    116   LGA    ATL       492     354\n",
      " 6  2013     1     1      554      740    150   EWR    ORD       460     354\n",
      " 7  2013     1     1      555      913    158   EWR    FLL       553     355\n",
      " 8  2013     1     1      557      709     53.0 LGA    IAD       429     357\n",
      " 9  2013     1     1      557      838    140   JFK    MCO       518     357\n",
      "10  2013     1     1      558      753    138   LGA    ORD       473     358\n",
      "# ... with 336,766 more rows\n"
     ]
    }
   ],
   "source": [
    "my_flights_new = mutate(my_flights, new_arr = hourmin2min(arr_time), \n",
    "                        new_dep = hourmin2min(dep_time)) %>% print"
   ]
  },
  {
   "cell_type": "markdown",
   "metadata": {
    "slideshow": {
     "slide_type": "slide"
    }
   },
   "source": [
    "Now we can subtract the departure time `new_dep` from the arrival time `new_arr` to get a new variable `total_time`."
   ]
  },
  {
   "cell_type": "code",
   "execution_count": 86,
   "metadata": {},
   "outputs": [
    {
     "name": "stdout",
     "output_type": "stream",
     "text": [
      "# A tibble: 336,776 x 11\n",
      "    year month   day dep_time arr_time air_time origin dest  new_a… new_… tota…\n",
      "   <int> <int> <int>    <int>    <int>    <dbl> <chr>  <chr>  <dbl> <dbl> <dbl>\n",
      " 1  2013     1     1      517      830    227   EWR    IAH      510   317 193  \n",
      " 2  2013     1     1      533      850    227   LGA    IAH      530   333 197  \n",
      " 3  2013     1     1      542      923    160   JFK    MIA      563   342 221  \n",
      " 4  2013     1     1      544     1004    183   JFK    BQN      604   344 260  \n",
      " 5  2013     1     1      554      812    116   LGA    ATL      492   354 138  \n",
      " 6  2013     1     1      554      740    150   EWR    ORD      460   354 106  \n",
      " 7  2013     1     1      555      913    158   EWR    FLL      553   355 198  \n",
      " 8  2013     1     1      557      709     53.0 LGA    IAD      429   357  72.0\n",
      " 9  2013     1     1      557      838    140   JFK    MCO      518   357 161  \n",
      "10  2013     1     1      558      753    138   LGA    ORD      473   358 115  \n",
      "# ... with 336,766 more rows\n"
     ]
    }
   ],
   "source": [
    "my_flights_total = mutate(my_flights_new, total_time = new_arr - new_dep) %>% print"
   ]
  },
  {
   "cell_type": "code",
   "execution_count": 87,
   "metadata": {
    "slideshow": {
     "slide_type": "slide"
    }
   },
   "outputs": [
    {
     "data": {
      "text/plain": [
       "   Min. 1st Qu.  Median    Mean 3rd Qu.    Max.    NA's \n",
       "  -1401      91     133      91     172     690    8713 "
      ]
     },
     "metadata": {},
     "output_type": "display_data"
    }
   ],
   "source": [
    "summary(my_flights_total$total_time)"
   ]
  },
  {
   "cell_type": "markdown",
   "metadata": {
    "slideshow": {
     "slide_type": "notes"
    }
   },
   "source": [
    "How is it that the total time is less that the time in air for some flights?"
   ]
  },
  {
   "cell_type": "code",
   "execution_count": 88,
   "metadata": {
    "scrolled": true,
    "slideshow": {
     "slide_type": "slide"
    }
   },
   "outputs": [
    {
     "name": "stdout",
     "output_type": "stream",
     "text": [
      "# A tibble: 137,267 x 11\n",
      "    year month   day dep_time arr_time air_time origin dest  new_a… new_… tota…\n",
      "   <int> <int> <int>    <int>    <int>    <dbl> <chr>  <chr>  <dbl> <dbl> <dbl>\n",
      " 1  2013     1     1      517      830      227 EWR    IAH      510   317   193\n",
      " 2  2013     1     1      533      850      227 LGA    IAH      530   333   197\n",
      " 3  2013     1     1      554      740      150 EWR    ORD      460   354   106\n",
      " 4  2013     1     1      558      753      138 LGA    ORD      473   358   115\n",
      " 5  2013     1     1      558      924      345 JFK    LAX      564   358   206\n",
      " 6  2013     1     1      558      923      361 EWR    SFO      563   358   205\n",
      " 7  2013     1     1      559      941      257 LGA    DFW      581   359   222\n",
      " 8  2013     1     1      559      854      337 EWR    LAS      534   359   175\n",
      " 9  2013     1     1      602      812      170 LGA    MSP      492   362   130\n",
      "10  2013     1     1      608      807      139 EWR    ORD      487   368   119\n",
      "# ... with 137,257 more rows\n"
     ]
    }
   ],
   "source": [
    "print(filter(my_flights_total, total_time < air_time))"
   ]
  },
  {
   "cell_type": "code",
   "execution_count": 89,
   "metadata": {
    "slideshow": {
     "slide_type": "slide"
    }
   },
   "outputs": [
    {
     "name": "stdout",
     "output_type": "stream",
     "text": [
      "# A tibble: 336,776 x 1\n",
      "   discrepancy\n",
      "         <dbl>\n",
      " 1       -34.0\n",
      " 2       -30.0\n",
      " 3        61.0\n",
      " 4        77.0\n",
      " 5        22.0\n",
      " 6       -44.0\n",
      " 7        40.0\n",
      " 8        19.0\n",
      " 9        21.0\n",
      "10       -23.0\n",
      "# ... with 336,766 more rows\n"
     ]
    }
   ],
   "source": [
    "discrepancy = transmute(my_flights_total, discrepancy=total_time - air_time) %>% print"
   ]
  },
  {
   "cell_type": "code",
   "execution_count": 90,
   "metadata": {
    "slideshow": {
     "slide_type": "slide"
    }
   },
   "outputs": [
    {
     "name": "stderr",
     "output_type": "stream",
     "text": [
      "`stat_bin()` using `bins = 30`. Pick better value with `binwidth`.\n",
      "Warning message:\n",
      "“Removed 9430 rows containing non-finite values (stat_bin).”"
     ]
    },
    {
     "data": {},
     "metadata": {},
     "output_type": "display_data"
    },
    {
     "data": {
      "image/png": "[encoded data removed]",
      "text/plain": [
       "plot without title"
      ]
     },
     "metadata": {},
     "output_type": "display_data"
    }
   ],
   "source": [
    "qplot(discrepancy$discrepancy, geom=\"histogram\")  # shortcut ggplot function"
   ]
  },
  {
   "cell_type": "markdown",
   "metadata": {
    "slideshow": {
     "slide_type": "notes"
    }
   },
   "source": [
    "This looks like a mixture distribution. Any ideas what could be the cause?"
   ]
  },
  {
   "cell_type": "code",
   "execution_count": 91,
   "metadata": {
    "slideshow": {
     "slide_type": "slide"
    }
   },
   "outputs": [
    {
     "name": "stdout",
     "output_type": "stream",
     "text": [
      "# A tibble: 10,621 x 2\n",
      "   dep_time arr_time\n",
      "      <int>    <int>\n",
      " 1     1929        3\n",
      " 2     1939       29\n",
      " 3     2058        8\n",
      " 4     2102      146\n",
      " 5     2108       25\n",
      " 6     2120       16\n",
      " 7     2121        6\n",
      " 8     2128       26\n",
      " 9     2134       20\n",
      "10     2136       25\n",
      "# ... with 10,611 more rows\n"
     ]
    }
   ],
   "source": [
    "filter(my_flights_total, total_time < -1000) %>% select(dep_time, arr_time) %>% print"
   ]
  },
  {
   "cell_type": "markdown",
   "metadata": {
    "slideshow": {
     "slide_type": "slide"
    }
   },
   "source": [
    "We can fix the negative values by adding 24\\*60 to them (we keep the positive values as is).\n",
    "\n",
    "Note that `transmute()` will only keep the new variables."
   ]
  },
  {
   "cell_type": "code",
   "execution_count": 92,
   "metadata": {},
   "outputs": [
    {
     "name": "stdout",
     "output_type": "stream",
     "text": [
      "# A tibble: 336,776 x 3\n",
      "   arr_time dep_time new_total_time\n",
      "      <int>    <int>          <dbl>\n",
      " 1      830      517          193  \n",
      " 2      850      533          197  \n",
      " 3      923      542          221  \n",
      " 4     1004      544          260  \n",
      " 5      812      554          138  \n",
      " 6      740      554          106  \n",
      " 7      913      555          198  \n",
      " 8      709      557           72.0\n",
      " 9      838      557          161  \n",
      "10      753      558          115  \n",
      "# ... with 336,766 more rows\n"
     ]
    }
   ],
   "source": [
    "transmute(my_flights_total, arr_time, dep_time,\n",
    "          new_total_time = ifelse(\n",
    "              total_time < 0, \n",
    "              (total_time + 24*60), + \n",
    "               total_time)\n",
    "          ) %>% print"
   ]
  },
  {
   "cell_type": "markdown",
   "metadata": {
    "slideshow": {
     "slide_type": "notes"
    }
   },
   "source": [
    "Note the use of the `ifelse()` function here. It takes three arguments: a logical (`TRUE`/`FALSE`), plus two other vectors, all having the same length:\n",
    "```{r}\n",
    "ifelse(v1, v2, v3)\n",
    "```\n",
    "It returns a new vector, also of the same length. Any entry for which `v1==TRUE`, it contains the corresponding entry from `v2`. Otherwise, the entry comes from `v3`."
   ]
  },
  {
   "cell_type": "code",
   "execution_count": 93,
   "metadata": {
    "slideshow": {
     "slide_type": "slide"
    }
   },
   "outputs": [
    {
     "data": {
      "text/html": [
       "<ol class=list-inline>\n",
       "\t<li>'v1 1'</li>\n",
       "\t<li>'v1 2'</li>\n",
       "\t<li>'v2 3'</li>\n",
       "\t<li>'v1 4'</li>\n",
       "</ol>\n"
      ],
      "text/latex": [
       "\\begin{enumerate*}\n",
       "\\item 'v1 1'\n",
       "\\item 'v1 2'\n",
       "\\item 'v2 3'\n",
       "\\item 'v1 4'\n",
       "\\end{enumerate*}\n"
      ],
      "text/markdown": [
       "1. 'v1 1'\n",
       "2. 'v1 2'\n",
       "3. 'v2 3'\n",
       "4. 'v1 4'\n",
       "\n",
       "\n"
      ],
      "text/plain": [
       "[1] \"v1 1\" \"v1 2\" \"v2 3\" \"v1 4\""
      ]
     },
     "metadata": {},
     "output_type": "display_data"
    }
   ],
   "source": [
    "ifelse(c(TRUE, TRUE, FALSE, TRUE), \n",
    "       c(\"v1 1\", \"v1 2\", \"v1 3\", \"v1 4\"),\n",
    "       c(\"v2 1\", \"v2 2\", \"v2 3\", \"v2 4\"))"
   ]
  },
  {
   "cell_type": "markdown",
   "metadata": {
    "slideshow": {
     "slide_type": "slide"
    }
   },
   "source": [
    "A nice feature of `mutate()`/`transmute()` is that you can use columns defined earlier in the command:"
   ]
  },
  {
   "cell_type": "code",
   "execution_count": 94,
   "metadata": {},
   "outputs": [
    {
     "name": "stdout",
     "output_type": "stream",
     "text": [
      "# A tibble: 336,776 x 21\n",
      "    year month   day dep_t… sched… dep_d… arr_… sched… arr_d… carr… flig… tail…\n",
      "   <int> <int> <int>  <int>  <int>  <dbl> <int>  <int>  <dbl> <chr> <int> <chr>\n",
      " 1  2013     1     1    517    515   2.00   830    819  11.0  UA     1545 N142…\n",
      " 2  2013     1     1    533    529   4.00   850    830  20.0  UA     1714 N242…\n",
      " 3  2013     1     1    542    540   2.00   923    850  33.0  AA     1141 N619…\n",
      " 4  2013     1     1    544    545  -1.00  1004   1022 -18.0  B6      725 N804…\n",
      " 5  2013     1     1    554    600  -6.00   812    837 -25.0  DL      461 N668…\n",
      " 6  2013     1     1    554    558  -4.00   740    728  12.0  UA     1696 N394…\n",
      " 7  2013     1     1    555    600  -5.00   913    854  19.0  B6      507 N516…\n",
      " 8  2013     1     1    557    600  -3.00   709    723 -14.0  EV     5708 N829…\n",
      " 9  2013     1     1    557    600  -3.00   838    846 - 8.00 B6       79 N593…\n",
      "10  2013     1     1    558    600  -2.00   753    745   8.00 AA      301 N3AL…\n",
      "# ... with 336,766 more rows, and 9 more variables: origin <chr>, dest <chr>,\n",
      "#   air_time <dbl>, distance <dbl>, hour <dbl>, minute <dbl>, time_hour <dttm>,\n",
      "#   gain <dbl>, gain_per_hour <dbl>\n"
     ]
    }
   ],
   "source": [
    "print(mutate(flights, gain = arr_delay - dep_delay, gain_per_hour = gain / (air_time / 60)))"
   ]
  },
  {
   "cell_type": "markdown",
   "metadata": {
    "slideshow": {
     "slide_type": "slide"
    }
   },
   "source": [
    "## Grouped Summaries\n",
    "`summarize()` can be used to summarize entire data frames by collapsing them into single number summaries. As opposed to `mutate()`, which generates a new column and entry for each row, `summarize()` first groups columns and then applies a summary function."
   ]
  },
  {
   "cell_type": "markdown",
   "metadata": {
    "slideshow": {
     "slide_type": "slide"
    }
   },
   "source": [
    "The most basic use of summarize is to compute statistics over the whole data set:"
   ]
  },
  {
   "cell_type": "code",
   "execution_count": 95,
   "metadata": {},
   "outputs": [
    {
     "data": {
      "text/html": [
       "<table>\n",
       "<thead><tr><th scope=col>delay</th></tr></thead>\n",
       "<tbody>\n",
       "\t<tr><td>12.63907</td></tr>\n",
       "</tbody>\n",
       "</table>\n"
      ],
      "text/latex": [
       "\\begin{tabular}{r|l}\n",
       " delay\\\\\n",
       "\\hline\n",
       "\t 12.63907\\\\\n",
       "\\end{tabular}\n"
      ],
      "text/markdown": [
       "\n",
       "delay | \n",
       "|---|\n",
       "| 12.63907 | \n",
       "\n",
       "\n"
      ],
      "text/plain": [
       "  delay   \n",
       "1 12.63907"
      ]
     },
     "metadata": {},
     "output_type": "display_data"
    },
    {
     "data": {
      "text/html": [
       "12.6390702573047"
      ],
      "text/latex": [
       "12.6390702573047"
      ],
      "text/markdown": [
       "12.6390702573047"
      ],
      "text/plain": [
       "[1] 12.63907"
      ]
     },
     "metadata": {},
     "output_type": "display_data"
    }
   ],
   "source": [
    "summarize(flights, delay = mean(dep_delay, na.rm = TRUE))\n",
    "# Equivalently:\n",
    "mean(flights$dep_delay, na.rm=TRUE)"
   ]
  },
  {
   "cell_type": "markdown",
   "metadata": {
    "slideshow": {
     "slide_type": "slide"
    }
   },
   "source": [
    "Here we used the `na.rm=TRUE` option to tell R to ignore entries with missing `dep_delay` when calculating the mean. If we did not do this we would get `NA`s:"
   ]
  },
  {
   "cell_type": "code",
   "execution_count": 96,
   "metadata": {},
   "outputs": [
    {
     "data": {
      "text/html": [
       "<table>\n",
       "<thead><tr><th scope=col>delay</th></tr></thead>\n",
       "<tbody>\n",
       "\t<tr><td>NA</td></tr>\n",
       "</tbody>\n",
       "</table>\n"
      ],
      "text/latex": [
       "\\begin{tabular}{r|l}\n",
       " delay\\\\\n",
       "\\hline\n",
       "\t NA\\\\\n",
       "\\end{tabular}\n"
      ],
      "text/markdown": [
       "\n",
       "delay | \n",
       "|---|\n",
       "| NA | \n",
       "\n",
       "\n"
      ],
      "text/plain": [
       "  delay\n",
       "1 NA   "
      ]
     },
     "metadata": {},
     "output_type": "display_data"
    }
   ],
   "source": [
    "summarize(flights, delay = mean(dep_delay, na.rm = FALSE))  # the default"
   ]
  },
  {
   "cell_type": "markdown",
   "metadata": {
    "slideshow": {
     "slide_type": "slide"
    }
   },
   "source": [
    "`na.rm=TRUE` is equivalent to dropping the missing entries and then calculating the mean:"
   ]
  },
  {
   "cell_type": "code",
   "execution_count": 97,
   "metadata": {},
   "outputs": [
    {
     "data": {
      "text/html": [
       "<table>\n",
       "<thead><tr><th scope=col>delay</th></tr></thead>\n",
       "<tbody>\n",
       "\t<tr><td>12.63907</td></tr>\n",
       "</tbody>\n",
       "</table>\n"
      ],
      "text/latex": [
       "\\begin{tabular}{r|l}\n",
       " delay\\\\\n",
       "\\hline\n",
       "\t 12.63907\\\\\n",
       "\\end{tabular}\n"
      ],
      "text/markdown": [
       "\n",
       "delay | \n",
       "|---|\n",
       "| 12.63907 | \n",
       "\n",
       "\n"
      ],
      "text/plain": [
       "  delay   \n",
       "1 12.63907"
      ]
     },
     "metadata": {},
     "output_type": "display_data"
    }
   ],
   "source": [
    "filter(flights, !is.na(dep_delay)) %>% summarize(delay=mean(dep_delay))"
   ]
  },
  {
   "cell_type": "markdown",
   "metadata": {
    "slideshow": {
     "slide_type": "slide"
    }
   },
   "source": [
    "### Grouping observations\n",
    "`summarize()` is most useful when combined with `group_by()` to group observations before calculating the summary statistic. The `group_by` function tells R how your data are grouped:"
   ]
  },
  {
   "cell_type": "code",
   "execution_count": 98,
   "metadata": {
    "slideshow": {
     "slide_type": "-"
    }
   },
   "outputs": [
    {
     "name": "stdout",
     "output_type": "stream",
     "text": [
      "# A tibble: 336,776 x 19\n",
      "# Groups:   year, month [12]\n",
      "    year month   day dep_t… sched… dep_d… arr_… sched… arr_d… carr… flig… tail…\n",
      "   <int> <int> <int>  <int>  <int>  <dbl> <int>  <int>  <dbl> <chr> <int> <chr>\n",
      " 1  2013     1     1    517    515   2.00   830    819  11.0  UA     1545 N142…\n",
      " 2  2013     1     1    533    529   4.00   850    830  20.0  UA     1714 N242…\n",
      " 3  2013     1     1    542    540   2.00   923    850  33.0  AA     1141 N619…\n",
      " 4  2013     1     1    544    545  -1.00  1004   1022 -18.0  B6      725 N804…\n",
      " 5  2013     1     1    554    600  -6.00   812    837 -25.0  DL      461 N668…\n",
      " 6  2013     1     1    554    558  -4.00   740    728  12.0  UA     1696 N394…\n",
      " 7  2013     1     1    555    600  -5.00   913    854  19.0  B6      507 N516…\n",
      " 8  2013     1     1    557    600  -3.00   709    723 -14.0  EV     5708 N829…\n",
      " 9  2013     1     1    557    600  -3.00   838    846 - 8.00 B6       79 N593…\n",
      "10  2013     1     1    558    600  -2.00   753    745   8.00 AA      301 N3AL…\n",
      "# ... with 336,766 more rows, and 7 more variables: origin <chr>, dest <chr>,\n",
      "#   air_time <dbl>, distance <dbl>, hour <dbl>, minute <dbl>, time_hour <dttm>\n"
     ]
    }
   ],
   "source": [
    "print(by_month <- group_by(flights, year, month))  # must use <- here :)"
   ]
  },
  {
   "cell_type": "code",
   "execution_count": 99,
   "metadata": {
    "slideshow": {
     "slide_type": "slide"
    }
   },
   "outputs": [
    {
     "name": "stdout",
     "output_type": "stream",
     "text": [
      "# A tibble: 12 x 3\n",
      "# Groups:   year [?]\n",
      "    year month `mean(dep_delay, na.rm = T)`\n",
      "   <int> <int>                        <dbl>\n",
      " 1  2013     1                        10.0 \n",
      " 2  2013     2                        10.8 \n",
      " 3  2013     3                        13.2 \n",
      " 4  2013     4                        13.9 \n",
      " 5  2013     5                        13.0 \n",
      " 6  2013     6                        20.8 \n",
      " 7  2013     7                        21.7 \n",
      " 8  2013     8                        12.6 \n",
      " 9  2013     9                         6.72\n",
      "10  2013    10                         6.24\n",
      "11  2013    11                         5.44\n",
      "12  2013    12                        16.6 \n"
     ]
    }
   ],
   "source": [
    "summarize(by_month, mean(dep_delay, na.rm=T)) %>% print"
   ]
  },
  {
   "cell_type": "markdown",
   "metadata": {
    "slideshow": {
     "slide_type": "slide"
    }
   },
   "source": [
    "Many summary functions are available:\n",
    "\n",
    "* Center: `mean(), median()`\n",
    "* Spread: `sd(), IQR(), mad()`\n",
    "* Range: `min(), max(), quantile()`\n",
    "* Position: `first(), last(), nth()`\n",
    "* Count: `n(), n_distinct()`\n",
    "* Logical: `any(), all()`"
   ]
  },
  {
   "cell_type": "markdown",
   "metadata": {
    "slideshow": {
     "slide_type": "slide"
    }
   },
   "source": [
    "### Examples\n",
    "Compute the number of flights each month:"
   ]
  },
  {
   "cell_type": "code",
   "execution_count": 100,
   "metadata": {
    "slideshow": {
     "slide_type": "-"
    }
   },
   "outputs": [
    {
     "data": {
      "text/html": [
       "<table>\n",
       "<thead><tr><th scope=col>month</th><th scope=col>n()</th></tr></thead>\n",
       "<tbody>\n",
       "\t<tr><td> 1   </td><td>27004</td></tr>\n",
       "\t<tr><td> 2   </td><td>24951</td></tr>\n",
       "\t<tr><td> 3   </td><td>28834</td></tr>\n",
       "\t<tr><td> 4   </td><td>28330</td></tr>\n",
       "\t<tr><td> 5   </td><td>28796</td></tr>\n",
       "\t<tr><td> 6   </td><td>28243</td></tr>\n",
       "\t<tr><td> 7   </td><td>29425</td></tr>\n",
       "\t<tr><td> 8   </td><td>29327</td></tr>\n",
       "\t<tr><td> 9   </td><td>27574</td></tr>\n",
       "\t<tr><td>10   </td><td>28889</td></tr>\n",
       "\t<tr><td>11   </td><td>27268</td></tr>\n",
       "\t<tr><td>12   </td><td>28135</td></tr>\n",
       "</tbody>\n",
       "</table>\n"
      ],
      "text/latex": [
       "\\begin{tabular}{r|ll}\n",
       " month & n()\\\\\n",
       "\\hline\n",
       "\t  1    & 27004\\\\\n",
       "\t  2    & 24951\\\\\n",
       "\t  3    & 28834\\\\\n",
       "\t  4    & 28330\\\\\n",
       "\t  5    & 28796\\\\\n",
       "\t  6    & 28243\\\\\n",
       "\t  7    & 29425\\\\\n",
       "\t  8    & 29327\\\\\n",
       "\t  9    & 27574\\\\\n",
       "\t 10    & 28889\\\\\n",
       "\t 11    & 27268\\\\\n",
       "\t 12    & 28135\\\\\n",
       "\\end{tabular}\n"
      ],
      "text/markdown": [
       "\n",
       "month | n() | \n",
       "|---|---|---|---|---|---|---|---|---|---|---|---|\n",
       "|  1    | 27004 | \n",
       "|  2    | 24951 | \n",
       "|  3    | 28834 | \n",
       "|  4    | 28330 | \n",
       "|  5    | 28796 | \n",
       "|  6    | 28243 | \n",
       "|  7    | 29425 | \n",
       "|  8    | 29327 | \n",
       "|  9    | 27574 | \n",
       "| 10    | 28889 | \n",
       "| 11    | 27268 | \n",
       "| 12    | 28135 | \n",
       "\n",
       "\n"
      ],
      "text/plain": [
       "   month n()  \n",
       "1   1    27004\n",
       "2   2    24951\n",
       "3   3    28834\n",
       "4   4    28330\n",
       "5   5    28796\n",
       "6   6    28243\n",
       "7   7    29425\n",
       "8   8    29327\n",
       "9   9    27574\n",
       "10 10    28889\n",
       "11 11    27268\n",
       "12 12    28135"
      ]
     },
     "metadata": {},
     "output_type": "display_data"
    }
   ],
   "source": [
    "group_by(flights, month) %>% summarize(n())"
   ]
  },
  {
   "cell_type": "markdown",
   "metadata": {
    "slideshow": {
     "slide_type": "slide"
    }
   },
   "source": [
    "### Always include counts\n",
    "This operation is so common that we have a special shortcut for it:"
   ]
  },
  {
   "cell_type": "code",
   "execution_count": 101,
   "metadata": {},
   "outputs": [
    {
     "data": {
      "text/html": [
       "<table>\n",
       "<thead><tr><th scope=col>month</th><th scope=col>n</th></tr></thead>\n",
       "<tbody>\n",
       "\t<tr><td> 1   </td><td>27004</td></tr>\n",
       "\t<tr><td> 2   </td><td>24951</td></tr>\n",
       "\t<tr><td> 3   </td><td>28834</td></tr>\n",
       "\t<tr><td> 4   </td><td>28330</td></tr>\n",
       "\t<tr><td> 5   </td><td>28796</td></tr>\n",
       "\t<tr><td> 6   </td><td>28243</td></tr>\n",
       "\t<tr><td> 7   </td><td>29425</td></tr>\n",
       "\t<tr><td> 8   </td><td>29327</td></tr>\n",
       "\t<tr><td> 9   </td><td>27574</td></tr>\n",
       "\t<tr><td>10   </td><td>28889</td></tr>\n",
       "\t<tr><td>11   </td><td>27268</td></tr>\n",
       "\t<tr><td>12   </td><td>28135</td></tr>\n",
       "</tbody>\n",
       "</table>\n"
      ],
      "text/latex": [
       "\\begin{tabular}{r|ll}\n",
       " month & n\\\\\n",
       "\\hline\n",
       "\t  1    & 27004\\\\\n",
       "\t  2    & 24951\\\\\n",
       "\t  3    & 28834\\\\\n",
       "\t  4    & 28330\\\\\n",
       "\t  5    & 28796\\\\\n",
       "\t  6    & 28243\\\\\n",
       "\t  7    & 29425\\\\\n",
       "\t  8    & 29327\\\\\n",
       "\t  9    & 27574\\\\\n",
       "\t 10    & 28889\\\\\n",
       "\t 11    & 27268\\\\\n",
       "\t 12    & 28135\\\\\n",
       "\\end{tabular}\n"
      ],
      "text/markdown": [
       "\n",
       "month | n | \n",
       "|---|---|---|---|---|---|---|---|---|---|---|---|\n",
       "|  1    | 27004 | \n",
       "|  2    | 24951 | \n",
       "|  3    | 28834 | \n",
       "|  4    | 28330 | \n",
       "|  5    | 28796 | \n",
       "|  6    | 28243 | \n",
       "|  7    | 29425 | \n",
       "|  8    | 29327 | \n",
       "|  9    | 27574 | \n",
       "| 10    | 28889 | \n",
       "| 11    | 27268 | \n",
       "| 12    | 28135 | \n",
       "\n",
       "\n"
      ],
      "text/plain": [
       "   month n    \n",
       "1   1    27004\n",
       "2   2    24951\n",
       "3   3    28834\n",
       "4   4    28330\n",
       "5   5    28796\n",
       "6   6    28243\n",
       "7   7    29425\n",
       "8   8    29327\n",
       "9   9    27574\n",
       "10 10    28889\n",
       "11 11    27268\n",
       "12 12    28135"
      ]
     },
     "metadata": {},
     "output_type": "display_data"
    }
   ],
   "source": [
    "group_by(flights, month) %>% count"
   ]
  },
  {
   "cell_type": "markdown",
   "metadata": {
    "slideshow": {
     "slide_type": "notes"
    }
   },
   "source": [
    "One of the reasons for the `count()` shortcut is that it is always a good idea to add counts when do you a summary. This is because some groups may have very low numbers of observations, resulting in high variance for the summary statistics. For example, let's look at particular airplanes which have high delays, perhaps due to maintenance, etc:"
   ]
  },
  {
   "cell_type": "code",
   "execution_count": 102,
   "metadata": {
    "slideshow": {
     "slide_type": "slide"
    }
   },
   "outputs": [
    {
     "name": "stderr",
     "output_type": "stream",
     "text": [
      "Selecting by delay\n"
     ]
    },
    {
     "data": {
      "text/html": [
       "<table>\n",
       "<thead><tr><th scope=col>tailnum</th><th scope=col>delay</th></tr></thead>\n",
       "<tbody>\n",
       "\t<tr><td>N587NW</td><td>264   </td></tr>\n",
       "\t<tr><td>N844MH</td><td>320   </td></tr>\n",
       "\t<tr><td>N851NW</td><td>219   </td></tr>\n",
       "\t<tr><td>N911DA</td><td>294   </td></tr>\n",
       "\t<tr><td>N922EV</td><td>276   </td></tr>\n",
       "</tbody>\n",
       "</table>\n"
      ],
      "text/latex": [
       "\\begin{tabular}{r|ll}\n",
       " tailnum & delay\\\\\n",
       "\\hline\n",
       "\t N587NW & 264   \\\\\n",
       "\t N844MH & 320   \\\\\n",
       "\t N851NW & 219   \\\\\n",
       "\t N911DA & 294   \\\\\n",
       "\t N922EV & 276   \\\\\n",
       "\\end{tabular}\n"
      ],
      "text/markdown": [
       "\n",
       "tailnum | delay | \n",
       "|---|---|---|---|---|\n",
       "| N587NW | 264    | \n",
       "| N844MH | 320    | \n",
       "| N851NW | 219    | \n",
       "| N911DA | 294    | \n",
       "| N922EV | 276    | \n",
       "\n",
       "\n"
      ],
      "text/plain": [
       "  tailnum delay\n",
       "1 N587NW  264  \n",
       "2 N844MH  320  \n",
       "3 N851NW  219  \n",
       "4 N911DA  294  \n",
       "5 N922EV  276  "
      ]
     },
     "metadata": {},
     "output_type": "display_data"
    }
   ],
   "source": [
    "not_cancelled = flights %>% filter(!is.na(dep_delay), !is.na(arr_delay))\n",
    "not_cancelled %>% group_by(tailnum) %>% summarise(delay = mean(arr_delay)) %>% \n",
    "                  top_n(5)"
   ]
  },
  {
   "cell_type": "markdown",
   "metadata": {
    "slideshow": {
     "slide_type": "notes"
    }
   },
   "source": [
    "The top five most delayed planes experience an average delay of 4-5 hours! Clearly this is not realistic. The issue is that there are very few observations for each of these planes:"
   ]
  },
  {
   "cell_type": "code",
   "execution_count": 103,
   "metadata": {
    "slideshow": {
     "slide_type": "slide"
    }
   },
   "outputs": [
    {
     "data": {
      "text/html": [
       "<table>\n",
       "<thead><tr><th scope=col>tailnum</th><th scope=col>delay</th><th scope=col>obs</th></tr></thead>\n",
       "<tbody>\n",
       "\t<tr><td>N587NW</td><td>264   </td><td>1     </td></tr>\n",
       "\t<tr><td>N844MH</td><td>320   </td><td>1     </td></tr>\n",
       "\t<tr><td>N851NW</td><td>219   </td><td>1     </td></tr>\n",
       "\t<tr><td>N911DA</td><td>294   </td><td>1     </td></tr>\n",
       "\t<tr><td>N922EV</td><td>276   </td><td>1     </td></tr>\n",
       "</tbody>\n",
       "</table>\n"
      ],
      "text/latex": [
       "\\begin{tabular}{r|lll}\n",
       " tailnum & delay & obs\\\\\n",
       "\\hline\n",
       "\t N587NW & 264    & 1     \\\\\n",
       "\t N844MH & 320    & 1     \\\\\n",
       "\t N851NW & 219    & 1     \\\\\n",
       "\t N911DA & 294    & 1     \\\\\n",
       "\t N922EV & 276    & 1     \\\\\n",
       "\\end{tabular}\n"
      ],
      "text/markdown": [
       "\n",
       "tailnum | delay | obs | \n",
       "|---|---|---|---|---|\n",
       "| N587NW | 264    | 1      | \n",
       "| N844MH | 320    | 1      | \n",
       "| N851NW | 219    | 1      | \n",
       "| N911DA | 294    | 1      | \n",
       "| N922EV | 276    | 1      | \n",
       "\n",
       "\n"
      ],
      "text/plain": [
       "  tailnum delay obs\n",
       "1 N587NW  264   1  \n",
       "2 N844MH  320   1  \n",
       "3 N851NW  219   1  \n",
       "4 N911DA  294   1  \n",
       "5 N922EV  276   1  "
      ]
     },
     "metadata": {},
     "output_type": "display_data"
    }
   ],
   "source": [
    "delays = not_cancelled %>% group_by(tailnum) %>% summarise(delay=mean(arr_delay), obs=n())\n",
    "top_n(delays, 5, delay)"
   ]
  },
  {
   "cell_type": "code",
   "execution_count": 104,
   "metadata": {
    "slideshow": {
     "slide_type": "slide"
    }
   },
   "outputs": [
    {
     "data": {},
     "metadata": {},
     "output_type": "display_data"
    },
    {
     "data": {
      "image/png": "[encoded data removed]",
      "text/plain": [
       "plot without title"
      ]
     },
     "metadata": {},
     "output_type": "display_data"
    }
   ],
   "source": [
    "ggplot(delays) + geom_point(aes(x=obs, y=delay), alpha=.1) "
   ]
  },
  {
   "cell_type": "markdown",
   "metadata": {
    "slideshow": {
     "slide_type": "notes"
    }
   },
   "source": [
    "The solution is to filter to only those planes that had sufficiently many observations:"
   ]
  },
  {
   "cell_type": "code",
   "execution_count": 105,
   "metadata": {},
   "outputs": [
    {
     "data": {},
     "metadata": {},
     "output_type": "display_data"
    },
    {
     "data": {
      "image/png": "[encoded data removed]",
      "text/plain": [
       "plot without title"
      ]
     },
     "metadata": {},
     "output_type": "display_data"
    }
   ],
   "source": [
    "ggplot(filter(delays, obs >= 20)) + geom_point(aes(x=obs, y=delay), alpha=.1) "
   ]
  },
  {
   "cell_type": "markdown",
   "metadata": {
    "slideshow": {
     "slide_type": "notes"
    }
   },
   "source": [
    "Something similar occurs if we start sorting by an average: ignoring the standard error of the estimated average can cause spurious extreme values to rise to the top. Here's an example from baseball:"
   ]
  },
  {
   "cell_type": "code",
   "execution_count": 106,
   "metadata": {
    "slideshow": {
     "slide_type": "slide"
    }
   },
   "outputs": [
    {
     "name": "stderr",
     "output_type": "stream",
     "text": [
      "`geom_smooth()` using method = 'gam'\n"
     ]
    },
    {
     "data": {},
     "metadata": {},
     "output_type": "display_data"
    },
    {
     "data": {
      "image/png": "[encoded data removed]",
      "text/plain": [
       "plot without title"
      ]
     },
     "metadata": {},
     "output_type": "display_data"
    }
   ],
   "source": [
    "# Convert to a tibble so it prints nicely\n",
    "# H = hits; AB = at bats\n",
    "# ba =\n",
    "batters <- as_tibble(Lahman::Batting) %>% group_by(playerID) %>% summarise(\n",
    "    batting_average = sum(H, na.rm = TRUE) / sum(AB, na.rm = TRUE),\n",
    "    at_bats = sum(AB, na.rm = TRUE) )\n",
    "batters %>% filter(at_bats > 100) %>%\n",
    "            ggplot(mapping = aes(x = at_bats, y = batting_average)) + \n",
    "                  geom_point() + geom_smooth(se = FALSE)"
   ]
  },
  {
   "cell_type": "markdown",
   "metadata": {
    "slideshow": {
     "slide_type": "notes"
    }
   },
   "source": [
    "Clearly better players get more at-bats. Who are the best players? If we sort by batting average, we see:"
   ]
  },
  {
   "cell_type": "code",
   "execution_count": 107,
   "metadata": {
    "slideshow": {
     "slide_type": "slide"
    }
   },
   "outputs": [
    {
     "name": "stdout",
     "output_type": "stream",
     "text": [
      "# A tibble: 18,915 x 3\n",
      "   playerID  batting_average at_bats\n",
      "   <chr>               <dbl>   <int>\n",
      " 1 abramge01            1.00       1\n",
      " 2 banisje01            1.00       1\n",
      " 3 bartocl01            1.00       1\n",
      " 4 bassdo01             1.00       1\n",
      " 5 berrijo01            1.00       1\n",
      " 6 birasst01            1.00       2\n",
      " 7 bruneju01            1.00       1\n",
      " 8 burnscb01            1.00       1\n",
      " 9 cammaer01            1.00       1\n",
      "10 campsh01             1.00       1\n",
      "# ... with 18,905 more rows\n"
     ]
    }
   ],
   "source": [
    "batters %>% arrange(desc(batting_average)) %>% print"
   ]
  },
  {
   "cell_type": "markdown",
   "metadata": {
    "slideshow": {
     "slide_type": "notes"
    }
   },
   "source": [
    "To get a better estimate we should restrict to people who had at least 100 at-bats, say:"
   ]
  },
  {
   "cell_type": "code",
   "execution_count": 108,
   "metadata": {
    "slideshow": {
     "slide_type": "slide"
    }
   },
   "outputs": [
    {
     "name": "stdout",
     "output_type": "stream",
     "text": [
      "# A tibble: 3,693 x 3\n",
      "   playerID  batting_average at_bats\n",
      "   <chr>               <dbl>   <int>\n",
      " 1 cobbty01            0.366   11434\n",
      " 2 barnero01           0.359    2392\n",
      " 3 hornsro01           0.358    8173\n",
      " 4 jacksjo01           0.356    4981\n",
      " 5 meyerle01           0.356    1443\n",
      " 6 odoulle01           0.349    3264\n",
      " 7 delahed01           0.346    7505\n",
      " 8 mcveyca01           0.346    2513\n",
      " 9 speaktr01           0.345   10195\n",
      "10 willite01           0.344    7706\n",
      "# ... with 3,683 more rows\n"
     ]
    }
   ],
   "source": [
    "batters %>% arrange(desc(batting_average)) %>% filter(at_bats >= 1000) %>% print"
   ]
  },
  {
   "cell_type": "code",
   "execution_count": 109,
   "metadata": {
    "slideshow": {
     "slide_type": "notes"
    }
   },
   "outputs": [
    {
     "data": {
      "text/html": [
       "<table>\n",
       "<thead><tr><th></th><th scope=col>playerID</th><th scope=col>nameFirst</th><th scope=col>nameLast</th></tr></thead>\n",
       "<tbody>\n",
       "\t<tr><th scope=row>3183</th><td>cobbty01</td><td>Ty      </td><td>Cobb    </td></tr>\n",
       "</tbody>\n",
       "</table>\n"
      ],
      "text/latex": [
       "\\begin{tabular}{r|lll}\n",
       "  & playerID & nameFirst & nameLast\\\\\n",
       "\\hline\n",
       "\t3183 & cobbty01 & Ty       & Cobb    \\\\\n",
       "\\end{tabular}\n"
      ],
      "text/markdown": [
       "\n",
       "| <!--/--> | playerID | nameFirst | nameLast | \n",
       "|---|\n",
       "| 3183 | cobbty01 | Ty       | Cobb     | \n",
       "\n",
       "\n"
      ],
      "text/plain": [
       "     playerID nameFirst nameLast\n",
       "3183 cobbty01 Ty        Cobb    "
      ]
     },
     "metadata": {},
     "output_type": "display_data"
    }
   ],
   "source": [
    "Lahman::playerInfo(\"cobbty01\")"
   ]
  },
  {
   "cell_type": "markdown",
   "metadata": {
    "slideshow": {
     "slide_type": "slide"
    }
   },
   "source": [
    "### Some other examples of aggregation\n",
    "Compute the number of unique destinations for each day of the month:"
   ]
  },
  {
   "cell_type": "code",
   "execution_count": 110,
   "metadata": {},
   "outputs": [
    {
     "name": "stdout",
     "output_type": "stream",
     "text": [
      "# A tibble: 31 x 2\n",
      "     day `n_distinct(dest)`\n",
      "   <int>              <int>\n",
      " 1     1                 96\n",
      " 2     2                101\n",
      " 3     3                 97\n",
      " 4     4                 96\n",
      " 5     5                100\n",
      " 6     6                 99\n",
      " 7     7                 96\n",
      " 8     8                 95\n",
      " 9     9                101\n",
      "10    10                 97\n",
      "# ... with 21 more rows\n"
     ]
    }
   ],
   "source": [
    "group_by(flights, day) %>% summarize(n_distinct(dest)) %>% print"
   ]
  },
  {
   "cell_type": "markdown",
   "metadata": {
    "slideshow": {
     "slide_type": "slide"
    }
   },
   "source": [
    "Dispersion of departure delays by carrier:"
   ]
  },
  {
   "cell_type": "code",
   "execution_count": 111,
   "metadata": {},
   "outputs": [
    {
     "data": {
      "text/html": [
       "<table>\n",
       "<thead><tr><th scope=col>carrier</th><th scope=col>n</th><th scope=col>dep_iqr</th><th scope=col>arr_iqr</th></tr></thead>\n",
       "<tbody>\n",
       "\t<tr><td>OO   </td><td>   32</td><td>13   </td><td>22.00</td></tr>\n",
       "\t<tr><td>HA   </td><td>  342</td><td> 6   </td><td>30.50</td></tr>\n",
       "\t<tr><td>YV   </td><td>  601</td><td>30   </td><td>40.25</td></tr>\n",
       "\t<tr><td>F9   </td><td>  685</td><td>22   </td><td>40.00</td></tr>\n",
       "\t<tr><td>AS   </td><td>  714</td><td>10   </td><td>34.00</td></tr>\n",
       "\t<tr><td>FL   </td><td> 3260</td><td>21   </td><td>31.00</td></tr>\n",
       "\t<tr><td>VX   </td><td> 5162</td><td>12   </td><td>31.00</td></tr>\n",
       "\t<tr><td>WN   </td><td>12275</td><td>19   </td><td>30.00</td></tr>\n",
       "\t<tr><td>9E   </td><td>18460</td><td>23   </td><td>36.00</td></tr>\n",
       "\t<tr><td>US   </td><td>20536</td><td> 7   </td><td>23.00</td></tr>\n",
       "\t<tr><td>MQ   </td><td>26397</td><td>16   </td><td>31.00</td></tr>\n",
       "\t<tr><td>AA   </td><td>32729</td><td>10   </td><td>29.00</td></tr>\n",
       "\t<tr><td>DL   </td><td>48110</td><td>10   </td><td>28.00</td></tr>\n",
       "\t<tr><td>EV   </td><td>54173</td><td>30   </td><td>40.00</td></tr>\n",
       "\t<tr><td>B6   </td><td>54635</td><td>17   </td><td>31.00</td></tr>\n",
       "\t<tr><td>UA   </td><td>58665</td><td>15   </td><td>30.00</td></tr>\n",
       "</tbody>\n",
       "</table>\n"
      ],
      "text/latex": [
       "\\begin{tabular}{r|llll}\n",
       " carrier & n & dep\\_iqr & arr\\_iqr\\\\\n",
       "\\hline\n",
       "\t OO    &    32 & 13    & 22.00\\\\\n",
       "\t HA    &   342 &  6    & 30.50\\\\\n",
       "\t YV    &   601 & 30    & 40.25\\\\\n",
       "\t F9    &   685 & 22    & 40.00\\\\\n",
       "\t AS    &   714 & 10    & 34.00\\\\\n",
       "\t FL    &  3260 & 21    & 31.00\\\\\n",
       "\t VX    &  5162 & 12    & 31.00\\\\\n",
       "\t WN    & 12275 & 19    & 30.00\\\\\n",
       "\t 9E    & 18460 & 23    & 36.00\\\\\n",
       "\t US    & 20536 &  7    & 23.00\\\\\n",
       "\t MQ    & 26397 & 16    & 31.00\\\\\n",
       "\t AA    & 32729 & 10    & 29.00\\\\\n",
       "\t DL    & 48110 & 10    & 28.00\\\\\n",
       "\t EV    & 54173 & 30    & 40.00\\\\\n",
       "\t B6    & 54635 & 17    & 31.00\\\\\n",
       "\t UA    & 58665 & 15    & 30.00\\\\\n",
       "\\end{tabular}\n"
      ],
      "text/markdown": [
       "\n",
       "carrier | n | dep_iqr | arr_iqr | \n",
       "|---|---|---|---|---|---|---|---|---|---|---|---|---|---|---|---|\n",
       "| OO    |    32 | 13    | 22.00 | \n",
       "| HA    |   342 |  6    | 30.50 | \n",
       "| YV    |   601 | 30    | 40.25 | \n",
       "| F9    |   685 | 22    | 40.00 | \n",
       "| AS    |   714 | 10    | 34.00 | \n",
       "| FL    |  3260 | 21    | 31.00 | \n",
       "| VX    |  5162 | 12    | 31.00 | \n",
       "| WN    | 12275 | 19    | 30.00 | \n",
       "| 9E    | 18460 | 23    | 36.00 | \n",
       "| US    | 20536 |  7    | 23.00 | \n",
       "| MQ    | 26397 | 16    | 31.00 | \n",
       "| AA    | 32729 | 10    | 29.00 | \n",
       "| DL    | 48110 | 10    | 28.00 | \n",
       "| EV    | 54173 | 30    | 40.00 | \n",
       "| B6    | 54635 | 17    | 31.00 | \n",
       "| UA    | 58665 | 15    | 30.00 | \n",
       "\n",
       "\n"
      ],
      "text/plain": [
       "   carrier n     dep_iqr arr_iqr\n",
       "1  OO         32 13      22.00  \n",
       "2  HA        342  6      30.50  \n",
       "3  YV        601 30      40.25  \n",
       "4  F9        685 22      40.00  \n",
       "5  AS        714 10      34.00  \n",
       "6  FL       3260 21      31.00  \n",
       "7  VX       5162 12      31.00  \n",
       "8  WN      12275 19      30.00  \n",
       "9  9E      18460 23      36.00  \n",
       "10 US      20536  7      23.00  \n",
       "11 MQ      26397 16      31.00  \n",
       "12 AA      32729 10      29.00  \n",
       "13 DL      48110 10      28.00  \n",
       "14 EV      54173 30      40.00  \n",
       "15 B6      54635 17      31.00  \n",
       "16 UA      58665 15      30.00  "
      ]
     },
     "metadata": {},
     "output_type": "display_data"
    }
   ],
   "source": [
    "group_by(flights, carrier) %>% summarize(n=n(),\n",
    "                                         dep_iqr=IQR(dep_delay, na.rm=T), \n",
    "                                         arr_iqr=IQR(arr_delay, na.rm=T)) %>% arrange(n)"
   ]
  },
  {
   "cell_type": "markdown",
   "metadata": {
    "slideshow": {
     "slide_type": "slide"
    }
   },
   "source": [
    "What is the worst-performing air carrier (in terms of departure delay) for each month of the year?"
   ]
  },
  {
   "cell_type": "code",
   "execution_count": 112,
   "metadata": {
    "slideshow": {
     "slide_type": "fragment"
    }
   },
   "outputs": [
    {
     "name": "stdout",
     "output_type": "stream",
     "text": [
      "# A tibble: 12 x 5\n",
      "# Groups:   month [12]\n",
      "   carrier month mean_dep_delay   obs  rank\n",
      "   <chr>   <int>          <dbl> <int> <int>\n",
      " 1 OO          1           67.0     1     1\n",
      " 2 F9          2           29.8    49     1\n",
      " 3 YV          3           31.9    18     1\n",
      " 4 YV          4           27.1    38     1\n",
      " 5 F9          5           35.9    58     1\n",
      " 6 OO          6           61.0     2     1\n",
      " 7 FL          7           41.2   263     1\n",
      " 8 OO          8           64.0     4     1\n",
      " 9 FL          9           16.9   255     1\n",
      "10 YV         10           20.0    66     1\n",
      "11 FL         11           16.9   202     1\n",
      "12 EV         12           27.9  4307     1\n"
     ]
    }
   ],
   "source": [
    "most_delayed = group_by(flights, carrier, month) %>% \n",
    "                   summarize(mean_dep_delay=mean(dep_delay, na.rm=T), obs=n()) %>%\n",
    "                   group_by(month) %>% mutate(rank=min_rank(-mean_dep_delay)) %>%\n",
    "                   arrange(month, rank) %>% filter(rank==1) %>% print"
   ]
  },
  {
   "cell_type": "markdown",
   "metadata": {
    "slideshow": {
     "slide_type": "notes"
    }
   },
   "source": [
    "Again note the issue here with low observation counts. In case you are curious what these carrier codes represent (who not to fly), we can use a *table join* (to be discussed later) to figure it out:"
   ]
  },
  {
   "cell_type": "code",
   "execution_count": 113,
   "metadata": {
    "slideshow": {
     "slide_type": "slide"
    }
   },
   "outputs": [
    {
     "name": "stderr",
     "output_type": "stream",
     "text": [
      "Joining, by = \"carrier\"\n"
     ]
    },
    {
     "data": {
      "text/html": [
       "<table>\n",
       "<thead><tr><th scope=col>carrier</th><th scope=col>month</th><th scope=col>mean_dep_delay</th><th scope=col>obs</th><th scope=col>rank</th><th scope=col>name</th></tr></thead>\n",
       "<tbody>\n",
       "\t<tr><td>OO                         </td><td> 1                         </td><td>67.00000                   </td><td>   1                       </td><td>1                          </td><td>SkyWest Airlines Inc.      </td></tr>\n",
       "\t<tr><td>F9                         </td><td> 2                         </td><td>29.77083                   </td><td>  49                       </td><td>1                          </td><td>Frontier Airlines Inc.     </td></tr>\n",
       "\t<tr><td>YV                         </td><td> 3                         </td><td>31.88889                   </td><td>  18                       </td><td>1                          </td><td>Mesa Airlines Inc.         </td></tr>\n",
       "\t<tr><td>YV                         </td><td> 4                         </td><td>27.11111                   </td><td>  38                       </td><td>1                          </td><td>Mesa Airlines Inc.         </td></tr>\n",
       "\t<tr><td>F9                         </td><td> 5                         </td><td>35.94828                   </td><td>  58                       </td><td>1                          </td><td>Frontier Airlines Inc.     </td></tr>\n",
       "\t<tr><td>OO                         </td><td> 6                         </td><td>61.00000                   </td><td>   2                       </td><td>1                          </td><td>SkyWest Airlines Inc.      </td></tr>\n",
       "\t<tr><td>FL                         </td><td> 7                         </td><td>41.16270                   </td><td> 263                       </td><td>1                          </td><td>AirTran Airways Corporation</td></tr>\n",
       "\t<tr><td>OO                         </td><td> 8                         </td><td>64.00000                   </td><td>   4                       </td><td>1                          </td><td>SkyWest Airlines Inc.      </td></tr>\n",
       "\t<tr><td>FL                         </td><td> 9                         </td><td>16.94882                   </td><td> 255                       </td><td>1                          </td><td>AirTran Airways Corporation</td></tr>\n",
       "\t<tr><td>YV                         </td><td>10                         </td><td>20.00000                   </td><td>  66                       </td><td>1                          </td><td>Mesa Airlines Inc.         </td></tr>\n",
       "\t<tr><td>FL                         </td><td>11                         </td><td>16.86634                   </td><td> 202                       </td><td>1                          </td><td>AirTran Airways Corporation</td></tr>\n",
       "\t<tr><td>EV                         </td><td>12                         </td><td>27.88718                   </td><td>4307                       </td><td>1                          </td><td>ExpressJet Airlines Inc.   </td></tr>\n",
       "</tbody>\n",
       "</table>\n"
      ],
      "text/latex": [
       "\\begin{tabular}{r|llllll}\n",
       " carrier & month & mean\\_dep\\_delay & obs & rank & name\\\\\n",
       "\\hline\n",
       "\t OO                          &  1                          & 67.00000                    &    1                        & 1                           & SkyWest Airlines Inc.      \\\\\n",
       "\t F9                          &  2                          & 29.77083                    &   49                        & 1                           & Frontier Airlines Inc.     \\\\\n",
       "\t YV                          &  3                          & 31.88889                    &   18                        & 1                           & Mesa Airlines Inc.         \\\\\n",
       "\t YV                          &  4                          & 27.11111                    &   38                        & 1                           & Mesa Airlines Inc.         \\\\\n",
       "\t F9                          &  5                          & 35.94828                    &   58                        & 1                           & Frontier Airlines Inc.     \\\\\n",
       "\t OO                          &  6                          & 61.00000                    &    2                        & 1                           & SkyWest Airlines Inc.      \\\\\n",
       "\t FL                          &  7                          & 41.16270                    &  263                        & 1                           & AirTran Airways Corporation\\\\\n",
       "\t OO                          &  8                          & 64.00000                    &    4                        & 1                           & SkyWest Airlines Inc.      \\\\\n",
       "\t FL                          &  9                          & 16.94882                    &  255                        & 1                           & AirTran Airways Corporation\\\\\n",
       "\t YV                          & 10                          & 20.00000                    &   66                        & 1                           & Mesa Airlines Inc.         \\\\\n",
       "\t FL                          & 11                          & 16.86634                    &  202                        & 1                           & AirTran Airways Corporation\\\\\n",
       "\t EV                          & 12                          & 27.88718                    & 4307                        & 1                           & ExpressJet Airlines Inc.   \\\\\n",
       "\\end{tabular}\n"
      ],
      "text/markdown": [
       "\n",
       "carrier | month | mean_dep_delay | obs | rank | name | \n",
       "|---|---|---|---|---|---|---|---|---|---|---|---|\n",
       "| OO                          |  1                          | 67.00000                    |    1                        | 1                           | SkyWest Airlines Inc.       | \n",
       "| F9                          |  2                          | 29.77083                    |   49                        | 1                           | Frontier Airlines Inc.      | \n",
       "| YV                          |  3                          | 31.88889                    |   18                        | 1                           | Mesa Airlines Inc.          | \n",
       "| YV                          |  4                          | 27.11111                    |   38                        | 1                           | Mesa Airlines Inc.          | \n",
       "| F9                          |  5                          | 35.94828                    |   58                        | 1                           | Frontier Airlines Inc.      | \n",
       "| OO                          |  6                          | 61.00000                    |    2                        | 1                           | SkyWest Airlines Inc.       | \n",
       "| FL                          |  7                          | 41.16270                    |  263                        | 1                           | AirTran Airways Corporation | \n",
       "| OO                          |  8                          | 64.00000                    |    4                        | 1                           | SkyWest Airlines Inc.       | \n",
       "| FL                          |  9                          | 16.94882                    |  255                        | 1                           | AirTran Airways Corporation | \n",
       "| YV                          | 10                          | 20.00000                    |   66                        | 1                           | Mesa Airlines Inc.          | \n",
       "| FL                          | 11                          | 16.86634                    |  202                        | 1                           | AirTran Airways Corporation | \n",
       "| EV                          | 12                          | 27.88718                    | 4307                        | 1                           | ExpressJet Airlines Inc.    | \n",
       "\n",
       "\n"
      ],
      "text/plain": [
       "   carrier month mean_dep_delay obs  rank name                       \n",
       "1  OO       1    67.00000          1 1    SkyWest Airlines Inc.      \n",
       "2  F9       2    29.77083         49 1    Frontier Airlines Inc.     \n",
       "3  YV       3    31.88889         18 1    Mesa Airlines Inc.         \n",
       "4  YV       4    27.11111         38 1    Mesa Airlines Inc.         \n",
       "5  F9       5    35.94828         58 1    Frontier Airlines Inc.     \n",
       "6  OO       6    61.00000          2 1    SkyWest Airlines Inc.      \n",
       "7  FL       7    41.16270        263 1    AirTran Airways Corporation\n",
       "8  OO       8    64.00000          4 1    SkyWest Airlines Inc.      \n",
       "9  FL       9    16.94882        255 1    AirTran Airways Corporation\n",
       "10 YV      10    20.00000         66 1    Mesa Airlines Inc.         \n",
       "11 FL      11    16.86634        202 1    AirTran Airways Corporation\n",
       "12 EV      12    27.88718       4307 1    ExpressJet Airlines Inc.   "
      ]
     },
     "metadata": {},
     "output_type": "display_data"
    }
   ],
   "source": [
    "most_delayed %>% left_join(airlines)"
   ]
  },
  {
   "cell_type": "markdown",
   "metadata": {
    "slideshow": {
     "slide_type": "notes"
    }
   },
   "source": [
    "How does the situation change if we look at the median departure delay?"
   ]
  },
  {
   "cell_type": "code",
   "execution_count": 114,
   "metadata": {
    "slideshow": {
     "slide_type": "slide"
    }
   },
   "outputs": [
    {
     "name": "stdout",
     "output_type": "stream",
     "text": [
      "# A tibble: 12 x 5\n",
      "# Groups:   month [12]\n",
      "   carrier month median_dep_delay   obs  rank\n",
      "   <chr>   <int>            <dbl> <int> <int>\n",
      " 1 OO          1            67.0      1     1\n",
      " 2 EV          2             1.00  3827     1\n",
      " 3 YV          3            15.5     18     1\n",
      " 4 YV          4             9.00    38     1\n",
      " 5 F9          5            13.5     58     1\n",
      " 6 OO          6            61.0      2     1\n",
      " 7 F9          7            16.0     58     1\n",
      " 8 OO          8            56.0      4     1\n",
      " 9 F9          9             2.00    58     1\n",
      "10 FL         10             3.00   236     1\n",
      "11 FL         11             6.00   202     1\n",
      "12 WN         12             9.00  1099     1\n"
     ]
    }
   ],
   "source": [
    "group_by(flights, carrier, month) %>% \n",
    "    summarize(median_dep_delay=median(dep_delay, na.rm=T), obs=n()) %>%\n",
    "    group_by(month) %>% mutate(rank=min_rank(-median_dep_delay)) %>%\n",
    "    arrange(month, rank) %>% filter(rank==1) %>% print"
   ]
  },
  {
   "cell_type": "markdown",
   "metadata": {
    "slideshow": {
     "slide_type": "notes"
    }
   },
   "source": [
    "Compared to the mean, the median departure delay looks less extreme."
   ]
  },
  {
   "cell_type": "markdown",
   "metadata": {
    "slideshow": {
     "slide_type": "notes"
    }
   },
   "source": [
    "### Transformations in summaries\n",
    "We can combine transformations and summaries to get perform more complicated queries on the data. The following summary looks at the number of early-morning departures by month:"
   ]
  },
  {
   "cell_type": "code",
   "execution_count": 115,
   "metadata": {
    "slideshow": {
     "slide_type": "slide"
    }
   },
   "outputs": [
    {
     "name": "stdout",
     "output_type": "stream",
     "text": [
      "# A tibble: 12 x 2\n",
      "   month n_early\n",
      "   <int>   <int>\n",
      " 1     1      75\n",
      " 2     2      84\n",
      " 3     3     147\n",
      " 4     4     148\n",
      " 5     5     120\n",
      " 6     6     219\n",
      " 7     7     268\n",
      " 8     8     135\n",
      " 9     9      64\n",
      "10    10      43\n",
      "11    11      46\n",
      "12    12     127\n"
     ]
    }
   ],
   "source": [
    "not_cancelled %>% group_by(month) %>% summarise(n_early = sum(dep_time < 500)) %>% print"
   ]
  },
  {
   "cell_type": "markdown",
   "metadata": {
    "slideshow": {
     "slide_type": "notes"
    }
   },
   "source": [
    "A red-eye (overnight) flight will have `dep_time > arr_time`. Here are the red-eyes by month:"
   ]
  },
  {
   "cell_type": "code",
   "execution_count": 116,
   "metadata": {
    "slideshow": {
     "slide_type": "slide"
    }
   },
   "outputs": [
    {
     "name": "stdout",
     "output_type": "stream",
     "text": [
      "# A tibble: 12 x 2\n",
      "   month n_redeye\n",
      "   <int>    <int>\n",
      " 1     1      713\n",
      " 2     2      631\n",
      " 3     3      949\n",
      " 4     4     1019\n",
      " 5     5      795\n",
      " 6     6     1241\n",
      " 7     7     1439\n",
      " 8     8      933\n",
      " 9     9      489\n",
      "10    10      507\n",
      "11    11      657\n",
      "12    12     1163\n"
     ]
    }
   ],
   "source": [
    "not_cancelled %>% group_by(month) %>% summarise(n_redeye = sum(dep_time > arr_time)) %>% print"
   ]
  }
 ],
 "metadata": {
  "celltoolbar": "Slideshow",
  "kernelspec": {
   "display_name": "R",
   "language": "R",
   "name": "ir"
  },
  "language_info": {
   "codemirror_mode": "r",
   "file_extension": ".r",
   "mimetype": "text/x-r-source",
   "name": "R",
   "pygments_lexer": "r",
   "version": "3.4.4"
  }
 },
 "nbformat": 4,
 "nbformat_minor": 1
}
